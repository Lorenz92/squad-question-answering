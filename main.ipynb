{
 "cells": [
  {
   "cell_type": "markdown",
   "metadata": {},
   "source": [
    "# Question answering on the SQuAD dataset"
   ]
  },
  {
   "cell_type": "markdown",
   "metadata": {},
   "source": [
    "## Colab requirements"
   ]
  },
  {
   "cell_type": "markdown",
   "metadata": {
    "execution": {
     "iopub.execute_input": "2021-01-18T15:12:30.609774Z",
     "iopub.status.busy": "2021-01-18T15:12:30.609319Z",
     "iopub.status.idle": "2021-01-18T15:12:30.701692Z"
    }
   },
   "source": [
    "Before restarting runtime (remeber to select GPU runtime)$\\dots$"
   ]
  },
  {
   "cell_type": "code",
   "execution_count": null,
   "metadata": {},
   "outputs": [],
   "source": [
    "!git clone https://github.com/Wadaboa/squad-question-answering.git\n",
    "!pip install -r squad-question-answering/init/base_requirements.txt"
   ]
  },
  {
   "cell_type": "markdown",
   "metadata": {},
   "source": [
    "After restarting runtime$\\dots$"
   ]
  },
  {
   "cell_type": "code",
   "execution_count": null,
   "metadata": {},
   "outputs": [],
   "source": [
    "import os, sys\n",
    "\n",
    "sys.path.insert(0, \"/content/squad-question-answering\")\n",
    "os.chdir(\"/content/squad-question-answering\")"
   ]
  },
  {
   "cell_type": "markdown",
   "metadata": {},
   "source": [
    "## Imports"
   ]
  },
  {
   "cell_type": "code",
   "execution_count": 1,
   "metadata": {
    "execution": {
     "iopub.execute_input": "2021-01-24T08:56:23.637143Z",
     "iopub.status.busy": "2021-01-24T08:56:23.636716Z",
     "iopub.status.idle": "2021-01-24T08:56:26.613139Z",
     "shell.execute_reply": "2021-01-24T08:56:26.611552Z",
     "shell.execute_reply.started": "2021-01-24T08:56:23.637099Z"
    }
   },
   "outputs": [],
   "source": [
    "import os\n",
    "from functools import partial\n",
    "\n",
    "import numpy as np\n",
    "import matplotlib.pyplot as plt\n",
    "import torch\n",
    "import torch.nn as nn\n",
    "import torch.optim as optim\n",
    "import wandb\n",
    "import transformers\n",
    "from transformers.trainer_utils import set_seed\n",
    "\n",
    "import dataset\n",
    "import model\n",
    "import training\n",
    "import tokenizer\n",
    "import utils\n",
    "\n",
    "%load_ext autoreload\n",
    "%autoreload 2"
   ]
  },
  {
   "cell_type": "markdown",
   "metadata": {},
   "source": [
    "## Initialization"
   ]
  },
  {
   "cell_type": "markdown",
   "metadata": {},
   "source": [
    "### Matplotlib"
   ]
  },
  {
   "cell_type": "code",
   "execution_count": 2,
   "metadata": {
    "execution": {
     "iopub.execute_input": "2021-01-24T08:56:26.679578Z",
     "iopub.status.busy": "2021-01-24T08:56:26.679267Z",
     "iopub.status.idle": "2021-01-24T08:56:26.742598Z",
     "shell.execute_reply": "2021-01-24T08:56:26.741323Z",
     "shell.execute_reply.started": "2021-01-24T08:56:26.679542Z"
    }
   },
   "outputs": [],
   "source": [
    "%matplotlib inline\n",
    "plt.rcParams['figure.figsize'] = [8, 6]\n",
    "plt.rcParams['figure.dpi'] = 100\n",
    "plt.rcParams['axes.xmargin'] = .05\n",
    "plt.rcParams['axes.ymargin'] = .05\n",
    "plt.style.use('ggplot')"
   ]
  },
  {
   "cell_type": "markdown",
   "metadata": {},
   "source": [
    "### Weights & biases"
   ]
  },
  {
   "cell_type": "code",
   "execution_count": 3,
   "metadata": {
    "execution": {
     "iopub.execute_input": "2021-01-24T08:56:28.385155Z",
     "iopub.status.busy": "2021-01-24T08:56:28.384820Z",
     "iopub.status.idle": "2021-01-24T08:56:28.455936Z",
     "shell.execute_reply": "2021-01-24T08:56:28.454881Z",
     "shell.execute_reply.started": "2021-01-24T08:56:28.385117Z"
    }
   },
   "outputs": [
    {
     "name": "stdout",
     "output_type": "stream",
     "text": [
      "env: WANDB_PROJECT=squad-qa\n",
      "env: WANDB_ENTITY=wadaboa\n",
      "env: WANDB_MODE=online\n",
      "env: WANDB_RESUME=never\n",
      "env: WANDB_WATCH=false\n",
      "env: WANDB_SILENT=true\n"
     ]
    }
   ],
   "source": [
    "%env WANDB_PROJECT=squad-qa\n",
    "%env WANDB_ENTITY=wadaboa\n",
    "%env WANDB_MODE=online\n",
    "%env WANDB_RESUME=never\n",
    "%env WANDB_WATCH=false\n",
    "%env WANDB_SILENT=true"
   ]
  },
  {
   "cell_type": "code",
   "execution_count": 4,
   "metadata": {
    "execution": {
     "iopub.execute_input": "2021-01-24T08:56:28.630993Z",
     "iopub.status.busy": "2021-01-24T08:56:28.630682Z",
     "iopub.status.idle": "2021-01-24T08:56:30.812634Z",
     "shell.execute_reply": "2021-01-24T08:56:30.810804Z",
     "shell.execute_reply.started": "2021-01-24T08:56:28.630956Z"
    }
   },
   "outputs": [],
   "source": [
    "!wandb login"
   ]
  },
  {
   "cell_type": "code",
   "execution_count": 5,
   "metadata": {
    "execution": {
     "iopub.execute_input": "2021-01-24T08:56:30.893689Z",
     "iopub.status.busy": "2021-01-24T08:56:30.893370Z",
     "iopub.status.idle": "2021-01-24T08:56:32.617524Z",
     "shell.execute_reply": "2021-01-24T08:56:32.615939Z",
     "shell.execute_reply.started": "2021-01-24T08:56:30.893652Z"
    }
   },
   "outputs": [
    {
     "name": "stdout",
     "output_type": "stream",
     "text": [
      "W&B enabled.\n"
     ]
    }
   ],
   "source": [
    "!wandb enabled"
   ]
  },
  {
   "cell_type": "markdown",
   "metadata": {},
   "source": [
    "### PyTorch and numpy"
   ]
  },
  {
   "cell_type": "code",
   "execution_count": 6,
   "metadata": {
    "execution": {
     "iopub.execute_input": "2021-01-24T08:56:32.620438Z",
     "iopub.status.busy": "2021-01-24T08:56:32.619938Z",
     "iopub.status.idle": "2021-01-24T08:56:32.696592Z",
     "shell.execute_reply": "2021-01-24T08:56:32.695485Z",
     "shell.execute_reply.started": "2021-01-24T08:56:32.620391Z"
    }
   },
   "outputs": [],
   "source": [
    "RANDOM_SEED = 42\n",
    "set_seed(RANDOM_SEED)"
   ]
  },
  {
   "cell_type": "code",
   "execution_count": 7,
   "metadata": {
    "execution": {
     "iopub.execute_input": "2021-01-24T08:56:32.761015Z",
     "iopub.status.busy": "2021-01-24T08:56:32.760712Z",
     "iopub.status.idle": "2021-01-24T08:56:32.827791Z",
     "shell.execute_reply": "2021-01-24T08:56:32.826451Z",
     "shell.execute_reply.started": "2021-01-24T08:56:32.760978Z"
    }
   },
   "outputs": [
    {
     "name": "stderr",
     "output_type": "stream",
     "text": [
      "/root/anaconda3/lib/python3.8/site-packages/torch/cuda/__init__.py:52: UserWarning: CUDA initialization: Found no NVIDIA driver on your system. Please check that you have an NVIDIA GPU and installed a driver from http://www.nvidia.com/Download/index.aspx (Triggered internally at  /pytorch/c10/cuda/CUDAFunctions.cpp:100.)\n",
      "  return torch._C._cuda_getDeviceCount() > 0\n"
     ]
    },
    {
     "data": {
      "text/plain": [
       "device(type='cpu')"
      ]
     },
     "execution_count": 7,
     "metadata": {},
     "output_type": "execute_result"
    }
   ],
   "source": [
    "DEVICE = utils.get_device()\n",
    "DEVICE"
   ]
  },
  {
   "cell_type": "markdown",
   "metadata": {},
   "source": [
    "## Preliminaries"
   ]
  },
  {
   "cell_type": "markdown",
   "metadata": {},
   "source": [
    "### Raw data loading"
   ]
  },
  {
   "cell_type": "code",
   "execution_count": 8,
   "metadata": {
    "execution": {
     "iopub.execute_input": "2021-01-24T08:56:35.571948Z",
     "iopub.status.busy": "2021-01-24T08:56:35.571583Z",
     "iopub.status.idle": "2021-01-24T08:56:35.633523Z",
     "shell.execute_reply": "2021-01-24T08:56:35.632305Z",
     "shell.execute_reply.started": "2021-01-24T08:56:35.571908Z"
    }
   },
   "outputs": [],
   "source": [
    "DATA_FOLDER = os.path.join(os.getcwd(), \"data\")\n",
    "TRAIN_DATA_FOLDER = os.path.join(DATA_FOLDER, \"training\")\n",
    "TRAIN_SET_PATH = os.path.join(TRAIN_DATA_FOLDER, \"training_set.json\")\n",
    "TEST_DATA_FOLDER = os.path.join(DATA_FOLDER, \"testing\")\n",
    "TEST_SET_PATH = os.path.join(TEST_DATA_FOLDER, \"test_set.json\")"
   ]
  },
  {
   "cell_type": "code",
   "execution_count": 9,
   "metadata": {
    "execution": {
     "iopub.execute_input": "2021-01-24T08:56:35.845976Z",
     "iopub.status.busy": "2021-01-24T08:56:35.845664Z",
     "iopub.status.idle": "2021-01-24T08:56:36.295904Z",
     "shell.execute_reply": "2021-01-24T08:56:36.294585Z",
     "shell.execute_reply.started": "2021-01-24T08:56:35.845938Z"
    }
   },
   "outputs": [],
   "source": [
    "squad_dataset = dataset.SquadDataset(\n",
    "    train_set_path=TRAIN_SET_PATH, test_set_path=TEST_SET_PATH, subset=0.01\n",
    ")"
   ]
  },
  {
   "cell_type": "code",
   "execution_count": 10,
   "metadata": {
    "execution": {
     "iopub.execute_input": "2021-01-24T08:56:36.365872Z",
     "iopub.status.busy": "2021-01-24T08:56:36.365564Z",
     "iopub.status.idle": "2021-01-24T08:56:36.451127Z",
     "shell.execute_reply": "2021-01-24T08:56:36.449478Z",
     "shell.execute_reply.started": "2021-01-24T08:56:36.365834Z"
    }
   },
   "outputs": [
    {
     "data": {
      "text/html": [
       "<div>\n",
       "<style scoped>\n",
       "    .dataframe tbody tr th:only-of-type {\n",
       "        vertical-align: middle;\n",
       "    }\n",
       "\n",
       "    .dataframe tbody tr th {\n",
       "        vertical-align: top;\n",
       "    }\n",
       "\n",
       "    .dataframe thead th {\n",
       "        text-align: right;\n",
       "    }\n",
       "</style>\n",
       "<table border=\"1\" class=\"dataframe\">\n",
       "  <thead>\n",
       "    <tr style=\"text-align: right;\">\n",
       "      <th></th>\n",
       "      <th>answer_start</th>\n",
       "      <th>answer</th>\n",
       "      <th>title</th>\n",
       "      <th>context</th>\n",
       "      <th>question_id</th>\n",
       "      <th>question</th>\n",
       "      <th>context_id</th>\n",
       "      <th>answer_end</th>\n",
       "    </tr>\n",
       "  </thead>\n",
       "  <tbody>\n",
       "    <tr>\n",
       "      <th>0</th>\n",
       "      <td>167</td>\n",
       "      <td>1735</td>\n",
       "      <td>Institute_of_technology</td>\n",
       "      <td>The world's first institution of technology or...</td>\n",
       "      <td>56de4d9ecffd8e1900b4b7e2</td>\n",
       "      <td>What year was the Banská Akadémia founded?</td>\n",
       "      <td>1860</td>\n",
       "      <td>171</td>\n",
       "    </tr>\n",
       "    <tr>\n",
       "      <th>1</th>\n",
       "      <td>793</td>\n",
       "      <td>SOS-based speed</td>\n",
       "      <td>Film_speed</td>\n",
       "      <td>The standard specifies how speed ratings shoul...</td>\n",
       "      <td>572674a05951b619008f7319</td>\n",
       "      <td>What is another speed that can also be reporte...</td>\n",
       "      <td>9354</td>\n",
       "      <td>808</td>\n",
       "    </tr>\n",
       "    <tr>\n",
       "      <th>2</th>\n",
       "      <td>421</td>\n",
       "      <td>Sumerian temples and palaces</td>\n",
       "      <td>Sumer</td>\n",
       "      <td>The most impressive and famous of Sumerian bui...</td>\n",
       "      <td>5730bb058ab72b1400f9c72c</td>\n",
       "      <td>Where were the use of advanced materials and t...</td>\n",
       "      <td>17505</td>\n",
       "      <td>449</td>\n",
       "    </tr>\n",
       "    <tr>\n",
       "      <th>3</th>\n",
       "      <td>192</td>\n",
       "      <td>mayor</td>\n",
       "      <td>Ann_Arbor,_Michigan</td>\n",
       "      <td>Ann Arbor has a council-manager form of govern...</td>\n",
       "      <td>572781a5f1498d1400e8fa1f</td>\n",
       "      <td>Who is elected every even numbered year?</td>\n",
       "      <td>10585</td>\n",
       "      <td>197</td>\n",
       "    </tr>\n",
       "    <tr>\n",
       "      <th>4</th>\n",
       "      <td>194</td>\n",
       "      <td>decide on the feasibility of building an ICBM ...</td>\n",
       "      <td>John_von_Neumann</td>\n",
       "      <td>Shortly before his death, when he was already ...</td>\n",
       "      <td>572843ce4b864d190016485c</td>\n",
       "      <td>What was the purpose of top secret ICBM commit...</td>\n",
       "      <td>11497</td>\n",
       "      <td>284</td>\n",
       "    </tr>\n",
       "    <tr>\n",
       "      <th>...</th>\n",
       "      <td>...</td>\n",
       "      <td>...</td>\n",
       "      <td>...</td>\n",
       "      <td>...</td>\n",
       "      <td>...</td>\n",
       "      <td>...</td>\n",
       "      <td>...</td>\n",
       "      <td>...</td>\n",
       "    </tr>\n",
       "    <tr>\n",
       "      <th>870</th>\n",
       "      <td>449</td>\n",
       "      <td>The foundation was the biggest early backer of...</td>\n",
       "      <td>Bill_%26_Melinda_Gates_Foundation</td>\n",
       "      <td>A key aspect of the Gates Foundation's U.S. ef...</td>\n",
       "      <td>5725cad2ec44d21400f3d5a0</td>\n",
       "      <td>It was an early backer of what</td>\n",
       "      <td>8521</td>\n",
       "      <td>539</td>\n",
       "    </tr>\n",
       "    <tr>\n",
       "      <th>871</th>\n",
       "      <td>267</td>\n",
       "      <td>Copa del Rey final</td>\n",
       "      <td>FC_Barcelona</td>\n",
       "      <td>On 4 January 2016, Barcelona's transfer ban en...</td>\n",
       "      <td>570c0fedec8fbc190045bc47</td>\n",
       "      <td>What event in February did Barcelona qualify f...</td>\n",
       "      <td>6319</td>\n",
       "      <td>285</td>\n",
       "    </tr>\n",
       "    <tr>\n",
       "      <th>872</th>\n",
       "      <td>1262</td>\n",
       "      <td>Greek manuscripts</td>\n",
       "      <td>Humanism</td>\n",
       "      <td>The humanists' close study of Latin literary t...</td>\n",
       "      <td>57327ed206a3a419008aca8d</td>\n",
       "      <td>What caused a large migration of Greek refuges...</td>\n",
       "      <td>18662</td>\n",
       "      <td>1279</td>\n",
       "    </tr>\n",
       "    <tr>\n",
       "      <th>873</th>\n",
       "      <td>246</td>\n",
       "      <td>American League</td>\n",
       "      <td>Exhibition_game</td>\n",
       "      <td>Several MLB teams used to play regular exhibit...</td>\n",
       "      <td>5727c05eff5b5019007d9449</td>\n",
       "      <td>What league are the Toronto Bluejays in?</td>\n",
       "      <td>13088</td>\n",
       "      <td>261</td>\n",
       "    </tr>\n",
       "    <tr>\n",
       "      <th>874</th>\n",
       "      <td>144</td>\n",
       "      <td>1747</td>\n",
       "      <td>Edmund_Burke</td>\n",
       "      <td>In 1744, Burke started at Trinity College Dubl...</td>\n",
       "      <td>57269f33dd62a815002e8b3c</td>\n",
       "      <td>When did Edmund Burke start a debate club?</td>\n",
       "      <td>10747</td>\n",
       "      <td>148</td>\n",
       "    </tr>\n",
       "  </tbody>\n",
       "</table>\n",
       "<p>875 rows × 8 columns</p>\n",
       "</div>"
      ],
      "text/plain": [
       "     answer_start                                             answer  \\\n",
       "0             167                                               1735   \n",
       "1             793                                    SOS-based speed   \n",
       "2             421                       Sumerian temples and palaces   \n",
       "3             192                                              mayor   \n",
       "4             194  decide on the feasibility of building an ICBM ...   \n",
       "..            ...                                                ...   \n",
       "870           449  The foundation was the biggest early backer of...   \n",
       "871           267                                 Copa del Rey final   \n",
       "872          1262                                  Greek manuscripts   \n",
       "873           246                                    American League   \n",
       "874           144                                               1747   \n",
       "\n",
       "                                 title  \\\n",
       "0              Institute_of_technology   \n",
       "1                           Film_speed   \n",
       "2                                Sumer   \n",
       "3                  Ann_Arbor,_Michigan   \n",
       "4                     John_von_Neumann   \n",
       "..                                 ...   \n",
       "870  Bill_%26_Melinda_Gates_Foundation   \n",
       "871                       FC_Barcelona   \n",
       "872                           Humanism   \n",
       "873                    Exhibition_game   \n",
       "874                       Edmund_Burke   \n",
       "\n",
       "                                               context  \\\n",
       "0    The world's first institution of technology or...   \n",
       "1    The standard specifies how speed ratings shoul...   \n",
       "2    The most impressive and famous of Sumerian bui...   \n",
       "3    Ann Arbor has a council-manager form of govern...   \n",
       "4    Shortly before his death, when he was already ...   \n",
       "..                                                 ...   \n",
       "870  A key aspect of the Gates Foundation's U.S. ef...   \n",
       "871  On 4 January 2016, Barcelona's transfer ban en...   \n",
       "872  The humanists' close study of Latin literary t...   \n",
       "873  Several MLB teams used to play regular exhibit...   \n",
       "874  In 1744, Burke started at Trinity College Dubl...   \n",
       "\n",
       "                  question_id  \\\n",
       "0    56de4d9ecffd8e1900b4b7e2   \n",
       "1    572674a05951b619008f7319   \n",
       "2    5730bb058ab72b1400f9c72c   \n",
       "3    572781a5f1498d1400e8fa1f   \n",
       "4    572843ce4b864d190016485c   \n",
       "..                        ...   \n",
       "870  5725cad2ec44d21400f3d5a0   \n",
       "871  570c0fedec8fbc190045bc47   \n",
       "872  57327ed206a3a419008aca8d   \n",
       "873  5727c05eff5b5019007d9449   \n",
       "874  57269f33dd62a815002e8b3c   \n",
       "\n",
       "                                              question  context_id  answer_end  \n",
       "0           What year was the Banská Akadémia founded?        1860         171  \n",
       "1    What is another speed that can also be reporte...        9354         808  \n",
       "2    Where were the use of advanced materials and t...       17505         449  \n",
       "3             Who is elected every even numbered year?       10585         197  \n",
       "4    What was the purpose of top secret ICBM commit...       11497         284  \n",
       "..                                                 ...         ...         ...  \n",
       "870                    It was an early backer of what         8521         539  \n",
       "871  What event in February did Barcelona qualify f...        6319         285  \n",
       "872  What caused a large migration of Greek refuges...       18662        1279  \n",
       "873           What league are the Toronto Bluejays in?       13088         261  \n",
       "874         When did Edmund Burke start a debate club?       10747         148  \n",
       "\n",
       "[875 rows x 8 columns]"
      ]
     },
     "execution_count": 10,
     "metadata": {},
     "output_type": "execute_result"
    }
   ],
   "source": [
    "squad_dataset.raw_train_df"
   ]
  },
  {
   "cell_type": "code",
   "execution_count": 11,
   "metadata": {
    "execution": {
     "iopub.execute_input": "2021-01-24T08:56:36.669984Z",
     "iopub.status.busy": "2021-01-24T08:56:36.669669Z",
     "iopub.status.idle": "2021-01-24T08:56:36.748962Z",
     "shell.execute_reply": "2021-01-24T08:56:36.747847Z",
     "shell.execute_reply.started": "2021-01-24T08:56:36.669946Z"
    }
   },
   "outputs": [
    {
     "data": {
      "text/html": [
       "<div>\n",
       "<style scoped>\n",
       "    .dataframe tbody tr th:only-of-type {\n",
       "        vertical-align: middle;\n",
       "    }\n",
       "\n",
       "    .dataframe tbody tr th {\n",
       "        vertical-align: top;\n",
       "    }\n",
       "\n",
       "    .dataframe thead th {\n",
       "        text-align: right;\n",
       "    }\n",
       "</style>\n",
       "<table border=\"1\" class=\"dataframe\">\n",
       "  <thead>\n",
       "    <tr style=\"text-align: right;\">\n",
       "      <th></th>\n",
       "      <th>answer_start</th>\n",
       "      <th>answer</th>\n",
       "      <th>title</th>\n",
       "      <th>context</th>\n",
       "      <th>question_id</th>\n",
       "      <th>question</th>\n",
       "      <th>context_id</th>\n",
       "      <th>answer_end</th>\n",
       "    </tr>\n",
       "  </thead>\n",
       "  <tbody>\n",
       "    <tr>\n",
       "      <th>0</th>\n",
       "      <td>250</td>\n",
       "      <td>instantaneously in action-reaction pairs</td>\n",
       "      <td>Force</td>\n",
       "      <td>Tension forces can be modeled using ideal stri...</td>\n",
       "      <td>57379ed81c456719005744d7</td>\n",
       "      <td>In what way do idea strings transmit tesion fo...</td>\n",
       "      <td>2058</td>\n",
       "      <td>290</td>\n",
       "    </tr>\n",
       "    <tr>\n",
       "      <th>1</th>\n",
       "      <td>187</td>\n",
       "      <td>Egg of Columbus</td>\n",
       "      <td>Nikola_Tesla</td>\n",
       "      <td>Tesla also explained the principles of the rot...</td>\n",
       "      <td>56e0ed557aa994140058e7dd</td>\n",
       "      <td>What was Tesla's device called?</td>\n",
       "      <td>181</td>\n",
       "      <td>202</td>\n",
       "    </tr>\n",
       "    <tr>\n",
       "      <th>2</th>\n",
       "      <td>539</td>\n",
       "      <td>NP-complete Boolean satisfiability problem</td>\n",
       "      <td>Computational_complexity_theory</td>\n",
       "      <td>What intractability means in practice is open ...</td>\n",
       "      <td>56e1febfe3433e140042323a</td>\n",
       "      <td>What is the example of another problem charact...</td>\n",
       "      <td>282</td>\n",
       "      <td>581</td>\n",
       "    </tr>\n",
       "    <tr>\n",
       "      <th>3</th>\n",
       "      <td>1332</td>\n",
       "      <td>Treaty provisions</td>\n",
       "      <td>European_Union_law</td>\n",
       "      <td>Although it is generally accepted that EU law ...</td>\n",
       "      <td>57269bb8708984140094cb98</td>\n",
       "      <td>What are EU Regulations essentially the same a...</td>\n",
       "      <td>759</td>\n",
       "      <td>1349</td>\n",
       "    </tr>\n",
       "    <tr>\n",
       "      <th>4</th>\n",
       "      <td>181</td>\n",
       "      <td>Gerhard</td>\n",
       "      <td>Martin_Luther</td>\n",
       "      <td>The Lutheran theologian Franz Pieper observed ...</td>\n",
       "      <td>56f884cba6d7ea1400e17708</td>\n",
       "      <td>What theologian differed in views about the so...</td>\n",
       "      <td>412</td>\n",
       "      <td>188</td>\n",
       "    </tr>\n",
       "    <tr>\n",
       "      <th>...</th>\n",
       "      <td>...</td>\n",
       "      <td>...</td>\n",
       "      <td>...</td>\n",
       "      <td>...</td>\n",
       "      <td>...</td>\n",
       "      <td>...</td>\n",
       "      <td>...</td>\n",
       "      <td>...</td>\n",
       "    </tr>\n",
       "    <tr>\n",
       "      <th>177</th>\n",
       "      <td>313</td>\n",
       "      <td>180</td>\n",
       "      <td>Steam_engine</td>\n",
       "      <td>With two-cylinder compounds used in railway wo...</td>\n",
       "      <td>5711475ca58dae1900cd6d8b</td>\n",
       "      <td>In a 4-cylinder compound engine, what degree w...</td>\n",
       "      <td>587</td>\n",
       "      <td>316</td>\n",
       "    </tr>\n",
       "    <tr>\n",
       "      <th>178</th>\n",
       "      <td>465</td>\n",
       "      <td>Conservative</td>\n",
       "      <td>Scottish_Parliament</td>\n",
       "      <td>A procedural consequence of the establishment ...</td>\n",
       "      <td>572fdd03a23a5019007fcaa0</td>\n",
       "      <td>What party had a victory in the 2015 UK election?</td>\n",
       "      <td>1846</td>\n",
       "      <td>477</td>\n",
       "    </tr>\n",
       "    <tr>\n",
       "      <th>179</th>\n",
       "      <td>402</td>\n",
       "      <td>the Lek</td>\n",
       "      <td>Rhine</td>\n",
       "      <td>The other third of the water flows through the...</td>\n",
       "      <td>572ff56304bcaa1900d76f30</td>\n",
       "      <td>What does the Nederrijn change it's name to?</td>\n",
       "      <td>1781</td>\n",
       "      <td>409</td>\n",
       "    </tr>\n",
       "    <tr>\n",
       "      <th>180</th>\n",
       "      <td>276</td>\n",
       "      <td>other parts</td>\n",
       "      <td>Force</td>\n",
       "      <td>Newton's laws and Newtonian mechanics in gener...</td>\n",
       "      <td>5737a0acc3c5551400e51f4a</td>\n",
       "      <td>What may a force on one part of an object affect?</td>\n",
       "      <td>2059</td>\n",
       "      <td>287</td>\n",
       "    </tr>\n",
       "    <tr>\n",
       "      <th>181</th>\n",
       "      <td>121</td>\n",
       "      <td>nineteenth</td>\n",
       "      <td>Private_school</td>\n",
       "      <td>Some of the oldest schools in South Africa are...</td>\n",
       "      <td>5727515f708984140094dc15</td>\n",
       "      <td>In what century did missionaries notably estab...</td>\n",
       "      <td>1341</td>\n",
       "      <td>131</td>\n",
       "    </tr>\n",
       "  </tbody>\n",
       "</table>\n",
       "<p>182 rows × 8 columns</p>\n",
       "</div>"
      ],
      "text/plain": [
       "     answer_start                                      answer  \\\n",
       "0             250    instantaneously in action-reaction pairs   \n",
       "1             187                             Egg of Columbus   \n",
       "2             539  NP-complete Boolean satisfiability problem   \n",
       "3            1332                           Treaty provisions   \n",
       "4             181                                     Gerhard   \n",
       "..            ...                                         ...   \n",
       "177           313                                         180   \n",
       "178           465                                Conservative   \n",
       "179           402                                     the Lek   \n",
       "180           276                                 other parts   \n",
       "181           121                                  nineteenth   \n",
       "\n",
       "                               title  \\\n",
       "0                              Force   \n",
       "1                       Nikola_Tesla   \n",
       "2    Computational_complexity_theory   \n",
       "3                 European_Union_law   \n",
       "4                      Martin_Luther   \n",
       "..                               ...   \n",
       "177                     Steam_engine   \n",
       "178              Scottish_Parliament   \n",
       "179                            Rhine   \n",
       "180                            Force   \n",
       "181                   Private_school   \n",
       "\n",
       "                                               context  \\\n",
       "0    Tension forces can be modeled using ideal stri...   \n",
       "1    Tesla also explained the principles of the rot...   \n",
       "2    What intractability means in practice is open ...   \n",
       "3    Although it is generally accepted that EU law ...   \n",
       "4    The Lutheran theologian Franz Pieper observed ...   \n",
       "..                                                 ...   \n",
       "177  With two-cylinder compounds used in railway wo...   \n",
       "178  A procedural consequence of the establishment ...   \n",
       "179  The other third of the water flows through the...   \n",
       "180  Newton's laws and Newtonian mechanics in gener...   \n",
       "181  Some of the oldest schools in South Africa are...   \n",
       "\n",
       "                  question_id  \\\n",
       "0    57379ed81c456719005744d7   \n",
       "1    56e0ed557aa994140058e7dd   \n",
       "2    56e1febfe3433e140042323a   \n",
       "3    57269bb8708984140094cb98   \n",
       "4    56f884cba6d7ea1400e17708   \n",
       "..                        ...   \n",
       "177  5711475ca58dae1900cd6d8b   \n",
       "178  572fdd03a23a5019007fcaa0   \n",
       "179  572ff56304bcaa1900d76f30   \n",
       "180  5737a0acc3c5551400e51f4a   \n",
       "181  5727515f708984140094dc15   \n",
       "\n",
       "                                              question  context_id  answer_end  \n",
       "0    In what way do idea strings transmit tesion fo...        2058         290  \n",
       "1                      What was Tesla's device called?         181         202  \n",
       "2    What is the example of another problem charact...         282         581  \n",
       "3    What are EU Regulations essentially the same a...         759        1349  \n",
       "4    What theologian differed in views about the so...         412         188  \n",
       "..                                                 ...         ...         ...  \n",
       "177  In a 4-cylinder compound engine, what degree w...         587         316  \n",
       "178  What party had a victory in the 2015 UK election?        1846         477  \n",
       "179       What does the Nederrijn change it's name to?        1781         409  \n",
       "180  What may a force on one part of an object affect?        2059         287  \n",
       "181  In what century did missionaries notably estab...        1341         131  \n",
       "\n",
       "[182 rows x 8 columns]"
      ]
     },
     "execution_count": 11,
     "metadata": {},
     "output_type": "execute_result"
    }
   ],
   "source": [
    "squad_dataset.raw_test_df"
   ]
  },
  {
   "cell_type": "markdown",
   "metadata": {},
   "source": [
    "### Embeddings"
   ]
  },
  {
   "cell_type": "code",
   "execution_count": 12,
   "metadata": {
    "execution": {
     "iopub.execute_input": "2021-01-24T08:56:39.517426Z",
     "iopub.status.busy": "2021-01-24T08:56:39.517038Z",
     "iopub.status.idle": "2021-01-24T08:56:39.578608Z",
     "shell.execute_reply": "2021-01-24T08:56:39.577524Z",
     "shell.execute_reply.started": "2021-01-24T08:56:39.517385Z"
    }
   },
   "outputs": [],
   "source": [
    "UNK_TOKEN = \"[UNK]\"\n",
    "PAD_TOKEN = \"[PAD]\""
   ]
  },
  {
   "cell_type": "markdown",
   "metadata": {},
   "source": [
    "- FastText: \n",
    "    - _fasttext-wiki-news-subwords_ (dimensions: 300)\n",
    "- GloVe:\n",
    "    - _glove-twitter_ (dimensions: 25. 50, 100, 200)\n",
    "    - _glove-wiki-gigaword_ (dimensions: 50, 100, 200, 300)\n",
    "- Word2Vec:\n",
    "    - _word2vec-google-news_ (dimensions: 300)\n",
    "    - _word2vec-ruscorpora_ (dimensions: 300)"
   ]
  },
  {
   "cell_type": "code",
   "execution_count": 13,
   "metadata": {
    "execution": {
     "iopub.execute_input": "2021-01-24T08:56:40.360239Z",
     "iopub.status.busy": "2021-01-24T08:56:40.359925Z",
     "iopub.status.idle": "2021-01-24T08:58:15.769984Z",
     "shell.execute_reply": "2021-01-24T08:58:15.768189Z",
     "shell.execute_reply.started": "2021-01-24T08:56:40.360202Z"
    }
   },
   "outputs": [],
   "source": [
    "# See https://github.com/RaRe-Technologies/gensim-data\n",
    "GLOVE_EMBEDDING_DIMENSION = 25\n",
    "GLOVE_MODEL_NAME = \"glove-twitter\"\n",
    "glove_embedding_model, glove_vocab = utils.load_embedding_model(\n",
    "    GLOVE_MODEL_NAME,\n",
    "    embedding_dimension=GLOVE_EMBEDDING_DIMENSION,\n",
    "    unk_token=UNK_TOKEN,\n",
    "    pad_token=PAD_TOKEN,\n",
    ")"
   ]
  },
  {
   "cell_type": "code",
   "execution_count": 14,
   "metadata": {
    "execution": {
     "iopub.execute_input": "2021-01-24T08:58:17.683429Z",
     "iopub.status.busy": "2021-01-24T08:58:17.683105Z",
     "iopub.status.idle": "2021-01-24T08:58:19.030893Z",
     "shell.execute_reply": "2021-01-24T08:58:19.029594Z",
     "shell.execute_reply.started": "2021-01-24T08:58:17.683388Z"
    }
   },
   "outputs": [],
   "source": [
    "glove_embedding_layer = model.get_embedding_module(\n",
    "    glove_embedding_model, pad_id=glove_vocab[PAD_TOKEN]\n",
    ")"
   ]
  },
  {
   "cell_type": "markdown",
   "metadata": {},
   "source": [
    "## Utils"
   ]
  },
  {
   "cell_type": "code",
   "execution_count": 54,
   "metadata": {
    "execution": {
     "iopub.execute_input": "2021-01-24T09:51:40.239263Z",
     "iopub.status.busy": "2021-01-24T09:51:40.238931Z",
     "iopub.status.idle": "2021-01-24T09:51:40.307159Z",
     "shell.execute_reply": "2021-01-24T09:51:40.305669Z",
     "shell.execute_reply.started": "2021-01-24T09:51:40.239222Z"
    }
   },
   "outputs": [],
   "source": [
    "TRAINER_ARGS = utils.get_default_trainer_args()"
   ]
  },
  {
   "cell_type": "markdown",
   "metadata": {},
   "source": [
    "### Standard data loading"
   ]
  },
  {
   "cell_type": "code",
   "execution_count": 48,
   "metadata": {
    "execution": {
     "iopub.execute_input": "2021-01-24T09:51:27.536532Z",
     "iopub.status.busy": "2021-01-24T09:51:27.536106Z",
     "iopub.status.idle": "2021-01-24T09:51:27.604950Z",
     "shell.execute_reply": "2021-01-24T09:51:27.603775Z",
     "shell.execute_reply.started": "2021-01-24T09:51:27.536488Z"
    }
   },
   "outputs": [],
   "source": [
    "MAX_CONTEXT_TOKENS = 300"
   ]
  },
  {
   "cell_type": "code",
   "execution_count": 49,
   "metadata": {
    "execution": {
     "iopub.execute_input": "2021-01-24T09:51:29.571734Z",
     "iopub.status.busy": "2021-01-24T09:51:29.571395Z",
     "iopub.status.idle": "2021-01-24T09:51:33.310112Z",
     "shell.execute_reply": "2021-01-24T09:51:33.307927Z",
     "shell.execute_reply.started": "2021-01-24T09:51:29.571692Z"
    }
   },
   "outputs": [],
   "source": [
    "standard_tokenizer = tokenizer.get_standard_tokenizer(\n",
    "    glove_vocab,\n",
    "    MAX_CONTEXT_TOKENS,\n",
    "    unk_token=UNK_TOKEN,\n",
    "    pad_token=PAD_TOKEN,\n",
    "    device=DEVICE,\n",
    ")"
   ]
  },
  {
   "cell_type": "code",
   "execution_count": 50,
   "metadata": {
    "execution": {
     "iopub.execute_input": "2021-01-24T09:51:33.314056Z",
     "iopub.status.busy": "2021-01-24T09:51:33.313694Z",
     "iopub.status.idle": "2021-01-24T09:51:34.182808Z",
     "shell.execute_reply": "2021-01-24T09:51:34.181540Z",
     "shell.execute_reply.started": "2021-01-24T09:51:33.314008Z"
    }
   },
   "outputs": [],
   "source": [
    "standard_dm = dataset.SquadDataManager(squad_dataset, standard_tokenizer, device=DEVICE)"
   ]
  },
  {
   "cell_type": "code",
   "execution_count": 51,
   "metadata": {
    "execution": {
     "iopub.execute_input": "2021-01-24T09:51:34.185265Z",
     "iopub.status.busy": "2021-01-24T09:51:34.184939Z",
     "iopub.status.idle": "2021-01-24T09:51:34.295919Z",
     "shell.execute_reply": "2021-01-24T09:51:34.294688Z",
     "shell.execute_reply.started": "2021-01-24T09:51:34.185223Z"
    }
   },
   "outputs": [
    {
     "data": {
      "text/html": [
       "<div>\n",
       "<style scoped>\n",
       "    .dataframe tbody tr th:only-of-type {\n",
       "        vertical-align: middle;\n",
       "    }\n",
       "\n",
       "    .dataframe tbody tr th {\n",
       "        vertical-align: top;\n",
       "    }\n",
       "\n",
       "    .dataframe thead th {\n",
       "        text-align: right;\n",
       "    }\n",
       "</style>\n",
       "<table border=\"1\" class=\"dataframe\">\n",
       "  <thead>\n",
       "    <tr style=\"text-align: right;\">\n",
       "      <th></th>\n",
       "      <th>question_id</th>\n",
       "      <th>question</th>\n",
       "      <th>title</th>\n",
       "      <th>context_id</th>\n",
       "      <th>context</th>\n",
       "      <th>answer</th>\n",
       "      <th>answer_start</th>\n",
       "      <th>answer_end</th>\n",
       "    </tr>\n",
       "  </thead>\n",
       "  <tbody>\n",
       "    <tr>\n",
       "      <th>0</th>\n",
       "      <td>56cd788162d2951400fa65e7</td>\n",
       "      <td>What was Apple's highest quarterly profit as o...</td>\n",
       "      <td>IPod</td>\n",
       "      <td>415</td>\n",
       "      <td>On January 22, 2008, Apple reported the best q...</td>\n",
       "      <td>[$1.58 billion]</td>\n",
       "      <td>[184]</td>\n",
       "      <td>[197]</td>\n",
       "    </tr>\n",
       "    <tr>\n",
       "      <th>1</th>\n",
       "      <td>56cda41362d2951400fa679b</td>\n",
       "      <td>How many people would be in the orchestra Kond...</td>\n",
       "      <td>The_Legend_of_Zelda:_Twilight_Princess</td>\n",
       "      <td>453</td>\n",
       "      <td>Media requests at the trade show prompted Kond...</td>\n",
       "      <td>[50]</td>\n",
       "      <td>[217]</td>\n",
       "      <td>[219]</td>\n",
       "    </tr>\n",
       "    <tr>\n",
       "      <th>2</th>\n",
       "      <td>56cda8a662d2951400fa67d6</td>\n",
       "      <td>Where did Twilight Princess place among Wii ti...</td>\n",
       "      <td>The_Legend_of_Zelda:_Twilight_Princess</td>\n",
       "      <td>460</td>\n",
       "      <td>Twilight Princess received the awards for Best...</td>\n",
       "      <td>[4th]</td>\n",
       "      <td>[777]</td>\n",
       "      <td>[780]</td>\n",
       "    </tr>\n",
       "    <tr>\n",
       "      <th>3</th>\n",
       "      <td>56cdcfee62d2951400fa687a</td>\n",
       "      <td>Who performs research for Bond?</td>\n",
       "      <td>Spectre_(2015_film)</td>\n",
       "      <td>467</td>\n",
       "      <td>Bond disobeys M's order and travels to Rome to...</td>\n",
       "      <td>[Moneypenny]</td>\n",
       "      <td>[388]</td>\n",
       "      <td>[398]</td>\n",
       "    </tr>\n",
       "    <tr>\n",
       "      <th>4</th>\n",
       "      <td>56cdd28562d2951400fa68bd</td>\n",
       "      <td>Who does M fight with?</td>\n",
       "      <td>Spectre_(2015_film)</td>\n",
       "      <td>470</td>\n",
       "      <td>Bond and Swann return to London where they mee...</td>\n",
       "      <td>[C]</td>\n",
       "      <td>[105]</td>\n",
       "      <td>[106]</td>\n",
       "    </tr>\n",
       "    <tr>\n",
       "      <th>...</th>\n",
       "      <td>...</td>\n",
       "      <td>...</td>\n",
       "      <td>...</td>\n",
       "      <td>...</td>\n",
       "      <td>...</td>\n",
       "      <td>...</td>\n",
       "      <td>...</td>\n",
       "      <td>...</td>\n",
       "    </tr>\n",
       "    <tr>\n",
       "      <th>692</th>\n",
       "      <td>5734580c879d6814001ca544</td>\n",
       "      <td>What official is in charge of Richmond's execu...</td>\n",
       "      <td>Richmond,_Virginia</td>\n",
       "      <td>17037</td>\n",
       "      <td>Richmond city government consists of a city co...</td>\n",
       "      <td>[mayor]</td>\n",
       "      <td>[183]</td>\n",
       "      <td>[188]</td>\n",
       "    </tr>\n",
       "    <tr>\n",
       "      <th>693</th>\n",
       "      <td>57359c97e853931400426a3f</td>\n",
       "      <td>What is the English translation of Mandap?</td>\n",
       "      <td>Kathmandu</td>\n",
       "      <td>18835</td>\n",
       "      <td>The city of Kathmandu is named after Kasthaman...</td>\n",
       "      <td>[covered shelter]</td>\n",
       "      <td>[155]</td>\n",
       "      <td>[170]</td>\n",
       "    </tr>\n",
       "    <tr>\n",
       "      <th>694</th>\n",
       "      <td>57359f64e853931400426a7e</td>\n",
       "      <td>What notable Nepali figure died in a Kathmandu...</td>\n",
       "      <td>Kathmandu</td>\n",
       "      <td>18841</td>\n",
       "      <td>The Licchavi era was followed by the Malla era...</td>\n",
       "      <td>[Abhaya Malla]</td>\n",
       "      <td>[427]</td>\n",
       "      <td>[439]</td>\n",
       "    </tr>\n",
       "    <tr>\n",
       "      <th>695</th>\n",
       "      <td>5735a721e853931400426aa9</td>\n",
       "      <td>What are Madhyapur Thimi, Kirtipur and Bhaktapur?</td>\n",
       "      <td>Kathmandu</td>\n",
       "      <td>18846</td>\n",
       "      <td>The agglomeration of Kathmandu has not yet bee...</td>\n",
       "      <td>[municipalities]</td>\n",
       "      <td>[441]</td>\n",
       "      <td>[455]</td>\n",
       "    </tr>\n",
       "    <tr>\n",
       "      <th>696</th>\n",
       "      <td>5735ad64e853931400426abe</td>\n",
       "      <td>When did construction on the Tribhuvan Highway...</td>\n",
       "      <td>Kathmandu</td>\n",
       "      <td>18851</td>\n",
       "      <td>Tourism is considered another important indust...</td>\n",
       "      <td>[1956]</td>\n",
       "      <td>[201]</td>\n",
       "      <td>[205]</td>\n",
       "    </tr>\n",
       "  </tbody>\n",
       "</table>\n",
       "<p>697 rows × 8 columns</p>\n",
       "</div>"
      ],
      "text/plain": [
       "                  question_id  \\\n",
       "0    56cd788162d2951400fa65e7   \n",
       "1    56cda41362d2951400fa679b   \n",
       "2    56cda8a662d2951400fa67d6   \n",
       "3    56cdcfee62d2951400fa687a   \n",
       "4    56cdd28562d2951400fa68bd   \n",
       "..                        ...   \n",
       "692  5734580c879d6814001ca544   \n",
       "693  57359c97e853931400426a3f   \n",
       "694  57359f64e853931400426a7e   \n",
       "695  5735a721e853931400426aa9   \n",
       "696  5735ad64e853931400426abe   \n",
       "\n",
       "                                              question  \\\n",
       "0    What was Apple's highest quarterly profit as o...   \n",
       "1    How many people would be in the orchestra Kond...   \n",
       "2    Where did Twilight Princess place among Wii ti...   \n",
       "3                      Who performs research for Bond?   \n",
       "4                               Who does M fight with?   \n",
       "..                                                 ...   \n",
       "692  What official is in charge of Richmond's execu...   \n",
       "693         What is the English translation of Mandap?   \n",
       "694  What notable Nepali figure died in a Kathmandu...   \n",
       "695  What are Madhyapur Thimi, Kirtipur and Bhaktapur?   \n",
       "696  When did construction on the Tribhuvan Highway...   \n",
       "\n",
       "                                      title  context_id  \\\n",
       "0                                      IPod         415   \n",
       "1    The_Legend_of_Zelda:_Twilight_Princess         453   \n",
       "2    The_Legend_of_Zelda:_Twilight_Princess         460   \n",
       "3                       Spectre_(2015_film)         467   \n",
       "4                       Spectre_(2015_film)         470   \n",
       "..                                      ...         ...   \n",
       "692                      Richmond,_Virginia       17037   \n",
       "693                               Kathmandu       18835   \n",
       "694                               Kathmandu       18841   \n",
       "695                               Kathmandu       18846   \n",
       "696                               Kathmandu       18851   \n",
       "\n",
       "                                               context             answer  \\\n",
       "0    On January 22, 2008, Apple reported the best q...    [$1.58 billion]   \n",
       "1    Media requests at the trade show prompted Kond...               [50]   \n",
       "2    Twilight Princess received the awards for Best...              [4th]   \n",
       "3    Bond disobeys M's order and travels to Rome to...       [Moneypenny]   \n",
       "4    Bond and Swann return to London where they mee...                [C]   \n",
       "..                                                 ...                ...   \n",
       "692  Richmond city government consists of a city co...            [mayor]   \n",
       "693  The city of Kathmandu is named after Kasthaman...  [covered shelter]   \n",
       "694  The Licchavi era was followed by the Malla era...     [Abhaya Malla]   \n",
       "695  The agglomeration of Kathmandu has not yet bee...   [municipalities]   \n",
       "696  Tourism is considered another important indust...             [1956]   \n",
       "\n",
       "    answer_start answer_end  \n",
       "0          [184]      [197]  \n",
       "1          [217]      [219]  \n",
       "2          [777]      [780]  \n",
       "3          [388]      [398]  \n",
       "4          [105]      [106]  \n",
       "..           ...        ...  \n",
       "692        [183]      [188]  \n",
       "693        [155]      [170]  \n",
       "694        [427]      [439]  \n",
       "695        [441]      [455]  \n",
       "696        [201]      [205]  \n",
       "\n",
       "[697 rows x 8 columns]"
      ]
     },
     "execution_count": 51,
     "metadata": {},
     "output_type": "execute_result"
    }
   ],
   "source": [
    "standard_dm.train_df"
   ]
  },
  {
   "cell_type": "code",
   "execution_count": 52,
   "metadata": {
    "execution": {
     "iopub.execute_input": "2021-01-24T09:51:34.297864Z",
     "iopub.status.busy": "2021-01-24T09:51:34.297554Z",
     "iopub.status.idle": "2021-01-24T09:51:34.400836Z",
     "shell.execute_reply": "2021-01-24T09:51:34.399517Z",
     "shell.execute_reply.started": "2021-01-24T09:51:34.297826Z"
    }
   },
   "outputs": [
    {
     "data": {
      "text/html": [
       "<div>\n",
       "<style scoped>\n",
       "    .dataframe tbody tr th:only-of-type {\n",
       "        vertical-align: middle;\n",
       "    }\n",
       "\n",
       "    .dataframe tbody tr th {\n",
       "        vertical-align: top;\n",
       "    }\n",
       "\n",
       "    .dataframe thead th {\n",
       "        text-align: right;\n",
       "    }\n",
       "</style>\n",
       "<table border=\"1\" class=\"dataframe\">\n",
       "  <thead>\n",
       "    <tr style=\"text-align: right;\">\n",
       "      <th></th>\n",
       "      <th>question_id</th>\n",
       "      <th>question</th>\n",
       "      <th>title</th>\n",
       "      <th>context_id</th>\n",
       "      <th>context</th>\n",
       "      <th>answer</th>\n",
       "      <th>answer_start</th>\n",
       "      <th>answer_end</th>\n",
       "    </tr>\n",
       "  </thead>\n",
       "  <tbody>\n",
       "    <tr>\n",
       "      <th>0</th>\n",
       "      <td>56be8e353aeaaa14008c90c6</td>\n",
       "      <td>\"Charlie's Angels\" featured which single from ...</td>\n",
       "      <td>Beyoncé</td>\n",
       "      <td>63</td>\n",
       "      <td>The remaining band members recorded \"Independe...</td>\n",
       "      <td>[Independent Women Part I]</td>\n",
       "      <td>[37]</td>\n",
       "      <td>[61]</td>\n",
       "    </tr>\n",
       "    <tr>\n",
       "      <th>1</th>\n",
       "      <td>56be9eea3aeaaa14008c9184</td>\n",
       "      <td>How many awards did Beyonce take home with her...</td>\n",
       "      <td>Beyoncé</td>\n",
       "      <td>79</td>\n",
       "      <td>At the 57th Annual Grammy Awards in February 2...</td>\n",
       "      <td>[three]</td>\n",
       "      <td>[108]</td>\n",
       "      <td>[113]</td>\n",
       "    </tr>\n",
       "    <tr>\n",
       "      <th>2</th>\n",
       "      <td>56bf89cfa10cfb1400551163</td>\n",
       "      <td>What album caused a lawsuit to be filed in 2001?</td>\n",
       "      <td>Beyoncé</td>\n",
       "      <td>63</td>\n",
       "      <td>The remaining band members recorded \"Independe...</td>\n",
       "      <td>[Survivor]</td>\n",
       "      <td>[593]</td>\n",
       "      <td>[601]</td>\n",
       "    </tr>\n",
       "    <tr>\n",
       "      <th>3</th>\n",
       "      <td>56bf9c70a10cfb14005511bb</td>\n",
       "      <td>In what year did Beyonce have her hiatus?</td>\n",
       "      <td>Beyoncé</td>\n",
       "      <td>72</td>\n",
       "      <td>Beyoncé announced a hiatus from her music care...</td>\n",
       "      <td>[2010]</td>\n",
       "      <td>[60]</td>\n",
       "      <td>[64]</td>\n",
       "    </tr>\n",
       "    <tr>\n",
       "      <th>4</th>\n",
       "      <td>56cc27346d243a140015eebb</td>\n",
       "      <td>During what years did the Mongol leader Kublai...</td>\n",
       "      <td>Sino-Tibetan_relations_during_the_Ming_dynasty</td>\n",
       "      <td>300</td>\n",
       "      <td>Some scholars note that Tibetan leaders during...</td>\n",
       "      <td>[1402–1424]</td>\n",
       "      <td>[739]</td>\n",
       "      <td>[748]</td>\n",
       "    </tr>\n",
       "    <tr>\n",
       "      <th>...</th>\n",
       "      <td>...</td>\n",
       "      <td>...</td>\n",
       "      <td>...</td>\n",
       "      <td>...</td>\n",
       "      <td>...</td>\n",
       "      <td>...</td>\n",
       "      <td>...</td>\n",
       "      <td>...</td>\n",
       "    </tr>\n",
       "    <tr>\n",
       "      <th>167</th>\n",
       "      <td>57351496879d6814001cab11</td>\n",
       "      <td>Where can safari hunters go which are uninviti...</td>\n",
       "      <td>Hunting</td>\n",
       "      <td>18825</td>\n",
       "      <td>A variety of industries benefit from hunting a...</td>\n",
       "      <td>[remote areas]</td>\n",
       "      <td>[367]</td>\n",
       "      <td>[379]</td>\n",
       "    </tr>\n",
       "    <tr>\n",
       "      <th>168</th>\n",
       "      <td>5735fcb96c16ec1900b928c8</td>\n",
       "      <td>What forbid hunting in the woods with hounds a...</td>\n",
       "      <td>Hunting</td>\n",
       "      <td>18806</td>\n",
       "      <td>From early Christian times, hunting has been f...</td>\n",
       "      <td>[Corpus Juris Canonici]</td>\n",
       "      <td>[98]</td>\n",
       "      <td>[119]</td>\n",
       "    </tr>\n",
       "    <tr>\n",
       "      <th>169</th>\n",
       "      <td>5735ffb96c16ec1900b928e1</td>\n",
       "      <td>Game animals were introduced here by whom?</td>\n",
       "      <td>Hunting</td>\n",
       "      <td>18808</td>\n",
       "      <td>New Zealand has a strong hunting culture. The ...</td>\n",
       "      <td>[acclimatisation societies]</td>\n",
       "      <td>[189]</td>\n",
       "      <td>[214]</td>\n",
       "    </tr>\n",
       "    <tr>\n",
       "      <th>170</th>\n",
       "      <td>573605726c16ec1900b92906</td>\n",
       "      <td>Why are assistants used?</td>\n",
       "      <td>Hunting</td>\n",
       "      <td>18812</td>\n",
       "      <td>Shooting as practised in Britain, as opposed t...</td>\n",
       "      <td>[help load shotguns]</td>\n",
       "      <td>[305]</td>\n",
       "      <td>[323]</td>\n",
       "    </tr>\n",
       "    <tr>\n",
       "      <th>171</th>\n",
       "      <td>5736357e506b47140023659a</td>\n",
       "      <td>What do bison still remain?</td>\n",
       "      <td>Hunting</td>\n",
       "      <td>18831</td>\n",
       "      <td>The American bison is a large bovid which inha...</td>\n",
       "      <td>[near-threatened]</td>\n",
       "      <td>[516]</td>\n",
       "      <td>[531]</td>\n",
       "    </tr>\n",
       "  </tbody>\n",
       "</table>\n",
       "<p>172 rows × 8 columns</p>\n",
       "</div>"
      ],
      "text/plain": [
       "                  question_id  \\\n",
       "0    56be8e353aeaaa14008c90c6   \n",
       "1    56be9eea3aeaaa14008c9184   \n",
       "2    56bf89cfa10cfb1400551163   \n",
       "3    56bf9c70a10cfb14005511bb   \n",
       "4    56cc27346d243a140015eebb   \n",
       "..                        ...   \n",
       "167  57351496879d6814001cab11   \n",
       "168  5735fcb96c16ec1900b928c8   \n",
       "169  5735ffb96c16ec1900b928e1   \n",
       "170  573605726c16ec1900b92906   \n",
       "171  5736357e506b47140023659a   \n",
       "\n",
       "                                              question  \\\n",
       "0    \"Charlie's Angels\" featured which single from ...   \n",
       "1    How many awards did Beyonce take home with her...   \n",
       "2     What album caused a lawsuit to be filed in 2001?   \n",
       "3            In what year did Beyonce have her hiatus?   \n",
       "4    During what years did the Mongol leader Kublai...   \n",
       "..                                                 ...   \n",
       "167  Where can safari hunters go which are uninviti...   \n",
       "168  What forbid hunting in the woods with hounds a...   \n",
       "169         Game animals were introduced here by whom?   \n",
       "170                           Why are assistants used?   \n",
       "171                        What do bison still remain?   \n",
       "\n",
       "                                              title  context_id  \\\n",
       "0                                           Beyoncé          63   \n",
       "1                                           Beyoncé          79   \n",
       "2                                           Beyoncé          63   \n",
       "3                                           Beyoncé          72   \n",
       "4    Sino-Tibetan_relations_during_the_Ming_dynasty         300   \n",
       "..                                              ...         ...   \n",
       "167                                         Hunting       18825   \n",
       "168                                         Hunting       18806   \n",
       "169                                         Hunting       18808   \n",
       "170                                         Hunting       18812   \n",
       "171                                         Hunting       18831   \n",
       "\n",
       "                                               context  \\\n",
       "0    The remaining band members recorded \"Independe...   \n",
       "1    At the 57th Annual Grammy Awards in February 2...   \n",
       "2    The remaining band members recorded \"Independe...   \n",
       "3    Beyoncé announced a hiatus from her music care...   \n",
       "4    Some scholars note that Tibetan leaders during...   \n",
       "..                                                 ...   \n",
       "167  A variety of industries benefit from hunting a...   \n",
       "168  From early Christian times, hunting has been f...   \n",
       "169  New Zealand has a strong hunting culture. The ...   \n",
       "170  Shooting as practised in Britain, as opposed t...   \n",
       "171  The American bison is a large bovid which inha...   \n",
       "\n",
       "                          answer answer_start answer_end  \n",
       "0     [Independent Women Part I]         [37]       [61]  \n",
       "1                        [three]        [108]      [113]  \n",
       "2                     [Survivor]        [593]      [601]  \n",
       "3                         [2010]         [60]       [64]  \n",
       "4                    [1402–1424]        [739]      [748]  \n",
       "..                           ...          ...        ...  \n",
       "167               [remote areas]        [367]      [379]  \n",
       "168      [Corpus Juris Canonici]         [98]      [119]  \n",
       "169  [acclimatisation societies]        [189]      [214]  \n",
       "170         [help load shotguns]        [305]      [323]  \n",
       "171            [near-threatened]        [516]      [531]  \n",
       "\n",
       "[172 rows x 8 columns]"
      ]
     },
     "execution_count": 52,
     "metadata": {},
     "output_type": "execute_result"
    }
   ],
   "source": [
    "standard_dm.val_df"
   ]
  },
  {
   "cell_type": "code",
   "execution_count": 53,
   "metadata": {
    "execution": {
     "iopub.execute_input": "2021-01-24T09:51:34.402579Z",
     "iopub.status.busy": "2021-01-24T09:51:34.402266Z",
     "iopub.status.idle": "2021-01-24T09:51:34.503367Z",
     "shell.execute_reply": "2021-01-24T09:51:34.502157Z",
     "shell.execute_reply.started": "2021-01-24T09:51:34.402541Z"
    }
   },
   "outputs": [
    {
     "data": {
      "text/html": [
       "<div>\n",
       "<style scoped>\n",
       "    .dataframe tbody tr th:only-of-type {\n",
       "        vertical-align: middle;\n",
       "    }\n",
       "\n",
       "    .dataframe tbody tr th {\n",
       "        vertical-align: top;\n",
       "    }\n",
       "\n",
       "    .dataframe thead th {\n",
       "        text-align: right;\n",
       "    }\n",
       "</style>\n",
       "<table border=\"1\" class=\"dataframe\">\n",
       "  <thead>\n",
       "    <tr style=\"text-align: right;\">\n",
       "      <th></th>\n",
       "      <th>question_id</th>\n",
       "      <th>question</th>\n",
       "      <th>title</th>\n",
       "      <th>context_id</th>\n",
       "      <th>context</th>\n",
       "      <th>answer</th>\n",
       "      <th>answer_start</th>\n",
       "      <th>answer_end</th>\n",
       "    </tr>\n",
       "  </thead>\n",
       "  <tbody>\n",
       "    <tr>\n",
       "      <th>0</th>\n",
       "      <td>56be5438acb8001400a5031c</td>\n",
       "      <td>Which California venue was one of three consid...</td>\n",
       "      <td>Super_Bowl_50</td>\n",
       "      <td>5</td>\n",
       "      <td>The league eventually narrowed the bids to thr...</td>\n",
       "      <td>[San Francisco Bay Area's Levi's Stadium]</td>\n",
       "      <td>[128]</td>\n",
       "      <td>[167]</td>\n",
       "    </tr>\n",
       "    <tr>\n",
       "      <th>1</th>\n",
       "      <td>56be5523acb8001400a5032e</td>\n",
       "      <td>When did Lev's Stadium open?</td>\n",
       "      <td>Super_Bowl_50</td>\n",
       "      <td>7</td>\n",
       "      <td>On May 21, 2013, NFL owners at their spring me...</td>\n",
       "      <td>[2014]</td>\n",
       "      <td>[144]</td>\n",
       "      <td>[148]</td>\n",
       "    </tr>\n",
       "    <tr>\n",
       "      <th>2</th>\n",
       "      <td>56beab833aeaaa14008c91d2</td>\n",
       "      <td>Which Denver linebacker was named Super Bowl MVP?</td>\n",
       "      <td>Super_Bowl_50</td>\n",
       "      <td>2</td>\n",
       "      <td>The Broncos took an early lead in Super Bowl 5...</td>\n",
       "      <td>[linebacker Von Miller]</td>\n",
       "      <td>[237]</td>\n",
       "      <td>[258]</td>\n",
       "    </tr>\n",
       "    <tr>\n",
       "      <th>3</th>\n",
       "      <td>56beb6533aeaaa14008c9290</td>\n",
       "      <td>Who was first on the team in total tackles?</td>\n",
       "      <td>Super_Bowl_50</td>\n",
       "      <td>14</td>\n",
       "      <td>The Broncos' defense ranked first in the NFL y...</td>\n",
       "      <td>[Brandon Marshall]</td>\n",
       "      <td>[458]</td>\n",
       "      <td>[474]</td>\n",
       "    </tr>\n",
       "    <tr>\n",
       "      <th>4</th>\n",
       "      <td>56bebc383aeaaa14008c9321</td>\n",
       "      <td>What yard marker on the field was painted gold?</td>\n",
       "      <td>Super_Bowl_50</td>\n",
       "      <td>25</td>\n",
       "      <td>Various gold-themed promotions and initiatives...</td>\n",
       "      <td>[50]</td>\n",
       "      <td>[232]</td>\n",
       "      <td>[234]</td>\n",
       "    </tr>\n",
       "    <tr>\n",
       "      <th>...</th>\n",
       "      <td>...</td>\n",
       "      <td>...</td>\n",
       "      <td>...</td>\n",
       "      <td>...</td>\n",
       "      <td>...</td>\n",
       "      <td>...</td>\n",
       "      <td>...</td>\n",
       "      <td>...</td>\n",
       "    </tr>\n",
       "    <tr>\n",
       "      <th>177</th>\n",
       "      <td>57379829c3c5551400e51f3d</td>\n",
       "      <td>What does the W and Z boson exchange create?</td>\n",
       "      <td>Force</td>\n",
       "      <td>2056</td>\n",
       "      <td>The weak force is due to the exchange of the h...</td>\n",
       "      <td>[weak force]</td>\n",
       "      <td>[4]</td>\n",
       "      <td>[14]</td>\n",
       "    </tr>\n",
       "    <tr>\n",
       "      <th>178</th>\n",
       "      <td>57379a4b1c456719005744d0</td>\n",
       "      <td>What is the force that causes rigid strength i...</td>\n",
       "      <td>Force</td>\n",
       "      <td>2057</td>\n",
       "      <td>The normal force is due to repulsive forces of...</td>\n",
       "      <td>[normal]</td>\n",
       "      <td>[298]</td>\n",
       "      <td>[304]</td>\n",
       "    </tr>\n",
       "    <tr>\n",
       "      <th>179</th>\n",
       "      <td>57379ed81c456719005744d7</td>\n",
       "      <td>In what way do idea strings transmit tesion fo...</td>\n",
       "      <td>Force</td>\n",
       "      <td>2058</td>\n",
       "      <td>Tension forces can be modeled using ideal stri...</td>\n",
       "      <td>[instantaneously in action-reaction pairs]</td>\n",
       "      <td>[250]</td>\n",
       "      <td>[290]</td>\n",
       "    </tr>\n",
       "    <tr>\n",
       "      <th>180</th>\n",
       "      <td>5737a0acc3c5551400e51f4a</td>\n",
       "      <td>What may a force on one part of an object affect?</td>\n",
       "      <td>Force</td>\n",
       "      <td>2059</td>\n",
       "      <td>Newton's laws and Newtonian mechanics in gener...</td>\n",
       "      <td>[other parts]</td>\n",
       "      <td>[276]</td>\n",
       "      <td>[287]</td>\n",
       "    </tr>\n",
       "    <tr>\n",
       "      <th>181</th>\n",
       "      <td>5737a5931c456719005744e8</td>\n",
       "      <td>How do centripetal forces act in relation to v...</td>\n",
       "      <td>Force</td>\n",
       "      <td>2062</td>\n",
       "      <td>where  is the mass of the object,  is the velo...</td>\n",
       "      <td>[perpendicular]</td>\n",
       "      <td>[346]</td>\n",
       "      <td>[359]</td>\n",
       "    </tr>\n",
       "  </tbody>\n",
       "</table>\n",
       "<p>182 rows × 8 columns</p>\n",
       "</div>"
      ],
      "text/plain": [
       "                  question_id  \\\n",
       "0    56be5438acb8001400a5031c   \n",
       "1    56be5523acb8001400a5032e   \n",
       "2    56beab833aeaaa14008c91d2   \n",
       "3    56beb6533aeaaa14008c9290   \n",
       "4    56bebc383aeaaa14008c9321   \n",
       "..                        ...   \n",
       "177  57379829c3c5551400e51f3d   \n",
       "178  57379a4b1c456719005744d0   \n",
       "179  57379ed81c456719005744d7   \n",
       "180  5737a0acc3c5551400e51f4a   \n",
       "181  5737a5931c456719005744e8   \n",
       "\n",
       "                                              question          title  \\\n",
       "0    Which California venue was one of three consid...  Super_Bowl_50   \n",
       "1                         When did Lev's Stadium open?  Super_Bowl_50   \n",
       "2    Which Denver linebacker was named Super Bowl MVP?  Super_Bowl_50   \n",
       "3          Who was first on the team in total tackles?  Super_Bowl_50   \n",
       "4      What yard marker on the field was painted gold?  Super_Bowl_50   \n",
       "..                                                 ...            ...   \n",
       "177       What does the W and Z boson exchange create?          Force   \n",
       "178  What is the force that causes rigid strength i...          Force   \n",
       "179  In what way do idea strings transmit tesion fo...          Force   \n",
       "180  What may a force on one part of an object affect?          Force   \n",
       "181  How do centripetal forces act in relation to v...          Force   \n",
       "\n",
       "     context_id                                            context  \\\n",
       "0             5  The league eventually narrowed the bids to thr...   \n",
       "1             7  On May 21, 2013, NFL owners at their spring me...   \n",
       "2             2  The Broncos took an early lead in Super Bowl 5...   \n",
       "3            14  The Broncos' defense ranked first in the NFL y...   \n",
       "4            25  Various gold-themed promotions and initiatives...   \n",
       "..          ...                                                ...   \n",
       "177        2056  The weak force is due to the exchange of the h...   \n",
       "178        2057  The normal force is due to repulsive forces of...   \n",
       "179        2058  Tension forces can be modeled using ideal stri...   \n",
       "180        2059  Newton's laws and Newtonian mechanics in gener...   \n",
       "181        2062  where  is the mass of the object,  is the velo...   \n",
       "\n",
       "                                         answer answer_start answer_end  \n",
       "0     [San Francisco Bay Area's Levi's Stadium]        [128]      [167]  \n",
       "1                                        [2014]        [144]      [148]  \n",
       "2                       [linebacker Von Miller]        [237]      [258]  \n",
       "3                            [Brandon Marshall]        [458]      [474]  \n",
       "4                                          [50]        [232]      [234]  \n",
       "..                                          ...          ...        ...  \n",
       "177                                [weak force]          [4]       [14]  \n",
       "178                                    [normal]        [298]      [304]  \n",
       "179  [instantaneously in action-reaction pairs]        [250]      [290]  \n",
       "180                               [other parts]        [276]      [287]  \n",
       "181                             [perpendicular]        [346]      [359]  \n",
       "\n",
       "[182 rows x 8 columns]"
      ]
     },
     "execution_count": 53,
     "metadata": {},
     "output_type": "execute_result"
    }
   ],
   "source": [
    "standard_dm.test_df"
   ]
  },
  {
   "cell_type": "markdown",
   "metadata": {},
   "source": [
    "## Baseline model"
   ]
  },
  {
   "cell_type": "code",
   "execution_count": 60,
   "metadata": {
    "execution": {
     "iopub.execute_input": "2021-01-24T09:58:26.941816Z",
     "iopub.status.busy": "2021-01-24T09:58:26.941317Z",
     "iopub.status.idle": "2021-01-24T09:58:27.012631Z",
     "shell.execute_reply": "2021-01-24T09:58:27.011196Z",
     "shell.execute_reply.started": "2021-01-24T09:58:26.941770Z"
    }
   },
   "outputs": [],
   "source": [
    "baseline_optimizer = optim.Adam(baseline_model.parameters(), lr=1e-3)\n",
    "baseline_lr_scheduler = transformers.get_constant_schedule(baseline_optimizer)"
   ]
  },
  {
   "cell_type": "code",
   "execution_count": 61,
   "metadata": {
    "execution": {
     "iopub.execute_input": "2021-01-24T09:58:27.014796Z",
     "iopub.status.busy": "2021-01-24T09:58:27.014497Z",
     "iopub.status.idle": "2021-01-24T09:58:27.080409Z",
     "shell.execute_reply": "2021-01-24T09:58:27.079118Z",
     "shell.execute_reply.started": "2021-01-24T09:58:27.014759Z"
    }
   },
   "outputs": [
    {
     "name": "stdout",
     "output_type": "stream",
     "text": [
      "env: WANDB_RUN_GROUP=baseline\n"
     ]
    }
   ],
   "source": [
    "%env WANDB_RUN_GROUP=baseline\n",
    "baseline_run_name = utils.get_run_name()\n",
    "baseline_args = partial(\n",
    "    TRAINER_ARGS,\n",
    "    output_dir=f\"./checkpoints/{os.getenv('WANDB_RUN_GROUP')}/{baseline_run_name}\",\n",
    "    num_train_epochs=30,\n",
    "    per_device_train_batch_size=128,\n",
    "    per_device_eval_batch_size=128,\n",
    ")"
   ]
  },
  {
   "cell_type": "markdown",
   "metadata": {},
   "source": [
    "### Training and validation"
   ]
  },
  {
   "cell_type": "code",
   "execution_count": 41,
   "metadata": {
    "execution": {
     "iopub.execute_input": "2021-01-24T09:27:17.054527Z",
     "iopub.status.busy": "2021-01-24T09:27:17.054006Z",
     "iopub.status.idle": "2021-01-24T09:27:17.135930Z",
     "shell.execute_reply": "2021-01-24T09:27:17.134804Z",
     "shell.execute_reply.started": "2021-01-24T09:27:17.054476Z"
    }
   },
   "outputs": [
    {
     "name": "stdout",
     "output_type": "stream",
     "text": [
      "The baseline model has 41000 parameters\n"
     ]
    }
   ],
   "source": [
    "baseline_model = model.QABaselineModel(\n",
    "    glove_embedding_layer, MAX_CONTEXT_TOKENS, device=DEVICE\n",
    ")\n",
    "print(f\"The baseline model has {baseline_model.count_parameters()} parameters\")"
   ]
  },
  {
   "cell_type": "code",
   "execution_count": 43,
   "metadata": {
    "execution": {
     "iopub.execute_input": "2021-01-24T09:27:19.148497Z",
     "iopub.status.busy": "2021-01-24T09:27:19.148182Z",
     "iopub.status.idle": "2021-01-24T09:27:19.228627Z",
     "shell.execute_reply": "2021-01-24T09:27:19.227564Z",
     "shell.execute_reply.started": "2021-01-24T09:27:19.148459Z"
    }
   },
   "outputs": [
    {
     "name": "stdout",
     "output_type": "stream",
     "text": [
      "env: WANDB_RUN_GROUP=baseline\n"
     ]
    }
   ],
   "source": [
    "baseline_trainer = training.SquadTrainer(\n",
    "    model=baseline_model,\n",
    "    args=baseline_args(run_name=baseline_run_name),\n",
    "    data_collator=standard_dm.tokenizer,\n",
    "    train_dataset=standard_dm.train_dataset,\n",
    "    eval_dataset=standard_dm.val_dataset,\n",
    "    optimizers=(baseline_optimizer, baseline_lr_scheduler),\n",
    ")"
   ]
  },
  {
   "cell_type": "code",
   "execution_count": 44,
   "metadata": {
    "execution": {
     "iopub.execute_input": "2021-01-24T09:27:19.230163Z",
     "iopub.status.busy": "2021-01-24T09:27:19.229862Z",
     "iopub.status.idle": "2021-01-24T09:28:27.958338Z",
     "shell.execute_reply": "2021-01-24T09:28:27.956955Z",
     "shell.execute_reply.started": "2021-01-24T09:27:19.230126Z"
    }
   },
   "outputs": [
    {
     "data": {
      "text/html": [
       "\n",
       "    <div>\n",
       "        <style>\n",
       "            /* Turns off some styling */\n",
       "            progress {\n",
       "                /* gets rid of default border in Firefox and Opera. */\n",
       "                border: none;\n",
       "                /* Needs to be in here for Safari polyfill so background images work as expected. */\n",
       "                background-size: auto;\n",
       "            }\n",
       "        </style>\n",
       "      \n",
       "      <progress value='30' max='30' style='width:300px; height:20px; vertical-align: middle;'></progress>\n",
       "      [30/30 01:04, Epoch 5/5]\n",
       "    </div>\n",
       "    <table border=\"1\" class=\"dataframe\">\n",
       "  <thead>\n",
       "    <tr style=\"text-align: left;\">\n",
       "      <th>Epoch</th>\n",
       "      <th>Training Loss</th>\n",
       "      <th>Validation Loss</th>\n",
       "      <th>Accuracy</th>\n",
       "      <th>Precision</th>\n",
       "      <th>Recall</th>\n",
       "      <th>F1</th>\n",
       "      <th>Em</th>\n",
       "      <th>Runtime</th>\n",
       "      <th>Samples Per Second</th>\n",
       "    </tr>\n",
       "  </thead>\n",
       "  <tbody>\n",
       "    <tr>\n",
       "      <td>1</td>\n",
       "      <td>7.321000</td>\n",
       "      <td>7.646826</td>\n",
       "      <td>0.048099</td>\n",
       "      <td>0.061143</td>\n",
       "      <td>0.092297</td>\n",
       "      <td>0.065407</td>\n",
       "      <td>0.005814</td>\n",
       "      <td>1.709400</td>\n",
       "      <td>100.619000</td>\n",
       "    </tr>\n",
       "    <tr>\n",
       "      <td>2</td>\n",
       "      <td>7.422600</td>\n",
       "      <td>7.614810</td>\n",
       "      <td>0.048099</td>\n",
       "      <td>0.061143</td>\n",
       "      <td>0.092297</td>\n",
       "      <td>0.065407</td>\n",
       "      <td>0.005814</td>\n",
       "      <td>1.722900</td>\n",
       "      <td>99.829000</td>\n",
       "    </tr>\n",
       "    <tr>\n",
       "      <td>3</td>\n",
       "      <td>7.424000</td>\n",
       "      <td>7.547461</td>\n",
       "      <td>0.048099</td>\n",
       "      <td>0.061143</td>\n",
       "      <td>0.092297</td>\n",
       "      <td>0.065407</td>\n",
       "      <td>0.005814</td>\n",
       "      <td>2.702800</td>\n",
       "      <td>63.638000</td>\n",
       "    </tr>\n",
       "    <tr>\n",
       "      <td>4</td>\n",
       "      <td>7.378400</td>\n",
       "      <td>7.057219</td>\n",
       "      <td>0.031507</td>\n",
       "      <td>0.038092</td>\n",
       "      <td>0.125975</td>\n",
       "      <td>0.046912</td>\n",
       "      <td>0.000000</td>\n",
       "      <td>1.710800</td>\n",
       "      <td>100.537000</td>\n",
       "    </tr>\n",
       "    <tr>\n",
       "      <td>5</td>\n",
       "      <td>7.054100</td>\n",
       "      <td>6.916319</td>\n",
       "      <td>0.018038</td>\n",
       "      <td>0.032375</td>\n",
       "      <td>0.085083</td>\n",
       "      <td>0.026914</td>\n",
       "      <td>0.000000</td>\n",
       "      <td>1.730100</td>\n",
       "      <td>99.418000</td>\n",
       "    </tr>\n",
       "  </tbody>\n",
       "</table><p>"
      ],
      "text/plain": [
       "<IPython.core.display.HTML object>"
      ]
     },
     "metadata": {},
     "output_type": "display_data"
    },
    {
     "data": {
      "text/plain": [
       "TrainOutput(global_step=30, training_loss=7.2997305234273275, metrics={'train_runtime': 68.643, 'train_samples_per_second': 0.437, 'total_flos': 0, 'epoch': 5.0})"
      ]
     },
     "execution_count": 44,
     "metadata": {},
     "output_type": "execute_result"
    }
   ],
   "source": [
    "baseline_trainer.train()"
   ]
  },
  {
   "cell_type": "markdown",
   "metadata": {},
   "source": [
    "### Training only"
   ]
  },
  {
   "cell_type": "code",
   "execution_count": 62,
   "metadata": {
    "execution": {
     "iopub.execute_input": "2021-01-24T09:58:34.597944Z",
     "iopub.status.busy": "2021-01-24T09:58:34.597582Z",
     "iopub.status.idle": "2021-01-24T09:58:34.676414Z",
     "shell.execute_reply": "2021-01-24T09:58:34.675144Z",
     "shell.execute_reply.started": "2021-01-24T09:58:34.597901Z"
    }
   },
   "outputs": [
    {
     "name": "stdout",
     "output_type": "stream",
     "text": [
      "The baseline model has 41000 parameters\n"
     ]
    }
   ],
   "source": [
    "baseline_model = model.QABaselineModel(\n",
    "    glove_embedding_layer, MAX_CONTEXT_TOKENS, device=DEVICE\n",
    ")\n",
    "print(f\"The baseline model has {baseline_model.count_parameters()} parameters\")"
   ]
  },
  {
   "cell_type": "code",
   "execution_count": 63,
   "metadata": {
    "execution": {
     "iopub.execute_input": "2021-01-24T09:58:36.906188Z",
     "iopub.status.busy": "2021-01-24T09:58:36.905856Z",
     "iopub.status.idle": "2021-01-24T09:58:36.988918Z",
     "shell.execute_reply": "2021-01-24T09:58:36.987625Z",
     "shell.execute_reply.started": "2021-01-24T09:58:36.906146Z"
    }
   },
   "outputs": [],
   "source": [
    "baseline_trainer = training.SquadTrainer(\n",
    "    model=baseline_model,\n",
    "    args=baseline_args(run_name=f\"{baseline_run_name}-whole\", evaluation_strategy=\"no\"),\n",
    "    data_collator=standard_dm.tokenizer,\n",
    "    train_dataset=standard_dm.whole_dataset,\n",
    "    optimizers=(baseline_optimizer, baseline_lr_scheduler),\n",
    ")"
   ]
  },
  {
   "cell_type": "code",
   "execution_count": 64,
   "metadata": {
    "execution": {
     "iopub.execute_input": "2021-01-24T09:58:39.273472Z",
     "iopub.status.busy": "2021-01-24T09:58:39.273136Z",
     "iopub.status.idle": "2021-01-24T09:59:58.619170Z",
     "shell.execute_reply": "2021-01-24T09:59:58.617543Z",
     "shell.execute_reply.started": "2021-01-24T09:58:39.273430Z"
    }
   },
   "outputs": [
    {
     "data": {
      "text/html": [
       "\n",
       "    <div>\n",
       "        <style>\n",
       "            /* Turns off some styling */\n",
       "            progress {\n",
       "                /* gets rid of default border in Firefox and Opera. */\n",
       "                border: none;\n",
       "                /* Needs to be in here for Safari polyfill so background images work as expected. */\n",
       "                background-size: auto;\n",
       "            }\n",
       "        </style>\n",
       "      \n",
       "      <progress value='35' max='35' style='width:300px; height:20px; vertical-align: middle;'></progress>\n",
       "      [35/35 01:11, Epoch 5/5]\n",
       "    </div>\n",
       "    <table border=\"1\" class=\"dataframe\">\n",
       "  <thead>\n",
       "    <tr style=\"text-align: left;\">\n",
       "      <th>Step</th>\n",
       "      <th>Training Loss</th>\n",
       "    </tr>\n",
       "  </thead>\n",
       "  <tbody>\n",
       "    <tr>\n",
       "      <td>1</td>\n",
       "      <td>5.984300</td>\n",
       "    </tr>\n",
       "    <tr>\n",
       "      <td>5</td>\n",
       "      <td>6.331100</td>\n",
       "    </tr>\n",
       "    <tr>\n",
       "      <td>10</td>\n",
       "      <td>6.195200</td>\n",
       "    </tr>\n",
       "    <tr>\n",
       "      <td>15</td>\n",
       "      <td>6.259200</td>\n",
       "    </tr>\n",
       "    <tr>\n",
       "      <td>20</td>\n",
       "      <td>6.214700</td>\n",
       "    </tr>\n",
       "    <tr>\n",
       "      <td>25</td>\n",
       "      <td>6.151500</td>\n",
       "    </tr>\n",
       "    <tr>\n",
       "      <td>30</td>\n",
       "      <td>6.280500</td>\n",
       "    </tr>\n",
       "    <tr>\n",
       "      <td>35</td>\n",
       "      <td>6.277100</td>\n",
       "    </tr>\n",
       "  </tbody>\n",
       "</table><p>"
      ],
      "text/plain": [
       "<IPython.core.display.HTML object>"
      ]
     },
     "metadata": {},
     "output_type": "display_data"
    },
    {
     "data": {
      "text/plain": [
       "TrainOutput(global_step=35, training_loss=6.234272003173828, metrics={'train_runtime': 79.2375, 'train_samples_per_second': 0.442, 'total_flos': 0, 'epoch': 5.0})"
      ]
     },
     "execution_count": 64,
     "metadata": {},
     "output_type": "execute_result"
    }
   ],
   "source": [
    "baseline_trainer.train()"
   ]
  },
  {
   "cell_type": "markdown",
   "metadata": {},
   "source": [
    "### Testing"
   ]
  },
  {
   "cell_type": "code",
   "execution_count": 65,
   "metadata": {
    "execution": {
     "iopub.execute_input": "2021-01-24T10:04:44.938352Z",
     "iopub.status.busy": "2021-01-24T10:04:44.937884Z",
     "iopub.status.idle": "2021-01-24T10:04:46.894165Z",
     "shell.execute_reply": "2021-01-24T10:04:46.892891Z",
     "shell.execute_reply.started": "2021-01-24T10:04:44.938307Z"
    }
   },
   "outputs": [
    {
     "data": {
      "text/html": [
       "\n",
       "    <div>\n",
       "        <style>\n",
       "            /* Turns off some styling */\n",
       "            progress {\n",
       "                /* gets rid of default border in Firefox and Opera. */\n",
       "                border: none;\n",
       "                /* Needs to be in here for Safari polyfill so background images work as expected. */\n",
       "                background-size: auto;\n",
       "            }\n",
       "        </style>\n",
       "      \n",
       "      <progress value='2' max='2' style='width:300px; height:20px; vertical-align: middle;'></progress>\n",
       "      [2/2 00:00]\n",
       "    </div>\n",
       "    "
      ],
      "text/plain": [
       "<IPython.core.display.HTML object>"
      ]
     },
     "metadata": {},
     "output_type": "display_data"
    },
    {
     "data": {
      "text/plain": [
       "{'test_loss': 6.0533928871154785,\n",
       " 'test_accuracy': 0.048774934275635486,\n",
       " 'test_precision': 0.04997091627749208,\n",
       " 'test_recall': 0.539648141845944,\n",
       " 'test_f1': 0.08496900937695989,\n",
       " 'test_em': 0.0,\n",
       " 'test_runtime': 1.8771,\n",
       " 'test_samples_per_second': 96.959}"
      ]
     },
     "execution_count": 65,
     "metadata": {},
     "output_type": "execute_result"
    }
   ],
   "source": [
    "baseline_test_output = baseline_trainer.predict(standard_dm.test_dataset)\n",
    "baseline_test_output.metrics"
   ]
  },
  {
   "cell_type": "code",
   "execution_count": 66,
   "metadata": {
    "execution": {
     "iopub.execute_input": "2021-01-24T10:04:58.240993Z",
     "iopub.status.busy": "2021-01-24T10:04:58.240640Z",
     "iopub.status.idle": "2021-01-24T10:05:16.055426Z",
     "shell.execute_reply": "2021-01-24T10:05:16.053922Z",
     "shell.execute_reply.started": "2021-01-24T10:04:58.240950Z"
    }
   },
   "outputs": [],
   "source": [
    "baseline_answers_path = \"results/answers/baseline.json\"\n",
    "utils.save_answers(baseline_answers_path, baseline_test_output.predictions[-1])\n",
    "wandb.save(baseline_answers_path);\n",
    "wandb.finish()"
   ]
  },
  {
   "cell_type": "markdown",
   "metadata": {},
   "source": [
    "## BiDAF"
   ]
  },
  {
   "cell_type": "code",
   "execution_count": 42,
   "metadata": {
    "execution": {
     "iopub.execute_input": "2021-01-21T18:02:01.345851Z",
     "iopub.status.busy": "2021-01-21T18:02:01.345503Z",
     "iopub.status.idle": "2021-01-21T18:02:01.419832Z",
     "shell.execute_reply": "2021-01-21T18:02:01.418746Z",
     "shell.execute_reply.started": "2021-01-21T18:02:01.345806Z"
    }
   },
   "outputs": [],
   "source": [
    "bidaf_optimizer = optim.Adadelta(bidaf_model.parameters(), lr=0.5)\n",
    "bidaf_lr_scheduler = transformers.get_constant_schedule(bidaf_optimizer)"
   ]
  },
  {
   "cell_type": "code",
   "execution_count": 43,
   "metadata": {
    "execution": {
     "iopub.execute_input": "2021-01-21T18:02:01.422208Z",
     "iopub.status.busy": "2021-01-21T18:02:01.421903Z",
     "iopub.status.idle": "2021-01-21T18:02:01.502111Z",
     "shell.execute_reply": "2021-01-21T18:02:01.501044Z",
     "shell.execute_reply.started": "2021-01-21T18:02:01.422171Z"
    }
   },
   "outputs": [
    {
     "name": "stdout",
     "output_type": "stream",
     "text": [
      "env: WANDB_RUN_GROUP=bidaf\n"
     ]
    }
   ],
   "source": [
    "%env WANDB_RUN_GROUP=bidaf\n",
    "bidaf_run_name = utils.get_run_name()\n",
    "bidaf_args = partial(\n",
    "    TRAINER_ARGS,\n",
    "    output_dir=f\"./checkpoints/{os.getenv('WANDB_RUN_GROUP')}/{bidaf_run_name}\",\n",
    "    num_train_epochs=12,\n",
    "    per_device_train_batch_size=60,\n",
    "    per_device_eval_batch_size=60,\n",
    ")"
   ]
  },
  {
   "cell_type": "markdown",
   "metadata": {},
   "source": [
    "### Training and validation"
   ]
  },
  {
   "cell_type": "code",
   "execution_count": 41,
   "metadata": {
    "execution": {
     "iopub.execute_input": "2021-01-21T18:01:59.134386Z",
     "iopub.status.busy": "2021-01-21T18:01:59.134010Z",
     "iopub.status.idle": "2021-01-21T18:01:59.230330Z",
     "shell.execute_reply": "2021-01-21T18:01:59.229128Z",
     "shell.execute_reply.started": "2021-01-21T18:01:59.134343Z"
    }
   },
   "outputs": [
    {
     "name": "stdout",
     "output_type": "stream",
     "text": [
      "The BiDAF model has 79675 parameters\n"
     ]
    }
   ],
   "source": [
    "bidaf_model = model.QABiDAFModel(glove_embedding_layer, device=DEVICE)\n",
    "print(f\"The BiDAF model has {bidaf_model.count_parameters()} parameters\")"
   ]
  },
  {
   "cell_type": "code",
   "execution_count": null,
   "metadata": {},
   "outputs": [],
   "source": [
    "bidaf_trainer = training.SquadTrainer(\n",
    "    model=bidaf_model,\n",
    "    args=bidaf_args(run_name=bidaf_run_name),\n",
    "    data_collator=standard_dm.tokenizer,\n",
    "    train_dataset=standard_dm.train_dataset,\n",
    "    eval_dataset=standard_dm.val_dataset,\n",
    "    optimizers=(bidaf_optimizer, bidaf_lr_scheduler),\n",
    ")"
   ]
  },
  {
   "cell_type": "code",
   "execution_count": 44,
   "metadata": {
    "execution": {
     "iopub.execute_input": "2021-01-21T18:02:01.503520Z",
     "iopub.status.busy": "2021-01-21T18:02:01.503216Z",
     "iopub.status.idle": "2021-01-21T18:02:28.435066Z",
     "shell.execute_reply": "2021-01-21T18:02:28.433588Z",
     "shell.execute_reply.started": "2021-01-21T18:02:01.503482Z"
    }
   },
   "outputs": [
    {
     "data": {
      "text/html": [
       "\n",
       "    <div>\n",
       "        <style>\n",
       "            /* Turns off some styling */\n",
       "            progress {\n",
       "                /* gets rid of default border in Firefox and Opera. */\n",
       "                border: none;\n",
       "                /* Needs to be in here for Safari polyfill so background images work as expected. */\n",
       "                background-size: auto;\n",
       "            }\n",
       "        </style>\n",
       "      \n",
       "      <progress value='12' max='12' style='width:300px; height:20px; vertical-align: middle;'></progress>\n",
       "      [12/12 00:22, Epoch 12/12]\n",
       "    </div>\n",
       "    <table border=\"1\" class=\"dataframe\">\n",
       "  <thead>\n",
       "    <tr style=\"text-align: left;\">\n",
       "      <th>Epoch</th>\n",
       "      <th>Training Loss</th>\n",
       "      <th>Validation Loss</th>\n",
       "      <th>F1</th>\n",
       "      <th>Accuracy</th>\n",
       "      <th>Em</th>\n",
       "      <th>Runtime</th>\n",
       "      <th>Samples Per Second</th>\n",
       "    </tr>\n",
       "  </thead>\n",
       "  <tbody>\n",
       "    <tr>\n",
       "      <td>1</td>\n",
       "      <td>6.619400</td>\n",
       "      <td>5.197407</td>\n",
       "      <td>0.000000</td>\n",
       "      <td>0.000000</td>\n",
       "      <td>0.000000</td>\n",
       "      <td>0.305700</td>\n",
       "      <td>6.542000</td>\n",
       "    </tr>\n",
       "    <tr>\n",
       "      <td>2</td>\n",
       "      <td>6.619400</td>\n",
       "      <td>5.198681</td>\n",
       "      <td>0.000000</td>\n",
       "      <td>0.000000</td>\n",
       "      <td>0.000000</td>\n",
       "      <td>0.310100</td>\n",
       "      <td>6.450000</td>\n",
       "    </tr>\n",
       "    <tr>\n",
       "      <td>3</td>\n",
       "      <td>6.619400</td>\n",
       "      <td>6.933730</td>\n",
       "      <td>0.000000</td>\n",
       "      <td>0.000000</td>\n",
       "      <td>0.000000</td>\n",
       "      <td>0.309400</td>\n",
       "      <td>6.464000</td>\n",
       "    </tr>\n",
       "    <tr>\n",
       "      <td>4</td>\n",
       "      <td>6.619400</td>\n",
       "      <td>6.934238</td>\n",
       "      <td>0.000000</td>\n",
       "      <td>0.000000</td>\n",
       "      <td>0.000000</td>\n",
       "      <td>0.309200</td>\n",
       "      <td>6.469000</td>\n",
       "    </tr>\n",
       "    <tr>\n",
       "      <td>5</td>\n",
       "      <td>5.916400</td>\n",
       "      <td>6.934334</td>\n",
       "      <td>0.000000</td>\n",
       "      <td>0.000000</td>\n",
       "      <td>0.000000</td>\n",
       "      <td>0.305900</td>\n",
       "      <td>6.538000</td>\n",
       "    </tr>\n",
       "    <tr>\n",
       "      <td>6</td>\n",
       "      <td>5.916400</td>\n",
       "      <td>6.934910</td>\n",
       "      <td>0.000000</td>\n",
       "      <td>0.000000</td>\n",
       "      <td>0.000000</td>\n",
       "      <td>0.303900</td>\n",
       "      <td>6.581000</td>\n",
       "    </tr>\n",
       "    <tr>\n",
       "      <td>7</td>\n",
       "      <td>5.916400</td>\n",
       "      <td>6.935600</td>\n",
       "      <td>0.000000</td>\n",
       "      <td>0.000000</td>\n",
       "      <td>0.000000</td>\n",
       "      <td>0.312600</td>\n",
       "      <td>6.397000</td>\n",
       "    </tr>\n",
       "    <tr>\n",
       "      <td>8</td>\n",
       "      <td>5.916400</td>\n",
       "      <td>6.935662</td>\n",
       "      <td>0.000000</td>\n",
       "      <td>0.000000</td>\n",
       "      <td>0.000000</td>\n",
       "      <td>0.302600</td>\n",
       "      <td>6.610000</td>\n",
       "    </tr>\n",
       "    <tr>\n",
       "      <td>9</td>\n",
       "      <td>5.916400</td>\n",
       "      <td>6.935297</td>\n",
       "      <td>0.000000</td>\n",
       "      <td>0.000000</td>\n",
       "      <td>0.000000</td>\n",
       "      <td>0.315500</td>\n",
       "      <td>6.339000</td>\n",
       "    </tr>\n",
       "    <tr>\n",
       "      <td>10</td>\n",
       "      <td>6.601800</td>\n",
       "      <td>6.632412</td>\n",
       "      <td>0.000000</td>\n",
       "      <td>0.000000</td>\n",
       "      <td>0.000000</td>\n",
       "      <td>0.315700</td>\n",
       "      <td>6.335000</td>\n",
       "    </tr>\n",
       "    <tr>\n",
       "      <td>11</td>\n",
       "      <td>6.601800</td>\n",
       "      <td>6.911151</td>\n",
       "      <td>0.000000</td>\n",
       "      <td>0.000000</td>\n",
       "      <td>0.000000</td>\n",
       "      <td>0.302900</td>\n",
       "      <td>6.602000</td>\n",
       "    </tr>\n",
       "    <tr>\n",
       "      <td>12</td>\n",
       "      <td>6.601800</td>\n",
       "      <td>6.633557</td>\n",
       "      <td>0.000000</td>\n",
       "      <td>0.000000</td>\n",
       "      <td>0.000000</td>\n",
       "      <td>0.304600</td>\n",
       "      <td>6.565000</td>\n",
       "    </tr>\n",
       "  </tbody>\n",
       "</table><p>"
      ],
      "text/plain": [
       "<IPython.core.display.HTML object>"
      ]
     },
     "metadata": {},
     "output_type": "display_data"
    },
    {
     "data": {
      "text/plain": [
       "TrainOutput(global_step=12, training_loss=6.486756801605225, metrics={'train_runtime': 26.8579, 'train_samples_per_second': 0.447, 'total_flos': 0, 'epoch': 12.0})"
      ]
     },
     "execution_count": 44,
     "metadata": {},
     "output_type": "execute_result"
    }
   ],
   "source": [
    "bidaf_trainer.train()"
   ]
  },
  {
   "cell_type": "markdown",
   "metadata": {},
   "source": [
    "### Training only"
   ]
  },
  {
   "cell_type": "code",
   "execution_count": null,
   "metadata": {},
   "outputs": [],
   "source": [
    "bidaf_model = model.QABiDAFModel(glove_embedding_layer, device=DEVICE)\n",
    "print(f\"The BiDAF model has {bidaf_model.count_parameters()} parameters\")"
   ]
  },
  {
   "cell_type": "code",
   "execution_count": null,
   "metadata": {},
   "outputs": [],
   "source": [
    "bidaf_trainer = training.SquadTrainer(\n",
    "    model=bidaf_model,\n",
    "    args=bidaf_args(run_name=f\"{bidaf_run_name}-whole\", evaluation_strategy=\"no\"),\n",
    "    data_collator=standard_dm.tokenizer,\n",
    "    train_dataset=standard_dm.whole_dataset,\n",
    "    optimizers=(bidaf_optimizer, bidaf_lr_scheduler),\n",
    ")"
   ]
  },
  {
   "cell_type": "code",
   "execution_count": null,
   "metadata": {},
   "outputs": [],
   "source": [
    "bidaf_trainer.train()"
   ]
  },
  {
   "cell_type": "markdown",
   "metadata": {},
   "source": [
    "### Testing"
   ]
  },
  {
   "cell_type": "code",
   "execution_count": 45,
   "metadata": {
    "execution": {
     "iopub.execute_input": "2021-01-21T18:02:35.254192Z",
     "iopub.status.busy": "2021-01-21T18:02:35.253869Z",
     "iopub.status.idle": "2021-01-21T18:02:35.599943Z",
     "shell.execute_reply": "2021-01-21T18:02:35.598889Z",
     "shell.execute_reply.started": "2021-01-21T18:02:35.254152Z"
    }
   },
   "outputs": [
    {
     "data": {
      "text/html": [
       "\n",
       "    <div>\n",
       "        <style>\n",
       "            /* Turns off some styling */\n",
       "            progress {\n",
       "                /* gets rid of default border in Firefox and Opera. */\n",
       "                border: none;\n",
       "                /* Needs to be in here for Safari polyfill so background images work as expected. */\n",
       "                background-size: auto;\n",
       "            }\n",
       "        </style>\n",
       "      \n",
       "      <progress value='1' max='1' style='width:300px; height:20px; vertical-align: middle;'></progress>\n",
       "      [1/1 : < :]\n",
       "    </div>\n",
       "    "
      ],
      "text/plain": [
       "<IPython.core.display.HTML object>"
      ]
     },
     "metadata": {},
     "output_type": "display_data"
    },
    {
     "data": {
      "text/plain": [
       "{'test_loss': 8.894977569580078,\n",
       " 'test_f1': 0.0,\n",
       " 'test_accuracy': 0.0,\n",
       " 'test_em': 0.0,\n",
       " 'test_runtime': 0.2739,\n",
       " 'test_samples_per_second': 3.651}"
      ]
     },
     "execution_count": 45,
     "metadata": {},
     "output_type": "execute_result"
    }
   ],
   "source": [
    "bidaf_test_output = bidaf_trainer.predict(standard_dm.test_dataset)\n",
    "bidaf_test_output.metrics"
   ]
  },
  {
   "cell_type": "code",
   "execution_count": 46,
   "metadata": {
    "execution": {
     "iopub.execute_input": "2021-01-21T18:02:35.601859Z",
     "iopub.status.busy": "2021-01-21T18:02:35.601360Z",
     "iopub.status.idle": "2021-01-21T18:02:44.909008Z",
     "shell.execute_reply": "2021-01-21T18:02:44.907592Z",
     "shell.execute_reply.started": "2021-01-21T18:02:35.601819Z"
    }
   },
   "outputs": [],
   "source": [
    "bidaf_answers_path = \"results/answers/bidaf.json\"\n",
    "utils.save_answers(bidaf_answers_path, bidaf_test_output.predictions[-1])\n",
    "wandb.save(bidaf_answers_path);\n",
    "wandb.finish()"
   ]
  },
  {
   "cell_type": "markdown",
   "metadata": {},
   "source": [
    "## Transformers data loading"
   ]
  },
  {
   "cell_type": "code",
   "execution_count": 14,
   "metadata": {
    "execution": {
     "iopub.execute_input": "2021-01-21T17:55:40.303587Z",
     "iopub.status.busy": "2021-01-21T17:55:40.303141Z",
     "iopub.status.idle": "2021-01-21T17:55:40.366264Z",
     "shell.execute_reply": "2021-01-21T17:55:40.364414Z",
     "shell.execute_reply.started": "2021-01-21T17:55:40.303542Z"
    }
   },
   "outputs": [],
   "source": [
    "MAX_BERT_TOKENS = 512"
   ]
  },
  {
   "cell_type": "code",
   "execution_count": 15,
   "metadata": {
    "execution": {
     "iopub.execute_input": "2021-01-21T17:55:40.938075Z",
     "iopub.status.busy": "2021-01-21T17:55:40.937763Z",
     "iopub.status.idle": "2021-01-21T17:55:41.017576Z",
     "shell.execute_reply": "2021-01-21T17:55:41.016418Z",
     "shell.execute_reply.started": "2021-01-21T17:55:40.938037Z"
    }
   },
   "outputs": [],
   "source": [
    "bert_tokenizer = tokenizer.get_bert_tokenizer(max_tokens=MAX_BERT_TOKENS, device=DEVICE)"
   ]
  },
  {
   "cell_type": "code",
   "execution_count": 16,
   "metadata": {
    "execution": {
     "iopub.execute_input": "2021-01-21T17:55:41.941700Z",
     "iopub.status.busy": "2021-01-21T17:55:41.941390Z",
     "iopub.status.idle": "2021-01-21T17:55:42.069023Z",
     "shell.execute_reply": "2021-01-21T17:55:42.067889Z",
     "shell.execute_reply.started": "2021-01-21T17:55:41.941662Z"
    }
   },
   "outputs": [],
   "source": [
    "bert_dm = dataset.SquadDataManager(squad_dataset, bert_tokenizer, device=DEVICE)"
   ]
  },
  {
   "cell_type": "code",
   "execution_count": 17,
   "metadata": {
    "execution": {
     "iopub.execute_input": "2021-01-21T17:55:45.706429Z",
     "iopub.status.busy": "2021-01-21T17:55:45.705971Z",
     "iopub.status.idle": "2021-01-21T17:55:45.795126Z",
     "shell.execute_reply": "2021-01-21T17:55:45.794044Z",
     "shell.execute_reply.started": "2021-01-21T17:55:45.706385Z"
    }
   },
   "outputs": [
    {
     "data": {
      "text/html": [
       "<div>\n",
       "<style scoped>\n",
       "    .dataframe tbody tr th:only-of-type {\n",
       "        vertical-align: middle;\n",
       "    }\n",
       "\n",
       "    .dataframe tbody tr th {\n",
       "        vertical-align: top;\n",
       "    }\n",
       "\n",
       "    .dataframe thead th {\n",
       "        text-align: right;\n",
       "    }\n",
       "</style>\n",
       "<table border=\"1\" class=\"dataframe\">\n",
       "  <thead>\n",
       "    <tr style=\"text-align: right;\">\n",
       "      <th></th>\n",
       "      <th>question_id</th>\n",
       "      <th>question</th>\n",
       "      <th>title</th>\n",
       "      <th>context_id</th>\n",
       "      <th>context</th>\n",
       "      <th>answer</th>\n",
       "      <th>answer_start</th>\n",
       "      <th>answer_end</th>\n",
       "    </tr>\n",
       "  </thead>\n",
       "  <tbody>\n",
       "    <tr>\n",
       "      <th>0</th>\n",
       "      <td>56cdd28562d2951400fa68bd</td>\n",
       "      <td>Who does M fight with?</td>\n",
       "      <td>Spectre_(2015_film)</td>\n",
       "      <td>470</td>\n",
       "      <td>Bond and Swann return to London where they mee...</td>\n",
       "      <td>[C]</td>\n",
       "      <td>[105]</td>\n",
       "      <td>[106]</td>\n",
       "    </tr>\n",
       "    <tr>\n",
       "      <th>1</th>\n",
       "      <td>56de4d9ecffd8e1900b4b7e2</td>\n",
       "      <td>What year was the Banská Akadémia founded?</td>\n",
       "      <td>Institute_of_technology</td>\n",
       "      <td>1860</td>\n",
       "      <td>The world's first institution of technology or...</td>\n",
       "      <td>[1735]</td>\n",
       "      <td>[167]</td>\n",
       "      <td>[171]</td>\n",
       "    </tr>\n",
       "    <tr>\n",
       "      <th>2</th>\n",
       "      <td>572674a05951b619008f7319</td>\n",
       "      <td>What is another speed that can also be reporte...</td>\n",
       "      <td>Film_speed</td>\n",
       "      <td>9354</td>\n",
       "      <td>The standard specifies how speed ratings shoul...</td>\n",
       "      <td>[SOS-based speed]</td>\n",
       "      <td>[793]</td>\n",
       "      <td>[808]</td>\n",
       "    </tr>\n",
       "    <tr>\n",
       "      <th>3</th>\n",
       "      <td>5726ef98708984140094d66e</td>\n",
       "      <td>What conferences became a requirement after Va...</td>\n",
       "      <td>Pope_Paul_VI</td>\n",
       "      <td>10862</td>\n",
       "      <td>Some critiqued Paul VI's decision; the newly c...</td>\n",
       "      <td>[National Bishop Conferences]</td>\n",
       "      <td>[347]</td>\n",
       "      <td>[374]</td>\n",
       "    </tr>\n",
       "    <tr>\n",
       "      <th>4</th>\n",
       "      <td>572843ce4b864d190016485c</td>\n",
       "      <td>What was the purpose of top secret ICBM commit...</td>\n",
       "      <td>John_von_Neumann</td>\n",
       "      <td>11497</td>\n",
       "      <td>Shortly before his death, when he was already ...</td>\n",
       "      <td>[decide on the feasibility of building an ICBM...</td>\n",
       "      <td>[194]</td>\n",
       "      <td>[284]</td>\n",
       "    </tr>\n",
       "    <tr>\n",
       "      <th>5</th>\n",
       "      <td>5730bb058ab72b1400f9c72c</td>\n",
       "      <td>Where were the use of advanced materials and t...</td>\n",
       "      <td>Sumer</td>\n",
       "      <td>17505</td>\n",
       "      <td>The most impressive and famous of Sumerian bui...</td>\n",
       "      <td>[Sumerian temples and palaces]</td>\n",
       "      <td>[421]</td>\n",
       "      <td>[449]</td>\n",
       "    </tr>\n",
       "  </tbody>\n",
       "</table>\n",
       "</div>"
      ],
      "text/plain": [
       "                question_id  \\\n",
       "0  56cdd28562d2951400fa68bd   \n",
       "1  56de4d9ecffd8e1900b4b7e2   \n",
       "2  572674a05951b619008f7319   \n",
       "3  5726ef98708984140094d66e   \n",
       "4  572843ce4b864d190016485c   \n",
       "5  5730bb058ab72b1400f9c72c   \n",
       "\n",
       "                                            question                    title  \\\n",
       "0                             Who does M fight with?      Spectre_(2015_film)   \n",
       "1         What year was the Banská Akadémia founded?  Institute_of_technology   \n",
       "2  What is another speed that can also be reporte...               Film_speed   \n",
       "3  What conferences became a requirement after Va...             Pope_Paul_VI   \n",
       "4  What was the purpose of top secret ICBM commit...         John_von_Neumann   \n",
       "5  Where were the use of advanced materials and t...                    Sumer   \n",
       "\n",
       "   context_id                                            context  \\\n",
       "0         470  Bond and Swann return to London where they mee...   \n",
       "1        1860  The world's first institution of technology or...   \n",
       "2        9354  The standard specifies how speed ratings shoul...   \n",
       "3       10862  Some critiqued Paul VI's decision; the newly c...   \n",
       "4       11497  Shortly before his death, when he was already ...   \n",
       "5       17505  The most impressive and famous of Sumerian bui...   \n",
       "\n",
       "                                              answer answer_start answer_end  \n",
       "0                                                [C]        [105]      [106]  \n",
       "1                                             [1735]        [167]      [171]  \n",
       "2                                  [SOS-based speed]        [793]      [808]  \n",
       "3                      [National Bishop Conferences]        [347]      [374]  \n",
       "4  [decide on the feasibility of building an ICBM...        [194]      [284]  \n",
       "5                     [Sumerian temples and palaces]        [421]      [449]  "
      ]
     },
     "execution_count": 17,
     "metadata": {},
     "output_type": "execute_result"
    }
   ],
   "source": [
    "bert_dm.train_df"
   ]
  },
  {
   "cell_type": "code",
   "execution_count": 18,
   "metadata": {
    "execution": {
     "iopub.execute_input": "2021-01-21T17:55:46.705605Z",
     "iopub.status.busy": "2021-01-21T17:55:46.705292Z",
     "iopub.status.idle": "2021-01-21T17:55:46.777118Z",
     "shell.execute_reply": "2021-01-21T17:55:46.775491Z",
     "shell.execute_reply.started": "2021-01-21T17:55:46.705567Z"
    }
   },
   "outputs": [
    {
     "data": {
      "text/html": [
       "<div>\n",
       "<style scoped>\n",
       "    .dataframe tbody tr th:only-of-type {\n",
       "        vertical-align: middle;\n",
       "    }\n",
       "\n",
       "    .dataframe tbody tr th {\n",
       "        vertical-align: top;\n",
       "    }\n",
       "\n",
       "    .dataframe thead th {\n",
       "        text-align: right;\n",
       "    }\n",
       "</style>\n",
       "<table border=\"1\" class=\"dataframe\">\n",
       "  <thead>\n",
       "    <tr style=\"text-align: right;\">\n",
       "      <th></th>\n",
       "      <th>question_id</th>\n",
       "      <th>question</th>\n",
       "      <th>title</th>\n",
       "      <th>context_id</th>\n",
       "      <th>context</th>\n",
       "      <th>answer</th>\n",
       "      <th>answer_start</th>\n",
       "      <th>answer_end</th>\n",
       "    </tr>\n",
       "  </thead>\n",
       "  <tbody>\n",
       "    <tr>\n",
       "      <th>0</th>\n",
       "      <td>570e1a2a0dc6ce1900204dbf</td>\n",
       "      <td>How many species of fungi have been found on A...</td>\n",
       "      <td>Antarctica</td>\n",
       "      <td>6902</td>\n",
       "      <td>About 1150 species of fungi have been recorded...</td>\n",
       "      <td>[1150]</td>\n",
       "      <td>[6]</td>\n",
       "      <td>[10]</td>\n",
       "    </tr>\n",
       "    <tr>\n",
       "      <th>1</th>\n",
       "      <td>572781a5f1498d1400e8fa1f</td>\n",
       "      <td>Who is elected every even numbered year?</td>\n",
       "      <td>Ann_Arbor,_Michigan</td>\n",
       "      <td>10585</td>\n",
       "      <td>Ann Arbor has a council-manager form of govern...</td>\n",
       "      <td>[mayor]</td>\n",
       "      <td>[192]</td>\n",
       "      <td>[197]</td>\n",
       "    </tr>\n",
       "  </tbody>\n",
       "</table>\n",
       "</div>"
      ],
      "text/plain": [
       "                question_id  \\\n",
       "0  570e1a2a0dc6ce1900204dbf   \n",
       "1  572781a5f1498d1400e8fa1f   \n",
       "\n",
       "                                            question                title  \\\n",
       "0  How many species of fungi have been found on A...           Antarctica   \n",
       "1           Who is elected every even numbered year?  Ann_Arbor,_Michigan   \n",
       "\n",
       "   context_id                                            context   answer  \\\n",
       "0        6902  About 1150 species of fungi have been recorded...   [1150]   \n",
       "1       10585  Ann Arbor has a council-manager form of govern...  [mayor]   \n",
       "\n",
       "  answer_start answer_end  \n",
       "0          [6]       [10]  \n",
       "1        [192]      [197]  "
      ]
     },
     "execution_count": 18,
     "metadata": {},
     "output_type": "execute_result"
    }
   ],
   "source": [
    "bert_dm.val_df"
   ]
  },
  {
   "cell_type": "code",
   "execution_count": 19,
   "metadata": {
    "execution": {
     "iopub.execute_input": "2021-01-21T17:55:50.998989Z",
     "iopub.status.busy": "2021-01-21T17:55:50.998540Z",
     "iopub.status.idle": "2021-01-21T17:55:51.076767Z",
     "shell.execute_reply": "2021-01-21T17:55:51.075179Z",
     "shell.execute_reply.started": "2021-01-21T17:55:50.998944Z"
    }
   },
   "outputs": [
    {
     "data": {
      "text/html": [
       "<div>\n",
       "<style scoped>\n",
       "    .dataframe tbody tr th:only-of-type {\n",
       "        vertical-align: middle;\n",
       "    }\n",
       "\n",
       "    .dataframe tbody tr th {\n",
       "        vertical-align: top;\n",
       "    }\n",
       "\n",
       "    .dataframe thead th {\n",
       "        text-align: right;\n",
       "    }\n",
       "</style>\n",
       "<table border=\"1\" class=\"dataframe\">\n",
       "  <thead>\n",
       "    <tr style=\"text-align: right;\">\n",
       "      <th></th>\n",
       "      <th>question_id</th>\n",
       "      <th>question</th>\n",
       "      <th>title</th>\n",
       "      <th>context_id</th>\n",
       "      <th>context</th>\n",
       "      <th>answer</th>\n",
       "      <th>answer_start</th>\n",
       "      <th>answer_end</th>\n",
       "    </tr>\n",
       "  </thead>\n",
       "  <tbody>\n",
       "    <tr>\n",
       "      <th>0</th>\n",
       "      <td>57379ed81c456719005744d7</td>\n",
       "      <td>In what way do idea strings transmit tesion fo...</td>\n",
       "      <td>Force</td>\n",
       "      <td>2058</td>\n",
       "      <td>Tension forces can be modeled using ideal stri...</td>\n",
       "      <td>[instantaneously in action-reaction pairs]</td>\n",
       "      <td>[250]</td>\n",
       "      <td>[290]</td>\n",
       "    </tr>\n",
       "  </tbody>\n",
       "</table>\n",
       "</div>"
      ],
      "text/plain": [
       "                question_id  \\\n",
       "0  57379ed81c456719005744d7   \n",
       "\n",
       "                                            question  title  context_id  \\\n",
       "0  In what way do idea strings transmit tesion fo...  Force        2058   \n",
       "\n",
       "                                             context  \\\n",
       "0  Tension forces can be modeled using ideal stri...   \n",
       "\n",
       "                                       answer answer_start answer_end  \n",
       "0  [instantaneously in action-reaction pairs]        [250]      [290]  "
      ]
     },
     "execution_count": 19,
     "metadata": {},
     "output_type": "execute_result"
    }
   ],
   "source": [
    "bert_dm.test_df"
   ]
  },
  {
   "cell_type": "markdown",
   "metadata": {},
   "source": [
    "## BERT"
   ]
  },
  {
   "cell_type": "code",
   "execution_count": 21,
   "metadata": {
    "execution": {
     "iopub.execute_input": "2021-01-21T17:56:03.202053Z",
     "iopub.status.busy": "2021-01-21T17:56:03.201744Z",
     "iopub.status.idle": "2021-01-21T17:56:03.264074Z",
     "shell.execute_reply": "2021-01-21T17:56:03.262943Z",
     "shell.execute_reply.started": "2021-01-21T17:56:03.202015Z"
    }
   },
   "outputs": [],
   "source": [
    "bert_optimizer = optim.Adam(bert_model.parameters(), lr=5e-5)\n",
    "bert_lr_scheduler = transformers.get_constant_schedule(bert_optimizer)"
   ]
  },
  {
   "cell_type": "code",
   "execution_count": 22,
   "metadata": {
    "execution": {
     "iopub.execute_input": "2021-01-21T17:56:05.140129Z",
     "iopub.status.busy": "2021-01-21T17:56:05.139775Z",
     "iopub.status.idle": "2021-01-21T17:56:05.227681Z",
     "shell.execute_reply": "2021-01-21T17:56:05.226548Z",
     "shell.execute_reply.started": "2021-01-21T17:56:05.140090Z"
    }
   },
   "outputs": [
    {
     "name": "stdout",
     "output_type": "stream",
     "text": [
      "env: WANDB_RUN_GROUP=bert\n"
     ]
    }
   ],
   "source": [
    "%env WANDB_RUN_GROUP=bert\n",
    "bert_run_name = utils.get_run_name()\n",
    "bert_args = partial(\n",
    "    TRAINER_ARGS,\n",
    "    output_dir=f\"./checkpoints/{os.getenv('WANDB_RUN_GROUP')}/{bert_run_name}\",\n",
    "    num_train_epochs=3,\n",
    "    per_device_train_batch_size=16,\n",
    "    per_device_eval_batch_size=16,\n",
    ")"
   ]
  },
  {
   "cell_type": "markdown",
   "metadata": {},
   "source": [
    "### Training and validation"
   ]
  },
  {
   "cell_type": "code",
   "execution_count": 20,
   "metadata": {
    "execution": {
     "iopub.execute_input": "2021-01-21T17:55:53.705471Z",
     "iopub.status.busy": "2021-01-21T17:55:53.705021Z",
     "iopub.status.idle": "2021-01-21T17:56:03.103337Z",
     "shell.execute_reply": "2021-01-21T17:56:03.101497Z",
     "shell.execute_reply.started": "2021-01-21T17:55:53.705426Z"
    }
   },
   "outputs": [],
   "source": [
    "bert_model = model.QABertModel(device=DEVICE)\n",
    "print(f\"The BERT model has {bert_model.count_parameters()} parameters\")"
   ]
  },
  {
   "cell_type": "code",
   "execution_count": null,
   "metadata": {},
   "outputs": [],
   "source": [
    "bert_trainer = training.SquadTrainer(\n",
    "    model=bert_model,\n",
    "    args=bert_args(run_name=bert_run_name),\n",
    "    data_collator=bert_dm.tokenizer,\n",
    "    train_dataset=bert_dm.train_dataset,\n",
    "    eval_dataset=bert_dm.val_dataset,\n",
    "    optimizers=(bert_optimizer, bert_lr_scheduler),\n",
    ")"
   ]
  },
  {
   "cell_type": "code",
   "execution_count": 23,
   "metadata": {
    "execution": {
     "iopub.execute_input": "2021-01-21T17:56:06.270781Z",
     "iopub.status.busy": "2021-01-21T17:56:06.270324Z",
     "iopub.status.idle": "2021-01-21T17:56:51.413490Z",
     "shell.execute_reply": "2021-01-21T17:56:51.412115Z",
     "shell.execute_reply.started": "2021-01-21T17:56:06.270736Z"
    }
   },
   "outputs": [
    {
     "data": {
      "text/html": [
       "\n",
       "    <div>\n",
       "        <style>\n",
       "            /* Turns off some styling */\n",
       "            progress {\n",
       "                /* gets rid of default border in Firefox and Opera. */\n",
       "                border: none;\n",
       "                /* Needs to be in here for Safari polyfill so background images work as expected. */\n",
       "                background-size: auto;\n",
       "            }\n",
       "        </style>\n",
       "      \n",
       "      <progress value='3' max='3' style='width:300px; height:20px; vertical-align: middle;'></progress>\n",
       "      [3/3 00:30, Epoch 3/3]\n",
       "    </div>\n",
       "    <table border=\"1\" class=\"dataframe\">\n",
       "  <thead>\n",
       "    <tr style=\"text-align: left;\">\n",
       "      <th>Epoch</th>\n",
       "      <th>Training Loss</th>\n",
       "      <th>Validation Loss</th>\n",
       "      <th>F1</th>\n",
       "      <th>Accuracy</th>\n",
       "      <th>Em</th>\n",
       "      <th>Runtime</th>\n",
       "      <th>Samples Per Second</th>\n",
       "    </tr>\n",
       "  </thead>\n",
       "  <tbody>\n",
       "    <tr>\n",
       "      <td>1</td>\n",
       "      <td>6.527200</td>\n",
       "      <td>6.653205</td>\n",
       "      <td>0.166667</td>\n",
       "      <td>0.250000</td>\n",
       "      <td>0.000000</td>\n",
       "      <td>1.042400</td>\n",
       "      <td>1.919000</td>\n",
       "    </tr>\n",
       "    <tr>\n",
       "      <td>2</td>\n",
       "      <td>6.527200</td>\n",
       "      <td>7.183872</td>\n",
       "      <td>0.166667</td>\n",
       "      <td>0.250000</td>\n",
       "      <td>0.000000</td>\n",
       "      <td>1.067100</td>\n",
       "      <td>1.874000</td>\n",
       "    </tr>\n",
       "    <tr>\n",
       "      <td>3</td>\n",
       "      <td>6.527200</td>\n",
       "      <td>7.202362</td>\n",
       "      <td>0.166667</td>\n",
       "      <td>0.250000</td>\n",
       "      <td>0.000000</td>\n",
       "      <td>0.952700</td>\n",
       "      <td>2.099000</td>\n",
       "    </tr>\n",
       "  </tbody>\n",
       "</table><p>"
      ],
      "text/plain": [
       "<IPython.core.display.HTML object>"
      ]
     },
     "metadata": {},
     "output_type": "display_data"
    },
    {
     "data": {
      "text/plain": [
       "TrainOutput(global_step=3, training_loss=5.523826281229655, metrics={'train_runtime': 45.0591, 'train_samples_per_second': 0.067, 'total_flos': 0, 'epoch': 3.0})"
      ]
     },
     "execution_count": 23,
     "metadata": {},
     "output_type": "execute_result"
    }
   ],
   "source": [
    "bert_trainer.train()"
   ]
  },
  {
   "cell_type": "markdown",
   "metadata": {},
   "source": [
    "### Training only"
   ]
  },
  {
   "cell_type": "code",
   "execution_count": null,
   "metadata": {},
   "outputs": [],
   "source": [
    "bert_model = model.QABertModel(device=DEVICE)\n",
    "print(f\"The BERT model has {bert_model.count_parameters()} parameters\")"
   ]
  },
  {
   "cell_type": "code",
   "execution_count": null,
   "metadata": {},
   "outputs": [],
   "source": [
    "bert_trainer = training.SquadTrainer(\n",
    "    model=bert_model,\n",
    "    args=bert_args(run_name=f\"{bert_run_name}-whole\", evaluation_strategy=\"no\"),\n",
    "    data_collator=bert_dm.tokenizer,\n",
    "    train_dataset=bert_dm.whole_dataset,\n",
    "    optimizers=(bert_optimizer, bert_lr_scheduler),\n",
    ")"
   ]
  },
  {
   "cell_type": "code",
   "execution_count": null,
   "metadata": {},
   "outputs": [],
   "source": [
    "bert_trainer.train()"
   ]
  },
  {
   "cell_type": "markdown",
   "metadata": {},
   "source": [
    "### Testing"
   ]
  },
  {
   "cell_type": "code",
   "execution_count": 24,
   "metadata": {
    "execution": {
     "iopub.execute_input": "2021-01-21T17:56:55.805141Z",
     "iopub.status.busy": "2021-01-21T17:56:55.804703Z",
     "iopub.status.idle": "2021-01-21T17:56:56.481031Z",
     "shell.execute_reply": "2021-01-21T17:56:56.479925Z",
     "shell.execute_reply.started": "2021-01-21T17:56:55.805097Z"
    }
   },
   "outputs": [
    {
     "data": {
      "text/html": [
       "\n",
       "    <div>\n",
       "        <style>\n",
       "            /* Turns off some styling */\n",
       "            progress {\n",
       "                /* gets rid of default border in Firefox and Opera. */\n",
       "                border: none;\n",
       "                /* Needs to be in here for Safari polyfill so background images work as expected. */\n",
       "                background-size: auto;\n",
       "            }\n",
       "        </style>\n",
       "      \n",
       "      <progress value='1' max='1' style='width:300px; height:20px; vertical-align: middle;'></progress>\n",
       "      [1/1 : < :]\n",
       "    </div>\n",
       "    "
      ],
      "text/plain": [
       "<IPython.core.display.HTML object>"
      ]
     },
     "metadata": {},
     "output_type": "display_data"
    },
    {
     "data": {
      "text/plain": [
       "{'test_loss': 9.000775337219238,\n",
       " 'test_f1': 0.0,\n",
       " 'test_accuracy': 0.0,\n",
       " 'test_em': 0.0,\n",
       " 'test_runtime': 0.6044,\n",
       " 'test_samples_per_second': 1.655}"
      ]
     },
     "execution_count": 24,
     "metadata": {},
     "output_type": "execute_result"
    }
   ],
   "source": [
    "bert_test_output = bert_trainer.predict(bert_dm.test_dataset)\n",
    "bert_test_output.metrics"
   ]
  },
  {
   "cell_type": "code",
   "execution_count": 25,
   "metadata": {
    "execution": {
     "iopub.execute_input": "2021-01-21T17:57:02.820786Z",
     "iopub.status.busy": "2021-01-21T17:57:02.820061Z",
     "iopub.status.idle": "2021-01-21T17:58:58.223064Z",
     "shell.execute_reply": "2021-01-21T17:58:58.221615Z",
     "shell.execute_reply.started": "2021-01-21T17:57:02.820720Z"
    }
   },
   "outputs": [],
   "source": [
    "bert_answers_path = \"results/answers/bert.json\"\n",
    "utils.save_answers(bert_answers_path, bert_test_output.predictions[-1])\n",
    "wandb.save(bert_answers_path);\n",
    "wandb.finish()"
   ]
  }
 ],
 "metadata": {
  "kernelspec": {
   "display_name": "Python 3",
   "language": "python",
   "name": "python3"
  },
  "language_info": {
   "codemirror_mode": {
    "name": "ipython",
    "version": 3
   },
   "file_extension": ".py",
   "mimetype": "text/x-python",
   "name": "python",
   "nbconvert_exporter": "python",
   "pygments_lexer": "ipython3",
   "version": "3.8.5"
  }
 },
 "nbformat": 4,
 "nbformat_minor": 4
}
