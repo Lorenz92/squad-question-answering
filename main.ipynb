{
 "cells": [
  {
   "cell_type": "markdown",
   "metadata": {},
   "source": [
    "# Question answering on the SQuAD dataset"
   ]
  },
  {
   "cell_type": "markdown",
   "metadata": {},
   "source": [
    "## Colab requirements"
   ]
  },
  {
   "cell_type": "markdown",
   "metadata": {
    "execution": {
     "iopub.execute_input": "2021-01-18T15:12:30.609774Z",
     "iopub.status.busy": "2021-01-18T15:12:30.609319Z",
     "iopub.status.idle": "2021-01-18T15:12:30.701692Z"
    }
   },
   "source": [
    "Before restarting runtime (remeber to select GPU runtime)$\\dots$"
   ]
  },
  {
   "cell_type": "code",
   "execution_count": null,
   "metadata": {},
   "outputs": [],
   "source": [
    "!git clone https://github.com/Wadaboa/squad-question-answering.git\n",
    "!pip install -r squad-question-answering/init/base_requirements.txt"
   ]
  },
  {
   "cell_type": "markdown",
   "metadata": {},
   "source": [
    "After restarting runtime$\\dots$"
   ]
  },
  {
   "cell_type": "code",
   "execution_count": null,
   "metadata": {},
   "outputs": [],
   "source": [
    "import os, sys\n",
    "\n",
    "sys.path.insert(0, \"/content/squad-question-answering\")\n",
    "os.chdir(\"/content/squad-question-answering\")"
   ]
  },
  {
   "cell_type": "markdown",
   "metadata": {},
   "source": [
    "## Imports"
   ]
  },
  {
   "cell_type": "code",
   "execution_count": 1,
   "metadata": {
    "execution": {
     "iopub.execute_input": "2021-01-21T17:55:11.878013Z",
     "iopub.status.busy": "2021-01-21T17:55:11.877550Z",
     "iopub.status.idle": "2021-01-21T17:55:15.027379Z",
     "shell.execute_reply": "2021-01-21T17:55:15.025677Z",
     "shell.execute_reply.started": "2021-01-21T17:55:11.877967Z"
    }
   },
   "outputs": [],
   "source": [
    "import os\n",
    "from functools import partial\n",
    "\n",
    "import numpy as np\n",
    "import matplotlib.pyplot as plt\n",
    "import torch\n",
    "import torch.nn as nn\n",
    "import torch.optim as optim\n",
    "import wandb\n",
    "import transformers\n",
    "from transformers.trainer_utils import set_seed\n",
    "\n",
    "import dataset\n",
    "import model\n",
    "import training\n",
    "import tokenizer\n",
    "import utils\n",
    "\n",
    "%load_ext autoreload\n",
    "%autoreload 2"
   ]
  },
  {
   "cell_type": "markdown",
   "metadata": {},
   "source": [
    "## Initialization"
   ]
  },
  {
   "cell_type": "markdown",
   "metadata": {},
   "source": [
    "### Matplotlib"
   ]
  },
  {
   "cell_type": "code",
   "execution_count": 2,
   "metadata": {
    "execution": {
     "iopub.execute_input": "2021-01-21T17:55:16.947062Z",
     "iopub.status.busy": "2021-01-21T17:55:16.946728Z",
     "iopub.status.idle": "2021-01-21T17:55:17.008929Z",
     "shell.execute_reply": "2021-01-21T17:55:17.007754Z",
     "shell.execute_reply.started": "2021-01-21T17:55:16.947025Z"
    }
   },
   "outputs": [],
   "source": [
    "%matplotlib inline\n",
    "plt.rcParams['figure.figsize'] = [8, 6]\n",
    "plt.rcParams['figure.dpi'] = 100\n",
    "plt.rcParams['axes.xmargin'] = .05\n",
    "plt.rcParams['axes.ymargin'] = .05\n",
    "plt.style.use('ggplot')"
   ]
  },
  {
   "cell_type": "markdown",
   "metadata": {},
   "source": [
    "### Weights & biases"
   ]
  },
  {
   "cell_type": "code",
   "execution_count": 3,
   "metadata": {
    "execution": {
     "iopub.execute_input": "2021-01-21T17:55:17.278078Z",
     "iopub.status.busy": "2021-01-21T17:55:17.277769Z",
     "iopub.status.idle": "2021-01-21T17:55:17.346578Z",
     "shell.execute_reply": "2021-01-21T17:55:17.345489Z",
     "shell.execute_reply.started": "2021-01-21T17:55:17.278040Z"
    }
   },
   "outputs": [
    {
     "name": "stdout",
     "output_type": "stream",
     "text": [
      "env: WANDB_PROJECT=squad-qa\n",
      "env: WANDB_ENTITY=wadaboa\n",
      "env: WANDB_MODE=online\n",
      "env: WANDB_RESUME=never\n",
      "env: WANDB_WATCH=false\n",
      "env: WANDB_SILENT=true\n"
     ]
    }
   ],
   "source": [
    "%env WANDB_PROJECT=squad-qa\n",
    "%env WANDB_ENTITY=wadaboa\n",
    "%env WANDB_MODE=online\n",
    "%env WANDB_RESUME=never\n",
    "%env WANDB_WATCH=false\n",
    "%env WANDB_SILENT=true"
   ]
  },
  {
   "cell_type": "code",
   "execution_count": 4,
   "metadata": {
    "execution": {
     "iopub.execute_input": "2021-01-21T17:55:17.730122Z",
     "iopub.status.busy": "2021-01-21T17:55:17.729809Z",
     "iopub.status.idle": "2021-01-21T17:55:19.887908Z",
     "shell.execute_reply": "2021-01-21T17:55:19.885983Z",
     "shell.execute_reply.started": "2021-01-21T17:55:17.730084Z"
    }
   },
   "outputs": [],
   "source": [
    "!wandb login"
   ]
  },
  {
   "cell_type": "code",
   "execution_count": 5,
   "metadata": {
    "execution": {
     "iopub.execute_input": "2021-01-21T17:55:19.968062Z",
     "iopub.status.busy": "2021-01-21T17:55:19.967755Z",
     "iopub.status.idle": "2021-01-21T17:55:21.657883Z",
     "shell.execute_reply": "2021-01-21T17:55:21.656367Z",
     "shell.execute_reply.started": "2021-01-21T17:55:19.968025Z"
    }
   },
   "outputs": [
    {
     "name": "stdout",
     "output_type": "stream",
     "text": [
      "W&B enabled.\n"
     ]
    }
   ],
   "source": [
    "!wandb enabled"
   ]
  },
  {
   "cell_type": "markdown",
   "metadata": {},
   "source": [
    "### PyTorch and numpy"
   ]
  },
  {
   "cell_type": "code",
   "execution_count": 6,
   "metadata": {
    "execution": {
     "iopub.execute_input": "2021-01-21T17:55:21.738206Z",
     "iopub.status.busy": "2021-01-21T17:55:21.737899Z",
     "iopub.status.idle": "2021-01-21T17:55:21.796371Z",
     "shell.execute_reply": "2021-01-21T17:55:21.795299Z",
     "shell.execute_reply.started": "2021-01-21T17:55:21.738169Z"
    }
   },
   "outputs": [],
   "source": [
    "RANDOM_SEED = 42\n",
    "set_seed(RANDOM_SEED)"
   ]
  },
  {
   "cell_type": "code",
   "execution_count": 7,
   "metadata": {
    "execution": {
     "iopub.execute_input": "2021-01-21T17:55:21.798410Z",
     "iopub.status.busy": "2021-01-21T17:55:21.798077Z",
     "iopub.status.idle": "2021-01-21T17:55:21.859786Z",
     "shell.execute_reply": "2021-01-21T17:55:21.858656Z",
     "shell.execute_reply.started": "2021-01-21T17:55:21.798373Z"
    }
   },
   "outputs": [
    {
     "name": "stderr",
     "output_type": "stream",
     "text": [
      "/root/anaconda3/lib/python3.8/site-packages/torch/cuda/__init__.py:52: UserWarning: CUDA initialization: Found no NVIDIA driver on your system. Please check that you have an NVIDIA GPU and installed a driver from http://www.nvidia.com/Download/index.aspx (Triggered internally at  /pytorch/c10/cuda/CUDAFunctions.cpp:100.)\n",
      "  return torch._C._cuda_getDeviceCount() > 0\n"
     ]
    },
    {
     "data": {
      "text/plain": [
       "device(type='cpu')"
      ]
     },
     "execution_count": 7,
     "metadata": {},
     "output_type": "execute_result"
    }
   ],
   "source": [
    "DEVICE = utils.get_device()\n",
    "DEVICE"
   ]
  },
  {
   "cell_type": "markdown",
   "metadata": {},
   "source": [
    "## Preliminaries"
   ]
  },
  {
   "cell_type": "markdown",
   "metadata": {},
   "source": [
    "### Raw data loading"
   ]
  },
  {
   "cell_type": "code",
   "execution_count": 132,
   "metadata": {
    "execution": {
     "iopub.execute_input": "2021-01-22T19:05:32.756516Z",
     "iopub.status.busy": "2021-01-22T19:05:32.756070Z",
     "iopub.status.idle": "2021-01-22T19:05:32.827839Z",
     "shell.execute_reply": "2021-01-22T19:05:32.826684Z",
     "shell.execute_reply.started": "2021-01-22T19:05:32.756471Z"
    }
   },
   "outputs": [],
   "source": [
    "DATA_FOLDER = os.path.join(os.getcwd(), \"data\")\n",
    "TRAIN_DATA_FOLDER = os.path.join(DATA_FOLDER, \"training\")\n",
    "TRAIN_SET_PATH = os.path.join(TRAIN_DATA_FOLDER, \"training_set.json\")\n",
    "TEST_DATA_FOLDER = os.path.join(DATA_FOLDER, \"testing\")\n",
    "TEST_SET_PATH = os.path.join(TEST_DATA_FOLDER, \"test_set.json\")"
   ]
  },
  {
   "cell_type": "code",
   "execution_count": 133,
   "metadata": {
    "execution": {
     "iopub.execute_input": "2021-01-22T19:05:34.955654Z",
     "iopub.status.busy": "2021-01-22T19:05:34.955332Z",
     "iopub.status.idle": "2021-01-22T19:05:35.208497Z",
     "shell.execute_reply": "2021-01-22T19:05:35.207251Z",
     "shell.execute_reply.started": "2021-01-22T19:05:34.955613Z"
    }
   },
   "outputs": [],
   "source": [
    "squad_dataset = dataset.SquadDataset(\n",
    "    train_set_path=TRAIN_SET_PATH, test_set_path=TEST_SET_PATH, subset=0.01\n",
    ")"
   ]
  },
  {
   "cell_type": "code",
   "execution_count": 134,
   "metadata": {
    "execution": {
     "iopub.execute_input": "2021-01-22T19:05:35.210875Z",
     "iopub.status.busy": "2021-01-22T19:05:35.210556Z",
     "iopub.status.idle": "2021-01-22T19:05:35.311358Z",
     "shell.execute_reply": "2021-01-22T19:05:35.310103Z",
     "shell.execute_reply.started": "2021-01-22T19:05:35.210835Z"
    }
   },
   "outputs": [
    {
     "data": {
      "text/html": [
       "<div>\n",
       "<style scoped>\n",
       "    .dataframe tbody tr th:only-of-type {\n",
       "        vertical-align: middle;\n",
       "    }\n",
       "\n",
       "    .dataframe tbody tr th {\n",
       "        vertical-align: top;\n",
       "    }\n",
       "\n",
       "    .dataframe thead th {\n",
       "        text-align: right;\n",
       "    }\n",
       "</style>\n",
       "<table border=\"1\" class=\"dataframe\">\n",
       "  <thead>\n",
       "    <tr style=\"text-align: right;\">\n",
       "      <th></th>\n",
       "      <th>answer_start</th>\n",
       "      <th>answer</th>\n",
       "      <th>title</th>\n",
       "      <th>context</th>\n",
       "      <th>question_id</th>\n",
       "      <th>question</th>\n",
       "      <th>context_id</th>\n",
       "      <th>answer_end</th>\n",
       "    </tr>\n",
       "  </thead>\n",
       "  <tbody>\n",
       "    <tr>\n",
       "      <th>0</th>\n",
       "      <td>421</td>\n",
       "      <td>3,000</td>\n",
       "      <td>Dissolution_of_the_Soviet_Union</td>\n",
       "      <td>On the next day, December 18, protests turned ...</td>\n",
       "      <td>5727891b708984140094e032</td>\n",
       "      <td>How many people were estimated by authorities ...</td>\n",
       "      <td>12157</td>\n",
       "      <td>426</td>\n",
       "    </tr>\n",
       "    <tr>\n",
       "      <th>1</th>\n",
       "      <td>0</td>\n",
       "      <td>Roman Catholicism</td>\n",
       "      <td>Germans</td>\n",
       "      <td>Roman Catholicism was the sole established rel...</td>\n",
       "      <td>57295cd51d04691400779321</td>\n",
       "      <td>Until the Reformation, what was the establishe...</td>\n",
       "      <td>9466</td>\n",
       "      <td>17</td>\n",
       "    </tr>\n",
       "    <tr>\n",
       "      <th>2</th>\n",
       "      <td>379</td>\n",
       "      <td>March 1969</td>\n",
       "      <td>Gamal_Abdel_Nasser</td>\n",
       "      <td>Israel retaliated against Egyptian shelling wi...</td>\n",
       "      <td>572832e92ca10214002da07f</td>\n",
       "      <td>When did the war start up again?</td>\n",
       "      <td>13342</td>\n",
       "      <td>389</td>\n",
       "    </tr>\n",
       "    <tr>\n",
       "      <th>3</th>\n",
       "      <td>0</td>\n",
       "      <td>Zen</td>\n",
       "      <td>Buddhism</td>\n",
       "      <td>Zen Buddhist teaching is often full of paradox...</td>\n",
       "      <td>56d249a4b329da140004ecf1</td>\n",
       "      <td>What Buddhist teachings are often full of para...</td>\n",
       "      <td>1180</td>\n",
       "      <td>3</td>\n",
       "    </tr>\n",
       "    <tr>\n",
       "      <th>4</th>\n",
       "      <td>642</td>\n",
       "      <td>Encyclopaedia of Islam</td>\n",
       "      <td>Quran</td>\n",
       "      <td>Sahih al-Bukhari narrates Muhammad describing ...</td>\n",
       "      <td>572eda2cdfa6aa1500f8d453</td>\n",
       "      <td>In which work did Welch express his belief tha...</td>\n",
       "      <td>16097</td>\n",
       "      <td>664</td>\n",
       "    </tr>\n",
       "    <tr>\n",
       "      <th>...</th>\n",
       "      <td>...</td>\n",
       "      <td>...</td>\n",
       "      <td>...</td>\n",
       "      <td>...</td>\n",
       "      <td>...</td>\n",
       "      <td>...</td>\n",
       "      <td>...</td>\n",
       "      <td>...</td>\n",
       "    </tr>\n",
       "    <tr>\n",
       "      <th>870</th>\n",
       "      <td>162</td>\n",
       "      <td>1954</td>\n",
       "      <td>Department_store</td>\n",
       "      <td>After World War II Hudson's realized that the ...</td>\n",
       "      <td>57267be6708984140094c79b</td>\n",
       "      <td>In what year did Hudson's address the issue of...</td>\n",
       "      <td>9620</td>\n",
       "      <td>166</td>\n",
       "    </tr>\n",
       "    <tr>\n",
       "      <th>871</th>\n",
       "      <td>10</td>\n",
       "      <td>Yellow Emperor</td>\n",
       "      <td>Humanism</td>\n",
       "      <td>In China, Yellow Emperor is regarded as the hu...</td>\n",
       "      <td>57327bd90fdd8d15006c6b01</td>\n",
       "      <td>Who was known as being a founder of humanism t...</td>\n",
       "      <td>18657</td>\n",
       "      <td>24</td>\n",
       "    </tr>\n",
       "    <tr>\n",
       "      <th>872</th>\n",
       "      <td>204</td>\n",
       "      <td>Economic Partnership Agreement</td>\n",
       "      <td>Tuvalu</td>\n",
       "      <td>In July 2013 Tuvalu signed the Memorandum of U...</td>\n",
       "      <td>5730e32fb7151e1900c015b0</td>\n",
       "      <td>What does the trade agreement encompass?</td>\n",
       "      <td>17534</td>\n",
       "      <td>234</td>\n",
       "    </tr>\n",
       "    <tr>\n",
       "      <th>873</th>\n",
       "      <td>627</td>\n",
       "      <td>Neal Purvis and Robert Wade</td>\n",
       "      <td>Spectre_(2015_film)</td>\n",
       "      <td>Despite being an original story, Spectre draws...</td>\n",
       "      <td>56cdd97f62d2951400fa68f2</td>\n",
       "      <td>Who were the writers of Spectre?</td>\n",
       "      <td>474</td>\n",
       "      <td>654</td>\n",
       "    </tr>\n",
       "    <tr>\n",
       "      <th>874</th>\n",
       "      <td>246</td>\n",
       "      <td>Frank Furness</td>\n",
       "      <td>Philadelphia</td>\n",
       "      <td>In the first decades of the 19th century, Fede...</td>\n",
       "      <td>572aa285be1ee31400cb80e4</td>\n",
       "      <td>Who is Philadelphia's greatest architect of th...</td>\n",
       "      <td>14941</td>\n",
       "      <td>259</td>\n",
       "    </tr>\n",
       "  </tbody>\n",
       "</table>\n",
       "<p>875 rows × 8 columns</p>\n",
       "</div>"
      ],
      "text/plain": [
       "     answer_start                          answer  \\\n",
       "0             421                           3,000   \n",
       "1               0               Roman Catholicism   \n",
       "2             379                      March 1969   \n",
       "3               0                             Zen   \n",
       "4             642          Encyclopaedia of Islam   \n",
       "..            ...                             ...   \n",
       "870           162                            1954   \n",
       "871            10                  Yellow Emperor   \n",
       "872           204  Economic Partnership Agreement   \n",
       "873           627     Neal Purvis and Robert Wade   \n",
       "874           246                   Frank Furness   \n",
       "\n",
       "                               title  \\\n",
       "0    Dissolution_of_the_Soviet_Union   \n",
       "1                            Germans   \n",
       "2                 Gamal_Abdel_Nasser   \n",
       "3                           Buddhism   \n",
       "4                              Quran   \n",
       "..                               ...   \n",
       "870                 Department_store   \n",
       "871                         Humanism   \n",
       "872                           Tuvalu   \n",
       "873              Spectre_(2015_film)   \n",
       "874                     Philadelphia   \n",
       "\n",
       "                                               context  \\\n",
       "0    On the next day, December 18, protests turned ...   \n",
       "1    Roman Catholicism was the sole established rel...   \n",
       "2    Israel retaliated against Egyptian shelling wi...   \n",
       "3    Zen Buddhist teaching is often full of paradox...   \n",
       "4    Sahih al-Bukhari narrates Muhammad describing ...   \n",
       "..                                                 ...   \n",
       "870  After World War II Hudson's realized that the ...   \n",
       "871  In China, Yellow Emperor is regarded as the hu...   \n",
       "872  In July 2013 Tuvalu signed the Memorandum of U...   \n",
       "873  Despite being an original story, Spectre draws...   \n",
       "874  In the first decades of the 19th century, Fede...   \n",
       "\n",
       "                  question_id  \\\n",
       "0    5727891b708984140094e032   \n",
       "1    57295cd51d04691400779321   \n",
       "2    572832e92ca10214002da07f   \n",
       "3    56d249a4b329da140004ecf1   \n",
       "4    572eda2cdfa6aa1500f8d453   \n",
       "..                        ...   \n",
       "870  57267be6708984140094c79b   \n",
       "871  57327bd90fdd8d15006c6b01   \n",
       "872  5730e32fb7151e1900c015b0   \n",
       "873  56cdd97f62d2951400fa68f2   \n",
       "874  572aa285be1ee31400cb80e4   \n",
       "\n",
       "                                              question  context_id  answer_end  \n",
       "0    How many people were estimated by authorities ...       12157         426  \n",
       "1    Until the Reformation, what was the establishe...        9466          17  \n",
       "2                     When did the war start up again?       13342         389  \n",
       "3    What Buddhist teachings are often full of para...        1180           3  \n",
       "4    In which work did Welch express his belief tha...       16097         664  \n",
       "..                                                 ...         ...         ...  \n",
       "870  In what year did Hudson's address the issue of...        9620         166  \n",
       "871  Who was known as being a founder of humanism t...       18657          24  \n",
       "872           What does the trade agreement encompass?       17534         234  \n",
       "873                   Who were the writers of Spectre?         474         654  \n",
       "874  Who is Philadelphia's greatest architect of th...       14941         259  \n",
       "\n",
       "[875 rows x 8 columns]"
      ]
     },
     "execution_count": 134,
     "metadata": {},
     "output_type": "execute_result"
    }
   ],
   "source": [
    "squad_dataset.raw_train_df"
   ]
  },
  {
   "cell_type": "code",
   "execution_count": 135,
   "metadata": {
    "execution": {
     "iopub.execute_input": "2021-01-22T19:05:35.313446Z",
     "iopub.status.busy": "2021-01-22T19:05:35.313128Z",
     "iopub.status.idle": "2021-01-22T19:05:35.398552Z",
     "shell.execute_reply": "2021-01-22T19:05:35.396967Z",
     "shell.execute_reply.started": "2021-01-22T19:05:35.313406Z"
    }
   },
   "outputs": [
    {
     "data": {
      "text/html": [
       "<div>\n",
       "<style scoped>\n",
       "    .dataframe tbody tr th:only-of-type {\n",
       "        vertical-align: middle;\n",
       "    }\n",
       "\n",
       "    .dataframe tbody tr th {\n",
       "        vertical-align: top;\n",
       "    }\n",
       "\n",
       "    .dataframe thead th {\n",
       "        text-align: right;\n",
       "    }\n",
       "</style>\n",
       "<table border=\"1\" class=\"dataframe\">\n",
       "  <thead>\n",
       "    <tr style=\"text-align: right;\">\n",
       "      <th></th>\n",
       "      <th>answer_start</th>\n",
       "      <th>answer</th>\n",
       "      <th>title</th>\n",
       "      <th>context</th>\n",
       "      <th>question_id</th>\n",
       "      <th>question</th>\n",
       "      <th>context_id</th>\n",
       "      <th>answer_end</th>\n",
       "    </tr>\n",
       "  </thead>\n",
       "  <tbody>\n",
       "    <tr>\n",
       "      <th>0</th>\n",
       "      <td>243</td>\n",
       "      <td>over $2,000,</td>\n",
       "      <td>Nikola_Tesla</td>\n",
       "      <td>Near the end of his life, Tesla walked to the ...</td>\n",
       "      <td>56e11ba9cd28a01900c675d8</td>\n",
       "      <td>How much did Tesla spend on the injured pigeon?</td>\n",
       "      <td>220</td>\n",
       "      <td>255</td>\n",
       "    </tr>\n",
       "    <tr>\n",
       "      <th>1</th>\n",
       "      <td>375</td>\n",
       "      <td>protective radiation shield</td>\n",
       "      <td>Oxygen</td>\n",
       "      <td>Trioxygen (O\\n3) is usually known as ozone and...</td>\n",
       "      <td>571c9074dd7acb1400e4c103</td>\n",
       "      <td>What function does ozone perform for the planet?</td>\n",
       "      <td>634</td>\n",
       "      <td>402</td>\n",
       "    </tr>\n",
       "    <tr>\n",
       "      <th>2</th>\n",
       "      <td>239</td>\n",
       "      <td>a stroke</td>\n",
       "      <td>Nikola_Tesla</td>\n",
       "      <td>On 24 March 1879, Tesla was returned to Gospić...</td>\n",
       "      <td>56e0cd33231d4119001ac3c2</td>\n",
       "      <td>What was one of theories as to what caused Tes...</td>\n",
       "      <td>159</td>\n",
       "      <td>247</td>\n",
       "    </tr>\n",
       "    <tr>\n",
       "      <th>3</th>\n",
       "      <td>290</td>\n",
       "      <td>Chartered</td>\n",
       "      <td>Teacher</td>\n",
       "      <td>Teaching may be carried out informally, within...</td>\n",
       "      <td>56e74bf937bdd419002c3e35</td>\n",
       "      <td>What is another type of accountant other than ...</td>\n",
       "      <td>292</td>\n",
       "      <td>299</td>\n",
       "    </tr>\n",
       "    <tr>\n",
       "      <th>4</th>\n",
       "      <td>1213</td>\n",
       "      <td>the contemporary Orient</td>\n",
       "      <td>Imperialism</td>\n",
       "      <td>Some have described the internal strife betwee...</td>\n",
       "      <td>5730bb522461fd1900a9d015</td>\n",
       "      <td>Who does Edward Said say is being attacked by ...</td>\n",
       "      <td>1922</td>\n",
       "      <td>1236</td>\n",
       "    </tr>\n",
       "    <tr>\n",
       "      <th>...</th>\n",
       "      <td>...</td>\n",
       "      <td>...</td>\n",
       "      <td>...</td>\n",
       "      <td>...</td>\n",
       "      <td>...</td>\n",
       "      <td>...</td>\n",
       "      <td>...</td>\n",
       "      <td>...</td>\n",
       "    </tr>\n",
       "    <tr>\n",
       "      <th>177</th>\n",
       "      <td>207</td>\n",
       "      <td>immunization</td>\n",
       "      <td>Immune_system</td>\n",
       "      <td>Long-term active memory is acquired following ...</td>\n",
       "      <td>5729ffda1d046914007796b0</td>\n",
       "      <td>What is the process of vaccination also known as?</td>\n",
       "      <td>1257</td>\n",
       "      <td>219</td>\n",
       "    </tr>\n",
       "    <tr>\n",
       "      <th>178</th>\n",
       "      <td>309</td>\n",
       "      <td>chlorophyll b</td>\n",
       "      <td>Chloroplast</td>\n",
       "      <td>The chloroplastidan chloroplasts, or green chl...</td>\n",
       "      <td>57295b5b1d04691400779319</td>\n",
       "      <td>What do green chloroplasts have instead of phy...</td>\n",
       "      <td>1678</td>\n",
       "      <td>322</td>\n",
       "    </tr>\n",
       "    <tr>\n",
       "      <th>179</th>\n",
       "      <td>359</td>\n",
       "      <td>the Miller–Rabin primality test</td>\n",
       "      <td>Prime_number</td>\n",
       "      <td>The property of being prime (or not) is called...</td>\n",
       "      <td>57296f293f37b319004783a5</td>\n",
       "      <td>What is the name of one algorithm useful for c...</td>\n",
       "      <td>1734</td>\n",
       "      <td>390</td>\n",
       "    </tr>\n",
       "    <tr>\n",
       "      <th>180</th>\n",
       "      <td>624</td>\n",
       "      <td>lack of understanding</td>\n",
       "      <td>Civil_disobedience</td>\n",
       "      <td>Many of the same decisions and principles that...</td>\n",
       "      <td>5728e8212ca10214002daa6f</td>\n",
       "      <td>What reasons cause failure of the disobedience...</td>\n",
       "      <td>1290</td>\n",
       "      <td>645</td>\n",
       "    </tr>\n",
       "    <tr>\n",
       "      <th>181</th>\n",
       "      <td>121</td>\n",
       "      <td>protect their tribal lands from commercial int...</td>\n",
       "      <td>Amazon_rainforest</td>\n",
       "      <td>The use of remote sensing for the conservation...</td>\n",
       "      <td>572a07c11d046914007796d9</td>\n",
       "      <td>Why do some tribes use remote sensing technology?</td>\n",
       "      <td>802</td>\n",
       "      <td>173</td>\n",
       "    </tr>\n",
       "  </tbody>\n",
       "</table>\n",
       "<p>182 rows × 8 columns</p>\n",
       "</div>"
      ],
      "text/plain": [
       "     answer_start                                             answer  \\\n",
       "0             243                                       over $2,000,   \n",
       "1             375                        protective radiation shield   \n",
       "2             239                                           a stroke   \n",
       "3             290                                          Chartered   \n",
       "4            1213                            the contemporary Orient   \n",
       "..            ...                                                ...   \n",
       "177           207                                       immunization   \n",
       "178           309                                      chlorophyll b   \n",
       "179           359                    the Miller–Rabin primality test   \n",
       "180           624                              lack of understanding   \n",
       "181           121  protect their tribal lands from commercial int...   \n",
       "\n",
       "                  title                                            context  \\\n",
       "0          Nikola_Tesla  Near the end of his life, Tesla walked to the ...   \n",
       "1                Oxygen  Trioxygen (O\\n3) is usually known as ozone and...   \n",
       "2          Nikola_Tesla  On 24 March 1879, Tesla was returned to Gospić...   \n",
       "3               Teacher  Teaching may be carried out informally, within...   \n",
       "4           Imperialism  Some have described the internal strife betwee...   \n",
       "..                  ...                                                ...   \n",
       "177       Immune_system  Long-term active memory is acquired following ...   \n",
       "178         Chloroplast  The chloroplastidan chloroplasts, or green chl...   \n",
       "179        Prime_number  The property of being prime (or not) is called...   \n",
       "180  Civil_disobedience  Many of the same decisions and principles that...   \n",
       "181   Amazon_rainforest  The use of remote sensing for the conservation...   \n",
       "\n",
       "                  question_id  \\\n",
       "0    56e11ba9cd28a01900c675d8   \n",
       "1    571c9074dd7acb1400e4c103   \n",
       "2    56e0cd33231d4119001ac3c2   \n",
       "3    56e74bf937bdd419002c3e35   \n",
       "4    5730bb522461fd1900a9d015   \n",
       "..                        ...   \n",
       "177  5729ffda1d046914007796b0   \n",
       "178  57295b5b1d04691400779319   \n",
       "179  57296f293f37b319004783a5   \n",
       "180  5728e8212ca10214002daa6f   \n",
       "181  572a07c11d046914007796d9   \n",
       "\n",
       "                                              question  context_id  answer_end  \n",
       "0      How much did Tesla spend on the injured pigeon?         220         255  \n",
       "1     What function does ozone perform for the planet?         634         402  \n",
       "2    What was one of theories as to what caused Tes...         159         247  \n",
       "3    What is another type of accountant other than ...         292         299  \n",
       "4    Who does Edward Said say is being attacked by ...        1922        1236  \n",
       "..                                                 ...         ...         ...  \n",
       "177  What is the process of vaccination also known as?        1257         219  \n",
       "178  What do green chloroplasts have instead of phy...        1678         322  \n",
       "179  What is the name of one algorithm useful for c...        1734         390  \n",
       "180  What reasons cause failure of the disobedience...        1290         645  \n",
       "181  Why do some tribes use remote sensing technology?         802         173  \n",
       "\n",
       "[182 rows x 8 columns]"
      ]
     },
     "execution_count": 135,
     "metadata": {},
     "output_type": "execute_result"
    }
   ],
   "source": [
    "squad_dataset.raw_test_df"
   ]
  },
  {
   "cell_type": "markdown",
   "metadata": {},
   "source": [
    "### Embeddings"
   ]
  },
  {
   "cell_type": "code",
   "execution_count": 26,
   "metadata": {
    "execution": {
     "iopub.execute_input": "2021-01-21T17:59:17.886263Z",
     "iopub.status.busy": "2021-01-21T17:59:17.885812Z",
     "iopub.status.idle": "2021-01-21T17:59:17.952936Z",
     "shell.execute_reply": "2021-01-21T17:59:17.951797Z",
     "shell.execute_reply.started": "2021-01-21T17:59:17.886202Z"
    }
   },
   "outputs": [],
   "source": [
    "UNK_TOKEN = \"[UNK]\"\n",
    "PAD_TOKEN = \"[PAD]\""
   ]
  },
  {
   "cell_type": "markdown",
   "metadata": {},
   "source": [
    "- FastText: \n",
    "    - _fasttext-wiki-news-subwords_ (dimensions: 300)\n",
    "- GloVe:\n",
    "    - _glove-twitter_ (dimensions: 25. 50, 100, 200)\n",
    "    - _glove-wiki-gigaword_ (dimensions: 50, 100, 200, 300)\n",
    "- Word2Vec:\n",
    "    - _word2vec-google-news_ (dimensions: 300)\n",
    "    - _word2vec-ruscorpora_ (dimensions: 300)"
   ]
  },
  {
   "cell_type": "code",
   "execution_count": 27,
   "metadata": {
    "execution": {
     "iopub.execute_input": "2021-01-21T17:59:18.213572Z",
     "iopub.status.busy": "2021-01-21T17:59:18.213254Z",
     "iopub.status.idle": "2021-01-21T18:00:52.422312Z",
     "shell.execute_reply": "2021-01-21T18:00:52.420464Z",
     "shell.execute_reply.started": "2021-01-21T17:59:18.213534Z"
    }
   },
   "outputs": [],
   "source": [
    "# See https://github.com/RaRe-Technologies/gensim-data\n",
    "GLOVE_EMBEDDING_DIMENSION = 25\n",
    "GLOVE_MODEL_NAME = \"glove-twitter\"\n",
    "glove_embedding_model, glove_vocab = utils.load_embedding_model(\n",
    "    GLOVE_MODEL_NAME,\n",
    "    embedding_dimension=GLOVE_EMBEDDING_DIMENSION,\n",
    "    unk_token=UNK_TOKEN,\n",
    "    pad_token=PAD_TOKEN,\n",
    ")"
   ]
  },
  {
   "cell_type": "code",
   "execution_count": 28,
   "metadata": {
    "execution": {
     "iopub.execute_input": "2021-01-21T18:00:54.826668Z",
     "iopub.status.busy": "2021-01-21T18:00:54.826295Z",
     "iopub.status.idle": "2021-01-21T18:00:56.191548Z",
     "shell.execute_reply": "2021-01-21T18:00:56.190163Z",
     "shell.execute_reply.started": "2021-01-21T18:00:54.826625Z"
    }
   },
   "outputs": [],
   "source": [
    "glove_embedding_layer = model.get_embedding_module(\n",
    "    glove_embedding_model, pad_id=glove_vocab[PAD_TOKEN]\n",
    ")"
   ]
  },
  {
   "cell_type": "markdown",
   "metadata": {},
   "source": [
    "### Standard tokenizer and preprocessing"
   ]
  },
  {
   "cell_type": "code",
   "execution_count": 136,
   "metadata": {
    "execution": {
     "iopub.execute_input": "2021-01-22T19:05:41.209396Z",
     "iopub.status.busy": "2021-01-22T19:05:41.209068Z",
     "iopub.status.idle": "2021-01-22T19:05:41.287061Z",
     "shell.execute_reply": "2021-01-22T19:05:41.285791Z",
     "shell.execute_reply.started": "2021-01-22T19:05:41.209354Z"
    }
   },
   "outputs": [],
   "source": [
    "MAX_CONTEXT_TOKENS = 300"
   ]
  },
  {
   "cell_type": "code",
   "execution_count": 137,
   "metadata": {
    "execution": {
     "iopub.execute_input": "2021-01-22T19:05:41.290109Z",
     "iopub.status.busy": "2021-01-22T19:05:41.289801Z",
     "iopub.status.idle": "2021-01-22T19:05:44.964857Z",
     "shell.execute_reply": "2021-01-22T19:05:44.963278Z",
     "shell.execute_reply.started": "2021-01-22T19:05:41.290072Z"
    }
   },
   "outputs": [],
   "source": [
    "standard_tokenizer = tokenizer.get_standard_tokenizer(\n",
    "    glove_vocab,\n",
    "    MAX_CONTEXT_TOKENS,\n",
    "    unk_token=UNK_TOKEN,\n",
    "    pad_token=PAD_TOKEN,\n",
    "    device=DEVICE,\n",
    ")"
   ]
  },
  {
   "cell_type": "code",
   "execution_count": 138,
   "metadata": {
    "execution": {
     "iopub.execute_input": "2021-01-22T19:05:44.967486Z",
     "iopub.status.busy": "2021-01-22T19:05:44.967157Z",
     "iopub.status.idle": "2021-01-22T19:05:45.899746Z",
     "shell.execute_reply": "2021-01-22T19:05:45.898348Z",
     "shell.execute_reply.started": "2021-01-22T19:05:44.967446Z"
    }
   },
   "outputs": [],
   "source": [
    "standard_dm = dataset.SquadDataManager(squad_dataset, standard_tokenizer, device=DEVICE)"
   ]
  },
  {
   "cell_type": "code",
   "execution_count": 139,
   "metadata": {
    "execution": {
     "iopub.execute_input": "2021-01-22T19:05:45.901906Z",
     "iopub.status.busy": "2021-01-22T19:05:45.901581Z",
     "iopub.status.idle": "2021-01-22T19:05:46.009432Z",
     "shell.execute_reply": "2021-01-22T19:05:46.008332Z",
     "shell.execute_reply.started": "2021-01-22T19:05:45.901866Z"
    }
   },
   "outputs": [
    {
     "data": {
      "text/html": [
       "<div>\n",
       "<style scoped>\n",
       "    .dataframe tbody tr th:only-of-type {\n",
       "        vertical-align: middle;\n",
       "    }\n",
       "\n",
       "    .dataframe tbody tr th {\n",
       "        vertical-align: top;\n",
       "    }\n",
       "\n",
       "    .dataframe thead th {\n",
       "        text-align: right;\n",
       "    }\n",
       "</style>\n",
       "<table border=\"1\" class=\"dataframe\">\n",
       "  <thead>\n",
       "    <tr style=\"text-align: right;\">\n",
       "      <th></th>\n",
       "      <th>question_id</th>\n",
       "      <th>question</th>\n",
       "      <th>title</th>\n",
       "      <th>context_id</th>\n",
       "      <th>context</th>\n",
       "      <th>answer</th>\n",
       "      <th>answer_start</th>\n",
       "      <th>answer_end</th>\n",
       "    </tr>\n",
       "  </thead>\n",
       "  <tbody>\n",
       "    <tr>\n",
       "      <th>0</th>\n",
       "      <td>56cd8b5862d2951400fa66a4</td>\n",
       "      <td>When is the HD version of Twilight Princess sl...</td>\n",
       "      <td>The_Legend_of_Zelda:_Twilight_Princess</td>\n",
       "      <td>433</td>\n",
       "      <td>At the time of its release, Twilight Princess ...</td>\n",
       "      <td>[March 2016]</td>\n",
       "      <td>[530]</td>\n",
       "      <td>[540]</td>\n",
       "    </tr>\n",
       "    <tr>\n",
       "      <th>1</th>\n",
       "      <td>56cdd97f62d2951400fa68f2</td>\n",
       "      <td>Who were the writers of Spectre?</td>\n",
       "      <td>Spectre_(2015_film)</td>\n",
       "      <td>474</td>\n",
       "      <td>Despite being an original story, Spectre draws...</td>\n",
       "      <td>[Neal Purvis and Robert Wade]</td>\n",
       "      <td>[627]</td>\n",
       "      <td>[654]</td>\n",
       "    </tr>\n",
       "    <tr>\n",
       "      <th>2</th>\n",
       "      <td>56ce42afaab44d1400b88620</td>\n",
       "      <td>Who was given the grandiose title?</td>\n",
       "      <td>Sino-Tibetan_relations_during_the_Ming_dynasty</td>\n",
       "      <td>362</td>\n",
       "      <td>Sonam Gyatso, after being granted the grandios...</td>\n",
       "      <td>[Sonam Gyatso]</td>\n",
       "      <td>[0]</td>\n",
       "      <td>[12]</td>\n",
       "    </tr>\n",
       "    <tr>\n",
       "      <th>3</th>\n",
       "      <td>56ce9211aab44d1400b88895</td>\n",
       "      <td>What is an example of a passive solar technique?</td>\n",
       "      <td>Solar_energy</td>\n",
       "      <td>833</td>\n",
       "      <td>It is an important source of renewable energy ...</td>\n",
       "      <td>[orienting a building to the Sun]</td>\n",
       "      <td>[397]</td>\n",
       "      <td>[428]</td>\n",
       "    </tr>\n",
       "    <tr>\n",
       "      <th>4</th>\n",
       "      <td>56ce9464aab44d1400b8889a</td>\n",
       "      <td>What is solar energy's yearly potential?</td>\n",
       "      <td>Solar_energy</td>\n",
       "      <td>834</td>\n",
       "      <td>The large magnitude of solar energy available ...</td>\n",
       "      <td>[1,575–49,837 exajoules (EJ)]</td>\n",
       "      <td>[226]</td>\n",
       "      <td>[253]</td>\n",
       "    </tr>\n",
       "    <tr>\n",
       "      <th>...</th>\n",
       "      <td>...</td>\n",
       "      <td>...</td>\n",
       "      <td>...</td>\n",
       "      <td>...</td>\n",
       "      <td>...</td>\n",
       "      <td>...</td>\n",
       "      <td>...</td>\n",
       "      <td>...</td>\n",
       "    </tr>\n",
       "    <tr>\n",
       "      <th>694</th>\n",
       "      <td>57359fece853931400426a84</td>\n",
       "      <td>How many cities were present in the Kathmandu ...</td>\n",
       "      <td>Kathmandu</td>\n",
       "      <td>18842</td>\n",
       "      <td>During the later part of the Malla era, Kathma...</td>\n",
       "      <td>[four]</td>\n",
       "      <td>[67]</td>\n",
       "      <td>[71]</td>\n",
       "    </tr>\n",
       "    <tr>\n",
       "      <th>695</th>\n",
       "      <td>5735c92f012e2f140011a046</td>\n",
       "      <td>What are done with the bodies of Kirants after...</td>\n",
       "      <td>Kathmandu</td>\n",
       "      <td>18882</td>\n",
       "      <td>The Bagmati River which flows through Kathmand...</td>\n",
       "      <td>[buried]</td>\n",
       "      <td>[275]</td>\n",
       "      <td>[281]</td>\n",
       "    </tr>\n",
       "    <tr>\n",
       "      <th>696</th>\n",
       "      <td>5735d1a86c16ec1900b92834</td>\n",
       "      <td>From what city does Arkefly offer nonstop flig...</td>\n",
       "      <td>Kathmandu</td>\n",
       "      <td>18889</td>\n",
       "      <td>The main international airport serving Kathman...</td>\n",
       "      <td>[Amsterdam]</td>\n",
       "      <td>[698]</td>\n",
       "      <td>[707]</td>\n",
       "    </tr>\n",
       "    <tr>\n",
       "      <th>697</th>\n",
       "      <td>57361c88012e2f140011a1a7</td>\n",
       "      <td>Who are federal excise taxes are distributed to?</td>\n",
       "      <td>Hunting</td>\n",
       "      <td>18818</td>\n",
       "      <td>Each year, nearly $200 million in hunters' fed...</td>\n",
       "      <td>[state agencies]</td>\n",
       "      <td>[83]</td>\n",
       "      <td>[97]</td>\n",
       "    </tr>\n",
       "    <tr>\n",
       "      <th>698</th>\n",
       "      <td>5736328f6c16ec1900b929a4</td>\n",
       "      <td>What do the stamps depict?</td>\n",
       "      <td>Hunting</td>\n",
       "      <td>18828</td>\n",
       "      <td>On 16 March 1934, President Franklin D. Roosev...</td>\n",
       "      <td>[wildlife artwork]</td>\n",
       "      <td>[259]</td>\n",
       "      <td>[275]</td>\n",
       "    </tr>\n",
       "  </tbody>\n",
       "</table>\n",
       "<p>699 rows × 8 columns</p>\n",
       "</div>"
      ],
      "text/plain": [
       "                  question_id  \\\n",
       "0    56cd8b5862d2951400fa66a4   \n",
       "1    56cdd97f62d2951400fa68f2   \n",
       "2    56ce42afaab44d1400b88620   \n",
       "3    56ce9211aab44d1400b88895   \n",
       "4    56ce9464aab44d1400b8889a   \n",
       "..                        ...   \n",
       "694  57359fece853931400426a84   \n",
       "695  5735c92f012e2f140011a046   \n",
       "696  5735d1a86c16ec1900b92834   \n",
       "697  57361c88012e2f140011a1a7   \n",
       "698  5736328f6c16ec1900b929a4   \n",
       "\n",
       "                                              question  \\\n",
       "0    When is the HD version of Twilight Princess sl...   \n",
       "1                     Who were the writers of Spectre?   \n",
       "2                   Who was given the grandiose title?   \n",
       "3     What is an example of a passive solar technique?   \n",
       "4             What is solar energy's yearly potential?   \n",
       "..                                                 ...   \n",
       "694  How many cities were present in the Kathmandu ...   \n",
       "695  What are done with the bodies of Kirants after...   \n",
       "696  From what city does Arkefly offer nonstop flig...   \n",
       "697   Who are federal excise taxes are distributed to?   \n",
       "698                         What do the stamps depict?   \n",
       "\n",
       "                                              title  context_id  \\\n",
       "0            The_Legend_of_Zelda:_Twilight_Princess         433   \n",
       "1                               Spectre_(2015_film)         474   \n",
       "2    Sino-Tibetan_relations_during_the_Ming_dynasty         362   \n",
       "3                                      Solar_energy         833   \n",
       "4                                      Solar_energy         834   \n",
       "..                                              ...         ...   \n",
       "694                                       Kathmandu       18842   \n",
       "695                                       Kathmandu       18882   \n",
       "696                                       Kathmandu       18889   \n",
       "697                                         Hunting       18818   \n",
       "698                                         Hunting       18828   \n",
       "\n",
       "                                               context  \\\n",
       "0    At the time of its release, Twilight Princess ...   \n",
       "1    Despite being an original story, Spectre draws...   \n",
       "2    Sonam Gyatso, after being granted the grandios...   \n",
       "3    It is an important source of renewable energy ...   \n",
       "4    The large magnitude of solar energy available ...   \n",
       "..                                                 ...   \n",
       "694  During the later part of the Malla era, Kathma...   \n",
       "695  The Bagmati River which flows through Kathmand...   \n",
       "696  The main international airport serving Kathman...   \n",
       "697  Each year, nearly $200 million in hunters' fed...   \n",
       "698  On 16 March 1934, President Franklin D. Roosev...   \n",
       "\n",
       "                                answer answer_start answer_end  \n",
       "0                         [March 2016]        [530]      [540]  \n",
       "1        [Neal Purvis and Robert Wade]        [627]      [654]  \n",
       "2                       [Sonam Gyatso]          [0]       [12]  \n",
       "3    [orienting a building to the Sun]        [397]      [428]  \n",
       "4        [1,575–49,837 exajoules (EJ)]        [226]      [253]  \n",
       "..                                 ...          ...        ...  \n",
       "694                             [four]         [67]       [71]  \n",
       "695                           [buried]        [275]      [281]  \n",
       "696                        [Amsterdam]        [698]      [707]  \n",
       "697                   [state agencies]         [83]       [97]  \n",
       "698                 [wildlife artwork]        [259]      [275]  \n",
       "\n",
       "[699 rows x 8 columns]"
      ]
     },
     "execution_count": 139,
     "metadata": {},
     "output_type": "execute_result"
    }
   ],
   "source": [
    "standard_dm.train_df"
   ]
  },
  {
   "cell_type": "code",
   "execution_count": 140,
   "metadata": {
    "execution": {
     "iopub.execute_input": "2021-01-22T19:05:46.011318Z",
     "iopub.status.busy": "2021-01-22T19:05:46.011003Z",
     "iopub.status.idle": "2021-01-22T19:05:46.109448Z",
     "shell.execute_reply": "2021-01-22T19:05:46.107949Z",
     "shell.execute_reply.started": "2021-01-22T19:05:46.011279Z"
    }
   },
   "outputs": [
    {
     "data": {
      "text/html": [
       "<div>\n",
       "<style scoped>\n",
       "    .dataframe tbody tr th:only-of-type {\n",
       "        vertical-align: middle;\n",
       "    }\n",
       "\n",
       "    .dataframe tbody tr th {\n",
       "        vertical-align: top;\n",
       "    }\n",
       "\n",
       "    .dataframe thead th {\n",
       "        text-align: right;\n",
       "    }\n",
       "</style>\n",
       "<table border=\"1\" class=\"dataframe\">\n",
       "  <thead>\n",
       "    <tr style=\"text-align: right;\">\n",
       "      <th></th>\n",
       "      <th>question_id</th>\n",
       "      <th>question</th>\n",
       "      <th>title</th>\n",
       "      <th>context_id</th>\n",
       "      <th>context</th>\n",
       "      <th>answer</th>\n",
       "      <th>answer_start</th>\n",
       "      <th>answer_end</th>\n",
       "    </tr>\n",
       "  </thead>\n",
       "  <tbody>\n",
       "    <tr>\n",
       "      <th>0</th>\n",
       "      <td>56be8e353aeaaa14008c90c7</td>\n",
       "      <td>How many weeks did their single \"Independent W...</td>\n",
       "      <td>Beyoncé</td>\n",
       "      <td>63</td>\n",
       "      <td>The remaining band members recorded \"Independe...</td>\n",
       "      <td>[eleven]</td>\n",
       "      <td>[216]</td>\n",
       "      <td>[222]</td>\n",
       "    </tr>\n",
       "    <tr>\n",
       "      <th>1</th>\n",
       "      <td>56beb2a43aeaaa14008c9239</td>\n",
       "      <td>Beyonce along with Jay Z met with whom's famil...</td>\n",
       "      <td>Beyoncé</td>\n",
       "      <td>87</td>\n",
       "      <td>Following the death of Freddie Gray, Beyoncé a...</td>\n",
       "      <td>[Freddie Gray]</td>\n",
       "      <td>[23]</td>\n",
       "      <td>[35]</td>\n",
       "    </tr>\n",
       "    <tr>\n",
       "      <th>2</th>\n",
       "      <td>56bec3303aeaaa14008c9391</td>\n",
       "      <td>What characteristics has Beyonce received accl...</td>\n",
       "      <td>Beyoncé</td>\n",
       "      <td>97</td>\n",
       "      <td>Beyoncé has received praise for her stage pres...</td>\n",
       "      <td>[stage presence and voice]</td>\n",
       "      <td>[36]</td>\n",
       "      <td>[60]</td>\n",
       "    </tr>\n",
       "    <tr>\n",
       "      <th>3</th>\n",
       "      <td>56bf940da10cfb140055118b</td>\n",
       "      <td>How high did ''Deja Vu'' climb on the Billboar...</td>\n",
       "      <td>Beyoncé</td>\n",
       "      <td>67</td>\n",
       "      <td>Beyoncé's second solo album B'Day was released...</td>\n",
       "      <td>[top five]</td>\n",
       "      <td>[342]</td>\n",
       "      <td>[350]</td>\n",
       "    </tr>\n",
       "    <tr>\n",
       "      <th>4</th>\n",
       "      <td>56bfc281a10cfb14005512b6</td>\n",
       "      <td>Who chose her as number one on his list of Bes...</td>\n",
       "      <td>Beyoncé</td>\n",
       "      <td>97</td>\n",
       "      <td>Beyoncé has received praise for her stage pres...</td>\n",
       "      <td>[Jarett Wieselman]</td>\n",
       "      <td>[87]</td>\n",
       "      <td>[103]</td>\n",
       "    </tr>\n",
       "    <tr>\n",
       "      <th>...</th>\n",
       "      <td>...</td>\n",
       "      <td>...</td>\n",
       "      <td>...</td>\n",
       "      <td>...</td>\n",
       "      <td>...</td>\n",
       "      <td>...</td>\n",
       "      <td>...</td>\n",
       "      <td>...</td>\n",
       "    </tr>\n",
       "    <tr>\n",
       "      <th>169</th>\n",
       "      <td>5732b3a5328d981900602019</td>\n",
       "      <td>What does CRA stand for?</td>\n",
       "      <td>Financial_crisis_of_2007%E2%80%9308</td>\n",
       "      <td>1646</td>\n",
       "      <td>A 2000 United States Department of the Treasur...</td>\n",
       "      <td>[Community Reinvestment Act]</td>\n",
       "      <td>[162]</td>\n",
       "      <td>[188]</td>\n",
       "    </tr>\n",
       "    <tr>\n",
       "      <th>170</th>\n",
       "      <td>573334094776f41900660786</td>\n",
       "      <td>Per Bernanke, how much did the U.S. current ac...</td>\n",
       "      <td>Financial_crisis_of_2007%E2%80%9308</td>\n",
       "      <td>1596</td>\n",
       "      <td>Bernanke explained that between 1996 and 2004,...</td>\n",
       "      <td>[$650 billion]</td>\n",
       "      <td>[93]</td>\n",
       "      <td>[105]</td>\n",
       "    </tr>\n",
       "    <tr>\n",
       "      <th>171</th>\n",
       "      <td>57335c77d058e614000b5909</td>\n",
       "      <td>Who founded the Atlanta-based Intercontinental...</td>\n",
       "      <td>Financial_crisis_of_2007%E2%80%9308</td>\n",
       "      <td>1619</td>\n",
       "      <td>In testimony before the Senate Committee on Co...</td>\n",
       "      <td>[Goldman Sachs, Morgan Stanley and BP]</td>\n",
       "      <td>[281]</td>\n",
       "      <td>[317]</td>\n",
       "    </tr>\n",
       "    <tr>\n",
       "      <th>172</th>\n",
       "      <td>5733703c4776f41900660ad9</td>\n",
       "      <td>What do money market funds frequently invest in?</td>\n",
       "      <td>Financial_crisis_of_2007%E2%80%9308</td>\n",
       "      <td>1578</td>\n",
       "      <td>In September 2008, the crisis hit its most cri...</td>\n",
       "      <td>[commercial paper issued by corporations]</td>\n",
       "      <td>[152]</td>\n",
       "      <td>[191]</td>\n",
       "    </tr>\n",
       "    <tr>\n",
       "      <th>173</th>\n",
       "      <td>573387494776f41900660caf</td>\n",
       "      <td>When did the U.S. recession that began in Dece...</td>\n",
       "      <td>Financial_crisis_of_2007%E2%80%9308</td>\n",
       "      <td>1589</td>\n",
       "      <td>The U.S. recession that began in December 2007...</td>\n",
       "      <td>[June 2009]</td>\n",
       "      <td>[56]</td>\n",
       "      <td>[65]</td>\n",
       "    </tr>\n",
       "  </tbody>\n",
       "</table>\n",
       "<p>174 rows × 8 columns</p>\n",
       "</div>"
      ],
      "text/plain": [
       "                  question_id  \\\n",
       "0    56be8e353aeaaa14008c90c7   \n",
       "1    56beb2a43aeaaa14008c9239   \n",
       "2    56bec3303aeaaa14008c9391   \n",
       "3    56bf940da10cfb140055118b   \n",
       "4    56bfc281a10cfb14005512b6   \n",
       "..                        ...   \n",
       "169  5732b3a5328d981900602019   \n",
       "170  573334094776f41900660786   \n",
       "171  57335c77d058e614000b5909   \n",
       "172  5733703c4776f41900660ad9   \n",
       "173  573387494776f41900660caf   \n",
       "\n",
       "                                              question  \\\n",
       "0    How many weeks did their single \"Independent W...   \n",
       "1    Beyonce along with Jay Z met with whom's famil...   \n",
       "2    What characteristics has Beyonce received accl...   \n",
       "3    How high did ''Deja Vu'' climb on the Billboar...   \n",
       "4    Who chose her as number one on his list of Bes...   \n",
       "..                                                 ...   \n",
       "169                           What does CRA stand for?   \n",
       "170  Per Bernanke, how much did the U.S. current ac...   \n",
       "171  Who founded the Atlanta-based Intercontinental...   \n",
       "172   What do money market funds frequently invest in?   \n",
       "173  When did the U.S. recession that began in Dece...   \n",
       "\n",
       "                                   title  context_id  \\\n",
       "0                                Beyoncé          63   \n",
       "1                                Beyoncé          87   \n",
       "2                                Beyoncé          97   \n",
       "3                                Beyoncé          67   \n",
       "4                                Beyoncé          97   \n",
       "..                                   ...         ...   \n",
       "169  Financial_crisis_of_2007%E2%80%9308        1646   \n",
       "170  Financial_crisis_of_2007%E2%80%9308        1596   \n",
       "171  Financial_crisis_of_2007%E2%80%9308        1619   \n",
       "172  Financial_crisis_of_2007%E2%80%9308        1578   \n",
       "173  Financial_crisis_of_2007%E2%80%9308        1589   \n",
       "\n",
       "                                               context  \\\n",
       "0    The remaining band members recorded \"Independe...   \n",
       "1    Following the death of Freddie Gray, Beyoncé a...   \n",
       "2    Beyoncé has received praise for her stage pres...   \n",
       "3    Beyoncé's second solo album B'Day was released...   \n",
       "4    Beyoncé has received praise for her stage pres...   \n",
       "..                                                 ...   \n",
       "169  A 2000 United States Department of the Treasur...   \n",
       "170  Bernanke explained that between 1996 and 2004,...   \n",
       "171  In testimony before the Senate Committee on Co...   \n",
       "172  In September 2008, the crisis hit its most cri...   \n",
       "173  The U.S. recession that began in December 2007...   \n",
       "\n",
       "                                        answer answer_start answer_end  \n",
       "0                                     [eleven]        [216]      [222]  \n",
       "1                               [Freddie Gray]         [23]       [35]  \n",
       "2                   [stage presence and voice]         [36]       [60]  \n",
       "3                                   [top five]        [342]      [350]  \n",
       "4                           [Jarett Wieselman]         [87]      [103]  \n",
       "..                                         ...          ...        ...  \n",
       "169               [Community Reinvestment Act]        [162]      [188]  \n",
       "170                             [$650 billion]         [93]      [105]  \n",
       "171     [Goldman Sachs, Morgan Stanley and BP]        [281]      [317]  \n",
       "172  [commercial paper issued by corporations]        [152]      [191]  \n",
       "173                                [June 2009]         [56]       [65]  \n",
       "\n",
       "[174 rows x 8 columns]"
      ]
     },
     "execution_count": 140,
     "metadata": {},
     "output_type": "execute_result"
    }
   ],
   "source": [
    "standard_dm.val_df"
   ]
  },
  {
   "cell_type": "code",
   "execution_count": 141,
   "metadata": {
    "execution": {
     "iopub.execute_input": "2021-01-22T19:05:46.111158Z",
     "iopub.status.busy": "2021-01-22T19:05:46.110850Z",
     "iopub.status.idle": "2021-01-22T19:05:46.210947Z",
     "shell.execute_reply": "2021-01-22T19:05:46.209817Z",
     "shell.execute_reply.started": "2021-01-22T19:05:46.111120Z"
    }
   },
   "outputs": [
    {
     "data": {
      "text/html": [
       "<div>\n",
       "<style scoped>\n",
       "    .dataframe tbody tr th:only-of-type {\n",
       "        vertical-align: middle;\n",
       "    }\n",
       "\n",
       "    .dataframe tbody tr th {\n",
       "        vertical-align: top;\n",
       "    }\n",
       "\n",
       "    .dataframe thead th {\n",
       "        text-align: right;\n",
       "    }\n",
       "</style>\n",
       "<table border=\"1\" class=\"dataframe\">\n",
       "  <thead>\n",
       "    <tr style=\"text-align: right;\">\n",
       "      <th></th>\n",
       "      <th>question_id</th>\n",
       "      <th>question</th>\n",
       "      <th>title</th>\n",
       "      <th>context_id</th>\n",
       "      <th>context</th>\n",
       "      <th>answer</th>\n",
       "      <th>answer_start</th>\n",
       "      <th>answer_end</th>\n",
       "    </tr>\n",
       "  </thead>\n",
       "  <tbody>\n",
       "    <tr>\n",
       "      <th>0</th>\n",
       "      <td>56bec8243aeaaa14008c942f</td>\n",
       "      <td>What Super Bowl was the last where a fumble wa...</td>\n",
       "      <td>Super_Bowl_50</td>\n",
       "      <td>46</td>\n",
       "      <td>After each team punted, Panthers quarterback C...</td>\n",
       "      <td>[XXVIII]</td>\n",
       "      <td>[635]</td>\n",
       "      <td>[641]</td>\n",
       "    </tr>\n",
       "    <tr>\n",
       "      <th>1</th>\n",
       "      <td>56bec9133aeaaa14008c9445</td>\n",
       "      <td>Who tackled Mike Tolbert and caused a fumble?</td>\n",
       "      <td>Super_Bowl_50</td>\n",
       "      <td>48</td>\n",
       "      <td>On Carolina's next possession fullback Mike To...</td>\n",
       "      <td>[Stewart]</td>\n",
       "      <td>[103]</td>\n",
       "      <td>[110]</td>\n",
       "    </tr>\n",
       "    <tr>\n",
       "      <th>2</th>\n",
       "      <td>56bf49993aeaaa14008c95b8</td>\n",
       "      <td>Where did the Broncos practice at for Super Bo...</td>\n",
       "      <td>Super_Bowl_50</td>\n",
       "      <td>23</td>\n",
       "      <td>The Panthers used the San Jose State practice ...</td>\n",
       "      <td>[Stanford]</td>\n",
       "      <td>[117]</td>\n",
       "      <td>[125]</td>\n",
       "    </tr>\n",
       "    <tr>\n",
       "      <th>3</th>\n",
       "      <td>56d602631c85041400946eda</td>\n",
       "      <td>Who headlined the halftime show for Super Bowl...</td>\n",
       "      <td>Super_Bowl_50</td>\n",
       "      <td>3</td>\n",
       "      <td>CBS broadcast Super Bowl 50 in the U.S., and c...</td>\n",
       "      <td>[Coldplay]</td>\n",
       "      <td>[194]</td>\n",
       "      <td>[202]</td>\n",
       "    </tr>\n",
       "    <tr>\n",
       "      <th>4</th>\n",
       "      <td>56d6ee6e0d65d21400198257</td>\n",
       "      <td>What was the third city that was considered?</td>\n",
       "      <td>Super_Bowl_50</td>\n",
       "      <td>5</td>\n",
       "      <td>The league eventually narrowed the bids to thr...</td>\n",
       "      <td>[San Francisco Bay Area's]</td>\n",
       "      <td>[128]</td>\n",
       "      <td>[152]</td>\n",
       "    </tr>\n",
       "    <tr>\n",
       "      <th>...</th>\n",
       "      <td>...</td>\n",
       "      <td>...</td>\n",
       "      <td>...</td>\n",
       "      <td>...</td>\n",
       "      <td>...</td>\n",
       "      <td>...</td>\n",
       "      <td>...</td>\n",
       "      <td>...</td>\n",
       "    </tr>\n",
       "    <tr>\n",
       "      <th>177</th>\n",
       "      <td>57373d0cc3c5551400e51e86</td>\n",
       "      <td>What was the concept of force an integral part...</td>\n",
       "      <td>Force</td>\n",
       "      <td>2025</td>\n",
       "      <td>Aristotle provided a philosophical discussion ...</td>\n",
       "      <td>[Aristotelian cosmology]</td>\n",
       "      <td>[95]</td>\n",
       "      <td>[117]</td>\n",
       "    </tr>\n",
       "    <tr>\n",
       "      <th>178</th>\n",
       "      <td>57376a1bc3c5551400e51ec4</td>\n",
       "      <td>What do forces have with regard to additive qu...</td>\n",
       "      <td>Force</td>\n",
       "      <td>2035</td>\n",
       "      <td>Historically, forces were first quantitatively...</td>\n",
       "      <td>[magnitude and direction]</td>\n",
       "      <td>[248]</td>\n",
       "      <td>[271]</td>\n",
       "    </tr>\n",
       "    <tr>\n",
       "      <th>179</th>\n",
       "      <td>57376a1bc3c5551400e51ec6</td>\n",
       "      <td>When forces are acting on an extended body, wh...</td>\n",
       "      <td>Force</td>\n",
       "      <td>2035</td>\n",
       "      <td>Historically, forces were first quantitatively...</td>\n",
       "      <td>[respective lines of application]</td>\n",
       "      <td>[863]</td>\n",
       "      <td>[894]</td>\n",
       "    </tr>\n",
       "    <tr>\n",
       "      <th>180</th>\n",
       "      <td>57377083c3c5551400e51ee2</td>\n",
       "      <td>Objects of constant density are proportional t...</td>\n",
       "      <td>Force</td>\n",
       "      <td>2038</td>\n",
       "      <td>A static equilibrium between two forces is the...</td>\n",
       "      <td>[force of gravity]</td>\n",
       "      <td>[430]</td>\n",
       "      <td>[446]</td>\n",
       "    </tr>\n",
       "    <tr>\n",
       "      <th>181</th>\n",
       "      <td>573784fa1c45671900574485</td>\n",
       "      <td>How fast do objects fall on Earth?</td>\n",
       "      <td>Force</td>\n",
       "      <td>2046</td>\n",
       "      <td>What we now call gravity was not identified as...</td>\n",
       "      <td>[9.81 meters per second]</td>\n",
       "      <td>[561]</td>\n",
       "      <td>[583]</td>\n",
       "    </tr>\n",
       "  </tbody>\n",
       "</table>\n",
       "<p>182 rows × 8 columns</p>\n",
       "</div>"
      ],
      "text/plain": [
       "                  question_id  \\\n",
       "0    56bec8243aeaaa14008c942f   \n",
       "1    56bec9133aeaaa14008c9445   \n",
       "2    56bf49993aeaaa14008c95b8   \n",
       "3    56d602631c85041400946eda   \n",
       "4    56d6ee6e0d65d21400198257   \n",
       "..                        ...   \n",
       "177  57373d0cc3c5551400e51e86   \n",
       "178  57376a1bc3c5551400e51ec4   \n",
       "179  57376a1bc3c5551400e51ec6   \n",
       "180  57377083c3c5551400e51ee2   \n",
       "181  573784fa1c45671900574485   \n",
       "\n",
       "                                              question          title  \\\n",
       "0    What Super Bowl was the last where a fumble wa...  Super_Bowl_50   \n",
       "1        Who tackled Mike Tolbert and caused a fumble?  Super_Bowl_50   \n",
       "2    Where did the Broncos practice at for Super Bo...  Super_Bowl_50   \n",
       "3    Who headlined the halftime show for Super Bowl...  Super_Bowl_50   \n",
       "4         What was the third city that was considered?  Super_Bowl_50   \n",
       "..                                                 ...            ...   \n",
       "177  What was the concept of force an integral part...          Force   \n",
       "178  What do forces have with regard to additive qu...          Force   \n",
       "179  When forces are acting on an extended body, wh...          Force   \n",
       "180  Objects of constant density are proportional t...          Force   \n",
       "181                 How fast do objects fall on Earth?          Force   \n",
       "\n",
       "     context_id                                            context  \\\n",
       "0            46  After each team punted, Panthers quarterback C...   \n",
       "1            48  On Carolina's next possession fullback Mike To...   \n",
       "2            23  The Panthers used the San Jose State practice ...   \n",
       "3             3  CBS broadcast Super Bowl 50 in the U.S., and c...   \n",
       "4             5  The league eventually narrowed the bids to thr...   \n",
       "..          ...                                                ...   \n",
       "177        2025  Aristotle provided a philosophical discussion ...   \n",
       "178        2035  Historically, forces were first quantitatively...   \n",
       "179        2035  Historically, forces were first quantitatively...   \n",
       "180        2038  A static equilibrium between two forces is the...   \n",
       "181        2046  What we now call gravity was not identified as...   \n",
       "\n",
       "                                answer answer_start answer_end  \n",
       "0                             [XXVIII]        [635]      [641]  \n",
       "1                            [Stewart]        [103]      [110]  \n",
       "2                           [Stanford]        [117]      [125]  \n",
       "3                           [Coldplay]        [194]      [202]  \n",
       "4           [San Francisco Bay Area's]        [128]      [152]  \n",
       "..                                 ...          ...        ...  \n",
       "177           [Aristotelian cosmology]         [95]      [117]  \n",
       "178          [magnitude and direction]        [248]      [271]  \n",
       "179  [respective lines of application]        [863]      [894]  \n",
       "180                 [force of gravity]        [430]      [446]  \n",
       "181           [9.81 meters per second]        [561]      [583]  \n",
       "\n",
       "[182 rows x 8 columns]"
      ]
     },
     "execution_count": 141,
     "metadata": {},
     "output_type": "execute_result"
    }
   ],
   "source": [
    "standard_dm.test_df"
   ]
  },
  {
   "cell_type": "markdown",
   "metadata": {},
   "source": [
    "## Utils"
   ]
  },
  {
   "cell_type": "code",
   "execution_count": 142,
   "metadata": {
    "execution": {
     "iopub.execute_input": "2021-01-22T19:05:50.143733Z",
     "iopub.status.busy": "2021-01-22T19:05:50.143412Z",
     "iopub.status.idle": "2021-01-22T19:05:50.211122Z",
     "shell.execute_reply": "2021-01-22T19:05:50.209553Z",
     "shell.execute_reply.started": "2021-01-22T19:05:50.143693Z"
    }
   },
   "outputs": [],
   "source": [
    "TRAINER_ARGS = utils.get_default_trainer_args()"
   ]
  },
  {
   "cell_type": "markdown",
   "metadata": {},
   "source": [
    "## Baseline model"
   ]
  },
  {
   "cell_type": "code",
   "execution_count": 171,
   "metadata": {
    "execution": {
     "iopub.execute_input": "2021-01-22T20:14:32.096022Z",
     "iopub.status.busy": "2021-01-22T20:14:32.095696Z",
     "iopub.status.idle": "2021-01-22T20:14:32.170902Z",
     "shell.execute_reply": "2021-01-22T20:14:32.169634Z",
     "shell.execute_reply.started": "2021-01-22T20:14:32.095981Z"
    }
   },
   "outputs": [
    {
     "name": "stdout",
     "output_type": "stream",
     "text": [
      "The baseline model has 41000 parameters\n"
     ]
    }
   ],
   "source": [
    "baseline_model = model.QABaselineModel(\n",
    "    glove_embedding_layer, MAX_CONTEXT_TOKENS, device=DEVICE\n",
    ")\n",
    "print(f\"The baseline model has {baseline_model.count_parameters()} parameters\")"
   ]
  },
  {
   "cell_type": "code",
   "execution_count": 172,
   "metadata": {
    "execution": {
     "iopub.execute_input": "2021-01-22T20:14:32.173419Z",
     "iopub.status.busy": "2021-01-22T20:14:32.173115Z",
     "iopub.status.idle": "2021-01-22T20:14:32.236171Z",
     "shell.execute_reply": "2021-01-22T20:14:32.234889Z",
     "shell.execute_reply.started": "2021-01-22T20:14:32.173381Z"
    }
   },
   "outputs": [],
   "source": [
    "baseline_optimizer = optim.Adam(baseline_model.parameters(), lr=1e-3)\n",
    "baseline_lr_scheduler = transformers.get_constant_schedule(baseline_optimizer)"
   ]
  },
  {
   "cell_type": "code",
   "execution_count": 173,
   "metadata": {
    "execution": {
     "iopub.execute_input": "2021-01-22T20:14:32.238763Z",
     "iopub.status.busy": "2021-01-22T20:14:32.238455Z",
     "iopub.status.idle": "2021-01-22T20:14:32.319378Z",
     "shell.execute_reply": "2021-01-22T20:14:32.317978Z",
     "shell.execute_reply.started": "2021-01-22T20:14:32.238725Z"
    }
   },
   "outputs": [
    {
     "name": "stdout",
     "output_type": "stream",
     "text": [
      "env: WANDB_RUN_GROUP=baseline\n"
     ]
    }
   ],
   "source": [
    "%env WANDB_RUN_GROUP=baseline\n",
    "baseline_run_name = utils.get_run_name()\n",
    "baseline_args = TRAINER_ARGS(\n",
    "    output_dir=f\"./checkpoints/{os.getenv('WANDB_RUN_GROUP')}/{baseline_run_name}\",\n",
    "    run_name=baseline_run_name,\n",
    "    num_train_epochs=30,\n",
    "    per_device_train_batch_size=128,\n",
    "    per_device_eval_batch_size=128,\n",
    ")\n",
    "baseline_trainer = training.SquadTrainer(\n",
    "    model=baseline_model,\n",
    "    args=baseline_args,\n",
    "    data_collator=standard_dm.tokenizer,\n",
    "    train_dataset=standard_dm.train_dataset,\n",
    "    eval_dataset=standard_dm.val_dataset,\n",
    "    optimizers=(baseline_optimizer, baseline_lr_scheduler),\n",
    ")"
   ]
  },
  {
   "cell_type": "code",
   "execution_count": null,
   "metadata": {},
   "outputs": [],
   "source": [
    "baseline_trainer.train()"
   ]
  },
  {
   "cell_type": "code",
   "execution_count": 39,
   "metadata": {
    "execution": {
     "iopub.execute_input": "2021-01-21T18:01:43.916779Z",
     "iopub.status.busy": "2021-01-21T18:01:43.916454Z",
     "iopub.status.idle": "2021-01-21T18:01:44.075335Z",
     "shell.execute_reply": "2021-01-21T18:01:44.074281Z",
     "shell.execute_reply.started": "2021-01-21T18:01:43.916738Z"
    }
   },
   "outputs": [
    {
     "data": {
      "text/html": [
       "\n",
       "    <div>\n",
       "        <style>\n",
       "            /* Turns off some styling */\n",
       "            progress {\n",
       "                /* gets rid of default border in Firefox and Opera. */\n",
       "                border: none;\n",
       "                /* Needs to be in here for Safari polyfill so background images work as expected. */\n",
       "                background-size: auto;\n",
       "            }\n",
       "        </style>\n",
       "      \n",
       "      <progress value='1' max='1' style='width:300px; height:20px; vertical-align: middle;'></progress>\n",
       "      [1/1 : < :]\n",
       "    </div>\n",
       "    "
      ],
      "text/plain": [
       "<IPython.core.display.HTML object>"
      ]
     },
     "metadata": {},
     "output_type": "display_data"
    },
    {
     "data": {
      "text/plain": [
       "{'test_loss': 5.292969703674316,\n",
       " 'test_f1': 0.0,\n",
       " 'test_accuracy': 0.0,\n",
       " 'test_em': 0.0,\n",
       " 'test_runtime': 0.0829,\n",
       " 'test_samples_per_second': 12.058}"
      ]
     },
     "execution_count": 39,
     "metadata": {},
     "output_type": "execute_result"
    }
   ],
   "source": [
    "baseline_test_output = baseline_trainer.predict(standard_dm.test_dataset)\n",
    "baseline_test_output.metrics"
   ]
  },
  {
   "cell_type": "code",
   "execution_count": 40,
   "metadata": {
    "execution": {
     "iopub.execute_input": "2021-01-21T18:01:46.193749Z",
     "iopub.status.busy": "2021-01-21T18:01:46.193431Z",
     "iopub.status.idle": "2021-01-21T18:01:54.050746Z",
     "shell.execute_reply": "2021-01-21T18:01:54.049354Z",
     "shell.execute_reply.started": "2021-01-21T18:01:46.193709Z"
    }
   },
   "outputs": [],
   "source": [
    "baseline_answers_path = \"results/answers/baseline.json\"\n",
    "utils.save_answers(baseline_answers_path, baseline_test_output.predictions[-1])\n",
    "wandb.save(baseline_answers_path);\n",
    "wandb.finish()"
   ]
  },
  {
   "cell_type": "markdown",
   "metadata": {},
   "source": [
    "## BiDAF"
   ]
  },
  {
   "cell_type": "code",
   "execution_count": 41,
   "metadata": {
    "execution": {
     "iopub.execute_input": "2021-01-21T18:01:59.134386Z",
     "iopub.status.busy": "2021-01-21T18:01:59.134010Z",
     "iopub.status.idle": "2021-01-21T18:01:59.230330Z",
     "shell.execute_reply": "2021-01-21T18:01:59.229128Z",
     "shell.execute_reply.started": "2021-01-21T18:01:59.134343Z"
    }
   },
   "outputs": [
    {
     "name": "stdout",
     "output_type": "stream",
     "text": [
      "The BiDAF model has 79675 parameters\n"
     ]
    }
   ],
   "source": [
    "bidaf_model = model.QABiDAFModel(glove_embedding_layer, device=DEVICE)\n",
    "print(f\"The BiDAF model has {bidaf_model.count_parameters()} parameters\")"
   ]
  },
  {
   "cell_type": "code",
   "execution_count": 42,
   "metadata": {
    "execution": {
     "iopub.execute_input": "2021-01-21T18:02:01.345851Z",
     "iopub.status.busy": "2021-01-21T18:02:01.345503Z",
     "iopub.status.idle": "2021-01-21T18:02:01.419832Z",
     "shell.execute_reply": "2021-01-21T18:02:01.418746Z",
     "shell.execute_reply.started": "2021-01-21T18:02:01.345806Z"
    }
   },
   "outputs": [],
   "source": [
    "bidaf_optimizer = optim.Adadelta(bidaf_model.parameters(), lr=0.5)\n",
    "bidaf_lr_scheduler = transformers.get_constant_schedule(bidaf_optimizer)"
   ]
  },
  {
   "cell_type": "code",
   "execution_count": 43,
   "metadata": {
    "execution": {
     "iopub.execute_input": "2021-01-21T18:02:01.422208Z",
     "iopub.status.busy": "2021-01-21T18:02:01.421903Z",
     "iopub.status.idle": "2021-01-21T18:02:01.502111Z",
     "shell.execute_reply": "2021-01-21T18:02:01.501044Z",
     "shell.execute_reply.started": "2021-01-21T18:02:01.422171Z"
    }
   },
   "outputs": [
    {
     "name": "stdout",
     "output_type": "stream",
     "text": [
      "env: WANDB_RUN_GROUP=bidaf\n"
     ]
    }
   ],
   "source": [
    "%env WANDB_RUN_GROUP=bidaf\n",
    "bidaf_run_name = utils.get_run_name()\n",
    "bidaf_args = TRAINER_ARGS(\n",
    "    output_dir=f\"./checkpoints/{os.getenv('WANDB_RUN_GROUP')}/{bidaf_run_name}\",\n",
    "    run_name=bidaf_run_name,\n",
    "    num_train_epochs=12,\n",
    "    per_device_train_batch_size=60,\n",
    "    per_device_eval_batch_size=60,\n",
    ")\n",
    "bidaf_trainer = training.SquadTrainer(\n",
    "    model=bidaf_model,\n",
    "    args=bidaf_args,\n",
    "    data_collator=standard_dm.tokenizer,\n",
    "    train_dataset=standard_dm.train_dataset,\n",
    "    eval_dataset=standard_dm.val_dataset,\n",
    "    optimizers=(bidaf_optimizer, bidaf_lr_scheduler),\n",
    ")"
   ]
  },
  {
   "cell_type": "code",
   "execution_count": 44,
   "metadata": {
    "execution": {
     "iopub.execute_input": "2021-01-21T18:02:01.503520Z",
     "iopub.status.busy": "2021-01-21T18:02:01.503216Z",
     "iopub.status.idle": "2021-01-21T18:02:28.435066Z",
     "shell.execute_reply": "2021-01-21T18:02:28.433588Z",
     "shell.execute_reply.started": "2021-01-21T18:02:01.503482Z"
    }
   },
   "outputs": [
    {
     "data": {
      "text/html": [
       "\n",
       "    <div>\n",
       "        <style>\n",
       "            /* Turns off some styling */\n",
       "            progress {\n",
       "                /* gets rid of default border in Firefox and Opera. */\n",
       "                border: none;\n",
       "                /* Needs to be in here for Safari polyfill so background images work as expected. */\n",
       "                background-size: auto;\n",
       "            }\n",
       "        </style>\n",
       "      \n",
       "      <progress value='12' max='12' style='width:300px; height:20px; vertical-align: middle;'></progress>\n",
       "      [12/12 00:22, Epoch 12/12]\n",
       "    </div>\n",
       "    <table border=\"1\" class=\"dataframe\">\n",
       "  <thead>\n",
       "    <tr style=\"text-align: left;\">\n",
       "      <th>Epoch</th>\n",
       "      <th>Training Loss</th>\n",
       "      <th>Validation Loss</th>\n",
       "      <th>F1</th>\n",
       "      <th>Accuracy</th>\n",
       "      <th>Em</th>\n",
       "      <th>Runtime</th>\n",
       "      <th>Samples Per Second</th>\n",
       "    </tr>\n",
       "  </thead>\n",
       "  <tbody>\n",
       "    <tr>\n",
       "      <td>1</td>\n",
       "      <td>6.619400</td>\n",
       "      <td>5.197407</td>\n",
       "      <td>0.000000</td>\n",
       "      <td>0.000000</td>\n",
       "      <td>0.000000</td>\n",
       "      <td>0.305700</td>\n",
       "      <td>6.542000</td>\n",
       "    </tr>\n",
       "    <tr>\n",
       "      <td>2</td>\n",
       "      <td>6.619400</td>\n",
       "      <td>5.198681</td>\n",
       "      <td>0.000000</td>\n",
       "      <td>0.000000</td>\n",
       "      <td>0.000000</td>\n",
       "      <td>0.310100</td>\n",
       "      <td>6.450000</td>\n",
       "    </tr>\n",
       "    <tr>\n",
       "      <td>3</td>\n",
       "      <td>6.619400</td>\n",
       "      <td>6.933730</td>\n",
       "      <td>0.000000</td>\n",
       "      <td>0.000000</td>\n",
       "      <td>0.000000</td>\n",
       "      <td>0.309400</td>\n",
       "      <td>6.464000</td>\n",
       "    </tr>\n",
       "    <tr>\n",
       "      <td>4</td>\n",
       "      <td>6.619400</td>\n",
       "      <td>6.934238</td>\n",
       "      <td>0.000000</td>\n",
       "      <td>0.000000</td>\n",
       "      <td>0.000000</td>\n",
       "      <td>0.309200</td>\n",
       "      <td>6.469000</td>\n",
       "    </tr>\n",
       "    <tr>\n",
       "      <td>5</td>\n",
       "      <td>5.916400</td>\n",
       "      <td>6.934334</td>\n",
       "      <td>0.000000</td>\n",
       "      <td>0.000000</td>\n",
       "      <td>0.000000</td>\n",
       "      <td>0.305900</td>\n",
       "      <td>6.538000</td>\n",
       "    </tr>\n",
       "    <tr>\n",
       "      <td>6</td>\n",
       "      <td>5.916400</td>\n",
       "      <td>6.934910</td>\n",
       "      <td>0.000000</td>\n",
       "      <td>0.000000</td>\n",
       "      <td>0.000000</td>\n",
       "      <td>0.303900</td>\n",
       "      <td>6.581000</td>\n",
       "    </tr>\n",
       "    <tr>\n",
       "      <td>7</td>\n",
       "      <td>5.916400</td>\n",
       "      <td>6.935600</td>\n",
       "      <td>0.000000</td>\n",
       "      <td>0.000000</td>\n",
       "      <td>0.000000</td>\n",
       "      <td>0.312600</td>\n",
       "      <td>6.397000</td>\n",
       "    </tr>\n",
       "    <tr>\n",
       "      <td>8</td>\n",
       "      <td>5.916400</td>\n",
       "      <td>6.935662</td>\n",
       "      <td>0.000000</td>\n",
       "      <td>0.000000</td>\n",
       "      <td>0.000000</td>\n",
       "      <td>0.302600</td>\n",
       "      <td>6.610000</td>\n",
       "    </tr>\n",
       "    <tr>\n",
       "      <td>9</td>\n",
       "      <td>5.916400</td>\n",
       "      <td>6.935297</td>\n",
       "      <td>0.000000</td>\n",
       "      <td>0.000000</td>\n",
       "      <td>0.000000</td>\n",
       "      <td>0.315500</td>\n",
       "      <td>6.339000</td>\n",
       "    </tr>\n",
       "    <tr>\n",
       "      <td>10</td>\n",
       "      <td>6.601800</td>\n",
       "      <td>6.632412</td>\n",
       "      <td>0.000000</td>\n",
       "      <td>0.000000</td>\n",
       "      <td>0.000000</td>\n",
       "      <td>0.315700</td>\n",
       "      <td>6.335000</td>\n",
       "    </tr>\n",
       "    <tr>\n",
       "      <td>11</td>\n",
       "      <td>6.601800</td>\n",
       "      <td>6.911151</td>\n",
       "      <td>0.000000</td>\n",
       "      <td>0.000000</td>\n",
       "      <td>0.000000</td>\n",
       "      <td>0.302900</td>\n",
       "      <td>6.602000</td>\n",
       "    </tr>\n",
       "    <tr>\n",
       "      <td>12</td>\n",
       "      <td>6.601800</td>\n",
       "      <td>6.633557</td>\n",
       "      <td>0.000000</td>\n",
       "      <td>0.000000</td>\n",
       "      <td>0.000000</td>\n",
       "      <td>0.304600</td>\n",
       "      <td>6.565000</td>\n",
       "    </tr>\n",
       "  </tbody>\n",
       "</table><p>"
      ],
      "text/plain": [
       "<IPython.core.display.HTML object>"
      ]
     },
     "metadata": {},
     "output_type": "display_data"
    },
    {
     "data": {
      "text/plain": [
       "TrainOutput(global_step=12, training_loss=6.486756801605225, metrics={'train_runtime': 26.8579, 'train_samples_per_second': 0.447, 'total_flos': 0, 'epoch': 12.0})"
      ]
     },
     "execution_count": 44,
     "metadata": {},
     "output_type": "execute_result"
    }
   ],
   "source": [
    "bidaf_trainer.train()"
   ]
  },
  {
   "cell_type": "code",
   "execution_count": 45,
   "metadata": {
    "execution": {
     "iopub.execute_input": "2021-01-21T18:02:35.254192Z",
     "iopub.status.busy": "2021-01-21T18:02:35.253869Z",
     "iopub.status.idle": "2021-01-21T18:02:35.599943Z",
     "shell.execute_reply": "2021-01-21T18:02:35.598889Z",
     "shell.execute_reply.started": "2021-01-21T18:02:35.254152Z"
    }
   },
   "outputs": [
    {
     "data": {
      "text/html": [
       "\n",
       "    <div>\n",
       "        <style>\n",
       "            /* Turns off some styling */\n",
       "            progress {\n",
       "                /* gets rid of default border in Firefox and Opera. */\n",
       "                border: none;\n",
       "                /* Needs to be in here for Safari polyfill so background images work as expected. */\n",
       "                background-size: auto;\n",
       "            }\n",
       "        </style>\n",
       "      \n",
       "      <progress value='1' max='1' style='width:300px; height:20px; vertical-align: middle;'></progress>\n",
       "      [1/1 : < :]\n",
       "    </div>\n",
       "    "
      ],
      "text/plain": [
       "<IPython.core.display.HTML object>"
      ]
     },
     "metadata": {},
     "output_type": "display_data"
    },
    {
     "data": {
      "text/plain": [
       "{'test_loss': 8.894977569580078,\n",
       " 'test_f1': 0.0,\n",
       " 'test_accuracy': 0.0,\n",
       " 'test_em': 0.0,\n",
       " 'test_runtime': 0.2739,\n",
       " 'test_samples_per_second': 3.651}"
      ]
     },
     "execution_count": 45,
     "metadata": {},
     "output_type": "execute_result"
    }
   ],
   "source": [
    "bidaf_test_output = bidaf_trainer.predict(standard_dm.test_dataset)\n",
    "bidaf_test_output.metrics"
   ]
  },
  {
   "cell_type": "code",
   "execution_count": 46,
   "metadata": {
    "execution": {
     "iopub.execute_input": "2021-01-21T18:02:35.601859Z",
     "iopub.status.busy": "2021-01-21T18:02:35.601360Z",
     "iopub.status.idle": "2021-01-21T18:02:44.909008Z",
     "shell.execute_reply": "2021-01-21T18:02:44.907592Z",
     "shell.execute_reply.started": "2021-01-21T18:02:35.601819Z"
    }
   },
   "outputs": [],
   "source": [
    "bidaf_answers_path = \"results/answers/bidaf.json\"\n",
    "utils.save_answers(bidaf_answers_path, bidaf_test_output.predictions[-1])\n",
    "wandb.save(bidaf_answers_path);\n",
    "wandb.finish()"
   ]
  },
  {
   "cell_type": "markdown",
   "metadata": {},
   "source": [
    "## BERT"
   ]
  },
  {
   "cell_type": "code",
   "execution_count": 14,
   "metadata": {
    "execution": {
     "iopub.execute_input": "2021-01-21T17:55:40.303587Z",
     "iopub.status.busy": "2021-01-21T17:55:40.303141Z",
     "iopub.status.idle": "2021-01-21T17:55:40.366264Z",
     "shell.execute_reply": "2021-01-21T17:55:40.364414Z",
     "shell.execute_reply.started": "2021-01-21T17:55:40.303542Z"
    }
   },
   "outputs": [],
   "source": [
    "MAX_BERT_TOKENS = 512"
   ]
  },
  {
   "cell_type": "code",
   "execution_count": 15,
   "metadata": {
    "execution": {
     "iopub.execute_input": "2021-01-21T17:55:40.938075Z",
     "iopub.status.busy": "2021-01-21T17:55:40.937763Z",
     "iopub.status.idle": "2021-01-21T17:55:41.017576Z",
     "shell.execute_reply": "2021-01-21T17:55:41.016418Z",
     "shell.execute_reply.started": "2021-01-21T17:55:40.938037Z"
    }
   },
   "outputs": [],
   "source": [
    "bert_tokenizer = tokenizer.get_bert_tokenizer(device=DEVICE)"
   ]
  },
  {
   "cell_type": "code",
   "execution_count": 16,
   "metadata": {
    "execution": {
     "iopub.execute_input": "2021-01-21T17:55:41.941700Z",
     "iopub.status.busy": "2021-01-21T17:55:41.941390Z",
     "iopub.status.idle": "2021-01-21T17:55:42.069023Z",
     "shell.execute_reply": "2021-01-21T17:55:42.067889Z",
     "shell.execute_reply.started": "2021-01-21T17:55:41.941662Z"
    }
   },
   "outputs": [],
   "source": [
    "bert_dm = dataset.SquadDataManager(squad_dataset, bert_tokenizer, device=DEVICE)"
   ]
  },
  {
   "cell_type": "code",
   "execution_count": 17,
   "metadata": {
    "execution": {
     "iopub.execute_input": "2021-01-21T17:55:45.706429Z",
     "iopub.status.busy": "2021-01-21T17:55:45.705971Z",
     "iopub.status.idle": "2021-01-21T17:55:45.795126Z",
     "shell.execute_reply": "2021-01-21T17:55:45.794044Z",
     "shell.execute_reply.started": "2021-01-21T17:55:45.706385Z"
    }
   },
   "outputs": [
    {
     "data": {
      "text/html": [
       "<div>\n",
       "<style scoped>\n",
       "    .dataframe tbody tr th:only-of-type {\n",
       "        vertical-align: middle;\n",
       "    }\n",
       "\n",
       "    .dataframe tbody tr th {\n",
       "        vertical-align: top;\n",
       "    }\n",
       "\n",
       "    .dataframe thead th {\n",
       "        text-align: right;\n",
       "    }\n",
       "</style>\n",
       "<table border=\"1\" class=\"dataframe\">\n",
       "  <thead>\n",
       "    <tr style=\"text-align: right;\">\n",
       "      <th></th>\n",
       "      <th>question_id</th>\n",
       "      <th>question</th>\n",
       "      <th>title</th>\n",
       "      <th>context_id</th>\n",
       "      <th>context</th>\n",
       "      <th>answer</th>\n",
       "      <th>answer_start</th>\n",
       "      <th>answer_end</th>\n",
       "    </tr>\n",
       "  </thead>\n",
       "  <tbody>\n",
       "    <tr>\n",
       "      <th>0</th>\n",
       "      <td>56cdd28562d2951400fa68bd</td>\n",
       "      <td>Who does M fight with?</td>\n",
       "      <td>Spectre_(2015_film)</td>\n",
       "      <td>470</td>\n",
       "      <td>Bond and Swann return to London where they mee...</td>\n",
       "      <td>[C]</td>\n",
       "      <td>[105]</td>\n",
       "      <td>[106]</td>\n",
       "    </tr>\n",
       "    <tr>\n",
       "      <th>1</th>\n",
       "      <td>56de4d9ecffd8e1900b4b7e2</td>\n",
       "      <td>What year was the Banská Akadémia founded?</td>\n",
       "      <td>Institute_of_technology</td>\n",
       "      <td>1860</td>\n",
       "      <td>The world's first institution of technology or...</td>\n",
       "      <td>[1735]</td>\n",
       "      <td>[167]</td>\n",
       "      <td>[171]</td>\n",
       "    </tr>\n",
       "    <tr>\n",
       "      <th>2</th>\n",
       "      <td>572674a05951b619008f7319</td>\n",
       "      <td>What is another speed that can also be reporte...</td>\n",
       "      <td>Film_speed</td>\n",
       "      <td>9354</td>\n",
       "      <td>The standard specifies how speed ratings shoul...</td>\n",
       "      <td>[SOS-based speed]</td>\n",
       "      <td>[793]</td>\n",
       "      <td>[808]</td>\n",
       "    </tr>\n",
       "    <tr>\n",
       "      <th>3</th>\n",
       "      <td>5726ef98708984140094d66e</td>\n",
       "      <td>What conferences became a requirement after Va...</td>\n",
       "      <td>Pope_Paul_VI</td>\n",
       "      <td>10862</td>\n",
       "      <td>Some critiqued Paul VI's decision; the newly c...</td>\n",
       "      <td>[National Bishop Conferences]</td>\n",
       "      <td>[347]</td>\n",
       "      <td>[374]</td>\n",
       "    </tr>\n",
       "    <tr>\n",
       "      <th>4</th>\n",
       "      <td>572843ce4b864d190016485c</td>\n",
       "      <td>What was the purpose of top secret ICBM commit...</td>\n",
       "      <td>John_von_Neumann</td>\n",
       "      <td>11497</td>\n",
       "      <td>Shortly before his death, when he was already ...</td>\n",
       "      <td>[decide on the feasibility of building an ICBM...</td>\n",
       "      <td>[194]</td>\n",
       "      <td>[284]</td>\n",
       "    </tr>\n",
       "    <tr>\n",
       "      <th>5</th>\n",
       "      <td>5730bb058ab72b1400f9c72c</td>\n",
       "      <td>Where were the use of advanced materials and t...</td>\n",
       "      <td>Sumer</td>\n",
       "      <td>17505</td>\n",
       "      <td>The most impressive and famous of Sumerian bui...</td>\n",
       "      <td>[Sumerian temples and palaces]</td>\n",
       "      <td>[421]</td>\n",
       "      <td>[449]</td>\n",
       "    </tr>\n",
       "  </tbody>\n",
       "</table>\n",
       "</div>"
      ],
      "text/plain": [
       "                question_id  \\\n",
       "0  56cdd28562d2951400fa68bd   \n",
       "1  56de4d9ecffd8e1900b4b7e2   \n",
       "2  572674a05951b619008f7319   \n",
       "3  5726ef98708984140094d66e   \n",
       "4  572843ce4b864d190016485c   \n",
       "5  5730bb058ab72b1400f9c72c   \n",
       "\n",
       "                                            question                    title  \\\n",
       "0                             Who does M fight with?      Spectre_(2015_film)   \n",
       "1         What year was the Banská Akadémia founded?  Institute_of_technology   \n",
       "2  What is another speed that can also be reporte...               Film_speed   \n",
       "3  What conferences became a requirement after Va...             Pope_Paul_VI   \n",
       "4  What was the purpose of top secret ICBM commit...         John_von_Neumann   \n",
       "5  Where were the use of advanced materials and t...                    Sumer   \n",
       "\n",
       "   context_id                                            context  \\\n",
       "0         470  Bond and Swann return to London where they mee...   \n",
       "1        1860  The world's first institution of technology or...   \n",
       "2        9354  The standard specifies how speed ratings shoul...   \n",
       "3       10862  Some critiqued Paul VI's decision; the newly c...   \n",
       "4       11497  Shortly before his death, when he was already ...   \n",
       "5       17505  The most impressive and famous of Sumerian bui...   \n",
       "\n",
       "                                              answer answer_start answer_end  \n",
       "0                                                [C]        [105]      [106]  \n",
       "1                                             [1735]        [167]      [171]  \n",
       "2                                  [SOS-based speed]        [793]      [808]  \n",
       "3                      [National Bishop Conferences]        [347]      [374]  \n",
       "4  [decide on the feasibility of building an ICBM...        [194]      [284]  \n",
       "5                     [Sumerian temples and palaces]        [421]      [449]  "
      ]
     },
     "execution_count": 17,
     "metadata": {},
     "output_type": "execute_result"
    }
   ],
   "source": [
    "bert_dm.train_df"
   ]
  },
  {
   "cell_type": "code",
   "execution_count": 18,
   "metadata": {
    "execution": {
     "iopub.execute_input": "2021-01-21T17:55:46.705605Z",
     "iopub.status.busy": "2021-01-21T17:55:46.705292Z",
     "iopub.status.idle": "2021-01-21T17:55:46.777118Z",
     "shell.execute_reply": "2021-01-21T17:55:46.775491Z",
     "shell.execute_reply.started": "2021-01-21T17:55:46.705567Z"
    }
   },
   "outputs": [
    {
     "data": {
      "text/html": [
       "<div>\n",
       "<style scoped>\n",
       "    .dataframe tbody tr th:only-of-type {\n",
       "        vertical-align: middle;\n",
       "    }\n",
       "\n",
       "    .dataframe tbody tr th {\n",
       "        vertical-align: top;\n",
       "    }\n",
       "\n",
       "    .dataframe thead th {\n",
       "        text-align: right;\n",
       "    }\n",
       "</style>\n",
       "<table border=\"1\" class=\"dataframe\">\n",
       "  <thead>\n",
       "    <tr style=\"text-align: right;\">\n",
       "      <th></th>\n",
       "      <th>question_id</th>\n",
       "      <th>question</th>\n",
       "      <th>title</th>\n",
       "      <th>context_id</th>\n",
       "      <th>context</th>\n",
       "      <th>answer</th>\n",
       "      <th>answer_start</th>\n",
       "      <th>answer_end</th>\n",
       "    </tr>\n",
       "  </thead>\n",
       "  <tbody>\n",
       "    <tr>\n",
       "      <th>0</th>\n",
       "      <td>570e1a2a0dc6ce1900204dbf</td>\n",
       "      <td>How many species of fungi have been found on A...</td>\n",
       "      <td>Antarctica</td>\n",
       "      <td>6902</td>\n",
       "      <td>About 1150 species of fungi have been recorded...</td>\n",
       "      <td>[1150]</td>\n",
       "      <td>[6]</td>\n",
       "      <td>[10]</td>\n",
       "    </tr>\n",
       "    <tr>\n",
       "      <th>1</th>\n",
       "      <td>572781a5f1498d1400e8fa1f</td>\n",
       "      <td>Who is elected every even numbered year?</td>\n",
       "      <td>Ann_Arbor,_Michigan</td>\n",
       "      <td>10585</td>\n",
       "      <td>Ann Arbor has a council-manager form of govern...</td>\n",
       "      <td>[mayor]</td>\n",
       "      <td>[192]</td>\n",
       "      <td>[197]</td>\n",
       "    </tr>\n",
       "  </tbody>\n",
       "</table>\n",
       "</div>"
      ],
      "text/plain": [
       "                question_id  \\\n",
       "0  570e1a2a0dc6ce1900204dbf   \n",
       "1  572781a5f1498d1400e8fa1f   \n",
       "\n",
       "                                            question                title  \\\n",
       "0  How many species of fungi have been found on A...           Antarctica   \n",
       "1           Who is elected every even numbered year?  Ann_Arbor,_Michigan   \n",
       "\n",
       "   context_id                                            context   answer  \\\n",
       "0        6902  About 1150 species of fungi have been recorded...   [1150]   \n",
       "1       10585  Ann Arbor has a council-manager form of govern...  [mayor]   \n",
       "\n",
       "  answer_start answer_end  \n",
       "0          [6]       [10]  \n",
       "1        [192]      [197]  "
      ]
     },
     "execution_count": 18,
     "metadata": {},
     "output_type": "execute_result"
    }
   ],
   "source": [
    "bert_dm.val_df"
   ]
  },
  {
   "cell_type": "code",
   "execution_count": 19,
   "metadata": {
    "execution": {
     "iopub.execute_input": "2021-01-21T17:55:50.998989Z",
     "iopub.status.busy": "2021-01-21T17:55:50.998540Z",
     "iopub.status.idle": "2021-01-21T17:55:51.076767Z",
     "shell.execute_reply": "2021-01-21T17:55:51.075179Z",
     "shell.execute_reply.started": "2021-01-21T17:55:50.998944Z"
    }
   },
   "outputs": [
    {
     "data": {
      "text/html": [
       "<div>\n",
       "<style scoped>\n",
       "    .dataframe tbody tr th:only-of-type {\n",
       "        vertical-align: middle;\n",
       "    }\n",
       "\n",
       "    .dataframe tbody tr th {\n",
       "        vertical-align: top;\n",
       "    }\n",
       "\n",
       "    .dataframe thead th {\n",
       "        text-align: right;\n",
       "    }\n",
       "</style>\n",
       "<table border=\"1\" class=\"dataframe\">\n",
       "  <thead>\n",
       "    <tr style=\"text-align: right;\">\n",
       "      <th></th>\n",
       "      <th>question_id</th>\n",
       "      <th>question</th>\n",
       "      <th>title</th>\n",
       "      <th>context_id</th>\n",
       "      <th>context</th>\n",
       "      <th>answer</th>\n",
       "      <th>answer_start</th>\n",
       "      <th>answer_end</th>\n",
       "    </tr>\n",
       "  </thead>\n",
       "  <tbody>\n",
       "    <tr>\n",
       "      <th>0</th>\n",
       "      <td>57379ed81c456719005744d7</td>\n",
       "      <td>In what way do idea strings transmit tesion fo...</td>\n",
       "      <td>Force</td>\n",
       "      <td>2058</td>\n",
       "      <td>Tension forces can be modeled using ideal stri...</td>\n",
       "      <td>[instantaneously in action-reaction pairs]</td>\n",
       "      <td>[250]</td>\n",
       "      <td>[290]</td>\n",
       "    </tr>\n",
       "  </tbody>\n",
       "</table>\n",
       "</div>"
      ],
      "text/plain": [
       "                question_id  \\\n",
       "0  57379ed81c456719005744d7   \n",
       "\n",
       "                                            question  title  context_id  \\\n",
       "0  In what way do idea strings transmit tesion fo...  Force        2058   \n",
       "\n",
       "                                             context  \\\n",
       "0  Tension forces can be modeled using ideal stri...   \n",
       "\n",
       "                                       answer answer_start answer_end  \n",
       "0  [instantaneously in action-reaction pairs]        [250]      [290]  "
      ]
     },
     "execution_count": 19,
     "metadata": {},
     "output_type": "execute_result"
    }
   ],
   "source": [
    "bert_dm.test_df"
   ]
  },
  {
   "cell_type": "code",
   "execution_count": 20,
   "metadata": {
    "execution": {
     "iopub.execute_input": "2021-01-21T17:55:53.705471Z",
     "iopub.status.busy": "2021-01-21T17:55:53.705021Z",
     "iopub.status.idle": "2021-01-21T17:56:03.103337Z",
     "shell.execute_reply": "2021-01-21T17:56:03.101497Z",
     "shell.execute_reply.started": "2021-01-21T17:55:53.705426Z"
    }
   },
   "outputs": [],
   "source": [
    "bert_model = model.QABertModel(device=DEVICE)"
   ]
  },
  {
   "cell_type": "code",
   "execution_count": 21,
   "metadata": {
    "execution": {
     "iopub.execute_input": "2021-01-21T17:56:03.202053Z",
     "iopub.status.busy": "2021-01-21T17:56:03.201744Z",
     "iopub.status.idle": "2021-01-21T17:56:03.264074Z",
     "shell.execute_reply": "2021-01-21T17:56:03.262943Z",
     "shell.execute_reply.started": "2021-01-21T17:56:03.202015Z"
    }
   },
   "outputs": [],
   "source": [
    "bert_optimizer = optim.Adam(bert_model.parameters(), lr=5e-5)\n",
    "bert_lr_scheduler = transformers.get_constant_schedule(bert_optimizer)"
   ]
  },
  {
   "cell_type": "code",
   "execution_count": 22,
   "metadata": {
    "execution": {
     "iopub.execute_input": "2021-01-21T17:56:05.140129Z",
     "iopub.status.busy": "2021-01-21T17:56:05.139775Z",
     "iopub.status.idle": "2021-01-21T17:56:05.227681Z",
     "shell.execute_reply": "2021-01-21T17:56:05.226548Z",
     "shell.execute_reply.started": "2021-01-21T17:56:05.140090Z"
    }
   },
   "outputs": [
    {
     "name": "stdout",
     "output_type": "stream",
     "text": [
      "env: WANDB_RUN_GROUP=bert\n"
     ]
    }
   ],
   "source": [
    "%env WANDB_RUN_GROUP=bert\n",
    "bert_run_name = utils.get_run_name()\n",
    "bert_args = TRAINER_ARGS(\n",
    "    output_dir=f\"./checkpoints/{os.getenv('WANDB_RUN_GROUP')}/{bert_run_name}\",\n",
    "    run_name=bert_run_name,\n",
    "    num_train_epochs=3,\n",
    "    per_device_train_batch_size=16,\n",
    "    per_device_eval_batch_size=16,\n",
    ")\n",
    "bert_trainer = training.SquadTrainer(\n",
    "    model=bert_model,\n",
    "    args=bert_args,\n",
    "    data_collator=bert_dm.tokenizer,\n",
    "    train_dataset=bert_dm.train_dataset,\n",
    "    eval_dataset=bert_dm.val_dataset,\n",
    "    optimizers=(bert_optimizer, bert_lr_scheduler),\n",
    ")"
   ]
  },
  {
   "cell_type": "code",
   "execution_count": 23,
   "metadata": {
    "execution": {
     "iopub.execute_input": "2021-01-21T17:56:06.270781Z",
     "iopub.status.busy": "2021-01-21T17:56:06.270324Z",
     "iopub.status.idle": "2021-01-21T17:56:51.413490Z",
     "shell.execute_reply": "2021-01-21T17:56:51.412115Z",
     "shell.execute_reply.started": "2021-01-21T17:56:06.270736Z"
    }
   },
   "outputs": [
    {
     "data": {
      "text/html": [
       "\n",
       "    <div>\n",
       "        <style>\n",
       "            /* Turns off some styling */\n",
       "            progress {\n",
       "                /* gets rid of default border in Firefox and Opera. */\n",
       "                border: none;\n",
       "                /* Needs to be in here for Safari polyfill so background images work as expected. */\n",
       "                background-size: auto;\n",
       "            }\n",
       "        </style>\n",
       "      \n",
       "      <progress value='3' max='3' style='width:300px; height:20px; vertical-align: middle;'></progress>\n",
       "      [3/3 00:30, Epoch 3/3]\n",
       "    </div>\n",
       "    <table border=\"1\" class=\"dataframe\">\n",
       "  <thead>\n",
       "    <tr style=\"text-align: left;\">\n",
       "      <th>Epoch</th>\n",
       "      <th>Training Loss</th>\n",
       "      <th>Validation Loss</th>\n",
       "      <th>F1</th>\n",
       "      <th>Accuracy</th>\n",
       "      <th>Em</th>\n",
       "      <th>Runtime</th>\n",
       "      <th>Samples Per Second</th>\n",
       "    </tr>\n",
       "  </thead>\n",
       "  <tbody>\n",
       "    <tr>\n",
       "      <td>1</td>\n",
       "      <td>6.527200</td>\n",
       "      <td>6.653205</td>\n",
       "      <td>0.166667</td>\n",
       "      <td>0.250000</td>\n",
       "      <td>0.000000</td>\n",
       "      <td>1.042400</td>\n",
       "      <td>1.919000</td>\n",
       "    </tr>\n",
       "    <tr>\n",
       "      <td>2</td>\n",
       "      <td>6.527200</td>\n",
       "      <td>7.183872</td>\n",
       "      <td>0.166667</td>\n",
       "      <td>0.250000</td>\n",
       "      <td>0.000000</td>\n",
       "      <td>1.067100</td>\n",
       "      <td>1.874000</td>\n",
       "    </tr>\n",
       "    <tr>\n",
       "      <td>3</td>\n",
       "      <td>6.527200</td>\n",
       "      <td>7.202362</td>\n",
       "      <td>0.166667</td>\n",
       "      <td>0.250000</td>\n",
       "      <td>0.000000</td>\n",
       "      <td>0.952700</td>\n",
       "      <td>2.099000</td>\n",
       "    </tr>\n",
       "  </tbody>\n",
       "</table><p>"
      ],
      "text/plain": [
       "<IPython.core.display.HTML object>"
      ]
     },
     "metadata": {},
     "output_type": "display_data"
    },
    {
     "data": {
      "text/plain": [
       "TrainOutput(global_step=3, training_loss=5.523826281229655, metrics={'train_runtime': 45.0591, 'train_samples_per_second': 0.067, 'total_flos': 0, 'epoch': 3.0})"
      ]
     },
     "execution_count": 23,
     "metadata": {},
     "output_type": "execute_result"
    }
   ],
   "source": [
    "bert_trainer.train()"
   ]
  },
  {
   "cell_type": "code",
   "execution_count": 24,
   "metadata": {
    "execution": {
     "iopub.execute_input": "2021-01-21T17:56:55.805141Z",
     "iopub.status.busy": "2021-01-21T17:56:55.804703Z",
     "iopub.status.idle": "2021-01-21T17:56:56.481031Z",
     "shell.execute_reply": "2021-01-21T17:56:56.479925Z",
     "shell.execute_reply.started": "2021-01-21T17:56:55.805097Z"
    }
   },
   "outputs": [
    {
     "data": {
      "text/html": [
       "\n",
       "    <div>\n",
       "        <style>\n",
       "            /* Turns off some styling */\n",
       "            progress {\n",
       "                /* gets rid of default border in Firefox and Opera. */\n",
       "                border: none;\n",
       "                /* Needs to be in here for Safari polyfill so background images work as expected. */\n",
       "                background-size: auto;\n",
       "            }\n",
       "        </style>\n",
       "      \n",
       "      <progress value='1' max='1' style='width:300px; height:20px; vertical-align: middle;'></progress>\n",
       "      [1/1 : < :]\n",
       "    </div>\n",
       "    "
      ],
      "text/plain": [
       "<IPython.core.display.HTML object>"
      ]
     },
     "metadata": {},
     "output_type": "display_data"
    },
    {
     "data": {
      "text/plain": [
       "{'test_loss': 9.000775337219238,\n",
       " 'test_f1': 0.0,\n",
       " 'test_accuracy': 0.0,\n",
       " 'test_em': 0.0,\n",
       " 'test_runtime': 0.6044,\n",
       " 'test_samples_per_second': 1.655}"
      ]
     },
     "execution_count": 24,
     "metadata": {},
     "output_type": "execute_result"
    }
   ],
   "source": [
    "bert_test_output = bert_trainer.predict(bert_dm.test_dataset)\n",
    "bert_test_output.metrics"
   ]
  },
  {
   "cell_type": "code",
   "execution_count": 25,
   "metadata": {
    "execution": {
     "iopub.execute_input": "2021-01-21T17:57:02.820786Z",
     "iopub.status.busy": "2021-01-21T17:57:02.820061Z",
     "iopub.status.idle": "2021-01-21T17:58:58.223064Z",
     "shell.execute_reply": "2021-01-21T17:58:58.221615Z",
     "shell.execute_reply.started": "2021-01-21T17:57:02.820720Z"
    }
   },
   "outputs": [],
   "source": [
    "bert_answers_path = \"results/answers/bert.json\"\n",
    "utils.save_answers(bert_answers_path, bert_test_output.predictions[-1])\n",
    "wandb.save(bert_answers_path);\n",
    "wandb.finish()"
   ]
  },
  {
   "cell_type": "code",
   "execution_count": null,
   "metadata": {},
   "outputs": [],
   "source": []
  }
 ],
 "metadata": {
  "kernelspec": {
   "display_name": "Python 3",
   "language": "python",
   "name": "python3"
  },
  "language_info": {
   "codemirror_mode": {
    "name": "ipython",
    "version": 3
   },
   "file_extension": ".py",
   "mimetype": "text/x-python",
   "name": "python",
   "nbconvert_exporter": "python",
   "pygments_lexer": "ipython3",
   "version": "3.8.5"
  }
 },
 "nbformat": 4,
 "nbformat_minor": 4
}
