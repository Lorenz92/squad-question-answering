{
 "cells": [
  {
   "cell_type": "markdown",
   "metadata": {},
   "source": [
    "# Question answering on the SQuAD dataset"
   ]
  },
  {
   "cell_type": "markdown",
   "metadata": {},
   "source": [
    "## Colab requirements"
   ]
  },
  {
   "cell_type": "markdown",
   "metadata": {
    "execution": {
     "iopub.execute_input": "2021-01-18T15:12:30.609774Z",
     "iopub.status.busy": "2021-01-18T15:12:30.609319Z",
     "iopub.status.idle": "2021-01-18T15:12:30.701692Z"
    }
   },
   "source": [
    "Before restarting runtime (remeber to select GPU runtime)$\\dots$"
   ]
  },
  {
   "cell_type": "code",
   "execution_count": null,
   "metadata": {},
   "outputs": [],
   "source": [
    "!git clone https://github.com/Wadaboa/squad-question-answering.git\n",
    "!pip install -r squad-question-answering/init/base_requirements.txt"
   ]
  },
  {
   "cell_type": "markdown",
   "metadata": {},
   "source": [
    "After restarting runtime$\\dots$"
   ]
  },
  {
   "cell_type": "code",
   "execution_count": null,
   "metadata": {},
   "outputs": [],
   "source": [
    "import os, sys\n",
    "\n",
    "sys.path.insert(0, \"/content/squad-question-answering\")\n",
    "os.chdir(\"/content/squad-question-answering\")"
   ]
  },
  {
   "cell_type": "markdown",
   "metadata": {},
   "source": [
    "## Imports"
   ]
  },
  {
   "cell_type": "code",
   "execution_count": 1,
   "metadata": {
    "execution": {
     "iopub.execute_input": "2021-01-18T14:16:46.128290Z",
     "iopub.status.busy": "2021-01-18T14:16:46.127865Z",
     "iopub.status.idle": "2021-01-18T14:16:56.342701Z",
     "shell.execute_reply": "2021-01-18T14:16:56.340634Z",
     "shell.execute_reply.started": "2021-01-18T14:16:46.128246Z"
    }
   },
   "outputs": [],
   "source": [
    "from functools import partial\n",
    "\n",
    "import numpy as np\n",
    "import matplotlib.pyplot as plt\n",
    "import torch\n",
    "import torch.nn as nn\n",
    "import torch.optim as optim\n",
    "import wandb\n",
    "import transformers\n",
    "\n",
    "from transformers.trainer_utils import set_seed\n",
    "from tokenizers import Tokenizer\n",
    "from tokenizers.models import WordLevel\n",
    "from tokenizers.normalizers import Sequence, StripAccents, Lowercase, Strip\n",
    "from tokenizers.pre_tokenizers import Sequence as PreSequence\n",
    "from tokenizers.pre_tokenizers import Whitespace, Punctuation\n",
    "from tokenizers import BertWordPieceTokenizer\n",
    "\n",
    "import dataset\n",
    "import model\n",
    "import training\n",
    "import utils\n",
    "\n",
    "%load_ext autoreload\n",
    "%autoreload 2"
   ]
  },
  {
   "cell_type": "markdown",
   "metadata": {},
   "source": [
    "## Initialization"
   ]
  },
  {
   "cell_type": "markdown",
   "metadata": {},
   "source": [
    "### Matplotlib"
   ]
  },
  {
   "cell_type": "code",
   "execution_count": 2,
   "metadata": {
    "execution": {
     "iopub.execute_input": "2021-01-18T14:16:56.426440Z",
     "iopub.status.busy": "2021-01-18T14:16:56.426096Z",
     "iopub.status.idle": "2021-01-18T14:16:56.500505Z",
     "shell.execute_reply": "2021-01-18T14:16:56.499330Z",
     "shell.execute_reply.started": "2021-01-18T14:16:56.426396Z"
    }
   },
   "outputs": [],
   "source": [
    "%matplotlib inline\n",
    "plt.rcParams['figure.figsize'] = [8, 6]\n",
    "plt.rcParams['figure.dpi'] = 100\n",
    "plt.rcParams['axes.xmargin'] = .05\n",
    "plt.rcParams['axes.ymargin'] = .05\n",
    "plt.style.use('ggplot')"
   ]
  },
  {
   "cell_type": "markdown",
   "metadata": {},
   "source": [
    "### Weights & biases"
   ]
  },
  {
   "cell_type": "code",
   "execution_count": 34,
   "metadata": {
    "execution": {
     "iopub.execute_input": "2021-01-18T14:16:56.502563Z",
     "iopub.status.busy": "2021-01-18T14:16:56.502234Z",
     "iopub.status.idle": "2021-01-18T14:16:56.561777Z",
     "shell.execute_reply": "2021-01-18T14:16:56.560485Z",
     "shell.execute_reply.started": "2021-01-18T14:16:56.502524Z"
    }
   },
   "outputs": [
    {
     "output_type": "stream",
     "name": "stdout",
     "text": [
      "env: WANDB_PROJECT=squad-qa\nenv: WANDB_ENTITY=wadaboa\nenv: WANDB_MODE=online\nenv: WANDB_RESUME=never\nenv: WANDB_WATCH=false\nenv: WANDB_SILENT=true\n"
     ]
    }
   ],
   "source": [
    "%env WANDB_PROJECT=squad-qa\n",
    "%env WANDB_ENTITY=wadaboa\n",
    "%env WANDB_MODE=online\n",
    "%env WANDB_RESUME=never\n",
    "%env WANDB_WATCH=false\n",
    "%env WANDB_SILENT=true"
   ]
  },
  {
   "cell_type": "code",
   "execution_count": 35,
   "metadata": {},
   "outputs": [],
   "source": [
    "!wandb login"
   ]
  },
  {
   "cell_type": "code",
   "execution_count": 36,
   "metadata": {
    "execution": {
     "iopub.execute_input": "2021-01-18T14:16:56.563886Z",
     "iopub.status.busy": "2021-01-18T14:16:56.563585Z",
     "iopub.status.idle": "2021-01-18T14:16:58.498517Z",
     "shell.execute_reply": "2021-01-18T14:16:58.496791Z",
     "shell.execute_reply.started": "2021-01-18T14:16:56.563848Z"
    }
   },
   "outputs": [
    {
     "output_type": "stream",
     "name": "stdout",
     "text": [
      "W&B enabled.\n"
     ]
    }
   ],
   "source": [
    "!wandb enabled"
   ]
  },
  {
   "cell_type": "markdown",
   "metadata": {},
   "source": [
    "### PyTorch and numpy"
   ]
  },
  {
   "cell_type": "code",
   "execution_count": 6,
   "metadata": {
    "execution": {
     "iopub.execute_input": "2021-01-18T14:16:58.501026Z",
     "iopub.status.busy": "2021-01-18T14:16:58.500686Z",
     "iopub.status.idle": "2021-01-18T14:16:58.599420Z",
     "shell.execute_reply": "2021-01-18T14:16:58.598067Z",
     "shell.execute_reply.started": "2021-01-18T14:16:58.500978Z"
    }
   },
   "outputs": [],
   "source": [
    "RANDOM_SEED = 42\n",
    "set_seed(RANDOM_SEED)"
   ]
  },
  {
   "cell_type": "code",
   "execution_count": 7,
   "metadata": {
    "execution": {
     "iopub.execute_input": "2021-01-18T14:16:58.601465Z",
     "iopub.status.busy": "2021-01-18T14:16:58.601148Z",
     "iopub.status.idle": "2021-01-18T14:16:58.988168Z",
     "shell.execute_reply": "2021-01-18T14:16:58.986620Z",
     "shell.execute_reply.started": "2021-01-18T14:16:58.601427Z"
    }
   },
   "outputs": [
    {
     "output_type": "execute_result",
     "data": {
      "text/plain": [
       "device(type='cuda', index=0)"
      ]
     },
     "metadata": {},
     "execution_count": 7
    }
   ],
   "source": [
    "DEVICE = torch.device(\"cuda:0\" if torch.cuda.is_available() else \"cpu\")\n",
    "DEVICE"
   ]
  },
  {
   "cell_type": "markdown",
   "metadata": {},
   "source": [
    "## Preliminaries"
   ]
  },
  {
   "cell_type": "markdown",
   "metadata": {},
   "source": [
    "### Raw data loading"
   ]
  },
  {
   "cell_type": "code",
   "execution_count": 8,
   "metadata": {
    "execution": {
     "iopub.execute_input": "2021-01-18T14:16:58.992538Z",
     "iopub.status.busy": "2021-01-18T14:16:58.992220Z",
     "iopub.status.idle": "2021-01-18T14:16:59.349880Z",
     "shell.execute_reply": "2021-01-18T14:16:59.348160Z",
     "shell.execute_reply.started": "2021-01-18T14:16:58.992499Z"
    }
   },
   "outputs": [],
   "source": [
    "squad_dataset = dataset.SquadDataset(subset=0.01)"
   ]
  },
  {
   "cell_type": "code",
   "execution_count": 9,
   "metadata": {
    "execution": {
     "iopub.execute_input": "2021-01-18T14:16:59.352955Z",
     "iopub.status.busy": "2021-01-18T14:16:59.352620Z",
     "iopub.status.idle": "2021-01-18T14:16:59.479280Z",
     "shell.execute_reply": "2021-01-18T14:16:59.477692Z",
     "shell.execute_reply.started": "2021-01-18T14:16:59.352913Z"
    }
   },
   "outputs": [
    {
     "output_type": "execute_result",
     "data": {
      "text/plain": [
       "                  question_id  \\\n",
       "0    56de4d9ecffd8e1900b4b7e2   \n",
       "1    572674a05951b619008f7319   \n",
       "2    5730bb058ab72b1400f9c72c   \n",
       "3    572781a5f1498d1400e8fa1f   \n",
       "4    572843ce4b864d190016485c   \n",
       "..                        ...   \n",
       "870  5725cad2ec44d21400f3d5a0   \n",
       "871  570c0fedec8fbc190045bc47   \n",
       "872  57327ed206a3a419008aca8d   \n",
       "873  5727c05eff5b5019007d9449   \n",
       "874  57269f33dd62a815002e8b3c   \n",
       "\n",
       "                                              question  \\\n",
       "0           What year was the Banská Akadémia founded?   \n",
       "1    What is another speed that can also be reporte...   \n",
       "2    Where were the use of advanced materials and t...   \n",
       "3             Who is elected every even numbered year?   \n",
       "4    What was the purpose of top secret ICBM commit...   \n",
       "..                                                 ...   \n",
       "870                    It was an early backer of what    \n",
       "871  What event in February did Barcelona qualify f...   \n",
       "872  What caused a large migration of Greek refuges...   \n",
       "873           What league are the Toronto Bluejays in?   \n",
       "874         When did Edmund Burke start a debate club?   \n",
       "\n",
       "                                 title  context_id  \\\n",
       "0              Institute_of_technology        1860   \n",
       "1                           Film_speed        9354   \n",
       "2                                Sumer       17505   \n",
       "3                  Ann_Arbor,_Michigan       10585   \n",
       "4                     John_von_Neumann       11497   \n",
       "..                                 ...         ...   \n",
       "870  Bill_%26_Melinda_Gates_Foundation        8521   \n",
       "871                       FC_Barcelona        6319   \n",
       "872                           Humanism       18662   \n",
       "873                    Exhibition_game       13088   \n",
       "874                       Edmund_Burke       10747   \n",
       "\n",
       "                                               context  \\\n",
       "0    The world's first institution of technology or...   \n",
       "1    The standard specifies how speed ratings shoul...   \n",
       "2    The most impressive and famous of Sumerian bui...   \n",
       "3    Ann Arbor has a council-manager form of govern...   \n",
       "4    Shortly before his death, when he was already ...   \n",
       "..                                                 ...   \n",
       "870  A key aspect of the Gates Foundation's U.S. ef...   \n",
       "871  On 4 January 2016, Barcelona's transfer ban en...   \n",
       "872  The humanists' close study of Latin literary t...   \n",
       "873  Several MLB teams used to play regular exhibit...   \n",
       "874  In 1744, Burke started at Trinity College Dubl...   \n",
       "\n",
       "                                                answer  answer_start  \\\n",
       "0                                                 1735           167   \n",
       "1                                      SOS-based speed           793   \n",
       "2                         Sumerian temples and palaces           421   \n",
       "3                                                mayor           192   \n",
       "4    decide on the feasibility of building an ICBM ...           194   \n",
       "..                                                 ...           ...   \n",
       "870  The foundation was the biggest early backer of...           449   \n",
       "871                                 Copa del Rey final           267   \n",
       "872                                  Greek manuscripts          1262   \n",
       "873                                    American League           246   \n",
       "874                                               1747           144   \n",
       "\n",
       "     answer_end  \n",
       "0           171  \n",
       "1           808  \n",
       "2           449  \n",
       "3           197  \n",
       "4           284  \n",
       "..          ...  \n",
       "870         539  \n",
       "871         285  \n",
       "872        1279  \n",
       "873         261  \n",
       "874         148  \n",
       "\n",
       "[875 rows x 8 columns]"
      ],
      "text/html": "<div>\n<style scoped>\n    .dataframe tbody tr th:only-of-type {\n        vertical-align: middle;\n    }\n\n    .dataframe tbody tr th {\n        vertical-align: top;\n    }\n\n    .dataframe thead th {\n        text-align: right;\n    }\n</style>\n<table border=\"1\" class=\"dataframe\">\n  <thead>\n    <tr style=\"text-align: right;\">\n      <th></th>\n      <th>question_id</th>\n      <th>question</th>\n      <th>title</th>\n      <th>context_id</th>\n      <th>context</th>\n      <th>answer</th>\n      <th>answer_start</th>\n      <th>answer_end</th>\n    </tr>\n  </thead>\n  <tbody>\n    <tr>\n      <th>0</th>\n      <td>56de4d9ecffd8e1900b4b7e2</td>\n      <td>What year was the Banská Akadémia founded?</td>\n      <td>Institute_of_technology</td>\n      <td>1860</td>\n      <td>The world's first institution of technology or...</td>\n      <td>1735</td>\n      <td>167</td>\n      <td>171</td>\n    </tr>\n    <tr>\n      <th>1</th>\n      <td>572674a05951b619008f7319</td>\n      <td>What is another speed that can also be reporte...</td>\n      <td>Film_speed</td>\n      <td>9354</td>\n      <td>The standard specifies how speed ratings shoul...</td>\n      <td>SOS-based speed</td>\n      <td>793</td>\n      <td>808</td>\n    </tr>\n    <tr>\n      <th>2</th>\n      <td>5730bb058ab72b1400f9c72c</td>\n      <td>Where were the use of advanced materials and t...</td>\n      <td>Sumer</td>\n      <td>17505</td>\n      <td>The most impressive and famous of Sumerian bui...</td>\n      <td>Sumerian temples and palaces</td>\n      <td>421</td>\n      <td>449</td>\n    </tr>\n    <tr>\n      <th>3</th>\n      <td>572781a5f1498d1400e8fa1f</td>\n      <td>Who is elected every even numbered year?</td>\n      <td>Ann_Arbor,_Michigan</td>\n      <td>10585</td>\n      <td>Ann Arbor has a council-manager form of govern...</td>\n      <td>mayor</td>\n      <td>192</td>\n      <td>197</td>\n    </tr>\n    <tr>\n      <th>4</th>\n      <td>572843ce4b864d190016485c</td>\n      <td>What was the purpose of top secret ICBM commit...</td>\n      <td>John_von_Neumann</td>\n      <td>11497</td>\n      <td>Shortly before his death, when he was already ...</td>\n      <td>decide on the feasibility of building an ICBM ...</td>\n      <td>194</td>\n      <td>284</td>\n    </tr>\n    <tr>\n      <th>...</th>\n      <td>...</td>\n      <td>...</td>\n      <td>...</td>\n      <td>...</td>\n      <td>...</td>\n      <td>...</td>\n      <td>...</td>\n      <td>...</td>\n    </tr>\n    <tr>\n      <th>870</th>\n      <td>5725cad2ec44d21400f3d5a0</td>\n      <td>It was an early backer of what</td>\n      <td>Bill_%26_Melinda_Gates_Foundation</td>\n      <td>8521</td>\n      <td>A key aspect of the Gates Foundation's U.S. ef...</td>\n      <td>The foundation was the biggest early backer of...</td>\n      <td>449</td>\n      <td>539</td>\n    </tr>\n    <tr>\n      <th>871</th>\n      <td>570c0fedec8fbc190045bc47</td>\n      <td>What event in February did Barcelona qualify f...</td>\n      <td>FC_Barcelona</td>\n      <td>6319</td>\n      <td>On 4 January 2016, Barcelona's transfer ban en...</td>\n      <td>Copa del Rey final</td>\n      <td>267</td>\n      <td>285</td>\n    </tr>\n    <tr>\n      <th>872</th>\n      <td>57327ed206a3a419008aca8d</td>\n      <td>What caused a large migration of Greek refuges...</td>\n      <td>Humanism</td>\n      <td>18662</td>\n      <td>The humanists' close study of Latin literary t...</td>\n      <td>Greek manuscripts</td>\n      <td>1262</td>\n      <td>1279</td>\n    </tr>\n    <tr>\n      <th>873</th>\n      <td>5727c05eff5b5019007d9449</td>\n      <td>What league are the Toronto Bluejays in?</td>\n      <td>Exhibition_game</td>\n      <td>13088</td>\n      <td>Several MLB teams used to play regular exhibit...</td>\n      <td>American League</td>\n      <td>246</td>\n      <td>261</td>\n    </tr>\n    <tr>\n      <th>874</th>\n      <td>57269f33dd62a815002e8b3c</td>\n      <td>When did Edmund Burke start a debate club?</td>\n      <td>Edmund_Burke</td>\n      <td>10747</td>\n      <td>In 1744, Burke started at Trinity College Dubl...</td>\n      <td>1747</td>\n      <td>144</td>\n      <td>148</td>\n    </tr>\n  </tbody>\n</table>\n<p>875 rows × 8 columns</p>\n</div>"
     },
     "metadata": {},
     "execution_count": 9
    }
   ],
   "source": [
    "squad_dataset.raw_train_df"
   ]
  },
  {
   "cell_type": "code",
   "execution_count": 10,
   "metadata": {
    "execution": {
     "iopub.execute_input": "2021-01-18T14:16:59.481108Z",
     "iopub.status.busy": "2021-01-18T14:16:59.480795Z",
     "iopub.status.idle": "2021-01-18T14:16:59.564464Z",
     "shell.execute_reply": "2021-01-18T14:16:59.563234Z",
     "shell.execute_reply.started": "2021-01-18T14:16:59.481068Z"
    }
   },
   "outputs": [
    {
     "output_type": "execute_result",
     "data": {
      "text/plain": [
       "                  question_id  \\\n",
       "0    57379ed81c456719005744d7   \n",
       "1    56e0ed557aa994140058e7dd   \n",
       "2    56e1febfe3433e140042323a   \n",
       "3    57269bb8708984140094cb98   \n",
       "4    56f884cba6d7ea1400e17708   \n",
       "..                        ...   \n",
       "177  5711475ca58dae1900cd6d8b   \n",
       "178  572fdd03a23a5019007fcaa0   \n",
       "179  572ff56304bcaa1900d76f30   \n",
       "180  5737a0acc3c5551400e51f4a   \n",
       "181  5727515f708984140094dc15   \n",
       "\n",
       "                                              question  \\\n",
       "0    In what way do idea strings transmit tesion fo...   \n",
       "1                      What was Tesla's device called?   \n",
       "2    What is the example of another problem charact...   \n",
       "3    What are EU Regulations essentially the same a...   \n",
       "4    What theologian differed in views about the so...   \n",
       "..                                                 ...   \n",
       "177  In a 4-cylinder compound engine, what degree w...   \n",
       "178  What party had a victory in the 2015 UK election?   \n",
       "179       What does the Nederrijn change it's name to?   \n",
       "180  What may a force on one part of an object affect?   \n",
       "181  In what century did missionaries notably estab...   \n",
       "\n",
       "                               title  context_id  \\\n",
       "0                              Force        2058   \n",
       "1                       Nikola_Tesla         181   \n",
       "2    Computational_complexity_theory         282   \n",
       "3                 European_Union_law         759   \n",
       "4                      Martin_Luther         412   \n",
       "..                               ...         ...   \n",
       "177                     Steam_engine         587   \n",
       "178              Scottish_Parliament        1846   \n",
       "179                            Rhine        1781   \n",
       "180                            Force        2059   \n",
       "181                   Private_school        1341   \n",
       "\n",
       "                                               context  \\\n",
       "0    Tension forces can be modeled using ideal stri...   \n",
       "1    Tesla also explained the principles of the rot...   \n",
       "2    What intractability means in practice is open ...   \n",
       "3    Although it is generally accepted that EU law ...   \n",
       "4    The Lutheran theologian Franz Pieper observed ...   \n",
       "..                                                 ...   \n",
       "177  With two-cylinder compounds used in railway wo...   \n",
       "178  A procedural consequence of the establishment ...   \n",
       "179  The other third of the water flows through the...   \n",
       "180  Newton's laws and Newtonian mechanics in gener...   \n",
       "181  Some of the oldest schools in South Africa are...   \n",
       "\n",
       "                                         answer  answer_start  answer_end  \n",
       "0      instantaneously in action-reaction pairs           250         290  \n",
       "1                               Egg of Columbus           187         202  \n",
       "2    NP-complete Boolean satisfiability problem           539         581  \n",
       "3                             Treaty provisions          1332        1349  \n",
       "4                                       Gerhard           181         188  \n",
       "..                                          ...           ...         ...  \n",
       "177                                         180           313         316  \n",
       "178                                Conservative           465         477  \n",
       "179                                     the Lek           402         409  \n",
       "180                                 other parts           276         287  \n",
       "181                                  nineteenth           121         131  \n",
       "\n",
       "[182 rows x 8 columns]"
      ],
      "text/html": "<div>\n<style scoped>\n    .dataframe tbody tr th:only-of-type {\n        vertical-align: middle;\n    }\n\n    .dataframe tbody tr th {\n        vertical-align: top;\n    }\n\n    .dataframe thead th {\n        text-align: right;\n    }\n</style>\n<table border=\"1\" class=\"dataframe\">\n  <thead>\n    <tr style=\"text-align: right;\">\n      <th></th>\n      <th>question_id</th>\n      <th>question</th>\n      <th>title</th>\n      <th>context_id</th>\n      <th>context</th>\n      <th>answer</th>\n      <th>answer_start</th>\n      <th>answer_end</th>\n    </tr>\n  </thead>\n  <tbody>\n    <tr>\n      <th>0</th>\n      <td>57379ed81c456719005744d7</td>\n      <td>In what way do idea strings transmit tesion fo...</td>\n      <td>Force</td>\n      <td>2058</td>\n      <td>Tension forces can be modeled using ideal stri...</td>\n      <td>instantaneously in action-reaction pairs</td>\n      <td>250</td>\n      <td>290</td>\n    </tr>\n    <tr>\n      <th>1</th>\n      <td>56e0ed557aa994140058e7dd</td>\n      <td>What was Tesla's device called?</td>\n      <td>Nikola_Tesla</td>\n      <td>181</td>\n      <td>Tesla also explained the principles of the rot...</td>\n      <td>Egg of Columbus</td>\n      <td>187</td>\n      <td>202</td>\n    </tr>\n    <tr>\n      <th>2</th>\n      <td>56e1febfe3433e140042323a</td>\n      <td>What is the example of another problem charact...</td>\n      <td>Computational_complexity_theory</td>\n      <td>282</td>\n      <td>What intractability means in practice is open ...</td>\n      <td>NP-complete Boolean satisfiability problem</td>\n      <td>539</td>\n      <td>581</td>\n    </tr>\n    <tr>\n      <th>3</th>\n      <td>57269bb8708984140094cb98</td>\n      <td>What are EU Regulations essentially the same a...</td>\n      <td>European_Union_law</td>\n      <td>759</td>\n      <td>Although it is generally accepted that EU law ...</td>\n      <td>Treaty provisions</td>\n      <td>1332</td>\n      <td>1349</td>\n    </tr>\n    <tr>\n      <th>4</th>\n      <td>56f884cba6d7ea1400e17708</td>\n      <td>What theologian differed in views about the so...</td>\n      <td>Martin_Luther</td>\n      <td>412</td>\n      <td>The Lutheran theologian Franz Pieper observed ...</td>\n      <td>Gerhard</td>\n      <td>181</td>\n      <td>188</td>\n    </tr>\n    <tr>\n      <th>...</th>\n      <td>...</td>\n      <td>...</td>\n      <td>...</td>\n      <td>...</td>\n      <td>...</td>\n      <td>...</td>\n      <td>...</td>\n      <td>...</td>\n    </tr>\n    <tr>\n      <th>177</th>\n      <td>5711475ca58dae1900cd6d8b</td>\n      <td>In a 4-cylinder compound engine, what degree w...</td>\n      <td>Steam_engine</td>\n      <td>587</td>\n      <td>With two-cylinder compounds used in railway wo...</td>\n      <td>180</td>\n      <td>313</td>\n      <td>316</td>\n    </tr>\n    <tr>\n      <th>178</th>\n      <td>572fdd03a23a5019007fcaa0</td>\n      <td>What party had a victory in the 2015 UK election?</td>\n      <td>Scottish_Parliament</td>\n      <td>1846</td>\n      <td>A procedural consequence of the establishment ...</td>\n      <td>Conservative</td>\n      <td>465</td>\n      <td>477</td>\n    </tr>\n    <tr>\n      <th>179</th>\n      <td>572ff56304bcaa1900d76f30</td>\n      <td>What does the Nederrijn change it's name to?</td>\n      <td>Rhine</td>\n      <td>1781</td>\n      <td>The other third of the water flows through the...</td>\n      <td>the Lek</td>\n      <td>402</td>\n      <td>409</td>\n    </tr>\n    <tr>\n      <th>180</th>\n      <td>5737a0acc3c5551400e51f4a</td>\n      <td>What may a force on one part of an object affect?</td>\n      <td>Force</td>\n      <td>2059</td>\n      <td>Newton's laws and Newtonian mechanics in gener...</td>\n      <td>other parts</td>\n      <td>276</td>\n      <td>287</td>\n    </tr>\n    <tr>\n      <th>181</th>\n      <td>5727515f708984140094dc15</td>\n      <td>In what century did missionaries notably estab...</td>\n      <td>Private_school</td>\n      <td>1341</td>\n      <td>Some of the oldest schools in South Africa are...</td>\n      <td>nineteenth</td>\n      <td>121</td>\n      <td>131</td>\n    </tr>\n  </tbody>\n</table>\n<p>182 rows × 8 columns</p>\n</div>"
     },
     "metadata": {},
     "execution_count": 10
    }
   ],
   "source": [
    "squad_dataset.raw_test_df"
   ]
  },
  {
   "cell_type": "markdown",
   "metadata": {},
   "source": [
    "### Embeddings"
   ]
  },
  {
   "cell_type": "code",
   "execution_count": 11,
   "metadata": {
    "execution": {
     "iopub.execute_input": "2021-01-18T14:16:59.566396Z",
     "iopub.status.busy": "2021-01-18T14:16:59.566079Z",
     "iopub.status.idle": "2021-01-18T14:16:59.623846Z",
     "shell.execute_reply": "2021-01-18T14:16:59.622495Z",
     "shell.execute_reply.started": "2021-01-18T14:16:59.566358Z"
    }
   },
   "outputs": [],
   "source": [
    "UNK_TOKEN = \"[UNK]\"\n",
    "PAD_TOKEN = \"[PAD]\""
   ]
  },
  {
   "cell_type": "markdown",
   "metadata": {},
   "source": [
    "- FastText: \n",
    "    - _fasttext-wiki-news-subwords_ (dimensions: 300)\n",
    "- GloVe:\n",
    "    - _glove-twitter_ (dimensions: 25. 50, 100, 200)\n",
    "    - _glove-wiki-gigaword_ (dimensions: 50, 100, 200, 300)\n",
    "- Word2Vec:\n",
    "    - _word2vec-google-news_ (dimensions: 300)\n",
    "    - _word2vec-ruscorpora_ (dimensions: 300)"
   ]
  },
  {
   "cell_type": "code",
   "execution_count": 12,
   "metadata": {
    "execution": {
     "iopub.execute_input": "2021-01-18T10:40:37.993826Z",
     "iopub.status.busy": "2021-01-18T10:40:37.993489Z",
     "iopub.status.idle": "2021-01-18T10:43:18.371049Z",
     "shell.execute_reply": "2021-01-18T10:43:18.369558Z",
     "shell.execute_reply.started": "2021-01-18T10:40:37.993784Z"
    }
   },
   "outputs": [],
   "source": [
    "# See https://github.com/RaRe-Technologies/gensim-data\n",
    "GLOVE_EMBEDDING_DIMENSION = 25\n",
    "GLOVE_MODEL_NAME = \"glove-twitter\"\n",
    "glove_embedding_model = utils.load_embedding_model(\n",
    "    GLOVE_MODEL_NAME, embedding_dimension=GLOVE_EMBEDDING_DIMENSION\n",
    ")"
   ]
  },
  {
   "cell_type": "code",
   "execution_count": 13,
   "metadata": {
    "execution": {
     "iopub.execute_input": "2021-01-18T10:43:18.444510Z",
     "iopub.status.busy": "2021-01-18T10:43:18.444184Z",
     "iopub.status.idle": "2021-01-18T10:43:19.005284Z",
     "shell.execute_reply": "2021-01-18T10:43:19.003976Z",
     "shell.execute_reply.started": "2021-01-18T10:43:18.444471Z"
    }
   },
   "outputs": [],
   "source": [
    "glove_unk = np.mean(glove_embedding_model.vectors, axis=0)\n",
    "glove_embedding_model.add(UNK_TOKEN, glove_unk)"
   ]
  },
  {
   "cell_type": "code",
   "execution_count": 14,
   "metadata": {
    "execution": {
     "iopub.execute_input": "2021-01-18T10:43:19.007767Z",
     "iopub.status.busy": "2021-01-18T10:43:19.007435Z",
     "iopub.status.idle": "2021-01-18T10:43:19.075007Z",
     "shell.execute_reply": "2021-01-18T10:43:19.073943Z",
     "shell.execute_reply.started": "2021-01-18T10:43:19.007724Z"
    }
   },
   "outputs": [
    {
     "output_type": "execute_result",
     "data": {
      "text/plain": [
       "array([-0.459986  ,  0.3140484 ,  0.05261543,  0.02956172, -0.1543944 ,\n",
       "       -0.37464437, -0.51207143, -0.9670207 ,  0.30385152, -0.43003932,\n",
       "       -0.25780797,  0.28663048,  0.92323375, -0.02501891,  0.19632967,\n",
       "        0.3715336 ,  0.27371258,  0.08516268,  0.6888611 ,  0.25681776,\n",
       "        0.09314184,  0.21430919,  0.05849701, -0.02958639, -0.31859428],\n",
       "      dtype=float32)"
      ]
     },
     "metadata": {},
     "execution_count": 14
    }
   ],
   "source": [
    "glove_embedding_model[UNK_TOKEN]"
   ]
  },
  {
   "cell_type": "code",
   "execution_count": 15,
   "metadata": {
    "execution": {
     "iopub.execute_input": "2021-01-18T10:43:19.076685Z",
     "iopub.status.busy": "2021-01-18T10:43:19.076372Z",
     "iopub.status.idle": "2021-01-18T10:43:19.251825Z",
     "shell.execute_reply": "2021-01-18T10:43:19.250458Z",
     "shell.execute_reply.started": "2021-01-18T10:43:19.076646Z"
    }
   },
   "outputs": [
    {
     "output_type": "execute_result",
     "data": {
      "text/plain": [
       "'[UNK]'"
      ]
     },
     "metadata": {},
     "execution_count": 15
    }
   ],
   "source": [
    "list(glove_embedding_model.vocab.keys())[-1]"
   ]
  },
  {
   "cell_type": "code",
   "execution_count": 16,
   "metadata": {
    "execution": {
     "iopub.execute_input": "2021-01-18T10:43:19.253823Z",
     "iopub.status.busy": "2021-01-18T10:43:19.253494Z",
     "iopub.status.idle": "2021-01-18T10:43:19.481714Z",
     "shell.execute_reply": "2021-01-18T10:43:19.480605Z",
     "shell.execute_reply.started": "2021-01-18T10:43:19.253781Z"
    }
   },
   "outputs": [
    {
     "output_type": "execute_result",
     "data": {
      "text/plain": [
       "False"
      ]
     },
     "metadata": {},
     "execution_count": 16
    }
   ],
   "source": [
    "any(np.all(glove_embedding_model.vectors == 0, axis=1))"
   ]
  },
  {
   "cell_type": "code",
   "execution_count": 17,
   "metadata": {
    "execution": {
     "iopub.execute_input": "2021-01-18T10:43:19.483711Z",
     "iopub.status.busy": "2021-01-18T10:43:19.483386Z",
     "iopub.status.idle": "2021-01-18T10:43:19.814122Z",
     "shell.execute_reply": "2021-01-18T10:43:19.813032Z",
     "shell.execute_reply.started": "2021-01-18T10:43:19.483669Z"
    }
   },
   "outputs": [
    {
     "output_type": "execute_result",
     "data": {
      "text/plain": [
       "array([0., 0., 0., 0., 0., 0., 0., 0., 0., 0., 0., 0., 0., 0., 0., 0., 0.,\n",
       "       0., 0., 0., 0., 0., 0., 0., 0.], dtype=float32)"
      ]
     },
     "metadata": {},
     "execution_count": 17
    }
   ],
   "source": [
    "glove_embedding_model.add(PAD_TOKEN, np.zeros((1, GLOVE_EMBEDDING_DIMENSION)))\n",
    "glove_embedding_model[PAD_TOKEN]"
   ]
  },
  {
   "cell_type": "code",
   "execution_count": 18,
   "metadata": {
    "execution": {
     "iopub.execute_input": "2021-01-18T10:43:19.818434Z",
     "iopub.status.busy": "2021-01-18T10:43:19.818088Z",
     "iopub.status.idle": "2021-01-18T10:43:19.959887Z",
     "shell.execute_reply": "2021-01-18T10:43:19.958741Z",
     "shell.execute_reply.started": "2021-01-18T10:43:19.818391Z"
    }
   },
   "outputs": [
    {
     "output_type": "execute_result",
     "data": {
      "text/plain": [
       "'[PAD]'"
      ]
     },
     "metadata": {},
     "execution_count": 18
    }
   ],
   "source": [
    "list(glove_embedding_model.vocab.keys())[-1]"
   ]
  },
  {
   "cell_type": "code",
   "execution_count": 19,
   "metadata": {
    "execution": {
     "iopub.execute_input": "2021-01-18T10:43:19.962927Z",
     "iopub.status.busy": "2021-01-18T10:43:19.962579Z",
     "iopub.status.idle": "2021-01-18T10:43:20.028394Z",
     "shell.execute_reply": "2021-01-18T10:43:20.027142Z",
     "shell.execute_reply.started": "2021-01-18T10:43:19.962884Z"
    }
   },
   "outputs": [
    {
     "output_type": "execute_result",
     "data": {
      "text/plain": [
       "(1193516, 25)"
      ]
     },
     "metadata": {},
     "execution_count": 19
    }
   ],
   "source": [
    "glove_embedding_model.vectors.shape"
   ]
  },
  {
   "cell_type": "code",
   "execution_count": 20,
   "metadata": {
    "execution": {
     "iopub.execute_input": "2021-01-18T10:43:20.030093Z",
     "iopub.status.busy": "2021-01-18T10:43:20.029782Z",
     "iopub.status.idle": "2021-01-18T10:43:20.654472Z",
     "shell.execute_reply": "2021-01-18T10:43:20.653038Z",
     "shell.execute_reply.started": "2021-01-18T10:43:20.030054Z"
    }
   },
   "outputs": [],
   "source": [
    "glove_vocab = dict(\n",
    "    zip(glove_embedding_model.index2word, range(len(glove_embedding_model.index2word)))\n",
    ")"
   ]
  },
  {
   "cell_type": "code",
   "execution_count": 21,
   "metadata": {
    "execution": {
     "iopub.execute_input": "2021-01-18T10:43:20.656759Z",
     "iopub.status.busy": "2021-01-18T10:43:20.656430Z",
     "iopub.status.idle": "2021-01-18T10:43:23.295971Z",
     "shell.execute_reply": "2021-01-18T10:43:23.294599Z",
     "shell.execute_reply.started": "2021-01-18T10:43:20.656716Z"
    }
   },
   "outputs": [],
   "source": [
    "glove_embedding_layer = nn.Embedding(\n",
    "    glove_embedding_model.vectors.shape[0],\n",
    "    GLOVE_EMBEDDING_DIMENSION,\n",
    "    padding_idx=glove_vocab[PAD_TOKEN],\n",
    ")\n",
    "glove_embedding_layer.weight = nn.Parameter(\n",
    "    torch.from_numpy(glove_embedding_model.vectors)\n",
    ")\n",
    "glove_embedding_layer.weight.requires_grad = False"
   ]
  },
  {
   "cell_type": "markdown",
   "metadata": {},
   "source": [
    "### Standard tokenizer and preprocessing"
   ]
  },
  {
   "cell_type": "code",
   "execution_count": 22,
   "metadata": {
    "execution": {
     "iopub.execute_input": "2021-01-18T13:38:48.083205Z",
     "iopub.status.busy": "2021-01-18T13:38:48.082778Z",
     "iopub.status.idle": "2021-01-18T13:38:48.150703Z",
     "shell.execute_reply": "2021-01-18T13:38:48.149464Z",
     "shell.execute_reply.started": "2021-01-18T13:38:48.083160Z"
    }
   },
   "outputs": [],
   "source": [
    "MAX_CONTEXT_TOKENS = 300"
   ]
  },
  {
   "cell_type": "code",
   "execution_count": 23,
   "metadata": {
    "execution": {
     "iopub.execute_input": "2021-01-18T13:54:33.731672Z",
     "iopub.status.busy": "2021-01-18T13:54:33.731336Z",
     "iopub.status.idle": "2021-01-18T13:54:37.337322Z",
     "shell.execute_reply": "2021-01-18T13:54:37.335498Z",
     "shell.execute_reply.started": "2021-01-18T13:54:33.731629Z"
    }
   },
   "outputs": [],
   "source": [
    "standard_question_tokenizer = Tokenizer(WordLevel(glove_vocab, unk_token=UNK_TOKEN))\n",
    "standard_question_tokenizer.normalizer = Sequence(\n",
    "    [StripAccents(), Lowercase(), Strip()]\n",
    ")\n",
    "standard_question_tokenizer.pre_tokenizer = PreSequence([Whitespace(), Punctuation()])\n",
    "standard_question_tokenizer.enable_padding(\n",
    "    direction=\"right\", pad_id=glove_vocab[PAD_TOKEN], pad_type_id=1, pad_token=PAD_TOKEN\n",
    ")\n",
    "\n",
    "standard_context_tokenizer = Tokenizer(WordLevel(glove_vocab, unk_token=UNK_TOKEN))\n",
    "standard_context_tokenizer.normalizer = Sequence([StripAccents(), Lowercase(), Strip()])\n",
    "standard_context_tokenizer.pre_tokenizer = PreSequence([Whitespace(), Punctuation()])\n",
    "standard_context_tokenizer.enable_padding(\n",
    "    direction=\"right\",\n",
    "    pad_id=glove_vocab[PAD_TOKEN],\n",
    "    pad_type_id=1,\n",
    "    pad_token=PAD_TOKEN,\n",
    "    length=MAX_CONTEXT_TOKENS,\n",
    ")\n",
    "standard_context_tokenizer.enable_truncation(MAX_CONTEXT_TOKENS)"
   ]
  },
  {
   "cell_type": "code",
   "execution_count": 24,
   "metadata": {
    "execution": {
     "iopub.execute_input": "2021-01-18T13:54:39.448638Z",
     "iopub.status.busy": "2021-01-18T13:54:39.448314Z",
     "iopub.status.idle": "2021-01-18T13:54:39.515206Z",
     "shell.execute_reply": "2021-01-18T13:54:39.514075Z",
     "shell.execute_reply.started": "2021-01-18T13:54:39.448596Z"
    }
   },
   "outputs": [],
   "source": [
    "standard_tokenizer = dataset.StandardSquadTokenizer(\n",
    "    standard_question_tokenizer, standard_context_tokenizer, device=DEVICE\n",
    ")"
   ]
  },
  {
   "cell_type": "code",
   "execution_count": 25,
   "metadata": {
    "execution": {
     "iopub.execute_input": "2021-01-18T13:54:39.517421Z",
     "iopub.status.busy": "2021-01-18T13:54:39.517110Z",
     "iopub.status.idle": "2021-01-18T13:54:40.434675Z",
     "shell.execute_reply": "2021-01-18T13:54:40.433083Z",
     "shell.execute_reply.started": "2021-01-18T13:54:39.517383Z"
    }
   },
   "outputs": [],
   "source": [
    "standard_dm = dataset.SquadDataManager(squad_dataset, standard_tokenizer, device=DEVICE)"
   ]
  },
  {
   "cell_type": "code",
   "execution_count": 26,
   "metadata": {
    "execution": {
     "iopub.execute_input": "2021-01-18T13:54:40.436368Z",
     "iopub.status.busy": "2021-01-18T13:54:40.436050Z",
     "iopub.status.idle": "2021-01-18T13:54:40.503341Z",
     "shell.execute_reply": "2021-01-18T13:54:40.502158Z",
     "shell.execute_reply.started": "2021-01-18T13:54:40.436326Z"
    }
   },
   "outputs": [],
   "source": [
    "standard_dm.tokenizer = standard_tokenizer"
   ]
  },
  {
   "cell_type": "code",
   "execution_count": 27,
   "metadata": {
    "execution": {
     "iopub.execute_input": "2021-01-18T13:54:40.505231Z",
     "iopub.status.busy": "2021-01-18T13:54:40.504926Z",
     "iopub.status.idle": "2021-01-18T13:54:40.606006Z",
     "shell.execute_reply": "2021-01-18T13:54:40.604757Z",
     "shell.execute_reply.started": "2021-01-18T13:54:40.505192Z"
    }
   },
   "outputs": [
    {
     "output_type": "execute_result",
     "data": {
      "text/plain": [
       "                  question_id  \\\n",
       "0    56cd788162d2951400fa65e7   \n",
       "1    56cda41362d2951400fa679b   \n",
       "2    56cda8a662d2951400fa67d6   \n",
       "3    56cdcfee62d2951400fa687a   \n",
       "4    56cdd28562d2951400fa68bd   \n",
       "..                        ...   \n",
       "692  5734580c879d6814001ca544   \n",
       "693  57359c97e853931400426a3f   \n",
       "694  57359f64e853931400426a7e   \n",
       "695  5735a721e853931400426aa9   \n",
       "696  5735ad64e853931400426abe   \n",
       "\n",
       "                                              question  \\\n",
       "0    What was Apple's highest quarterly profit as o...   \n",
       "1    How many people would be in the orchestra Kond...   \n",
       "2    Where did Twilight Princess place among Wii ti...   \n",
       "3                      Who performs research for Bond?   \n",
       "4                               Who does M fight with?   \n",
       "..                                                 ...   \n",
       "692  What official is in charge of Richmond's execu...   \n",
       "693         What is the English translation of Mandap?   \n",
       "694  What notable Nepali figure died in a Kathmandu...   \n",
       "695  What are Madhyapur Thimi, Kirtipur and Bhaktapur?   \n",
       "696  When did construction on the Tribhuvan Highway...   \n",
       "\n",
       "                                      title  context_id  \\\n",
       "0                                      IPod         415   \n",
       "1    The_Legend_of_Zelda:_Twilight_Princess         453   \n",
       "2    The_Legend_of_Zelda:_Twilight_Princess         460   \n",
       "3                       Spectre_(2015_film)         467   \n",
       "4                       Spectre_(2015_film)         470   \n",
       "..                                      ...         ...   \n",
       "692                      Richmond,_Virginia       17037   \n",
       "693                               Kathmandu       18835   \n",
       "694                               Kathmandu       18841   \n",
       "695                               Kathmandu       18846   \n",
       "696                               Kathmandu       18851   \n",
       "\n",
       "                                               context             answer  \\\n",
       "0    On January 22, 2008, Apple reported the best q...    [$1.58 billion]   \n",
       "1    Media requests at the trade show prompted Kond...               [50]   \n",
       "2    Twilight Princess received the awards for Best...              [4th]   \n",
       "3    Bond disobeys M's order and travels to Rome to...       [Moneypenny]   \n",
       "4    Bond and Swann return to London where they mee...                [C]   \n",
       "..                                                 ...                ...   \n",
       "692  Richmond city government consists of a city co...            [mayor]   \n",
       "693  The city of Kathmandu is named after Kasthaman...  [covered shelter]   \n",
       "694  The Licchavi era was followed by the Malla era...     [Abhaya Malla]   \n",
       "695  The agglomeration of Kathmandu has not yet bee...   [municipalities]   \n",
       "696  Tourism is considered another important indust...             [1956]   \n",
       "\n",
       "    answer_start answer_end  \n",
       "0          [184]      [197]  \n",
       "1          [217]      [219]  \n",
       "2          [777]      [780]  \n",
       "3          [388]      [398]  \n",
       "4          [105]      [106]  \n",
       "..           ...        ...  \n",
       "692        [183]      [188]  \n",
       "693        [155]      [170]  \n",
       "694        [427]      [439]  \n",
       "695        [441]      [455]  \n",
       "696        [201]      [205]  \n",
       "\n",
       "[697 rows x 8 columns]"
      ],
      "text/html": "<div>\n<style scoped>\n    .dataframe tbody tr th:only-of-type {\n        vertical-align: middle;\n    }\n\n    .dataframe tbody tr th {\n        vertical-align: top;\n    }\n\n    .dataframe thead th {\n        text-align: right;\n    }\n</style>\n<table border=\"1\" class=\"dataframe\">\n  <thead>\n    <tr style=\"text-align: right;\">\n      <th></th>\n      <th>question_id</th>\n      <th>question</th>\n      <th>title</th>\n      <th>context_id</th>\n      <th>context</th>\n      <th>answer</th>\n      <th>answer_start</th>\n      <th>answer_end</th>\n    </tr>\n  </thead>\n  <tbody>\n    <tr>\n      <th>0</th>\n      <td>56cd788162d2951400fa65e7</td>\n      <td>What was Apple's highest quarterly profit as o...</td>\n      <td>IPod</td>\n      <td>415</td>\n      <td>On January 22, 2008, Apple reported the best q...</td>\n      <td>[$1.58 billion]</td>\n      <td>[184]</td>\n      <td>[197]</td>\n    </tr>\n    <tr>\n      <th>1</th>\n      <td>56cda41362d2951400fa679b</td>\n      <td>How many people would be in the orchestra Kond...</td>\n      <td>The_Legend_of_Zelda:_Twilight_Princess</td>\n      <td>453</td>\n      <td>Media requests at the trade show prompted Kond...</td>\n      <td>[50]</td>\n      <td>[217]</td>\n      <td>[219]</td>\n    </tr>\n    <tr>\n      <th>2</th>\n      <td>56cda8a662d2951400fa67d6</td>\n      <td>Where did Twilight Princess place among Wii ti...</td>\n      <td>The_Legend_of_Zelda:_Twilight_Princess</td>\n      <td>460</td>\n      <td>Twilight Princess received the awards for Best...</td>\n      <td>[4th]</td>\n      <td>[777]</td>\n      <td>[780]</td>\n    </tr>\n    <tr>\n      <th>3</th>\n      <td>56cdcfee62d2951400fa687a</td>\n      <td>Who performs research for Bond?</td>\n      <td>Spectre_(2015_film)</td>\n      <td>467</td>\n      <td>Bond disobeys M's order and travels to Rome to...</td>\n      <td>[Moneypenny]</td>\n      <td>[388]</td>\n      <td>[398]</td>\n    </tr>\n    <tr>\n      <th>4</th>\n      <td>56cdd28562d2951400fa68bd</td>\n      <td>Who does M fight with?</td>\n      <td>Spectre_(2015_film)</td>\n      <td>470</td>\n      <td>Bond and Swann return to London where they mee...</td>\n      <td>[C]</td>\n      <td>[105]</td>\n      <td>[106]</td>\n    </tr>\n    <tr>\n      <th>...</th>\n      <td>...</td>\n      <td>...</td>\n      <td>...</td>\n      <td>...</td>\n      <td>...</td>\n      <td>...</td>\n      <td>...</td>\n      <td>...</td>\n    </tr>\n    <tr>\n      <th>692</th>\n      <td>5734580c879d6814001ca544</td>\n      <td>What official is in charge of Richmond's execu...</td>\n      <td>Richmond,_Virginia</td>\n      <td>17037</td>\n      <td>Richmond city government consists of a city co...</td>\n      <td>[mayor]</td>\n      <td>[183]</td>\n      <td>[188]</td>\n    </tr>\n    <tr>\n      <th>693</th>\n      <td>57359c97e853931400426a3f</td>\n      <td>What is the English translation of Mandap?</td>\n      <td>Kathmandu</td>\n      <td>18835</td>\n      <td>The city of Kathmandu is named after Kasthaman...</td>\n      <td>[covered shelter]</td>\n      <td>[155]</td>\n      <td>[170]</td>\n    </tr>\n    <tr>\n      <th>694</th>\n      <td>57359f64e853931400426a7e</td>\n      <td>What notable Nepali figure died in a Kathmandu...</td>\n      <td>Kathmandu</td>\n      <td>18841</td>\n      <td>The Licchavi era was followed by the Malla era...</td>\n      <td>[Abhaya Malla]</td>\n      <td>[427]</td>\n      <td>[439]</td>\n    </tr>\n    <tr>\n      <th>695</th>\n      <td>5735a721e853931400426aa9</td>\n      <td>What are Madhyapur Thimi, Kirtipur and Bhaktapur?</td>\n      <td>Kathmandu</td>\n      <td>18846</td>\n      <td>The agglomeration of Kathmandu has not yet bee...</td>\n      <td>[municipalities]</td>\n      <td>[441]</td>\n      <td>[455]</td>\n    </tr>\n    <tr>\n      <th>696</th>\n      <td>5735ad64e853931400426abe</td>\n      <td>When did construction on the Tribhuvan Highway...</td>\n      <td>Kathmandu</td>\n      <td>18851</td>\n      <td>Tourism is considered another important indust...</td>\n      <td>[1956]</td>\n      <td>[201]</td>\n      <td>[205]</td>\n    </tr>\n  </tbody>\n</table>\n<p>697 rows × 8 columns</p>\n</div>"
     },
     "metadata": {},
     "execution_count": 27
    }
   ],
   "source": [
    "standard_dm.train_df"
   ]
  },
  {
   "cell_type": "code",
   "execution_count": 28,
   "metadata": {
    "execution": {
     "iopub.execute_input": "2021-01-18T13:54:40.607836Z",
     "iopub.status.busy": "2021-01-18T13:54:40.607517Z",
     "iopub.status.idle": "2021-01-18T13:54:40.706174Z",
     "shell.execute_reply": "2021-01-18T13:54:40.705042Z",
     "shell.execute_reply.started": "2021-01-18T13:54:40.607797Z"
    }
   },
   "outputs": [
    {
     "output_type": "execute_result",
     "data": {
      "text/plain": [
       "                  question_id  \\\n",
       "0    56be8e353aeaaa14008c90c6   \n",
       "1    56be9eea3aeaaa14008c9184   \n",
       "2    56bf89cfa10cfb1400551163   \n",
       "3    56bf9c70a10cfb14005511bb   \n",
       "4    56cc27346d243a140015eebb   \n",
       "..                        ...   \n",
       "167  57351496879d6814001cab11   \n",
       "168  5735fcb96c16ec1900b928c8   \n",
       "169  5735ffb96c16ec1900b928e1   \n",
       "170  573605726c16ec1900b92906   \n",
       "171  5736357e506b47140023659a   \n",
       "\n",
       "                                              question  \\\n",
       "0    \"Charlie's Angels\" featured which single from ...   \n",
       "1    How many awards did Beyonce take home with her...   \n",
       "2     What album caused a lawsuit to be filed in 2001?   \n",
       "3            In what year did Beyonce have her hiatus?   \n",
       "4    During what years did the Mongol leader Kublai...   \n",
       "..                                                 ...   \n",
       "167  Where can safari hunters go which are uninviti...   \n",
       "168  What forbid hunting in the woods with hounds a...   \n",
       "169         Game animals were introduced here by whom?   \n",
       "170                           Why are assistants used?   \n",
       "171                        What do bison still remain?   \n",
       "\n",
       "                                              title  context_id  \\\n",
       "0                                           Beyoncé          63   \n",
       "1                                           Beyoncé          79   \n",
       "2                                           Beyoncé          63   \n",
       "3                                           Beyoncé          72   \n",
       "4    Sino-Tibetan_relations_during_the_Ming_dynasty         300   \n",
       "..                                              ...         ...   \n",
       "167                                         Hunting       18825   \n",
       "168                                         Hunting       18806   \n",
       "169                                         Hunting       18808   \n",
       "170                                         Hunting       18812   \n",
       "171                                         Hunting       18831   \n",
       "\n",
       "                                               context  \\\n",
       "0    The remaining band members recorded \"Independe...   \n",
       "1    At the 57th Annual Grammy Awards in February 2...   \n",
       "2    The remaining band members recorded \"Independe...   \n",
       "3    Beyoncé announced a hiatus from her music care...   \n",
       "4    Some scholars note that Tibetan leaders during...   \n",
       "..                                                 ...   \n",
       "167  A variety of industries benefit from hunting a...   \n",
       "168  From early Christian times, hunting has been f...   \n",
       "169  New Zealand has a strong hunting culture. The ...   \n",
       "170  Shooting as practised in Britain, as opposed t...   \n",
       "171  The American bison is a large bovid which inha...   \n",
       "\n",
       "                          answer answer_start answer_end  \n",
       "0     [Independent Women Part I]         [37]       [61]  \n",
       "1                        [three]        [108]      [113]  \n",
       "2                     [Survivor]        [593]      [601]  \n",
       "3                         [2010]         [60]       [64]  \n",
       "4                    [1402–1424]        [739]      [748]  \n",
       "..                           ...          ...        ...  \n",
       "167               [remote areas]        [367]      [379]  \n",
       "168      [Corpus Juris Canonici]         [98]      [119]  \n",
       "169  [acclimatisation societies]        [189]      [214]  \n",
       "170         [help load shotguns]        [305]      [323]  \n",
       "171            [near-threatened]        [516]      [531]  \n",
       "\n",
       "[172 rows x 8 columns]"
      ],
      "text/html": "<div>\n<style scoped>\n    .dataframe tbody tr th:only-of-type {\n        vertical-align: middle;\n    }\n\n    .dataframe tbody tr th {\n        vertical-align: top;\n    }\n\n    .dataframe thead th {\n        text-align: right;\n    }\n</style>\n<table border=\"1\" class=\"dataframe\">\n  <thead>\n    <tr style=\"text-align: right;\">\n      <th></th>\n      <th>question_id</th>\n      <th>question</th>\n      <th>title</th>\n      <th>context_id</th>\n      <th>context</th>\n      <th>answer</th>\n      <th>answer_start</th>\n      <th>answer_end</th>\n    </tr>\n  </thead>\n  <tbody>\n    <tr>\n      <th>0</th>\n      <td>56be8e353aeaaa14008c90c6</td>\n      <td>\"Charlie's Angels\" featured which single from ...</td>\n      <td>Beyoncé</td>\n      <td>63</td>\n      <td>The remaining band members recorded \"Independe...</td>\n      <td>[Independent Women Part I]</td>\n      <td>[37]</td>\n      <td>[61]</td>\n    </tr>\n    <tr>\n      <th>1</th>\n      <td>56be9eea3aeaaa14008c9184</td>\n      <td>How many awards did Beyonce take home with her...</td>\n      <td>Beyoncé</td>\n      <td>79</td>\n      <td>At the 57th Annual Grammy Awards in February 2...</td>\n      <td>[three]</td>\n      <td>[108]</td>\n      <td>[113]</td>\n    </tr>\n    <tr>\n      <th>2</th>\n      <td>56bf89cfa10cfb1400551163</td>\n      <td>What album caused a lawsuit to be filed in 2001?</td>\n      <td>Beyoncé</td>\n      <td>63</td>\n      <td>The remaining band members recorded \"Independe...</td>\n      <td>[Survivor]</td>\n      <td>[593]</td>\n      <td>[601]</td>\n    </tr>\n    <tr>\n      <th>3</th>\n      <td>56bf9c70a10cfb14005511bb</td>\n      <td>In what year did Beyonce have her hiatus?</td>\n      <td>Beyoncé</td>\n      <td>72</td>\n      <td>Beyoncé announced a hiatus from her music care...</td>\n      <td>[2010]</td>\n      <td>[60]</td>\n      <td>[64]</td>\n    </tr>\n    <tr>\n      <th>4</th>\n      <td>56cc27346d243a140015eebb</td>\n      <td>During what years did the Mongol leader Kublai...</td>\n      <td>Sino-Tibetan_relations_during_the_Ming_dynasty</td>\n      <td>300</td>\n      <td>Some scholars note that Tibetan leaders during...</td>\n      <td>[1402–1424]</td>\n      <td>[739]</td>\n      <td>[748]</td>\n    </tr>\n    <tr>\n      <th>...</th>\n      <td>...</td>\n      <td>...</td>\n      <td>...</td>\n      <td>...</td>\n      <td>...</td>\n      <td>...</td>\n      <td>...</td>\n      <td>...</td>\n    </tr>\n    <tr>\n      <th>167</th>\n      <td>57351496879d6814001cab11</td>\n      <td>Where can safari hunters go which are uninviti...</td>\n      <td>Hunting</td>\n      <td>18825</td>\n      <td>A variety of industries benefit from hunting a...</td>\n      <td>[remote areas]</td>\n      <td>[367]</td>\n      <td>[379]</td>\n    </tr>\n    <tr>\n      <th>168</th>\n      <td>5735fcb96c16ec1900b928c8</td>\n      <td>What forbid hunting in the woods with hounds a...</td>\n      <td>Hunting</td>\n      <td>18806</td>\n      <td>From early Christian times, hunting has been f...</td>\n      <td>[Corpus Juris Canonici]</td>\n      <td>[98]</td>\n      <td>[119]</td>\n    </tr>\n    <tr>\n      <th>169</th>\n      <td>5735ffb96c16ec1900b928e1</td>\n      <td>Game animals were introduced here by whom?</td>\n      <td>Hunting</td>\n      <td>18808</td>\n      <td>New Zealand has a strong hunting culture. The ...</td>\n      <td>[acclimatisation societies]</td>\n      <td>[189]</td>\n      <td>[214]</td>\n    </tr>\n    <tr>\n      <th>170</th>\n      <td>573605726c16ec1900b92906</td>\n      <td>Why are assistants used?</td>\n      <td>Hunting</td>\n      <td>18812</td>\n      <td>Shooting as practised in Britain, as opposed t...</td>\n      <td>[help load shotguns]</td>\n      <td>[305]</td>\n      <td>[323]</td>\n    </tr>\n    <tr>\n      <th>171</th>\n      <td>5736357e506b47140023659a</td>\n      <td>What do bison still remain?</td>\n      <td>Hunting</td>\n      <td>18831</td>\n      <td>The American bison is a large bovid which inha...</td>\n      <td>[near-threatened]</td>\n      <td>[516]</td>\n      <td>[531]</td>\n    </tr>\n  </tbody>\n</table>\n<p>172 rows × 8 columns</p>\n</div>"
     },
     "metadata": {},
     "execution_count": 28
    }
   ],
   "source": [
    "standard_dm.val_df"
   ]
  },
  {
   "cell_type": "code",
   "execution_count": 29,
   "metadata": {
    "execution": {
     "iopub.execute_input": "2021-01-18T13:54:40.709699Z",
     "iopub.status.busy": "2021-01-18T13:54:40.709386Z",
     "iopub.status.idle": "2021-01-18T13:54:40.809445Z",
     "shell.execute_reply": "2021-01-18T13:54:40.808338Z",
     "shell.execute_reply.started": "2021-01-18T13:54:40.709661Z"
    }
   },
   "outputs": [
    {
     "output_type": "execute_result",
     "data": {
      "text/plain": [
       "                  question_id  \\\n",
       "0    56be5438acb8001400a5031c   \n",
       "1    56be5523acb8001400a5032e   \n",
       "2    56beab833aeaaa14008c91d2   \n",
       "3    56beb6533aeaaa14008c9290   \n",
       "4    56bebc383aeaaa14008c9321   \n",
       "..                        ...   \n",
       "175  57379829c3c5551400e51f3d   \n",
       "176  57379a4b1c456719005744d0   \n",
       "177  57379ed81c456719005744d7   \n",
       "178  5737a0acc3c5551400e51f4a   \n",
       "179  5737a5931c456719005744e8   \n",
       "\n",
       "                                              question          title  \\\n",
       "0    Which California venue was one of three consid...  Super_Bowl_50   \n",
       "1                         When did Lev's Stadium open?  Super_Bowl_50   \n",
       "2    Which Denver linebacker was named Super Bowl MVP?  Super_Bowl_50   \n",
       "3          Who was first on the team in total tackles?  Super_Bowl_50   \n",
       "4      What yard marker on the field was painted gold?  Super_Bowl_50   \n",
       "..                                                 ...            ...   \n",
       "175       What does the W and Z boson exchange create?          Force   \n",
       "176  What is the force that causes rigid strength i...          Force   \n",
       "177  In what way do idea strings transmit tesion fo...          Force   \n",
       "178  What may a force on one part of an object affect?          Force   \n",
       "179  How do centripetal forces act in relation to v...          Force   \n",
       "\n",
       "     context_id                                            context  \\\n",
       "0             5  The league eventually narrowed the bids to thr...   \n",
       "1             7  On May 21, 2013, NFL owners at their spring me...   \n",
       "2             2  The Broncos took an early lead in Super Bowl 5...   \n",
       "3            14  The Broncos' defense ranked first in the NFL y...   \n",
       "4            25  Various gold-themed promotions and initiatives...   \n",
       "..          ...                                                ...   \n",
       "175        2056  The weak force is due to the exchange of the h...   \n",
       "176        2057  The normal force is due to repulsive forces of...   \n",
       "177        2058  Tension forces can be modeled using ideal stri...   \n",
       "178        2059  Newton's laws and Newtonian mechanics in gener...   \n",
       "179        2062  where  is the mass of the object,  is the velo...   \n",
       "\n",
       "                                         answer answer_start answer_end  \n",
       "0     [San Francisco Bay Area's Levi's Stadium]        [128]      [167]  \n",
       "1                                        [2014]        [144]      [148]  \n",
       "2                       [linebacker Von Miller]        [237]      [258]  \n",
       "3                            [Brandon Marshall]        [458]      [474]  \n",
       "4                                          [50]        [232]      [234]  \n",
       "..                                          ...          ...        ...  \n",
       "175                                [weak force]          [4]       [14]  \n",
       "176                                    [normal]        [298]      [304]  \n",
       "177  [instantaneously in action-reaction pairs]        [250]      [290]  \n",
       "178                               [other parts]        [276]      [287]  \n",
       "179                             [perpendicular]        [346]      [359]  \n",
       "\n",
       "[180 rows x 8 columns]"
      ],
      "text/html": "<div>\n<style scoped>\n    .dataframe tbody tr th:only-of-type {\n        vertical-align: middle;\n    }\n\n    .dataframe tbody tr th {\n        vertical-align: top;\n    }\n\n    .dataframe thead th {\n        text-align: right;\n    }\n</style>\n<table border=\"1\" class=\"dataframe\">\n  <thead>\n    <tr style=\"text-align: right;\">\n      <th></th>\n      <th>question_id</th>\n      <th>question</th>\n      <th>title</th>\n      <th>context_id</th>\n      <th>context</th>\n      <th>answer</th>\n      <th>answer_start</th>\n      <th>answer_end</th>\n    </tr>\n  </thead>\n  <tbody>\n    <tr>\n      <th>0</th>\n      <td>56be5438acb8001400a5031c</td>\n      <td>Which California venue was one of three consid...</td>\n      <td>Super_Bowl_50</td>\n      <td>5</td>\n      <td>The league eventually narrowed the bids to thr...</td>\n      <td>[San Francisco Bay Area's Levi's Stadium]</td>\n      <td>[128]</td>\n      <td>[167]</td>\n    </tr>\n    <tr>\n      <th>1</th>\n      <td>56be5523acb8001400a5032e</td>\n      <td>When did Lev's Stadium open?</td>\n      <td>Super_Bowl_50</td>\n      <td>7</td>\n      <td>On May 21, 2013, NFL owners at their spring me...</td>\n      <td>[2014]</td>\n      <td>[144]</td>\n      <td>[148]</td>\n    </tr>\n    <tr>\n      <th>2</th>\n      <td>56beab833aeaaa14008c91d2</td>\n      <td>Which Denver linebacker was named Super Bowl MVP?</td>\n      <td>Super_Bowl_50</td>\n      <td>2</td>\n      <td>The Broncos took an early lead in Super Bowl 5...</td>\n      <td>[linebacker Von Miller]</td>\n      <td>[237]</td>\n      <td>[258]</td>\n    </tr>\n    <tr>\n      <th>3</th>\n      <td>56beb6533aeaaa14008c9290</td>\n      <td>Who was first on the team in total tackles?</td>\n      <td>Super_Bowl_50</td>\n      <td>14</td>\n      <td>The Broncos' defense ranked first in the NFL y...</td>\n      <td>[Brandon Marshall]</td>\n      <td>[458]</td>\n      <td>[474]</td>\n    </tr>\n    <tr>\n      <th>4</th>\n      <td>56bebc383aeaaa14008c9321</td>\n      <td>What yard marker on the field was painted gold?</td>\n      <td>Super_Bowl_50</td>\n      <td>25</td>\n      <td>Various gold-themed promotions and initiatives...</td>\n      <td>[50]</td>\n      <td>[232]</td>\n      <td>[234]</td>\n    </tr>\n    <tr>\n      <th>...</th>\n      <td>...</td>\n      <td>...</td>\n      <td>...</td>\n      <td>...</td>\n      <td>...</td>\n      <td>...</td>\n      <td>...</td>\n      <td>...</td>\n    </tr>\n    <tr>\n      <th>175</th>\n      <td>57379829c3c5551400e51f3d</td>\n      <td>What does the W and Z boson exchange create?</td>\n      <td>Force</td>\n      <td>2056</td>\n      <td>The weak force is due to the exchange of the h...</td>\n      <td>[weak force]</td>\n      <td>[4]</td>\n      <td>[14]</td>\n    </tr>\n    <tr>\n      <th>176</th>\n      <td>57379a4b1c456719005744d0</td>\n      <td>What is the force that causes rigid strength i...</td>\n      <td>Force</td>\n      <td>2057</td>\n      <td>The normal force is due to repulsive forces of...</td>\n      <td>[normal]</td>\n      <td>[298]</td>\n      <td>[304]</td>\n    </tr>\n    <tr>\n      <th>177</th>\n      <td>57379ed81c456719005744d7</td>\n      <td>In what way do idea strings transmit tesion fo...</td>\n      <td>Force</td>\n      <td>2058</td>\n      <td>Tension forces can be modeled using ideal stri...</td>\n      <td>[instantaneously in action-reaction pairs]</td>\n      <td>[250]</td>\n      <td>[290]</td>\n    </tr>\n    <tr>\n      <th>178</th>\n      <td>5737a0acc3c5551400e51f4a</td>\n      <td>What may a force on one part of an object affect?</td>\n      <td>Force</td>\n      <td>2059</td>\n      <td>Newton's laws and Newtonian mechanics in gener...</td>\n      <td>[other parts]</td>\n      <td>[276]</td>\n      <td>[287]</td>\n    </tr>\n    <tr>\n      <th>179</th>\n      <td>5737a5931c456719005744e8</td>\n      <td>How do centripetal forces act in relation to v...</td>\n      <td>Force</td>\n      <td>2062</td>\n      <td>where  is the mass of the object,  is the velo...</td>\n      <td>[perpendicular]</td>\n      <td>[346]</td>\n      <td>[359]</td>\n    </tr>\n  </tbody>\n</table>\n<p>180 rows × 8 columns</p>\n</div>"
     },
     "metadata": {},
     "execution_count": 29
    }
   ],
   "source": [
    "standard_dm.test_df"
   ]
  },
  {
   "cell_type": "markdown",
   "metadata": {},
   "source": [
    "## Utils"
   ]
  },
  {
   "cell_type": "code",
   "execution_count": 30,
   "metadata": {
    "execution": {
     "iopub.execute_input": "2021-01-18T14:17:57.551950Z",
     "iopub.status.busy": "2021-01-18T14:17:57.551520Z",
     "iopub.status.idle": "2021-01-18T14:17:57.618088Z",
     "shell.execute_reply": "2021-01-18T14:17:57.616630Z",
     "shell.execute_reply.started": "2021-01-18T14:17:57.551906Z"
    }
   },
   "outputs": [],
   "source": [
    "TRAINER_ARGS = partial(\n",
    "    transformers.TrainingArguments,\n",
    "    output_dir=\"./checkpoints\",\n",
    "    logging_dir=\"./runs\",\n",
    "    logging_first_step=True,\n",
    "    logging_steps=5,\n",
    "    overwrite_output_dir=True,\n",
    "    load_best_model_at_end=True,\n",
    "    metric_for_best_model=\"f1\",\n",
    "    evaluation_strategy=\"epoch\",\n",
    "    learning_rate=1e-3,\n",
    "    num_train_epochs=5,\n",
    "    remove_unused_columns=False,\n",
    "    per_device_train_batch_size=64,\n",
    "    per_device_eval_batch_size=64,\n",
    "    label_names=[\"answers\"],\n",
    "    seed=RANDOM_SEED\n",
    ")"
   ]
  },
  {
   "cell_type": "markdown",
   "metadata": {},
   "source": [
    "## Baseline model"
   ]
  },
  {
   "cell_type": "code",
   "execution_count": 31,
   "metadata": {
    "execution": {
     "iopub.execute_input": "2021-01-18T14:08:23.857691Z",
     "iopub.status.busy": "2021-01-18T14:08:23.857251Z",
     "iopub.status.idle": "2021-01-18T14:08:23.943732Z",
     "shell.execute_reply": "2021-01-18T14:08:23.942612Z",
     "shell.execute_reply.started": "2021-01-18T14:08:23.857646Z"
    }
   },
   "outputs": [
    {
     "output_type": "stream",
     "name": "stdout",
     "text": [
      "The baseline model has 41000 parameters\n"
     ]
    }
   ],
   "source": [
    "baseline_model = model.QABaselineModel(glove_embedding_layer, MAX_CONTEXT_TOKENS, device=DEVICE)\n",
    "print(f\"The baseline model has {baseline_model.count_parameters()} parameters\")"
   ]
  },
  {
   "cell_type": "code",
   "execution_count": 32,
   "metadata": {
    "execution": {
     "iopub.execute_input": "2021-01-18T14:08:26.007941Z",
     "iopub.status.busy": "2021-01-18T14:08:26.007622Z",
     "iopub.status.idle": "2021-01-18T14:08:26.085929Z",
     "shell.execute_reply": "2021-01-18T14:08:26.084771Z",
     "shell.execute_reply.started": "2021-01-18T14:08:26.007899Z"
    }
   },
   "outputs": [
    {
     "output_type": "stream",
     "name": "stdout",
     "text": [
      "env: WANDB_RUN_GROUP=baseline\n"
     ]
    }
   ],
   "source": [
    "%env WANDB_RUN_GROUP=baseline\n",
    "baseline_run_name=utils.get_run_name()\n",
    "baseline_output_dir=f\"./checkpoints/baseline/{baseline_run_name}\"\n",
    "baseline_args = TRAINER_ARGS(output_dir=baseline_output_dir,run_name=baseline_run_name)\n",
    "baseline_trainer = training.SquadTrainer(\n",
    "    model=baseline_model,\n",
    "    args=baseline_args,\n",
    "    data_collator=standard_dm.tokenizer,\n",
    "    train_dataset=standard_dm.train_dataset,\n",
    "    eval_dataset=standard_dm.val_dataset,\n",
    ")"
   ]
  },
  {
   "cell_type": "code",
   "execution_count": 33,
   "metadata": {
    "execution": {
     "iopub.execute_input": "2021-01-18T14:08:28.228952Z",
     "iopub.status.busy": "2021-01-18T14:08:28.228633Z",
     "iopub.status.idle": "2021-01-18T14:08:51.015933Z",
     "shell.execute_reply": "2021-01-18T14:08:51.014566Z",
     "shell.execute_reply.started": "2021-01-18T14:08:28.228910Z"
    }
   },
   "outputs": [
    {
     "output_type": "stream",
     "name": "stderr",
     "text": [
      "  0%|          | 0/55 [00:00<?, ?it/s]Failed to query for notebook name, you can set it manually with the WANDB_NOTEBOOK_NAME environment variable\n",
      "wandb: Currently logged in as: wadaboa (use `wandb login --relogin` to force relogin)\n"
     ]
    },
    {
     "output_type": "display_data",
     "data": {
      "text/plain": "<IPython.core.display.HTML object>",
      "text/html": "\n                Tracking run with wandb version 0.10.14<br/>\n                Syncing run <strong style=\"color:#cdcd00\">2021-01-19--19-54-32</strong> to <a href=\"https://wandb.ai\" target=\"_blank\">Weights & Biases</a> <a href=\"https://docs.wandb.com/integrations/jupyter.html\" target=\"_blank\">(Documentation)</a>.<br/>\n                Project page: <a href=\"https://wandb.ai/wadaboa/squad-qa\" target=\"_blank\">https://wandb.ai/wadaboa/squad-qa</a><br/>\n                Run page: <a href=\"https://wandb.ai/wadaboa/squad-qa/runs/34g4s888\" target=\"_blank\">https://wandb.ai/wadaboa/squad-qa/runs/34g4s888</a><br/>\n                Run data is saved locally in <code>d:\\leoca\\Development\\squad-question-answering\\wandb\\run-20210119_195435-34g4s888</code><br/><br/>\n            "
     },
     "metadata": {}
    },
    {
     "output_type": "stream",
     "name": "stderr",
     "text": [
      "  2%|▏         | 1/55 [00:03<03:32,  3.94s/it]{'loss': 14.59, 'learning_rate': 0.0009818181818181818, 'epoch': 0.09}\n",
      "  4%|▎         | 2/55 [00:04<01:42,  1.93s/it]{'f1': 0.003907946157186279, 'accuracy': 0.015625, 'em': 0.0, 'epoch': 0.09}\n",
      "  9%|▉         | 5/55 [00:05<00:39,  1.25it/s]{'loss': 15.0243, 'learning_rate': 0.0009090909090909091, 'epoch': 0.45}\n",
      " 11%|█         | 6/55 [00:06<00:34,  1.43it/s]{'f1': 0.0004668534080298786, 'accuracy': 0.0078125, 'em': 0.0, 'epoch': 0.45}\n",
      " 18%|█▊        | 10/55 [00:08<00:23,  1.90it/s]{'loss': 15.086, 'learning_rate': 0.0008181818181818183, 'epoch': 0.91}\n",
      " 20%|██        | 11/55 [00:08<00:22,  1.98it/s]{'f1': 0.0007833920877399139, 'accuracy': 0.008771929824561403, 'em': 0.0, 'epoch': 0.91}\n",
      "\n",
      "  0%|          | 0/3 [00:00<?, ?it/s]\u001b[A\n",
      " 67%|██████▋   | 2/3 [00:00<00:00,  4.08it/s]\u001b[A\n",
      "\n",
      " 20%|██        | 11/55 [00:10<00:22,  1.98it/s]\n",
      "100%|██████████| 3/3 [00:00<00:00,  3.29it/s]\u001b[A\n",
      "                                             \u001b[Awandb: WARNING Symlinked 5 files into the W&B run directory, call wandb.save again to sync new files.\n",
      "{'eval_loss': 15.100722312927246, 'eval_f1': 0.00016189088554314392, 'eval_accuracy': 0.005813953488372093, 'eval_em': 0.0, 'eval_runtime': 1.3401, 'eval_samples_per_second': 128.347, 'epoch': 1.0}\n",
      " 27%|██▋       | 15/55 [00:12<00:25,  1.55it/s]{'loss': 14.7923, 'learning_rate': 0.0007272727272727273, 'epoch': 1.36}\n",
      " 29%|██▉       | 16/55 [00:12<00:23,  1.67it/s]{'f1': 0.0, 'accuracy': 0.0, 'em': 0.0, 'epoch': 1.36}\n",
      " 36%|███▋      | 20/55 [00:14<00:18,  1.88it/s]{'loss': 14.9775, 'learning_rate': 0.0006363636363636364, 'epoch': 1.82}\n",
      " 38%|███▊      | 21/55 [00:15<00:18,  1.86it/s]{'f1': 0.0004314063848144953, 'accuracy': 0.0078125, 'em': 0.0, 'epoch': 1.82}\n",
      " 40%|████      | 22/55 [00:15<00:16,  1.99it/s]\n",
      "  0%|          | 0/3 [00:00<?, ?it/s]\u001b[A\n",
      " 67%|██████▋   | 2/3 [00:00<00:00,  3.88it/s]\u001b[A\n",
      "\n",
      " 40%|████      | 22/55 [00:17<00:16,  1.99it/s]\n",
      "100%|██████████| 3/3 [00:00<00:00,  3.34it/s]\u001b[A\n",
      "                                             \u001b[Awandb: WARNING Symlinked 5 files into the W&B run directory, call wandb.save again to sync new files.\n",
      "{'eval_loss': 14.998549461364746, 'eval_f1': 0.00016189088554314392, 'eval_accuracy': 0.005813953488372093, 'eval_em': 0.0, 'eval_runtime': 1.348, 'eval_samples_per_second': 127.597, 'epoch': 2.0}\n",
      " 45%|████▌     | 25/55 [00:18<00:21,  1.40it/s]{'loss': 14.8998, 'learning_rate': 0.0005454545454545455, 'epoch': 2.27}\n",
      " 47%|████▋     | 26/55 [00:19<00:18,  1.54it/s]{'f1': 0.0, 'accuracy': 0.0, 'em': 0.0, 'epoch': 2.27}\n",
      " 55%|█████▍    | 30/55 [00:21<00:13,  1.89it/s]{'loss': 14.6326, 'learning_rate': 0.00045454545454545455, 'epoch': 2.73}\n",
      " 56%|█████▋    | 31/55 [00:21<00:12,  1.90it/s]{'f1': 0.005040650406504065, 'accuracy': 0.0234375, 'em': 0.015625, 'epoch': 2.73}\n",
      " 60%|██████    | 33/55 [00:22<00:11,  1.97it/s]\n",
      "  0%|          | 0/3 [00:00<?, ?it/s]\u001b[A\n",
      " 67%|██████▋   | 2/3 [00:00<00:00,  3.56it/s]\u001b[A\n",
      "\n",
      " 60%|██████    | 33/55 [00:24<00:11,  1.97it/s]\n",
      "100%|██████████| 3/3 [00:00<00:00,  3.12it/s]\u001b[A\n",
      "                                             \u001b[Awandb: WARNING Symlinked 5 files into the W&B run directory, call wandb.save again to sync new files.\n",
      "{'eval_loss': 14.84438419342041, 'eval_f1': 0.00016189088554314392, 'eval_accuracy': 0.005813953488372093, 'eval_em': 0.0, 'eval_runtime': 1.426, 'eval_samples_per_second': 120.617, 'epoch': 3.0}\n",
      " 64%|██████▎   | 35/55 [00:25<00:16,  1.21it/s]{'loss': 14.9207, 'learning_rate': 0.00036363636363636367, 'epoch': 3.18}\n",
      " 65%|██████▌   | 36/55 [00:25<00:14,  1.35it/s]{'f1': 0.0, 'accuracy': 0.0, 'em': 0.0, 'epoch': 3.18}\n",
      " 73%|███████▎  | 40/55 [00:27<00:08,  1.79it/s]{'loss': 14.5585, 'learning_rate': 0.00027272727272727274, 'epoch': 3.64}\n",
      " 75%|███████▍  | 41/55 [00:28<00:07,  1.82it/s]{'f1': 0.0010884353741496598, 'accuracy': 0.015625, 'em': 0.0, 'epoch': 3.64}\n",
      " 80%|████████  | 44/55 [00:29<00:05,  1.99it/s]\n",
      "  0%|          | 0/3 [00:00<?, ?it/s]\u001b[A\n",
      " 67%|██████▋   | 2/3 [00:00<00:00,  4.01it/s]\u001b[A\n",
      "\n",
      " 80%|████████  | 44/55 [00:31<00:05,  1.99it/s]\n",
      "100%|██████████| 3/3 [00:00<00:00,  3.40it/s]\u001b[A\n",
      "                                             \u001b[Awandb: WARNING Symlinked 5 files into the W&B run directory, call wandb.save again to sync new files.\n",
      "{'eval_loss': 14.69588851928711, 'eval_f1': 0.00016189088554314392, 'eval_accuracy': 0.005813953488372093, 'eval_em': 0.0, 'eval_runtime': 1.3251, 'eval_samples_per_second': 129.806, 'epoch': 4.0}\n",
      " 82%|████████▏ | 45/55 [00:31<00:09,  1.10it/s]{'loss': 14.6981, 'learning_rate': 0.00018181818181818183, 'epoch': 4.09}\n",
      " 84%|████████▎ | 46/55 [00:32<00:07,  1.28it/s]{'f1': 0.009166666666666667, 'accuracy': 0.015625, 'em': 0.0, 'epoch': 4.09}\n",
      " 91%|█████████ | 50/55 [00:34<00:02,  1.71it/s]{'loss': 14.6839, 'learning_rate': 9.090909090909092e-05, 'epoch': 4.55}\n",
      " 93%|█████████▎| 51/55 [00:34<00:02,  1.75it/s]{'f1': 0.0, 'accuracy': 0.0, 'em': 0.0, 'epoch': 4.55}\n",
      "100%|██████████| 55/55 [00:36<00:00,  2.01it/s]{'loss': 14.5045, 'learning_rate': 0.0, 'epoch': 5.0}\n",
      "\n",
      "  0%|          | 0/3 [00:00<?, ?it/s]\u001b[A\n",
      " 67%|██████▋   | 2/3 [00:00<00:00,  3.99it/s]\u001b[A\n",
      "\n",
      "100%|██████████| 55/55 [00:37<00:00,  2.01it/s]\n",
      "100%|██████████| 3/3 [00:00<00:00,  3.36it/s]\u001b[A\n",
      "100%|██████████| 55/55 [00:38<00:00,  1.45it/s]\n",
      "wandb: WARNING Symlinked 5 files into the W&B run directory, call wandb.save again to sync new files.\n",
      "{'eval_loss': 14.631054878234863, 'eval_f1': 0.00016189088554314392, 'eval_accuracy': 0.005813953488372093, 'eval_em': 0.0, 'eval_runtime': 1.347, 'eval_samples_per_second': 127.691, 'epoch': 5.0}\n",
      "{'train_runtime': 37.9985, 'train_samples_per_second': 1.447, 'epoch': 5.0}\n"
     ]
    },
    {
     "output_type": "execute_result",
     "data": {
      "text/plain": [
       "TrainOutput(global_step=55, training_loss=14.79012652310458, metrics={'train_runtime': 37.9985, 'train_samples_per_second': 1.447, 'epoch': 5.0})"
      ]
     },
     "metadata": {},
     "execution_count": 33
    }
   ],
   "source": [
    "baseline_trainer.train()\n",
    "#wandb.save(f\"{baseline_output_dir}/**/*\");"
   ]
  },
  {
   "cell_type": "code",
   "execution_count": 37,
   "metadata": {
    "execution": {
     "iopub.execute_input": "2021-01-18T14:08:53.264196Z",
     "iopub.status.busy": "2021-01-18T14:08:53.263865Z",
     "iopub.status.idle": "2021-01-18T14:08:55.521027Z",
     "shell.execute_reply": "2021-01-18T14:08:55.519827Z",
     "shell.execute_reply.started": "2021-01-18T14:08:53.264154Z"
    }
   },
   "outputs": [
    {
     "output_type": "stream",
     "name": "stderr",
     "text": [
      "100%|██████████| 3/3 [00:00<00:00,  3.14it/s]"
     ]
    },
    {
     "output_type": "execute_result",
     "data": {
      "text/plain": [
       "{'test_loss': 15.37047004699707,\n",
       " 'test_f1': 0.00017915642915642917,\n",
       " 'test_accuracy': 0.005555555555555556,\n",
       " 'test_em': 0.0,\n",
       " 'test_runtime': 1.3612,\n",
       " 'test_samples_per_second': 132.237}"
      ]
     },
     "metadata": {},
     "execution_count": 37
    }
   ],
   "source": [
    "baseline_test_output = baseline_trainer.predict(standard_dm.test_dataset)\n",
    "baseline_test_output.metrics"
   ]
  },
  {
   "cell_type": "code",
   "execution_count": 38,
   "metadata": {
    "execution": {
     "iopub.execute_input": "2021-01-18T13:41:23.727488Z",
     "iopub.status.busy": "2021-01-18T13:41:23.727162Z",
     "iopub.status.idle": "2021-01-18T13:41:23.800852Z",
     "shell.execute_reply": "2021-01-18T13:41:23.799755Z",
     "shell.execute_reply.started": "2021-01-18T13:41:23.727446Z"
    }
   },
   "outputs": [
    {
     "output_type": "display_data",
     "data": {
      "text/plain": "<IPython.core.display.HTML object>",
      "text/html": "<br/>Waiting for W&B process to finish, PID 10428<br/>Program ended successfully."
     },
     "metadata": {}
    },
    {
     "output_type": "display_data",
     "data": {
      "text/plain": "<IPython.core.display.HTML object>",
      "text/html": "Find user logs for this run at: <code>d:\\leoca\\Development\\squad-question-answering\\wandb\\run-20210119_195435-34g4s888\\logs\\debug.log</code>"
     },
     "metadata": {}
    },
    {
     "output_type": "display_data",
     "data": {
      "text/plain": "<IPython.core.display.HTML object>",
      "text/html": "Find internal logs for this run at: <code>d:\\leoca\\Development\\squad-question-answering\\wandb\\run-20210119_195435-34g4s888\\logs\\debug-internal.log</code>"
     },
     "metadata": {}
    },
    {
     "output_type": "display_data",
     "data": {
      "text/plain": "<IPython.core.display.HTML object>",
      "text/html": "<h3>Run summary:</h3><br/><style>\n    table.wandb td:nth-child(1) { padding: 0 10px; text-align: right }\n    </style><table class=\"wandb\">\n<tr><td>train/loss</td><td>14.5045</td></tr><tr><td>train/learning_rate</td><td>0.0</td></tr><tr><td>train/epoch</td><td>5.0</td></tr><tr><td>train/f1</td><td>0.0</td></tr><tr><td>train/accuracy</td><td>0.0</td></tr><tr><td>train/em</td><td>0.0</td></tr><tr><td>_step</td><td>55</td></tr><tr><td>_runtime</td><td>142</td></tr><tr><td>_timestamp</td><td>1611082617</td></tr><tr><td>eval/loss</td><td>14.63105</td></tr><tr><td>eval/f1</td><td>0.00016</td></tr><tr><td>eval/accuracy</td><td>0.00581</td></tr><tr><td>eval/em</td><td>0.0</td></tr><tr><td>eval/runtime</td><td>1.347</td></tr><tr><td>eval/samples_per_second</td><td>127.691</td></tr><tr><td>train/train_runtime</td><td>37.9985</td></tr><tr><td>train/train_samples_per_second</td><td>1.447</td></tr></table>"
     },
     "metadata": {}
    },
    {
     "output_type": "display_data",
     "data": {
      "text/plain": "<IPython.core.display.HTML object>",
      "text/html": "<h3>Run history:</h3><br/><style>\n    table.wandb td:nth-child(1) { padding: 0 10px; text-align: right }\n    </style><table class=\"wandb\">\n<tr><td>train/loss</td><td>▂▇█▄▇▆▃▆▂▃▃▁</td></tr><tr><td>train/learning_rate</td><td>█▇▇▆▆▅▄▄▃▂▂▁</td></tr><tr><td>train/epoch</td><td>▁▂▂▂▃▃▄▄▅▅▅▆▇▇▇█</td></tr><tr><td>train/f1</td><td>▄▁▂▁▁▁▅▁▂█▁</td></tr><tr><td>train/accuracy</td><td>▆▃▄▁▃▁█▁▆▆▁</td></tr><tr><td>train/em</td><td>▁▁▁▁▁▁█▁▁▁▁</td></tr><tr><td>_step</td><td>▁▂▂▂▃▃▄▄▅▅▅▆▇▇▇█</td></tr><tr><td>_runtime</td><td>▁▁▁▁▁▂▂▂▂▂▂▂▂▂▃█</td></tr><tr><td>_timestamp</td><td>▁▁▁▁▁▂▂▂▂▂▂▂▂▂▃█</td></tr><tr><td>eval/loss</td><td>█▆▄▂▁</td></tr><tr><td>eval/f1</td><td>▁▁▁▁▁</td></tr><tr><td>eval/accuracy</td><td>▁▁▁▁▁</td></tr><tr><td>eval/em</td><td>▁▁▁▁▁</td></tr><tr><td>eval/runtime</td><td>▂▃█▁▃</td></tr><tr><td>eval/samples_per_second</td><td>▇▆▁█▆</td></tr><tr><td>train/train_runtime</td><td>▁</td></tr><tr><td>train/train_samples_per_second</td><td>▁</td></tr></table><br/>"
     },
     "metadata": {}
    },
    {
     "output_type": "display_data",
     "data": {
      "text/plain": "<IPython.core.display.HTML object>",
      "text/html": "Synced 5 W&B file(s), 0 media file(s), 0 artifact file(s) and 26 other file(s)"
     },
     "metadata": {}
    },
    {
     "output_type": "display_data",
     "data": {
      "text/plain": "<IPython.core.display.HTML object>",
      "text/html": "\n                    <br/>Synced <strong style=\"color:#cdcd00\">2021-01-19--19-54-32</strong>: <a href=\"https://wandb.ai/wadaboa/squad-qa/runs/34g4s888\" target=\"_blank\">https://wandb.ai/wadaboa/squad-qa/runs/34g4s888</a><br/>\n                "
     },
     "metadata": {}
    }
   ],
   "source": [
    "baseline_answers_path = \"results/baseline.json\"\n",
    "utils.save_answers(baseline_answers_path, baseline_test_output.predictions[-1])\n",
    "wandb.save(baseline_answers_path);\n",
    "wandb.finish()"
   ]
  },
  {
   "cell_type": "markdown",
   "metadata": {},
   "source": [
    "## BiDAF"
   ]
  },
  {
   "cell_type": "code",
   "execution_count": 39,
   "metadata": {
    "execution": {
     "iopub.execute_input": "2021-01-18T14:09:20.159352Z",
     "iopub.status.busy": "2021-01-18T14:09:20.158920Z",
     "iopub.status.idle": "2021-01-18T14:09:20.245141Z",
     "shell.execute_reply": "2021-01-18T14:09:20.244020Z",
     "shell.execute_reply.started": "2021-01-18T14:09:20.159305Z"
    }
   },
   "outputs": [
    {
     "output_type": "stream",
     "name": "stdout",
     "text": [
      "The BiDAF model has 79675 parameters\n"
     ]
    }
   ],
   "source": [
    "bidaf_model = model.QABiDAFModel(glove_embedding_layer, device=DEVICE)\n",
    "print(f\"The BiDAF model has {bidaf_model.count_parameters()} parameters\")"
   ]
  },
  {
   "cell_type": "code",
   "execution_count": 40,
   "metadata": {
    "execution": {
     "iopub.execute_input": "2021-01-18T14:09:22.354030Z",
     "iopub.status.busy": "2021-01-18T14:09:22.353711Z",
     "iopub.status.idle": "2021-01-18T14:09:22.423244Z",
     "shell.execute_reply": "2021-01-18T14:09:22.422028Z",
     "shell.execute_reply.started": "2021-01-18T14:09:22.353989Z"
    }
   },
   "outputs": [],
   "source": [
    "bidaf_optimizer = optim.Adadelta(bidaf_model.parameters(), lr=0.5)\n",
    "bidaf_lr_scheduler = optim.lr_scheduler.ExponentialLR(bidaf_optimizer, gamma=.999)"
   ]
  },
  {
   "cell_type": "code",
   "execution_count": 41,
   "metadata": {
    "execution": {
     "iopub.execute_input": "2021-01-18T14:09:22.425676Z",
     "iopub.status.busy": "2021-01-18T14:09:22.425365Z",
     "iopub.status.idle": "2021-01-18T14:09:22.498666Z",
     "shell.execute_reply": "2021-01-18T14:09:22.497457Z",
     "shell.execute_reply.started": "2021-01-18T14:09:22.425636Z"
    }
   },
   "outputs": [
    {
     "output_type": "stream",
     "name": "stdout",
     "text": [
      "env: WANDB_RUN_GROUP=bidaf\n"
     ]
    }
   ],
   "source": [
    "%env WANDB_RUN_GROUP=bidaf\n",
    "bidaf_run_name=utils.get_run_name()\n",
    "bidaf_output_dir=f\"./checkpoints/bidaf/{bidaf_run_name}\"\n",
    "bidaf_args = TRAINER_ARGS(output_dir=bidaf_output_dir,run_name=bidaf_run_name)\n",
    "bidaf_trainer = training.SquadTrainer(\n",
    "    model=bidaf_model,\n",
    "    args=bidaf_args,\n",
    "    data_collator=standard_dm.tokenizer,\n",
    "    train_dataset=standard_dm.train_dataset,\n",
    "    eval_dataset=standard_dm.val_dataset,\n",
    "    optimizers=(bidaf_optimizer, bidaf_lr_scheduler),\n",
    ")"
   ]
  },
  {
   "cell_type": "code",
   "execution_count": 42,
   "metadata": {
    "execution": {
     "iopub.execute_input": "2021-01-18T14:09:22.500417Z",
     "iopub.status.busy": "2021-01-18T14:09:22.500117Z",
     "iopub.status.idle": "2021-01-18T14:10:34.530040Z",
     "shell.execute_reply": "2021-01-18T14:10:34.528751Z",
     "shell.execute_reply.started": "2021-01-18T14:09:22.500379Z"
    }
   },
   "outputs": [
    {
     "output_type": "stream",
     "name": "stderr",
     "text": [
      "\n",
      "  0%|          | 0/55 [00:00<?, ?it/s]\u001b[A"
     ]
    },
    {
     "output_type": "display_data",
     "data": {
      "text/plain": "<IPython.core.display.HTML object>",
      "text/html": "\n                Tracking run with wandb version 0.10.14<br/>\n                Syncing run <strong style=\"color:#cdcd00\">2021-01-19--19-58-38</strong> to <a href=\"https://wandb.ai\" target=\"_blank\">Weights & Biases</a> <a href=\"https://docs.wandb.com/integrations/jupyter.html\" target=\"_blank\">(Documentation)</a>.<br/>\n                Project page: <a href=\"https://wandb.ai/wadaboa/squad-qa\" target=\"_blank\">https://wandb.ai/wadaboa/squad-qa</a><br/>\n                Run page: <a href=\"https://wandb.ai/wadaboa/squad-qa/runs/2d8iplm2\" target=\"_blank\">https://wandb.ai/wadaboa/squad-qa/runs/2d8iplm2</a><br/>\n                Run data is saved locally in <code>d:\\leoca\\Development\\squad-question-answering\\wandb\\run-20210119_195840-2d8iplm2</code><br/><br/>\n            "
     },
     "metadata": {}
    },
    {
     "output_type": "stream",
     "name": "stderr",
     "text": [
      "\n",
      "  2%|▏         | 1/55 [00:02<02:33,  2.84s/it]\u001b[A\n",
      "\u001b[A"
     ]
    },
    {
     "output_type": "error",
     "ename": "Exception",
     "evalue": "The wandb backend process has shutdown",
     "traceback": [
      "\u001b[1;31m---------------------------------------------------------------------------\u001b[0m",
      "\u001b[1;31mException\u001b[0m                                 Traceback (most recent call last)",
      "\u001b[1;32m<ipython-input-42-aca95db80ac7>\u001b[0m in \u001b[0;36m<module>\u001b[1;34m\u001b[0m\n\u001b[1;32m----> 1\u001b[1;33m \u001b[0mbidaf_trainer\u001b[0m\u001b[1;33m.\u001b[0m\u001b[0mtrain\u001b[0m\u001b[1;33m(\u001b[0m\u001b[1;33m)\u001b[0m\u001b[1;33m\u001b[0m\u001b[1;33m\u001b[0m\u001b[0m\n\u001b[0m",
      "\u001b[1;32mC:\\Tools\\Anaconda3\\envs\\squad\\lib\\site-packages\\transformers\\trainer.py\u001b[0m in \u001b[0;36mtrain\u001b[1;34m(self, model_path, trial)\u001b[0m\n\u001b[0;32m    927\u001b[0m                     \u001b[0mself\u001b[0m\u001b[1;33m.\u001b[0m\u001b[0mcontrol\u001b[0m \u001b[1;33m=\u001b[0m \u001b[0mself\u001b[0m\u001b[1;33m.\u001b[0m\u001b[0mcallback_handler\u001b[0m\u001b[1;33m.\u001b[0m\u001b[0mon_step_end\u001b[0m\u001b[1;33m(\u001b[0m\u001b[0mself\u001b[0m\u001b[1;33m.\u001b[0m\u001b[0margs\u001b[0m\u001b[1;33m,\u001b[0m \u001b[0mself\u001b[0m\u001b[1;33m.\u001b[0m\u001b[0mstate\u001b[0m\u001b[1;33m,\u001b[0m \u001b[0mself\u001b[0m\u001b[1;33m.\u001b[0m\u001b[0mcontrol\u001b[0m\u001b[1;33m)\u001b[0m\u001b[1;33m\u001b[0m\u001b[1;33m\u001b[0m\u001b[0m\n\u001b[0;32m    928\u001b[0m \u001b[1;33m\u001b[0m\u001b[0m\n\u001b[1;32m--> 929\u001b[1;33m                     \u001b[0mself\u001b[0m\u001b[1;33m.\u001b[0m\u001b[0m_maybe_log_save_evaluate\u001b[0m\u001b[1;33m(\u001b[0m\u001b[0mtr_loss\u001b[0m\u001b[1;33m,\u001b[0m \u001b[0mmodel\u001b[0m\u001b[1;33m,\u001b[0m \u001b[0mtrial\u001b[0m\u001b[1;33m,\u001b[0m \u001b[0mepoch\u001b[0m\u001b[1;33m)\u001b[0m\u001b[1;33m\u001b[0m\u001b[1;33m\u001b[0m\u001b[0m\n\u001b[0m\u001b[0;32m    930\u001b[0m \u001b[1;33m\u001b[0m\u001b[0m\n\u001b[0;32m    931\u001b[0m                 \u001b[1;32mif\u001b[0m \u001b[0mself\u001b[0m\u001b[1;33m.\u001b[0m\u001b[0mcontrol\u001b[0m\u001b[1;33m.\u001b[0m\u001b[0mshould_epoch_stop\u001b[0m \u001b[1;32mor\u001b[0m \u001b[0mself\u001b[0m\u001b[1;33m.\u001b[0m\u001b[0mcontrol\u001b[0m\u001b[1;33m.\u001b[0m\u001b[0mshould_training_stop\u001b[0m\u001b[1;33m:\u001b[0m\u001b[1;33m\u001b[0m\u001b[1;33m\u001b[0m\u001b[0m\n",
      "\u001b[1;32mC:\\Tools\\Anaconda3\\envs\\squad\\lib\\site-packages\\transformers\\trainer.py\u001b[0m in \u001b[0;36m_maybe_log_save_evaluate\u001b[1;34m(self, tr_loss, model, trial, epoch)\u001b[0m\n\u001b[0;32m    998\u001b[0m             \u001b[0mself\u001b[0m\u001b[1;33m.\u001b[0m\u001b[0m_globalstep_last_logged\u001b[0m \u001b[1;33m=\u001b[0m \u001b[0mself\u001b[0m\u001b[1;33m.\u001b[0m\u001b[0mstate\u001b[0m\u001b[1;33m.\u001b[0m\u001b[0mglobal_step\u001b[0m\u001b[1;33m\u001b[0m\u001b[1;33m\u001b[0m\u001b[0m\n\u001b[0;32m    999\u001b[0m \u001b[1;33m\u001b[0m\u001b[0m\n\u001b[1;32m-> 1000\u001b[1;33m             \u001b[0mself\u001b[0m\u001b[1;33m.\u001b[0m\u001b[0mlog\u001b[0m\u001b[1;33m(\u001b[0m\u001b[0mlogs\u001b[0m\u001b[1;33m)\u001b[0m\u001b[1;33m\u001b[0m\u001b[1;33m\u001b[0m\u001b[0m\n\u001b[0m\u001b[0;32m   1001\u001b[0m \u001b[1;33m\u001b[0m\u001b[0m\n\u001b[0;32m   1002\u001b[0m         \u001b[0mmetrics\u001b[0m \u001b[1;33m=\u001b[0m \u001b[1;32mNone\u001b[0m\u001b[1;33m\u001b[0m\u001b[1;33m\u001b[0m\u001b[0m\n",
      "\u001b[1;32mC:\\Tools\\Anaconda3\\envs\\squad\\lib\\site-packages\\transformers\\trainer.py\u001b[0m in \u001b[0;36mlog\u001b[1;34m(self, logs)\u001b[0m\n\u001b[0;32m   1204\u001b[0m             \u001b[0mlogs\u001b[0m\u001b[1;33m[\u001b[0m\u001b[1;34m\"epoch\"\u001b[0m\u001b[1;33m]\u001b[0m \u001b[1;33m=\u001b[0m \u001b[0mround\u001b[0m\u001b[1;33m(\u001b[0m\u001b[0mself\u001b[0m\u001b[1;33m.\u001b[0m\u001b[0mstate\u001b[0m\u001b[1;33m.\u001b[0m\u001b[0mepoch\u001b[0m\u001b[1;33m,\u001b[0m \u001b[1;36m2\u001b[0m\u001b[1;33m)\u001b[0m\u001b[1;33m\u001b[0m\u001b[1;33m\u001b[0m\u001b[0m\n\u001b[0;32m   1205\u001b[0m \u001b[1;33m\u001b[0m\u001b[0m\n\u001b[1;32m-> 1206\u001b[1;33m         \u001b[0mself\u001b[0m\u001b[1;33m.\u001b[0m\u001b[0mcontrol\u001b[0m \u001b[1;33m=\u001b[0m \u001b[0mself\u001b[0m\u001b[1;33m.\u001b[0m\u001b[0mcallback_handler\u001b[0m\u001b[1;33m.\u001b[0m\u001b[0mon_log\u001b[0m\u001b[1;33m(\u001b[0m\u001b[0mself\u001b[0m\u001b[1;33m.\u001b[0m\u001b[0margs\u001b[0m\u001b[1;33m,\u001b[0m \u001b[0mself\u001b[0m\u001b[1;33m.\u001b[0m\u001b[0mstate\u001b[0m\u001b[1;33m,\u001b[0m \u001b[0mself\u001b[0m\u001b[1;33m.\u001b[0m\u001b[0mcontrol\u001b[0m\u001b[1;33m,\u001b[0m \u001b[0mlogs\u001b[0m\u001b[1;33m)\u001b[0m\u001b[1;33m\u001b[0m\u001b[1;33m\u001b[0m\u001b[0m\n\u001b[0m\u001b[0;32m   1207\u001b[0m         \u001b[0moutput\u001b[0m \u001b[1;33m=\u001b[0m \u001b[1;33m{\u001b[0m\u001b[1;33m**\u001b[0m\u001b[0mlogs\u001b[0m\u001b[1;33m,\u001b[0m \u001b[1;33m**\u001b[0m\u001b[1;33m{\u001b[0m\u001b[1;34m\"step\"\u001b[0m\u001b[1;33m:\u001b[0m \u001b[0mself\u001b[0m\u001b[1;33m.\u001b[0m\u001b[0mstate\u001b[0m\u001b[1;33m.\u001b[0m\u001b[0mglobal_step\u001b[0m\u001b[1;33m}\u001b[0m\u001b[1;33m}\u001b[0m\u001b[1;33m\u001b[0m\u001b[1;33m\u001b[0m\u001b[0m\n\u001b[0;32m   1208\u001b[0m         \u001b[0mself\u001b[0m\u001b[1;33m.\u001b[0m\u001b[0mstate\u001b[0m\u001b[1;33m.\u001b[0m\u001b[0mlog_history\u001b[0m\u001b[1;33m.\u001b[0m\u001b[0mappend\u001b[0m\u001b[1;33m(\u001b[0m\u001b[0moutput\u001b[0m\u001b[1;33m)\u001b[0m\u001b[1;33m\u001b[0m\u001b[1;33m\u001b[0m\u001b[0m\n",
      "\u001b[1;32mC:\\Tools\\Anaconda3\\envs\\squad\\lib\\site-packages\\transformers\\trainer_callback.py\u001b[0m in \u001b[0;36mon_log\u001b[1;34m(self, args, state, control, logs)\u001b[0m\n\u001b[0;32m    368\u001b[0m     \u001b[1;32mdef\u001b[0m \u001b[0mon_log\u001b[0m\u001b[1;33m(\u001b[0m\u001b[0mself\u001b[0m\u001b[1;33m,\u001b[0m \u001b[0margs\u001b[0m\u001b[1;33m:\u001b[0m \u001b[0mTrainingArguments\u001b[0m\u001b[1;33m,\u001b[0m \u001b[0mstate\u001b[0m\u001b[1;33m:\u001b[0m \u001b[0mTrainerState\u001b[0m\u001b[1;33m,\u001b[0m \u001b[0mcontrol\u001b[0m\u001b[1;33m:\u001b[0m \u001b[0mTrainerControl\u001b[0m\u001b[1;33m,\u001b[0m \u001b[0mlogs\u001b[0m\u001b[1;33m)\u001b[0m\u001b[1;33m:\u001b[0m\u001b[1;33m\u001b[0m\u001b[1;33m\u001b[0m\u001b[0m\n\u001b[0;32m    369\u001b[0m         \u001b[0mcontrol\u001b[0m\u001b[1;33m.\u001b[0m\u001b[0mshould_log\u001b[0m \u001b[1;33m=\u001b[0m \u001b[1;32mFalse\u001b[0m\u001b[1;33m\u001b[0m\u001b[1;33m\u001b[0m\u001b[0m\n\u001b[1;32m--> 370\u001b[1;33m         \u001b[1;32mreturn\u001b[0m \u001b[0mself\u001b[0m\u001b[1;33m.\u001b[0m\u001b[0mcall_event\u001b[0m\u001b[1;33m(\u001b[0m\u001b[1;34m\"on_log\"\u001b[0m\u001b[1;33m,\u001b[0m \u001b[0margs\u001b[0m\u001b[1;33m,\u001b[0m \u001b[0mstate\u001b[0m\u001b[1;33m,\u001b[0m \u001b[0mcontrol\u001b[0m\u001b[1;33m,\u001b[0m \u001b[0mlogs\u001b[0m\u001b[1;33m=\u001b[0m\u001b[0mlogs\u001b[0m\u001b[1;33m)\u001b[0m\u001b[1;33m\u001b[0m\u001b[1;33m\u001b[0m\u001b[0m\n\u001b[0m\u001b[0;32m    371\u001b[0m \u001b[1;33m\u001b[0m\u001b[0m\n\u001b[0;32m    372\u001b[0m     \u001b[1;32mdef\u001b[0m \u001b[0mon_prediction_step\u001b[0m\u001b[1;33m(\u001b[0m\u001b[0mself\u001b[0m\u001b[1;33m,\u001b[0m \u001b[0margs\u001b[0m\u001b[1;33m:\u001b[0m \u001b[0mTrainingArguments\u001b[0m\u001b[1;33m,\u001b[0m \u001b[0mstate\u001b[0m\u001b[1;33m:\u001b[0m \u001b[0mTrainerState\u001b[0m\u001b[1;33m,\u001b[0m \u001b[0mcontrol\u001b[0m\u001b[1;33m:\u001b[0m \u001b[0mTrainerControl\u001b[0m\u001b[1;33m)\u001b[0m\u001b[1;33m:\u001b[0m\u001b[1;33m\u001b[0m\u001b[1;33m\u001b[0m\u001b[0m\n",
      "\u001b[1;32mC:\\Tools\\Anaconda3\\envs\\squad\\lib\\site-packages\\transformers\\trainer_callback.py\u001b[0m in \u001b[0;36mcall_event\u001b[1;34m(self, event, args, state, control, **kwargs)\u001b[0m\n\u001b[0;32m    375\u001b[0m     \u001b[1;32mdef\u001b[0m \u001b[0mcall_event\u001b[0m\u001b[1;33m(\u001b[0m\u001b[0mself\u001b[0m\u001b[1;33m,\u001b[0m \u001b[0mevent\u001b[0m\u001b[1;33m,\u001b[0m \u001b[0margs\u001b[0m\u001b[1;33m,\u001b[0m \u001b[0mstate\u001b[0m\u001b[1;33m,\u001b[0m \u001b[0mcontrol\u001b[0m\u001b[1;33m,\u001b[0m \u001b[1;33m**\u001b[0m\u001b[0mkwargs\u001b[0m\u001b[1;33m)\u001b[0m\u001b[1;33m:\u001b[0m\u001b[1;33m\u001b[0m\u001b[1;33m\u001b[0m\u001b[0m\n\u001b[0;32m    376\u001b[0m         \u001b[1;32mfor\u001b[0m \u001b[0mcallback\u001b[0m \u001b[1;32min\u001b[0m \u001b[0mself\u001b[0m\u001b[1;33m.\u001b[0m\u001b[0mcallbacks\u001b[0m\u001b[1;33m:\u001b[0m\u001b[1;33m\u001b[0m\u001b[1;33m\u001b[0m\u001b[0m\n\u001b[1;32m--> 377\u001b[1;33m             result = getattr(callback, event)(\n\u001b[0m\u001b[0;32m    378\u001b[0m                 \u001b[0margs\u001b[0m\u001b[1;33m,\u001b[0m\u001b[1;33m\u001b[0m\u001b[1;33m\u001b[0m\u001b[0m\n\u001b[0;32m    379\u001b[0m                 \u001b[0mstate\u001b[0m\u001b[1;33m,\u001b[0m\u001b[1;33m\u001b[0m\u001b[1;33m\u001b[0m\u001b[0m\n",
      "\u001b[1;32mC:\\Tools\\Anaconda3\\envs\\squad\\lib\\site-packages\\transformers\\trainer_callback.py\u001b[0m in \u001b[0;36mon_log\u001b[1;34m(self, args, state, control, logs, **kwargs)\u001b[0m\n\u001b[0;32m    464\u001b[0m         \u001b[1;32mif\u001b[0m \u001b[0mstate\u001b[0m\u001b[1;33m.\u001b[0m\u001b[0mis_local_process_zero\u001b[0m \u001b[1;32mand\u001b[0m \u001b[0mself\u001b[0m\u001b[1;33m.\u001b[0m\u001b[0mtraining_bar\u001b[0m \u001b[1;32mis\u001b[0m \u001b[1;32mnot\u001b[0m \u001b[1;32mNone\u001b[0m\u001b[1;33m:\u001b[0m\u001b[1;33m\u001b[0m\u001b[1;33m\u001b[0m\u001b[0m\n\u001b[0;32m    465\u001b[0m             \u001b[0m_\u001b[0m \u001b[1;33m=\u001b[0m \u001b[0mlogs\u001b[0m\u001b[1;33m.\u001b[0m\u001b[0mpop\u001b[0m\u001b[1;33m(\u001b[0m\u001b[1;34m\"total_flos\"\u001b[0m\u001b[1;33m,\u001b[0m \u001b[1;32mNone\u001b[0m\u001b[1;33m)\u001b[0m\u001b[1;33m\u001b[0m\u001b[1;33m\u001b[0m\u001b[0m\n\u001b[1;32m--> 466\u001b[1;33m             \u001b[0mself\u001b[0m\u001b[1;33m.\u001b[0m\u001b[0mtraining_bar\u001b[0m\u001b[1;33m.\u001b[0m\u001b[0mwrite\u001b[0m\u001b[1;33m(\u001b[0m\u001b[0mstr\u001b[0m\u001b[1;33m(\u001b[0m\u001b[0mlogs\u001b[0m\u001b[1;33m)\u001b[0m\u001b[1;33m)\u001b[0m\u001b[1;33m\u001b[0m\u001b[1;33m\u001b[0m\u001b[0m\n\u001b[0m\u001b[0;32m    467\u001b[0m \u001b[1;33m\u001b[0m\u001b[0m\n\u001b[0;32m    468\u001b[0m     \u001b[1;32mdef\u001b[0m \u001b[0mon_train_end\u001b[0m\u001b[1;33m(\u001b[0m\u001b[0mself\u001b[0m\u001b[1;33m,\u001b[0m \u001b[0margs\u001b[0m\u001b[1;33m,\u001b[0m \u001b[0mstate\u001b[0m\u001b[1;33m,\u001b[0m \u001b[0mcontrol\u001b[0m\u001b[1;33m,\u001b[0m \u001b[1;33m**\u001b[0m\u001b[0mkwargs\u001b[0m\u001b[1;33m)\u001b[0m\u001b[1;33m:\u001b[0m\u001b[1;33m\u001b[0m\u001b[1;33m\u001b[0m\u001b[0m\n",
      "\u001b[1;32mC:\\Tools\\Anaconda3\\envs\\squad\\lib\\site-packages\\tqdm\\std.py\u001b[0m in \u001b[0;36mwrite\u001b[1;34m(cls, s, file, end, nolock)\u001b[0m\n\u001b[0;32m    615\u001b[0m         \u001b[1;34m\"\"\"Print a message via tqdm (without overlap with bars).\"\"\"\u001b[0m\u001b[1;33m\u001b[0m\u001b[1;33m\u001b[0m\u001b[0m\n\u001b[0;32m    616\u001b[0m         \u001b[0mfp\u001b[0m \u001b[1;33m=\u001b[0m \u001b[0mfile\u001b[0m \u001b[1;32mif\u001b[0m \u001b[0mfile\u001b[0m \u001b[1;32mis\u001b[0m \u001b[1;32mnot\u001b[0m \u001b[1;32mNone\u001b[0m \u001b[1;32melse\u001b[0m \u001b[0msys\u001b[0m\u001b[1;33m.\u001b[0m\u001b[0mstdout\u001b[0m\u001b[1;33m\u001b[0m\u001b[1;33m\u001b[0m\u001b[0m\n\u001b[1;32m--> 617\u001b[1;33m         \u001b[1;32mwith\u001b[0m \u001b[0mcls\u001b[0m\u001b[1;33m.\u001b[0m\u001b[0mexternal_write_mode\u001b[0m\u001b[1;33m(\u001b[0m\u001b[0mfile\u001b[0m\u001b[1;33m=\u001b[0m\u001b[0mfile\u001b[0m\u001b[1;33m,\u001b[0m \u001b[0mnolock\u001b[0m\u001b[1;33m=\u001b[0m\u001b[0mnolock\u001b[0m\u001b[1;33m)\u001b[0m\u001b[1;33m:\u001b[0m\u001b[1;33m\u001b[0m\u001b[1;33m\u001b[0m\u001b[0m\n\u001b[0m\u001b[0;32m    618\u001b[0m             \u001b[1;31m# Write the message\u001b[0m\u001b[1;33m\u001b[0m\u001b[1;33m\u001b[0m\u001b[1;33m\u001b[0m\u001b[0m\n\u001b[0;32m    619\u001b[0m             \u001b[0mfp\u001b[0m\u001b[1;33m.\u001b[0m\u001b[0mwrite\u001b[0m\u001b[1;33m(\u001b[0m\u001b[0ms\u001b[0m\u001b[1;33m)\u001b[0m\u001b[1;33m\u001b[0m\u001b[1;33m\u001b[0m\u001b[0m\n",
      "\u001b[1;32mC:\\Tools\\Anaconda3\\envs\\squad\\lib\\contextlib.py\u001b[0m in \u001b[0;36m__enter__\u001b[1;34m(self)\u001b[0m\n\u001b[0;32m    111\u001b[0m         \u001b[1;32mdel\u001b[0m \u001b[0mself\u001b[0m\u001b[1;33m.\u001b[0m\u001b[0margs\u001b[0m\u001b[1;33m,\u001b[0m \u001b[0mself\u001b[0m\u001b[1;33m.\u001b[0m\u001b[0mkwds\u001b[0m\u001b[1;33m,\u001b[0m \u001b[0mself\u001b[0m\u001b[1;33m.\u001b[0m\u001b[0mfunc\u001b[0m\u001b[1;33m\u001b[0m\u001b[1;33m\u001b[0m\u001b[0m\n\u001b[0;32m    112\u001b[0m         \u001b[1;32mtry\u001b[0m\u001b[1;33m:\u001b[0m\u001b[1;33m\u001b[0m\u001b[1;33m\u001b[0m\u001b[0m\n\u001b[1;32m--> 113\u001b[1;33m             \u001b[1;32mreturn\u001b[0m \u001b[0mnext\u001b[0m\u001b[1;33m(\u001b[0m\u001b[0mself\u001b[0m\u001b[1;33m.\u001b[0m\u001b[0mgen\u001b[0m\u001b[1;33m)\u001b[0m\u001b[1;33m\u001b[0m\u001b[1;33m\u001b[0m\u001b[0m\n\u001b[0m\u001b[0;32m    114\u001b[0m         \u001b[1;32mexcept\u001b[0m \u001b[0mStopIteration\u001b[0m\u001b[1;33m:\u001b[0m\u001b[1;33m\u001b[0m\u001b[1;33m\u001b[0m\u001b[0m\n\u001b[0;32m    115\u001b[0m             \u001b[1;32mraise\u001b[0m \u001b[0mRuntimeError\u001b[0m\u001b[1;33m(\u001b[0m\u001b[1;34m\"generator didn't yield\"\u001b[0m\u001b[1;33m)\u001b[0m \u001b[1;32mfrom\u001b[0m \u001b[1;32mNone\u001b[0m\u001b[1;33m\u001b[0m\u001b[1;33m\u001b[0m\u001b[0m\n",
      "\u001b[1;32mC:\\Tools\\Anaconda3\\envs\\squad\\lib\\site-packages\\tqdm\\std.py\u001b[0m in \u001b[0;36mexternal_write_mode\u001b[1;34m(cls, file, nolock)\u001b[0m\n\u001b[0;32m    640\u001b[0m                 if hasattr(inst, \"start_t\") and (inst.fp == fp or all(\n\u001b[0;32m    641\u001b[0m                         f in (sys.stdout, sys.stderr) for f in (fp, inst.fp))):\n\u001b[1;32m--> 642\u001b[1;33m                     \u001b[0minst\u001b[0m\u001b[1;33m.\u001b[0m\u001b[0mclear\u001b[0m\u001b[1;33m(\u001b[0m\u001b[0mnolock\u001b[0m\u001b[1;33m=\u001b[0m\u001b[1;32mTrue\u001b[0m\u001b[1;33m)\u001b[0m\u001b[1;33m\u001b[0m\u001b[1;33m\u001b[0m\u001b[0m\n\u001b[0m\u001b[0;32m    643\u001b[0m                     \u001b[0minst_cleared\u001b[0m\u001b[1;33m.\u001b[0m\u001b[0mappend\u001b[0m\u001b[1;33m(\u001b[0m\u001b[0minst\u001b[0m\u001b[1;33m)\u001b[0m\u001b[1;33m\u001b[0m\u001b[1;33m\u001b[0m\u001b[0m\n\u001b[0;32m    644\u001b[0m             \u001b[1;32myield\u001b[0m\u001b[1;33m\u001b[0m\u001b[1;33m\u001b[0m\u001b[0m\n",
      "\u001b[1;32mC:\\Tools\\Anaconda3\\envs\\squad\\lib\\site-packages\\tqdm\\std.py\u001b[0m in \u001b[0;36mclear\u001b[1;34m(self, nolock)\u001b[0m\n\u001b[0;32m   1295\u001b[0m         \u001b[0mpos\u001b[0m \u001b[1;33m=\u001b[0m \u001b[0mabs\u001b[0m\u001b[1;33m(\u001b[0m\u001b[0mself\u001b[0m\u001b[1;33m.\u001b[0m\u001b[0mpos\u001b[0m\u001b[1;33m)\u001b[0m\u001b[1;33m\u001b[0m\u001b[1;33m\u001b[0m\u001b[0m\n\u001b[0;32m   1296\u001b[0m         \u001b[1;32mif\u001b[0m \u001b[0mpos\u001b[0m \u001b[1;33m<\u001b[0m \u001b[1;33m(\u001b[0m\u001b[0mself\u001b[0m\u001b[1;33m.\u001b[0m\u001b[0mnrows\u001b[0m \u001b[1;32mor\u001b[0m \u001b[1;36m20\u001b[0m\u001b[1;33m)\u001b[0m\u001b[1;33m:\u001b[0m\u001b[1;33m\u001b[0m\u001b[1;33m\u001b[0m\u001b[0m\n\u001b[1;32m-> 1297\u001b[1;33m             \u001b[0mself\u001b[0m\u001b[1;33m.\u001b[0m\u001b[0mmoveto\u001b[0m\u001b[1;33m(\u001b[0m\u001b[0mpos\u001b[0m\u001b[1;33m)\u001b[0m\u001b[1;33m\u001b[0m\u001b[1;33m\u001b[0m\u001b[0m\n\u001b[0m\u001b[0;32m   1298\u001b[0m             \u001b[0mself\u001b[0m\u001b[1;33m.\u001b[0m\u001b[0msp\u001b[0m\u001b[1;33m(\u001b[0m\u001b[1;34m''\u001b[0m\u001b[1;33m)\u001b[0m\u001b[1;33m\u001b[0m\u001b[1;33m\u001b[0m\u001b[0m\n\u001b[0;32m   1299\u001b[0m             \u001b[0mself\u001b[0m\u001b[1;33m.\u001b[0m\u001b[0mfp\u001b[0m\u001b[1;33m.\u001b[0m\u001b[0mwrite\u001b[0m\u001b[1;33m(\u001b[0m\u001b[1;34m'\\r'\u001b[0m\u001b[1;33m)\u001b[0m  \u001b[1;31m# place cursor back at the beginning of line\u001b[0m\u001b[1;33m\u001b[0m\u001b[1;33m\u001b[0m\u001b[0m\n",
      "\u001b[1;32mC:\\Tools\\Anaconda3\\envs\\squad\\lib\\site-packages\\tqdm\\std.py\u001b[0m in \u001b[0;36mmoveto\u001b[1;34m(self, n)\u001b[0m\n\u001b[0;32m   1415\u001b[0m     \u001b[1;32mdef\u001b[0m \u001b[0mmoveto\u001b[0m\u001b[1;33m(\u001b[0m\u001b[0mself\u001b[0m\u001b[1;33m,\u001b[0m \u001b[0mn\u001b[0m\u001b[1;33m)\u001b[0m\u001b[1;33m:\u001b[0m\u001b[1;33m\u001b[0m\u001b[1;33m\u001b[0m\u001b[0m\n\u001b[0;32m   1416\u001b[0m         \u001b[1;31m# TODO: private method\u001b[0m\u001b[1;33m\u001b[0m\u001b[1;33m\u001b[0m\u001b[1;33m\u001b[0m\u001b[0m\n\u001b[1;32m-> 1417\u001b[1;33m         \u001b[0mself\u001b[0m\u001b[1;33m.\u001b[0m\u001b[0mfp\u001b[0m\u001b[1;33m.\u001b[0m\u001b[0mwrite\u001b[0m\u001b[1;33m(\u001b[0m\u001b[0m_unicode\u001b[0m\u001b[1;33m(\u001b[0m\u001b[1;34m'\\n'\u001b[0m \u001b[1;33m*\u001b[0m \u001b[0mn\u001b[0m \u001b[1;33m+\u001b[0m \u001b[0m_term_move_up\u001b[0m\u001b[1;33m(\u001b[0m\u001b[1;33m)\u001b[0m \u001b[1;33m*\u001b[0m \u001b[1;33m-\u001b[0m\u001b[0mn\u001b[0m\u001b[1;33m)\u001b[0m\u001b[1;33m)\u001b[0m\u001b[1;33m\u001b[0m\u001b[1;33m\u001b[0m\u001b[0m\n\u001b[0m\u001b[0;32m   1418\u001b[0m         \u001b[0mself\u001b[0m\u001b[1;33m.\u001b[0m\u001b[0mfp\u001b[0m\u001b[1;33m.\u001b[0m\u001b[0mflush\u001b[0m\u001b[1;33m(\u001b[0m\u001b[1;33m)\u001b[0m\u001b[1;33m\u001b[0m\u001b[1;33m\u001b[0m\u001b[0m\n\u001b[0;32m   1419\u001b[0m \u001b[1;33m\u001b[0m\u001b[0m\n",
      "\u001b[1;32mC:\\Tools\\Anaconda3\\envs\\squad\\lib\\site-packages\\tqdm\\utils.py\u001b[0m in \u001b[0;36minner\u001b[1;34m(*args, **kwargs)\u001b[0m\n\u001b[0;32m    141\u001b[0m         \u001b[1;32mdef\u001b[0m \u001b[0minner\u001b[0m\u001b[1;33m(\u001b[0m\u001b[1;33m*\u001b[0m\u001b[0margs\u001b[0m\u001b[1;33m,\u001b[0m \u001b[1;33m**\u001b[0m\u001b[0mkwargs\u001b[0m\u001b[1;33m)\u001b[0m\u001b[1;33m:\u001b[0m\u001b[1;33m\u001b[0m\u001b[1;33m\u001b[0m\u001b[0m\n\u001b[0;32m    142\u001b[0m             \u001b[1;32mtry\u001b[0m\u001b[1;33m:\u001b[0m\u001b[1;33m\u001b[0m\u001b[1;33m\u001b[0m\u001b[0m\n\u001b[1;32m--> 143\u001b[1;33m                 \u001b[1;32mreturn\u001b[0m \u001b[0mfunc\u001b[0m\u001b[1;33m(\u001b[0m\u001b[1;33m*\u001b[0m\u001b[0margs\u001b[0m\u001b[1;33m,\u001b[0m \u001b[1;33m**\u001b[0m\u001b[0mkwargs\u001b[0m\u001b[1;33m)\u001b[0m\u001b[1;33m\u001b[0m\u001b[1;33m\u001b[0m\u001b[0m\n\u001b[0m\u001b[0;32m    144\u001b[0m             \u001b[1;32mexcept\u001b[0m \u001b[0mOSError\u001b[0m \u001b[1;32mas\u001b[0m \u001b[0me\u001b[0m\u001b[1;33m:\u001b[0m\u001b[1;33m\u001b[0m\u001b[1;33m\u001b[0m\u001b[0m\n\u001b[0;32m    145\u001b[0m                 \u001b[1;32mif\u001b[0m \u001b[0me\u001b[0m\u001b[1;33m.\u001b[0m\u001b[0merrno\u001b[0m \u001b[1;33m!=\u001b[0m \u001b[1;36m5\u001b[0m\u001b[1;33m:\u001b[0m\u001b[1;33m\u001b[0m\u001b[1;33m\u001b[0m\u001b[0m\n",
      "\u001b[1;32mC:\\Tools\\Anaconda3\\envs\\squad\\lib\\site-packages\\wandb\\sdk\\lib\\redirect.py\u001b[0m in \u001b[0;36mnew_write\u001b[1;34m(data)\u001b[0m\n\u001b[0;32m     90\u001b[0m \u001b[1;33m\u001b[0m\u001b[0m\n\u001b[0;32m     91\u001b[0m             \u001b[1;32mdef\u001b[0m \u001b[0mnew_write\u001b[0m\u001b[1;33m(\u001b[0m\u001b[0mdata\u001b[0m\u001b[1;33m)\u001b[0m\u001b[1;33m:\u001b[0m\u001b[1;33m\u001b[0m\u001b[1;33m\u001b[0m\u001b[0m\n\u001b[1;32m---> 92\u001b[1;33m                 \u001b[0mcb\u001b[0m\u001b[1;33m(\u001b[0m\u001b[0mname\u001b[0m\u001b[1;33m,\u001b[0m \u001b[0mdata\u001b[0m\u001b[1;33m)\u001b[0m\u001b[1;33m\u001b[0m\u001b[1;33m\u001b[0m\u001b[0m\n\u001b[0m\u001b[0;32m     93\u001b[0m                 \u001b[0mold_write\u001b[0m\u001b[1;33m(\u001b[0m\u001b[0mdata\u001b[0m\u001b[1;33m)\u001b[0m\u001b[1;33m\u001b[0m\u001b[1;33m\u001b[0m\u001b[0m\n\u001b[0;32m     94\u001b[0m                 \u001b[1;32mtry\u001b[0m\u001b[1;33m:\u001b[0m\u001b[1;33m\u001b[0m\u001b[1;33m\u001b[0m\u001b[0m\n",
      "\u001b[1;32mC:\\Tools\\Anaconda3\\envs\\squad\\lib\\site-packages\\wandb\\sdk\\wandb_run.py\u001b[0m in \u001b[0;36m_console_callback\u001b[1;34m(self, name, data)\u001b[0m\n\u001b[0;32m    662\u001b[0m     \u001b[1;32mdef\u001b[0m \u001b[0m_console_callback\u001b[0m\u001b[1;33m(\u001b[0m\u001b[0mself\u001b[0m\u001b[1;33m,\u001b[0m \u001b[0mname\u001b[0m\u001b[1;33m,\u001b[0m \u001b[0mdata\u001b[0m\u001b[1;33m)\u001b[0m\u001b[1;33m:\u001b[0m\u001b[1;33m\u001b[0m\u001b[1;33m\u001b[0m\u001b[0m\n\u001b[0;32m    663\u001b[0m         \u001b[1;31m# logger.info(\"console callback: %s, %s\", name, data)\u001b[0m\u001b[1;33m\u001b[0m\u001b[1;33m\u001b[0m\u001b[1;33m\u001b[0m\u001b[0m\n\u001b[1;32m--> 664\u001b[1;33m         \u001b[0mself\u001b[0m\u001b[1;33m.\u001b[0m\u001b[0m_backend\u001b[0m\u001b[1;33m.\u001b[0m\u001b[0minterface\u001b[0m\u001b[1;33m.\u001b[0m\u001b[0mpublish_output\u001b[0m\u001b[1;33m(\u001b[0m\u001b[0mname\u001b[0m\u001b[1;33m,\u001b[0m \u001b[0mdata\u001b[0m\u001b[1;33m)\u001b[0m\u001b[1;33m\u001b[0m\u001b[1;33m\u001b[0m\u001b[0m\n\u001b[0m\u001b[0;32m    665\u001b[0m \u001b[1;33m\u001b[0m\u001b[0m\n\u001b[0;32m    666\u001b[0m     \u001b[1;32mdef\u001b[0m \u001b[0m_tensorboard_callback\u001b[0m\u001b[1;33m(\u001b[0m\u001b[0mself\u001b[0m\u001b[1;33m,\u001b[0m \u001b[0mlogdir\u001b[0m\u001b[1;33m,\u001b[0m \u001b[0msave\u001b[0m\u001b[1;33m=\u001b[0m\u001b[1;32mNone\u001b[0m\u001b[1;33m,\u001b[0m \u001b[0mroot_logdir\u001b[0m\u001b[1;33m=\u001b[0m\u001b[1;32mNone\u001b[0m\u001b[1;33m)\u001b[0m\u001b[1;33m:\u001b[0m\u001b[1;33m\u001b[0m\u001b[1;33m\u001b[0m\u001b[0m\n",
      "\u001b[1;32mC:\\Tools\\Anaconda3\\envs\\squad\\lib\\site-packages\\wandb\\sdk\\interface\\interface.py\u001b[0m in \u001b[0;36mpublish_output\u001b[1;34m(self, name, data)\u001b[0m\n\u001b[0;32m    149\u001b[0m         \u001b[0mo\u001b[0m \u001b[1;33m=\u001b[0m \u001b[0mwandb_internal_pb2\u001b[0m\u001b[1;33m.\u001b[0m\u001b[0mOutputRecord\u001b[0m\u001b[1;33m(\u001b[0m\u001b[0moutput_type\u001b[0m\u001b[1;33m=\u001b[0m\u001b[0motype\u001b[0m\u001b[1;33m,\u001b[0m \u001b[0mline\u001b[0m\u001b[1;33m=\u001b[0m\u001b[0mdata\u001b[0m\u001b[1;33m)\u001b[0m\u001b[1;33m\u001b[0m\u001b[1;33m\u001b[0m\u001b[0m\n\u001b[0;32m    150\u001b[0m         \u001b[0mo\u001b[0m\u001b[1;33m.\u001b[0m\u001b[0mtimestamp\u001b[0m\u001b[1;33m.\u001b[0m\u001b[0mGetCurrentTime\u001b[0m\u001b[1;33m(\u001b[0m\u001b[1;33m)\u001b[0m\u001b[1;33m\u001b[0m\u001b[1;33m\u001b[0m\u001b[0m\n\u001b[1;32m--> 151\u001b[1;33m         \u001b[0mself\u001b[0m\u001b[1;33m.\u001b[0m\u001b[0m_publish_output\u001b[0m\u001b[1;33m(\u001b[0m\u001b[0mo\u001b[0m\u001b[1;33m)\u001b[0m\u001b[1;33m\u001b[0m\u001b[1;33m\u001b[0m\u001b[0m\n\u001b[0m\u001b[0;32m    152\u001b[0m \u001b[1;33m\u001b[0m\u001b[0m\n\u001b[0;32m    153\u001b[0m     \u001b[1;32mdef\u001b[0m \u001b[0m_publish_output\u001b[0m\u001b[1;33m(\u001b[0m\u001b[0mself\u001b[0m\u001b[1;33m,\u001b[0m \u001b[0moutdata\u001b[0m\u001b[1;33m)\u001b[0m\u001b[1;33m:\u001b[0m\u001b[1;33m\u001b[0m\u001b[1;33m\u001b[0m\u001b[0m\n",
      "\u001b[1;32mC:\\Tools\\Anaconda3\\envs\\squad\\lib\\site-packages\\wandb\\sdk\\interface\\interface.py\u001b[0m in \u001b[0;36m_publish_output\u001b[1;34m(self, outdata)\u001b[0m\n\u001b[0;32m    154\u001b[0m         \u001b[0mrec\u001b[0m \u001b[1;33m=\u001b[0m \u001b[0mwandb_internal_pb2\u001b[0m\u001b[1;33m.\u001b[0m\u001b[0mRecord\u001b[0m\u001b[1;33m(\u001b[0m\u001b[1;33m)\u001b[0m\u001b[1;33m\u001b[0m\u001b[1;33m\u001b[0m\u001b[0m\n\u001b[0;32m    155\u001b[0m         \u001b[0mrec\u001b[0m\u001b[1;33m.\u001b[0m\u001b[0moutput\u001b[0m\u001b[1;33m.\u001b[0m\u001b[0mCopyFrom\u001b[0m\u001b[1;33m(\u001b[0m\u001b[0moutdata\u001b[0m\u001b[1;33m)\u001b[0m\u001b[1;33m\u001b[0m\u001b[1;33m\u001b[0m\u001b[0m\n\u001b[1;32m--> 156\u001b[1;33m         \u001b[0mself\u001b[0m\u001b[1;33m.\u001b[0m\u001b[0m_publish\u001b[0m\u001b[1;33m(\u001b[0m\u001b[0mrec\u001b[0m\u001b[1;33m)\u001b[0m\u001b[1;33m\u001b[0m\u001b[1;33m\u001b[0m\u001b[0m\n\u001b[0m\u001b[0;32m    157\u001b[0m \u001b[1;33m\u001b[0m\u001b[0m\n\u001b[0;32m    158\u001b[0m     \u001b[1;32mdef\u001b[0m \u001b[0mpublish_tbdata\u001b[0m\u001b[1;33m(\u001b[0m\u001b[0mself\u001b[0m\u001b[1;33m,\u001b[0m \u001b[0mlog_dir\u001b[0m\u001b[1;33m,\u001b[0m \u001b[0msave\u001b[0m\u001b[1;33m,\u001b[0m \u001b[0mroot_logdir\u001b[0m\u001b[1;33m)\u001b[0m\u001b[1;33m:\u001b[0m\u001b[1;33m\u001b[0m\u001b[1;33m\u001b[0m\u001b[0m\n",
      "\u001b[1;32mC:\\Tools\\Anaconda3\\envs\\squad\\lib\\site-packages\\wandb\\sdk\\interface\\interface.py\u001b[0m in \u001b[0;36m_publish\u001b[1;34m(self, record, local)\u001b[0m\n\u001b[0;32m    453\u001b[0m     \u001b[1;32mdef\u001b[0m \u001b[0m_publish\u001b[0m\u001b[1;33m(\u001b[0m\u001b[0mself\u001b[0m\u001b[1;33m,\u001b[0m \u001b[0mrecord\u001b[0m\u001b[1;33m,\u001b[0m \u001b[0mlocal\u001b[0m\u001b[1;33m=\u001b[0m\u001b[1;32mNone\u001b[0m\u001b[1;33m)\u001b[0m\u001b[1;33m:\u001b[0m\u001b[1;33m\u001b[0m\u001b[1;33m\u001b[0m\u001b[0m\n\u001b[0;32m    454\u001b[0m         \u001b[1;32mif\u001b[0m \u001b[0mself\u001b[0m\u001b[1;33m.\u001b[0m\u001b[0m_process\u001b[0m \u001b[1;32mand\u001b[0m \u001b[1;32mnot\u001b[0m \u001b[0mself\u001b[0m\u001b[1;33m.\u001b[0m\u001b[0m_process\u001b[0m\u001b[1;33m.\u001b[0m\u001b[0mis_alive\u001b[0m\u001b[1;33m(\u001b[0m\u001b[1;33m)\u001b[0m\u001b[1;33m:\u001b[0m\u001b[1;33m\u001b[0m\u001b[1;33m\u001b[0m\u001b[0m\n\u001b[1;32m--> 455\u001b[1;33m             \u001b[1;32mraise\u001b[0m \u001b[0mException\u001b[0m\u001b[1;33m(\u001b[0m\u001b[1;34m\"The wandb backend process has shutdown\"\u001b[0m\u001b[1;33m)\u001b[0m\u001b[1;33m\u001b[0m\u001b[1;33m\u001b[0m\u001b[0m\n\u001b[0m\u001b[0;32m    456\u001b[0m         \u001b[1;32mif\u001b[0m \u001b[0mlocal\u001b[0m\u001b[1;33m:\u001b[0m\u001b[1;33m\u001b[0m\u001b[1;33m\u001b[0m\u001b[0m\n\u001b[0;32m    457\u001b[0m             \u001b[0mrecord\u001b[0m\u001b[1;33m.\u001b[0m\u001b[0mcontrol\u001b[0m\u001b[1;33m.\u001b[0m\u001b[0mlocal\u001b[0m \u001b[1;33m=\u001b[0m \u001b[0mlocal\u001b[0m\u001b[1;33m\u001b[0m\u001b[1;33m\u001b[0m\u001b[0m\n",
      "\u001b[1;31mException\u001b[0m: The wandb backend process has shutdown"
     ]
    }
   ],
   "source": [
    "bidaf_trainer.train()"
   ]
  },
  {
   "cell_type": "code",
   "execution_count": null,
   "metadata": {
    "execution": {
     "iopub.execute_input": "2021-01-18T14:10:42.017739Z",
     "iopub.status.busy": "2021-01-18T14:10:42.017408Z",
     "iopub.status.idle": "2021-01-18T14:10:48.891827Z",
     "shell.execute_reply": "2021-01-18T14:10:48.890711Z",
     "shell.execute_reply.started": "2021-01-18T14:10:42.017696Z"
    }
   },
   "outputs": [],
   "source": [
    "bidaf_test_output = bidaf_trainer.predict(standard_dm.test_dataset)\n",
    "bidaf_test_output.metrics"
   ]
  },
  {
   "cell_type": "code",
   "execution_count": 45,
   "metadata": {},
   "outputs": [
    {
     "output_type": "error",
     "ename": "Error",
     "evalue": "You must call wandb.init() before wandb.save()",
     "traceback": [
      "\u001b[1;31m---------------------------------------------------------------------------\u001b[0m",
      "\u001b[1;31mError\u001b[0m                                     Traceback (most recent call last)",
      "\u001b[1;32m<ipython-input-45-51685562b84c>\u001b[0m in \u001b[0;36m<module>\u001b[1;34m\u001b[0m\n\u001b[0;32m      1\u001b[0m \u001b[0mbidaf_answers_path\u001b[0m \u001b[1;33m=\u001b[0m \u001b[1;34m\"results/bidaf.json\"\u001b[0m\u001b[1;33m\u001b[0m\u001b[1;33m\u001b[0m\u001b[0m\n\u001b[0;32m      2\u001b[0m \u001b[0mutils\u001b[0m\u001b[1;33m.\u001b[0m\u001b[0msave_answers\u001b[0m\u001b[1;33m(\u001b[0m\u001b[0mbidaf_answers_path\u001b[0m\u001b[1;33m,\u001b[0m \u001b[0mbidaf_test_output\u001b[0m\u001b[1;33m.\u001b[0m\u001b[0mpredictions\u001b[0m\u001b[1;33m[\u001b[0m\u001b[1;33m-\u001b[0m\u001b[1;36m1\u001b[0m\u001b[1;33m]\u001b[0m\u001b[1;33m)\u001b[0m\u001b[1;33m\u001b[0m\u001b[1;33m\u001b[0m\u001b[0m\n\u001b[1;32m----> 3\u001b[1;33m \u001b[0mwandb\u001b[0m\u001b[1;33m.\u001b[0m\u001b[0msave\u001b[0m\u001b[1;33m(\u001b[0m\u001b[0mbidaf_answers_path\u001b[0m\u001b[1;33m)\u001b[0m\u001b[1;33m;\u001b[0m\u001b[1;33m\u001b[0m\u001b[1;33m\u001b[0m\u001b[0m\n\u001b[0m\u001b[0;32m      4\u001b[0m \u001b[0mwandb\u001b[0m\u001b[1;33m.\u001b[0m\u001b[0mfinish\u001b[0m\u001b[1;33m(\u001b[0m\u001b[1;33m)\u001b[0m\u001b[1;33m\u001b[0m\u001b[1;33m\u001b[0m\u001b[0m\n",
      "\u001b[1;32mC:\\Tools\\Anaconda3\\envs\\squad\\lib\\site-packages\\wandb\\sdk\\lib\\preinit.py\u001b[0m in \u001b[0;36mpreinit_wrapper\u001b[1;34m(*args, **kwargs)\u001b[0m\n\u001b[0;32m     36\u001b[0m \u001b[1;32mdef\u001b[0m \u001b[0mPreInitCallable\u001b[0m\u001b[1;33m(\u001b[0m\u001b[0mname\u001b[0m\u001b[1;33m,\u001b[0m \u001b[0mdestination\u001b[0m\u001b[1;33m=\u001b[0m\u001b[1;32mNone\u001b[0m\u001b[1;33m)\u001b[0m\u001b[1;33m:\u001b[0m  \u001b[1;31m# noqa: N802\u001b[0m\u001b[1;33m\u001b[0m\u001b[1;33m\u001b[0m\u001b[0m\n\u001b[0;32m     37\u001b[0m     \u001b[1;32mdef\u001b[0m \u001b[0mpreinit_wrapper\u001b[0m\u001b[1;33m(\u001b[0m\u001b[1;33m*\u001b[0m\u001b[0margs\u001b[0m\u001b[1;33m,\u001b[0m \u001b[1;33m**\u001b[0m\u001b[0mkwargs\u001b[0m\u001b[1;33m)\u001b[0m\u001b[1;33m:\u001b[0m\u001b[1;33m\u001b[0m\u001b[1;33m\u001b[0m\u001b[0m\n\u001b[1;32m---> 38\u001b[1;33m         \u001b[1;32mraise\u001b[0m \u001b[0mwandb\u001b[0m\u001b[1;33m.\u001b[0m\u001b[0mError\u001b[0m\u001b[1;33m(\u001b[0m\u001b[1;34m\"You must call wandb.init() before {}()\"\u001b[0m\u001b[1;33m.\u001b[0m\u001b[0mformat\u001b[0m\u001b[1;33m(\u001b[0m\u001b[0mname\u001b[0m\u001b[1;33m)\u001b[0m\u001b[1;33m)\u001b[0m\u001b[1;33m\u001b[0m\u001b[1;33m\u001b[0m\u001b[0m\n\u001b[0m\u001b[0;32m     39\u001b[0m \u001b[1;33m\u001b[0m\u001b[0m\n\u001b[0;32m     40\u001b[0m     \u001b[0mpreinit_wrapper\u001b[0m\u001b[1;33m.\u001b[0m\u001b[0m__name__\u001b[0m \u001b[1;33m=\u001b[0m \u001b[0mstr\u001b[0m\u001b[1;33m(\u001b[0m\u001b[0mname\u001b[0m\u001b[1;33m)\u001b[0m\u001b[1;33m\u001b[0m\u001b[1;33m\u001b[0m\u001b[0m\n",
      "\u001b[1;31mError\u001b[0m: You must call wandb.init() before wandb.save()"
     ]
    }
   ],
   "source": [
    "bidaf_answers_path = \"results/bidaf.json\"\n",
    "utils.save_answers(bidaf_answers_path, bidaf_test_output.predictions[-1])\n",
    "wandb.save(bidaf_answers_path);\n",
    "wandb.finish()"
   ]
  },
  {
   "cell_type": "markdown",
   "metadata": {},
   "source": [
    "## BERT"
   ]
  },
  {
   "cell_type": "code",
   "execution_count": 87,
   "metadata": {
    "execution": {
     "iopub.execute_input": "2021-01-18T14:24:15.656582Z",
     "iopub.status.busy": "2021-01-18T14:24:15.656108Z",
     "iopub.status.idle": "2021-01-18T14:24:15.763668Z",
     "shell.execute_reply": "2021-01-18T14:24:15.762037Z",
     "shell.execute_reply.started": "2021-01-18T14:24:15.656528Z"
    }
   },
   "outputs": [],
   "source": [
    "MAX_BERT_TOKENS = 512"
   ]
  },
  {
   "cell_type": "code",
   "execution_count": 47,
   "metadata": {
    "execution": {
     "iopub.execute_input": "2021-01-18T14:24:15.866367Z",
     "iopub.status.busy": "2021-01-18T14:24:15.866049Z",
     "iopub.status.idle": "2021-01-18T14:24:24.954497Z",
     "shell.execute_reply": "2021-01-18T14:24:24.953014Z",
     "shell.execute_reply.started": "2021-01-18T14:24:15.866329Z"
    }
   },
   "outputs": [],
   "source": [
    "bert_model = model.QABertModel(device=DEVICE)"
   ]
  },
  {
   "cell_type": "code",
   "execution_count": 48,
   "metadata": {
    "execution": {
     "iopub.execute_input": "2021-01-18T14:17:42.499179Z",
     "iopub.status.busy": "2021-01-18T14:17:42.498737Z",
     "iopub.status.idle": "2021-01-18T14:17:42.643194Z",
     "shell.execute_reply": "2021-01-18T14:17:42.641677Z",
     "shell.execute_reply.started": "2021-01-18T14:17:42.499127Z"
    }
   },
   "outputs": [
    {
     "output_type": "error",
     "ename": "NameError",
     "evalue": "name 'MAX_BERT_TOKENS' is not defined",
     "traceback": [
      "\u001b[1;31m---------------------------------------------------------------------------\u001b[0m",
      "\u001b[1;31mNameError\u001b[0m                                 Traceback (most recent call last)",
      "\u001b[1;32m<ipython-input-48-d2c0f615d91a>\u001b[0m in \u001b[0;36m<module>\u001b[1;34m\u001b[0m\n\u001b[0;32m      4\u001b[0m     \u001b[0mpad_type_id\u001b[0m\u001b[1;33m=\u001b[0m\u001b[1;36m1\u001b[0m\u001b[1;33m,\u001b[0m\u001b[1;33m\u001b[0m\u001b[1;33m\u001b[0m\u001b[0m\n\u001b[0;32m      5\u001b[0m )\n\u001b[1;32m----> 6\u001b[1;33m \u001b[0mbert_wp_tokenizer\u001b[0m\u001b[1;33m.\u001b[0m\u001b[0menable_truncation\u001b[0m\u001b[1;33m(\u001b[0m\u001b[0mMAX_BERT_TOKENS\u001b[0m\u001b[1;33m)\u001b[0m\u001b[1;33m\u001b[0m\u001b[1;33m\u001b[0m\u001b[0m\n\u001b[0m",
      "\u001b[1;31mNameError\u001b[0m: name 'MAX_BERT_TOKENS' is not defined"
     ]
    }
   ],
   "source": [
    "bert_wp_tokenizer = BertWordPieceTokenizer(\"data/bert-base-uncased-vocab.txt\", lowercase=True)\n",
    "bert_wp_tokenizer.enable_padding(\n",
    "    direction=\"right\",\n",
    "    pad_type_id=1,\n",
    ")\n",
    "bert_wp_tokenizer.enable_truncation(MAX_BERT_TOKENS)"
   ]
  },
  {
   "cell_type": "code",
   "execution_count": null,
   "metadata": {
    "execution": {
     "iopub.execute_input": "2021-01-18T14:17:43.244702Z",
     "iopub.status.busy": "2021-01-18T14:17:43.244309Z",
     "iopub.status.idle": "2021-01-18T14:17:43.309405Z",
     "shell.execute_reply": "2021-01-18T14:17:43.308188Z",
     "shell.execute_reply.started": "2021-01-18T14:17:43.244659Z"
    }
   },
   "outputs": [],
   "source": [
    "bert_tokenizer = dataset.BertSquadTokenizer(bert_wp_tokenizer, device=DEVICE)"
   ]
  },
  {
   "cell_type": "code",
   "execution_count": null,
   "metadata": {
    "execution": {
     "iopub.execute_input": "2021-01-18T14:17:43.643445Z",
     "iopub.status.busy": "2021-01-18T14:17:43.643087Z",
     "iopub.status.idle": "2021-01-18T14:17:44.636185Z",
     "shell.execute_reply": "2021-01-18T14:17:44.634613Z",
     "shell.execute_reply.started": "2021-01-18T14:17:43.643407Z"
    }
   },
   "outputs": [],
   "source": [
    "bert_dm = dataset.SquadDataManager(squad_dataset, bert_tokenizer, device=DEVICE)"
   ]
  },
  {
   "cell_type": "code",
   "execution_count": null,
   "metadata": {
    "execution": {
     "iopub.execute_input": "2021-01-18T14:17:44.717122Z",
     "iopub.status.busy": "2021-01-18T14:17:44.716821Z",
     "iopub.status.idle": "2021-01-18T14:17:44.773975Z",
     "shell.execute_reply": "2021-01-18T14:17:44.772674Z",
     "shell.execute_reply.started": "2021-01-18T14:17:44.717084Z"
    }
   },
   "outputs": [],
   "source": [
    "bert_dm.tokenizer = bert_tokenizer"
   ]
  },
  {
   "cell_type": "code",
   "execution_count": null,
   "metadata": {
    "execution": {
     "iopub.execute_input": "2021-01-18T14:17:44.850340Z",
     "iopub.status.busy": "2021-01-18T14:17:44.850017Z",
     "iopub.status.idle": "2021-01-18T14:17:44.949284Z",
     "shell.execute_reply": "2021-01-18T14:17:44.948109Z",
     "shell.execute_reply.started": "2021-01-18T14:17:44.850302Z"
    }
   },
   "outputs": [],
   "source": [
    "bert_dm.train_df"
   ]
  },
  {
   "cell_type": "code",
   "execution_count": null,
   "metadata": {
    "execution": {
     "iopub.execute_input": "2021-01-18T14:17:45.090106Z",
     "iopub.status.busy": "2021-01-18T14:17:45.089799Z",
     "iopub.status.idle": "2021-01-18T14:17:45.186019Z",
     "shell.execute_reply": "2021-01-18T14:17:45.184568Z",
     "shell.execute_reply.started": "2021-01-18T14:17:45.090068Z"
    }
   },
   "outputs": [],
   "source": [
    "bert_dm.val_df"
   ]
  },
  {
   "cell_type": "code",
   "execution_count": null,
   "metadata": {
    "execution": {
     "iopub.execute_input": "2021-01-18T14:17:46.533955Z",
     "iopub.status.busy": "2021-01-18T14:17:46.533645Z",
     "iopub.status.idle": "2021-01-18T14:17:46.629837Z",
     "shell.execute_reply": "2021-01-18T14:17:46.628369Z",
     "shell.execute_reply.started": "2021-01-18T14:17:46.533917Z"
    }
   },
   "outputs": [],
   "source": [
    "bert_dm.test_df"
   ]
  },
  {
   "cell_type": "code",
   "execution_count": 55,
   "metadata": {
    "execution": {
     "iopub.execute_input": "2021-01-18T14:24:25.043900Z",
     "iopub.status.busy": "2021-01-18T14:24:25.043594Z",
     "iopub.status.idle": "2021-01-18T14:24:25.123390Z",
     "shell.execute_reply": "2021-01-18T14:24:25.122106Z",
     "shell.execute_reply.started": "2021-01-18T14:24:25.043862Z"
    }
   },
   "outputs": [
    {
     "output_type": "stream",
     "name": "stdout",
     "text": [
      "env: WANDB_RUN_GROUP=bert\n"
     ]
    }
   ],
   "source": [
    "%env WANDB_RUN_GROUP=bert\n",
    "bert_run_name=utils.get_run_name()\n",
    "bert_output_dir=f\"./checkpoints/bert/{bert_run_name}\"\n",
    "bert_args = TRAINER_ARGS(output_dir=bert_output_dir,run_name=bert_run_name, per_device_train_batch_size=4, per_device_eval_batch_size=4,)\n",
    "bert_trainer = training.SquadTrainer(\n",
    "    model=bert_model,\n",
    "    args=bert_args,\n",
    "    data_collator=bert_dm.tokenizer,\n",
    "    train_dataset=bert_dm.train_dataset,\n",
    "    eval_dataset=bert_dm.val_dataset,\n",
    ")"
   ]
  },
  {
   "cell_type": "code",
   "execution_count": 100,
   "metadata": {
    "execution": {
     "iopub.execute_input": "2021-01-18T14:24:27.612769Z",
     "iopub.status.busy": "2021-01-18T14:24:27.612370Z",
     "iopub.status.idle": "2021-01-18T14:27:18.409412Z",
     "shell.execute_reply": "2021-01-18T14:27:18.406827Z",
     "shell.execute_reply.started": "2021-01-18T14:24:27.612727Z"
    }
   },
   "outputs": [
    {
     "data": {
      "text/html": [
       "\n",
       "    <div>\n",
       "        <style>\n",
       "            /* Turns off some styling */\n",
       "            progress {\n",
       "                /* gets rid of default border in Firefox and Opera. */\n",
       "                border: none;\n",
       "                /* Needs to be in here for Safari polyfill so background images work as expected. */\n",
       "                background-size: auto;\n",
       "            }\n",
       "        </style>\n",
       "      \n",
       "      <progress value='350' max='350' style='width:300px; height:20px; vertical-align: middle;'></progress>\n",
       "      [350/350 01:35, Epoch 2/2]\n",
       "    </div>\n",
       "    <table border=\"1\" class=\"dataframe\">\n",
       "  <thead>\n",
       "    <tr style=\"text-align: left;\">\n",
       "      <th>Epoch</th>\n",
       "      <th>Training Loss</th>\n",
       "      <th>Validation Loss</th>\n",
       "      <th>F1</th>\n",
       "      <th>Accuracy</th>\n",
       "      <th>Em</th>\n",
       "      <th>Runtime</th>\n",
       "      <th>Samples Per Second</th>\n",
       "    </tr>\n",
       "  </thead>\n",
       "  <tbody>\n",
       "    <tr>\n",
       "      <td>1</td>\n",
       "      <td>14.225100</td>\n",
       "      <td>17.034660</td>\n",
       "      <td>0.001423</td>\n",
       "      <td>0.008671</td>\n",
       "      <td>0.000000</td>\n",
       "      <td>3.991000</td>\n",
       "      <td>43.347000</td>\n",
       "    </tr>\n",
       "    <tr>\n",
       "      <td>2</td>\n",
       "      <td>14.787900</td>\n",
       "      <td>17.034660</td>\n",
       "      <td>0.001423</td>\n",
       "      <td>0.008671</td>\n",
       "      <td>0.000000</td>\n",
       "      <td>4.000600</td>\n",
       "      <td>43.243000</td>\n",
       "    </tr>\n",
       "  </tbody>\n",
       "</table><p>"
      ],
      "text/plain": [
       "<IPython.core.display.HTML object>"
      ]
     },
     "metadata": {},
     "output_type": "display_data"
    },
    {
     "name": "stderr",
     "output_type": "stream",
     "text": [
      "wandb: WARNING Step must only increase in log calls.  Step 1 < 175; dropping {'train/loss': 13.748, 'train/learning_rate': 0.0, 'train/epoch': 0.01}.\n",
      "wandb: WARNING Step must only increase in log calls.  Step 1 < 175; dropping {'train/f1': 0.0, 'train/accuracy': 0.0, 'train/em': 0.0, 'train/epoch': 0.01}.\n",
      "wandb: WARNING Step must only increase in log calls.  Step 5 < 175; dropping {'train/loss': 12.9371, 'train/learning_rate': 0.0, 'train/epoch': 0.03}.\n",
      "wandb: WARNING Step must only increase in log calls.  Step 5 < 175; dropping {'train/f1': 0.0, 'train/accuracy': 0.0, 'train/em': 0.0, 'train/epoch': 0.03}.\n",
      "wandb: WARNING Step must only increase in log calls.  Step 10 < 175; dropping {'train/loss': 14.0872, 'train/learning_rate': 0.0, 'train/epoch': 0.06}.\n",
      "wandb: WARNING Step must only increase in log calls.  Step 10 < 175; dropping {'train/f1': 0.0, 'train/accuracy': 0.0, 'train/em': 0.0, 'train/epoch': 0.06}.\n",
      "wandb: WARNING Step must only increase in log calls.  Step 15 < 175; dropping {'train/loss': 13.2175, 'train/learning_rate': 0.0, 'train/epoch': 0.09}.\n",
      "wandb: WARNING Step must only increase in log calls.  Step 15 < 175; dropping {'train/f1': 0.0, 'train/accuracy': 0.0, 'train/em': 0.0, 'train/epoch': 0.09}.\n",
      "wandb: WARNING Step must only increase in log calls.  Step 20 < 175; dropping {'train/loss': 14.5236, 'train/learning_rate': 0.0, 'train/epoch': 0.11}.\n",
      "wandb: WARNING Step must only increase in log calls.  Step 20 < 175; dropping {'train/f1': 0.0, 'train/accuracy': 0.0, 'train/em': 0.0, 'train/epoch': 0.11}.\n",
      "wandb: WARNING Step must only increase in log calls.  Step 25 < 175; dropping {'train/loss': 14.1628, 'train/learning_rate': 0.0, 'train/epoch': 0.14}.\n",
      "wandb: WARNING Step must only increase in log calls.  Step 25 < 175; dropping {'train/f1': 0.0, 'train/accuracy': 0.0, 'train/em': 0.0, 'train/epoch': 0.14}.\n",
      "wandb: WARNING Step must only increase in log calls.  Step 30 < 175; dropping {'train/loss': 13.0362, 'train/learning_rate': 0.0, 'train/epoch': 0.17}.\n",
      "wandb: WARNING Step must only increase in log calls.  Step 30 < 175; dropping {'train/f1': 0.0, 'train/accuracy': 0.0, 'train/em': 0.0, 'train/epoch': 0.17}.\n",
      "wandb: WARNING Step must only increase in log calls.  Step 35 < 175; dropping {'train/loss': 14.9438, 'train/learning_rate': 0.0, 'train/epoch': 0.2}.\n",
      "wandb: WARNING Step must only increase in log calls.  Step 35 < 175; dropping {'train/f1': 0.05128205128205128, 'train/accuracy': 0.125, 'train/em': 0.0, 'train/epoch': 0.2}.\n",
      "wandb: WARNING Step must only increase in log calls.  Step 40 < 175; dropping {'train/loss': 14.2931, 'train/learning_rate': 0.0, 'train/epoch': 0.23}.\n",
      "wandb: WARNING Step must only increase in log calls.  Step 40 < 175; dropping {'train/f1': 0.0, 'train/accuracy': 0.0, 'train/em': 0.0, 'train/epoch': 0.23}.\n",
      "wandb: WARNING Step must only increase in log calls.  Step 45 < 175; dropping {'train/loss': 16.2179, 'train/learning_rate': 0.0, 'train/epoch': 0.26}.\n",
      "wandb: WARNING Step must only increase in log calls.  Step 45 < 175; dropping {'train/f1': 0.0, 'train/accuracy': 0.0, 'train/em': 0.0, 'train/epoch': 0.26}.\n",
      "wandb: WARNING Step must only increase in log calls.  Step 50 < 175; dropping {'train/loss': 14.7593, 'train/learning_rate': 0.0, 'train/epoch': 0.29}.\n",
      "wandb: WARNING Step must only increase in log calls.  Step 50 < 175; dropping {'train/f1': 0.0, 'train/accuracy': 0.0, 'train/em': 0.0, 'train/epoch': 0.29}.\n",
      "wandb: WARNING Step must only increase in log calls.  Step 55 < 175; dropping {'train/loss': 15.3141, 'train/learning_rate': 0.0, 'train/epoch': 0.31}.\n",
      "wandb: WARNING Step must only increase in log calls.  Step 55 < 175; dropping {'train/f1': 0.0, 'train/accuracy': 0.0, 'train/em': 0.0, 'train/epoch': 0.31}.\n",
      "wandb: WARNING Step must only increase in log calls.  Step 60 < 175; dropping {'train/loss': 14.9418, 'train/learning_rate': 0.0, 'train/epoch': 0.34}.\n",
      "wandb: WARNING Step must only increase in log calls.  Step 60 < 175; dropping {'train/f1': 0.0, 'train/accuracy': 0.0, 'train/em': 0.0, 'train/epoch': 0.34}.\n",
      "wandb: WARNING Step must only increase in log calls.  Step 65 < 175; dropping {'train/loss': 15.0194, 'train/learning_rate': 0.0, 'train/epoch': 0.37}.\n",
      "wandb: WARNING Step must only increase in log calls.  Step 65 < 175; dropping {'train/f1': 0.0, 'train/accuracy': 0.0, 'train/em': 0.0, 'train/epoch': 0.37}.\n",
      "wandb: WARNING Step must only increase in log calls.  Step 70 < 175; dropping {'train/loss': 14.1676, 'train/learning_rate': 0.0, 'train/epoch': 0.4}.\n",
      "wandb: WARNING Step must only increase in log calls.  Step 70 < 175; dropping {'train/f1': 0.0, 'train/accuracy': 0.0, 'train/em': 0.0, 'train/epoch': 0.4}.\n",
      "wandb: WARNING Step must only increase in log calls.  Step 75 < 175; dropping {'train/loss': 15.3292, 'train/learning_rate': 0.0, 'train/epoch': 0.43}.\n",
      "wandb: WARNING Step must only increase in log calls.  Step 75 < 175; dropping {'train/f1': 0.0, 'train/accuracy': 0.0, 'train/em': 0.0, 'train/epoch': 0.43}.\n",
      "wandb: WARNING Step must only increase in log calls.  Step 80 < 175; dropping {'train/loss': 15.3902, 'train/learning_rate': 0.0, 'train/epoch': 0.46}.\n",
      "wandb: WARNING Step must only increase in log calls.  Step 80 < 175; dropping {'train/f1': 0.0, 'train/accuracy': 0.0, 'train/em': 0.0, 'train/epoch': 0.46}.\n",
      "wandb: WARNING Step must only increase in log calls.  Step 85 < 175; dropping {'train/loss': 14.5667, 'train/learning_rate': 0.0, 'train/epoch': 0.49}.\n",
      "wandb: WARNING Step must only increase in log calls.  Step 85 < 175; dropping {'train/f1': 0.0, 'train/accuracy': 0.0, 'train/em': 0.0, 'train/epoch': 0.49}.\n",
      "wandb: WARNING Step must only increase in log calls.  Step 90 < 175; dropping {'train/loss': 15.0505, 'train/learning_rate': 0.0, 'train/epoch': 0.51}.\n",
      "wandb: WARNING Step must only increase in log calls.  Step 90 < 175; dropping {'train/f1': 0.0, 'train/accuracy': 0.0, 'train/em': 0.0, 'train/epoch': 0.51}.\n",
      "wandb: WARNING Step must only increase in log calls.  Step 95 < 175; dropping {'train/loss': 14.7647, 'train/learning_rate': 0.0, 'train/epoch': 0.54}.\n",
      "wandb: WARNING Step must only increase in log calls.  Step 95 < 175; dropping {'train/f1': 0.0, 'train/accuracy': 0.0, 'train/em': 0.0, 'train/epoch': 0.54}.\n",
      "wandb: WARNING Step must only increase in log calls.  Step 100 < 175; dropping {'train/loss': 15.6711, 'train/learning_rate': 0.0, 'train/epoch': 0.57}.\n",
      "wandb: WARNING Step must only increase in log calls.  Step 100 < 175; dropping {'train/f1': 0.0, 'train/accuracy': 0.0, 'train/em': 0.0, 'train/epoch': 0.57}.\n",
      "wandb: WARNING Step must only increase in log calls.  Step 105 < 175; dropping {'train/loss': 12.4391, 'train/learning_rate': 0.0, 'train/epoch': 0.6}.\n",
      "wandb: WARNING Step must only increase in log calls.  Step 105 < 175; dropping {'train/f1': 0.0, 'train/accuracy': 0.0, 'train/em': 0.0, 'train/epoch': 0.6}.\n",
      "wandb: WARNING Step must only increase in log calls.  Step 110 < 175; dropping {'train/loss': 13.1199, 'train/learning_rate': 0.0, 'train/epoch': 0.63}.\n",
      "wandb: WARNING Step must only increase in log calls.  Step 110 < 175; dropping {'train/f1': 0.06666666666666667, 'train/accuracy': 0.125, 'train/em': 0.0, 'train/epoch': 0.63}.\n",
      "wandb: WARNING Step must only increase in log calls.  Step 115 < 175; dropping {'train/loss': 12.9424, 'train/learning_rate': 0.0, 'train/epoch': 0.66}.\n",
      "wandb: WARNING Step must only increase in log calls.  Step 115 < 175; dropping {'train/f1': 0.0, 'train/accuracy': 0.0, 'train/em': 0.0, 'train/epoch': 0.66}.\n",
      "wandb: WARNING Step must only increase in log calls.  Step 120 < 175; dropping {'train/loss': 15.6451, 'train/learning_rate': 0.0, 'train/epoch': 0.69}.\n",
      "wandb: WARNING Step must only increase in log calls.  Step 120 < 175; dropping {'train/f1': 0.0, 'train/accuracy': 0.0, 'train/em': 0.0, 'train/epoch': 0.69}.\n",
      "wandb: WARNING Step must only increase in log calls.  Step 125 < 175; dropping {'train/loss': 16.9319, 'train/learning_rate': 0.0, 'train/epoch': 0.71}.\n",
      "wandb: WARNING Step must only increase in log calls.  Step 125 < 175; dropping {'train/f1': 0.0, 'train/accuracy': 0.0, 'train/em': 0.0, 'train/epoch': 0.71}.\n",
      "wandb: WARNING Step must only increase in log calls.  Step 130 < 175; dropping {'train/loss': 11.045, 'train/learning_rate': 0.0, 'train/epoch': 0.74}.\n"
     ]
    },
    {
     "name": "stderr",
     "output_type": "stream",
     "text": [
      "wandb: WARNING Step must only increase in log calls.  Step 130 < 175; dropping {'train/f1': 0.0, 'train/accuracy': 0.0, 'train/em': 0.0, 'train/epoch': 0.74}.\n",
      "wandb: WARNING Step must only increase in log calls.  Step 135 < 175; dropping {'train/loss': 13.0339, 'train/learning_rate': 0.0, 'train/epoch': 0.77}.\n",
      "wandb: WARNING Step must only increase in log calls.  Step 135 < 175; dropping {'train/f1': 0.0, 'train/accuracy': 0.0, 'train/em': 0.0, 'train/epoch': 0.77}.\n",
      "wandb: WARNING Step must only increase in log calls.  Step 140 < 175; dropping {'train/loss': 13.8517, 'train/learning_rate': 0.0, 'train/epoch': 0.8}.\n",
      "wandb: WARNING Step must only increase in log calls.  Step 140 < 175; dropping {'train/f1': 0.0, 'train/accuracy': 0.0, 'train/em': 0.0, 'train/epoch': 0.8}.\n",
      "wandb: WARNING Step must only increase in log calls.  Step 145 < 175; dropping {'train/loss': 15.33, 'train/learning_rate': 0.0, 'train/epoch': 0.83}.\n",
      "wandb: WARNING Step must only increase in log calls.  Step 145 < 175; dropping {'train/f1': 0.0, 'train/accuracy': 0.0, 'train/em': 0.0, 'train/epoch': 0.83}.\n",
      "wandb: WARNING Step must only increase in log calls.  Step 150 < 175; dropping {'train/loss': 12.7328, 'train/learning_rate': 0.0, 'train/epoch': 0.86}.\n",
      "wandb: WARNING Step must only increase in log calls.  Step 150 < 175; dropping {'train/f1': 0.0, 'train/accuracy': 0.0, 'train/em': 0.0, 'train/epoch': 0.86}.\n",
      "wandb: WARNING Step must only increase in log calls.  Step 155 < 175; dropping {'train/loss': 14.555, 'train/learning_rate': 0.0, 'train/epoch': 0.89}.\n",
      "wandb: WARNING Step must only increase in log calls.  Step 155 < 175; dropping {'train/f1': 0.0, 'train/accuracy': 0.0, 'train/em': 0.0, 'train/epoch': 0.89}.\n",
      "wandb: WARNING Step must only increase in log calls.  Step 160 < 175; dropping {'train/loss': 14.4876, 'train/learning_rate': 0.0, 'train/epoch': 0.91}.\n",
      "wandb: WARNING Step must only increase in log calls.  Step 160 < 175; dropping {'train/f1': 0.0, 'train/accuracy': 0.0, 'train/em': 0.0, 'train/epoch': 0.91}.\n",
      "wandb: WARNING Step must only increase in log calls.  Step 165 < 175; dropping {'train/loss': 13.4252, 'train/learning_rate': 0.0, 'train/epoch': 0.94}.\n",
      "wandb: WARNING Step must only increase in log calls.  Step 165 < 175; dropping {'train/f1': 0.0, 'train/accuracy': 0.0, 'train/em': 0.0, 'train/epoch': 0.94}.\n",
      "wandb: WARNING Step must only increase in log calls.  Step 170 < 175; dropping {'train/loss': 13.8573, 'train/learning_rate': 0.0, 'train/epoch': 0.97}.\n",
      "wandb: WARNING Step must only increase in log calls.  Step 170 < 175; dropping {'train/f1': 0.0, 'train/accuracy': 0.0, 'train/em': 0.0, 'train/epoch': 0.97}.\n",
      "wandb: WARNING Symlinked 10 files into the W&B run directory, call wandb.save again to sync new files.\n"
     ]
    }
   ],
   "source": [
    "bert_trainer.train()"
   ]
  },
  {
   "cell_type": "code",
   "execution_count": null,
   "metadata": {},
   "outputs": [],
   "source": [
    "bert_test_output = bert_trainer.predict(bert_dm.test_dataset)\n",
    "bert_test_output.metrics"
   ]
  },
  {
   "cell_type": "code",
   "execution_count": null,
   "metadata": {},
   "outputs": [],
   "source": [
    "bert_answers_path = \"results/bert.json\"\n",
    "utils.save_answers(bert_answers_path, bert_test_output.predictions[-1])\n",
    "wandb.save(bert_answers_path);\n",
    "wandb.finish()"
   ]
  }
 ],
 "metadata": {
  "kernelspec": {
   "display_name": "squad",
   "language": "python",
   "name": "squad"
  },
  "language_info": {
   "codemirror_mode": {
    "name": "ipython",
    "version": 3
   },
   "file_extension": ".py",
   "mimetype": "text/x-python",
   "name": "python",
   "nbconvert_exporter": "python",
   "pygments_lexer": "ipython3",
   "version": "3.8.6-final"
  }
 },
 "nbformat": 4,
 "nbformat_minor": 4
}