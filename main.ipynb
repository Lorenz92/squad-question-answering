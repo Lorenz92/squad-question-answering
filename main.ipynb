{
 "metadata": {
  "language_info": {
   "codemirror_mode": {
    "name": "ipython",
    "version": 3
   },
   "file_extension": ".py",
   "mimetype": "text/x-python",
   "name": "python",
   "nbconvert_exporter": "python",
   "pygments_lexer": "ipython3",
   "version": "3.7.7-final"
  },
  "orig_nbformat": 2,
  "kernelspec": {
   "name": "python3",
   "display_name": "Python 3",
   "language": "python"
  }
 },
 "nbformat": 4,
 "nbformat_minor": 2,
 "cells": [
  {
   "cell_type": "code",
   "execution_count": 158,
   "metadata": {},
   "outputs": [],
   "source": [
    "import numpy as np\n",
    "import pandas as pd\n",
    "import json"
   ]
  },
  {
   "cell_type": "code",
   "execution_count": 159,
   "metadata": {},
   "outputs": [
    {
     "output_type": "stream",
     "name": "stdout",
     "text": [
      "Reading json file...\n",
      "processing...\n",
      "Json flattening completed!\n",
      "\n",
      "Building flatten dataframe\n",
      "shape of the dataframe is (87599, 7)\n",
      "Done\n",
      "\n"
     ]
    }
   ],
   "source": [
    "# Loading dataset\n",
    "\n",
    "file_path = \"./data/training/\"\n",
    "input_file = file_path + \"training_set.json\"\n",
    "record_path = ['data','paragraphs','qas','answers']\n",
    "\n",
    "def load_dataset(input_file, record_path = ['data', 'paragraphs','qas','answers']):\n",
    "    \"\"\"\n",
    "    :params input_file_path: path to the squad json file\n",
    "    :params record_path: path to deepest level in json file; default value is ['data','paragraphs','qas','answers']\n",
    "\n",
    "    :return df: dataframe resulting from json flattening\n",
    "    \"\"\"\n",
    "    print(\"Reading json file...\")    \n",
    "    file = json.loads(open(input_file).read())\n",
    "    print(\"processing...\")\n",
    "\n",
    "    js = pd.io.json.json_normalize(file, record_path, meta=[['data','title']])\n",
    "    m = pd.io.json.json_normalize(file, record_path[:-1], meta=[['data','title']])\n",
    "    r = pd.io.json.json_normalize(file, record_path[:-2], meta=[['data','title']])\n",
    "\n",
    "    print(\"Json flattening completed!\")\n",
    "    print()\n",
    "    print('Building flatten dataframe')\n",
    "    idx = np.repeat(r['context'].values, r.qas.str.len())\n",
    "    ndx  = np.repeat(m['id'].values,m['answers'].str.len())\n",
    "    m['context'] = idx\n",
    "    js['q_idx'] = ndx\n",
    "    df = pd.concat([ m[['id','question','context']].set_index('id'), js.set_index('q_idx')],1,sort=False).reset_index()\n",
    "    df['context_id'] = df['context'].factorize()[0]\n",
    "    df.rename(columns={\"data.title\": \"title\"}, inplace=True)\n",
    "\n",
    "    col_order = ['index', 'question', 'title', 'context_id', 'context', 'text', 'answer_start']\n",
    "    df = df[col_order]\n",
    "\n",
    "    print(\"shape of the dataframe is {}\".format(df.shape))\n",
    "    print(\"Done\")\n",
    "    print()\n",
    "    return df\n",
    "\n",
    "df = load_dataset(input_file)"
   ]
  },
  {
   "cell_type": "code",
   "execution_count": 160,
   "metadata": {},
   "outputs": [
    {
     "output_type": "execute_result",
     "data": {
      "text/plain": [
       "                      index  \\\n",
       "0  5733be284776f41900661182   \n",
       "1  5733be284776f4190066117f   \n",
       "2  5733be284776f41900661180   \n",
       "3  5733be284776f41900661181   \n",
       "4  5733be284776f4190066117e   \n",
       "5  5733bf84d058e614000b61be   \n",
       "6  5733bf84d058e614000b61bf   \n",
       "7  5733bf84d058e614000b61c0   \n",
       "8  5733bf84d058e614000b61bd   \n",
       "9  5733bf84d058e614000b61c1   \n",
       "\n",
       "                                            question  \\\n",
       "0  To whom did the Virgin Mary allegedly appear i...   \n",
       "1  What is in front of the Notre Dame Main Building?   \n",
       "2  The Basilica of the Sacred heart at Notre Dame...   \n",
       "3                  What is the Grotto at Notre Dame?   \n",
       "4  What sits on top of the Main Building at Notre...   \n",
       "5  When did the Scholastic Magazine of Notre dame...   \n",
       "6   How often is Notre Dame's the Juggler published?   \n",
       "7  What is the daily student paper at Notre Dame ...   \n",
       "8  How many student news papers are found at Notr...   \n",
       "9  In what year did the student paper Common Sens...   \n",
       "\n",
       "                      title  context_id  \\\n",
       "0  University_of_Notre_Dame           0   \n",
       "1  University_of_Notre_Dame           0   \n",
       "2  University_of_Notre_Dame           0   \n",
       "3  University_of_Notre_Dame           0   \n",
       "4  University_of_Notre_Dame           0   \n",
       "5  University_of_Notre_Dame           1   \n",
       "6  University_of_Notre_Dame           1   \n",
       "7  University_of_Notre_Dame           1   \n",
       "8  University_of_Notre_Dame           1   \n",
       "9  University_of_Notre_Dame           1   \n",
       "\n",
       "                                             context  \\\n",
       "0  Architecturally, the school has a Catholic cha...   \n",
       "1  Architecturally, the school has a Catholic cha...   \n",
       "2  Architecturally, the school has a Catholic cha...   \n",
       "3  Architecturally, the school has a Catholic cha...   \n",
       "4  Architecturally, the school has a Catholic cha...   \n",
       "5  As at most other universities, Notre Dame's st...   \n",
       "6  As at most other universities, Notre Dame's st...   \n",
       "7  As at most other universities, Notre Dame's st...   \n",
       "8  As at most other universities, Notre Dame's st...   \n",
       "9  As at most other universities, Notre Dame's st...   \n",
       "\n",
       "                                      text  answer_start  \n",
       "0               Saint Bernadette Soubirous           515  \n",
       "1                a copper statue of Christ           188  \n",
       "2                        the Main Building           279  \n",
       "3  a Marian place of prayer and reflection           381  \n",
       "4       a golden statue of the Virgin Mary            92  \n",
       "5                           September 1876           248  \n",
       "6                                    twice           441  \n",
       "7                             The Observer           598  \n",
       "8                                    three           126  \n",
       "9                                     1987           908  "
      ],
      "text/html": "<div>\n<style scoped>\n    .dataframe tbody tr th:only-of-type {\n        vertical-align: middle;\n    }\n\n    .dataframe tbody tr th {\n        vertical-align: top;\n    }\n\n    .dataframe thead th {\n        text-align: right;\n    }\n</style>\n<table border=\"1\" class=\"dataframe\">\n  <thead>\n    <tr style=\"text-align: right;\">\n      <th></th>\n      <th>index</th>\n      <th>question</th>\n      <th>title</th>\n      <th>context_id</th>\n      <th>context</th>\n      <th>text</th>\n      <th>answer_start</th>\n    </tr>\n  </thead>\n  <tbody>\n    <tr>\n      <th>0</th>\n      <td>5733be284776f41900661182</td>\n      <td>To whom did the Virgin Mary allegedly appear i...</td>\n      <td>University_of_Notre_Dame</td>\n      <td>0</td>\n      <td>Architecturally, the school has a Catholic cha...</td>\n      <td>Saint Bernadette Soubirous</td>\n      <td>515</td>\n    </tr>\n    <tr>\n      <th>1</th>\n      <td>5733be284776f4190066117f</td>\n      <td>What is in front of the Notre Dame Main Building?</td>\n      <td>University_of_Notre_Dame</td>\n      <td>0</td>\n      <td>Architecturally, the school has a Catholic cha...</td>\n      <td>a copper statue of Christ</td>\n      <td>188</td>\n    </tr>\n    <tr>\n      <th>2</th>\n      <td>5733be284776f41900661180</td>\n      <td>The Basilica of the Sacred heart at Notre Dame...</td>\n      <td>University_of_Notre_Dame</td>\n      <td>0</td>\n      <td>Architecturally, the school has a Catholic cha...</td>\n      <td>the Main Building</td>\n      <td>279</td>\n    </tr>\n    <tr>\n      <th>3</th>\n      <td>5733be284776f41900661181</td>\n      <td>What is the Grotto at Notre Dame?</td>\n      <td>University_of_Notre_Dame</td>\n      <td>0</td>\n      <td>Architecturally, the school has a Catholic cha...</td>\n      <td>a Marian place of prayer and reflection</td>\n      <td>381</td>\n    </tr>\n    <tr>\n      <th>4</th>\n      <td>5733be284776f4190066117e</td>\n      <td>What sits on top of the Main Building at Notre...</td>\n      <td>University_of_Notre_Dame</td>\n      <td>0</td>\n      <td>Architecturally, the school has a Catholic cha...</td>\n      <td>a golden statue of the Virgin Mary</td>\n      <td>92</td>\n    </tr>\n    <tr>\n      <th>5</th>\n      <td>5733bf84d058e614000b61be</td>\n      <td>When did the Scholastic Magazine of Notre dame...</td>\n      <td>University_of_Notre_Dame</td>\n      <td>1</td>\n      <td>As at most other universities, Notre Dame's st...</td>\n      <td>September 1876</td>\n      <td>248</td>\n    </tr>\n    <tr>\n      <th>6</th>\n      <td>5733bf84d058e614000b61bf</td>\n      <td>How often is Notre Dame's the Juggler published?</td>\n      <td>University_of_Notre_Dame</td>\n      <td>1</td>\n      <td>As at most other universities, Notre Dame's st...</td>\n      <td>twice</td>\n      <td>441</td>\n    </tr>\n    <tr>\n      <th>7</th>\n      <td>5733bf84d058e614000b61c0</td>\n      <td>What is the daily student paper at Notre Dame ...</td>\n      <td>University_of_Notre_Dame</td>\n      <td>1</td>\n      <td>As at most other universities, Notre Dame's st...</td>\n      <td>The Observer</td>\n      <td>598</td>\n    </tr>\n    <tr>\n      <th>8</th>\n      <td>5733bf84d058e614000b61bd</td>\n      <td>How many student news papers are found at Notr...</td>\n      <td>University_of_Notre_Dame</td>\n      <td>1</td>\n      <td>As at most other universities, Notre Dame's st...</td>\n      <td>three</td>\n      <td>126</td>\n    </tr>\n    <tr>\n      <th>9</th>\n      <td>5733bf84d058e614000b61c1</td>\n      <td>In what year did the student paper Common Sens...</td>\n      <td>University_of_Notre_Dame</td>\n      <td>1</td>\n      <td>As at most other universities, Notre Dame's st...</td>\n      <td>1987</td>\n      <td>908</td>\n    </tr>\n  </tbody>\n</table>\n</div>"
     },
     "metadata": {},
     "execution_count": 160
    }
   ],
   "source": [
    "df.head(10)"
   ]
  },
  {
   "cell_type": "code",
   "execution_count": 163,
   "metadata": {
    "tags": []
   },
   "outputs": [],
   "source": [
    "# Add answer end index\n",
    "\n",
    "def add_end_idx(df):\n",
    "    \"\"\"\n",
    "    Function that takes as input SQuAD dataframe, with column of start index, and returns the same dataframe with the column containing the index of last answer character.\n",
    "\n",
    "    :params df: dataframe with at least ['context', 'text', 'answer_start'] columns\n",
    "    \n",
    "    return df: the same dataframe as the input but with the new column 'answer_end' that consists of last answer character index\n",
    "    \"\"\"\n",
    "    ans_end=[]\n",
    "    for index, row in df.iterrows():\n",
    "        v = row.context\n",
    "        t = row.text\n",
    "        s = row.answer_start\n",
    "        ans_end.append(s+len(t))\n",
    "    df['answer_end'] = ans_end\n",
    "    return df\n",
    "\n",
    "df = add_end_idx(df)"
   ]
  },
  {
   "source": [
    "df.head()"
   ],
   "cell_type": "code",
   "metadata": {},
   "execution_count": 166,
   "outputs": [
    {
     "output_type": "execute_result",
     "data": {
      "text/plain": [
       "                      index  \\\n",
       "0  5733be284776f41900661182   \n",
       "1  5733be284776f4190066117f   \n",
       "2  5733be284776f41900661180   \n",
       "3  5733be284776f41900661181   \n",
       "4  5733be284776f4190066117e   \n",
       "\n",
       "                                            question  \\\n",
       "0  To whom did the Virgin Mary allegedly appear i...   \n",
       "1  What is in front of the Notre Dame Main Building?   \n",
       "2  The Basilica of the Sacred heart at Notre Dame...   \n",
       "3                  What is the Grotto at Notre Dame?   \n",
       "4  What sits on top of the Main Building at Notre...   \n",
       "\n",
       "                      title  context_id  \\\n",
       "0  University_of_Notre_Dame           0   \n",
       "1  University_of_Notre_Dame           0   \n",
       "2  University_of_Notre_Dame           0   \n",
       "3  University_of_Notre_Dame           0   \n",
       "4  University_of_Notre_Dame           0   \n",
       "\n",
       "                                             context  \\\n",
       "0  Architecturally, the school has a Catholic cha...   \n",
       "1  Architecturally, the school has a Catholic cha...   \n",
       "2  Architecturally, the school has a Catholic cha...   \n",
       "3  Architecturally, the school has a Catholic cha...   \n",
       "4  Architecturally, the school has a Catholic cha...   \n",
       "\n",
       "                                      text  answer_start  answer_end  \n",
       "0               Saint Bernadette Soubirous           515         541  \n",
       "1                a copper statue of Christ           188         213  \n",
       "2                        the Main Building           279         296  \n",
       "3  a Marian place of prayer and reflection           381         420  \n",
       "4       a golden statue of the Virgin Mary            92         126  "
      ],
      "text/html": "<div>\n<style scoped>\n    .dataframe tbody tr th:only-of-type {\n        vertical-align: middle;\n    }\n\n    .dataframe tbody tr th {\n        vertical-align: top;\n    }\n\n    .dataframe thead th {\n        text-align: right;\n    }\n</style>\n<table border=\"1\" class=\"dataframe\">\n  <thead>\n    <tr style=\"text-align: right;\">\n      <th></th>\n      <th>index</th>\n      <th>question</th>\n      <th>title</th>\n      <th>context_id</th>\n      <th>context</th>\n      <th>text</th>\n      <th>answer_start</th>\n      <th>answer_end</th>\n    </tr>\n  </thead>\n  <tbody>\n    <tr>\n      <th>0</th>\n      <td>5733be284776f41900661182</td>\n      <td>To whom did the Virgin Mary allegedly appear i...</td>\n      <td>University_of_Notre_Dame</td>\n      <td>0</td>\n      <td>Architecturally, the school has a Catholic cha...</td>\n      <td>Saint Bernadette Soubirous</td>\n      <td>515</td>\n      <td>541</td>\n    </tr>\n    <tr>\n      <th>1</th>\n      <td>5733be284776f4190066117f</td>\n      <td>What is in front of the Notre Dame Main Building?</td>\n      <td>University_of_Notre_Dame</td>\n      <td>0</td>\n      <td>Architecturally, the school has a Catholic cha...</td>\n      <td>a copper statue of Christ</td>\n      <td>188</td>\n      <td>213</td>\n    </tr>\n    <tr>\n      <th>2</th>\n      <td>5733be284776f41900661180</td>\n      <td>The Basilica of the Sacred heart at Notre Dame...</td>\n      <td>University_of_Notre_Dame</td>\n      <td>0</td>\n      <td>Architecturally, the school has a Catholic cha...</td>\n      <td>the Main Building</td>\n      <td>279</td>\n      <td>296</td>\n    </tr>\n    <tr>\n      <th>3</th>\n      <td>5733be284776f41900661181</td>\n      <td>What is the Grotto at Notre Dame?</td>\n      <td>University_of_Notre_Dame</td>\n      <td>0</td>\n      <td>Architecturally, the school has a Catholic cha...</td>\n      <td>a Marian place of prayer and reflection</td>\n      <td>381</td>\n      <td>420</td>\n    </tr>\n    <tr>\n      <th>4</th>\n      <td>5733be284776f4190066117e</td>\n      <td>What sits on top of the Main Building at Notre...</td>\n      <td>University_of_Notre_Dame</td>\n      <td>0</td>\n      <td>Architecturally, the school has a Catholic cha...</td>\n      <td>a golden statue of the Virgin Mary</td>\n      <td>92</td>\n      <td>126</td>\n    </tr>\n  </tbody>\n</table>\n</div>"
     },
     "metadata": {},
     "execution_count": 166
    }
   ]
  },
  {
   "cell_type": "code",
   "execution_count": 167,
   "metadata": {},
   "outputs": [],
   "source": [
    "# Save df to file_path\n",
    "dataframe_name = 'squad_df'\n",
    "\n",
    "dataframe_path = os.path.join(file_path, dataframe_name + \".pkl\")\n",
    "df.to_pickle(dataframe_path)"
   ]
  },
  {
   "source": [
    "### Split df into train + validation set"
   ],
   "cell_type": "markdown",
   "metadata": {}
  },
  {
   "cell_type": "code",
   "execution_count": 200,
   "metadata": {},
   "outputs": [
    {
     "output_type": "stream",
     "name": "stdout",
     "text": [
      "Validation set size based on 4:1 split: 17520\n"
     ]
    }
   ],
   "source": [
    "val_set_size = round(df.shape[0]*.2)\n",
    "print(f'Validation set size based on 4:1 split: {val_set_size}')"
   ]
  },
  {
   "cell_type": "code",
   "execution_count": 199,
   "metadata": {},
   "outputs": [
    {
     "output_type": "stream",
     "name": "stdout",
     "text": [
      "Number of rows to remove from df: 17520\n\nTitle of rows to remove from df: ['New_York_City', 'American_Idol', 'Beyoncé', 'Frédéric_Chopin', 'Queen_Victoria', 'Buddhism', 'New_Haven,_Connecticut', '2008_Sichuan_earthquake', '2008_Summer_Olympics_torch_relay', 'Muammar_Gaddafi', 'Hellenistic_period', 'Napoleon', 'Middle_Ages', 'Modern_history', 'Portugal', 'Gamal_Abdel_Nasser', 'Dwight_D._Eisenhower', 'Kanye_West', 'Southampton', 'The_Blitz', 'Greece', 'Religion_in_ancient_Rome', 'Gramophone_record', 'Dog', 'Roman_Republic', 'Pacific_War', 'Financial_crisis_of_2007%E2%80%9308', 'Mexico_City', 'Paris', 'History_of_India', 'London', 'Pub', 'Tucson,_Arizona', 'Protestantism', 'Pharmaceutical_industry', 'Plymouth', 'Boston', 'Group_(mathematics)']\n"
     ]
    }
   ],
   "source": [
    "# Looking for rows to remove from df\n",
    "size = 0\n",
    "val_keys=[]\n",
    "title_counts = df['title'].value_counts().to_dict()\n",
    "\n",
    "for t, n in title_counts.items():\n",
    "    if size + n <= val_set_size:\n",
    "        val_keys.append(t)\n",
    "        size += n\n",
    "    else:\n",
    "        pass\n",
    "\n",
    "print(f'Number of rows to remove from df: {size}')\n",
    "print()\n",
    "print(f'Title of rows to remove from df: {val_keys}')\n"
   ]
  },
  {
   "cell_type": "code",
   "execution_count": 210,
   "metadata": {},
   "outputs": [
    {
     "output_type": "stream",
     "name": "stdout",
     "text": [
      "Train set shape: (70079, 8)\n"
     ]
    },
    {
     "output_type": "execute_result",
     "data": {
      "text/plain": [
       "                      index  \\\n",
       "0  5730401c04bcaa1900d7740f   \n",
       "1  5730429d04bcaa1900d77437   \n",
       "2  5730401c04bcaa1900d7740e   \n",
       "3  5730401c04bcaa1900d77410   \n",
       "4  57304103947a6a140053d344   \n",
       "\n",
       "                                            question       title  context_id  \\\n",
       "0  When was the constitution accepted by the elec...  51st_state       16284   \n",
       "1  What percentage of voters rejected the status ...  51st_state       16286   \n",
       "2    When was the Puerto Rican constitution written?  51st_state       16284   \n",
       "3  What clause gives Puerto Rican citizens the sa...  51st_state       16284   \n",
       "4  How is Puerto Rico designated in its constitut...  51st_state       16285   \n",
       "\n",
       "                                             context  \\\n",
       "0  This constitution was created when the U.S. Co...   \n",
       "1  In November 2012, a referendum resulted in 54 ...   \n",
       "2  This constitution was created when the U.S. Co...   \n",
       "3  This constitution was created when the U.S. Co...   \n",
       "4  Puerto Rico is designated in its constitution ...   \n",
       "\n",
       "                               text  answer_start  answer_end  \n",
       "0                              1952           285         289  \n",
       "1                        54 percent            43          53  \n",
       "2                              1951           160         164  \n",
       "3  Privileges and Immunities Clause           513         545  \n",
       "4       Commonwealth of Puerto Rico            54          81  "
      ],
      "text/html": "<div>\n<style scoped>\n    .dataframe tbody tr th:only-of-type {\n        vertical-align: middle;\n    }\n\n    .dataframe tbody tr th {\n        vertical-align: top;\n    }\n\n    .dataframe thead th {\n        text-align: right;\n    }\n</style>\n<table border=\"1\" class=\"dataframe\">\n  <thead>\n    <tr style=\"text-align: right;\">\n      <th></th>\n      <th>index</th>\n      <th>question</th>\n      <th>title</th>\n      <th>context_id</th>\n      <th>context</th>\n      <th>text</th>\n      <th>answer_start</th>\n      <th>answer_end</th>\n    </tr>\n  </thead>\n  <tbody>\n    <tr>\n      <th>0</th>\n      <td>5730401c04bcaa1900d7740f</td>\n      <td>When was the constitution accepted by the elec...</td>\n      <td>51st_state</td>\n      <td>16284</td>\n      <td>This constitution was created when the U.S. Co...</td>\n      <td>1952</td>\n      <td>285</td>\n      <td>289</td>\n    </tr>\n    <tr>\n      <th>1</th>\n      <td>5730429d04bcaa1900d77437</td>\n      <td>What percentage of voters rejected the status ...</td>\n      <td>51st_state</td>\n      <td>16286</td>\n      <td>In November 2012, a referendum resulted in 54 ...</td>\n      <td>54 percent</td>\n      <td>43</td>\n      <td>53</td>\n    </tr>\n    <tr>\n      <th>2</th>\n      <td>5730401c04bcaa1900d7740e</td>\n      <td>When was the Puerto Rican constitution written?</td>\n      <td>51st_state</td>\n      <td>16284</td>\n      <td>This constitution was created when the U.S. Co...</td>\n      <td>1951</td>\n      <td>160</td>\n      <td>164</td>\n    </tr>\n    <tr>\n      <th>3</th>\n      <td>5730401c04bcaa1900d77410</td>\n      <td>What clause gives Puerto Rican citizens the sa...</td>\n      <td>51st_state</td>\n      <td>16284</td>\n      <td>This constitution was created when the U.S. Co...</td>\n      <td>Privileges and Immunities Clause</td>\n      <td>513</td>\n      <td>545</td>\n    </tr>\n    <tr>\n      <th>4</th>\n      <td>57304103947a6a140053d344</td>\n      <td>How is Puerto Rico designated in its constitut...</td>\n      <td>51st_state</td>\n      <td>16285</td>\n      <td>Puerto Rico is designated in its constitution ...</td>\n      <td>Commonwealth of Puerto Rico</td>\n      <td>54</td>\n      <td>81</td>\n    </tr>\n  </tbody>\n</table>\n</div>"
     },
     "metadata": {},
     "execution_count": 210
    }
   ],
   "source": [
    "# Training set\n",
    "\n",
    "train_df = df[~df['title'].isin(val_keys)].reset_index(drop=True)\n",
    "print(f'Train set shape: {train_df.shape}')\n",
    "train_df.head()"
   ]
  },
  {
   "cell_type": "code",
   "execution_count": 209,
   "metadata": {},
   "outputs": [
    {
     "output_type": "stream",
     "name": "stdout",
     "text": [
      "Validation set shape: (17520, 8)\n"
     ]
    },
    {
     "output_type": "execute_result",
     "data": {
      "text/plain": [
       "                      index  \\\n",
       "0  56d646091c8504140094705d   \n",
       "1  56cebd0faab44d1400b88973   \n",
       "2  56d53a0e2593cc1400307af5   \n",
       "3  56d53a0e2593cc1400307af6   \n",
       "4  56d53a0e2593cc1400307af7   \n",
       "\n",
       "                                            question                    title  \\\n",
       "0        What did stations replace programming with?  2008_Sichuan_earthquake   \n",
       "1                      What did their findings show?  2008_Sichuan_earthquake   \n",
       "2  After the quake what kind of international tea...  2008_Sichuan_earthquake   \n",
       "3           What was the team sent to China to make?  2008_Sichuan_earthquake   \n",
       "4       What kind of reasons do their findings show?  2008_Sichuan_earthquake   \n",
       "\n",
       "   context_id                                            context  \\\n",
       "0         577  All Mainland Chinese television stations (alon...   \n",
       "1         533  In the days following the disaster, an interna...   \n",
       "2         533  In the days following the disaster, an interna...   \n",
       "3         533  In the days following the disaster, an interna...   \n",
       "4         533  In the days following the disaster, an interna...   \n",
       "\n",
       "                                                text  answer_start  answer_end  \n",
       "0                            live earthquake footage           235         258  \n",
       "1  a variety of reasons why many constructions fa...           195         274  \n",
       "2                                  team of engineers            68          85  \n",
       "3                        survey of damaged buildings           146         173  \n",
       "4                                 variety of reasons           197         215  "
      ],
      "text/html": "<div>\n<style scoped>\n    .dataframe tbody tr th:only-of-type {\n        vertical-align: middle;\n    }\n\n    .dataframe tbody tr th {\n        vertical-align: top;\n    }\n\n    .dataframe thead th {\n        text-align: right;\n    }\n</style>\n<table border=\"1\" class=\"dataframe\">\n  <thead>\n    <tr style=\"text-align: right;\">\n      <th></th>\n      <th>index</th>\n      <th>question</th>\n      <th>title</th>\n      <th>context_id</th>\n      <th>context</th>\n      <th>text</th>\n      <th>answer_start</th>\n      <th>answer_end</th>\n    </tr>\n  </thead>\n  <tbody>\n    <tr>\n      <th>0</th>\n      <td>56d646091c8504140094705d</td>\n      <td>What did stations replace programming with?</td>\n      <td>2008_Sichuan_earthquake</td>\n      <td>577</td>\n      <td>All Mainland Chinese television stations (alon...</td>\n      <td>live earthquake footage</td>\n      <td>235</td>\n      <td>258</td>\n    </tr>\n    <tr>\n      <th>1</th>\n      <td>56cebd0faab44d1400b88973</td>\n      <td>What did their findings show?</td>\n      <td>2008_Sichuan_earthquake</td>\n      <td>533</td>\n      <td>In the days following the disaster, an interna...</td>\n      <td>a variety of reasons why many constructions fa...</td>\n      <td>195</td>\n      <td>274</td>\n    </tr>\n    <tr>\n      <th>2</th>\n      <td>56d53a0e2593cc1400307af5</td>\n      <td>After the quake what kind of international tea...</td>\n      <td>2008_Sichuan_earthquake</td>\n      <td>533</td>\n      <td>In the days following the disaster, an interna...</td>\n      <td>team of engineers</td>\n      <td>68</td>\n      <td>85</td>\n    </tr>\n    <tr>\n      <th>3</th>\n      <td>56d53a0e2593cc1400307af6</td>\n      <td>What was the team sent to China to make?</td>\n      <td>2008_Sichuan_earthquake</td>\n      <td>533</td>\n      <td>In the days following the disaster, an interna...</td>\n      <td>survey of damaged buildings</td>\n      <td>146</td>\n      <td>173</td>\n    </tr>\n    <tr>\n      <th>4</th>\n      <td>56d53a0e2593cc1400307af7</td>\n      <td>What kind of reasons do their findings show?</td>\n      <td>2008_Sichuan_earthquake</td>\n      <td>533</td>\n      <td>In the days following the disaster, an interna...</td>\n      <td>variety of reasons</td>\n      <td>197</td>\n      <td>215</td>\n    </tr>\n  </tbody>\n</table>\n</div>"
     },
     "metadata": {},
     "execution_count": 209
    }
   ],
   "source": [
    "# Validation set\n",
    "\n",
    "val_df = df[df['title'].isin(val_keys)].reset_index(drop=True)\n",
    "print(f'Validation set shape: {val_df.shape}')\n",
    "val_df.head()"
   ]
  }
 ]
}