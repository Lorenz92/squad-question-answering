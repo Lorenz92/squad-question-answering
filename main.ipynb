{
 "cells": [
  {
   "cell_type": "markdown",
   "metadata": {},
   "source": [
    "# Question answering on the SQuAD dataset"
   ]
  },
  {
   "cell_type": "code",
   "execution_count": 211,
   "metadata": {
    "execution": {
     "iopub.execute_input": "2021-01-16T14:42:17.744379Z",
     "iopub.status.busy": "2021-01-16T14:42:17.743934Z",
     "iopub.status.idle": "2021-01-16T14:42:17.838210Z",
     "shell.execute_reply": "2021-01-16T14:42:17.836959Z",
     "shell.execute_reply.started": "2021-01-16T14:42:17.744335Z"
    }
   },
   "outputs": [
    {
     "name": "stdout",
     "output_type": "stream",
     "text": [
      "The autoreload extension is already loaded. To reload it, use:\n",
      "  %reload_ext autoreload\n"
     ]
    }
   ],
   "source": [
    "import sys\n",
    "import random\n",
    "from functools import partial\n",
    "\n",
    "import pandas as pd\n",
    "import numpy as np\n",
    "import matplotlib.pyplot as plt\n",
    "import torch\n",
    "import torch.nn as nn\n",
    "import torch.optim as optim\n",
    "import wandb\n",
    "import transformers\n",
    "import tokenizers\n",
    "\n",
    "from tokenizers import Tokenizer\n",
    "from tokenizers.models import WordLevel\n",
    "from tokenizers.normalizers import Sequence, StripAccents, Lowercase, Strip\n",
    "from tokenizers.pre_tokenizers import Sequence as PreSequence\n",
    "from tokenizers.pre_tokenizers import Whitespace, Punctuation\n",
    "from tokenizers import BertWordPieceTokenizer\n",
    "\n",
    "import dataset\n",
    "import model\n",
    "import training\n",
    "import utils\n",
    "\n",
    "%load_ext autoreload\n",
    "%autoreload 2\n",
    "%matplotlib inline"
   ]
  },
  {
   "cell_type": "code",
   "execution_count": 2,
   "metadata": {
    "execution": {
     "iopub.execute_input": "2021-01-16T13:04:59.873656Z",
     "iopub.status.busy": "2021-01-16T13:04:59.873343Z",
     "iopub.status.idle": "2021-01-16T13:04:59.932819Z",
     "shell.execute_reply": "2021-01-16T13:04:59.931684Z",
     "shell.execute_reply.started": "2021-01-16T13:04:59.873619Z"
    }
   },
   "outputs": [],
   "source": [
    "plt.rcParams['figure.figsize'] = [8, 6]\n",
    "plt.rcParams['figure.dpi'] = 100\n",
    "plt.rcParams['axes.xmargin'] = .05\n",
    "plt.rcParams['axes.ymargin'] = .05\n",
    "plt.style.use('ggplot')"
   ]
  },
  {
   "cell_type": "code",
   "execution_count": 3,
   "metadata": {
    "execution": {
     "iopub.execute_input": "2021-01-16T13:05:00.602611Z",
     "iopub.status.busy": "2021-01-16T13:05:00.602296Z",
     "iopub.status.idle": "2021-01-16T13:05:00.660168Z",
     "shell.execute_reply": "2021-01-16T13:05:00.659082Z",
     "shell.execute_reply.started": "2021-01-16T13:05:00.602573Z"
    }
   },
   "outputs": [],
   "source": [
    "WANDB_PROJECT = \"squad-qa\"\n",
    "WANDB_ENTITY = \"wadaboa\"\n",
    "WANDB_MODE = \"online\"\n",
    "WANDB_RESUME = \"never\"\n",
    "\n",
    "init_wandb = partial(\n",
    "    wandb.init,\n",
    "    project=WANDB_PROJECT,\n",
    "    entity=WANDB_ENTITY,\n",
    "    mode=WANDB_MODE,\n",
    "    resume=WANDB_RESUME,\n",
    ")"
   ]
  },
  {
   "cell_type": "markdown",
   "metadata": {},
   "source": [
    "## Preliminaries"
   ]
  },
  {
   "cell_type": "markdown",
   "metadata": {},
   "source": [
    "### Raw data loading"
   ]
  },
  {
   "cell_type": "code",
   "execution_count": 4,
   "metadata": {
    "execution": {
     "iopub.execute_input": "2021-01-16T13:05:03.007668Z",
     "iopub.status.busy": "2021-01-16T13:05:03.007243Z",
     "iopub.status.idle": "2021-01-16T13:05:03.334164Z",
     "shell.execute_reply": "2021-01-16T13:05:03.332790Z",
     "shell.execute_reply.started": "2021-01-16T13:05:03.007624Z"
    }
   },
   "outputs": [],
   "source": [
    "squad_dataset = dataset.SquadDataset()"
   ]
  },
  {
   "cell_type": "code",
   "execution_count": 5,
   "metadata": {
    "execution": {
     "iopub.execute_input": "2021-01-16T13:05:03.997807Z",
     "iopub.status.busy": "2021-01-16T13:05:03.997495Z",
     "iopub.status.idle": "2021-01-16T13:05:04.333331Z",
     "shell.execute_reply": "2021-01-16T13:05:04.332223Z",
     "shell.execute_reply.started": "2021-01-16T13:05:03.997769Z"
    }
   },
   "outputs": [
    {
     "data": {
      "text/html": [
       "<div>\n",
       "<style scoped>\n",
       "    .dataframe tbody tr th:only-of-type {\n",
       "        vertical-align: middle;\n",
       "    }\n",
       "\n",
       "    .dataframe tbody tr th {\n",
       "        vertical-align: top;\n",
       "    }\n",
       "\n",
       "    .dataframe thead th {\n",
       "        text-align: right;\n",
       "    }\n",
       "</style>\n",
       "<table border=\"1\" class=\"dataframe\">\n",
       "  <thead>\n",
       "    <tr style=\"text-align: right;\">\n",
       "      <th></th>\n",
       "      <th>question_id</th>\n",
       "      <th>question</th>\n",
       "      <th>title</th>\n",
       "      <th>context_id</th>\n",
       "      <th>context</th>\n",
       "      <th>answer</th>\n",
       "      <th>answer_start</th>\n",
       "      <th>answer_end</th>\n",
       "    </tr>\n",
       "  </thead>\n",
       "  <tbody>\n",
       "    <tr>\n",
       "      <th>0</th>\n",
       "      <td>5733be284776f41900661182</td>\n",
       "      <td>To whom did the Virgin Mary allegedly appear i...</td>\n",
       "      <td>University_of_Notre_Dame</td>\n",
       "      <td>0</td>\n",
       "      <td>Architecturally, the school has a Catholic cha...</td>\n",
       "      <td>Saint Bernadette Soubirous</td>\n",
       "      <td>515</td>\n",
       "      <td>541</td>\n",
       "    </tr>\n",
       "    <tr>\n",
       "      <th>1</th>\n",
       "      <td>5733be284776f4190066117f</td>\n",
       "      <td>What is in front of the Notre Dame Main Building?</td>\n",
       "      <td>University_of_Notre_Dame</td>\n",
       "      <td>0</td>\n",
       "      <td>Architecturally, the school has a Catholic cha...</td>\n",
       "      <td>a copper statue of Christ</td>\n",
       "      <td>188</td>\n",
       "      <td>213</td>\n",
       "    </tr>\n",
       "    <tr>\n",
       "      <th>2</th>\n",
       "      <td>5733be284776f41900661180</td>\n",
       "      <td>The Basilica of the Sacred heart at Notre Dame...</td>\n",
       "      <td>University_of_Notre_Dame</td>\n",
       "      <td>0</td>\n",
       "      <td>Architecturally, the school has a Catholic cha...</td>\n",
       "      <td>the Main Building</td>\n",
       "      <td>279</td>\n",
       "      <td>296</td>\n",
       "    </tr>\n",
       "    <tr>\n",
       "      <th>3</th>\n",
       "      <td>5733be284776f41900661181</td>\n",
       "      <td>What is the Grotto at Notre Dame?</td>\n",
       "      <td>University_of_Notre_Dame</td>\n",
       "      <td>0</td>\n",
       "      <td>Architecturally, the school has a Catholic cha...</td>\n",
       "      <td>a Marian place of prayer and reflection</td>\n",
       "      <td>381</td>\n",
       "      <td>420</td>\n",
       "    </tr>\n",
       "    <tr>\n",
       "      <th>4</th>\n",
       "      <td>5733be284776f4190066117e</td>\n",
       "      <td>What sits on top of the Main Building at Notre...</td>\n",
       "      <td>University_of_Notre_Dame</td>\n",
       "      <td>0</td>\n",
       "      <td>Architecturally, the school has a Catholic cha...</td>\n",
       "      <td>a golden statue of the Virgin Mary</td>\n",
       "      <td>92</td>\n",
       "      <td>126</td>\n",
       "    </tr>\n",
       "    <tr>\n",
       "      <th>...</th>\n",
       "      <td>...</td>\n",
       "      <td>...</td>\n",
       "      <td>...</td>\n",
       "      <td>...</td>\n",
       "      <td>...</td>\n",
       "      <td>...</td>\n",
       "      <td>...</td>\n",
       "      <td>...</td>\n",
       "    </tr>\n",
       "    <tr>\n",
       "      <th>87594</th>\n",
       "      <td>5735d259012e2f140011a09d</td>\n",
       "      <td>In what US state did Kathmandu first establish...</td>\n",
       "      <td>Kathmandu</td>\n",
       "      <td>18890</td>\n",
       "      <td>Kathmandu Metropolitan City (KMC), in order to...</td>\n",
       "      <td>Oregon</td>\n",
       "      <td>229</td>\n",
       "      <td>235</td>\n",
       "    </tr>\n",
       "    <tr>\n",
       "      <th>87595</th>\n",
       "      <td>5735d259012e2f140011a09e</td>\n",
       "      <td>What was Yangon previously known as?</td>\n",
       "      <td>Kathmandu</td>\n",
       "      <td>18890</td>\n",
       "      <td>Kathmandu Metropolitan City (KMC), in order to...</td>\n",
       "      <td>Rangoon</td>\n",
       "      <td>414</td>\n",
       "      <td>421</td>\n",
       "    </tr>\n",
       "    <tr>\n",
       "      <th>87596</th>\n",
       "      <td>5735d259012e2f140011a09f</td>\n",
       "      <td>With what Belorussian city does Kathmandu have...</td>\n",
       "      <td>Kathmandu</td>\n",
       "      <td>18890</td>\n",
       "      <td>Kathmandu Metropolitan City (KMC), in order to...</td>\n",
       "      <td>Minsk</td>\n",
       "      <td>476</td>\n",
       "      <td>481</td>\n",
       "    </tr>\n",
       "    <tr>\n",
       "      <th>87597</th>\n",
       "      <td>5735d259012e2f140011a0a0</td>\n",
       "      <td>In what year did Kathmandu create its initial ...</td>\n",
       "      <td>Kathmandu</td>\n",
       "      <td>18890</td>\n",
       "      <td>Kathmandu Metropolitan City (KMC), in order to...</td>\n",
       "      <td>1975</td>\n",
       "      <td>199</td>\n",
       "      <td>203</td>\n",
       "    </tr>\n",
       "    <tr>\n",
       "      <th>87598</th>\n",
       "      <td>5735d259012e2f140011a0a1</td>\n",
       "      <td>What is KMC an initialism of?</td>\n",
       "      <td>Kathmandu</td>\n",
       "      <td>18890</td>\n",
       "      <td>Kathmandu Metropolitan City (KMC), in order to...</td>\n",
       "      <td>Kathmandu Metropolitan City</td>\n",
       "      <td>0</td>\n",
       "      <td>27</td>\n",
       "    </tr>\n",
       "  </tbody>\n",
       "</table>\n",
       "<p>87599 rows × 8 columns</p>\n",
       "</div>"
      ],
      "text/plain": [
       "                    question_id  \\\n",
       "0      5733be284776f41900661182   \n",
       "1      5733be284776f4190066117f   \n",
       "2      5733be284776f41900661180   \n",
       "3      5733be284776f41900661181   \n",
       "4      5733be284776f4190066117e   \n",
       "...                         ...   \n",
       "87594  5735d259012e2f140011a09d   \n",
       "87595  5735d259012e2f140011a09e   \n",
       "87596  5735d259012e2f140011a09f   \n",
       "87597  5735d259012e2f140011a0a0   \n",
       "87598  5735d259012e2f140011a0a1   \n",
       "\n",
       "                                                question  \\\n",
       "0      To whom did the Virgin Mary allegedly appear i...   \n",
       "1      What is in front of the Notre Dame Main Building?   \n",
       "2      The Basilica of the Sacred heart at Notre Dame...   \n",
       "3                      What is the Grotto at Notre Dame?   \n",
       "4      What sits on top of the Main Building at Notre...   \n",
       "...                                                  ...   \n",
       "87594  In what US state did Kathmandu first establish...   \n",
       "87595               What was Yangon previously known as?   \n",
       "87596  With what Belorussian city does Kathmandu have...   \n",
       "87597  In what year did Kathmandu create its initial ...   \n",
       "87598                      What is KMC an initialism of?   \n",
       "\n",
       "                          title  context_id  \\\n",
       "0      University_of_Notre_Dame           0   \n",
       "1      University_of_Notre_Dame           0   \n",
       "2      University_of_Notre_Dame           0   \n",
       "3      University_of_Notre_Dame           0   \n",
       "4      University_of_Notre_Dame           0   \n",
       "...                         ...         ...   \n",
       "87594                 Kathmandu       18890   \n",
       "87595                 Kathmandu       18890   \n",
       "87596                 Kathmandu       18890   \n",
       "87597                 Kathmandu       18890   \n",
       "87598                 Kathmandu       18890   \n",
       "\n",
       "                                                 context  \\\n",
       "0      Architecturally, the school has a Catholic cha...   \n",
       "1      Architecturally, the school has a Catholic cha...   \n",
       "2      Architecturally, the school has a Catholic cha...   \n",
       "3      Architecturally, the school has a Catholic cha...   \n",
       "4      Architecturally, the school has a Catholic cha...   \n",
       "...                                                  ...   \n",
       "87594  Kathmandu Metropolitan City (KMC), in order to...   \n",
       "87595  Kathmandu Metropolitan City (KMC), in order to...   \n",
       "87596  Kathmandu Metropolitan City (KMC), in order to...   \n",
       "87597  Kathmandu Metropolitan City (KMC), in order to...   \n",
       "87598  Kathmandu Metropolitan City (KMC), in order to...   \n",
       "\n",
       "                                        answer  answer_start  answer_end  \n",
       "0                   Saint Bernadette Soubirous           515         541  \n",
       "1                    a copper statue of Christ           188         213  \n",
       "2                            the Main Building           279         296  \n",
       "3      a Marian place of prayer and reflection           381         420  \n",
       "4           a golden statue of the Virgin Mary            92         126  \n",
       "...                                        ...           ...         ...  \n",
       "87594                                   Oregon           229         235  \n",
       "87595                                  Rangoon           414         421  \n",
       "87596                                    Minsk           476         481  \n",
       "87597                                     1975           199         203  \n",
       "87598              Kathmandu Metropolitan City             0          27  \n",
       "\n",
       "[87599 rows x 8 columns]"
      ]
     },
     "execution_count": 5,
     "metadata": {},
     "output_type": "execute_result"
    }
   ],
   "source": [
    "squad_dataset.raw_train_df"
   ]
  },
  {
   "cell_type": "code",
   "execution_count": 6,
   "metadata": {
    "execution": {
     "iopub.execute_input": "2021-01-16T13:05:04.665015Z",
     "iopub.status.busy": "2021-01-16T13:05:04.664595Z",
     "iopub.status.idle": "2021-01-16T13:05:04.756839Z",
     "shell.execute_reply": "2021-01-16T13:05:04.755651Z",
     "shell.execute_reply.started": "2021-01-16T13:05:04.664971Z"
    }
   },
   "outputs": [
    {
     "data": {
      "text/html": [
       "<div>\n",
       "<style scoped>\n",
       "    .dataframe tbody tr th:only-of-type {\n",
       "        vertical-align: middle;\n",
       "    }\n",
       "\n",
       "    .dataframe tbody tr th {\n",
       "        vertical-align: top;\n",
       "    }\n",
       "\n",
       "    .dataframe thead th {\n",
       "        text-align: right;\n",
       "    }\n",
       "</style>\n",
       "<table border=\"1\" class=\"dataframe\">\n",
       "  <thead>\n",
       "    <tr style=\"text-align: right;\">\n",
       "      <th></th>\n",
       "      <th>question_id</th>\n",
       "      <th>question</th>\n",
       "      <th>title</th>\n",
       "      <th>context_id</th>\n",
       "      <th>context</th>\n",
       "      <th>answer</th>\n",
       "      <th>answer_start</th>\n",
       "      <th>answer_end</th>\n",
       "    </tr>\n",
       "  </thead>\n",
       "  <tbody>\n",
       "    <tr>\n",
       "      <th>0</th>\n",
       "      <td>56be4db0acb8001400a502ec</td>\n",
       "      <td>Which NFL team represented the AFC at Super Bo...</td>\n",
       "      <td>Super_Bowl_50</td>\n",
       "      <td>0</td>\n",
       "      <td>Super Bowl 50 was an American football game to...</td>\n",
       "      <td>Denver Broncos</td>\n",
       "      <td>177</td>\n",
       "      <td>191</td>\n",
       "    </tr>\n",
       "    <tr>\n",
       "      <th>1</th>\n",
       "      <td>56be4db0acb8001400a502ed</td>\n",
       "      <td>Which NFL team represented the NFC at Super Bo...</td>\n",
       "      <td>Super_Bowl_50</td>\n",
       "      <td>0</td>\n",
       "      <td>Super Bowl 50 was an American football game to...</td>\n",
       "      <td>Carolina Panthers</td>\n",
       "      <td>249</td>\n",
       "      <td>266</td>\n",
       "    </tr>\n",
       "    <tr>\n",
       "      <th>2</th>\n",
       "      <td>56be4db0acb8001400a502ee</td>\n",
       "      <td>Where did Super Bowl 50 take place?</td>\n",
       "      <td>Super_Bowl_50</td>\n",
       "      <td>0</td>\n",
       "      <td>Super Bowl 50 was an American football game to...</td>\n",
       "      <td>Santa Clara, California</td>\n",
       "      <td>403</td>\n",
       "      <td>426</td>\n",
       "    </tr>\n",
       "    <tr>\n",
       "      <th>3</th>\n",
       "      <td>56be4db0acb8001400a502ee</td>\n",
       "      <td>Where did Super Bowl 50 take place?</td>\n",
       "      <td>Super_Bowl_50</td>\n",
       "      <td>0</td>\n",
       "      <td>Super Bowl 50 was an American football game to...</td>\n",
       "      <td>Levi's Stadium</td>\n",
       "      <td>355</td>\n",
       "      <td>369</td>\n",
       "    </tr>\n",
       "    <tr>\n",
       "      <th>4</th>\n",
       "      <td>56be4db0acb8001400a502ee</td>\n",
       "      <td>Where did Super Bowl 50 take place?</td>\n",
       "      <td>Super_Bowl_50</td>\n",
       "      <td>0</td>\n",
       "      <td>Super Bowl 50 was an American football game to...</td>\n",
       "      <td>Levi's Stadium in the San Francisco Bay Area a...</td>\n",
       "      <td>355</td>\n",
       "      <td>427</td>\n",
       "    </tr>\n",
       "    <tr>\n",
       "      <th>...</th>\n",
       "      <td>...</td>\n",
       "      <td>...</td>\n",
       "      <td>...</td>\n",
       "      <td>...</td>\n",
       "      <td>...</td>\n",
       "      <td>...</td>\n",
       "      <td>...</td>\n",
       "      <td>...</td>\n",
       "    </tr>\n",
       "    <tr>\n",
       "      <th>18211</th>\n",
       "      <td>5737aafd1c456719005744fd</td>\n",
       "      <td>What is a very seldom used unit of mass in the...</td>\n",
       "      <td>Force</td>\n",
       "      <td>2066</td>\n",
       "      <td>The pound-force has a metric counterpart, less...</td>\n",
       "      <td>slug</td>\n",
       "      <td>274</td>\n",
       "      <td>278</td>\n",
       "    </tr>\n",
       "    <tr>\n",
       "      <th>18212</th>\n",
       "      <td>5737aafd1c456719005744fd</td>\n",
       "      <td>What is a very seldom used unit of mass in the...</td>\n",
       "      <td>Force</td>\n",
       "      <td>2066</td>\n",
       "      <td>The pound-force has a metric counterpart, less...</td>\n",
       "      <td>metric slug</td>\n",
       "      <td>267</td>\n",
       "      <td>278</td>\n",
       "    </tr>\n",
       "    <tr>\n",
       "      <th>18213</th>\n",
       "      <td>5737aafd1c456719005744fd</td>\n",
       "      <td>What is a very seldom used unit of mass in the...</td>\n",
       "      <td>Force</td>\n",
       "      <td>2066</td>\n",
       "      <td>The pound-force has a metric counterpart, less...</td>\n",
       "      <td>the metric slug</td>\n",
       "      <td>263</td>\n",
       "      <td>278</td>\n",
       "    </tr>\n",
       "    <tr>\n",
       "      <th>18214</th>\n",
       "      <td>5737aafd1c456719005744fe</td>\n",
       "      <td>What seldom used term of a unit of force equal...</td>\n",
       "      <td>Force</td>\n",
       "      <td>2066</td>\n",
       "      <td>The pound-force has a metric counterpart, less...</td>\n",
       "      <td>kip</td>\n",
       "      <td>712</td>\n",
       "      <td>715</td>\n",
       "    </tr>\n",
       "    <tr>\n",
       "      <th>18215</th>\n",
       "      <td>5737aafd1c456719005744ff</td>\n",
       "      <td>What is the seldom used force unit equal to on...</td>\n",
       "      <td>Force</td>\n",
       "      <td>2066</td>\n",
       "      <td>The pound-force has a metric counterpart, less...</td>\n",
       "      <td>sthène</td>\n",
       "      <td>665</td>\n",
       "      <td>671</td>\n",
       "    </tr>\n",
       "  </tbody>\n",
       "</table>\n",
       "<p>18216 rows × 8 columns</p>\n",
       "</div>"
      ],
      "text/plain": [
       "                    question_id  \\\n",
       "0      56be4db0acb8001400a502ec   \n",
       "1      56be4db0acb8001400a502ed   \n",
       "2      56be4db0acb8001400a502ee   \n",
       "3      56be4db0acb8001400a502ee   \n",
       "4      56be4db0acb8001400a502ee   \n",
       "...                         ...   \n",
       "18211  5737aafd1c456719005744fd   \n",
       "18212  5737aafd1c456719005744fd   \n",
       "18213  5737aafd1c456719005744fd   \n",
       "18214  5737aafd1c456719005744fe   \n",
       "18215  5737aafd1c456719005744ff   \n",
       "\n",
       "                                                question          title  \\\n",
       "0      Which NFL team represented the AFC at Super Bo...  Super_Bowl_50   \n",
       "1      Which NFL team represented the NFC at Super Bo...  Super_Bowl_50   \n",
       "2                    Where did Super Bowl 50 take place?  Super_Bowl_50   \n",
       "3                    Where did Super Bowl 50 take place?  Super_Bowl_50   \n",
       "4                    Where did Super Bowl 50 take place?  Super_Bowl_50   \n",
       "...                                                  ...            ...   \n",
       "18211  What is a very seldom used unit of mass in the...          Force   \n",
       "18212  What is a very seldom used unit of mass in the...          Force   \n",
       "18213  What is a very seldom used unit of mass in the...          Force   \n",
       "18214  What seldom used term of a unit of force equal...          Force   \n",
       "18215  What is the seldom used force unit equal to on...          Force   \n",
       "\n",
       "       context_id                                            context  \\\n",
       "0               0  Super Bowl 50 was an American football game to...   \n",
       "1               0  Super Bowl 50 was an American football game to...   \n",
       "2               0  Super Bowl 50 was an American football game to...   \n",
       "3               0  Super Bowl 50 was an American football game to...   \n",
       "4               0  Super Bowl 50 was an American football game to...   \n",
       "...           ...                                                ...   \n",
       "18211        2066  The pound-force has a metric counterpart, less...   \n",
       "18212        2066  The pound-force has a metric counterpart, less...   \n",
       "18213        2066  The pound-force has a metric counterpart, less...   \n",
       "18214        2066  The pound-force has a metric counterpart, less...   \n",
       "18215        2066  The pound-force has a metric counterpart, less...   \n",
       "\n",
       "                                                  answer  answer_start  \\\n",
       "0                                         Denver Broncos           177   \n",
       "1                                      Carolina Panthers           249   \n",
       "2                                Santa Clara, California           403   \n",
       "3                                         Levi's Stadium           355   \n",
       "4      Levi's Stadium in the San Francisco Bay Area a...           355   \n",
       "...                                                  ...           ...   \n",
       "18211                                               slug           274   \n",
       "18212                                        metric slug           267   \n",
       "18213                                    the metric slug           263   \n",
       "18214                                                kip           712   \n",
       "18215                                             sthène           665   \n",
       "\n",
       "       answer_end  \n",
       "0             191  \n",
       "1             266  \n",
       "2             426  \n",
       "3             369  \n",
       "4             427  \n",
       "...           ...  \n",
       "18211         278  \n",
       "18212         278  \n",
       "18213         278  \n",
       "18214         715  \n",
       "18215         671  \n",
       "\n",
       "[18216 rows x 8 columns]"
      ]
     },
     "execution_count": 6,
     "metadata": {},
     "output_type": "execute_result"
    }
   ],
   "source": [
    "squad_dataset.raw_test_df"
   ]
  },
  {
   "cell_type": "markdown",
   "metadata": {},
   "source": [
    "### Embeddings"
   ]
  },
  {
   "cell_type": "code",
   "execution_count": 7,
   "metadata": {
    "execution": {
     "iopub.execute_input": "2021-01-16T13:05:06.968633Z",
     "iopub.status.busy": "2021-01-16T13:05:06.968210Z",
     "iopub.status.idle": "2021-01-16T13:05:07.032900Z",
     "shell.execute_reply": "2021-01-16T13:05:07.031735Z",
     "shell.execute_reply.started": "2021-01-16T13:05:06.968589Z"
    }
   },
   "outputs": [],
   "source": [
    "UNK_TOKEN = \"[UNK]\"\n",
    "PAD_TOKEN = \"[PAD]\""
   ]
  },
  {
   "cell_type": "markdown",
   "metadata": {},
   "source": [
    "- FastText: \n",
    "    - _fasttext-wiki-news-subwords_ (dimensions: 300)\n",
    "- GloVe:\n",
    "    - _glove-twitter_ (dimensions: 25. 50, 100, 200)\n",
    "    - _glove-wiki-gigaword_ (dimensions: 50, 100, 200, 300)\n",
    "- Word2Vec:\n",
    "    - _word2vec-google-news_ (dimensions: 300)\n",
    "    - _word2vec-ruscorpora_ (dimensions: 300)"
   ]
  },
  {
   "cell_type": "code",
   "execution_count": 8,
   "metadata": {
    "execution": {
     "iopub.execute_input": "2021-01-16T13:05:07.887702Z",
     "iopub.status.busy": "2021-01-16T13:05:07.887387Z",
     "iopub.status.idle": "2021-01-16T13:07:49.122618Z",
     "shell.execute_reply": "2021-01-16T13:07:49.120764Z",
     "shell.execute_reply.started": "2021-01-16T13:05:07.887665Z"
    }
   },
   "outputs": [],
   "source": [
    "# See https://github.com/RaRe-Technologies/gensim-data\n",
    "GLOVE_EMBEDDING_DIMENSION = 50\n",
    "GLOVE_MODEL_NAME = \"glove-twitter\"\n",
    "glove_embedding_model = utils.load_embedding_model(\n",
    "    GLOVE_MODEL_NAME, embedding_dimension=GLOVE_EMBEDDING_DIMENSION\n",
    ")"
   ]
  },
  {
   "cell_type": "code",
   "execution_count": 9,
   "metadata": {
    "execution": {
     "iopub.execute_input": "2021-01-16T13:10:59.922056Z",
     "iopub.status.busy": "2021-01-16T13:10:59.921642Z",
     "iopub.status.idle": "2021-01-16T13:11:00.510880Z",
     "shell.execute_reply": "2021-01-16T13:11:00.509443Z",
     "shell.execute_reply.started": "2021-01-16T13:10:59.922012Z"
    }
   },
   "outputs": [],
   "source": [
    "glove_unk = np.mean(glove_embedding_model.vectors, axis=0)\n",
    "glove_embedding_model.add(UNK_TOKEN, glove_unk)"
   ]
  },
  {
   "cell_type": "code",
   "execution_count": 10,
   "metadata": {
    "execution": {
     "iopub.execute_input": "2021-01-16T13:11:00.589484Z",
     "iopub.status.busy": "2021-01-16T13:11:00.589170Z",
     "iopub.status.idle": "2021-01-16T13:11:00.652308Z",
     "shell.execute_reply": "2021-01-16T13:11:00.651054Z",
     "shell.execute_reply.started": "2021-01-16T13:11:00.589446Z"
    }
   },
   "outputs": [
    {
     "data": {
      "text/plain": [
       "array([-0.21896735,  0.17269313, -0.05617283,  0.06307325,  0.00960657,\n",
       "       -0.23461065, -0.16731773, -0.25613925,  0.12990713, -0.34179848,\n",
       "       -0.07411992,  0.00533567,  0.7090377 , -0.1139018 ,  0.10613882,\n",
       "        0.09186497,  0.15880948,  0.03158554,  0.2241412 ,  0.20387109,\n",
       "        0.05305386,  0.04961218,  0.11807557, -0.10199773, -0.18345806,\n",
       "        0.56560194,  0.07183363,  0.04322447, -0.39442873,  0.06828266,\n",
       "        0.39542177,  0.08794834,  0.41605434, -0.27820984, -0.5106833 ,\n",
       "       -0.16443801,  0.0973425 ,  0.02233286,  0.19346187,  0.15909852,\n",
       "        0.886585  , -0.01498107,  0.10211241, -0.12959567, -0.328366  ,\n",
       "        0.13014658, -0.02061043,  0.05735753,  0.14008364,  0.22588447],\n",
       "      dtype=float32)"
      ]
     },
     "execution_count": 10,
     "metadata": {},
     "output_type": "execute_result"
    }
   ],
   "source": [
    "glove_embedding_model[UNK_TOKEN]"
   ]
  },
  {
   "cell_type": "code",
   "execution_count": 11,
   "metadata": {
    "execution": {
     "iopub.execute_input": "2021-01-16T13:11:00.983026Z",
     "iopub.status.busy": "2021-01-16T13:11:00.982680Z",
     "iopub.status.idle": "2021-01-16T13:11:01.131788Z",
     "shell.execute_reply": "2021-01-16T13:11:01.130549Z",
     "shell.execute_reply.started": "2021-01-16T13:11:00.982988Z"
    }
   },
   "outputs": [
    {
     "data": {
      "text/plain": [
       "'[UNK]'"
      ]
     },
     "execution_count": 11,
     "metadata": {},
     "output_type": "execute_result"
    }
   ],
   "source": [
    "list(glove_embedding_model.vocab.keys())[-1]"
   ]
  },
  {
   "cell_type": "code",
   "execution_count": 12,
   "metadata": {
    "execution": {
     "iopub.execute_input": "2021-01-16T13:11:01.349453Z",
     "iopub.status.busy": "2021-01-16T13:11:01.349128Z",
     "iopub.status.idle": "2021-01-16T13:11:01.581515Z",
     "shell.execute_reply": "2021-01-16T13:11:01.580323Z",
     "shell.execute_reply.started": "2021-01-16T13:11:01.349412Z"
    }
   },
   "outputs": [
    {
     "data": {
      "text/plain": [
       "False"
      ]
     },
     "execution_count": 12,
     "metadata": {},
     "output_type": "execute_result"
    }
   ],
   "source": [
    "any(np.all(glove_embedding_model.vectors == 0, axis=1))"
   ]
  },
  {
   "cell_type": "code",
   "execution_count": 13,
   "metadata": {
    "execution": {
     "iopub.execute_input": "2021-01-16T13:11:01.742689Z",
     "iopub.status.busy": "2021-01-16T13:11:01.742358Z",
     "iopub.status.idle": "2021-01-16T13:11:02.079395Z",
     "shell.execute_reply": "2021-01-16T13:11:02.078091Z",
     "shell.execute_reply.started": "2021-01-16T13:11:01.742647Z"
    }
   },
   "outputs": [
    {
     "data": {
      "text/plain": [
       "array([0., 0., 0., 0., 0., 0., 0., 0., 0., 0., 0., 0., 0., 0., 0., 0., 0.,\n",
       "       0., 0., 0., 0., 0., 0., 0., 0., 0., 0., 0., 0., 0., 0., 0., 0., 0.,\n",
       "       0., 0., 0., 0., 0., 0., 0., 0., 0., 0., 0., 0., 0., 0., 0., 0.],\n",
       "      dtype=float32)"
      ]
     },
     "execution_count": 13,
     "metadata": {},
     "output_type": "execute_result"
    }
   ],
   "source": [
    "glove_embedding_model.add(PAD_TOKEN, np.zeros((1, GLOVE_EMBEDDING_DIMENSION)))\n",
    "glove_embedding_model[PAD_TOKEN]"
   ]
  },
  {
   "cell_type": "code",
   "execution_count": 14,
   "metadata": {
    "execution": {
     "iopub.execute_input": "2021-01-16T13:11:02.604427Z",
     "iopub.status.busy": "2021-01-16T13:11:02.603988Z",
     "iopub.status.idle": "2021-01-16T13:11:02.750122Z",
     "shell.execute_reply": "2021-01-16T13:11:02.748908Z",
     "shell.execute_reply.started": "2021-01-16T13:11:02.604383Z"
    }
   },
   "outputs": [
    {
     "data": {
      "text/plain": [
       "'[PAD]'"
      ]
     },
     "execution_count": 14,
     "metadata": {},
     "output_type": "execute_result"
    }
   ],
   "source": [
    "list(glove_embedding_model.vocab.keys())[-1]"
   ]
  },
  {
   "cell_type": "code",
   "execution_count": 15,
   "metadata": {
    "execution": {
     "iopub.execute_input": "2021-01-16T13:11:02.918473Z",
     "iopub.status.busy": "2021-01-16T13:11:02.918139Z",
     "iopub.status.idle": "2021-01-16T13:11:02.979642Z",
     "shell.execute_reply": "2021-01-16T13:11:02.978454Z",
     "shell.execute_reply.started": "2021-01-16T13:11:02.918435Z"
    }
   },
   "outputs": [
    {
     "data": {
      "text/plain": [
       "(1193516, 50)"
      ]
     },
     "execution_count": 15,
     "metadata": {},
     "output_type": "execute_result"
    }
   ],
   "source": [
    "glove_embedding_model.vectors.shape"
   ]
  },
  {
   "cell_type": "code",
   "execution_count": 16,
   "metadata": {
    "execution": {
     "iopub.execute_input": "2021-01-16T13:11:03.624999Z",
     "iopub.status.busy": "2021-01-16T13:11:03.624685Z",
     "iopub.status.idle": "2021-01-16T13:11:04.247193Z",
     "shell.execute_reply": "2021-01-16T13:11:04.245705Z",
     "shell.execute_reply.started": "2021-01-16T13:11:03.624960Z"
    }
   },
   "outputs": [],
   "source": [
    "glove_vocab = dict(\n",
    "    zip(glove_embedding_model.index2word, range(len(glove_embedding_model.index2word)))\n",
    ")"
   ]
  },
  {
   "cell_type": "code",
   "execution_count": 17,
   "metadata": {
    "execution": {
     "iopub.execute_input": "2021-01-16T13:11:06.213535Z",
     "iopub.status.busy": "2021-01-16T13:11:06.213215Z",
     "iopub.status.idle": "2021-01-16T13:11:08.972585Z",
     "shell.execute_reply": "2021-01-16T13:11:08.971044Z",
     "shell.execute_reply.started": "2021-01-16T13:11:06.213494Z"
    }
   },
   "outputs": [],
   "source": [
    "glove_embedding_layer = nn.Embedding(\n",
    "    glove_embedding_model.vectors.shape[0],\n",
    "    GLOVE_EMBEDDING_DIMENSION,\n",
    "    padding_idx=glove_vocab[PAD_TOKEN],\n",
    ")\n",
    "glove_embedding_layer.weight = nn.Parameter(\n",
    "    torch.from_numpy(glove_embedding_model.vectors)\n",
    ")\n",
    "glove_embedding_layer.weight.requires_grad = False"
   ]
  },
  {
   "cell_type": "markdown",
   "metadata": {},
   "source": [
    "### Standard tokenizer and preprocessing"
   ]
  },
  {
   "cell_type": "code",
   "execution_count": 18,
   "metadata": {
    "execution": {
     "iopub.execute_input": "2021-01-16T13:11:10.936572Z",
     "iopub.status.busy": "2021-01-16T13:11:10.936253Z",
     "iopub.status.idle": "2021-01-16T13:11:11.003491Z",
     "shell.execute_reply": "2021-01-16T13:11:11.002160Z",
     "shell.execute_reply.started": "2021-01-16T13:11:10.936531Z"
    }
   },
   "outputs": [],
   "source": [
    "MAX_CONTEXT_TOKENS = 300"
   ]
  },
  {
   "cell_type": "code",
   "execution_count": 351,
   "metadata": {
    "execution": {
     "iopub.execute_input": "2021-01-16T16:03:04.081920Z",
     "iopub.status.busy": "2021-01-16T16:03:04.081598Z",
     "iopub.status.idle": "2021-01-16T16:03:07.686368Z",
     "shell.execute_reply": "2021-01-16T16:03:07.684832Z",
     "shell.execute_reply.started": "2021-01-16T16:03:04.081879Z"
    }
   },
   "outputs": [],
   "source": [
    "standard_question_tokenizer = Tokenizer(WordLevel(glove_vocab, unk_token=UNK_TOKEN))\n",
    "standard_question_tokenizer.normalizer = Sequence(\n",
    "    [StripAccents(), Lowercase(), Strip()]\n",
    ")\n",
    "standard_question_tokenizer.pre_tokenizer = PreSequence([Whitespace(), Punctuation()])\n",
    "standard_question_tokenizer.enable_padding(\n",
    "    direction=\"right\", pad_id=glove_vocab[PAD_TOKEN], pad_type_id=1, pad_token=PAD_TOKEN\n",
    ")\n",
    "\n",
    "standard_context_tokenizer = Tokenizer(WordLevel(glove_vocab, unk_token=UNK_TOKEN))\n",
    "standard_context_tokenizer.normalizer = Sequence([StripAccents(), Lowercase(), Strip()])\n",
    "standard_context_tokenizer.pre_tokenizer = PreSequence([Whitespace(), Punctuation()])\n",
    "standard_context_tokenizer.enable_padding(\n",
    "    direction=\"right\",\n",
    "    pad_id=glove_vocab[PAD_TOKEN],\n",
    "    pad_type_id=1,\n",
    "    pad_token=PAD_TOKEN,\n",
    "    length=MAX_CONTEXT_TOKENS,\n",
    ")\n",
    "standard_context_tokenizer.enable_truncation(MAX_CONTEXT_TOKENS)"
   ]
  },
  {
   "cell_type": "code",
   "execution_count": 352,
   "metadata": {
    "execution": {
     "iopub.execute_input": "2021-01-16T16:03:07.689478Z",
     "iopub.status.busy": "2021-01-16T16:03:07.689161Z",
     "iopub.status.idle": "2021-01-16T16:03:07.758349Z",
     "shell.execute_reply": "2021-01-16T16:03:07.756899Z",
     "shell.execute_reply.started": "2021-01-16T16:03:07.689438Z"
    }
   },
   "outputs": [],
   "source": [
    "standard_tokenizer = dataset.StandardSquadTokenizer(\n",
    "    standard_question_tokenizer, standard_context_tokenizer\n",
    ")"
   ]
  },
  {
   "cell_type": "code",
   "execution_count": 353,
   "metadata": {
    "execution": {
     "iopub.execute_input": "2021-01-16T16:03:07.760609Z",
     "iopub.status.busy": "2021-01-16T16:03:07.760299Z",
     "iopub.status.idle": "2021-01-16T16:04:21.297887Z",
     "shell.execute_reply": "2021-01-16T16:04:21.295893Z",
     "shell.execute_reply.started": "2021-01-16T16:03:07.760571Z"
    }
   },
   "outputs": [],
   "source": [
    "standard_dm = dataset.SquadDataManager(squad_dataset, standard_tokenizer)"
   ]
  },
  {
   "cell_type": "code",
   "execution_count": 354,
   "metadata": {
    "execution": {
     "iopub.execute_input": "2021-01-16T16:04:21.300895Z",
     "iopub.status.busy": "2021-01-16T16:04:21.300545Z",
     "iopub.status.idle": "2021-01-16T16:04:21.429293Z",
     "shell.execute_reply": "2021-01-16T16:04:21.428244Z",
     "shell.execute_reply.started": "2021-01-16T16:04:21.300853Z"
    }
   },
   "outputs": [
    {
     "data": {
      "text/html": [
       "<div>\n",
       "<style scoped>\n",
       "    .dataframe tbody tr th:only-of-type {\n",
       "        vertical-align: middle;\n",
       "    }\n",
       "\n",
       "    .dataframe tbody tr th {\n",
       "        vertical-align: top;\n",
       "    }\n",
       "\n",
       "    .dataframe thead th {\n",
       "        text-align: right;\n",
       "    }\n",
       "</style>\n",
       "<table border=\"1\" class=\"dataframe\">\n",
       "  <thead>\n",
       "    <tr style=\"text-align: right;\">\n",
       "      <th></th>\n",
       "      <th>question_id</th>\n",
       "      <th>question</th>\n",
       "      <th>title</th>\n",
       "      <th>context_id</th>\n",
       "      <th>context</th>\n",
       "      <th>answer</th>\n",
       "      <th>answer_start</th>\n",
       "      <th>answer_end</th>\n",
       "    </tr>\n",
       "  </thead>\n",
       "  <tbody>\n",
       "    <tr>\n",
       "      <th>0</th>\n",
       "      <td>56cc239e6d243a140015eeb7</td>\n",
       "      <td>Who were Wang Jiawei and Nyima Gyaincain?</td>\n",
       "      <td>Sino-Tibetan_relations_during_the_Ming_dynasty</td>\n",
       "      <td>299</td>\n",
       "      <td>The exact nature of relations between Tibet an...</td>\n",
       "      <td>[Mainland Chinese scholars]</td>\n",
       "      <td>[274]</td>\n",
       "      <td>[299]</td>\n",
       "    </tr>\n",
       "    <tr>\n",
       "      <th>1</th>\n",
       "      <td>56cc27346d243a140015eeba</td>\n",
       "      <td>What important trade did the Ming Dynasty have...</td>\n",
       "      <td>Sino-Tibetan_relations_during_the_Ming_dynasty</td>\n",
       "      <td>300</td>\n",
       "      <td>Some scholars note that Tibetan leaders during...</td>\n",
       "      <td>[horse trade]</td>\n",
       "      <td>[338]</td>\n",
       "      <td>[349]</td>\n",
       "    </tr>\n",
       "    <tr>\n",
       "      <th>2</th>\n",
       "      <td>56cc27346d243a140015eebb</td>\n",
       "      <td>During what years did the Mongol leader Kublai...</td>\n",
       "      <td>Sino-Tibetan_relations_during_the_Ming_dynasty</td>\n",
       "      <td>300</td>\n",
       "      <td>Some scholars note that Tibetan leaders during...</td>\n",
       "      <td>[1402–1424]</td>\n",
       "      <td>[739]</td>\n",
       "      <td>[748]</td>\n",
       "    </tr>\n",
       "    <tr>\n",
       "      <th>3</th>\n",
       "      <td>56cc27346d243a140015eebc</td>\n",
       "      <td>Who did the Yongle Emperor try to build a reli...</td>\n",
       "      <td>Sino-Tibetan_relations_during_the_Ming_dynasty</td>\n",
       "      <td>300</td>\n",
       "      <td>Some scholars note that Tibetan leaders during...</td>\n",
       "      <td>[Deshin Shekpa]</td>\n",
       "      <td>[821]</td>\n",
       "      <td>[834]</td>\n",
       "    </tr>\n",
       "    <tr>\n",
       "      <th>4</th>\n",
       "      <td>56cc27346d243a140015eebd</td>\n",
       "      <td>Deshin Shekpa was the head of what school?</td>\n",
       "      <td>Sino-Tibetan_relations_during_the_Ming_dynasty</td>\n",
       "      <td>300</td>\n",
       "      <td>Some scholars note that Tibetan leaders during...</td>\n",
       "      <td>[the Karma Kagyu school]</td>\n",
       "      <td>[863]</td>\n",
       "      <td>[885]</td>\n",
       "    </tr>\n",
       "    <tr>\n",
       "      <th>...</th>\n",
       "      <td>...</td>\n",
       "      <td>...</td>\n",
       "      <td>...</td>\n",
       "      <td>...</td>\n",
       "      <td>...</td>\n",
       "      <td>...</td>\n",
       "      <td>...</td>\n",
       "      <td>...</td>\n",
       "    </tr>\n",
       "    <tr>\n",
       "      <th>69864</th>\n",
       "      <td>573636bf9c79961900ff7e06</td>\n",
       "      <td>What Botswana was resently forced to do?</td>\n",
       "      <td>Hunting</td>\n",
       "      <td>18832</td>\n",
       "      <td>In contrast, Botswana has recently been forced...</td>\n",
       "      <td>[ban trophy hunting]</td>\n",
       "      <td>[50]</td>\n",
       "      <td>[68]</td>\n",
       "    </tr>\n",
       "    <tr>\n",
       "      <th>69865</th>\n",
       "      <td>573636bf9c79961900ff7e07</td>\n",
       "      <td>What animal declined across Botswana?</td>\n",
       "      <td>Hunting</td>\n",
       "      <td>18832</td>\n",
       "      <td>In contrast, Botswana has recently been forced...</td>\n",
       "      <td>[antelope]</td>\n",
       "      <td>[126]</td>\n",
       "      <td>[134]</td>\n",
       "    </tr>\n",
       "    <tr>\n",
       "      <th>69866</th>\n",
       "      <td>573636bf9c79961900ff7e08</td>\n",
       "      <td>What animal numbers have increased in Botswana?</td>\n",
       "      <td>Hunting</td>\n",
       "      <td>18832</td>\n",
       "      <td>In contrast, Botswana has recently been forced...</td>\n",
       "      <td>[hippopotamus]</td>\n",
       "      <td>[251]</td>\n",
       "      <td>[263]</td>\n",
       "    </tr>\n",
       "    <tr>\n",
       "      <th>69867</th>\n",
       "      <td>573636bf9c79961900ff7e09</td>\n",
       "      <td>What animal numbers remain stable in Botswana?</td>\n",
       "      <td>Hunting</td>\n",
       "      <td>18832</td>\n",
       "      <td>In contrast, Botswana has recently been forced...</td>\n",
       "      <td>[elephant]</td>\n",
       "      <td>[214]</td>\n",
       "      <td>[222]</td>\n",
       "    </tr>\n",
       "    <tr>\n",
       "      <th>69868</th>\n",
       "      <td>573636bf9c79961900ff7e0a</td>\n",
       "      <td>What else is partly to blame for the declining...</td>\n",
       "      <td>Hunting</td>\n",
       "      <td>18832</td>\n",
       "      <td>In contrast, Botswana has recently been forced...</td>\n",
       "      <td>[poaching]</td>\n",
       "      <td>[404]</td>\n",
       "      <td>[412]</td>\n",
       "    </tr>\n",
       "  </tbody>\n",
       "</table>\n",
       "<p>69869 rows × 8 columns</p>\n",
       "</div>"
      ],
      "text/plain": [
       "                    question_id  \\\n",
       "0      56cc239e6d243a140015eeb7   \n",
       "1      56cc27346d243a140015eeba   \n",
       "2      56cc27346d243a140015eebb   \n",
       "3      56cc27346d243a140015eebc   \n",
       "4      56cc27346d243a140015eebd   \n",
       "...                         ...   \n",
       "69864  573636bf9c79961900ff7e06   \n",
       "69865  573636bf9c79961900ff7e07   \n",
       "69866  573636bf9c79961900ff7e08   \n",
       "69867  573636bf9c79961900ff7e09   \n",
       "69868  573636bf9c79961900ff7e0a   \n",
       "\n",
       "                                                question  \\\n",
       "0              Who were Wang Jiawei and Nyima Gyaincain?   \n",
       "1      What important trade did the Ming Dynasty have...   \n",
       "2      During what years did the Mongol leader Kublai...   \n",
       "3      Who did the Yongle Emperor try to build a reli...   \n",
       "4             Deshin Shekpa was the head of what school?   \n",
       "...                                                  ...   \n",
       "69864           What Botswana was resently forced to do?   \n",
       "69865              What animal declined across Botswana?   \n",
       "69866    What animal numbers have increased in Botswana?   \n",
       "69867     What animal numbers remain stable in Botswana?   \n",
       "69868  What else is partly to blame for the declining...   \n",
       "\n",
       "                                                title  context_id  \\\n",
       "0      Sino-Tibetan_relations_during_the_Ming_dynasty         299   \n",
       "1      Sino-Tibetan_relations_during_the_Ming_dynasty         300   \n",
       "2      Sino-Tibetan_relations_during_the_Ming_dynasty         300   \n",
       "3      Sino-Tibetan_relations_during_the_Ming_dynasty         300   \n",
       "4      Sino-Tibetan_relations_during_the_Ming_dynasty         300   \n",
       "...                                               ...         ...   \n",
       "69864                                         Hunting       18832   \n",
       "69865                                         Hunting       18832   \n",
       "69866                                         Hunting       18832   \n",
       "69867                                         Hunting       18832   \n",
       "69868                                         Hunting       18832   \n",
       "\n",
       "                                                 context  \\\n",
       "0      The exact nature of relations between Tibet an...   \n",
       "1      Some scholars note that Tibetan leaders during...   \n",
       "2      Some scholars note that Tibetan leaders during...   \n",
       "3      Some scholars note that Tibetan leaders during...   \n",
       "4      Some scholars note that Tibetan leaders during...   \n",
       "...                                                  ...   \n",
       "69864  In contrast, Botswana has recently been forced...   \n",
       "69865  In contrast, Botswana has recently been forced...   \n",
       "69866  In contrast, Botswana has recently been forced...   \n",
       "69867  In contrast, Botswana has recently been forced...   \n",
       "69868  In contrast, Botswana has recently been forced...   \n",
       "\n",
       "                            answer answer_start answer_end  \n",
       "0      [Mainland Chinese scholars]        [274]      [299]  \n",
       "1                    [horse trade]        [338]      [349]  \n",
       "2                      [1402–1424]        [739]      [748]  \n",
       "3                  [Deshin Shekpa]        [821]      [834]  \n",
       "4         [the Karma Kagyu school]        [863]      [885]  \n",
       "...                            ...          ...        ...  \n",
       "69864         [ban trophy hunting]         [50]       [68]  \n",
       "69865                   [antelope]        [126]      [134]  \n",
       "69866               [hippopotamus]        [251]      [263]  \n",
       "69867                   [elephant]        [214]      [222]  \n",
       "69868                   [poaching]        [404]      [412]  \n",
       "\n",
       "[69869 rows x 8 columns]"
      ]
     },
     "execution_count": 354,
     "metadata": {},
     "output_type": "execute_result"
    }
   ],
   "source": [
    "standard_dm.train_df"
   ]
  },
  {
   "cell_type": "code",
   "execution_count": 355,
   "metadata": {
    "execution": {
     "iopub.execute_input": "2021-01-16T16:04:21.430987Z",
     "iopub.status.busy": "2021-01-16T16:04:21.430674Z",
     "iopub.status.idle": "2021-01-16T16:04:21.530643Z",
     "shell.execute_reply": "2021-01-16T16:04:21.529384Z",
     "shell.execute_reply.started": "2021-01-16T16:04:21.430949Z"
    }
   },
   "outputs": [
    {
     "data": {
      "text/html": [
       "<div>\n",
       "<style scoped>\n",
       "    .dataframe tbody tr th:only-of-type {\n",
       "        vertical-align: middle;\n",
       "    }\n",
       "\n",
       "    .dataframe tbody tr th {\n",
       "        vertical-align: top;\n",
       "    }\n",
       "\n",
       "    .dataframe thead th {\n",
       "        text-align: right;\n",
       "    }\n",
       "</style>\n",
       "<table border=\"1\" class=\"dataframe\">\n",
       "  <thead>\n",
       "    <tr style=\"text-align: right;\">\n",
       "      <th></th>\n",
       "      <th>question_id</th>\n",
       "      <th>question</th>\n",
       "      <th>title</th>\n",
       "      <th>context_id</th>\n",
       "      <th>context</th>\n",
       "      <th>answer</th>\n",
       "      <th>answer_start</th>\n",
       "      <th>answer_end</th>\n",
       "    </tr>\n",
       "  </thead>\n",
       "  <tbody>\n",
       "    <tr>\n",
       "      <th>0</th>\n",
       "      <td>56be85543aeaaa14008c9063</td>\n",
       "      <td>When did Beyonce start becoming popular?</td>\n",
       "      <td>Beyoncé</td>\n",
       "      <td>55</td>\n",
       "      <td>Beyoncé Giselle Knowles-Carter (/biːˈjɒnseɪ/ b...</td>\n",
       "      <td>[in the late 1990s]</td>\n",
       "      <td>[269]</td>\n",
       "      <td>[286]</td>\n",
       "    </tr>\n",
       "    <tr>\n",
       "      <th>1</th>\n",
       "      <td>56be85543aeaaa14008c9065</td>\n",
       "      <td>What areas did Beyonce compete in when she was...</td>\n",
       "      <td>Beyoncé</td>\n",
       "      <td>55</td>\n",
       "      <td>Beyoncé Giselle Knowles-Carter (/biːˈjɒnseɪ/ b...</td>\n",
       "      <td>[singing and dancing]</td>\n",
       "      <td>[207]</td>\n",
       "      <td>[226]</td>\n",
       "    </tr>\n",
       "    <tr>\n",
       "      <th>2</th>\n",
       "      <td>56be85543aeaaa14008c9066</td>\n",
       "      <td>When did Beyonce leave Destiny's Child and bec...</td>\n",
       "      <td>Beyoncé</td>\n",
       "      <td>55</td>\n",
       "      <td>Beyoncé Giselle Knowles-Carter (/biːˈjɒnseɪ/ b...</td>\n",
       "      <td>[2003]</td>\n",
       "      <td>[526]</td>\n",
       "      <td>[530]</td>\n",
       "    </tr>\n",
       "    <tr>\n",
       "      <th>3</th>\n",
       "      <td>56be86cf3aeaaa14008c9076</td>\n",
       "      <td>After her second solo album, what other entert...</td>\n",
       "      <td>Beyoncé</td>\n",
       "      <td>56</td>\n",
       "      <td>Following the disbandment of Destiny's Child i...</td>\n",
       "      <td>[acting]</td>\n",
       "      <td>[207]</td>\n",
       "      <td>[213]</td>\n",
       "    </tr>\n",
       "    <tr>\n",
       "      <th>4</th>\n",
       "      <td>56be86cf3aeaaa14008c9078</td>\n",
       "      <td>Which artist did Beyonce marry?</td>\n",
       "      <td>Beyoncé</td>\n",
       "      <td>56</td>\n",
       "      <td>Following the disbandment of Destiny's Child i...</td>\n",
       "      <td>[Jay Z]</td>\n",
       "      <td>[369]</td>\n",
       "      <td>[374]</td>\n",
       "    </tr>\n",
       "    <tr>\n",
       "      <th>...</th>\n",
       "      <td>...</td>\n",
       "      <td>...</td>\n",
       "      <td>...</td>\n",
       "      <td>...</td>\n",
       "      <td>...</td>\n",
       "      <td>...</td>\n",
       "      <td>...</td>\n",
       "      <td>...</td>\n",
       "    </tr>\n",
       "    <tr>\n",
       "      <th>17282</th>\n",
       "      <td>573445bbacc1501500babd6d</td>\n",
       "      <td>Why is cycling popular in Tucson?</td>\n",
       "      <td>Tucson,_Arizona</td>\n",
       "      <td>16649</td>\n",
       "      <td>Cycling is popular in Tucson due to its flat t...</td>\n",
       "      <td>[its flat terrain and dry climate]</td>\n",
       "      <td>[36]</td>\n",
       "      <td>[68]</td>\n",
       "    </tr>\n",
       "    <tr>\n",
       "      <th>17283</th>\n",
       "      <td>573445bbacc1501500babd6e</td>\n",
       "      <td>What is The Loop?</td>\n",
       "      <td>Tucson,_Arizona</td>\n",
       "      <td>16649</td>\n",
       "      <td>Cycling is popular in Tucson due to its flat t...</td>\n",
       "      <td>[a network of seven linear parks]</td>\n",
       "      <td>[254]</td>\n",
       "      <td>[285]</td>\n",
       "    </tr>\n",
       "    <tr>\n",
       "      <th>17284</th>\n",
       "      <td>573445bbacc1501500babd6f</td>\n",
       "      <td>How many miles of trails are in The Loop?</td>\n",
       "      <td>Tucson,_Arizona</td>\n",
       "      <td>16649</td>\n",
       "      <td>Cycling is popular in Tucson due to its flat t...</td>\n",
       "      <td>[over 100]</td>\n",
       "      <td>[297]</td>\n",
       "      <td>[305]</td>\n",
       "    </tr>\n",
       "    <tr>\n",
       "      <th>17285</th>\n",
       "      <td>573445bbacc1501500babd70</td>\n",
       "      <td>What organization advises the Tucson governmen...</td>\n",
       "      <td>Tucson,_Arizona</td>\n",
       "      <td>16649</td>\n",
       "      <td>Cycling is popular in Tucson due to its flat t...</td>\n",
       "      <td>[Tucson-Pima County Bicycle Advisory Committee]</td>\n",
       "      <td>[429]</td>\n",
       "      <td>[474]</td>\n",
       "    </tr>\n",
       "    <tr>\n",
       "      <th>17286</th>\n",
       "      <td>573445bbacc1501500babd71</td>\n",
       "      <td>What kind of places to ride bikes does Tucson ...</td>\n",
       "      <td>Tucson,_Arizona</td>\n",
       "      <td>16649</td>\n",
       "      <td>Cycling is popular in Tucson due to its flat t...</td>\n",
       "      <td>[marked bike routes, signal crossings, on-stre...</td>\n",
       "      <td>[126]</td>\n",
       "      <td>[240]</td>\n",
       "    </tr>\n",
       "  </tbody>\n",
       "</table>\n",
       "<p>17287 rows × 8 columns</p>\n",
       "</div>"
      ],
      "text/plain": [
       "                    question_id  \\\n",
       "0      56be85543aeaaa14008c9063   \n",
       "1      56be85543aeaaa14008c9065   \n",
       "2      56be85543aeaaa14008c9066   \n",
       "3      56be86cf3aeaaa14008c9076   \n",
       "4      56be86cf3aeaaa14008c9078   \n",
       "...                         ...   \n",
       "17282  573445bbacc1501500babd6d   \n",
       "17283  573445bbacc1501500babd6e   \n",
       "17284  573445bbacc1501500babd6f   \n",
       "17285  573445bbacc1501500babd70   \n",
       "17286  573445bbacc1501500babd71   \n",
       "\n",
       "                                                question            title  \\\n",
       "0               When did Beyonce start becoming popular?          Beyoncé   \n",
       "1      What areas did Beyonce compete in when she was...          Beyoncé   \n",
       "2      When did Beyonce leave Destiny's Child and bec...          Beyoncé   \n",
       "3      After her second solo album, what other entert...          Beyoncé   \n",
       "4                        Which artist did Beyonce marry?          Beyoncé   \n",
       "...                                                  ...              ...   \n",
       "17282                  Why is cycling popular in Tucson?  Tucson,_Arizona   \n",
       "17283                                  What is The Loop?  Tucson,_Arizona   \n",
       "17284          How many miles of trails are in The Loop?  Tucson,_Arizona   \n",
       "17285  What organization advises the Tucson governmen...  Tucson,_Arizona   \n",
       "17286  What kind of places to ride bikes does Tucson ...  Tucson,_Arizona   \n",
       "\n",
       "       context_id                                            context  \\\n",
       "0              55  Beyoncé Giselle Knowles-Carter (/biːˈjɒnseɪ/ b...   \n",
       "1              55  Beyoncé Giselle Knowles-Carter (/biːˈjɒnseɪ/ b...   \n",
       "2              55  Beyoncé Giselle Knowles-Carter (/biːˈjɒnseɪ/ b...   \n",
       "3              56  Following the disbandment of Destiny's Child i...   \n",
       "4              56  Following the disbandment of Destiny's Child i...   \n",
       "...           ...                                                ...   \n",
       "17282       16649  Cycling is popular in Tucson due to its flat t...   \n",
       "17283       16649  Cycling is popular in Tucson due to its flat t...   \n",
       "17284       16649  Cycling is popular in Tucson due to its flat t...   \n",
       "17285       16649  Cycling is popular in Tucson due to its flat t...   \n",
       "17286       16649  Cycling is popular in Tucson due to its flat t...   \n",
       "\n",
       "                                                  answer answer_start  \\\n",
       "0                                    [in the late 1990s]        [269]   \n",
       "1                                  [singing and dancing]        [207]   \n",
       "2                                                 [2003]        [526]   \n",
       "3                                               [acting]        [207]   \n",
       "4                                                [Jay Z]        [369]   \n",
       "...                                                  ...          ...   \n",
       "17282                 [its flat terrain and dry climate]         [36]   \n",
       "17283                  [a network of seven linear parks]        [254]   \n",
       "17284                                         [over 100]        [297]   \n",
       "17285    [Tucson-Pima County Bicycle Advisory Committee]        [429]   \n",
       "17286  [marked bike routes, signal crossings, on-stre...        [126]   \n",
       "\n",
       "      answer_end  \n",
       "0          [286]  \n",
       "1          [226]  \n",
       "2          [530]  \n",
       "3          [213]  \n",
       "4          [374]  \n",
       "...          ...  \n",
       "17282       [68]  \n",
       "17283      [285]  \n",
       "17284      [305]  \n",
       "17285      [474]  \n",
       "17286      [240]  \n",
       "\n",
       "[17287 rows x 8 columns]"
      ]
     },
     "execution_count": 355,
     "metadata": {},
     "output_type": "execute_result"
    }
   ],
   "source": [
    "standard_dm.val_df"
   ]
  },
  {
   "cell_type": "code",
   "execution_count": 356,
   "metadata": {
    "execution": {
     "iopub.execute_input": "2021-01-16T16:04:21.532467Z",
     "iopub.status.busy": "2021-01-16T16:04:21.532156Z",
     "iopub.status.idle": "2021-01-16T16:04:21.633607Z",
     "shell.execute_reply": "2021-01-16T16:04:21.632536Z",
     "shell.execute_reply.started": "2021-01-16T16:04:21.532429Z"
    }
   },
   "outputs": [
    {
     "data": {
      "text/html": [
       "<div>\n",
       "<style scoped>\n",
       "    .dataframe tbody tr th:only-of-type {\n",
       "        vertical-align: middle;\n",
       "    }\n",
       "\n",
       "    .dataframe tbody tr th {\n",
       "        vertical-align: top;\n",
       "    }\n",
       "\n",
       "    .dataframe thead th {\n",
       "        text-align: right;\n",
       "    }\n",
       "</style>\n",
       "<table border=\"1\" class=\"dataframe\">\n",
       "  <thead>\n",
       "    <tr style=\"text-align: right;\">\n",
       "      <th></th>\n",
       "      <th>question_id</th>\n",
       "      <th>question</th>\n",
       "      <th>title</th>\n",
       "      <th>context_id</th>\n",
       "      <th>context</th>\n",
       "      <th>answer</th>\n",
       "      <th>answer_start</th>\n",
       "      <th>answer_end</th>\n",
       "    </tr>\n",
       "  </thead>\n",
       "  <tbody>\n",
       "    <tr>\n",
       "      <th>0</th>\n",
       "      <td>56be4db0acb8001400a502ec</td>\n",
       "      <td>Which NFL team represented the AFC at Super Bo...</td>\n",
       "      <td>Super_Bowl_50</td>\n",
       "      <td>0</td>\n",
       "      <td>Super Bowl 50 was an American football game to...</td>\n",
       "      <td>[Denver Broncos]</td>\n",
       "      <td>[177]</td>\n",
       "      <td>[191]</td>\n",
       "    </tr>\n",
       "    <tr>\n",
       "      <th>1</th>\n",
       "      <td>56be4db0acb8001400a502ed</td>\n",
       "      <td>Which NFL team represented the NFC at Super Bo...</td>\n",
       "      <td>Super_Bowl_50</td>\n",
       "      <td>0</td>\n",
       "      <td>Super Bowl 50 was an American football game to...</td>\n",
       "      <td>[Carolina Panthers]</td>\n",
       "      <td>[249]</td>\n",
       "      <td>[266]</td>\n",
       "    </tr>\n",
       "    <tr>\n",
       "      <th>2</th>\n",
       "      <td>56be4db0acb8001400a502ee</td>\n",
       "      <td>Where did Super Bowl 50 take place?</td>\n",
       "      <td>Super_Bowl_50</td>\n",
       "      <td>0</td>\n",
       "      <td>Super Bowl 50 was an American football game to...</td>\n",
       "      <td>[Santa Clara, California, Levi's Stadium, Levi...</td>\n",
       "      <td>[403, 355, 355]</td>\n",
       "      <td>[426, 369, 427]</td>\n",
       "    </tr>\n",
       "    <tr>\n",
       "      <th>3</th>\n",
       "      <td>56be4db0acb8001400a502ef</td>\n",
       "      <td>Which NFL team won Super Bowl 50?</td>\n",
       "      <td>Super_Bowl_50</td>\n",
       "      <td>0</td>\n",
       "      <td>Super Bowl 50 was an American football game to...</td>\n",
       "      <td>[Denver Broncos]</td>\n",
       "      <td>[177]</td>\n",
       "      <td>[191]</td>\n",
       "    </tr>\n",
       "    <tr>\n",
       "      <th>4</th>\n",
       "      <td>56be4db0acb8001400a502f0</td>\n",
       "      <td>What color was used to emphasize the 50th anni...</td>\n",
       "      <td>Super_Bowl_50</td>\n",
       "      <td>0</td>\n",
       "      <td>Super Bowl 50 was an American football game to...</td>\n",
       "      <td>[gold]</td>\n",
       "      <td>[521]</td>\n",
       "      <td>[525]</td>\n",
       "    </tr>\n",
       "    <tr>\n",
       "      <th>...</th>\n",
       "      <td>...</td>\n",
       "      <td>...</td>\n",
       "      <td>...</td>\n",
       "      <td>...</td>\n",
       "      <td>...</td>\n",
       "      <td>...</td>\n",
       "      <td>...</td>\n",
       "      <td>...</td>\n",
       "    </tr>\n",
       "    <tr>\n",
       "      <th>10525</th>\n",
       "      <td>5737aafd1c456719005744fb</td>\n",
       "      <td>What is the metric term less used than the New...</td>\n",
       "      <td>Force</td>\n",
       "      <td>2066</td>\n",
       "      <td>The pound-force has a metric counterpart, less...</td>\n",
       "      <td>[kilogram-force, pound-force, kilogram-force (...</td>\n",
       "      <td>[82, 4, 82, 78]</td>\n",
       "      <td>[96, 15, 102, 98]</td>\n",
       "    </tr>\n",
       "    <tr>\n",
       "      <th>10526</th>\n",
       "      <td>5737aafd1c456719005744fc</td>\n",
       "      <td>What is the kilogram-force sometimes reffered ...</td>\n",
       "      <td>Force</td>\n",
       "      <td>2066</td>\n",
       "      <td>The pound-force has a metric counterpart, less...</td>\n",
       "      <td>[kilopond]</td>\n",
       "      <td>[114]</td>\n",
       "      <td>[122]</td>\n",
       "    </tr>\n",
       "    <tr>\n",
       "      <th>10527</th>\n",
       "      <td>5737aafd1c456719005744fd</td>\n",
       "      <td>What is a very seldom used unit of mass in the...</td>\n",
       "      <td>Force</td>\n",
       "      <td>2066</td>\n",
       "      <td>The pound-force has a metric counterpart, less...</td>\n",
       "      <td>[slug, metric slug, the metric slug]</td>\n",
       "      <td>[274, 267, 263]</td>\n",
       "      <td>[278, 278, 278]</td>\n",
       "    </tr>\n",
       "    <tr>\n",
       "      <th>10528</th>\n",
       "      <td>5737aafd1c456719005744fe</td>\n",
       "      <td>What seldom used term of a unit of force equal...</td>\n",
       "      <td>Force</td>\n",
       "      <td>2066</td>\n",
       "      <td>The pound-force has a metric counterpart, less...</td>\n",
       "      <td>[kip]</td>\n",
       "      <td>[712]</td>\n",
       "      <td>[715]</td>\n",
       "    </tr>\n",
       "    <tr>\n",
       "      <th>10529</th>\n",
       "      <td>5737aafd1c456719005744ff</td>\n",
       "      <td>What is the seldom used force unit equal to on...</td>\n",
       "      <td>Force</td>\n",
       "      <td>2066</td>\n",
       "      <td>The pound-force has a metric counterpart, less...</td>\n",
       "      <td>[sthène]</td>\n",
       "      <td>[665]</td>\n",
       "      <td>[671]</td>\n",
       "    </tr>\n",
       "  </tbody>\n",
       "</table>\n",
       "<p>10530 rows × 8 columns</p>\n",
       "</div>"
      ],
      "text/plain": [
       "                    question_id  \\\n",
       "0      56be4db0acb8001400a502ec   \n",
       "1      56be4db0acb8001400a502ed   \n",
       "2      56be4db0acb8001400a502ee   \n",
       "3      56be4db0acb8001400a502ef   \n",
       "4      56be4db0acb8001400a502f0   \n",
       "...                         ...   \n",
       "10525  5737aafd1c456719005744fb   \n",
       "10526  5737aafd1c456719005744fc   \n",
       "10527  5737aafd1c456719005744fd   \n",
       "10528  5737aafd1c456719005744fe   \n",
       "10529  5737aafd1c456719005744ff   \n",
       "\n",
       "                                                question          title  \\\n",
       "0      Which NFL team represented the AFC at Super Bo...  Super_Bowl_50   \n",
       "1      Which NFL team represented the NFC at Super Bo...  Super_Bowl_50   \n",
       "2                    Where did Super Bowl 50 take place?  Super_Bowl_50   \n",
       "3                      Which NFL team won Super Bowl 50?  Super_Bowl_50   \n",
       "4      What color was used to emphasize the 50th anni...  Super_Bowl_50   \n",
       "...                                                  ...            ...   \n",
       "10525  What is the metric term less used than the New...          Force   \n",
       "10526  What is the kilogram-force sometimes reffered ...          Force   \n",
       "10527  What is a very seldom used unit of mass in the...          Force   \n",
       "10528  What seldom used term of a unit of force equal...          Force   \n",
       "10529  What is the seldom used force unit equal to on...          Force   \n",
       "\n",
       "       context_id                                            context  \\\n",
       "0               0  Super Bowl 50 was an American football game to...   \n",
       "1               0  Super Bowl 50 was an American football game to...   \n",
       "2               0  Super Bowl 50 was an American football game to...   \n",
       "3               0  Super Bowl 50 was an American football game to...   \n",
       "4               0  Super Bowl 50 was an American football game to...   \n",
       "...           ...                                                ...   \n",
       "10525        2066  The pound-force has a metric counterpart, less...   \n",
       "10526        2066  The pound-force has a metric counterpart, less...   \n",
       "10527        2066  The pound-force has a metric counterpart, less...   \n",
       "10528        2066  The pound-force has a metric counterpart, less...   \n",
       "10529        2066  The pound-force has a metric counterpart, less...   \n",
       "\n",
       "                                                  answer     answer_start  \\\n",
       "0                                       [Denver Broncos]            [177]   \n",
       "1                                    [Carolina Panthers]            [249]   \n",
       "2      [Santa Clara, California, Levi's Stadium, Levi...  [403, 355, 355]   \n",
       "3                                       [Denver Broncos]            [177]   \n",
       "4                                                 [gold]            [521]   \n",
       "...                                                  ...              ...   \n",
       "10525  [kilogram-force, pound-force, kilogram-force (...  [82, 4, 82, 78]   \n",
       "10526                                         [kilopond]            [114]   \n",
       "10527               [slug, metric slug, the metric slug]  [274, 267, 263]   \n",
       "10528                                              [kip]            [712]   \n",
       "10529                                           [sthène]            [665]   \n",
       "\n",
       "              answer_end  \n",
       "0                  [191]  \n",
       "1                  [266]  \n",
       "2        [426, 369, 427]  \n",
       "3                  [191]  \n",
       "4                  [525]  \n",
       "...                  ...  \n",
       "10525  [96, 15, 102, 98]  \n",
       "10526              [122]  \n",
       "10527    [278, 278, 278]  \n",
       "10528              [715]  \n",
       "10529              [671]  \n",
       "\n",
       "[10530 rows x 8 columns]"
      ]
     },
     "execution_count": 356,
     "metadata": {},
     "output_type": "execute_result"
    }
   ],
   "source": [
    "standard_dm.test_df"
   ]
  },
  {
   "cell_type": "markdown",
   "metadata": {},
   "source": [
    "## Baseline model"
   ]
  },
  {
   "cell_type": "code",
   "execution_count": 473,
   "metadata": {
    "execution": {
     "iopub.execute_input": "2021-01-16T18:10:47.611542Z",
     "iopub.status.busy": "2021-01-16T18:10:47.611192Z",
     "iopub.status.idle": "2021-01-16T18:10:47.691401Z",
     "shell.execute_reply": "2021-01-16T18:10:47.690233Z",
     "shell.execute_reply.started": "2021-01-16T18:10:47.611500Z"
    }
   },
   "outputs": [
    {
     "data": {
      "text/plain": [
       "101400"
      ]
     },
     "execution_count": 473,
     "metadata": {},
     "output_type": "execute_result"
    }
   ],
   "source": [
    "baseline_model = model.QABaselineModel(glove_embedding_layer, MAX_CONTEXT_TOKENS)\n",
    "baseline_model.count_parameters()"
   ]
  },
  {
   "cell_type": "code",
   "execution_count": 474,
   "metadata": {
    "execution": {
     "iopub.execute_input": "2021-01-16T18:10:47.693970Z",
     "iopub.status.busy": "2021-01-16T18:10:47.693655Z",
     "iopub.status.idle": "2021-01-16T18:10:47.756949Z",
     "shell.execute_reply": "2021-01-16T18:10:47.755598Z",
     "shell.execute_reply.started": "2021-01-16T18:10:47.693932Z"
    }
   },
   "outputs": [],
   "source": [
    "baseline_args = transformers.TrainingArguments(\n",
    "    output_dir=\"./checkpoints\",\n",
    "    logging_dir=\"./runs\",\n",
    "    logging_first_step=True,\n",
    "    logging_steps=5,\n",
    "    overwrite_output_dir=True,\n",
    "    evaluation_strategy=\"epoch\",\n",
    "    learning_rate=1e-3,\n",
    "    num_train_epochs=10,\n",
    "    remove_unused_columns=False,\n",
    "    per_device_train_batch_size=4,\n",
    "    per_device_eval_batch_size=64,\n",
    "    label_names=[\"answers\"],\n",
    ")"
   ]
  },
  {
   "cell_type": "code",
   "execution_count": 475,
   "metadata": {
    "execution": {
     "iopub.execute_input": "2021-01-16T18:10:47.759132Z",
     "iopub.status.busy": "2021-01-16T18:10:47.758812Z",
     "iopub.status.idle": "2021-01-16T18:10:47.826218Z",
     "shell.execute_reply": "2021-01-16T18:10:47.825036Z",
     "shell.execute_reply.started": "2021-01-16T18:10:47.759093Z"
    }
   },
   "outputs": [],
   "source": [
    "baseline_trainer = training.SquadTrainer(\n",
    "    model=baseline_model,\n",
    "    args=baseline_args,\n",
    "    data_collator=standard_dm.tokenizer,\n",
    "    train_dataset=standard_dm.train_dataset,\n",
    "    eval_dataset=standard_dm.val_dataset,\n",
    "    compute_metrics=training.compute_metrics,\n",
    ")"
   ]
  },
  {
   "cell_type": "code",
   "execution_count": 85,
   "metadata": {
    "execution": {
     "iopub.execute_input": "2021-01-12T16:09:33.858947Z",
     "iopub.status.busy": "2021-01-12T16:09:33.858513Z",
     "iopub.status.idle": "2021-01-12T16:09:36.380312Z",
     "shell.execute_reply": "2021-01-12T16:09:36.378944Z",
     "shell.execute_reply.started": "2021-01-12T16:09:33.858903Z"
    }
   },
   "outputs": [
    {
     "data": {
      "text/html": [
       "\n",
       "                Tracking run with wandb version 0.10.13<br/>\n",
       "                Syncing run <strong style=\"color:#cdcd00\">2021-01-12 16:09:33</strong> to <a href=\"https://wandb.ai\" target=\"_blank\">Weights & Biases</a> <a href=\"https://docs.wandb.com/integrations/jupyter.html\" target=\"_blank\">(Documentation)</a>.<br/>\n",
       "                Project page: <a href=\"https://wandb.ai/wadaboa/squad-qa\" target=\"_blank\">https://wandb.ai/wadaboa/squad-qa</a><br/>\n",
       "                Run page: <a href=\"https://wandb.ai/wadaboa/squad-qa/runs/ojtj5lbn\" target=\"_blank\">https://wandb.ai/wadaboa/squad-qa/runs/ojtj5lbn</a><br/>\n",
       "                Run data is saved locally in <code>/root/jupyter/squad-question-answering/wandb/run-20210112_160933-ojtj5lbn</code><br/><br/>\n",
       "            "
      ],
      "text/plain": [
       "<IPython.core.display.HTML object>"
      ]
     },
     "metadata": {},
     "output_type": "display_data"
    }
   ],
   "source": [
    "baseline_run_name = utils.get_run_name()\n",
    "baseline_wandb_logger = init_wandb(\n",
    "    name=baseline_run_name, group=\"baseline\", reinit=True,\n",
    ")"
   ]
  },
  {
   "cell_type": "code",
   "execution_count": 476,
   "metadata": {
    "execution": {
     "iopub.execute_input": "2021-01-16T18:10:47.827987Z",
     "iopub.status.busy": "2021-01-16T18:10:47.827684Z",
     "iopub.status.idle": "2021-01-16T18:10:48.671849Z",
     "shell.execute_reply": "2021-01-16T18:10:48.670010Z",
     "shell.execute_reply.started": "2021-01-16T18:10:47.827949Z"
    }
   },
   "outputs": [
    {
     "name": "stdout",
     "output_type": "stream",
     "text": [
      "./checkpoints\n",
      "tensor([[-4.3361, -4.4625, -4.3812,  ...,  0.0000,  0.0000,  0.0000],\n",
      "        [-4.3238, -4.4702, -4.3845,  ...,  0.0000,  0.0000,  0.0000],\n",
      "        [-4.4277, -4.4621, -4.4277,  ...,  0.0000,  0.0000,  0.0000],\n",
      "        [-4.3350, -4.4268, -4.3731,  ...,  0.0000,  0.0000,  0.0000]],\n",
      "       grad_fn=<IndexPutBackward>) tensor([[-4.8803, -5.0429, -5.0429,  ...,  0.0000,  0.0000,  0.0000],\n",
      "        [-4.4435, -4.6393, -4.4349,  ...,  0.0000,  0.0000,  0.0000],\n",
      "        [-4.8729, -4.9180, -4.6894,  ...,  0.0000,  0.0000,  0.0000],\n",
      "        [-4.6571, -4.6995, -4.4812,  ...,  0.0000,  0.0000,  0.0000]],\n",
      "       grad_fn=<IndexPutBackward>)\n",
      "tensor([0.1591, 0.1591, 0.1591, 0.1591], grad_fn=<DivBackward0>) tensor([0.1242, 0.1951, 0.1471, 0.1838], grad_fn=<DivBackward0>) tensor(1.2865, grad_fn=<SumBackward0>)\n"
     ]
    },
    {
     "data": {
      "text/html": [
       "\n",
       "    <div>\n",
       "        <style>\n",
       "            /* Turns off some styling */\n",
       "            progress {\n",
       "                /* gets rid of default border in Firefox and Opera. */\n",
       "                border: none;\n",
       "                /* Needs to be in here for Safari polyfill so background images work as expected. */\n",
       "                background-size: auto;\n",
       "            }\n",
       "        </style>\n",
       "      \n",
       "      <progress value='2' max='174680' style='width:300px; height:20px; vertical-align: middle;'></progress>\n",
       "      [     2/174680 : < :, Epoch 0.00/10]\n",
       "    </div>\n",
       "    <table border=\"1\" class=\"dataframe\">\n",
       "  <thead>\n",
       "    <tr style=\"text-align: left;\">\n",
       "      <th>Epoch</th>\n",
       "      <th>Training Loss</th>\n",
       "      <th>Validation Loss</th>\n",
       "    </tr>\n",
       "  </thead>\n",
       "  <tbody>\n",
       "  </tbody>\n",
       "</table><p>"
      ],
      "text/plain": [
       "<IPython.core.display.HTML object>"
      ]
     },
     "metadata": {},
     "output_type": "display_data"
    },
    {
     "name": "stdout",
     "output_type": "stream",
     "text": [
      "tensor([[nan, nan, nan,  ..., nan, nan, nan],\n",
      "        [nan, nan, nan,  ..., nan, nan, nan],\n",
      "        [nan, nan, nan,  ..., nan, nan, nan],\n",
      "        [nan, nan, nan,  ..., nan, nan, nan]], grad_fn=<IndexPutBackward>) tensor([[nan, nan, nan,  ..., nan, nan, nan],\n",
      "        [nan, nan, nan,  ..., nan, nan, nan],\n",
      "        [nan, nan, nan,  ..., nan, nan, nan],\n",
      "        [nan, nan, nan,  ..., nan, nan, nan]], grad_fn=<IndexPutBackward>)\n",
      "tensor([nan, nan, nan, nan], grad_fn=<DivBackward0>) tensor([nan, nan, nan, nan], grad_fn=<DivBackward0>) tensor(nan, grad_fn=<SumBackward0>)\n"
     ]
    },
    {
     "ename": "AssertionError",
     "evalue": "",
     "output_type": "error",
     "traceback": [
      "\u001b[0;31m---------------------------------------------------------------------------\u001b[0m",
      "\u001b[0;31mAssertionError\u001b[0m                            Traceback (most recent call last)",
      "\u001b[0;32m<ipython-input-476-a28822d33159>\u001b[0m in \u001b[0;36m<module>\u001b[0;34m\u001b[0m\n\u001b[0;32m----> 1\u001b[0;31m \u001b[0mbaseline_trainer\u001b[0m\u001b[0;34m.\u001b[0m\u001b[0mtrain\u001b[0m\u001b[0;34m(\u001b[0m\u001b[0;34m)\u001b[0m\u001b[0;34m\u001b[0m\u001b[0;34m\u001b[0m\u001b[0m\n\u001b[0m",
      "\u001b[0;32m~/anaconda3/lib/python3.8/site-packages/transformers/trainer.py\u001b[0m in \u001b[0;36mtrain\u001b[0;34m(self, model_path, trial)\u001b[0m\n\u001b[1;32m    797\u001b[0m                         \u001b[0mtr_loss\u001b[0m \u001b[0;34m+=\u001b[0m \u001b[0mself\u001b[0m\u001b[0;34m.\u001b[0m\u001b[0mtraining_step\u001b[0m\u001b[0;34m(\u001b[0m\u001b[0mmodel\u001b[0m\u001b[0;34m,\u001b[0m \u001b[0minputs\u001b[0m\u001b[0;34m)\u001b[0m\u001b[0;34m\u001b[0m\u001b[0;34m\u001b[0m\u001b[0m\n\u001b[1;32m    798\u001b[0m                 \u001b[0;32melse\u001b[0m\u001b[0;34m:\u001b[0m\u001b[0;34m\u001b[0m\u001b[0;34m\u001b[0m\u001b[0m\n\u001b[0;32m--> 799\u001b[0;31m                     \u001b[0mtr_loss\u001b[0m \u001b[0;34m+=\u001b[0m \u001b[0mself\u001b[0m\u001b[0;34m.\u001b[0m\u001b[0mtraining_step\u001b[0m\u001b[0;34m(\u001b[0m\u001b[0mmodel\u001b[0m\u001b[0;34m,\u001b[0m \u001b[0minputs\u001b[0m\u001b[0;34m)\u001b[0m\u001b[0;34m\u001b[0m\u001b[0;34m\u001b[0m\u001b[0m\n\u001b[0m\u001b[1;32m    800\u001b[0m                 \u001b[0mself\u001b[0m\u001b[0;34m.\u001b[0m\u001b[0m_total_flos\u001b[0m \u001b[0;34m+=\u001b[0m \u001b[0mself\u001b[0m\u001b[0;34m.\u001b[0m\u001b[0mfloating_point_ops\u001b[0m\u001b[0;34m(\u001b[0m\u001b[0minputs\u001b[0m\u001b[0;34m)\u001b[0m\u001b[0;34m\u001b[0m\u001b[0;34m\u001b[0m\u001b[0m\n\u001b[1;32m    801\u001b[0m \u001b[0;34m\u001b[0m\u001b[0m\n",
      "\u001b[0;32m~/anaconda3/lib/python3.8/site-packages/transformers/trainer.py\u001b[0m in \u001b[0;36mtraining_step\u001b[0;34m(self, model, inputs)\u001b[0m\n\u001b[1;32m   1137\u001b[0m                 \u001b[0mloss\u001b[0m \u001b[0;34m=\u001b[0m \u001b[0mself\u001b[0m\u001b[0;34m.\u001b[0m\u001b[0mcompute_loss\u001b[0m\u001b[0;34m(\u001b[0m\u001b[0mmodel\u001b[0m\u001b[0;34m,\u001b[0m \u001b[0minputs\u001b[0m\u001b[0;34m)\u001b[0m\u001b[0;34m\u001b[0m\u001b[0;34m\u001b[0m\u001b[0m\n\u001b[1;32m   1138\u001b[0m         \u001b[0;32melse\u001b[0m\u001b[0;34m:\u001b[0m\u001b[0;34m\u001b[0m\u001b[0;34m\u001b[0m\u001b[0m\n\u001b[0;32m-> 1139\u001b[0;31m             \u001b[0mloss\u001b[0m \u001b[0;34m=\u001b[0m \u001b[0mself\u001b[0m\u001b[0;34m.\u001b[0m\u001b[0mcompute_loss\u001b[0m\u001b[0;34m(\u001b[0m\u001b[0mmodel\u001b[0m\u001b[0;34m,\u001b[0m \u001b[0minputs\u001b[0m\u001b[0;34m)\u001b[0m\u001b[0;34m\u001b[0m\u001b[0;34m\u001b[0m\u001b[0m\n\u001b[0m\u001b[1;32m   1140\u001b[0m \u001b[0;34m\u001b[0m\u001b[0m\n\u001b[1;32m   1141\u001b[0m         \u001b[0;32mif\u001b[0m \u001b[0mself\u001b[0m\u001b[0;34m.\u001b[0m\u001b[0margs\u001b[0m\u001b[0;34m.\u001b[0m\u001b[0mn_gpu\u001b[0m \u001b[0;34m>\u001b[0m \u001b[0;36m1\u001b[0m\u001b[0;34m:\u001b[0m\u001b[0;34m\u001b[0m\u001b[0;34m\u001b[0m\u001b[0m\n",
      "\u001b[0;32m~/jupyter/squad-question-answering/training.py\u001b[0m in \u001b[0;36mcompute_loss\u001b[0;34m(self, model, inputs)\u001b[0m\n\u001b[1;32m     39\u001b[0m             \u001b[0;31m# Compute and log metrics only if labels are available\u001b[0m\u001b[0;34m\u001b[0m\u001b[0;34m\u001b[0m\u001b[0;34m\u001b[0m\u001b[0m\n\u001b[1;32m     40\u001b[0m             \u001b[0;32mif\u001b[0m \u001b[0mlabels\u001b[0m \u001b[0;32mis\u001b[0m \u001b[0;32mnot\u001b[0m \u001b[0;32mNone\u001b[0m\u001b[0;34m:\u001b[0m\u001b[0;34m\u001b[0m\u001b[0;34m\u001b[0m\u001b[0m\n\u001b[0;32m---> 41\u001b[0;31m                 metrics = self.compute_metrics(\n\u001b[0m\u001b[1;32m     42\u001b[0m                     \u001b[0mEvalPrediction\u001b[0m\u001b[0;34m(\u001b[0m\u001b[0mpredictions\u001b[0m\u001b[0;34m=\u001b[0m\u001b[0moutputs\u001b[0m\u001b[0;34m[\u001b[0m\u001b[0;34m\"outputs\"\u001b[0m\u001b[0;34m]\u001b[0m\u001b[0;34m,\u001b[0m \u001b[0mlabel_ids\u001b[0m\u001b[0;34m=\u001b[0m\u001b[0mlabels\u001b[0m\u001b[0;34m)\u001b[0m\u001b[0;34m\u001b[0m\u001b[0;34m\u001b[0m\u001b[0m\n\u001b[1;32m     43\u001b[0m                 )\n",
      "\u001b[0;32m~/jupyter/squad-question-answering/training.py\u001b[0m in \u001b[0;36mcompute_metrics\u001b[0;34m(eval_prediction)\u001b[0m\n\u001b[1;32m     78\u001b[0m         \u001b[0;34m\"f1\"\u001b[0m\u001b[0;34m:\u001b[0m \u001b[0msklearn\u001b[0m\u001b[0;34m.\u001b[0m\u001b[0mmetrics\u001b[0m\u001b[0;34m.\u001b[0m\u001b[0mf1_score\u001b[0m\u001b[0;34m(\u001b[0m\u001b[0mf_labels\u001b[0m\u001b[0;34m,\u001b[0m \u001b[0mf_preds\u001b[0m\u001b[0;34m,\u001b[0m \u001b[0maverage\u001b[0m\u001b[0;34m=\u001b[0m\u001b[0;34m\"macro\"\u001b[0m\u001b[0;34m)\u001b[0m\u001b[0;34m,\u001b[0m\u001b[0;34m\u001b[0m\u001b[0;34m\u001b[0m\u001b[0m\n\u001b[1;32m     79\u001b[0m         \u001b[0;34m\"accuracy\"\u001b[0m\u001b[0;34m:\u001b[0m \u001b[0msklearn\u001b[0m\u001b[0;34m.\u001b[0m\u001b[0mmetrics\u001b[0m\u001b[0;34m.\u001b[0m\u001b[0maccuracy_score\u001b[0m\u001b[0;34m(\u001b[0m\u001b[0mf_labels\u001b[0m\u001b[0;34m,\u001b[0m \u001b[0mf_preds\u001b[0m\u001b[0;34m)\u001b[0m\u001b[0;34m,\u001b[0m\u001b[0;34m\u001b[0m\u001b[0;34m\u001b[0m\u001b[0m\n\u001b[0;32m---> 80\u001b[0;31m         \u001b[0;34m\"em\"\u001b[0m\u001b[0;34m:\u001b[0m \u001b[0mexact_match\u001b[0m\u001b[0;34m(\u001b[0m\u001b[0mlabels\u001b[0m\u001b[0;34m,\u001b[0m \u001b[0mpreds\u001b[0m\u001b[0;34m)\u001b[0m\u001b[0;34m,\u001b[0m\u001b[0;34m\u001b[0m\u001b[0;34m\u001b[0m\u001b[0m\n\u001b[0m\u001b[1;32m     81\u001b[0m     }\n",
      "\u001b[0;32m~/jupyter/squad-question-answering/training.py\u001b[0m in \u001b[0;36mexact_match\u001b[0;34m(labels, preds)\u001b[0m\n\u001b[1;32m     57\u001b[0m     \u001b[0mmeasuring\u001b[0m \u001b[0mthe\u001b[0m \u001b[0mnumber\u001b[0m \u001b[0mof\u001b[0m \u001b[0mexactly\u001b[0m \u001b[0mmatched\u001b[0m \u001b[0manswers\u001b[0m\u001b[0;34m\u001b[0m\u001b[0;34m\u001b[0m\u001b[0m\n\u001b[1;32m     58\u001b[0m     \"\"\"\n\u001b[0;32m---> 59\u001b[0;31m     \u001b[0;32massert\u001b[0m \u001b[0mlabels\u001b[0m\u001b[0;34m.\u001b[0m\u001b[0mshape\u001b[0m \u001b[0;34m==\u001b[0m \u001b[0mpreds\u001b[0m\u001b[0;34m.\u001b[0m\u001b[0mshape\u001b[0m\u001b[0;34m\u001b[0m\u001b[0;34m\u001b[0m\u001b[0m\n\u001b[0m\u001b[1;32m     60\u001b[0m     \u001b[0mtotal\u001b[0m \u001b[0;34m=\u001b[0m \u001b[0mlabels\u001b[0m\u001b[0;34m.\u001b[0m\u001b[0mshape\u001b[0m\u001b[0;34m[\u001b[0m\u001b[0;36m0\u001b[0m\u001b[0;34m]\u001b[0m\u001b[0;34m\u001b[0m\u001b[0;34m\u001b[0m\u001b[0m\n\u001b[1;32m     61\u001b[0m     \u001b[0mmatches\u001b[0m \u001b[0;34m=\u001b[0m \u001b[0mnp\u001b[0m\u001b[0;34m.\u001b[0m\u001b[0mcount_nonzero\u001b[0m\u001b[0;34m(\u001b[0m\u001b[0;34m(\u001b[0m\u001b[0mlabels\u001b[0m \u001b[0;34m==\u001b[0m \u001b[0mpreds\u001b[0m\u001b[0;34m)\u001b[0m\u001b[0;34m.\u001b[0m\u001b[0mall\u001b[0m\u001b[0;34m(\u001b[0m\u001b[0maxis\u001b[0m\u001b[0;34m=\u001b[0m\u001b[0;36m1\u001b[0m\u001b[0;34m)\u001b[0m\u001b[0;34m)\u001b[0m\u001b[0;34m\u001b[0m\u001b[0;34m\u001b[0m\u001b[0m\n",
      "\u001b[0;31mAssertionError\u001b[0m: "
     ]
    }
   ],
   "source": [
    "baseline_trainer.train()"
   ]
  },
  {
   "cell_type": "code",
   "execution_count": 87,
   "metadata": {
    "execution": {
     "iopub.execute_input": "2021-01-12T16:11:32.407489Z",
     "iopub.status.busy": "2021-01-12T16:11:32.407047Z",
     "iopub.status.idle": "2021-01-12T16:11:36.294290Z",
     "shell.execute_reply": "2021-01-12T16:11:36.293103Z",
     "shell.execute_reply.started": "2021-01-12T16:11:32.407437Z"
    }
   },
   "outputs": [
    {
     "data": {
      "text/html": [
       "<br/>Waiting for W&B process to finish, PID 64782<br/>Program ended successfully."
      ],
      "text/plain": [
       "<IPython.core.display.HTML object>"
      ]
     },
     "metadata": {},
     "output_type": "display_data"
    },
    {
     "data": {
      "application/vnd.jupyter.widget-view+json": {
       "model_id": "",
       "version_major": 2,
       "version_minor": 0
      },
      "text/plain": [
       "VBox(children=(Label(value=' 0.00MB of 0.00MB uploaded (0.00MB deduped)\\r'), FloatProgress(value=1.0, max=1.0)…"
      ]
     },
     "metadata": {},
     "output_type": "display_data"
    },
    {
     "data": {
      "text/html": [
       "Find user logs for this run at: <code>/root/jupyter/squad-question-answering/wandb/run-20210112_160933-ojtj5lbn/logs/debug.log</code>"
      ],
      "text/plain": [
       "<IPython.core.display.HTML object>"
      ]
     },
     "metadata": {},
     "output_type": "display_data"
    },
    {
     "data": {
      "text/html": [
       "Find internal logs for this run at: <code>/root/jupyter/squad-question-answering/wandb/run-20210112_160933-ojtj5lbn/logs/debug-internal.log</code>"
      ],
      "text/plain": [
       "<IPython.core.display.HTML object>"
      ]
     },
     "metadata": {},
     "output_type": "display_data"
    },
    {
     "data": {
      "text/html": [
       "<h3>Run summary:</h3><br/><style>\n",
       "    table.wandb td:nth-child(1) { padding: 0 10px; text-align: right }\n",
       "    </style><table class=\"wandb\">\n",
       "<tr><td>train/loss</td><td>11.31863</td></tr><tr><td>train/learning_rate</td><td>0.001</td></tr><tr><td>train/epoch</td><td>0.03663</td></tr><tr><td>train/f1</td><td>0.0</td></tr><tr><td>train/accuracy</td><td>0.0</td></tr><tr><td>train/em</td><td>0.0</td></tr><tr><td>_step</td><td>10</td></tr><tr><td>_runtime</td><td>118</td></tr><tr><td>_timestamp</td><td>1610467892</td></tr></table>"
      ],
      "text/plain": [
       "<IPython.core.display.HTML object>"
      ]
     },
     "metadata": {},
     "output_type": "display_data"
    },
    {
     "data": {
      "text/html": [
       "<h3>Run history:</h3><br/><style>\n",
       "    table.wandb td:nth-child(1) { padding: 0 10px; text-align: right }\n",
       "    </style><table class=\"wandb\">\n",
       "<tr><td>train/loss</td><td>█▆▁</td></tr><tr><td>train/learning_rate</td><td>█▅▁</td></tr><tr><td>train/epoch</td><td>▁▄█</td></tr><tr><td>train/f1</td><td>█▇▁</td></tr><tr><td>train/accuracy</td><td>█▃▁</td></tr><tr><td>train/em</td><td>▁▁▁</td></tr><tr><td>_step</td><td>▁▄█</td></tr><tr><td>_runtime</td><td>▁▅█</td></tr><tr><td>_timestamp</td><td>▁▅█</td></tr></table><br/>"
      ],
      "text/plain": [
       "<IPython.core.display.HTML object>"
      ]
     },
     "metadata": {},
     "output_type": "display_data"
    },
    {
     "data": {
      "text/html": [
       "Synced 5 W&B file(s), 1 media file(s), 0 artifact file(s) and 0 other file(s)"
      ],
      "text/plain": [
       "<IPython.core.display.HTML object>"
      ]
     },
     "metadata": {},
     "output_type": "display_data"
    },
    {
     "data": {
      "text/html": [
       "\n",
       "                    <br/>Synced <strong style=\"color:#cdcd00\">2021-01-12 16:09:33</strong>: <a href=\"https://wandb.ai/wadaboa/squad-qa/runs/ojtj5lbn\" target=\"_blank\">https://wandb.ai/wadaboa/squad-qa/runs/ojtj5lbn</a><br/>\n",
       "                "
      ],
      "text/plain": [
       "<IPython.core.display.HTML object>"
      ]
     },
     "metadata": {},
     "output_type": "display_data"
    }
   ],
   "source": [
    "baseline_wandb_logger.finish()"
   ]
  },
  {
   "cell_type": "markdown",
   "metadata": {},
   "source": [
    "## BiDAF"
   ]
  },
  {
   "cell_type": "code",
   "execution_count": 477,
   "metadata": {
    "execution": {
     "iopub.execute_input": "2021-01-16T18:11:22.708180Z",
     "iopub.status.busy": "2021-01-16T18:11:22.707742Z",
     "iopub.status.idle": "2021-01-16T18:11:22.800090Z",
     "shell.execute_reply": "2021-01-16T18:11:22.798785Z",
     "shell.execute_reply.started": "2021-01-16T18:11:22.708135Z"
    }
   },
   "outputs": [
    {
     "data": {
      "text/plain": [
       "314350"
      ]
     },
     "execution_count": 477,
     "metadata": {},
     "output_type": "execute_result"
    }
   ],
   "source": [
    "bidaf_model = model.BiDAFModel(glove_embedding_layer)\n",
    "bidaf_model.count_parameters()"
   ]
  },
  {
   "cell_type": "code",
   "execution_count": 478,
   "metadata": {
    "execution": {
     "iopub.execute_input": "2021-01-16T18:11:22.802358Z",
     "iopub.status.busy": "2021-01-16T18:11:22.801983Z",
     "iopub.status.idle": "2021-01-16T18:11:22.867689Z",
     "shell.execute_reply": "2021-01-16T18:11:22.865922Z",
     "shell.execute_reply.started": "2021-01-16T18:11:22.802308Z"
    }
   },
   "outputs": [],
   "source": [
    "bidaf_args = transformers.TrainingArguments(\n",
    "    output_dir=\"./checkpoints\",\n",
    "    logging_dir=\"./runs\",\n",
    "    logging_first_step=True,\n",
    "    logging_steps=5,\n",
    "    overwrite_output_dir=True,\n",
    "    evaluation_strategy=\"epoch\",\n",
    "    learning_rate=1e-3,\n",
    "    num_train_epochs=10,\n",
    "    remove_unused_columns=False,\n",
    "    per_device_train_batch_size=4,\n",
    "    per_device_eval_batch_size=64,\n",
    "    label_names=[\"answers\"]\n",
    ")"
   ]
  },
  {
   "cell_type": "code",
   "execution_count": 479,
   "metadata": {
    "execution": {
     "iopub.execute_input": "2021-01-16T18:11:26.988388Z",
     "iopub.status.busy": "2021-01-16T18:11:26.988054Z",
     "iopub.status.idle": "2021-01-16T18:11:27.059944Z",
     "shell.execute_reply": "2021-01-16T18:11:27.058740Z",
     "shell.execute_reply.started": "2021-01-16T18:11:26.988347Z"
    }
   },
   "outputs": [],
   "source": [
    "bidaf_optimizer = optim.Adadelta(bidaf_model.parameters(), lr=0.5)\n",
    "bidaf_lr_scheduler = optim.lr_scheduler.ExponentialLR(bidaf_optimizer, gamma=.999)"
   ]
  },
  {
   "cell_type": "code",
   "execution_count": 480,
   "metadata": {
    "execution": {
     "iopub.execute_input": "2021-01-16T18:11:27.062720Z",
     "iopub.status.busy": "2021-01-16T18:11:27.062430Z",
     "iopub.status.idle": "2021-01-16T18:11:27.131945Z",
     "shell.execute_reply": "2021-01-16T18:11:27.130657Z",
     "shell.execute_reply.started": "2021-01-16T18:11:27.062681Z"
    }
   },
   "outputs": [],
   "source": [
    "bidaf_trainer = training.SquadTrainer(\n",
    "    model=bidaf_model,\n",
    "    args=bidaf_args,\n",
    "    data_collator=standard_dm.tokenizer,\n",
    "    train_dataset=standard_dm.train_dataset,\n",
    "    eval_dataset=standard_dm.val_dataset,\n",
    "    optimizers=(bidaf_optimizer, bidaf_lr_scheduler),\n",
    "    compute_metrics=training.compute_metrics,\n",
    ")"
   ]
  },
  {
   "cell_type": "code",
   "execution_count": 148,
   "metadata": {
    "execution": {
     "iopub.execute_input": "2021-01-16T14:19:19.067033Z",
     "iopub.status.busy": "2021-01-16T14:19:19.066726Z",
     "iopub.status.idle": "2021-01-16T14:19:25.421906Z",
     "shell.execute_reply": "2021-01-16T14:19:25.420501Z",
     "shell.execute_reply.started": "2021-01-16T14:19:19.066995Z"
    }
   },
   "outputs": [
    {
     "data": {
      "text/html": [
       "Finishing last run (ID:1at2stsl) before initializing another..."
      ],
      "text/plain": [
       "<IPython.core.display.HTML object>"
      ]
     },
     "metadata": {},
     "output_type": "display_data"
    },
    {
     "data": {
      "text/html": [
       "<br/>Waiting for W&B process to finish, PID 2764<br/>Program ended successfully."
      ],
      "text/plain": [
       "<IPython.core.display.HTML object>"
      ]
     },
     "metadata": {},
     "output_type": "display_data"
    },
    {
     "data": {
      "application/vnd.jupyter.widget-view+json": {
       "model_id": "",
       "version_major": 2,
       "version_minor": 0
      },
      "text/plain": [
       "VBox(children=(Label(value=' 0.00MB of 0.00MB uploaded (0.00MB deduped)\\r'), FloatProgress(value=1.0, max=1.0)…"
      ]
     },
     "metadata": {},
     "output_type": "display_data"
    },
    {
     "data": {
      "text/html": [
       "Find user logs for this run at: <code>/root/jupyter/squad-question-answering/wandb/run-20210116_131431-1at2stsl/logs/debug.log</code>"
      ],
      "text/plain": [
       "<IPython.core.display.HTML object>"
      ]
     },
     "metadata": {},
     "output_type": "display_data"
    },
    {
     "data": {
      "text/html": [
       "Find internal logs for this run at: <code>/root/jupyter/squad-question-answering/wandb/run-20210116_131431-1at2stsl/logs/debug-internal.log</code>"
      ],
      "text/plain": [
       "<IPython.core.display.HTML object>"
      ]
     },
     "metadata": {},
     "output_type": "display_data"
    },
    {
     "data": {
      "text/html": [
       "Synced 5 W&B file(s), 0 media file(s), 0 artifact file(s) and 0 other file(s)"
      ],
      "text/plain": [
       "<IPython.core.display.HTML object>"
      ]
     },
     "metadata": {},
     "output_type": "display_data"
    },
    {
     "data": {
      "text/html": [
       "\n",
       "                    <br/>Synced <strong style=\"color:#cdcd00\">./checkpoints</strong>: <a href=\"https://wandb.ai/wadaboa/huggingface/runs/1at2stsl\" target=\"_blank\">https://wandb.ai/wadaboa/huggingface/runs/1at2stsl</a><br/>\n",
       "                "
      ],
      "text/plain": [
       "<IPython.core.display.HTML object>"
      ]
     },
     "metadata": {},
     "output_type": "display_data"
    },
    {
     "data": {
      "text/html": [
       "...Successfully finished last run (ID:1at2stsl). Initializing new run:<br/><br/>"
      ],
      "text/plain": [
       "<IPython.core.display.HTML object>"
      ]
     },
     "metadata": {},
     "output_type": "display_data"
    },
    {
     "name": "stderr",
     "output_type": "stream",
     "text": [
      "\u001b[34m\u001b[1mwandb\u001b[0m: wandb version 0.10.14 is available!  To upgrade, please run:\n",
      "\u001b[34m\u001b[1mwandb\u001b[0m:  $ pip install wandb --upgrade\n"
     ]
    },
    {
     "data": {
      "text/html": [
       "\n",
       "                Tracking run with wandb version 0.10.13<br/>\n",
       "                Syncing run <strong style=\"color:#cdcd00\">2021-01-16 14:19:19</strong> to <a href=\"https://wandb.ai\" target=\"_blank\">Weights & Biases</a> <a href=\"https://docs.wandb.com/integrations/jupyter.html\" target=\"_blank\">(Documentation)</a>.<br/>\n",
       "                Project page: <a href=\"https://wandb.ai/wadaboa/squad-qa\" target=\"_blank\">https://wandb.ai/wadaboa/squad-qa</a><br/>\n",
       "                Run page: <a href=\"https://wandb.ai/wadaboa/squad-qa/runs/174e9mr7\" target=\"_blank\">https://wandb.ai/wadaboa/squad-qa/runs/174e9mr7</a><br/>\n",
       "                Run data is saved locally in <code>/root/jupyter/squad-question-answering/wandb/run-20210116_141919-174e9mr7</code><br/><br/>\n",
       "            "
      ],
      "text/plain": [
       "<IPython.core.display.HTML object>"
      ]
     },
     "metadata": {},
     "output_type": "display_data"
    }
   ],
   "source": [
    "bidaf_run_name = utils.get_run_name()\n",
    "bidaf_wandb_logger = init_wandb(name=bidaf_run_name, group=\"bidaf\", reinit=True,)"
   ]
  },
  {
   "cell_type": "code",
   "execution_count": 481,
   "metadata": {
    "execution": {
     "iopub.execute_input": "2021-01-16T18:11:27.134104Z",
     "iopub.status.busy": "2021-01-16T18:11:27.133781Z",
     "iopub.status.idle": "2021-01-16T18:11:30.092614Z",
     "shell.execute_reply": "2021-01-16T18:11:30.090813Z",
     "shell.execute_reply.started": "2021-01-16T18:11:27.134067Z"
    }
   },
   "outputs": [
    {
     "name": "stdout",
     "output_type": "stream",
     "text": [
      "./checkpoints\n",
      "tensor([[-4.4330, -4.4352, -4.4454,  ...,  0.0000,  0.0000,  0.0000],\n",
      "        [-3.9968, -4.0153, -4.0168,  ...,  0.0000,  0.0000,  0.0000],\n",
      "        [-4.6983, -4.6966, -4.7108,  ...,  0.0000,  0.0000,  0.0000],\n",
      "        [-4.3045, -4.2952, -4.3123,  ...,  0.0000,  0.0000,  0.0000]],\n",
      "       grad_fn=<IndexPutBackward>) tensor([[-5.0482, -5.0245, -5.0189,  ...,  0.0000,  0.0000,  0.0000],\n",
      "        [-4.6292, -4.5821, -4.5835,  ...,  0.0000,  0.0000,  0.0000],\n",
      "        [-4.8629, -4.8904, -4.8862,  ...,  0.0000,  0.0000,  0.0000],\n",
      "        [-4.6440, -4.6583, -4.6655,  ...,  0.0000,  0.0000,  0.0000]],\n",
      "       grad_fn=<IndexPutBackward>)\n",
      "tensor([0.1531, 0.2365, 0.1183, 0.1758], grad_fn=<DivBackward0>) tensor([0.1237, 0.1944, 0.1466, 0.1832], grad_fn=<DivBackward0>) tensor(1.3316, grad_fn=<SumBackward0>)\n"
     ]
    },
    {
     "data": {
      "text/html": [
       "\n",
       "    <div>\n",
       "        <style>\n",
       "            /* Turns off some styling */\n",
       "            progress {\n",
       "                /* gets rid of default border in Firefox and Opera. */\n",
       "                border: none;\n",
       "                /* Needs to be in here for Safari polyfill so background images work as expected. */\n",
       "                background-size: auto;\n",
       "            }\n",
       "        </style>\n",
       "      \n",
       "      <progress value='2' max='174680' style='width:300px; height:20px; vertical-align: middle;'></progress>\n",
       "      [     2/174680 : < :, Epoch 0.00/10]\n",
       "    </div>\n",
       "    <table border=\"1\" class=\"dataframe\">\n",
       "  <thead>\n",
       "    <tr style=\"text-align: left;\">\n",
       "      <th>Epoch</th>\n",
       "      <th>Training Loss</th>\n",
       "      <th>Validation Loss</th>\n",
       "    </tr>\n",
       "  </thead>\n",
       "  <tbody>\n",
       "  </tbody>\n",
       "</table><p>"
      ],
      "text/plain": [
       "<IPython.core.display.HTML object>"
      ]
     },
     "metadata": {},
     "output_type": "display_data"
    },
    {
     "name": "stdout",
     "output_type": "stream",
     "text": [
      "tensor([[nan, nan, nan,  ..., nan, nan, nan],\n",
      "        [nan, nan, nan,  ..., nan, nan, nan],\n",
      "        [nan, nan, nan,  ..., nan, nan, nan],\n",
      "        [nan, nan, nan,  ..., nan, nan, nan]], grad_fn=<IndexPutBackward>) tensor([[nan, nan, nan,  ..., nan, nan, nan],\n",
      "        [nan, nan, nan,  ..., nan, nan, nan],\n",
      "        [nan, nan, nan,  ..., nan, nan, nan],\n",
      "        [nan, nan, nan,  ..., nan, nan, nan]], grad_fn=<IndexPutBackward>)\n",
      "tensor([nan, nan, nan, nan], grad_fn=<DivBackward0>) tensor([nan, nan, nan, nan], grad_fn=<DivBackward0>) tensor(nan, grad_fn=<SumBackward0>)\n"
     ]
    },
    {
     "ename": "AssertionError",
     "evalue": "",
     "output_type": "error",
     "traceback": [
      "\u001b[0;31m---------------------------------------------------------------------------\u001b[0m",
      "\u001b[0;31mAssertionError\u001b[0m                            Traceback (most recent call last)",
      "\u001b[0;32m<ipython-input-481-aca95db80ac7>\u001b[0m in \u001b[0;36m<module>\u001b[0;34m\u001b[0m\n\u001b[0;32m----> 1\u001b[0;31m \u001b[0mbidaf_trainer\u001b[0m\u001b[0;34m.\u001b[0m\u001b[0mtrain\u001b[0m\u001b[0;34m(\u001b[0m\u001b[0;34m)\u001b[0m\u001b[0;34m\u001b[0m\u001b[0;34m\u001b[0m\u001b[0m\n\u001b[0m",
      "\u001b[0;32m~/anaconda3/lib/python3.8/site-packages/transformers/trainer.py\u001b[0m in \u001b[0;36mtrain\u001b[0;34m(self, model_path, trial)\u001b[0m\n\u001b[1;32m    797\u001b[0m                         \u001b[0mtr_loss\u001b[0m \u001b[0;34m+=\u001b[0m \u001b[0mself\u001b[0m\u001b[0;34m.\u001b[0m\u001b[0mtraining_step\u001b[0m\u001b[0;34m(\u001b[0m\u001b[0mmodel\u001b[0m\u001b[0;34m,\u001b[0m \u001b[0minputs\u001b[0m\u001b[0;34m)\u001b[0m\u001b[0;34m\u001b[0m\u001b[0;34m\u001b[0m\u001b[0m\n\u001b[1;32m    798\u001b[0m                 \u001b[0;32melse\u001b[0m\u001b[0;34m:\u001b[0m\u001b[0;34m\u001b[0m\u001b[0;34m\u001b[0m\u001b[0m\n\u001b[0;32m--> 799\u001b[0;31m                     \u001b[0mtr_loss\u001b[0m \u001b[0;34m+=\u001b[0m \u001b[0mself\u001b[0m\u001b[0;34m.\u001b[0m\u001b[0mtraining_step\u001b[0m\u001b[0;34m(\u001b[0m\u001b[0mmodel\u001b[0m\u001b[0;34m,\u001b[0m \u001b[0minputs\u001b[0m\u001b[0;34m)\u001b[0m\u001b[0;34m\u001b[0m\u001b[0;34m\u001b[0m\u001b[0m\n\u001b[0m\u001b[1;32m    800\u001b[0m                 \u001b[0mself\u001b[0m\u001b[0;34m.\u001b[0m\u001b[0m_total_flos\u001b[0m \u001b[0;34m+=\u001b[0m \u001b[0mself\u001b[0m\u001b[0;34m.\u001b[0m\u001b[0mfloating_point_ops\u001b[0m\u001b[0;34m(\u001b[0m\u001b[0minputs\u001b[0m\u001b[0;34m)\u001b[0m\u001b[0;34m\u001b[0m\u001b[0;34m\u001b[0m\u001b[0m\n\u001b[1;32m    801\u001b[0m \u001b[0;34m\u001b[0m\u001b[0m\n",
      "\u001b[0;32m~/anaconda3/lib/python3.8/site-packages/transformers/trainer.py\u001b[0m in \u001b[0;36mtraining_step\u001b[0;34m(self, model, inputs)\u001b[0m\n\u001b[1;32m   1137\u001b[0m                 \u001b[0mloss\u001b[0m \u001b[0;34m=\u001b[0m \u001b[0mself\u001b[0m\u001b[0;34m.\u001b[0m\u001b[0mcompute_loss\u001b[0m\u001b[0;34m(\u001b[0m\u001b[0mmodel\u001b[0m\u001b[0;34m,\u001b[0m \u001b[0minputs\u001b[0m\u001b[0;34m)\u001b[0m\u001b[0;34m\u001b[0m\u001b[0;34m\u001b[0m\u001b[0m\n\u001b[1;32m   1138\u001b[0m         \u001b[0;32melse\u001b[0m\u001b[0;34m:\u001b[0m\u001b[0;34m\u001b[0m\u001b[0;34m\u001b[0m\u001b[0m\n\u001b[0;32m-> 1139\u001b[0;31m             \u001b[0mloss\u001b[0m \u001b[0;34m=\u001b[0m \u001b[0mself\u001b[0m\u001b[0;34m.\u001b[0m\u001b[0mcompute_loss\u001b[0m\u001b[0;34m(\u001b[0m\u001b[0mmodel\u001b[0m\u001b[0;34m,\u001b[0m \u001b[0minputs\u001b[0m\u001b[0;34m)\u001b[0m\u001b[0;34m\u001b[0m\u001b[0;34m\u001b[0m\u001b[0m\n\u001b[0m\u001b[1;32m   1140\u001b[0m \u001b[0;34m\u001b[0m\u001b[0m\n\u001b[1;32m   1141\u001b[0m         \u001b[0;32mif\u001b[0m \u001b[0mself\u001b[0m\u001b[0;34m.\u001b[0m\u001b[0margs\u001b[0m\u001b[0;34m.\u001b[0m\u001b[0mn_gpu\u001b[0m \u001b[0;34m>\u001b[0m \u001b[0;36m1\u001b[0m\u001b[0;34m:\u001b[0m\u001b[0;34m\u001b[0m\u001b[0;34m\u001b[0m\u001b[0m\n",
      "\u001b[0;32m~/jupyter/squad-question-answering/training.py\u001b[0m in \u001b[0;36mcompute_loss\u001b[0;34m(self, model, inputs)\u001b[0m\n\u001b[1;32m     39\u001b[0m             \u001b[0;31m# Compute and log metrics only if labels are available\u001b[0m\u001b[0;34m\u001b[0m\u001b[0;34m\u001b[0m\u001b[0;34m\u001b[0m\u001b[0m\n\u001b[1;32m     40\u001b[0m             \u001b[0;32mif\u001b[0m \u001b[0mlabels\u001b[0m \u001b[0;32mis\u001b[0m \u001b[0;32mnot\u001b[0m \u001b[0;32mNone\u001b[0m\u001b[0;34m:\u001b[0m\u001b[0;34m\u001b[0m\u001b[0;34m\u001b[0m\u001b[0m\n\u001b[0;32m---> 41\u001b[0;31m                 metrics = self.compute_metrics(\n\u001b[0m\u001b[1;32m     42\u001b[0m                     \u001b[0mEvalPrediction\u001b[0m\u001b[0;34m(\u001b[0m\u001b[0mpredictions\u001b[0m\u001b[0;34m=\u001b[0m\u001b[0moutputs\u001b[0m\u001b[0;34m[\u001b[0m\u001b[0;34m\"outputs\"\u001b[0m\u001b[0;34m]\u001b[0m\u001b[0;34m,\u001b[0m \u001b[0mlabel_ids\u001b[0m\u001b[0;34m=\u001b[0m\u001b[0mlabels\u001b[0m\u001b[0;34m)\u001b[0m\u001b[0;34m\u001b[0m\u001b[0;34m\u001b[0m\u001b[0m\n\u001b[1;32m     43\u001b[0m                 )\n",
      "\u001b[0;32m~/jupyter/squad-question-answering/training.py\u001b[0m in \u001b[0;36mcompute_metrics\u001b[0;34m(eval_prediction)\u001b[0m\n\u001b[1;32m     78\u001b[0m         \u001b[0;34m\"f1\"\u001b[0m\u001b[0;34m:\u001b[0m \u001b[0msklearn\u001b[0m\u001b[0;34m.\u001b[0m\u001b[0mmetrics\u001b[0m\u001b[0;34m.\u001b[0m\u001b[0mf1_score\u001b[0m\u001b[0;34m(\u001b[0m\u001b[0mf_labels\u001b[0m\u001b[0;34m,\u001b[0m \u001b[0mf_preds\u001b[0m\u001b[0;34m,\u001b[0m \u001b[0maverage\u001b[0m\u001b[0;34m=\u001b[0m\u001b[0;34m\"macro\"\u001b[0m\u001b[0;34m)\u001b[0m\u001b[0;34m,\u001b[0m\u001b[0;34m\u001b[0m\u001b[0;34m\u001b[0m\u001b[0m\n\u001b[1;32m     79\u001b[0m         \u001b[0;34m\"accuracy\"\u001b[0m\u001b[0;34m:\u001b[0m \u001b[0msklearn\u001b[0m\u001b[0;34m.\u001b[0m\u001b[0mmetrics\u001b[0m\u001b[0;34m.\u001b[0m\u001b[0maccuracy_score\u001b[0m\u001b[0;34m(\u001b[0m\u001b[0mf_labels\u001b[0m\u001b[0;34m,\u001b[0m \u001b[0mf_preds\u001b[0m\u001b[0;34m)\u001b[0m\u001b[0;34m,\u001b[0m\u001b[0;34m\u001b[0m\u001b[0;34m\u001b[0m\u001b[0m\n\u001b[0;32m---> 80\u001b[0;31m         \u001b[0;34m\"em\"\u001b[0m\u001b[0;34m:\u001b[0m \u001b[0mexact_match\u001b[0m\u001b[0;34m(\u001b[0m\u001b[0mlabels\u001b[0m\u001b[0;34m,\u001b[0m \u001b[0mpreds\u001b[0m\u001b[0;34m)\u001b[0m\u001b[0;34m,\u001b[0m\u001b[0;34m\u001b[0m\u001b[0;34m\u001b[0m\u001b[0m\n\u001b[0m\u001b[1;32m     81\u001b[0m     }\n",
      "\u001b[0;32m~/jupyter/squad-question-answering/training.py\u001b[0m in \u001b[0;36mexact_match\u001b[0;34m(labels, preds)\u001b[0m\n\u001b[1;32m     57\u001b[0m     \u001b[0mmeasuring\u001b[0m \u001b[0mthe\u001b[0m \u001b[0mnumber\u001b[0m \u001b[0mof\u001b[0m \u001b[0mexactly\u001b[0m \u001b[0mmatched\u001b[0m \u001b[0manswers\u001b[0m\u001b[0;34m\u001b[0m\u001b[0;34m\u001b[0m\u001b[0m\n\u001b[1;32m     58\u001b[0m     \"\"\"\n\u001b[0;32m---> 59\u001b[0;31m     \u001b[0;32massert\u001b[0m \u001b[0mlabels\u001b[0m\u001b[0;34m.\u001b[0m\u001b[0mshape\u001b[0m \u001b[0;34m==\u001b[0m \u001b[0mpreds\u001b[0m\u001b[0;34m.\u001b[0m\u001b[0mshape\u001b[0m\u001b[0;34m\u001b[0m\u001b[0;34m\u001b[0m\u001b[0m\n\u001b[0m\u001b[1;32m     60\u001b[0m     \u001b[0mtotal\u001b[0m \u001b[0;34m=\u001b[0m \u001b[0mlabels\u001b[0m\u001b[0;34m.\u001b[0m\u001b[0mshape\u001b[0m\u001b[0;34m[\u001b[0m\u001b[0;36m0\u001b[0m\u001b[0;34m]\u001b[0m\u001b[0;34m\u001b[0m\u001b[0;34m\u001b[0m\u001b[0m\n\u001b[1;32m     61\u001b[0m     \u001b[0mmatches\u001b[0m \u001b[0;34m=\u001b[0m \u001b[0mnp\u001b[0m\u001b[0;34m.\u001b[0m\u001b[0mcount_nonzero\u001b[0m\u001b[0;34m(\u001b[0m\u001b[0;34m(\u001b[0m\u001b[0mlabels\u001b[0m \u001b[0;34m==\u001b[0m \u001b[0mpreds\u001b[0m\u001b[0;34m)\u001b[0m\u001b[0;34m.\u001b[0m\u001b[0mall\u001b[0m\u001b[0;34m(\u001b[0m\u001b[0maxis\u001b[0m\u001b[0;34m=\u001b[0m\u001b[0;36m1\u001b[0m\u001b[0;34m)\u001b[0m\u001b[0;34m)\u001b[0m\u001b[0;34m\u001b[0m\u001b[0;34m\u001b[0m\u001b[0m\n",
      "\u001b[0;31mAssertionError\u001b[0m: "
     ]
    }
   ],
   "source": [
    "bidaf_trainer.train()"
   ]
  },
  {
   "cell_type": "code",
   "execution_count": 200,
   "metadata": {
    "execution": {
     "iopub.execute_input": "2021-01-16T14:38:38.710171Z",
     "iopub.status.busy": "2021-01-16T14:38:38.709725Z",
     "iopub.status.idle": "2021-01-16T14:38:42.495081Z",
     "shell.execute_reply": "2021-01-16T14:38:42.493866Z",
     "shell.execute_reply.started": "2021-01-16T14:38:38.710127Z"
    }
   },
   "outputs": [
    {
     "data": {
      "text/html": [
       "<br/>Waiting for W&B process to finish, PID 20400<br/>Program ended successfully."
      ],
      "text/plain": [
       "<IPython.core.display.HTML object>"
      ]
     },
     "metadata": {},
     "output_type": "display_data"
    },
    {
     "data": {
      "application/vnd.jupyter.widget-view+json": {
       "model_id": "",
       "version_major": 2,
       "version_minor": 0
      },
      "text/plain": [
       "VBox(children=(Label(value=' 0.00MB of 0.00MB uploaded (0.00MB deduped)\\r'), FloatProgress(value=1.0, max=1.0)…"
      ]
     },
     "metadata": {},
     "output_type": "display_data"
    },
    {
     "data": {
      "text/html": [
       "Find user logs for this run at: <code>/root/jupyter/squad-question-answering/wandb/run-20210116_141919-174e9mr7/logs/debug.log</code>"
      ],
      "text/plain": [
       "<IPython.core.display.HTML object>"
      ]
     },
     "metadata": {},
     "output_type": "display_data"
    },
    {
     "data": {
      "text/html": [
       "Find internal logs for this run at: <code>/root/jupyter/squad-question-answering/wandb/run-20210116_141919-174e9mr7/logs/debug-internal.log</code>"
      ],
      "text/plain": [
       "<IPython.core.display.HTML object>"
      ]
     },
     "metadata": {},
     "output_type": "display_data"
    },
    {
     "data": {
      "text/html": [
       "Synced 5 W&B file(s), 0 media file(s), 0 artifact file(s) and 0 other file(s)"
      ],
      "text/plain": [
       "<IPython.core.display.HTML object>"
      ]
     },
     "metadata": {},
     "output_type": "display_data"
    },
    {
     "data": {
      "text/html": [
       "\n",
       "                    <br/>Synced <strong style=\"color:#cdcd00\">2021-01-16 14:19:19</strong>: <a href=\"https://wandb.ai/wadaboa/squad-qa/runs/174e9mr7\" target=\"_blank\">https://wandb.ai/wadaboa/squad-qa/runs/174e9mr7</a><br/>\n",
       "                "
      ],
      "text/plain": [
       "<IPython.core.display.HTML object>"
      ]
     },
     "metadata": {},
     "output_type": "display_data"
    }
   ],
   "source": [
    "bidaf_wandb_logger.finish()"
   ]
  },
  {
   "cell_type": "markdown",
   "metadata": {},
   "source": [
    "## BERT"
   ]
  },
  {
   "cell_type": "code",
   "execution_count": null,
   "metadata": {},
   "outputs": [],
   "source": [
    "bert_tokenizer = BertWordPieceTokenizer(\"data/bert-base-uncased-vocab.txt\", lowercase=True)\n",
    "bert_tokenizer.enable_padding(\n",
    "    direction=\"right\",\n",
    "    pad_type_id=1,\n",
    "    pad_token=PAD_TOKEN,\n",
    ")"
   ]
  },
  {
   "cell_type": "code",
   "execution_count": null,
   "metadata": {},
   "outputs": [],
   "source": [
    "bert_tokenizer = dataset.BertSquadTokenizer(bert_tokenizer)"
   ]
  },
  {
   "cell_type": "code",
   "execution_count": null,
   "metadata": {},
   "outputs": [],
   "source": [
    "bert_dm = dataset.SquadDataManager(squad_dataset, bert_tokenizer)"
   ]
  },
  {
   "cell_type": "code",
   "execution_count": 216,
   "metadata": {
    "execution": {
     "iopub.execute_input": "2021-01-13T14:59:47.709557Z",
     "iopub.status.busy": "2021-01-13T14:59:47.709129Z",
     "iopub.status.idle": "2021-01-13T14:59:56.869214Z",
     "shell.execute_reply": "2021-01-13T14:59:56.867773Z",
     "shell.execute_reply.started": "2021-01-13T14:59:47.709512Z"
    }
   },
   "outputs": [],
   "source": [
    "bert_model = transformers.BertModel.from_pretrained(\"bert-base-uncased\")"
   ]
  },
  {
   "cell_type": "code",
   "execution_count": 58,
   "metadata": {
    "execution": {
     "iopub.execute_input": "2021-01-09T15:11:43.846188Z",
     "iopub.status.busy": "2021-01-09T15:11:43.845741Z",
     "iopub.status.idle": "2021-01-09T15:11:43.917117Z",
     "shell.execute_reply": "2021-01-09T15:11:43.915835Z",
     "shell.execute_reply.started": "2021-01-09T15:11:43.846141Z"
    }
   },
   "outputs": [],
   "source": [
    "bert_args = transformers.TrainingArguments(\n",
    "    output_dir=\"./checkpoints\",\n",
    "    logging_dir=\"./runs\",\n",
    "    logging_first_step=True,\n",
    "    logging_steps=5,\n",
    "    overwrite_output_dir=True,\n",
    "    evaluation_strategy=\"epoch\",\n",
    "    learning_rate=1e-3,\n",
    "    num_train_epochs=10,\n",
    "    remove_unused_columns=False,\n",
    "    per_device_train_batch_size=256,\n",
    "    per_device_eval_batch_size=64,\n",
    "    label_names=[\"answers\"]\n",
    ")"
   ]
  },
  {
   "cell_type": "code",
   "execution_count": null,
   "metadata": {
    "execution": {
     "iopub.status.busy": "2021-01-09T15:11:45.214014Z",
     "iopub.status.idle": "2021-01-09T15:11:45.214520Z"
    }
   },
   "outputs": [],
   "source": [
    "bert_trainer = training.SquadTrainer(\n",
    "    model=bert_model,\n",
    "    args=bert_args,\n",
    "    data_collator=bert_dm.tokenizer,\n",
    "    train_dataset=bert_dm.train_dataset,\n",
    "    eval_dataset=bert_dm.val_dataset,\n",
    "    compute_metrics=training.compute_metrics,\n",
    ")"
   ]
  },
  {
   "cell_type": "code",
   "execution_count": null,
   "metadata": {},
   "outputs": [],
   "source": [
    "bert_run_name = utils.get_run_name()\n",
    "bert_wandb_logger = init_wandb(name=bert_run_name, group=\"bert\", reinit=True,)"
   ]
  },
  {
   "cell_type": "code",
   "execution_count": 288,
   "metadata": {
    "execution": {
     "iopub.execute_input": "2021-01-05T16:37:10.984314Z",
     "iopub.status.busy": "2021-01-05T16:37:10.983997Z",
     "iopub.status.idle": "2021-01-05T16:37:23.456420Z",
     "shell.execute_reply": "2021-01-05T16:37:23.454650Z",
     "shell.execute_reply.started": "2021-01-05T16:37:10.984273Z"
    }
   },
   "outputs": [
    {
     "name": "stdout",
     "output_type": "stream",
     "text": [
      "dict_keys(['input_ids', 'token_type_ids', 'attention_mask'])\n"
     ]
    },
    {
     "ename": "KeyError",
     "evalue": "'loss'",
     "output_type": "error",
     "traceback": [
      "\u001b[0;31m---------------------------------------------------------------------------\u001b[0m",
      "\u001b[0;31mKeyError\u001b[0m                                  Traceback (most recent call last)",
      "\u001b[0;32m<ipython-input-288-3435b262f1ae>\u001b[0m in \u001b[0;36m<module>\u001b[0;34m\u001b[0m\n\u001b[0;32m----> 1\u001b[0;31m \u001b[0mtrainer\u001b[0m\u001b[0;34m.\u001b[0m\u001b[0mtrain\u001b[0m\u001b[0;34m(\u001b[0m\u001b[0;34m)\u001b[0m\u001b[0;34m\u001b[0m\u001b[0;34m\u001b[0m\u001b[0m\n\u001b[0m",
      "\u001b[0;32m~/anaconda3/lib/python3.8/site-packages/transformers/trainer.py\u001b[0m in \u001b[0;36mtrain\u001b[0;34m(self, model_path, trial)\u001b[0m\n\u001b[1;32m    797\u001b[0m                         \u001b[0mtr_loss\u001b[0m \u001b[0;34m+=\u001b[0m \u001b[0mself\u001b[0m\u001b[0;34m.\u001b[0m\u001b[0mtraining_step\u001b[0m\u001b[0;34m(\u001b[0m\u001b[0mmodel\u001b[0m\u001b[0;34m,\u001b[0m \u001b[0minputs\u001b[0m\u001b[0;34m)\u001b[0m\u001b[0;34m\u001b[0m\u001b[0;34m\u001b[0m\u001b[0m\n\u001b[1;32m    798\u001b[0m                 \u001b[0;32melse\u001b[0m\u001b[0;34m:\u001b[0m\u001b[0;34m\u001b[0m\u001b[0;34m\u001b[0m\u001b[0m\n\u001b[0;32m--> 799\u001b[0;31m                     \u001b[0mtr_loss\u001b[0m \u001b[0;34m+=\u001b[0m \u001b[0mself\u001b[0m\u001b[0;34m.\u001b[0m\u001b[0mtraining_step\u001b[0m\u001b[0;34m(\u001b[0m\u001b[0mmodel\u001b[0m\u001b[0;34m,\u001b[0m \u001b[0minputs\u001b[0m\u001b[0;34m)\u001b[0m\u001b[0;34m\u001b[0m\u001b[0;34m\u001b[0m\u001b[0m\n\u001b[0m\u001b[1;32m    800\u001b[0m                 \u001b[0mself\u001b[0m\u001b[0;34m.\u001b[0m\u001b[0m_total_flos\u001b[0m \u001b[0;34m+=\u001b[0m \u001b[0mself\u001b[0m\u001b[0;34m.\u001b[0m\u001b[0mfloating_point_ops\u001b[0m\u001b[0;34m(\u001b[0m\u001b[0minputs\u001b[0m\u001b[0;34m)\u001b[0m\u001b[0;34m\u001b[0m\u001b[0;34m\u001b[0m\u001b[0m\n\u001b[1;32m    801\u001b[0m \u001b[0;34m\u001b[0m\u001b[0m\n",
      "\u001b[0;32m~/anaconda3/lib/python3.8/site-packages/transformers/trainer.py\u001b[0m in \u001b[0;36mtraining_step\u001b[0;34m(self, model, inputs)\u001b[0m\n\u001b[1;32m   1137\u001b[0m                 \u001b[0mloss\u001b[0m \u001b[0;34m=\u001b[0m \u001b[0mself\u001b[0m\u001b[0;34m.\u001b[0m\u001b[0mcompute_loss\u001b[0m\u001b[0;34m(\u001b[0m\u001b[0mmodel\u001b[0m\u001b[0;34m,\u001b[0m \u001b[0minputs\u001b[0m\u001b[0;34m)\u001b[0m\u001b[0;34m\u001b[0m\u001b[0;34m\u001b[0m\u001b[0m\n\u001b[1;32m   1138\u001b[0m         \u001b[0;32melse\u001b[0m\u001b[0;34m:\u001b[0m\u001b[0;34m\u001b[0m\u001b[0;34m\u001b[0m\u001b[0m\n\u001b[0;32m-> 1139\u001b[0;31m             \u001b[0mloss\u001b[0m \u001b[0;34m=\u001b[0m \u001b[0mself\u001b[0m\u001b[0;34m.\u001b[0m\u001b[0mcompute_loss\u001b[0m\u001b[0;34m(\u001b[0m\u001b[0mmodel\u001b[0m\u001b[0;34m,\u001b[0m \u001b[0minputs\u001b[0m\u001b[0;34m)\u001b[0m\u001b[0;34m\u001b[0m\u001b[0;34m\u001b[0m\u001b[0m\n\u001b[0m\u001b[1;32m   1140\u001b[0m \u001b[0;34m\u001b[0m\u001b[0m\n\u001b[1;32m   1141\u001b[0m         \u001b[0;32mif\u001b[0m \u001b[0mself\u001b[0m\u001b[0;34m.\u001b[0m\u001b[0margs\u001b[0m\u001b[0;34m.\u001b[0m\u001b[0mn_gpu\u001b[0m \u001b[0;34m>\u001b[0m \u001b[0;36m1\u001b[0m\u001b[0;34m:\u001b[0m\u001b[0;34m\u001b[0m\u001b[0;34m\u001b[0m\u001b[0m\n",
      "\u001b[0;32m~/anaconda3/lib/python3.8/site-packages/transformers/trainer.py\u001b[0m in \u001b[0;36mcompute_loss\u001b[0;34m(self, model, inputs)\u001b[0m\n\u001b[1;32m   1167\u001b[0m             \u001b[0mself\u001b[0m\u001b[0;34m.\u001b[0m\u001b[0m_past\u001b[0m \u001b[0;34m=\u001b[0m \u001b[0moutputs\u001b[0m\u001b[0;34m[\u001b[0m\u001b[0mself\u001b[0m\u001b[0;34m.\u001b[0m\u001b[0margs\u001b[0m\u001b[0;34m.\u001b[0m\u001b[0mpast_index\u001b[0m\u001b[0;34m]\u001b[0m\u001b[0;34m\u001b[0m\u001b[0;34m\u001b[0m\u001b[0m\n\u001b[1;32m   1168\u001b[0m         \u001b[0;31m# We don't use .loss here since the model may return tuples instead of ModelOutput.\u001b[0m\u001b[0;34m\u001b[0m\u001b[0;34m\u001b[0m\u001b[0;34m\u001b[0m\u001b[0m\n\u001b[0;32m-> 1169\u001b[0;31m         \u001b[0;32mreturn\u001b[0m \u001b[0moutputs\u001b[0m\u001b[0;34m[\u001b[0m\u001b[0;34m\"loss\"\u001b[0m\u001b[0;34m]\u001b[0m \u001b[0;32mif\u001b[0m \u001b[0misinstance\u001b[0m\u001b[0;34m(\u001b[0m\u001b[0moutputs\u001b[0m\u001b[0;34m,\u001b[0m \u001b[0mdict\u001b[0m\u001b[0;34m)\u001b[0m \u001b[0;32melse\u001b[0m \u001b[0moutputs\u001b[0m\u001b[0;34m[\u001b[0m\u001b[0;36m0\u001b[0m\u001b[0;34m]\u001b[0m\u001b[0;34m\u001b[0m\u001b[0;34m\u001b[0m\u001b[0m\n\u001b[0m\u001b[1;32m   1170\u001b[0m \u001b[0;34m\u001b[0m\u001b[0m\n\u001b[1;32m   1171\u001b[0m     \u001b[0;32mdef\u001b[0m \u001b[0mis_local_process_zero\u001b[0m\u001b[0;34m(\u001b[0m\u001b[0mself\u001b[0m\u001b[0;34m)\u001b[0m \u001b[0;34m->\u001b[0m \u001b[0mbool\u001b[0m\u001b[0;34m:\u001b[0m\u001b[0;34m\u001b[0m\u001b[0;34m\u001b[0m\u001b[0m\n",
      "\u001b[0;32m~/anaconda3/lib/python3.8/site-packages/transformers/file_utils.py\u001b[0m in \u001b[0;36m__getitem__\u001b[0;34m(self, k)\u001b[0m\n\u001b[1;32m   1443\u001b[0m         \u001b[0;32mif\u001b[0m \u001b[0misinstance\u001b[0m\u001b[0;34m(\u001b[0m\u001b[0mk\u001b[0m\u001b[0;34m,\u001b[0m \u001b[0mstr\u001b[0m\u001b[0;34m)\u001b[0m\u001b[0;34m:\u001b[0m\u001b[0;34m\u001b[0m\u001b[0;34m\u001b[0m\u001b[0m\n\u001b[1;32m   1444\u001b[0m             \u001b[0minner_dict\u001b[0m \u001b[0;34m=\u001b[0m \u001b[0;34m{\u001b[0m\u001b[0mk\u001b[0m\u001b[0;34m:\u001b[0m \u001b[0mv\u001b[0m \u001b[0;32mfor\u001b[0m \u001b[0;34m(\u001b[0m\u001b[0mk\u001b[0m\u001b[0;34m,\u001b[0m \u001b[0mv\u001b[0m\u001b[0;34m)\u001b[0m \u001b[0;32min\u001b[0m \u001b[0mself\u001b[0m\u001b[0;34m.\u001b[0m\u001b[0mitems\u001b[0m\u001b[0;34m(\u001b[0m\u001b[0;34m)\u001b[0m\u001b[0;34m}\u001b[0m\u001b[0;34m\u001b[0m\u001b[0;34m\u001b[0m\u001b[0m\n\u001b[0;32m-> 1445\u001b[0;31m             \u001b[0;32mreturn\u001b[0m \u001b[0minner_dict\u001b[0m\u001b[0;34m[\u001b[0m\u001b[0mk\u001b[0m\u001b[0;34m]\u001b[0m\u001b[0;34m\u001b[0m\u001b[0;34m\u001b[0m\u001b[0m\n\u001b[0m\u001b[1;32m   1446\u001b[0m         \u001b[0;32melse\u001b[0m\u001b[0;34m:\u001b[0m\u001b[0;34m\u001b[0m\u001b[0;34m\u001b[0m\u001b[0m\n\u001b[1;32m   1447\u001b[0m             \u001b[0;32mreturn\u001b[0m \u001b[0mself\u001b[0m\u001b[0;34m.\u001b[0m\u001b[0mto_tuple\u001b[0m\u001b[0;34m(\u001b[0m\u001b[0;34m)\u001b[0m\u001b[0;34m[\u001b[0m\u001b[0mk\u001b[0m\u001b[0;34m]\u001b[0m\u001b[0;34m\u001b[0m\u001b[0;34m\u001b[0m\u001b[0m\n",
      "\u001b[0;31mKeyError\u001b[0m: 'loss'"
     ]
    }
   ],
   "source": [
    "bert_trainer.train()"
   ]
  },
  {
   "cell_type": "code",
   "execution_count": null,
   "metadata": {},
   "outputs": [],
   "source": [
    "bert_wandb_logger.finish()"
   ]
  }
 ],
 "metadata": {
  "kernelspec": {
   "display_name": "Python 3",
   "language": "python",
   "name": "python3"
  },
  "language_info": {
   "codemirror_mode": {
    "name": "ipython",
    "version": 3
   },
   "file_extension": ".py",
   "mimetype": "text/x-python",
   "name": "python",
   "nbconvert_exporter": "python",
   "pygments_lexer": "ipython3",
   "version": "3.8.5"
  }
 },
 "nbformat": 4,
 "nbformat_minor": 4
}
