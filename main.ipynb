{
 "cells": [
  {
   "cell_type": "markdown",
   "metadata": {},
   "source": [
    "# Question answering on the SQuAD dataset"
   ]
  },
  {
   "cell_type": "code",
   "execution_count": 38,
   "metadata": {
    "execution": {
     "iopub.execute_input": "2021-01-09T15:02:47.857057Z",
     "iopub.status.busy": "2021-01-09T15:02:47.856599Z",
     "iopub.status.idle": "2021-01-09T15:02:47.951360Z",
     "shell.execute_reply": "2021-01-09T15:02:47.949969Z",
     "shell.execute_reply.started": "2021-01-09T15:02:47.857012Z"
    }
   },
   "outputs": [
    {
     "name": "stdout",
     "output_type": "stream",
     "text": [
      "The autoreload extension is already loaded. To reload it, use:\n",
      "  %reload_ext autoreload\n"
     ]
    }
   ],
   "source": [
    "import sys\n",
    "import pandas as pd\n",
    "import numpy as np\n",
    "import matplotlib.pyplot as plt\n",
    "import torch\n",
    "import torch.nn as nn\n",
    "import torch.optim as optim\n",
    "import wandb\n",
    "import transformers\n",
    "\n",
    "import dataset\n",
    "import model\n",
    "\n",
    "%load_ext autoreload\n",
    "%autoreload 2\n",
    "%matplotlib inline"
   ]
  },
  {
   "cell_type": "code",
   "execution_count": 2,
   "metadata": {
    "execution": {
     "iopub.execute_input": "2021-01-09T14:53:37.793953Z",
     "iopub.status.busy": "2021-01-09T14:53:37.793534Z",
     "iopub.status.idle": "2021-01-09T14:53:37.854585Z",
     "shell.execute_reply": "2021-01-09T14:53:37.853453Z",
     "shell.execute_reply.started": "2021-01-09T14:53:37.793909Z"
    }
   },
   "outputs": [
    {
     "name": "stdout",
     "output_type": "stream",
     "text": [
      "env: WANDB_WATCH=all\n",
      "env: WANDB_PROJECT=squad-qa\n",
      "env: WANDB_DISABLED=false\n"
     ]
    }
   ],
   "source": [
    "plt.rcParams['figure.figsize'] = [8, 6]\n",
    "plt.rcParams['figure.dpi'] = 100\n",
    "plt.rcParams['axes.xmargin'] = .05\n",
    "plt.rcParams['axes.ymargin'] = .05\n",
    "plt.style.use('ggplot')\n",
    "\n",
    "%env WANDB_WATCH=all\n",
    "%env WANDB_PROJECT=squad-qa\n",
    "%env WANDB_DISABLED=false"
   ]
  },
  {
   "cell_type": "code",
   "execution_count": 54,
   "metadata": {
    "execution": {
     "iopub.execute_input": "2021-01-09T15:11:25.843689Z",
     "iopub.status.busy": "2021-01-09T15:11:25.843217Z",
     "iopub.status.idle": "2021-01-09T15:11:28.032758Z",
     "shell.execute_reply": "2021-01-09T15:11:28.031025Z",
     "shell.execute_reply.started": "2021-01-09T15:11:25.843635Z"
    }
   },
   "outputs": [
    {
     "name": "stdout",
     "output_type": "stream",
     "text": [
      "\u001b[34m\u001b[1mwandb\u001b[0m: Currently logged in as: \u001b[33mwadaboa\u001b[0m (use `wandb login --relogin` to force relogin)\n"
     ]
    }
   ],
   "source": [
    "!{sys.executable} -m wandb login"
   ]
  },
  {
   "cell_type": "markdown",
   "metadata": {},
   "source": [
    "## Data loading/preparation"
   ]
  },
  {
   "cell_type": "code",
   "execution_count": 4,
   "metadata": {
    "execution": {
     "iopub.execute_input": "2021-01-09T14:54:43.895965Z",
     "iopub.status.busy": "2021-01-09T14:54:43.895557Z",
     "iopub.status.idle": "2021-01-09T14:54:43.950871Z",
     "shell.execute_reply": "2021-01-09T14:54:43.949397Z",
     "shell.execute_reply.started": "2021-01-09T14:54:43.895922Z"
    }
   },
   "outputs": [],
   "source": [
    "def preprocess_question(text):\n",
    "    \"\"\"\n",
    "    Preprocess the given question text from the SQuAD dataset\n",
    "    \"\"\"\n",
    "    return text.lower()\n",
    "\n",
    "\n",
    "def preprocess_context(text):\n",
    "    \"\"\"\n",
    "    Preprocess the given context text from the SQuAD dataset\n",
    "    \"\"\"\n",
    "    return text.lower()"
   ]
  },
  {
   "cell_type": "code",
   "execution_count": 5,
   "metadata": {
    "execution": {
     "iopub.execute_input": "2021-01-09T14:54:44.053255Z",
     "iopub.status.busy": "2021-01-09T14:54:44.052950Z",
     "iopub.status.idle": "2021-01-09T14:54:44.373815Z",
     "shell.execute_reply": "2021-01-09T14:54:44.372676Z",
     "shell.execute_reply.started": "2021-01-09T14:54:44.053217Z"
    }
   },
   "outputs": [
    {
     "data": {
      "text/html": [
       "<div>\n",
       "<style scoped>\n",
       "    .dataframe tbody tr th:only-of-type {\n",
       "        vertical-align: middle;\n",
       "    }\n",
       "\n",
       "    .dataframe tbody tr th {\n",
       "        vertical-align: top;\n",
       "    }\n",
       "\n",
       "    .dataframe thead th {\n",
       "        text-align: right;\n",
       "    }\n",
       "</style>\n",
       "<table border=\"1\" class=\"dataframe\">\n",
       "  <thead>\n",
       "    <tr style=\"text-align: right;\">\n",
       "      <th></th>\n",
       "      <th>index</th>\n",
       "      <th>question</th>\n",
       "      <th>title</th>\n",
       "      <th>context_id</th>\n",
       "      <th>context</th>\n",
       "      <th>answer</th>\n",
       "      <th>answer_start</th>\n",
       "      <th>answer_end</th>\n",
       "    </tr>\n",
       "  </thead>\n",
       "  <tbody>\n",
       "    <tr>\n",
       "      <th>0</th>\n",
       "      <td>5733be284776f41900661182</td>\n",
       "      <td>To whom did the Virgin Mary allegedly appear i...</td>\n",
       "      <td>University_of_Notre_Dame</td>\n",
       "      <td>0</td>\n",
       "      <td>Architecturally, the school has a Catholic cha...</td>\n",
       "      <td>Saint Bernadette Soubirous</td>\n",
       "      <td>515</td>\n",
       "      <td>541</td>\n",
       "    </tr>\n",
       "    <tr>\n",
       "      <th>1</th>\n",
       "      <td>5733be284776f4190066117f</td>\n",
       "      <td>What is in front of the Notre Dame Main Building?</td>\n",
       "      <td>University_of_Notre_Dame</td>\n",
       "      <td>0</td>\n",
       "      <td>Architecturally, the school has a Catholic cha...</td>\n",
       "      <td>a copper statue of Christ</td>\n",
       "      <td>188</td>\n",
       "      <td>213</td>\n",
       "    </tr>\n",
       "    <tr>\n",
       "      <th>2</th>\n",
       "      <td>5733be284776f41900661180</td>\n",
       "      <td>The Basilica of the Sacred heart at Notre Dame...</td>\n",
       "      <td>University_of_Notre_Dame</td>\n",
       "      <td>0</td>\n",
       "      <td>Architecturally, the school has a Catholic cha...</td>\n",
       "      <td>the Main Building</td>\n",
       "      <td>279</td>\n",
       "      <td>296</td>\n",
       "    </tr>\n",
       "    <tr>\n",
       "      <th>3</th>\n",
       "      <td>5733be284776f41900661181</td>\n",
       "      <td>What is the Grotto at Notre Dame?</td>\n",
       "      <td>University_of_Notre_Dame</td>\n",
       "      <td>0</td>\n",
       "      <td>Architecturally, the school has a Catholic cha...</td>\n",
       "      <td>a Marian place of prayer and reflection</td>\n",
       "      <td>381</td>\n",
       "      <td>420</td>\n",
       "    </tr>\n",
       "    <tr>\n",
       "      <th>4</th>\n",
       "      <td>5733be284776f4190066117e</td>\n",
       "      <td>What sits on top of the Main Building at Notre...</td>\n",
       "      <td>University_of_Notre_Dame</td>\n",
       "      <td>0</td>\n",
       "      <td>Architecturally, the school has a Catholic cha...</td>\n",
       "      <td>a golden statue of the Virgin Mary</td>\n",
       "      <td>92</td>\n",
       "      <td>126</td>\n",
       "    </tr>\n",
       "    <tr>\n",
       "      <th>...</th>\n",
       "      <td>...</td>\n",
       "      <td>...</td>\n",
       "      <td>...</td>\n",
       "      <td>...</td>\n",
       "      <td>...</td>\n",
       "      <td>...</td>\n",
       "      <td>...</td>\n",
       "      <td>...</td>\n",
       "    </tr>\n",
       "    <tr>\n",
       "      <th>87594</th>\n",
       "      <td>5735d259012e2f140011a09d</td>\n",
       "      <td>In what US state did Kathmandu first establish...</td>\n",
       "      <td>Kathmandu</td>\n",
       "      <td>18890</td>\n",
       "      <td>Kathmandu Metropolitan City (KMC), in order to...</td>\n",
       "      <td>Oregon</td>\n",
       "      <td>229</td>\n",
       "      <td>235</td>\n",
       "    </tr>\n",
       "    <tr>\n",
       "      <th>87595</th>\n",
       "      <td>5735d259012e2f140011a09e</td>\n",
       "      <td>What was Yangon previously known as?</td>\n",
       "      <td>Kathmandu</td>\n",
       "      <td>18890</td>\n",
       "      <td>Kathmandu Metropolitan City (KMC), in order to...</td>\n",
       "      <td>Rangoon</td>\n",
       "      <td>414</td>\n",
       "      <td>421</td>\n",
       "    </tr>\n",
       "    <tr>\n",
       "      <th>87596</th>\n",
       "      <td>5735d259012e2f140011a09f</td>\n",
       "      <td>With what Belorussian city does Kathmandu have...</td>\n",
       "      <td>Kathmandu</td>\n",
       "      <td>18890</td>\n",
       "      <td>Kathmandu Metropolitan City (KMC), in order to...</td>\n",
       "      <td>Minsk</td>\n",
       "      <td>476</td>\n",
       "      <td>481</td>\n",
       "    </tr>\n",
       "    <tr>\n",
       "      <th>87597</th>\n",
       "      <td>5735d259012e2f140011a0a0</td>\n",
       "      <td>In what year did Kathmandu create its initial ...</td>\n",
       "      <td>Kathmandu</td>\n",
       "      <td>18890</td>\n",
       "      <td>Kathmandu Metropolitan City (KMC), in order to...</td>\n",
       "      <td>1975</td>\n",
       "      <td>199</td>\n",
       "      <td>203</td>\n",
       "    </tr>\n",
       "    <tr>\n",
       "      <th>87598</th>\n",
       "      <td>5735d259012e2f140011a0a1</td>\n",
       "      <td>What is KMC an initialism of?</td>\n",
       "      <td>Kathmandu</td>\n",
       "      <td>18890</td>\n",
       "      <td>Kathmandu Metropolitan City (KMC), in order to...</td>\n",
       "      <td>Kathmandu Metropolitan City</td>\n",
       "      <td>0</td>\n",
       "      <td>27</td>\n",
       "    </tr>\n",
       "  </tbody>\n",
       "</table>\n",
       "<p>87599 rows × 8 columns</p>\n",
       "</div>"
      ],
      "text/plain": [
       "                          index  \\\n",
       "0      5733be284776f41900661182   \n",
       "1      5733be284776f4190066117f   \n",
       "2      5733be284776f41900661180   \n",
       "3      5733be284776f41900661181   \n",
       "4      5733be284776f4190066117e   \n",
       "...                         ...   \n",
       "87594  5735d259012e2f140011a09d   \n",
       "87595  5735d259012e2f140011a09e   \n",
       "87596  5735d259012e2f140011a09f   \n",
       "87597  5735d259012e2f140011a0a0   \n",
       "87598  5735d259012e2f140011a0a1   \n",
       "\n",
       "                                                question  \\\n",
       "0      To whom did the Virgin Mary allegedly appear i...   \n",
       "1      What is in front of the Notre Dame Main Building?   \n",
       "2      The Basilica of the Sacred heart at Notre Dame...   \n",
       "3                      What is the Grotto at Notre Dame?   \n",
       "4      What sits on top of the Main Building at Notre...   \n",
       "...                                                  ...   \n",
       "87594  In what US state did Kathmandu first establish...   \n",
       "87595               What was Yangon previously known as?   \n",
       "87596  With what Belorussian city does Kathmandu have...   \n",
       "87597  In what year did Kathmandu create its initial ...   \n",
       "87598                      What is KMC an initialism of?   \n",
       "\n",
       "                          title  context_id  \\\n",
       "0      University_of_Notre_Dame           0   \n",
       "1      University_of_Notre_Dame           0   \n",
       "2      University_of_Notre_Dame           0   \n",
       "3      University_of_Notre_Dame           0   \n",
       "4      University_of_Notre_Dame           0   \n",
       "...                         ...         ...   \n",
       "87594                 Kathmandu       18890   \n",
       "87595                 Kathmandu       18890   \n",
       "87596                 Kathmandu       18890   \n",
       "87597                 Kathmandu       18890   \n",
       "87598                 Kathmandu       18890   \n",
       "\n",
       "                                                 context  \\\n",
       "0      Architecturally, the school has a Catholic cha...   \n",
       "1      Architecturally, the school has a Catholic cha...   \n",
       "2      Architecturally, the school has a Catholic cha...   \n",
       "3      Architecturally, the school has a Catholic cha...   \n",
       "4      Architecturally, the school has a Catholic cha...   \n",
       "...                                                  ...   \n",
       "87594  Kathmandu Metropolitan City (KMC), in order to...   \n",
       "87595  Kathmandu Metropolitan City (KMC), in order to...   \n",
       "87596  Kathmandu Metropolitan City (KMC), in order to...   \n",
       "87597  Kathmandu Metropolitan City (KMC), in order to...   \n",
       "87598  Kathmandu Metropolitan City (KMC), in order to...   \n",
       "\n",
       "                                        answer  answer_start  answer_end  \n",
       "0                   Saint Bernadette Soubirous           515         541  \n",
       "1                    a copper statue of Christ           188         213  \n",
       "2                            the Main Building           279         296  \n",
       "3      a Marian place of prayer and reflection           381         420  \n",
       "4           a golden statue of the Virgin Mary            92         126  \n",
       "...                                        ...           ...         ...  \n",
       "87594                                   Oregon           229         235  \n",
       "87595                                  Rangoon           414         421  \n",
       "87596                                    Minsk           476         481  \n",
       "87597                                     1975           199         203  \n",
       "87598              Kathmandu Metropolitan City             0          27  \n",
       "\n",
       "[87599 rows x 8 columns]"
      ]
     },
     "execution_count": 5,
     "metadata": {},
     "output_type": "execute_result"
    }
   ],
   "source": [
    "squad_dataset = dataset.SquadDataset(\n",
    "    question_preprocessor=preprocess_question,\n",
    "    context_preprocessor=preprocess_context,\n",
    ")\n",
    "squad_dataset.dataframe"
   ]
  },
  {
   "cell_type": "code",
   "execution_count": 6,
   "metadata": {
    "execution": {
     "iopub.execute_input": "2021-01-09T14:54:44.894751Z",
     "iopub.status.busy": "2021-01-09T14:54:44.894439Z",
     "iopub.status.idle": "2021-01-09T14:54:44.969020Z",
     "shell.execute_reply": "2021-01-09T14:54:44.967572Z",
     "shell.execute_reply.started": "2021-01-09T14:54:44.894712Z"
    }
   },
   "outputs": [
    {
     "data": {
      "text/html": [
       "<div>\n",
       "<style scoped>\n",
       "    .dataframe tbody tr th:only-of-type {\n",
       "        vertical-align: middle;\n",
       "    }\n",
       "\n",
       "    .dataframe tbody tr th {\n",
       "        vertical-align: top;\n",
       "    }\n",
       "\n",
       "    .dataframe thead th {\n",
       "        text-align: right;\n",
       "    }\n",
       "</style>\n",
       "<table border=\"1\" class=\"dataframe\">\n",
       "  <thead>\n",
       "    <tr style=\"text-align: right;\">\n",
       "      <th></th>\n",
       "      <th>index</th>\n",
       "      <th>question</th>\n",
       "      <th>title</th>\n",
       "      <th>context_id</th>\n",
       "      <th>context</th>\n",
       "      <th>answer</th>\n",
       "      <th>answer_start</th>\n",
       "      <th>answer_end</th>\n",
       "    </tr>\n",
       "  </thead>\n",
       "  <tbody>\n",
       "    <tr>\n",
       "      <th>0</th>\n",
       "      <td>5733be284776f41900661182</td>\n",
       "      <td>To whom did the Virgin Mary allegedly appear i...</td>\n",
       "      <td>University_of_Notre_Dame</td>\n",
       "      <td>0</td>\n",
       "      <td>Architecturally, the school has a Catholic cha...</td>\n",
       "      <td>Saint Bernadette Soubirous</td>\n",
       "      <td>515</td>\n",
       "      <td>541</td>\n",
       "    </tr>\n",
       "    <tr>\n",
       "      <th>1</th>\n",
       "      <td>5733be284776f4190066117f</td>\n",
       "      <td>What is in front of the Notre Dame Main Building?</td>\n",
       "      <td>University_of_Notre_Dame</td>\n",
       "      <td>0</td>\n",
       "      <td>Architecturally, the school has a Catholic cha...</td>\n",
       "      <td>a copper statue of Christ</td>\n",
       "      <td>188</td>\n",
       "      <td>213</td>\n",
       "    </tr>\n",
       "    <tr>\n",
       "      <th>2</th>\n",
       "      <td>5733be284776f41900661180</td>\n",
       "      <td>The Basilica of the Sacred heart at Notre Dame...</td>\n",
       "      <td>University_of_Notre_Dame</td>\n",
       "      <td>0</td>\n",
       "      <td>Architecturally, the school has a Catholic cha...</td>\n",
       "      <td>the Main Building</td>\n",
       "      <td>279</td>\n",
       "      <td>296</td>\n",
       "    </tr>\n",
       "    <tr>\n",
       "      <th>3</th>\n",
       "      <td>5733be284776f41900661181</td>\n",
       "      <td>What is the Grotto at Notre Dame?</td>\n",
       "      <td>University_of_Notre_Dame</td>\n",
       "      <td>0</td>\n",
       "      <td>Architecturally, the school has a Catholic cha...</td>\n",
       "      <td>a Marian place of prayer and reflection</td>\n",
       "      <td>381</td>\n",
       "      <td>420</td>\n",
       "    </tr>\n",
       "    <tr>\n",
       "      <th>4</th>\n",
       "      <td>5733be284776f4190066117e</td>\n",
       "      <td>What sits on top of the Main Building at Notre...</td>\n",
       "      <td>University_of_Notre_Dame</td>\n",
       "      <td>0</td>\n",
       "      <td>Architecturally, the school has a Catholic cha...</td>\n",
       "      <td>a golden statue of the Virgin Mary</td>\n",
       "      <td>92</td>\n",
       "      <td>126</td>\n",
       "    </tr>\n",
       "    <tr>\n",
       "      <th>...</th>\n",
       "      <td>...</td>\n",
       "      <td>...</td>\n",
       "      <td>...</td>\n",
       "      <td>...</td>\n",
       "      <td>...</td>\n",
       "      <td>...</td>\n",
       "      <td>...</td>\n",
       "      <td>...</td>\n",
       "    </tr>\n",
       "    <tr>\n",
       "      <th>70185</th>\n",
       "      <td>5735d259012e2f140011a09d</td>\n",
       "      <td>In what US state did Kathmandu first establish...</td>\n",
       "      <td>Kathmandu</td>\n",
       "      <td>18890</td>\n",
       "      <td>Kathmandu Metropolitan City (KMC), in order to...</td>\n",
       "      <td>Oregon</td>\n",
       "      <td>229</td>\n",
       "      <td>235</td>\n",
       "    </tr>\n",
       "    <tr>\n",
       "      <th>70186</th>\n",
       "      <td>5735d259012e2f140011a09e</td>\n",
       "      <td>What was Yangon previously known as?</td>\n",
       "      <td>Kathmandu</td>\n",
       "      <td>18890</td>\n",
       "      <td>Kathmandu Metropolitan City (KMC), in order to...</td>\n",
       "      <td>Rangoon</td>\n",
       "      <td>414</td>\n",
       "      <td>421</td>\n",
       "    </tr>\n",
       "    <tr>\n",
       "      <th>70187</th>\n",
       "      <td>5735d259012e2f140011a09f</td>\n",
       "      <td>With what Belorussian city does Kathmandu have...</td>\n",
       "      <td>Kathmandu</td>\n",
       "      <td>18890</td>\n",
       "      <td>Kathmandu Metropolitan City (KMC), in order to...</td>\n",
       "      <td>Minsk</td>\n",
       "      <td>476</td>\n",
       "      <td>481</td>\n",
       "    </tr>\n",
       "    <tr>\n",
       "      <th>70188</th>\n",
       "      <td>5735d259012e2f140011a0a0</td>\n",
       "      <td>In what year did Kathmandu create its initial ...</td>\n",
       "      <td>Kathmandu</td>\n",
       "      <td>18890</td>\n",
       "      <td>Kathmandu Metropolitan City (KMC), in order to...</td>\n",
       "      <td>1975</td>\n",
       "      <td>199</td>\n",
       "      <td>203</td>\n",
       "    </tr>\n",
       "    <tr>\n",
       "      <th>70189</th>\n",
       "      <td>5735d259012e2f140011a0a1</td>\n",
       "      <td>What is KMC an initialism of?</td>\n",
       "      <td>Kathmandu</td>\n",
       "      <td>18890</td>\n",
       "      <td>Kathmandu Metropolitan City (KMC), in order to...</td>\n",
       "      <td>Kathmandu Metropolitan City</td>\n",
       "      <td>0</td>\n",
       "      <td>27</td>\n",
       "    </tr>\n",
       "  </tbody>\n",
       "</table>\n",
       "<p>70190 rows × 8 columns</p>\n",
       "</div>"
      ],
      "text/plain": [
       "                          index  \\\n",
       "0      5733be284776f41900661182   \n",
       "1      5733be284776f4190066117f   \n",
       "2      5733be284776f41900661180   \n",
       "3      5733be284776f41900661181   \n",
       "4      5733be284776f4190066117e   \n",
       "...                         ...   \n",
       "70185  5735d259012e2f140011a09d   \n",
       "70186  5735d259012e2f140011a09e   \n",
       "70187  5735d259012e2f140011a09f   \n",
       "70188  5735d259012e2f140011a0a0   \n",
       "70189  5735d259012e2f140011a0a1   \n",
       "\n",
       "                                                question  \\\n",
       "0      To whom did the Virgin Mary allegedly appear i...   \n",
       "1      What is in front of the Notre Dame Main Building?   \n",
       "2      The Basilica of the Sacred heart at Notre Dame...   \n",
       "3                      What is the Grotto at Notre Dame?   \n",
       "4      What sits on top of the Main Building at Notre...   \n",
       "...                                                  ...   \n",
       "70185  In what US state did Kathmandu first establish...   \n",
       "70186               What was Yangon previously known as?   \n",
       "70187  With what Belorussian city does Kathmandu have...   \n",
       "70188  In what year did Kathmandu create its initial ...   \n",
       "70189                      What is KMC an initialism of?   \n",
       "\n",
       "                          title  context_id  \\\n",
       "0      University_of_Notre_Dame           0   \n",
       "1      University_of_Notre_Dame           0   \n",
       "2      University_of_Notre_Dame           0   \n",
       "3      University_of_Notre_Dame           0   \n",
       "4      University_of_Notre_Dame           0   \n",
       "...                         ...         ...   \n",
       "70185                 Kathmandu       18890   \n",
       "70186                 Kathmandu       18890   \n",
       "70187                 Kathmandu       18890   \n",
       "70188                 Kathmandu       18890   \n",
       "70189                 Kathmandu       18890   \n",
       "\n",
       "                                                 context  \\\n",
       "0      Architecturally, the school has a Catholic cha...   \n",
       "1      Architecturally, the school has a Catholic cha...   \n",
       "2      Architecturally, the school has a Catholic cha...   \n",
       "3      Architecturally, the school has a Catholic cha...   \n",
       "4      Architecturally, the school has a Catholic cha...   \n",
       "...                                                  ...   \n",
       "70185  Kathmandu Metropolitan City (KMC), in order to...   \n",
       "70186  Kathmandu Metropolitan City (KMC), in order to...   \n",
       "70187  Kathmandu Metropolitan City (KMC), in order to...   \n",
       "70188  Kathmandu Metropolitan City (KMC), in order to...   \n",
       "70189  Kathmandu Metropolitan City (KMC), in order to...   \n",
       "\n",
       "                                        answer  answer_start  answer_end  \n",
       "0                   Saint Bernadette Soubirous           515         541  \n",
       "1                    a copper statue of Christ           188         213  \n",
       "2                            the Main Building           279         296  \n",
       "3      a Marian place of prayer and reflection           381         420  \n",
       "4           a golden statue of the Virgin Mary            92         126  \n",
       "...                                        ...           ...         ...  \n",
       "70185                                   Oregon           229         235  \n",
       "70186                                  Rangoon           414         421  \n",
       "70187                                    Minsk           476         481  \n",
       "70188                                     1975           199         203  \n",
       "70189              Kathmandu Metropolitan City             0          27  \n",
       "\n",
       "[70190 rows x 8 columns]"
      ]
     },
     "execution_count": 6,
     "metadata": {},
     "output_type": "execute_result"
    }
   ],
   "source": [
    "squad_dataset.train_df"
   ]
  },
  {
   "cell_type": "code",
   "execution_count": 7,
   "metadata": {
    "execution": {
     "iopub.execute_input": "2021-01-09T14:54:45.053077Z",
     "iopub.status.busy": "2021-01-09T14:54:45.052774Z",
     "iopub.status.idle": "2021-01-09T14:54:45.125497Z",
     "shell.execute_reply": "2021-01-09T14:54:45.124357Z",
     "shell.execute_reply.started": "2021-01-09T14:54:45.053039Z"
    }
   },
   "outputs": [
    {
     "data": {
      "text/html": [
       "<div>\n",
       "<style scoped>\n",
       "    .dataframe tbody tr th:only-of-type {\n",
       "        vertical-align: middle;\n",
       "    }\n",
       "\n",
       "    .dataframe tbody tr th {\n",
       "        vertical-align: top;\n",
       "    }\n",
       "\n",
       "    .dataframe thead th {\n",
       "        text-align: right;\n",
       "    }\n",
       "</style>\n",
       "<table border=\"1\" class=\"dataframe\">\n",
       "  <thead>\n",
       "    <tr style=\"text-align: right;\">\n",
       "      <th></th>\n",
       "      <th>index</th>\n",
       "      <th>question</th>\n",
       "      <th>title</th>\n",
       "      <th>context_id</th>\n",
       "      <th>context</th>\n",
       "      <th>answer</th>\n",
       "      <th>answer_start</th>\n",
       "      <th>answer_end</th>\n",
       "    </tr>\n",
       "  </thead>\n",
       "  <tbody>\n",
       "    <tr>\n",
       "      <th>0</th>\n",
       "      <td>56be85543aeaaa14008c9063</td>\n",
       "      <td>When did Beyonce start becoming popular?</td>\n",
       "      <td>Beyoncé</td>\n",
       "      <td>55</td>\n",
       "      <td>Beyoncé Giselle Knowles-Carter (/biːˈjɒnseɪ/ b...</td>\n",
       "      <td>in the late 1990s</td>\n",
       "      <td>269</td>\n",
       "      <td>286</td>\n",
       "    </tr>\n",
       "    <tr>\n",
       "      <th>1</th>\n",
       "      <td>56be85543aeaaa14008c9065</td>\n",
       "      <td>What areas did Beyonce compete in when she was...</td>\n",
       "      <td>Beyoncé</td>\n",
       "      <td>55</td>\n",
       "      <td>Beyoncé Giselle Knowles-Carter (/biːˈjɒnseɪ/ b...</td>\n",
       "      <td>singing and dancing</td>\n",
       "      <td>207</td>\n",
       "      <td>226</td>\n",
       "    </tr>\n",
       "    <tr>\n",
       "      <th>2</th>\n",
       "      <td>56be85543aeaaa14008c9066</td>\n",
       "      <td>When did Beyonce leave Destiny's Child and bec...</td>\n",
       "      <td>Beyoncé</td>\n",
       "      <td>55</td>\n",
       "      <td>Beyoncé Giselle Knowles-Carter (/biːˈjɒnseɪ/ b...</td>\n",
       "      <td>2003</td>\n",
       "      <td>526</td>\n",
       "      <td>530</td>\n",
       "    </tr>\n",
       "    <tr>\n",
       "      <th>3</th>\n",
       "      <td>56bf6b0f3aeaaa14008c9601</td>\n",
       "      <td>In what city and state did Beyonce  grow up?</td>\n",
       "      <td>Beyoncé</td>\n",
       "      <td>55</td>\n",
       "      <td>Beyoncé Giselle Knowles-Carter (/biːˈjɒnseɪ/ b...</td>\n",
       "      <td>Houston, Texas</td>\n",
       "      <td>166</td>\n",
       "      <td>180</td>\n",
       "    </tr>\n",
       "    <tr>\n",
       "      <th>4</th>\n",
       "      <td>56bf6b0f3aeaaa14008c9602</td>\n",
       "      <td>In which decade did Beyonce become famous?</td>\n",
       "      <td>Beyoncé</td>\n",
       "      <td>55</td>\n",
       "      <td>Beyoncé Giselle Knowles-Carter (/biːˈjɒnseɪ/ b...</td>\n",
       "      <td>late 1990s</td>\n",
       "      <td>276</td>\n",
       "      <td>286</td>\n",
       "    </tr>\n",
       "    <tr>\n",
       "      <th>...</th>\n",
       "      <td>...</td>\n",
       "      <td>...</td>\n",
       "      <td>...</td>\n",
       "      <td>...</td>\n",
       "      <td>...</td>\n",
       "      <td>...</td>\n",
       "      <td>...</td>\n",
       "      <td>...</td>\n",
       "    </tr>\n",
       "    <tr>\n",
       "      <th>17404</th>\n",
       "      <td>5732868bb3a91d1900202e0f</td>\n",
       "      <td>At what Augusta hole was the Eisenhower Pine l...</td>\n",
       "      <td>Dwight_D._Eisenhower</td>\n",
       "      <td>18592</td>\n",
       "      <td>A loblolly pine, known as the \"Eisenhower Pine...</td>\n",
       "      <td>17th</td>\n",
       "      <td>74</td>\n",
       "      <td>78</td>\n",
       "    </tr>\n",
       "    <tr>\n",
       "      <th>17405</th>\n",
       "      <td>5732868bb3a91d1900202e10</td>\n",
       "      <td>How many meters away from the Masters tee on A...</td>\n",
       "      <td>Dwight_D._Eisenhower</td>\n",
       "      <td>18592</td>\n",
       "      <td>A loblolly pine, known as the \"Eisenhower Pine...</td>\n",
       "      <td>192</td>\n",
       "      <td>110</td>\n",
       "      <td>113</td>\n",
       "    </tr>\n",
       "    <tr>\n",
       "      <th>17406</th>\n",
       "      <td>5732868bb3a91d1900202e11</td>\n",
       "      <td>What did Eisenhower want to be done to the Eis...</td>\n",
       "      <td>Dwight_D._Eisenhower</td>\n",
       "      <td>18592</td>\n",
       "      <td>A loblolly pine, known as the \"Eisenhower Pine...</td>\n",
       "      <td>cut down</td>\n",
       "      <td>279</td>\n",
       "      <td>287</td>\n",
       "    </tr>\n",
       "    <tr>\n",
       "      <th>17407</th>\n",
       "      <td>5732868bb3a91d1900202e12</td>\n",
       "      <td>What damaged the Eisenhower Pine in February 2...</td>\n",
       "      <td>Dwight_D._Eisenhower</td>\n",
       "      <td>18592</td>\n",
       "      <td>A loblolly pine, known as the \"Eisenhower Pine...</td>\n",
       "      <td>ice storm</td>\n",
       "      <td>478</td>\n",
       "      <td>487</td>\n",
       "    </tr>\n",
       "    <tr>\n",
       "      <th>17408</th>\n",
       "      <td>5732868bb3a91d1900202e13</td>\n",
       "      <td>In what year did Eisenhower propose that the p...</td>\n",
       "      <td>Dwight_D._Eisenhower</td>\n",
       "      <td>18592</td>\n",
       "      <td>A loblolly pine, known as the \"Eisenhower Pine...</td>\n",
       "      <td>1956</td>\n",
       "      <td>237</td>\n",
       "      <td>241</td>\n",
       "    </tr>\n",
       "  </tbody>\n",
       "</table>\n",
       "<p>17409 rows × 8 columns</p>\n",
       "</div>"
      ],
      "text/plain": [
       "                          index  \\\n",
       "0      56be85543aeaaa14008c9063   \n",
       "1      56be85543aeaaa14008c9065   \n",
       "2      56be85543aeaaa14008c9066   \n",
       "3      56bf6b0f3aeaaa14008c9601   \n",
       "4      56bf6b0f3aeaaa14008c9602   \n",
       "...                         ...   \n",
       "17404  5732868bb3a91d1900202e0f   \n",
       "17405  5732868bb3a91d1900202e10   \n",
       "17406  5732868bb3a91d1900202e11   \n",
       "17407  5732868bb3a91d1900202e12   \n",
       "17408  5732868bb3a91d1900202e13   \n",
       "\n",
       "                                                question  \\\n",
       "0               When did Beyonce start becoming popular?   \n",
       "1      What areas did Beyonce compete in when she was...   \n",
       "2      When did Beyonce leave Destiny's Child and bec...   \n",
       "3          In what city and state did Beyonce  grow up?    \n",
       "4             In which decade did Beyonce become famous?   \n",
       "...                                                  ...   \n",
       "17404  At what Augusta hole was the Eisenhower Pine l...   \n",
       "17405  How many meters away from the Masters tee on A...   \n",
       "17406  What did Eisenhower want to be done to the Eis...   \n",
       "17407  What damaged the Eisenhower Pine in February 2...   \n",
       "17408  In what year did Eisenhower propose that the p...   \n",
       "\n",
       "                      title  context_id  \\\n",
       "0                   Beyoncé          55   \n",
       "1                   Beyoncé          55   \n",
       "2                   Beyoncé          55   \n",
       "3                   Beyoncé          55   \n",
       "4                   Beyoncé          55   \n",
       "...                     ...         ...   \n",
       "17404  Dwight_D._Eisenhower       18592   \n",
       "17405  Dwight_D._Eisenhower       18592   \n",
       "17406  Dwight_D._Eisenhower       18592   \n",
       "17407  Dwight_D._Eisenhower       18592   \n",
       "17408  Dwight_D._Eisenhower       18592   \n",
       "\n",
       "                                                 context               answer  \\\n",
       "0      Beyoncé Giselle Knowles-Carter (/biːˈjɒnseɪ/ b...    in the late 1990s   \n",
       "1      Beyoncé Giselle Knowles-Carter (/biːˈjɒnseɪ/ b...  singing and dancing   \n",
       "2      Beyoncé Giselle Knowles-Carter (/biːˈjɒnseɪ/ b...                 2003   \n",
       "3      Beyoncé Giselle Knowles-Carter (/biːˈjɒnseɪ/ b...       Houston, Texas   \n",
       "4      Beyoncé Giselle Knowles-Carter (/biːˈjɒnseɪ/ b...           late 1990s   \n",
       "...                                                  ...                  ...   \n",
       "17404  A loblolly pine, known as the \"Eisenhower Pine...                 17th   \n",
       "17405  A loblolly pine, known as the \"Eisenhower Pine...                  192   \n",
       "17406  A loblolly pine, known as the \"Eisenhower Pine...             cut down   \n",
       "17407  A loblolly pine, known as the \"Eisenhower Pine...            ice storm   \n",
       "17408  A loblolly pine, known as the \"Eisenhower Pine...                 1956   \n",
       "\n",
       "       answer_start  answer_end  \n",
       "0               269         286  \n",
       "1               207         226  \n",
       "2               526         530  \n",
       "3               166         180  \n",
       "4               276         286  \n",
       "...             ...         ...  \n",
       "17404            74          78  \n",
       "17405           110         113  \n",
       "17406           279         287  \n",
       "17407           478         487  \n",
       "17408           237         241  \n",
       "\n",
       "[17409 rows x 8 columns]"
      ]
     },
     "execution_count": 7,
     "metadata": {},
     "output_type": "execute_result"
    }
   ],
   "source": [
    "squad_dataset.val_df"
   ]
  },
  {
   "cell_type": "code",
   "execution_count": 8,
   "metadata": {
    "execution": {
     "iopub.execute_input": "2021-01-09T14:54:45.314746Z",
     "iopub.status.busy": "2021-01-09T14:54:45.314433Z",
     "iopub.status.idle": "2021-01-09T14:54:45.373522Z",
     "shell.execute_reply": "2021-01-09T14:54:45.372401Z",
     "shell.execute_reply.started": "2021-01-09T14:54:45.314708Z"
    }
   },
   "outputs": [
    {
     "data": {
      "text/plain": [
       "('To whom did the Virgin Mary allegedly appear in 1858 in Lourdes France?',\n",
       " 'Architecturally, the school has a Catholic character. Atop the Main Building\\'s gold dome is a golden statue of the Virgin Mary. Immediately in front of the Main Building and facing it, is a copper statue of Christ with arms upraised with the legend \"Venite Ad Me Omnes\". Next to the Main Building is the Basilica of the Sacred Heart. Immediately behind the basilica is the Grotto, a Marian place of prayer and reflection. It is a replica of the grotto at Lourdes, France where the Virgin Mary reputedly appeared to Saint Bernadette Soubirous in 1858. At the end of the main drive (and in a direct line that connects through 3 statues and the Gold Dome), is a simple, modern stone statue of Mary.',\n",
       " 515,\n",
       " 541)"
      ]
     },
     "execution_count": 8,
     "metadata": {},
     "output_type": "execute_result"
    }
   ],
   "source": [
    "squad_dataset.train_dataset[0]"
   ]
  },
  {
   "cell_type": "markdown",
   "metadata": {},
   "source": [
    "## Baseline"
   ]
  },
  {
   "cell_type": "code",
   "execution_count": 9,
   "metadata": {
    "execution": {
     "iopub.execute_input": "2021-01-09T14:54:46.388992Z",
     "iopub.status.busy": "2021-01-09T14:54:46.388554Z",
     "iopub.status.idle": "2021-01-09T14:54:46.442884Z",
     "shell.execute_reply": "2021-01-09T14:54:46.441493Z",
     "shell.execute_reply.started": "2021-01-09T14:54:46.388944Z"
    }
   },
   "outputs": [],
   "source": [
    "UNK_TOKEN = \"[UNK]\"\n",
    "PAD_TOKEN = \"[PAD]\""
   ]
  },
  {
   "cell_type": "code",
   "execution_count": 10,
   "metadata": {
    "execution": {
     "iopub.execute_input": "2021-01-09T14:54:46.901379Z",
     "iopub.status.busy": "2021-01-09T14:54:46.901073Z",
     "iopub.status.idle": "2021-01-09T14:55:38.602609Z",
     "shell.execute_reply": "2021-01-09T14:55:38.601103Z",
     "shell.execute_reply.started": "2021-01-09T14:54:46.901341Z"
    }
   },
   "outputs": [],
   "source": [
    "import gensim\n",
    "import gensim.downloader as gloader\n",
    "\n",
    "\n",
    "def load_embedding_model(model_type, embedding_dimension=50):\n",
    "    \"\"\"\n",
    "    Loads a pre-trained word embedding model via gensim library\n",
    "    \"\"\"\n",
    "    # Find the correct embedding model name\n",
    "    download_path = \"\"\n",
    "    if model_type.strip().lower() == \"word2vec\":\n",
    "        download_path = \"word2vec-google-news-300\"\n",
    "    elif model_type.strip().lower() == \"glove\":\n",
    "        download_path = f\"glove-wiki-gigaword-{embedding_dimension}\"\n",
    "    else:\n",
    "        raise AttributeError(\n",
    "            \"Unsupported embedding model type (choose from {word2vec, glove})\"\n",
    "        )\n",
    "\n",
    "    # Check download\n",
    "    try:\n",
    "        emb_model = gloader.load(download_path)\n",
    "    except ValueError as e:\n",
    "        print(\"Invalid embedding model name. Check the embedding dimension:\")\n",
    "        print(\"Word2Vec: {300}\")\n",
    "        print(\"GloVe: {50, 100, 200, 300}\")\n",
    "        raise e\n",
    "\n",
    "    return emb_model\n",
    "\n",
    "\n",
    "glove_embedding_dimension = 50\n",
    "glove_embedding_model = load_embedding_model(\"glove\", embedding_dimension=glove_embedding_dimension)"
   ]
  },
  {
   "cell_type": "code",
   "execution_count": 11,
   "metadata": {
    "execution": {
     "iopub.execute_input": "2021-01-09T14:55:38.671787Z",
     "iopub.status.busy": "2021-01-09T14:55:38.671482Z",
     "iopub.status.idle": "2021-01-09T14:55:38.796083Z",
     "shell.execute_reply": "2021-01-09T14:55:38.794871Z",
     "shell.execute_reply.started": "2021-01-09T14:55:38.671750Z"
    }
   },
   "outputs": [
    {
     "data": {
      "text/plain": [
       "array([-0.12920076, -0.28866628, -0.01224866, -0.05676644, -0.20210965,\n",
       "       -0.08389011,  0.33359843,  0.16045167,  0.03867431,  0.17833012,\n",
       "        0.04696583, -0.00285802,  0.29099807,  0.04613704, -0.20923874,\n",
       "       -0.06613114, -0.06822549,  0.07665912,  0.3134014 ,  0.17848536,\n",
       "       -0.1225775 , -0.09916984, -0.07495987,  0.06413227,  0.14441176,\n",
       "        0.60894334,  0.17463093,  0.05335403, -0.01273871,  0.03474107,\n",
       "       -0.8123879 , -0.04688699,  0.20193407,  0.2031118 , -0.03935686,\n",
       "        0.06967544, -0.01553638, -0.03405238, -0.06528071,  0.12250231,\n",
       "        0.13991883, -0.17446303, -0.08011883,  0.0849521 , -0.01041659,\n",
       "       -0.13705009,  0.20127155,  0.10069408,  0.00653003,  0.01685157],\n",
       "      dtype=float32)"
      ]
     },
     "execution_count": 11,
     "metadata": {},
     "output_type": "execute_result"
    }
   ],
   "source": [
    "glove_unk = np.mean(glove_embedding_model.vectors, axis=0)\n",
    "glove_unk"
   ]
  },
  {
   "cell_type": "code",
   "execution_count": 12,
   "metadata": {
    "execution": {
     "iopub.execute_input": "2021-01-09T14:55:38.798481Z",
     "iopub.status.busy": "2021-01-09T14:55:38.798139Z",
     "iopub.status.idle": "2021-01-09T14:55:38.917848Z",
     "shell.execute_reply": "2021-01-09T14:55:38.916652Z",
     "shell.execute_reply.started": "2021-01-09T14:55:38.798439Z"
    }
   },
   "outputs": [
    {
     "data": {
      "text/plain": [
       "False"
      ]
     },
     "execution_count": 12,
     "metadata": {},
     "output_type": "execute_result"
    }
   ],
   "source": [
    "any(np.all(glove_embedding_model.vectors == 0, axis=1))"
   ]
  },
  {
   "cell_type": "code",
   "execution_count": 13,
   "metadata": {
    "execution": {
     "iopub.execute_input": "2021-01-09T14:55:38.919807Z",
     "iopub.status.busy": "2021-01-09T14:55:38.919483Z",
     "iopub.status.idle": "2021-01-09T14:55:39.173101Z",
     "shell.execute_reply": "2021-01-09T14:55:39.171812Z",
     "shell.execute_reply.started": "2021-01-09T14:55:38.919766Z"
    }
   },
   "outputs": [],
   "source": [
    "glove_embedding_model.add(UNK_TOKEN, glove_unk)\n",
    "glove_embedding_model.add(PAD_TOKEN, np.zeros((1, glove_embedding_dimension)))"
   ]
  },
  {
   "cell_type": "code",
   "execution_count": 14,
   "metadata": {
    "execution": {
     "iopub.execute_input": "2021-01-09T14:55:39.175321Z",
     "iopub.status.busy": "2021-01-09T14:55:39.174990Z",
     "iopub.status.idle": "2021-01-09T14:55:39.239120Z",
     "shell.execute_reply": "2021-01-09T14:55:39.237574Z",
     "shell.execute_reply.started": "2021-01-09T14:55:39.175280Z"
    }
   },
   "outputs": [
    {
     "data": {
      "text/plain": [
       "(400002, 50)"
      ]
     },
     "execution_count": 14,
     "metadata": {},
     "output_type": "execute_result"
    }
   ],
   "source": [
    "glove_embedding_model.vectors.shape"
   ]
  },
  {
   "cell_type": "code",
   "execution_count": 15,
   "metadata": {
    "execution": {
     "iopub.execute_input": "2021-01-09T14:55:39.240840Z",
     "iopub.status.busy": "2021-01-09T14:55:39.240534Z",
     "iopub.status.idle": "2021-01-09T14:55:39.299583Z",
     "shell.execute_reply": "2021-01-09T14:55:39.298418Z",
     "shell.execute_reply.started": "2021-01-09T14:55:39.240803Z"
    }
   },
   "outputs": [
    {
     "data": {
      "text/plain": [
       "array([-0.12920076, -0.28866628, -0.01224866, -0.05676644, -0.20210965,\n",
       "       -0.08389011,  0.33359843,  0.16045167,  0.03867431,  0.17833012,\n",
       "        0.04696583, -0.00285802,  0.29099807,  0.04613704, -0.20923874,\n",
       "       -0.06613114, -0.06822549,  0.07665912,  0.3134014 ,  0.17848536,\n",
       "       -0.1225775 , -0.09916984, -0.07495987,  0.06413227,  0.14441176,\n",
       "        0.60894334,  0.17463093,  0.05335403, -0.01273871,  0.03474107,\n",
       "       -0.8123879 , -0.04688699,  0.20193407,  0.2031118 , -0.03935686,\n",
       "        0.06967544, -0.01553638, -0.03405238, -0.06528071,  0.12250231,\n",
       "        0.13991883, -0.17446303, -0.08011883,  0.0849521 , -0.01041659,\n",
       "       -0.13705009,  0.20127155,  0.10069408,  0.00653003,  0.01685157],\n",
       "      dtype=float32)"
      ]
     },
     "execution_count": 15,
     "metadata": {},
     "output_type": "execute_result"
    }
   ],
   "source": [
    "glove_embedding_model[UNK_TOKEN]"
   ]
  },
  {
   "cell_type": "code",
   "execution_count": 16,
   "metadata": {
    "execution": {
     "iopub.execute_input": "2021-01-09T14:55:39.303237Z",
     "iopub.status.busy": "2021-01-09T14:55:39.302918Z",
     "iopub.status.idle": "2021-01-09T14:55:39.361184Z",
     "shell.execute_reply": "2021-01-09T14:55:39.359646Z",
     "shell.execute_reply.started": "2021-01-09T14:55:39.303199Z"
    }
   },
   "outputs": [
    {
     "data": {
      "text/plain": [
       "array([0., 0., 0., 0., 0., 0., 0., 0., 0., 0., 0., 0., 0., 0., 0., 0., 0.,\n",
       "       0., 0., 0., 0., 0., 0., 0., 0., 0., 0., 0., 0., 0., 0., 0., 0., 0.,\n",
       "       0., 0., 0., 0., 0., 0., 0., 0., 0., 0., 0., 0., 0., 0., 0., 0.],\n",
       "      dtype=float32)"
      ]
     },
     "execution_count": 16,
     "metadata": {},
     "output_type": "execute_result"
    }
   ],
   "source": [
    "glove_embedding_model[PAD_TOKEN]"
   ]
  },
  {
   "cell_type": "code",
   "execution_count": 17,
   "metadata": {
    "execution": {
     "iopub.execute_input": "2021-01-09T14:55:39.363797Z",
     "iopub.status.busy": "2021-01-09T14:55:39.363488Z",
     "iopub.status.idle": "2021-01-09T14:55:39.450225Z",
     "shell.execute_reply": "2021-01-09T14:55:39.448994Z",
     "shell.execute_reply.started": "2021-01-09T14:55:39.363759Z"
    }
   },
   "outputs": [
    {
     "data": {
      "text/plain": [
       "'[PAD]'"
      ]
     },
     "execution_count": 17,
     "metadata": {},
     "output_type": "execute_result"
    }
   ],
   "source": [
    "list(glove_embedding_model.vocab.keys())[-1]"
   ]
  },
  {
   "cell_type": "code",
   "execution_count": 18,
   "metadata": {
    "execution": {
     "iopub.execute_input": "2021-01-09T14:55:39.452814Z",
     "iopub.status.busy": "2021-01-09T14:55:39.452492Z",
     "iopub.status.idle": "2021-01-09T14:55:39.678292Z",
     "shell.execute_reply": "2021-01-09T14:55:39.676734Z",
     "shell.execute_reply.started": "2021-01-09T14:55:39.452773Z"
    }
   },
   "outputs": [],
   "source": [
    "glove_vocab = dict(\n",
    "    zip(glove_embedding_model.index2word, range(len(glove_embedding_model.index2word)))\n",
    ")"
   ]
  },
  {
   "cell_type": "code",
   "execution_count": 19,
   "metadata": {
    "execution": {
     "iopub.execute_input": "2021-01-09T14:55:39.680516Z",
     "iopub.status.busy": "2021-01-09T14:55:39.680187Z",
     "iopub.status.idle": "2021-01-09T14:55:40.605697Z",
     "shell.execute_reply": "2021-01-09T14:55:40.604400Z",
     "shell.execute_reply.started": "2021-01-09T14:55:39.680475Z"
    }
   },
   "outputs": [],
   "source": [
    "glove_embedding_layer = nn.Embedding(\n",
    "    glove_embedding_model.vectors.shape[0],\n",
    "    glove_embedding_dimension,\n",
    "    padding_idx=glove_vocab[PAD_TOKEN],\n",
    ")\n",
    "glove_embedding_layer.weight = nn.Parameter(\n",
    "    torch.from_numpy(glove_embedding_model.vectors)\n",
    ")\n",
    "glove_embedding_layer.weight.requires_grad = False"
   ]
  },
  {
   "cell_type": "code",
   "execution_count": 20,
   "metadata": {
    "execution": {
     "iopub.execute_input": "2021-01-09T14:55:40.607621Z",
     "iopub.status.busy": "2021-01-09T14:55:40.607279Z",
     "iopub.status.idle": "2021-01-09T14:55:40.667275Z",
     "shell.execute_reply": "2021-01-09T14:55:40.665940Z",
     "shell.execute_reply.started": "2021-01-09T14:55:40.607581Z"
    }
   },
   "outputs": [],
   "source": [
    "MAX_QUESTION_TOKENS = 25\n",
    "MAX_CONTEXT_TOKENS = 300"
   ]
  },
  {
   "cell_type": "code",
   "execution_count": 21,
   "metadata": {
    "execution": {
     "iopub.execute_input": "2021-01-09T14:55:40.669064Z",
     "iopub.status.busy": "2021-01-09T14:55:40.668724Z",
     "iopub.status.idle": "2021-01-09T14:55:41.578638Z",
     "shell.execute_reply": "2021-01-09T14:55:41.577362Z",
     "shell.execute_reply.started": "2021-01-09T14:55:40.669027Z"
    }
   },
   "outputs": [],
   "source": [
    "import tokenizers\n",
    "from tokenizers import Tokenizer\n",
    "from tokenizers.models import WordLevel\n",
    "from tokenizers.normalizers import Sequence, StripAccents, Lowercase, Strip\n",
    "from tokenizers.pre_tokenizers import Whitespace\n",
    "\n",
    "baseline_question_tokenizer = Tokenizer(WordLevel(glove_vocab, unk_token=UNK_TOKEN))\n",
    "baseline_question_tokenizer.normalizer = Sequence([StripAccents(), Lowercase(), Strip()])\n",
    "baseline_question_tokenizer.pre_tokenizer = Whitespace()\n",
    "baseline_question_tokenizer.enable_padding(\n",
    "    direction=\"right\",\n",
    "    pad_id=glove_vocab[PAD_TOKEN],\n",
    "    pad_type_id=1,\n",
    "    pad_token=PAD_TOKEN,\n",
    "    length=MAX_QUESTION_TOKENS,\n",
    ")\n",
    "baseline_question_tokenizer.enable_truncation(MAX_QUESTION_TOKENS)\n",
    "\n",
    "baseline_context_tokenizer = Tokenizer(WordLevel(glove_vocab, unk_token=UNK_TOKEN))\n",
    "baseline_context_tokenizer.normalizer = Sequence([StripAccents(), Lowercase(), Strip()])\n",
    "baseline_context_tokenizer.pre_tokenizer = Whitespace()\n",
    "baseline_context_tokenizer.enable_padding(\n",
    "    direction=\"right\",\n",
    "    pad_id=glove_vocab[PAD_TOKEN],\n",
    "    pad_type_id=1,\n",
    "    pad_token=PAD_TOKEN,\n",
    "    length=MAX_CONTEXT_TOKENS,\n",
    ")\n",
    "baseline_context_tokenizer.enable_truncation(MAX_CONTEXT_TOKENS)"
   ]
  },
  {
   "cell_type": "code",
   "execution_count": 22,
   "metadata": {
    "execution": {
     "iopub.execute_input": "2021-01-09T14:55:47.975054Z",
     "iopub.status.busy": "2021-01-09T14:55:47.974715Z",
     "iopub.status.idle": "2021-01-09T14:55:48.044987Z",
     "shell.execute_reply": "2021-01-09T14:55:48.043743Z",
     "shell.execute_reply.started": "2021-01-09T14:55:47.975013Z"
    }
   },
   "outputs": [
    {
     "data": {
      "text/plain": [
       "[1, 1, 1, 1, 0, 0, 0, 0, 0, 0, 0, 0, 0, 0, 0, 0, 0, 0, 0, 0, 0, 0, 0, 0, 0]"
      ]
     },
     "execution_count": 22,
     "metadata": {},
     "output_type": "execute_result"
    }
   ],
   "source": [
    "baseline_question_tokenizer.encode_batch([(\"ciao ciao\", \"miajjjo miao\"), (\"pmc\", \"mdmd\")])[0].attention_mask"
   ]
  },
  {
   "cell_type": "code",
   "execution_count": 82,
   "metadata": {
    "execution": {
     "iopub.execute_input": "2021-01-09T17:36:11.886128Z",
     "iopub.status.busy": "2021-01-09T17:36:11.885686Z",
     "iopub.status.idle": "2021-01-09T17:36:11.990879Z",
     "shell.execute_reply": "2021-01-09T17:36:11.989767Z",
     "shell.execute_reply.started": "2021-01-09T17:36:11.886082Z"
    }
   },
   "outputs": [
    {
     "name": "stdout",
     "output_type": "stream",
     "text": [
      "tensor([[[8, 5, 7, 7],\n",
      "         [0, 8, 5, 7],\n",
      "         [3, 3, 0, 5],\n",
      "         [5, 1, 4, 6],\n",
      "         [9, 4, 8, 2]],\n",
      "\n",
      "        [[9, 8, 3, 4],\n",
      "         [0, 9, 1, 8],\n",
      "         [0, 9, 6, 1],\n",
      "         [3, 9, 8, 6],\n",
      "         [7, 8, 7, 6]]])\n",
      "tensor([[[8, 4, 8, 5],\n",
      "         [0, 1, 0, 9]],\n",
      "\n",
      "        [[2, 7, 6, 3],\n",
      "         [6, 4, 8, 9]]])\n",
      "tensor([[[ 8.,  5.,  7.,  7.,  8.,  4.,  8.,  5., 64., 20., 56., 35.],\n",
      "         [ 8.,  5.,  7.,  7.,  0.,  1.,  0.,  9.,  0.,  5.,  0., 63.],\n",
      "         [ 0.,  8.,  5.,  7.,  8.,  4.,  8.,  5.,  0., 32., 40., 35.],\n",
      "         [ 0.,  8.,  5.,  7.,  0.,  1.,  0.,  9.,  0.,  8.,  0., 63.],\n",
      "         [ 3.,  3.,  0.,  5.,  8.,  4.,  8.,  5., 24., 12.,  0., 25.],\n",
      "         [ 3.,  3.,  0.,  5.,  0.,  1.,  0.,  9.,  0.,  3.,  0., 45.],\n",
      "         [ 5.,  1.,  4.,  6.,  8.,  4.,  8.,  5., 40.,  4., 32., 30.],\n",
      "         [ 5.,  1.,  4.,  6.,  0.,  1.,  0.,  9.,  0.,  1.,  0., 54.],\n",
      "         [ 9.,  4.,  8.,  2.,  8.,  4.,  8.,  5., 72., 16., 64., 10.],\n",
      "         [ 9.,  4.,  8.,  2.,  0.,  1.,  0.,  9.,  0.,  4.,  0., 18.]],\n",
      "\n",
      "        [[ 9.,  8.,  3.,  4.,  2.,  7.,  6.,  3., 18., 56., 18., 12.],\n",
      "         [ 9.,  8.,  3.,  4.,  6.,  4.,  8.,  9., 54., 32., 24., 36.],\n",
      "         [ 0.,  9.,  1.,  8.,  2.,  7.,  6.,  3.,  0., 63.,  6., 24.],\n",
      "         [ 0.,  9.,  1.,  8.,  6.,  4.,  8.,  9.,  0., 36.,  8., 72.],\n",
      "         [ 0.,  9.,  6.,  1.,  2.,  7.,  6.,  3.,  0., 63., 36.,  3.],\n",
      "         [ 0.,  9.,  6.,  1.,  6.,  4.,  8.,  9.,  0., 36., 48.,  9.],\n",
      "         [ 3.,  9.,  8.,  6.,  2.,  7.,  6.,  3.,  6., 63., 48., 18.],\n",
      "         [ 3.,  9.,  8.,  6.,  6.,  4.,  8.,  9., 18., 36., 64., 54.],\n",
      "         [ 7.,  8.,  7.,  6.,  2.,  7.,  6.,  3., 14., 56., 42., 18.],\n",
      "         [ 7.,  8.,  7.,  6.,  6.,  4.,  8.,  9., 42., 32., 56., 54.]]])\n"
     ]
    }
   ],
   "source": [
    "cont=torch.randint(10, (2,5,4))\n",
    "ques=torch.randint(10, (2,2,4))\n",
    "out = torch.zeros((2, 5, 2, 12))\n",
    "for i in range(ques.shape[0]):\n",
    "    for j in range(cont.shape[1]):\n",
    "        for k in range(ques.shape[1]):\n",
    "            out[i, j, k] = torch.cat([cont[i, j], ques[i, k], cont[i, j] * ques[i, k]])\n",
    "print(cont)\n",
    "print(ques)\n",
    "print(out.reshape(2,10,12))"
   ]
  },
  {
   "cell_type": "code",
   "execution_count": 101,
   "metadata": {
    "execution": {
     "iopub.execute_input": "2021-01-09T17:51:29.106291Z",
     "iopub.status.busy": "2021-01-09T17:51:29.105832Z",
     "iopub.status.idle": "2021-01-09T17:51:29.194499Z",
     "shell.execute_reply": "2021-01-09T17:51:29.193317Z",
     "shell.execute_reply.started": "2021-01-09T17:51:29.106227Z"
    }
   },
   "outputs": [
    {
     "data": {
      "text/plain": [
       "tensor([[[64, 20, 56, 35],\n",
       "         [ 0,  5,  0, 63],\n",
       "         [ 0, 32, 40, 35],\n",
       "         [ 0,  8,  0, 63],\n",
       "         [24, 12,  0, 25],\n",
       "         [ 0,  3,  0, 45],\n",
       "         [40,  4, 32, 30],\n",
       "         [ 0,  1,  0, 54],\n",
       "         [72, 16, 64, 10],\n",
       "         [ 0,  4,  0, 18]],\n",
       "\n",
       "        [[18, 56, 18, 12],\n",
       "         [54, 32, 24, 36],\n",
       "         [ 0, 63,  6, 24],\n",
       "         [ 0, 36,  8, 72],\n",
       "         [ 0, 63, 36,  3],\n",
       "         [ 0, 36, 48,  9],\n",
       "         [ 6, 63, 48, 18],\n",
       "         [18, 36, 64, 54],\n",
       "         [14, 56, 42, 18],\n",
       "         [42, 32, 56, 54]]])"
      ]
     },
     "execution_count": 101,
     "metadata": {},
     "output_type": "execute_result"
    }
   ],
   "source": [
    "torch.einsum('bcd, bqd->bcqd', cont, ques).reshape(2,10,4)"
   ]
  },
  {
   "cell_type": "code",
   "execution_count": 28,
   "metadata": {
    "execution": {
     "iopub.execute_input": "2021-01-09T14:56:15.438725Z",
     "iopub.status.busy": "2021-01-09T14:56:15.438294Z",
     "iopub.status.idle": "2021-01-09T14:56:15.531340Z",
     "shell.execute_reply": "2021-01-09T14:56:15.530122Z",
     "shell.execute_reply.started": "2021-01-09T14:56:15.438679Z"
    }
   },
   "outputs": [],
   "source": [
    "class BaselineDataCollatorWithPadding:\n",
    "    \"\"\"\n",
    "    Data collator that will dynamically pad the inputs received\n",
    "    \"\"\"\n",
    "\n",
    "    def __init__(self, question_tokenizer, context_tokenizer):\n",
    "        self.question_tokenizer = question_tokenizer\n",
    "        self.context_tokenizer = context_tokenizer\n",
    "\n",
    "    def find_tokenized_answer_indexes(self, offsets, query, dim):\n",
    "        index = torch.nonzero(offsets[:, dim] == query)\n",
    "        assert len(index) in (0, 1)\n",
    "        return index.item() if len(index) > 0 else -1\n",
    "\n",
    "    def __call__(self, inputs):\n",
    "        (questions, contexts, answers_start, answers_end) = zip(*inputs)\n",
    "        tokenized_questions = self.question_tokenizer.encode_batch(questions)\n",
    "        tokenized_contexts = self.context_tokenizer.encode_batch(contexts)\n",
    "        batch_size = len(tokenized_questions)\n",
    "        questions_shape = (batch_size, len(tokenized_questions[0].ids))\n",
    "        contexts_shape = (batch_size, len(tokenized_contexts[0].ids))\n",
    "\n",
    "        batch = {\n",
    "            \"question_ids\": torch.empty(questions_shape, dtype=torch.long),\n",
    "            \"question_type_ids\": torch.empty(questions_shape, dtype=torch.long),\n",
    "            \"question_attention_mask\": torch.empty(questions_shape, dtype=torch.bool),\n",
    "            \"question_special_tokens_mask\": torch.empty(\n",
    "                questions_shape, dtype=torch.bool\n",
    "            ),\n",
    "            \"question_lenghts\": torch.empty((batch_size,), dtype=torch.long),\n",
    "            \"context_ids\": torch.empty(contexts_shape, dtype=torch.long),\n",
    "            \"context_type_ids\": torch.empty(contexts_shape, dtype=torch.long),\n",
    "            \"context_attention_mask\": torch.empty(contexts_shape, dtype=torch.bool),\n",
    "            \"context_special_tokens_mask\": torch.empty(\n",
    "                contexts_shape, dtype=torch.bool\n",
    "            ),\n",
    "            \"context_offsets\": torch.empty((*contexts_shape, 2), dtype=torch.long),\n",
    "            \"context_lenghts\": torch.empty((batch_size,), dtype=torch.long),\n",
    "            # \"answer_start\": torch.tensor(answers_start, dtype=torch.long),\n",
    "            # \"answer_end\": torch.tensor(answers_end, dtype=torch.long),\n",
    "            \"answer_start\": torch.empty((batch_size,), dtype=torch.long),\n",
    "            \"answer_end\": torch.empty((batch_size,), dtype=torch.long),\n",
    "        }\n",
    "        for i in range(batch_size):\n",
    "            batch[\"question_ids\"][i] = torch.tensor(tokenized_questions[i].ids)\n",
    "            batch[\"question_type_ids\"][i] = torch.tensor(\n",
    "                tokenized_questions[i].type_ids\n",
    "            )\n",
    "            batch[\"question_attention_mask\"][i] = torch.tensor(\n",
    "                tokenized_questions[i].attention_mask\n",
    "            )\n",
    "            batch[\"question_special_tokens_mask\"][i] = torch.tensor(\n",
    "                tokenized_questions[i].special_tokens_mask\n",
    "            )\n",
    "            batch[\"question_lenghts\"][i] = torch.count_nonzero(\n",
    "                ~batch[\"question_special_tokens_mask\"][i]\n",
    "            )\n",
    "            batch[\"context_ids\"][i] = torch.tensor(tokenized_contexts[i].ids)\n",
    "            batch[\"context_type_ids\"][i] = torch.tensor(tokenized_contexts[i].type_ids)\n",
    "            batch[\"context_attention_mask\"][i] = torch.tensor(\n",
    "                tokenized_contexts[i].attention_mask\n",
    "            )\n",
    "            batch[\"context_special_tokens_mask\"][i] = torch.tensor(\n",
    "                tokenized_contexts[i].special_tokens_mask\n",
    "            )\n",
    "            batch[\"context_offsets\"][i] = torch.tensor(tokenized_contexts[i].offsets)\n",
    "            batch[\"context_lenghts\"][i] = torch.count_nonzero(\n",
    "                ~batch[\"context_special_tokens_mask\"][i]\n",
    "            )\n",
    "            masked_offsets = batch[\"context_offsets\"][i][batch[\"context_attention_mask\"][i]]\n",
    "            batch[\"answer_start\"][i] = self.find_tokenized_answer_indexes(\n",
    "                masked_offsets, answers_start[i], 0\n",
    "            )\n",
    "            batch[\"answer_end\"][i] = self.find_tokenized_answer_indexes(\n",
    "                masked_offsets, answers_end[i], 1\n",
    "            )\n",
    "\n",
    "        return batch"
   ]
  },
  {
   "cell_type": "code",
   "execution_count": 29,
   "metadata": {
    "execution": {
     "iopub.execute_input": "2021-01-09T14:56:16.476877Z",
     "iopub.status.busy": "2021-01-09T14:56:16.476561Z",
     "iopub.status.idle": "2021-01-09T14:56:16.551279Z",
     "shell.execute_reply": "2021-01-09T14:56:16.550178Z",
     "shell.execute_reply.started": "2021-01-09T14:56:16.476837Z"
    }
   },
   "outputs": [
    {
     "data": {
      "text/plain": [
       "101400"
      ]
     },
     "execution_count": 29,
     "metadata": {},
     "output_type": "execute_result"
    }
   ],
   "source": [
    "baseline_model = model.QABaselineModel(glove_embedding_layer, MAX_CONTEXT_TOKENS)\n",
    "baseline_model.count_parameters()"
   ]
  },
  {
   "cell_type": "code",
   "execution_count": 61,
   "metadata": {
    "execution": {
     "iopub.execute_input": "2021-01-09T15:11:51.196606Z",
     "iopub.status.busy": "2021-01-09T15:11:51.196163Z",
     "iopub.status.idle": "2021-01-09T15:11:51.277764Z",
     "shell.execute_reply": "2021-01-09T15:11:51.276031Z",
     "shell.execute_reply.started": "2021-01-09T15:11:51.196560Z"
    }
   },
   "outputs": [],
   "source": [
    "baseline_args = transformers.TrainingArguments(\n",
    "    output_dir=\"./checkpoints\",\n",
    "    logging_dir=\"./runs\",\n",
    "    overwrite_output_dir=True,\n",
    "    evaluation_strategy=\"epoch\",\n",
    "    learning_rate=2e-5,\n",
    "    num_train_epochs=3,\n",
    "    remove_unused_columns=False,\n",
    "    per_device_train_batch_size=64,\n",
    "    per_device_eval_batch_size=64,\n",
    "    label_names=[\"answer_start\", \"answer_end\"]\n",
    ")"
   ]
  },
  {
   "cell_type": "code",
   "execution_count": 62,
   "metadata": {
    "execution": {
     "iopub.execute_input": "2021-01-09T15:11:51.862722Z",
     "iopub.status.busy": "2021-01-09T15:11:51.862397Z",
     "iopub.status.idle": "2021-01-09T15:11:51.959824Z",
     "shell.execute_reply": "2021-01-09T15:11:51.958118Z",
     "shell.execute_reply.started": "2021-01-09T15:11:51.862680Z"
    }
   },
   "outputs": [
    {
     "ename": "AssertionError",
     "evalue": "WandbCallback requires wandb to be installed. Run `pip install wandb`.",
     "output_type": "error",
     "traceback": [
      "\u001b[0;31m---------------------------------------------------------------------------\u001b[0m",
      "\u001b[0;31mAssertionError\u001b[0m                            Traceback (most recent call last)",
      "\u001b[0;32m<ipython-input-62-f5869fd9b414>\u001b[0m in \u001b[0;36m<module>\u001b[0;34m\u001b[0m\n\u001b[0;32m----> 1\u001b[0;31m baseline_trainer = transformers.Trainer(\n\u001b[0m\u001b[1;32m      2\u001b[0m     \u001b[0mmodel\u001b[0m\u001b[0;34m=\u001b[0m\u001b[0mbaseline_model\u001b[0m\u001b[0;34m,\u001b[0m\u001b[0;34m\u001b[0m\u001b[0;34m\u001b[0m\u001b[0m\n\u001b[1;32m      3\u001b[0m     \u001b[0margs\u001b[0m\u001b[0;34m=\u001b[0m\u001b[0mbaseline_args\u001b[0m\u001b[0;34m,\u001b[0m\u001b[0;34m\u001b[0m\u001b[0;34m\u001b[0m\u001b[0m\n\u001b[1;32m      4\u001b[0m     \u001b[0mdata_collator\u001b[0m\u001b[0;34m=\u001b[0m\u001b[0mBaselineDataCollatorWithPadding\u001b[0m\u001b[0;34m(\u001b[0m\u001b[0mbaseline_question_tokenizer\u001b[0m\u001b[0;34m,\u001b[0m \u001b[0mbaseline_context_tokenizer\u001b[0m\u001b[0;34m)\u001b[0m\u001b[0;34m,\u001b[0m\u001b[0;34m\u001b[0m\u001b[0;34m\u001b[0m\u001b[0m\n\u001b[1;32m      5\u001b[0m     \u001b[0mtrain_dataset\u001b[0m\u001b[0;34m=\u001b[0m\u001b[0msquad_dataset\u001b[0m\u001b[0;34m.\u001b[0m\u001b[0mtrain_dataset\u001b[0m\u001b[0;34m,\u001b[0m\u001b[0;34m\u001b[0m\u001b[0;34m\u001b[0m\u001b[0m\n",
      "\u001b[0;32m~/anaconda3/lib/python3.8/site-packages/transformers/trainer.py\u001b[0m in \u001b[0;36m__init__\u001b[0;34m(self, model, args, data_collator, train_dataset, eval_dataset, tokenizer, model_init, compute_metrics, callbacks, optimizers)\u001b[0m\n\u001b[1;32m    261\u001b[0m             )\n\u001b[1;32m    262\u001b[0m         \u001b[0mcallbacks\u001b[0m \u001b[0;34m=\u001b[0m \u001b[0mDEFAULT_CALLBACKS\u001b[0m \u001b[0;32mif\u001b[0m \u001b[0mcallbacks\u001b[0m \u001b[0;32mis\u001b[0m \u001b[0;32mNone\u001b[0m \u001b[0;32melse\u001b[0m \u001b[0mDEFAULT_CALLBACKS\u001b[0m \u001b[0;34m+\u001b[0m \u001b[0mcallbacks\u001b[0m\u001b[0;34m\u001b[0m\u001b[0;34m\u001b[0m\u001b[0m\n\u001b[0;32m--> 263\u001b[0;31m         \u001b[0mself\u001b[0m\u001b[0;34m.\u001b[0m\u001b[0mcallback_handler\u001b[0m \u001b[0;34m=\u001b[0m \u001b[0mCallbackHandler\u001b[0m\u001b[0;34m(\u001b[0m\u001b[0mcallbacks\u001b[0m\u001b[0;34m,\u001b[0m \u001b[0mself\u001b[0m\u001b[0;34m.\u001b[0m\u001b[0mmodel\u001b[0m\u001b[0;34m,\u001b[0m \u001b[0mself\u001b[0m\u001b[0;34m.\u001b[0m\u001b[0moptimizer\u001b[0m\u001b[0;34m,\u001b[0m \u001b[0mself\u001b[0m\u001b[0;34m.\u001b[0m\u001b[0mlr_scheduler\u001b[0m\u001b[0;34m)\u001b[0m\u001b[0;34m\u001b[0m\u001b[0;34m\u001b[0m\u001b[0m\n\u001b[0m\u001b[1;32m    264\u001b[0m         \u001b[0mself\u001b[0m\u001b[0;34m.\u001b[0m\u001b[0madd_callback\u001b[0m\u001b[0;34m(\u001b[0m\u001b[0mPrinterCallback\u001b[0m \u001b[0;32mif\u001b[0m \u001b[0mself\u001b[0m\u001b[0;34m.\u001b[0m\u001b[0margs\u001b[0m\u001b[0;34m.\u001b[0m\u001b[0mdisable_tqdm\u001b[0m \u001b[0;32melse\u001b[0m \u001b[0mDEFAULT_PROGRESS_CALLBACK\u001b[0m\u001b[0;34m)\u001b[0m\u001b[0;34m\u001b[0m\u001b[0;34m\u001b[0m\u001b[0m\n\u001b[1;32m    265\u001b[0m \u001b[0;34m\u001b[0m\u001b[0m\n",
      "\u001b[0;32m~/anaconda3/lib/python3.8/site-packages/transformers/trainer_callback.py\u001b[0m in \u001b[0;36m__init__\u001b[0;34m(self, callbacks, model, optimizer, lr_scheduler)\u001b[0m\n\u001b[1;32m    278\u001b[0m         \u001b[0mself\u001b[0m\u001b[0;34m.\u001b[0m\u001b[0mcallbacks\u001b[0m \u001b[0;34m=\u001b[0m \u001b[0;34m[\u001b[0m\u001b[0;34m]\u001b[0m\u001b[0;34m\u001b[0m\u001b[0;34m\u001b[0m\u001b[0m\n\u001b[1;32m    279\u001b[0m         \u001b[0;32mfor\u001b[0m \u001b[0mcb\u001b[0m \u001b[0;32min\u001b[0m \u001b[0mcallbacks\u001b[0m\u001b[0;34m:\u001b[0m\u001b[0;34m\u001b[0m\u001b[0;34m\u001b[0m\u001b[0m\n\u001b[0;32m--> 280\u001b[0;31m             \u001b[0mself\u001b[0m\u001b[0;34m.\u001b[0m\u001b[0madd_callback\u001b[0m\u001b[0;34m(\u001b[0m\u001b[0mcb\u001b[0m\u001b[0;34m)\u001b[0m\u001b[0;34m\u001b[0m\u001b[0;34m\u001b[0m\u001b[0m\n\u001b[0m\u001b[1;32m    281\u001b[0m         \u001b[0mself\u001b[0m\u001b[0;34m.\u001b[0m\u001b[0mmodel\u001b[0m \u001b[0;34m=\u001b[0m \u001b[0mmodel\u001b[0m\u001b[0;34m\u001b[0m\u001b[0;34m\u001b[0m\u001b[0m\n\u001b[1;32m    282\u001b[0m         \u001b[0mself\u001b[0m\u001b[0;34m.\u001b[0m\u001b[0moptimizer\u001b[0m \u001b[0;34m=\u001b[0m \u001b[0moptimizer\u001b[0m\u001b[0;34m\u001b[0m\u001b[0;34m\u001b[0m\u001b[0m\n",
      "\u001b[0;32m~/anaconda3/lib/python3.8/site-packages/transformers/trainer_callback.py\u001b[0m in \u001b[0;36madd_callback\u001b[0;34m(self, callback)\u001b[0m\n\u001b[1;32m    294\u001b[0m \u001b[0;34m\u001b[0m\u001b[0m\n\u001b[1;32m    295\u001b[0m     \u001b[0;32mdef\u001b[0m \u001b[0madd_callback\u001b[0m\u001b[0;34m(\u001b[0m\u001b[0mself\u001b[0m\u001b[0;34m,\u001b[0m \u001b[0mcallback\u001b[0m\u001b[0;34m)\u001b[0m\u001b[0;34m:\u001b[0m\u001b[0;34m\u001b[0m\u001b[0;34m\u001b[0m\u001b[0m\n\u001b[0;32m--> 296\u001b[0;31m         \u001b[0mcb\u001b[0m \u001b[0;34m=\u001b[0m \u001b[0mcallback\u001b[0m\u001b[0;34m(\u001b[0m\u001b[0;34m)\u001b[0m \u001b[0;32mif\u001b[0m \u001b[0misinstance\u001b[0m\u001b[0;34m(\u001b[0m\u001b[0mcallback\u001b[0m\u001b[0;34m,\u001b[0m \u001b[0mtype\u001b[0m\u001b[0;34m)\u001b[0m \u001b[0;32melse\u001b[0m \u001b[0mcallback\u001b[0m\u001b[0;34m\u001b[0m\u001b[0;34m\u001b[0m\u001b[0m\n\u001b[0m\u001b[1;32m    297\u001b[0m         \u001b[0mcb_class\u001b[0m \u001b[0;34m=\u001b[0m \u001b[0mcallback\u001b[0m \u001b[0;32mif\u001b[0m \u001b[0misinstance\u001b[0m\u001b[0;34m(\u001b[0m\u001b[0mcallback\u001b[0m\u001b[0;34m,\u001b[0m \u001b[0mtype\u001b[0m\u001b[0;34m)\u001b[0m \u001b[0;32melse\u001b[0m \u001b[0mcallback\u001b[0m\u001b[0;34m.\u001b[0m\u001b[0m__class__\u001b[0m\u001b[0;34m\u001b[0m\u001b[0;34m\u001b[0m\u001b[0m\n\u001b[1;32m    298\u001b[0m         \u001b[0;32mif\u001b[0m \u001b[0mcb_class\u001b[0m \u001b[0;32min\u001b[0m \u001b[0;34m[\u001b[0m\u001b[0mc\u001b[0m\u001b[0;34m.\u001b[0m\u001b[0m__class__\u001b[0m \u001b[0;32mfor\u001b[0m \u001b[0mc\u001b[0m \u001b[0;32min\u001b[0m \u001b[0mself\u001b[0m\u001b[0;34m.\u001b[0m\u001b[0mcallbacks\u001b[0m\u001b[0;34m]\u001b[0m\u001b[0;34m:\u001b[0m\u001b[0;34m\u001b[0m\u001b[0;34m\u001b[0m\u001b[0m\n",
      "\u001b[0;32m~/anaconda3/lib/python3.8/site-packages/transformers/integrations.py\u001b[0m in \u001b[0;36m__init__\u001b[0;34m(self)\u001b[0m\n\u001b[1;32m    347\u001b[0m \u001b[0;34m\u001b[0m\u001b[0m\n\u001b[1;32m    348\u001b[0m     \u001b[0;32mdef\u001b[0m \u001b[0m__init__\u001b[0m\u001b[0;34m(\u001b[0m\u001b[0mself\u001b[0m\u001b[0;34m)\u001b[0m\u001b[0;34m:\u001b[0m\u001b[0;34m\u001b[0m\u001b[0;34m\u001b[0m\u001b[0m\n\u001b[0;32m--> 349\u001b[0;31m         \u001b[0;32massert\u001b[0m \u001b[0m_has_wandb\u001b[0m\u001b[0;34m,\u001b[0m \u001b[0;34m\"WandbCallback requires wandb to be installed. Run `pip install wandb`.\"\u001b[0m\u001b[0;34m\u001b[0m\u001b[0;34m\u001b[0m\u001b[0m\n\u001b[0m\u001b[1;32m    350\u001b[0m         \u001b[0mself\u001b[0m\u001b[0;34m.\u001b[0m\u001b[0m_initialized\u001b[0m \u001b[0;34m=\u001b[0m \u001b[0;32mFalse\u001b[0m\u001b[0;34m\u001b[0m\u001b[0;34m\u001b[0m\u001b[0m\n\u001b[1;32m    351\u001b[0m \u001b[0;34m\u001b[0m\u001b[0m\n",
      "\u001b[0;31mAssertionError\u001b[0m: WandbCallback requires wandb to be installed. Run `pip install wandb`."
     ]
    }
   ],
   "source": [
    "baseline_trainer = transformers.Trainer(\n",
    "    model=baseline_model,\n",
    "    args=baseline_args,\n",
    "    data_collator=BaselineDataCollatorWithPadding(baseline_question_tokenizer, baseline_context_tokenizer),\n",
    "    train_dataset=squad_dataset.train_dataset,\n",
    "    eval_dataset=squad_dataset.val_dataset,\n",
    "    #callbacks=[transformers.integrations.WandbCallback]\n",
    ")"
   ]
  },
  {
   "cell_type": "code",
   "execution_count": 63,
   "metadata": {
    "execution": {
     "iopub.execute_input": "2021-01-09T15:11:52.211146Z",
     "iopub.status.busy": "2021-01-09T15:11:52.210843Z",
     "iopub.status.idle": "2021-01-09T15:11:57.168595Z",
     "shell.execute_reply": "2021-01-09T15:11:57.166731Z",
     "shell.execute_reply.started": "2021-01-09T15:11:52.211108Z"
    }
   },
   "outputs": [
    {
     "data": {
      "text/html": [
       "\n",
       "    <div>\n",
       "        <style>\n",
       "            /* Turns off some styling */\n",
       "            progress {\n",
       "                /* gets rid of default border in Firefox and Opera. */\n",
       "                border: none;\n",
       "                /* Needs to be in here for Safari polyfill so background images work as expected. */\n",
       "                background-size: auto;\n",
       "            }\n",
       "        </style>\n",
       "      \n",
       "      <progress value='4' max='3291' style='width:300px; height:20px; vertical-align: middle;'></progress>\n",
       "      [   4/3291 00:02 < 1:04:51, 0.84 it/s, Epoch 0.00/3]\n",
       "    </div>\n",
       "    <table border=\"1\" class=\"dataframe\">\n",
       "  <thead>\n",
       "    <tr style=\"text-align: left;\">\n",
       "      <th>Epoch</th>\n",
       "      <th>Training Loss</th>\n",
       "      <th>Validation Loss</th>\n",
       "    </tr>\n",
       "  </thead>\n",
       "  <tbody>\n",
       "  </tbody>\n",
       "</table><p>"
      ],
      "text/plain": [
       "<IPython.core.display.HTML object>"
      ]
     },
     "metadata": {},
     "output_type": "display_data"
    },
    {
     "ename": "KeyboardInterrupt",
     "evalue": "",
     "output_type": "error",
     "traceback": [
      "\u001b[0;31m---------------------------------------------------------------------------\u001b[0m",
      "\u001b[0;31mKeyboardInterrupt\u001b[0m                         Traceback (most recent call last)",
      "\u001b[0;32m<ipython-input-63-a28822d33159>\u001b[0m in \u001b[0;36m<module>\u001b[0;34m\u001b[0m\n\u001b[0;32m----> 1\u001b[0;31m \u001b[0mbaseline_trainer\u001b[0m\u001b[0;34m.\u001b[0m\u001b[0mtrain\u001b[0m\u001b[0;34m(\u001b[0m\u001b[0;34m)\u001b[0m\u001b[0;34m\u001b[0m\u001b[0;34m\u001b[0m\u001b[0m\n\u001b[0m",
      "\u001b[0;32m~/anaconda3/lib/python3.8/site-packages/transformers/trainer.py\u001b[0m in \u001b[0;36mtrain\u001b[0;34m(self, model_path, trial)\u001b[0m\n\u001b[1;32m    797\u001b[0m                         \u001b[0mtr_loss\u001b[0m \u001b[0;34m+=\u001b[0m \u001b[0mself\u001b[0m\u001b[0;34m.\u001b[0m\u001b[0mtraining_step\u001b[0m\u001b[0;34m(\u001b[0m\u001b[0mmodel\u001b[0m\u001b[0;34m,\u001b[0m \u001b[0minputs\u001b[0m\u001b[0;34m)\u001b[0m\u001b[0;34m\u001b[0m\u001b[0;34m\u001b[0m\u001b[0m\n\u001b[1;32m    798\u001b[0m                 \u001b[0;32melse\u001b[0m\u001b[0;34m:\u001b[0m\u001b[0;34m\u001b[0m\u001b[0;34m\u001b[0m\u001b[0m\n\u001b[0;32m--> 799\u001b[0;31m                     \u001b[0mtr_loss\u001b[0m \u001b[0;34m+=\u001b[0m \u001b[0mself\u001b[0m\u001b[0;34m.\u001b[0m\u001b[0mtraining_step\u001b[0m\u001b[0;34m(\u001b[0m\u001b[0mmodel\u001b[0m\u001b[0;34m,\u001b[0m \u001b[0minputs\u001b[0m\u001b[0;34m)\u001b[0m\u001b[0;34m\u001b[0m\u001b[0;34m\u001b[0m\u001b[0m\n\u001b[0m\u001b[1;32m    800\u001b[0m                 \u001b[0mself\u001b[0m\u001b[0;34m.\u001b[0m\u001b[0m_total_flos\u001b[0m \u001b[0;34m+=\u001b[0m \u001b[0mself\u001b[0m\u001b[0;34m.\u001b[0m\u001b[0mfloating_point_ops\u001b[0m\u001b[0;34m(\u001b[0m\u001b[0minputs\u001b[0m\u001b[0;34m)\u001b[0m\u001b[0;34m\u001b[0m\u001b[0;34m\u001b[0m\u001b[0m\n\u001b[1;32m    801\u001b[0m \u001b[0;34m\u001b[0m\u001b[0m\n",
      "\u001b[0;32m~/anaconda3/lib/python3.8/site-packages/transformers/trainer.py\u001b[0m in \u001b[0;36mtraining_step\u001b[0;34m(self, model, inputs)\u001b[0m\n\u001b[1;32m   1151\u001b[0m                 \u001b[0mscaled_loss\u001b[0m\u001b[0;34m.\u001b[0m\u001b[0mbackward\u001b[0m\u001b[0;34m(\u001b[0m\u001b[0;34m)\u001b[0m\u001b[0;34m\u001b[0m\u001b[0;34m\u001b[0m\u001b[0m\n\u001b[1;32m   1152\u001b[0m         \u001b[0;32melse\u001b[0m\u001b[0;34m:\u001b[0m\u001b[0;34m\u001b[0m\u001b[0;34m\u001b[0m\u001b[0m\n\u001b[0;32m-> 1153\u001b[0;31m             \u001b[0mloss\u001b[0m\u001b[0;34m.\u001b[0m\u001b[0mbackward\u001b[0m\u001b[0;34m(\u001b[0m\u001b[0;34m)\u001b[0m\u001b[0;34m\u001b[0m\u001b[0;34m\u001b[0m\u001b[0m\n\u001b[0m\u001b[1;32m   1154\u001b[0m \u001b[0;34m\u001b[0m\u001b[0m\n\u001b[1;32m   1155\u001b[0m         \u001b[0;32mreturn\u001b[0m \u001b[0mloss\u001b[0m\u001b[0;34m.\u001b[0m\u001b[0mdetach\u001b[0m\u001b[0;34m(\u001b[0m\u001b[0;34m)\u001b[0m\u001b[0;34m\u001b[0m\u001b[0;34m\u001b[0m\u001b[0m\n",
      "\u001b[0;32m~/anaconda3/lib/python3.8/site-packages/torch/tensor.py\u001b[0m in \u001b[0;36mbackward\u001b[0;34m(self, gradient, retain_graph, create_graph)\u001b[0m\n\u001b[1;32m    219\u001b[0m                 \u001b[0mretain_graph\u001b[0m\u001b[0;34m=\u001b[0m\u001b[0mretain_graph\u001b[0m\u001b[0;34m,\u001b[0m\u001b[0;34m\u001b[0m\u001b[0;34m\u001b[0m\u001b[0m\n\u001b[1;32m    220\u001b[0m                 create_graph=create_graph)\n\u001b[0;32m--> 221\u001b[0;31m         \u001b[0mtorch\u001b[0m\u001b[0;34m.\u001b[0m\u001b[0mautograd\u001b[0m\u001b[0;34m.\u001b[0m\u001b[0mbackward\u001b[0m\u001b[0;34m(\u001b[0m\u001b[0mself\u001b[0m\u001b[0;34m,\u001b[0m \u001b[0mgradient\u001b[0m\u001b[0;34m,\u001b[0m \u001b[0mretain_graph\u001b[0m\u001b[0;34m,\u001b[0m \u001b[0mcreate_graph\u001b[0m\u001b[0;34m)\u001b[0m\u001b[0;34m\u001b[0m\u001b[0;34m\u001b[0m\u001b[0m\n\u001b[0m\u001b[1;32m    222\u001b[0m \u001b[0;34m\u001b[0m\u001b[0m\n\u001b[1;32m    223\u001b[0m     \u001b[0;32mdef\u001b[0m \u001b[0mregister_hook\u001b[0m\u001b[0;34m(\u001b[0m\u001b[0mself\u001b[0m\u001b[0;34m,\u001b[0m \u001b[0mhook\u001b[0m\u001b[0;34m)\u001b[0m\u001b[0;34m:\u001b[0m\u001b[0;34m\u001b[0m\u001b[0;34m\u001b[0m\u001b[0m\n",
      "\u001b[0;32m~/anaconda3/lib/python3.8/site-packages/torch/autograd/__init__.py\u001b[0m in \u001b[0;36mbackward\u001b[0;34m(tensors, grad_tensors, retain_graph, create_graph, grad_variables)\u001b[0m\n\u001b[1;32m    128\u001b[0m         \u001b[0mretain_graph\u001b[0m \u001b[0;34m=\u001b[0m \u001b[0mcreate_graph\u001b[0m\u001b[0;34m\u001b[0m\u001b[0;34m\u001b[0m\u001b[0m\n\u001b[1;32m    129\u001b[0m \u001b[0;34m\u001b[0m\u001b[0m\n\u001b[0;32m--> 130\u001b[0;31m     Variable._execution_engine.run_backward(\n\u001b[0m\u001b[1;32m    131\u001b[0m         \u001b[0mtensors\u001b[0m\u001b[0;34m,\u001b[0m \u001b[0mgrad_tensors_\u001b[0m\u001b[0;34m,\u001b[0m \u001b[0mretain_graph\u001b[0m\u001b[0;34m,\u001b[0m \u001b[0mcreate_graph\u001b[0m\u001b[0;34m,\u001b[0m\u001b[0;34m\u001b[0m\u001b[0;34m\u001b[0m\u001b[0m\n\u001b[1;32m    132\u001b[0m         allow_unreachable=True)  # allow_unreachable flag\n",
      "\u001b[0;31mKeyboardInterrupt\u001b[0m: "
     ]
    }
   ],
   "source": [
    "baseline_trainer.train()"
   ]
  },
  {
   "cell_type": "markdown",
   "metadata": {},
   "source": [
    "## BERT"
   ]
  },
  {
   "cell_type": "code",
   "execution_count": 277,
   "metadata": {
    "execution": {
     "iopub.execute_input": "2021-01-05T16:35:27.908837Z",
     "iopub.status.busy": "2021-01-05T16:35:27.908413Z",
     "iopub.status.idle": "2021-01-05T16:35:37.556426Z",
     "shell.execute_reply": "2021-01-05T16:35:37.555013Z",
     "shell.execute_reply.started": "2021-01-05T16:35:27.908792Z"
    }
   },
   "outputs": [],
   "source": [
    "tokenizer = transformers.BertTokenizer.from_pretrained(\"bert-base-uncased\")\n",
    "model = transformers.BertModel.from_pretrained(\"bert-base-uncased\")"
   ]
  },
  {
   "cell_type": "code",
   "execution_count": 58,
   "metadata": {
    "execution": {
     "iopub.execute_input": "2021-01-09T15:11:43.846188Z",
     "iopub.status.busy": "2021-01-09T15:11:43.845741Z",
     "iopub.status.idle": "2021-01-09T15:11:43.917117Z",
     "shell.execute_reply": "2021-01-09T15:11:43.915835Z",
     "shell.execute_reply.started": "2021-01-09T15:11:43.846141Z"
    }
   },
   "outputs": [],
   "source": [
    "args = transformers.TrainingArguments(\n",
    "    output_dir=\"./checkpoints\",\n",
    "    logging_dir=\"./runs\",\n",
    "    overwrite_output_dir=True,\n",
    "    evaluation_strategy=\"epoch\",\n",
    "    learning_rate=2e-5,\n",
    "    num_train_epochs=3,\n",
    "    remove_unused_columns=False,\n",
    "    per_device_train_batch_size=16,\n",
    "    per_device_eval_batch_size=64,\n",
    "    label_names=[\"answer_start\", \"answer_end\"],\n",
    ")"
   ]
  },
  {
   "cell_type": "code",
   "execution_count": 59,
   "metadata": {
    "execution": {
     "iopub.execute_input": "2021-01-09T15:11:43.919760Z",
     "iopub.status.busy": "2021-01-09T15:11:43.919407Z",
     "iopub.status.idle": "2021-01-09T15:11:43.983226Z",
     "shell.execute_reply": "2021-01-09T15:11:43.982049Z",
     "shell.execute_reply.started": "2021-01-09T15:11:43.919720Z"
    }
   },
   "outputs": [],
   "source": [
    "class DataCollatorWithPadding:\n",
    "    \"\"\"\n",
    "    Data collator that will dynamically pad the inputs received\n",
    "    \"\"\"\n",
    "\n",
    "    def __init__(self, tokenizer, padding=True, max_lenght=None):\n",
    "        self.tokenizer = tokenizer\n",
    "        self.padding = True\n",
    "        self.max_length = None\n",
    "\n",
    "    def __call__(self, inputs):\n",
    "        (questions, contexts, _, _) = zip(*inputs)\n",
    "        tokenized = self.tokenizer(questions, contexts)\n",
    "        batch = self.tokenizer.pad(\n",
    "            tokenized,\n",
    "            padding=self.padding,\n",
    "            max_length=self.max_length,\n",
    "            return_tensors=\"pt\",\n",
    "        )\n",
    "        return batch"
   ]
  },
  {
   "cell_type": "code",
   "execution_count": 60,
   "metadata": {
    "execution": {
     "iopub.execute_input": "2021-01-09T15:11:45.132472Z",
     "iopub.status.busy": "2021-01-09T15:11:45.132147Z",
     "iopub.status.idle": "2021-01-09T15:11:45.212777Z",
     "shell.execute_reply": "2021-01-09T15:11:45.210886Z",
     "shell.execute_reply.started": "2021-01-09T15:11:45.132429Z"
    }
   },
   "outputs": [
    {
     "ename": "NameError",
     "evalue": "name 'tokenizer' is not defined",
     "output_type": "error",
     "traceback": [
      "\u001b[0;31m---------------------------------------------------------------------------\u001b[0m",
      "\u001b[0;31mNameError\u001b[0m                                 Traceback (most recent call last)",
      "\u001b[0;32m<ipython-input-60-a9a753d614d6>\u001b[0m in \u001b[0;36m<module>\u001b[0;34m\u001b[0m\n\u001b[0;32m----> 1\u001b[0;31m \u001b[0mdata_collator\u001b[0m \u001b[0;34m=\u001b[0m \u001b[0mDataCollatorWithPadding\u001b[0m\u001b[0;34m(\u001b[0m\u001b[0mtokenizer\u001b[0m\u001b[0;34m)\u001b[0m\u001b[0;34m\u001b[0m\u001b[0;34m\u001b[0m\u001b[0m\n\u001b[0m",
      "\u001b[0;31mNameError\u001b[0m: name 'tokenizer' is not defined"
     ]
    }
   ],
   "source": [
    "data_collator = DataCollatorWithPadding(tokenizer)"
   ]
  },
  {
   "cell_type": "code",
   "execution_count": null,
   "metadata": {
    "execution": {
     "iopub.status.busy": "2021-01-09T15:11:45.214014Z",
     "iopub.status.idle": "2021-01-09T15:11:45.214520Z"
    }
   },
   "outputs": [],
   "source": [
    "trainer = transformers.Trainer(\n",
    "    model=model,\n",
    "    args=args,\n",
    "    data_collator=data_collator,\n",
    "    train_dataset=squad_dataset.train_dataset,\n",
    "    eval_dataset=squad_dataset.val_dataset\n",
    ")"
   ]
  },
  {
   "cell_type": "code",
   "execution_count": 288,
   "metadata": {
    "execution": {
     "iopub.execute_input": "2021-01-05T16:37:10.984314Z",
     "iopub.status.busy": "2021-01-05T16:37:10.983997Z",
     "iopub.status.idle": "2021-01-05T16:37:23.456420Z",
     "shell.execute_reply": "2021-01-05T16:37:23.454650Z",
     "shell.execute_reply.started": "2021-01-05T16:37:10.984273Z"
    }
   },
   "outputs": [
    {
     "name": "stdout",
     "output_type": "stream",
     "text": [
      "dict_keys(['input_ids', 'token_type_ids', 'attention_mask'])\n"
     ]
    },
    {
     "ename": "KeyError",
     "evalue": "'loss'",
     "output_type": "error",
     "traceback": [
      "\u001b[0;31m---------------------------------------------------------------------------\u001b[0m",
      "\u001b[0;31mKeyError\u001b[0m                                  Traceback (most recent call last)",
      "\u001b[0;32m<ipython-input-288-3435b262f1ae>\u001b[0m in \u001b[0;36m<module>\u001b[0;34m\u001b[0m\n\u001b[0;32m----> 1\u001b[0;31m \u001b[0mtrainer\u001b[0m\u001b[0;34m.\u001b[0m\u001b[0mtrain\u001b[0m\u001b[0;34m(\u001b[0m\u001b[0;34m)\u001b[0m\u001b[0;34m\u001b[0m\u001b[0;34m\u001b[0m\u001b[0m\n\u001b[0m",
      "\u001b[0;32m~/anaconda3/lib/python3.8/site-packages/transformers/trainer.py\u001b[0m in \u001b[0;36mtrain\u001b[0;34m(self, model_path, trial)\u001b[0m\n\u001b[1;32m    797\u001b[0m                         \u001b[0mtr_loss\u001b[0m \u001b[0;34m+=\u001b[0m \u001b[0mself\u001b[0m\u001b[0;34m.\u001b[0m\u001b[0mtraining_step\u001b[0m\u001b[0;34m(\u001b[0m\u001b[0mmodel\u001b[0m\u001b[0;34m,\u001b[0m \u001b[0minputs\u001b[0m\u001b[0;34m)\u001b[0m\u001b[0;34m\u001b[0m\u001b[0;34m\u001b[0m\u001b[0m\n\u001b[1;32m    798\u001b[0m                 \u001b[0;32melse\u001b[0m\u001b[0;34m:\u001b[0m\u001b[0;34m\u001b[0m\u001b[0;34m\u001b[0m\u001b[0m\n\u001b[0;32m--> 799\u001b[0;31m                     \u001b[0mtr_loss\u001b[0m \u001b[0;34m+=\u001b[0m \u001b[0mself\u001b[0m\u001b[0;34m.\u001b[0m\u001b[0mtraining_step\u001b[0m\u001b[0;34m(\u001b[0m\u001b[0mmodel\u001b[0m\u001b[0;34m,\u001b[0m \u001b[0minputs\u001b[0m\u001b[0;34m)\u001b[0m\u001b[0;34m\u001b[0m\u001b[0;34m\u001b[0m\u001b[0m\n\u001b[0m\u001b[1;32m    800\u001b[0m                 \u001b[0mself\u001b[0m\u001b[0;34m.\u001b[0m\u001b[0m_total_flos\u001b[0m \u001b[0;34m+=\u001b[0m \u001b[0mself\u001b[0m\u001b[0;34m.\u001b[0m\u001b[0mfloating_point_ops\u001b[0m\u001b[0;34m(\u001b[0m\u001b[0minputs\u001b[0m\u001b[0;34m)\u001b[0m\u001b[0;34m\u001b[0m\u001b[0;34m\u001b[0m\u001b[0m\n\u001b[1;32m    801\u001b[0m \u001b[0;34m\u001b[0m\u001b[0m\n",
      "\u001b[0;32m~/anaconda3/lib/python3.8/site-packages/transformers/trainer.py\u001b[0m in \u001b[0;36mtraining_step\u001b[0;34m(self, model, inputs)\u001b[0m\n\u001b[1;32m   1137\u001b[0m                 \u001b[0mloss\u001b[0m \u001b[0;34m=\u001b[0m \u001b[0mself\u001b[0m\u001b[0;34m.\u001b[0m\u001b[0mcompute_loss\u001b[0m\u001b[0;34m(\u001b[0m\u001b[0mmodel\u001b[0m\u001b[0;34m,\u001b[0m \u001b[0minputs\u001b[0m\u001b[0;34m)\u001b[0m\u001b[0;34m\u001b[0m\u001b[0;34m\u001b[0m\u001b[0m\n\u001b[1;32m   1138\u001b[0m         \u001b[0;32melse\u001b[0m\u001b[0;34m:\u001b[0m\u001b[0;34m\u001b[0m\u001b[0;34m\u001b[0m\u001b[0m\n\u001b[0;32m-> 1139\u001b[0;31m             \u001b[0mloss\u001b[0m \u001b[0;34m=\u001b[0m \u001b[0mself\u001b[0m\u001b[0;34m.\u001b[0m\u001b[0mcompute_loss\u001b[0m\u001b[0;34m(\u001b[0m\u001b[0mmodel\u001b[0m\u001b[0;34m,\u001b[0m \u001b[0minputs\u001b[0m\u001b[0;34m)\u001b[0m\u001b[0;34m\u001b[0m\u001b[0;34m\u001b[0m\u001b[0m\n\u001b[0m\u001b[1;32m   1140\u001b[0m \u001b[0;34m\u001b[0m\u001b[0m\n\u001b[1;32m   1141\u001b[0m         \u001b[0;32mif\u001b[0m \u001b[0mself\u001b[0m\u001b[0;34m.\u001b[0m\u001b[0margs\u001b[0m\u001b[0;34m.\u001b[0m\u001b[0mn_gpu\u001b[0m \u001b[0;34m>\u001b[0m \u001b[0;36m1\u001b[0m\u001b[0;34m:\u001b[0m\u001b[0;34m\u001b[0m\u001b[0;34m\u001b[0m\u001b[0m\n",
      "\u001b[0;32m~/anaconda3/lib/python3.8/site-packages/transformers/trainer.py\u001b[0m in \u001b[0;36mcompute_loss\u001b[0;34m(self, model, inputs)\u001b[0m\n\u001b[1;32m   1167\u001b[0m             \u001b[0mself\u001b[0m\u001b[0;34m.\u001b[0m\u001b[0m_past\u001b[0m \u001b[0;34m=\u001b[0m \u001b[0moutputs\u001b[0m\u001b[0;34m[\u001b[0m\u001b[0mself\u001b[0m\u001b[0;34m.\u001b[0m\u001b[0margs\u001b[0m\u001b[0;34m.\u001b[0m\u001b[0mpast_index\u001b[0m\u001b[0;34m]\u001b[0m\u001b[0;34m\u001b[0m\u001b[0;34m\u001b[0m\u001b[0m\n\u001b[1;32m   1168\u001b[0m         \u001b[0;31m# We don't use .loss here since the model may return tuples instead of ModelOutput.\u001b[0m\u001b[0;34m\u001b[0m\u001b[0;34m\u001b[0m\u001b[0;34m\u001b[0m\u001b[0m\n\u001b[0;32m-> 1169\u001b[0;31m         \u001b[0;32mreturn\u001b[0m \u001b[0moutputs\u001b[0m\u001b[0;34m[\u001b[0m\u001b[0;34m\"loss\"\u001b[0m\u001b[0;34m]\u001b[0m \u001b[0;32mif\u001b[0m \u001b[0misinstance\u001b[0m\u001b[0;34m(\u001b[0m\u001b[0moutputs\u001b[0m\u001b[0;34m,\u001b[0m \u001b[0mdict\u001b[0m\u001b[0;34m)\u001b[0m \u001b[0;32melse\u001b[0m \u001b[0moutputs\u001b[0m\u001b[0;34m[\u001b[0m\u001b[0;36m0\u001b[0m\u001b[0;34m]\u001b[0m\u001b[0;34m\u001b[0m\u001b[0;34m\u001b[0m\u001b[0m\n\u001b[0m\u001b[1;32m   1170\u001b[0m \u001b[0;34m\u001b[0m\u001b[0m\n\u001b[1;32m   1171\u001b[0m     \u001b[0;32mdef\u001b[0m \u001b[0mis_local_process_zero\u001b[0m\u001b[0;34m(\u001b[0m\u001b[0mself\u001b[0m\u001b[0;34m)\u001b[0m \u001b[0;34m->\u001b[0m \u001b[0mbool\u001b[0m\u001b[0;34m:\u001b[0m\u001b[0;34m\u001b[0m\u001b[0;34m\u001b[0m\u001b[0m\n",
      "\u001b[0;32m~/anaconda3/lib/python3.8/site-packages/transformers/file_utils.py\u001b[0m in \u001b[0;36m__getitem__\u001b[0;34m(self, k)\u001b[0m\n\u001b[1;32m   1443\u001b[0m         \u001b[0;32mif\u001b[0m \u001b[0misinstance\u001b[0m\u001b[0;34m(\u001b[0m\u001b[0mk\u001b[0m\u001b[0;34m,\u001b[0m \u001b[0mstr\u001b[0m\u001b[0;34m)\u001b[0m\u001b[0;34m:\u001b[0m\u001b[0;34m\u001b[0m\u001b[0;34m\u001b[0m\u001b[0m\n\u001b[1;32m   1444\u001b[0m             \u001b[0minner_dict\u001b[0m \u001b[0;34m=\u001b[0m \u001b[0;34m{\u001b[0m\u001b[0mk\u001b[0m\u001b[0;34m:\u001b[0m \u001b[0mv\u001b[0m \u001b[0;32mfor\u001b[0m \u001b[0;34m(\u001b[0m\u001b[0mk\u001b[0m\u001b[0;34m,\u001b[0m \u001b[0mv\u001b[0m\u001b[0;34m)\u001b[0m \u001b[0;32min\u001b[0m \u001b[0mself\u001b[0m\u001b[0;34m.\u001b[0m\u001b[0mitems\u001b[0m\u001b[0;34m(\u001b[0m\u001b[0;34m)\u001b[0m\u001b[0;34m}\u001b[0m\u001b[0;34m\u001b[0m\u001b[0;34m\u001b[0m\u001b[0m\n\u001b[0;32m-> 1445\u001b[0;31m             \u001b[0;32mreturn\u001b[0m \u001b[0minner_dict\u001b[0m\u001b[0;34m[\u001b[0m\u001b[0mk\u001b[0m\u001b[0;34m]\u001b[0m\u001b[0;34m\u001b[0m\u001b[0;34m\u001b[0m\u001b[0m\n\u001b[0m\u001b[1;32m   1446\u001b[0m         \u001b[0;32melse\u001b[0m\u001b[0;34m:\u001b[0m\u001b[0;34m\u001b[0m\u001b[0;34m\u001b[0m\u001b[0m\n\u001b[1;32m   1447\u001b[0m             \u001b[0;32mreturn\u001b[0m \u001b[0mself\u001b[0m\u001b[0;34m.\u001b[0m\u001b[0mto_tuple\u001b[0m\u001b[0;34m(\u001b[0m\u001b[0;34m)\u001b[0m\u001b[0;34m[\u001b[0m\u001b[0mk\u001b[0m\u001b[0;34m]\u001b[0m\u001b[0;34m\u001b[0m\u001b[0;34m\u001b[0m\u001b[0m\n",
      "\u001b[0;31mKeyError\u001b[0m: 'loss'"
     ]
    }
   ],
   "source": [
    "trainer.train()"
   ]
  },
  {
   "cell_type": "code",
   "execution_count": null,
   "metadata": {},
   "outputs": [],
   "source": []
  }
 ],
 "metadata": {
  "kernelspec": {
   "display_name": "Python 3",
   "language": "python",
   "name": "python3"
  },
  "language_info": {
   "codemirror_mode": {
    "name": "ipython",
    "version": 3
   },
   "file_extension": ".py",
   "mimetype": "text/x-python",
   "name": "python",
   "nbconvert_exporter": "python",
   "pygments_lexer": "ipython3",
   "version": "3.8.5"
  }
 },
 "nbformat": 4,
 "nbformat_minor": 4
}
