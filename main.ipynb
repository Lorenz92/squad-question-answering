{
 "cells": [
  {
   "cell_type": "markdown",
   "metadata": {},
   "source": [
    "# Question answering on the SQuAD dataset"
   ]
  },
  {
   "cell_type": "code",
   "execution_count": 277,
   "metadata": {
    "execution": {
     "iopub.execute_input": "2021-01-10T15:41:54.975697Z",
     "iopub.status.busy": "2021-01-10T15:41:54.975321Z",
     "iopub.status.idle": "2021-01-10T15:41:55.052934Z",
     "shell.execute_reply": "2021-01-10T15:41:55.051767Z",
     "shell.execute_reply.started": "2021-01-10T15:41:54.975655Z"
    }
   },
   "outputs": [
    {
     "name": "stdout",
     "output_type": "stream",
     "text": [
      "The autoreload extension is already loaded. To reload it, use:\n",
      "  %reload_ext autoreload\n"
     ]
    }
   ],
   "source": [
    "import sys\n",
    "import pandas as pd\n",
    "import numpy as np\n",
    "import matplotlib.pyplot as plt\n",
    "import torch\n",
    "import torch.nn as nn\n",
    "import torch.optim as optim\n",
    "import wandb\n",
    "import transformers\n",
    "\n",
    "import dataset\n",
    "import model\n",
    "\n",
    "%load_ext autoreload\n",
    "%autoreload 2\n",
    "%matplotlib inline"
   ]
  },
  {
   "cell_type": "code",
   "execution_count": 238,
   "metadata": {
    "execution": {
     "iopub.execute_input": "2021-01-10T15:31:46.883463Z",
     "iopub.status.busy": "2021-01-10T15:31:46.883140Z",
     "iopub.status.idle": "2021-01-10T15:31:46.962047Z",
     "shell.execute_reply": "2021-01-10T15:31:46.960870Z",
     "shell.execute_reply.started": "2021-01-10T15:31:46.883422Z"
    }
   },
   "outputs": [
    {
     "name": "stdout",
     "output_type": "stream",
     "text": [
      "env: WANDB_WATCH=all\n",
      "env: WANDB_PROJECT=squad-qa\n",
      "env: WANDB_DISABLED=false\n"
     ]
    }
   ],
   "source": [
    "plt.rcParams['figure.figsize'] = [8, 6]\n",
    "plt.rcParams['figure.dpi'] = 100\n",
    "plt.rcParams['axes.xmargin'] = .05\n",
    "plt.rcParams['axes.ymargin'] = .05\n",
    "plt.style.use('ggplot')\n",
    "\n",
    "%env WANDB_WATCH=all\n",
    "%env WANDB_PROJECT=squad-qa\n",
    "%env WANDB_DISABLED=false"
   ]
  },
  {
   "cell_type": "code",
   "execution_count": 54,
   "metadata": {
    "execution": {
     "iopub.execute_input": "2021-01-09T15:11:25.843689Z",
     "iopub.status.busy": "2021-01-09T15:11:25.843217Z",
     "iopub.status.idle": "2021-01-09T15:11:28.032758Z",
     "shell.execute_reply": "2021-01-09T15:11:28.031025Z",
     "shell.execute_reply.started": "2021-01-09T15:11:25.843635Z"
    }
   },
   "outputs": [
    {
     "name": "stdout",
     "output_type": "stream",
     "text": [
      "\u001b[34m\u001b[1mwandb\u001b[0m: Currently logged in as: \u001b[33mwadaboa\u001b[0m (use `wandb login --relogin` to force relogin)\n"
     ]
    }
   ],
   "source": [
    "!{sys.executable} -m wandb login"
   ]
  },
  {
   "cell_type": "markdown",
   "metadata": {},
   "source": [
    "## Data loading/preparation"
   ]
  },
  {
   "cell_type": "code",
   "execution_count": 239,
   "metadata": {
    "execution": {
     "iopub.execute_input": "2021-01-10T15:31:54.224320Z",
     "iopub.status.busy": "2021-01-10T15:31:54.223994Z",
     "iopub.status.idle": "2021-01-10T15:31:54.294343Z",
     "shell.execute_reply": "2021-01-10T15:31:54.292932Z",
     "shell.execute_reply.started": "2021-01-10T15:31:54.224279Z"
    }
   },
   "outputs": [],
   "source": [
    "def preprocess_question(text):\n",
    "    \"\"\"\n",
    "    Preprocess the given question text from the SQuAD dataset\n",
    "    \"\"\"\n",
    "    return text.lower()\n",
    "\n",
    "\n",
    "def preprocess_context(text):\n",
    "    \"\"\"\n",
    "    Preprocess the given context text from the SQuAD dataset\n",
    "    \"\"\"\n",
    "    return text.lower()"
   ]
  },
  {
   "cell_type": "code",
   "execution_count": 240,
   "metadata": {
    "execution": {
     "iopub.execute_input": "2021-01-10T15:31:54.927838Z",
     "iopub.status.busy": "2021-01-10T15:31:54.927512Z",
     "iopub.status.idle": "2021-01-10T15:31:55.282429Z",
     "shell.execute_reply": "2021-01-10T15:31:55.281212Z",
     "shell.execute_reply.started": "2021-01-10T15:31:54.927794Z"
    }
   },
   "outputs": [
    {
     "data": {
      "text/html": [
       "<div>\n",
       "<style scoped>\n",
       "    .dataframe tbody tr th:only-of-type {\n",
       "        vertical-align: middle;\n",
       "    }\n",
       "\n",
       "    .dataframe tbody tr th {\n",
       "        vertical-align: top;\n",
       "    }\n",
       "\n",
       "    .dataframe thead th {\n",
       "        text-align: right;\n",
       "    }\n",
       "</style>\n",
       "<table border=\"1\" class=\"dataframe\">\n",
       "  <thead>\n",
       "    <tr style=\"text-align: right;\">\n",
       "      <th></th>\n",
       "      <th>index</th>\n",
       "      <th>question</th>\n",
       "      <th>title</th>\n",
       "      <th>context_id</th>\n",
       "      <th>context</th>\n",
       "      <th>answer</th>\n",
       "      <th>answer_start</th>\n",
       "      <th>answer_end</th>\n",
       "    </tr>\n",
       "  </thead>\n",
       "  <tbody>\n",
       "    <tr>\n",
       "      <th>0</th>\n",
       "      <td>5733be284776f41900661182</td>\n",
       "      <td>To whom did the Virgin Mary allegedly appear i...</td>\n",
       "      <td>University_of_Notre_Dame</td>\n",
       "      <td>0</td>\n",
       "      <td>Architecturally, the school has a Catholic cha...</td>\n",
       "      <td>Saint Bernadette Soubirous</td>\n",
       "      <td>515</td>\n",
       "      <td>541</td>\n",
       "    </tr>\n",
       "    <tr>\n",
       "      <th>1</th>\n",
       "      <td>5733be284776f4190066117f</td>\n",
       "      <td>What is in front of the Notre Dame Main Building?</td>\n",
       "      <td>University_of_Notre_Dame</td>\n",
       "      <td>0</td>\n",
       "      <td>Architecturally, the school has a Catholic cha...</td>\n",
       "      <td>a copper statue of Christ</td>\n",
       "      <td>188</td>\n",
       "      <td>213</td>\n",
       "    </tr>\n",
       "    <tr>\n",
       "      <th>2</th>\n",
       "      <td>5733be284776f41900661180</td>\n",
       "      <td>The Basilica of the Sacred heart at Notre Dame...</td>\n",
       "      <td>University_of_Notre_Dame</td>\n",
       "      <td>0</td>\n",
       "      <td>Architecturally, the school has a Catholic cha...</td>\n",
       "      <td>the Main Building</td>\n",
       "      <td>279</td>\n",
       "      <td>296</td>\n",
       "    </tr>\n",
       "    <tr>\n",
       "      <th>3</th>\n",
       "      <td>5733be284776f41900661181</td>\n",
       "      <td>What is the Grotto at Notre Dame?</td>\n",
       "      <td>University_of_Notre_Dame</td>\n",
       "      <td>0</td>\n",
       "      <td>Architecturally, the school has a Catholic cha...</td>\n",
       "      <td>a Marian place of prayer and reflection</td>\n",
       "      <td>381</td>\n",
       "      <td>420</td>\n",
       "    </tr>\n",
       "    <tr>\n",
       "      <th>4</th>\n",
       "      <td>5733be284776f4190066117e</td>\n",
       "      <td>What sits on top of the Main Building at Notre...</td>\n",
       "      <td>University_of_Notre_Dame</td>\n",
       "      <td>0</td>\n",
       "      <td>Architecturally, the school has a Catholic cha...</td>\n",
       "      <td>a golden statue of the Virgin Mary</td>\n",
       "      <td>92</td>\n",
       "      <td>126</td>\n",
       "    </tr>\n",
       "    <tr>\n",
       "      <th>...</th>\n",
       "      <td>...</td>\n",
       "      <td>...</td>\n",
       "      <td>...</td>\n",
       "      <td>...</td>\n",
       "      <td>...</td>\n",
       "      <td>...</td>\n",
       "      <td>...</td>\n",
       "      <td>...</td>\n",
       "    </tr>\n",
       "    <tr>\n",
       "      <th>87594</th>\n",
       "      <td>5735d259012e2f140011a09d</td>\n",
       "      <td>In what US state did Kathmandu first establish...</td>\n",
       "      <td>Kathmandu</td>\n",
       "      <td>18890</td>\n",
       "      <td>Kathmandu Metropolitan City (KMC), in order to...</td>\n",
       "      <td>Oregon</td>\n",
       "      <td>229</td>\n",
       "      <td>235</td>\n",
       "    </tr>\n",
       "    <tr>\n",
       "      <th>87595</th>\n",
       "      <td>5735d259012e2f140011a09e</td>\n",
       "      <td>What was Yangon previously known as?</td>\n",
       "      <td>Kathmandu</td>\n",
       "      <td>18890</td>\n",
       "      <td>Kathmandu Metropolitan City (KMC), in order to...</td>\n",
       "      <td>Rangoon</td>\n",
       "      <td>414</td>\n",
       "      <td>421</td>\n",
       "    </tr>\n",
       "    <tr>\n",
       "      <th>87596</th>\n",
       "      <td>5735d259012e2f140011a09f</td>\n",
       "      <td>With what Belorussian city does Kathmandu have...</td>\n",
       "      <td>Kathmandu</td>\n",
       "      <td>18890</td>\n",
       "      <td>Kathmandu Metropolitan City (KMC), in order to...</td>\n",
       "      <td>Minsk</td>\n",
       "      <td>476</td>\n",
       "      <td>481</td>\n",
       "    </tr>\n",
       "    <tr>\n",
       "      <th>87597</th>\n",
       "      <td>5735d259012e2f140011a0a0</td>\n",
       "      <td>In what year did Kathmandu create its initial ...</td>\n",
       "      <td>Kathmandu</td>\n",
       "      <td>18890</td>\n",
       "      <td>Kathmandu Metropolitan City (KMC), in order to...</td>\n",
       "      <td>1975</td>\n",
       "      <td>199</td>\n",
       "      <td>203</td>\n",
       "    </tr>\n",
       "    <tr>\n",
       "      <th>87598</th>\n",
       "      <td>5735d259012e2f140011a0a1</td>\n",
       "      <td>What is KMC an initialism of?</td>\n",
       "      <td>Kathmandu</td>\n",
       "      <td>18890</td>\n",
       "      <td>Kathmandu Metropolitan City (KMC), in order to...</td>\n",
       "      <td>Kathmandu Metropolitan City</td>\n",
       "      <td>0</td>\n",
       "      <td>27</td>\n",
       "    </tr>\n",
       "  </tbody>\n",
       "</table>\n",
       "<p>87599 rows × 8 columns</p>\n",
       "</div>"
      ],
      "text/plain": [
       "                          index  \\\n",
       "0      5733be284776f41900661182   \n",
       "1      5733be284776f4190066117f   \n",
       "2      5733be284776f41900661180   \n",
       "3      5733be284776f41900661181   \n",
       "4      5733be284776f4190066117e   \n",
       "...                         ...   \n",
       "87594  5735d259012e2f140011a09d   \n",
       "87595  5735d259012e2f140011a09e   \n",
       "87596  5735d259012e2f140011a09f   \n",
       "87597  5735d259012e2f140011a0a0   \n",
       "87598  5735d259012e2f140011a0a1   \n",
       "\n",
       "                                                question  \\\n",
       "0      To whom did the Virgin Mary allegedly appear i...   \n",
       "1      What is in front of the Notre Dame Main Building?   \n",
       "2      The Basilica of the Sacred heart at Notre Dame...   \n",
       "3                      What is the Grotto at Notre Dame?   \n",
       "4      What sits on top of the Main Building at Notre...   \n",
       "...                                                  ...   \n",
       "87594  In what US state did Kathmandu first establish...   \n",
       "87595               What was Yangon previously known as?   \n",
       "87596  With what Belorussian city does Kathmandu have...   \n",
       "87597  In what year did Kathmandu create its initial ...   \n",
       "87598                      What is KMC an initialism of?   \n",
       "\n",
       "                          title  context_id  \\\n",
       "0      University_of_Notre_Dame           0   \n",
       "1      University_of_Notre_Dame           0   \n",
       "2      University_of_Notre_Dame           0   \n",
       "3      University_of_Notre_Dame           0   \n",
       "4      University_of_Notre_Dame           0   \n",
       "...                         ...         ...   \n",
       "87594                 Kathmandu       18890   \n",
       "87595                 Kathmandu       18890   \n",
       "87596                 Kathmandu       18890   \n",
       "87597                 Kathmandu       18890   \n",
       "87598                 Kathmandu       18890   \n",
       "\n",
       "                                                 context  \\\n",
       "0      Architecturally, the school has a Catholic cha...   \n",
       "1      Architecturally, the school has a Catholic cha...   \n",
       "2      Architecturally, the school has a Catholic cha...   \n",
       "3      Architecturally, the school has a Catholic cha...   \n",
       "4      Architecturally, the school has a Catholic cha...   \n",
       "...                                                  ...   \n",
       "87594  Kathmandu Metropolitan City (KMC), in order to...   \n",
       "87595  Kathmandu Metropolitan City (KMC), in order to...   \n",
       "87596  Kathmandu Metropolitan City (KMC), in order to...   \n",
       "87597  Kathmandu Metropolitan City (KMC), in order to...   \n",
       "87598  Kathmandu Metropolitan City (KMC), in order to...   \n",
       "\n",
       "                                        answer  answer_start  answer_end  \n",
       "0                   Saint Bernadette Soubirous           515         541  \n",
       "1                    a copper statue of Christ           188         213  \n",
       "2                            the Main Building           279         296  \n",
       "3      a Marian place of prayer and reflection           381         420  \n",
       "4           a golden statue of the Virgin Mary            92         126  \n",
       "...                                        ...           ...         ...  \n",
       "87594                                   Oregon           229         235  \n",
       "87595                                  Rangoon           414         421  \n",
       "87596                                    Minsk           476         481  \n",
       "87597                                     1975           199         203  \n",
       "87598              Kathmandu Metropolitan City             0          27  \n",
       "\n",
       "[87599 rows x 8 columns]"
      ]
     },
     "execution_count": 240,
     "metadata": {},
     "output_type": "execute_result"
    }
   ],
   "source": [
    "squad_dataset = dataset.SquadDataset(\n",
    "    question_preprocessor=preprocess_question,\n",
    "    context_preprocessor=preprocess_context,\n",
    ")\n",
    "squad_dataset.dataframe"
   ]
  },
  {
   "cell_type": "code",
   "execution_count": 241,
   "metadata": {
    "execution": {
     "iopub.execute_input": "2021-01-10T15:31:55.898857Z",
     "iopub.status.busy": "2021-01-10T15:31:55.898537Z",
     "iopub.status.idle": "2021-01-10T15:31:55.990895Z",
     "shell.execute_reply": "2021-01-10T15:31:55.989868Z",
     "shell.execute_reply.started": "2021-01-10T15:31:55.898815Z"
    }
   },
   "outputs": [
    {
     "data": {
      "text/html": [
       "<div>\n",
       "<style scoped>\n",
       "    .dataframe tbody tr th:only-of-type {\n",
       "        vertical-align: middle;\n",
       "    }\n",
       "\n",
       "    .dataframe tbody tr th {\n",
       "        vertical-align: top;\n",
       "    }\n",
       "\n",
       "    .dataframe thead th {\n",
       "        text-align: right;\n",
       "    }\n",
       "</style>\n",
       "<table border=\"1\" class=\"dataframe\">\n",
       "  <thead>\n",
       "    <tr style=\"text-align: right;\">\n",
       "      <th></th>\n",
       "      <th>index</th>\n",
       "      <th>question</th>\n",
       "      <th>title</th>\n",
       "      <th>context_id</th>\n",
       "      <th>context</th>\n",
       "      <th>answer</th>\n",
       "      <th>answer_start</th>\n",
       "      <th>answer_end</th>\n",
       "    </tr>\n",
       "  </thead>\n",
       "  <tbody>\n",
       "    <tr>\n",
       "      <th>0</th>\n",
       "      <td>5733be284776f41900661182</td>\n",
       "      <td>To whom did the Virgin Mary allegedly appear i...</td>\n",
       "      <td>University_of_Notre_Dame</td>\n",
       "      <td>0</td>\n",
       "      <td>Architecturally, the school has a Catholic cha...</td>\n",
       "      <td>Saint Bernadette Soubirous</td>\n",
       "      <td>515</td>\n",
       "      <td>541</td>\n",
       "    </tr>\n",
       "    <tr>\n",
       "      <th>1</th>\n",
       "      <td>5733be284776f4190066117f</td>\n",
       "      <td>What is in front of the Notre Dame Main Building?</td>\n",
       "      <td>University_of_Notre_Dame</td>\n",
       "      <td>0</td>\n",
       "      <td>Architecturally, the school has a Catholic cha...</td>\n",
       "      <td>a copper statue of Christ</td>\n",
       "      <td>188</td>\n",
       "      <td>213</td>\n",
       "    </tr>\n",
       "    <tr>\n",
       "      <th>2</th>\n",
       "      <td>5733be284776f41900661180</td>\n",
       "      <td>The Basilica of the Sacred heart at Notre Dame...</td>\n",
       "      <td>University_of_Notre_Dame</td>\n",
       "      <td>0</td>\n",
       "      <td>Architecturally, the school has a Catholic cha...</td>\n",
       "      <td>the Main Building</td>\n",
       "      <td>279</td>\n",
       "      <td>296</td>\n",
       "    </tr>\n",
       "    <tr>\n",
       "      <th>3</th>\n",
       "      <td>5733be284776f41900661181</td>\n",
       "      <td>What is the Grotto at Notre Dame?</td>\n",
       "      <td>University_of_Notre_Dame</td>\n",
       "      <td>0</td>\n",
       "      <td>Architecturally, the school has a Catholic cha...</td>\n",
       "      <td>a Marian place of prayer and reflection</td>\n",
       "      <td>381</td>\n",
       "      <td>420</td>\n",
       "    </tr>\n",
       "    <tr>\n",
       "      <th>4</th>\n",
       "      <td>5733be284776f4190066117e</td>\n",
       "      <td>What sits on top of the Main Building at Notre...</td>\n",
       "      <td>University_of_Notre_Dame</td>\n",
       "      <td>0</td>\n",
       "      <td>Architecturally, the school has a Catholic cha...</td>\n",
       "      <td>a golden statue of the Virgin Mary</td>\n",
       "      <td>92</td>\n",
       "      <td>126</td>\n",
       "    </tr>\n",
       "    <tr>\n",
       "      <th>...</th>\n",
       "      <td>...</td>\n",
       "      <td>...</td>\n",
       "      <td>...</td>\n",
       "      <td>...</td>\n",
       "      <td>...</td>\n",
       "      <td>...</td>\n",
       "      <td>...</td>\n",
       "      <td>...</td>\n",
       "    </tr>\n",
       "    <tr>\n",
       "      <th>70185</th>\n",
       "      <td>5735d259012e2f140011a09d</td>\n",
       "      <td>In what US state did Kathmandu first establish...</td>\n",
       "      <td>Kathmandu</td>\n",
       "      <td>18890</td>\n",
       "      <td>Kathmandu Metropolitan City (KMC), in order to...</td>\n",
       "      <td>Oregon</td>\n",
       "      <td>229</td>\n",
       "      <td>235</td>\n",
       "    </tr>\n",
       "    <tr>\n",
       "      <th>70186</th>\n",
       "      <td>5735d259012e2f140011a09e</td>\n",
       "      <td>What was Yangon previously known as?</td>\n",
       "      <td>Kathmandu</td>\n",
       "      <td>18890</td>\n",
       "      <td>Kathmandu Metropolitan City (KMC), in order to...</td>\n",
       "      <td>Rangoon</td>\n",
       "      <td>414</td>\n",
       "      <td>421</td>\n",
       "    </tr>\n",
       "    <tr>\n",
       "      <th>70187</th>\n",
       "      <td>5735d259012e2f140011a09f</td>\n",
       "      <td>With what Belorussian city does Kathmandu have...</td>\n",
       "      <td>Kathmandu</td>\n",
       "      <td>18890</td>\n",
       "      <td>Kathmandu Metropolitan City (KMC), in order to...</td>\n",
       "      <td>Minsk</td>\n",
       "      <td>476</td>\n",
       "      <td>481</td>\n",
       "    </tr>\n",
       "    <tr>\n",
       "      <th>70188</th>\n",
       "      <td>5735d259012e2f140011a0a0</td>\n",
       "      <td>In what year did Kathmandu create its initial ...</td>\n",
       "      <td>Kathmandu</td>\n",
       "      <td>18890</td>\n",
       "      <td>Kathmandu Metropolitan City (KMC), in order to...</td>\n",
       "      <td>1975</td>\n",
       "      <td>199</td>\n",
       "      <td>203</td>\n",
       "    </tr>\n",
       "    <tr>\n",
       "      <th>70189</th>\n",
       "      <td>5735d259012e2f140011a0a1</td>\n",
       "      <td>What is KMC an initialism of?</td>\n",
       "      <td>Kathmandu</td>\n",
       "      <td>18890</td>\n",
       "      <td>Kathmandu Metropolitan City (KMC), in order to...</td>\n",
       "      <td>Kathmandu Metropolitan City</td>\n",
       "      <td>0</td>\n",
       "      <td>27</td>\n",
       "    </tr>\n",
       "  </tbody>\n",
       "</table>\n",
       "<p>70190 rows × 8 columns</p>\n",
       "</div>"
      ],
      "text/plain": [
       "                          index  \\\n",
       "0      5733be284776f41900661182   \n",
       "1      5733be284776f4190066117f   \n",
       "2      5733be284776f41900661180   \n",
       "3      5733be284776f41900661181   \n",
       "4      5733be284776f4190066117e   \n",
       "...                         ...   \n",
       "70185  5735d259012e2f140011a09d   \n",
       "70186  5735d259012e2f140011a09e   \n",
       "70187  5735d259012e2f140011a09f   \n",
       "70188  5735d259012e2f140011a0a0   \n",
       "70189  5735d259012e2f140011a0a1   \n",
       "\n",
       "                                                question  \\\n",
       "0      To whom did the Virgin Mary allegedly appear i...   \n",
       "1      What is in front of the Notre Dame Main Building?   \n",
       "2      The Basilica of the Sacred heart at Notre Dame...   \n",
       "3                      What is the Grotto at Notre Dame?   \n",
       "4      What sits on top of the Main Building at Notre...   \n",
       "...                                                  ...   \n",
       "70185  In what US state did Kathmandu first establish...   \n",
       "70186               What was Yangon previously known as?   \n",
       "70187  With what Belorussian city does Kathmandu have...   \n",
       "70188  In what year did Kathmandu create its initial ...   \n",
       "70189                      What is KMC an initialism of?   \n",
       "\n",
       "                          title  context_id  \\\n",
       "0      University_of_Notre_Dame           0   \n",
       "1      University_of_Notre_Dame           0   \n",
       "2      University_of_Notre_Dame           0   \n",
       "3      University_of_Notre_Dame           0   \n",
       "4      University_of_Notre_Dame           0   \n",
       "...                         ...         ...   \n",
       "70185                 Kathmandu       18890   \n",
       "70186                 Kathmandu       18890   \n",
       "70187                 Kathmandu       18890   \n",
       "70188                 Kathmandu       18890   \n",
       "70189                 Kathmandu       18890   \n",
       "\n",
       "                                                 context  \\\n",
       "0      Architecturally, the school has a Catholic cha...   \n",
       "1      Architecturally, the school has a Catholic cha...   \n",
       "2      Architecturally, the school has a Catholic cha...   \n",
       "3      Architecturally, the school has a Catholic cha...   \n",
       "4      Architecturally, the school has a Catholic cha...   \n",
       "...                                                  ...   \n",
       "70185  Kathmandu Metropolitan City (KMC), in order to...   \n",
       "70186  Kathmandu Metropolitan City (KMC), in order to...   \n",
       "70187  Kathmandu Metropolitan City (KMC), in order to...   \n",
       "70188  Kathmandu Metropolitan City (KMC), in order to...   \n",
       "70189  Kathmandu Metropolitan City (KMC), in order to...   \n",
       "\n",
       "                                        answer  answer_start  answer_end  \n",
       "0                   Saint Bernadette Soubirous           515         541  \n",
       "1                    a copper statue of Christ           188         213  \n",
       "2                            the Main Building           279         296  \n",
       "3      a Marian place of prayer and reflection           381         420  \n",
       "4           a golden statue of the Virgin Mary            92         126  \n",
       "...                                        ...           ...         ...  \n",
       "70185                                   Oregon           229         235  \n",
       "70186                                  Rangoon           414         421  \n",
       "70187                                    Minsk           476         481  \n",
       "70188                                     1975           199         203  \n",
       "70189              Kathmandu Metropolitan City             0          27  \n",
       "\n",
       "[70190 rows x 8 columns]"
      ]
     },
     "execution_count": 241,
     "metadata": {},
     "output_type": "execute_result"
    }
   ],
   "source": [
    "squad_dataset.train_df"
   ]
  },
  {
   "cell_type": "code",
   "execution_count": 242,
   "metadata": {
    "execution": {
     "iopub.execute_input": "2021-01-10T15:31:58.856552Z",
     "iopub.status.busy": "2021-01-10T15:31:58.856209Z",
     "iopub.status.idle": "2021-01-10T15:31:58.966158Z",
     "shell.execute_reply": "2021-01-10T15:31:58.964987Z",
     "shell.execute_reply.started": "2021-01-10T15:31:58.856504Z"
    }
   },
   "outputs": [
    {
     "data": {
      "text/html": [
       "<div>\n",
       "<style scoped>\n",
       "    .dataframe tbody tr th:only-of-type {\n",
       "        vertical-align: middle;\n",
       "    }\n",
       "\n",
       "    .dataframe tbody tr th {\n",
       "        vertical-align: top;\n",
       "    }\n",
       "\n",
       "    .dataframe thead th {\n",
       "        text-align: right;\n",
       "    }\n",
       "</style>\n",
       "<table border=\"1\" class=\"dataframe\">\n",
       "  <thead>\n",
       "    <tr style=\"text-align: right;\">\n",
       "      <th></th>\n",
       "      <th>index</th>\n",
       "      <th>question</th>\n",
       "      <th>title</th>\n",
       "      <th>context_id</th>\n",
       "      <th>context</th>\n",
       "      <th>answer</th>\n",
       "      <th>answer_start</th>\n",
       "      <th>answer_end</th>\n",
       "    </tr>\n",
       "  </thead>\n",
       "  <tbody>\n",
       "    <tr>\n",
       "      <th>0</th>\n",
       "      <td>56be85543aeaaa14008c9063</td>\n",
       "      <td>When did Beyonce start becoming popular?</td>\n",
       "      <td>Beyoncé</td>\n",
       "      <td>55</td>\n",
       "      <td>Beyoncé Giselle Knowles-Carter (/biːˈjɒnseɪ/ b...</td>\n",
       "      <td>in the late 1990s</td>\n",
       "      <td>269</td>\n",
       "      <td>286</td>\n",
       "    </tr>\n",
       "    <tr>\n",
       "      <th>1</th>\n",
       "      <td>56be85543aeaaa14008c9065</td>\n",
       "      <td>What areas did Beyonce compete in when she was...</td>\n",
       "      <td>Beyoncé</td>\n",
       "      <td>55</td>\n",
       "      <td>Beyoncé Giselle Knowles-Carter (/biːˈjɒnseɪ/ b...</td>\n",
       "      <td>singing and dancing</td>\n",
       "      <td>207</td>\n",
       "      <td>226</td>\n",
       "    </tr>\n",
       "    <tr>\n",
       "      <th>2</th>\n",
       "      <td>56be85543aeaaa14008c9066</td>\n",
       "      <td>When did Beyonce leave Destiny's Child and bec...</td>\n",
       "      <td>Beyoncé</td>\n",
       "      <td>55</td>\n",
       "      <td>Beyoncé Giselle Knowles-Carter (/biːˈjɒnseɪ/ b...</td>\n",
       "      <td>2003</td>\n",
       "      <td>526</td>\n",
       "      <td>530</td>\n",
       "    </tr>\n",
       "    <tr>\n",
       "      <th>3</th>\n",
       "      <td>56bf6b0f3aeaaa14008c9601</td>\n",
       "      <td>In what city and state did Beyonce  grow up?</td>\n",
       "      <td>Beyoncé</td>\n",
       "      <td>55</td>\n",
       "      <td>Beyoncé Giselle Knowles-Carter (/biːˈjɒnseɪ/ b...</td>\n",
       "      <td>Houston, Texas</td>\n",
       "      <td>166</td>\n",
       "      <td>180</td>\n",
       "    </tr>\n",
       "    <tr>\n",
       "      <th>4</th>\n",
       "      <td>56bf6b0f3aeaaa14008c9602</td>\n",
       "      <td>In which decade did Beyonce become famous?</td>\n",
       "      <td>Beyoncé</td>\n",
       "      <td>55</td>\n",
       "      <td>Beyoncé Giselle Knowles-Carter (/biːˈjɒnseɪ/ b...</td>\n",
       "      <td>late 1990s</td>\n",
       "      <td>276</td>\n",
       "      <td>286</td>\n",
       "    </tr>\n",
       "    <tr>\n",
       "      <th>...</th>\n",
       "      <td>...</td>\n",
       "      <td>...</td>\n",
       "      <td>...</td>\n",
       "      <td>...</td>\n",
       "      <td>...</td>\n",
       "      <td>...</td>\n",
       "      <td>...</td>\n",
       "      <td>...</td>\n",
       "    </tr>\n",
       "    <tr>\n",
       "      <th>17404</th>\n",
       "      <td>5732868bb3a91d1900202e0f</td>\n",
       "      <td>At what Augusta hole was the Eisenhower Pine l...</td>\n",
       "      <td>Dwight_D._Eisenhower</td>\n",
       "      <td>18592</td>\n",
       "      <td>A loblolly pine, known as the \"Eisenhower Pine...</td>\n",
       "      <td>17th</td>\n",
       "      <td>74</td>\n",
       "      <td>78</td>\n",
       "    </tr>\n",
       "    <tr>\n",
       "      <th>17405</th>\n",
       "      <td>5732868bb3a91d1900202e10</td>\n",
       "      <td>How many meters away from the Masters tee on A...</td>\n",
       "      <td>Dwight_D._Eisenhower</td>\n",
       "      <td>18592</td>\n",
       "      <td>A loblolly pine, known as the \"Eisenhower Pine...</td>\n",
       "      <td>192</td>\n",
       "      <td>110</td>\n",
       "      <td>113</td>\n",
       "    </tr>\n",
       "    <tr>\n",
       "      <th>17406</th>\n",
       "      <td>5732868bb3a91d1900202e11</td>\n",
       "      <td>What did Eisenhower want to be done to the Eis...</td>\n",
       "      <td>Dwight_D._Eisenhower</td>\n",
       "      <td>18592</td>\n",
       "      <td>A loblolly pine, known as the \"Eisenhower Pine...</td>\n",
       "      <td>cut down</td>\n",
       "      <td>279</td>\n",
       "      <td>287</td>\n",
       "    </tr>\n",
       "    <tr>\n",
       "      <th>17407</th>\n",
       "      <td>5732868bb3a91d1900202e12</td>\n",
       "      <td>What damaged the Eisenhower Pine in February 2...</td>\n",
       "      <td>Dwight_D._Eisenhower</td>\n",
       "      <td>18592</td>\n",
       "      <td>A loblolly pine, known as the \"Eisenhower Pine...</td>\n",
       "      <td>ice storm</td>\n",
       "      <td>478</td>\n",
       "      <td>487</td>\n",
       "    </tr>\n",
       "    <tr>\n",
       "      <th>17408</th>\n",
       "      <td>5732868bb3a91d1900202e13</td>\n",
       "      <td>In what year did Eisenhower propose that the p...</td>\n",
       "      <td>Dwight_D._Eisenhower</td>\n",
       "      <td>18592</td>\n",
       "      <td>A loblolly pine, known as the \"Eisenhower Pine...</td>\n",
       "      <td>1956</td>\n",
       "      <td>237</td>\n",
       "      <td>241</td>\n",
       "    </tr>\n",
       "  </tbody>\n",
       "</table>\n",
       "<p>17409 rows × 8 columns</p>\n",
       "</div>"
      ],
      "text/plain": [
       "                          index  \\\n",
       "0      56be85543aeaaa14008c9063   \n",
       "1      56be85543aeaaa14008c9065   \n",
       "2      56be85543aeaaa14008c9066   \n",
       "3      56bf6b0f3aeaaa14008c9601   \n",
       "4      56bf6b0f3aeaaa14008c9602   \n",
       "...                         ...   \n",
       "17404  5732868bb3a91d1900202e0f   \n",
       "17405  5732868bb3a91d1900202e10   \n",
       "17406  5732868bb3a91d1900202e11   \n",
       "17407  5732868bb3a91d1900202e12   \n",
       "17408  5732868bb3a91d1900202e13   \n",
       "\n",
       "                                                question  \\\n",
       "0               When did Beyonce start becoming popular?   \n",
       "1      What areas did Beyonce compete in when she was...   \n",
       "2      When did Beyonce leave Destiny's Child and bec...   \n",
       "3          In what city and state did Beyonce  grow up?    \n",
       "4             In which decade did Beyonce become famous?   \n",
       "...                                                  ...   \n",
       "17404  At what Augusta hole was the Eisenhower Pine l...   \n",
       "17405  How many meters away from the Masters tee on A...   \n",
       "17406  What did Eisenhower want to be done to the Eis...   \n",
       "17407  What damaged the Eisenhower Pine in February 2...   \n",
       "17408  In what year did Eisenhower propose that the p...   \n",
       "\n",
       "                      title  context_id  \\\n",
       "0                   Beyoncé          55   \n",
       "1                   Beyoncé          55   \n",
       "2                   Beyoncé          55   \n",
       "3                   Beyoncé          55   \n",
       "4                   Beyoncé          55   \n",
       "...                     ...         ...   \n",
       "17404  Dwight_D._Eisenhower       18592   \n",
       "17405  Dwight_D._Eisenhower       18592   \n",
       "17406  Dwight_D._Eisenhower       18592   \n",
       "17407  Dwight_D._Eisenhower       18592   \n",
       "17408  Dwight_D._Eisenhower       18592   \n",
       "\n",
       "                                                 context               answer  \\\n",
       "0      Beyoncé Giselle Knowles-Carter (/biːˈjɒnseɪ/ b...    in the late 1990s   \n",
       "1      Beyoncé Giselle Knowles-Carter (/biːˈjɒnseɪ/ b...  singing and dancing   \n",
       "2      Beyoncé Giselle Knowles-Carter (/biːˈjɒnseɪ/ b...                 2003   \n",
       "3      Beyoncé Giselle Knowles-Carter (/biːˈjɒnseɪ/ b...       Houston, Texas   \n",
       "4      Beyoncé Giselle Knowles-Carter (/biːˈjɒnseɪ/ b...           late 1990s   \n",
       "...                                                  ...                  ...   \n",
       "17404  A loblolly pine, known as the \"Eisenhower Pine...                 17th   \n",
       "17405  A loblolly pine, known as the \"Eisenhower Pine...                  192   \n",
       "17406  A loblolly pine, known as the \"Eisenhower Pine...             cut down   \n",
       "17407  A loblolly pine, known as the \"Eisenhower Pine...            ice storm   \n",
       "17408  A loblolly pine, known as the \"Eisenhower Pine...                 1956   \n",
       "\n",
       "       answer_start  answer_end  \n",
       "0               269         286  \n",
       "1               207         226  \n",
       "2               526         530  \n",
       "3               166         180  \n",
       "4               276         286  \n",
       "...             ...         ...  \n",
       "17404            74          78  \n",
       "17405           110         113  \n",
       "17406           279         287  \n",
       "17407           478         487  \n",
       "17408           237         241  \n",
       "\n",
       "[17409 rows x 8 columns]"
      ]
     },
     "execution_count": 242,
     "metadata": {},
     "output_type": "execute_result"
    }
   ],
   "source": [
    "squad_dataset.val_df"
   ]
  },
  {
   "cell_type": "code",
   "execution_count": 243,
   "metadata": {
    "execution": {
     "iopub.execute_input": "2021-01-10T15:32:00.867725Z",
     "iopub.status.busy": "2021-01-10T15:32:00.867399Z",
     "iopub.status.idle": "2021-01-10T15:32:00.943128Z",
     "shell.execute_reply": "2021-01-10T15:32:00.942051Z",
     "shell.execute_reply.started": "2021-01-10T15:32:00.867683Z"
    }
   },
   "outputs": [
    {
     "data": {
      "text/plain": [
       "('To whom did the Virgin Mary allegedly appear in 1858 in Lourdes France?',\n",
       " 'Architecturally, the school has a Catholic character. Atop the Main Building\\'s gold dome is a golden statue of the Virgin Mary. Immediately in front of the Main Building and facing it, is a copper statue of Christ with arms upraised with the legend \"Venite Ad Me Omnes\". Next to the Main Building is the Basilica of the Sacred Heart. Immediately behind the basilica is the Grotto, a Marian place of prayer and reflection. It is a replica of the grotto at Lourdes, France where the Virgin Mary reputedly appeared to Saint Bernadette Soubirous in 1858. At the end of the main drive (and in a direct line that connects through 3 statues and the Gold Dome), is a simple, modern stone statue of Mary.',\n",
       " 515,\n",
       " 541)"
      ]
     },
     "execution_count": 243,
     "metadata": {},
     "output_type": "execute_result"
    }
   ],
   "source": [
    "squad_dataset.train_dataset[0]"
   ]
  },
  {
   "cell_type": "markdown",
   "metadata": {},
   "source": [
    "## Baseline"
   ]
  },
  {
   "cell_type": "markdown",
   "metadata": {},
   "source": [
    "### Preliminaries"
   ]
  },
  {
   "cell_type": "code",
   "execution_count": 244,
   "metadata": {
    "execution": {
     "iopub.execute_input": "2021-01-10T15:32:03.858823Z",
     "iopub.status.busy": "2021-01-10T15:32:03.858520Z",
     "iopub.status.idle": "2021-01-10T15:32:03.924776Z",
     "shell.execute_reply": "2021-01-10T15:32:03.923454Z",
     "shell.execute_reply.started": "2021-01-10T15:32:03.858782Z"
    }
   },
   "outputs": [],
   "source": [
    "UNK_TOKEN = \"[UNK]\"\n",
    "PAD_TOKEN = \"[PAD]\""
   ]
  },
  {
   "cell_type": "code",
   "execution_count": 245,
   "metadata": {
    "execution": {
     "iopub.execute_input": "2021-01-10T15:32:04.522025Z",
     "iopub.status.busy": "2021-01-10T15:32:04.521709Z",
     "iopub.status.idle": "2021-01-10T15:32:56.612295Z",
     "shell.execute_reply": "2021-01-10T15:32:56.610748Z",
     "shell.execute_reply.started": "2021-01-10T15:32:04.521984Z"
    }
   },
   "outputs": [],
   "source": [
    "import gensim\n",
    "import gensim.downloader as gloader\n",
    "\n",
    "\n",
    "def load_embedding_model(model_type, embedding_dimension=50):\n",
    "    \"\"\"\n",
    "    Loads a pre-trained word embedding model via gensim library\n",
    "    \"\"\"\n",
    "    # Find the correct embedding model name\n",
    "    download_path = \"\"\n",
    "    if model_type.strip().lower() == \"word2vec\":\n",
    "        download_path = \"word2vec-google-news-300\"\n",
    "    elif model_type.strip().lower() == \"glove\":\n",
    "        download_path = f\"glove-wiki-gigaword-{embedding_dimension}\"\n",
    "    else:\n",
    "        raise AttributeError(\n",
    "            \"Unsupported embedding model type (choose from {word2vec, glove})\"\n",
    "        )\n",
    "\n",
    "    # Check download\n",
    "    try:\n",
    "        emb_model = gloader.load(download_path)\n",
    "    except ValueError as e:\n",
    "        print(\"Invalid embedding model name. Check the embedding dimension:\")\n",
    "        print(\"Word2Vec: {300}\")\n",
    "        print(\"GloVe: {50, 100, 200, 300}\")\n",
    "        raise e\n",
    "\n",
    "    return emb_model\n",
    "\n",
    "\n",
    "glove_embedding_dimension = 50\n",
    "glove_embedding_model = load_embedding_model(\"glove\", embedding_dimension=glove_embedding_dimension)"
   ]
  },
  {
   "cell_type": "code",
   "execution_count": 246,
   "metadata": {
    "execution": {
     "iopub.execute_input": "2021-01-10T15:32:57.245672Z",
     "iopub.status.busy": "2021-01-10T15:32:57.245357Z",
     "iopub.status.idle": "2021-01-10T15:32:57.386124Z",
     "shell.execute_reply": "2021-01-10T15:32:57.384943Z",
     "shell.execute_reply.started": "2021-01-10T15:32:57.245632Z"
    }
   },
   "outputs": [
    {
     "data": {
      "text/plain": [
       "array([-0.12920076, -0.28866628, -0.01224866, -0.05676644, -0.20210965,\n",
       "       -0.08389011,  0.33359843,  0.16045167,  0.03867431,  0.17833012,\n",
       "        0.04696583, -0.00285802,  0.29099807,  0.04613704, -0.20923874,\n",
       "       -0.06613114, -0.06822549,  0.07665912,  0.3134014 ,  0.17848536,\n",
       "       -0.1225775 , -0.09916984, -0.07495987,  0.06413227,  0.14441176,\n",
       "        0.60894334,  0.17463093,  0.05335403, -0.01273871,  0.03474107,\n",
       "       -0.8123879 , -0.04688699,  0.20193407,  0.2031118 , -0.03935686,\n",
       "        0.06967544, -0.01553638, -0.03405238, -0.06528071,  0.12250231,\n",
       "        0.13991883, -0.17446303, -0.08011883,  0.0849521 , -0.01041659,\n",
       "       -0.13705009,  0.20127155,  0.10069408,  0.00653003,  0.01685157],\n",
       "      dtype=float32)"
      ]
     },
     "execution_count": 246,
     "metadata": {},
     "output_type": "execute_result"
    }
   ],
   "source": [
    "glove_unk = np.mean(glove_embedding_model.vectors, axis=0)\n",
    "glove_unk"
   ]
  },
  {
   "cell_type": "code",
   "execution_count": 247,
   "metadata": {
    "execution": {
     "iopub.execute_input": "2021-01-10T15:32:57.388532Z",
     "iopub.status.busy": "2021-01-10T15:32:57.388190Z",
     "iopub.status.idle": "2021-01-10T15:32:57.513140Z",
     "shell.execute_reply": "2021-01-10T15:32:57.512051Z",
     "shell.execute_reply.started": "2021-01-10T15:32:57.388481Z"
    }
   },
   "outputs": [
    {
     "data": {
      "text/plain": [
       "False"
      ]
     },
     "execution_count": 247,
     "metadata": {},
     "output_type": "execute_result"
    }
   ],
   "source": [
    "any(np.all(glove_embedding_model.vectors == 0, axis=1))"
   ]
  },
  {
   "cell_type": "code",
   "execution_count": 248,
   "metadata": {
    "execution": {
     "iopub.execute_input": "2021-01-10T15:32:57.515317Z",
     "iopub.status.busy": "2021-01-10T15:32:57.514997Z",
     "iopub.status.idle": "2021-01-10T15:32:57.776651Z",
     "shell.execute_reply": "2021-01-10T15:32:57.775349Z",
     "shell.execute_reply.started": "2021-01-10T15:32:57.515277Z"
    }
   },
   "outputs": [],
   "source": [
    "glove_embedding_model.add(UNK_TOKEN, glove_unk)\n",
    "glove_embedding_model.add(PAD_TOKEN, np.zeros((1, glove_embedding_dimension)))"
   ]
  },
  {
   "cell_type": "code",
   "execution_count": 249,
   "metadata": {
    "execution": {
     "iopub.execute_input": "2021-01-10T15:32:57.779094Z",
     "iopub.status.busy": "2021-01-10T15:32:57.778585Z",
     "iopub.status.idle": "2021-01-10T15:32:57.847652Z",
     "shell.execute_reply": "2021-01-10T15:32:57.846594Z",
     "shell.execute_reply.started": "2021-01-10T15:32:57.779052Z"
    }
   },
   "outputs": [
    {
     "data": {
      "text/plain": [
       "(400002, 50)"
      ]
     },
     "execution_count": 249,
     "metadata": {},
     "output_type": "execute_result"
    }
   ],
   "source": [
    "glove_embedding_model.vectors.shape"
   ]
  },
  {
   "cell_type": "code",
   "execution_count": 250,
   "metadata": {
    "execution": {
     "iopub.execute_input": "2021-01-10T15:32:57.849383Z",
     "iopub.status.busy": "2021-01-10T15:32:57.849055Z",
     "iopub.status.idle": "2021-01-10T15:32:57.912141Z",
     "shell.execute_reply": "2021-01-10T15:32:57.911104Z",
     "shell.execute_reply.started": "2021-01-10T15:32:57.849342Z"
    }
   },
   "outputs": [
    {
     "data": {
      "text/plain": [
       "array([-0.12920076, -0.28866628, -0.01224866, -0.05676644, -0.20210965,\n",
       "       -0.08389011,  0.33359843,  0.16045167,  0.03867431,  0.17833012,\n",
       "        0.04696583, -0.00285802,  0.29099807,  0.04613704, -0.20923874,\n",
       "       -0.06613114, -0.06822549,  0.07665912,  0.3134014 ,  0.17848536,\n",
       "       -0.1225775 , -0.09916984, -0.07495987,  0.06413227,  0.14441176,\n",
       "        0.60894334,  0.17463093,  0.05335403, -0.01273871,  0.03474107,\n",
       "       -0.8123879 , -0.04688699,  0.20193407,  0.2031118 , -0.03935686,\n",
       "        0.06967544, -0.01553638, -0.03405238, -0.06528071,  0.12250231,\n",
       "        0.13991883, -0.17446303, -0.08011883,  0.0849521 , -0.01041659,\n",
       "       -0.13705009,  0.20127155,  0.10069408,  0.00653003,  0.01685157],\n",
       "      dtype=float32)"
      ]
     },
     "execution_count": 250,
     "metadata": {},
     "output_type": "execute_result"
    }
   ],
   "source": [
    "glove_embedding_model[UNK_TOKEN]"
   ]
  },
  {
   "cell_type": "code",
   "execution_count": 251,
   "metadata": {
    "execution": {
     "iopub.execute_input": "2021-01-10T15:32:57.915867Z",
     "iopub.status.busy": "2021-01-10T15:32:57.915566Z",
     "iopub.status.idle": "2021-01-10T15:32:57.977458Z",
     "shell.execute_reply": "2021-01-10T15:32:57.976403Z",
     "shell.execute_reply.started": "2021-01-10T15:32:57.915830Z"
    }
   },
   "outputs": [
    {
     "data": {
      "text/plain": [
       "array([0., 0., 0., 0., 0., 0., 0., 0., 0., 0., 0., 0., 0., 0., 0., 0., 0.,\n",
       "       0., 0., 0., 0., 0., 0., 0., 0., 0., 0., 0., 0., 0., 0., 0., 0., 0.,\n",
       "       0., 0., 0., 0., 0., 0., 0., 0., 0., 0., 0., 0., 0., 0., 0., 0.],\n",
       "      dtype=float32)"
      ]
     },
     "execution_count": 251,
     "metadata": {},
     "output_type": "execute_result"
    }
   ],
   "source": [
    "glove_embedding_model[PAD_TOKEN]"
   ]
  },
  {
   "cell_type": "code",
   "execution_count": 252,
   "metadata": {
    "execution": {
     "iopub.execute_input": "2021-01-10T15:32:57.979844Z",
     "iopub.status.busy": "2021-01-10T15:32:57.979543Z",
     "iopub.status.idle": "2021-01-10T15:32:58.089126Z",
     "shell.execute_reply": "2021-01-10T15:32:58.088010Z",
     "shell.execute_reply.started": "2021-01-10T15:32:57.979807Z"
    }
   },
   "outputs": [
    {
     "data": {
      "text/plain": [
       "'[PAD]'"
      ]
     },
     "execution_count": 252,
     "metadata": {},
     "output_type": "execute_result"
    }
   ],
   "source": [
    "list(glove_embedding_model.vocab.keys())[-1]"
   ]
  },
  {
   "cell_type": "code",
   "execution_count": 253,
   "metadata": {
    "execution": {
     "iopub.execute_input": "2021-01-10T15:32:58.091049Z",
     "iopub.status.busy": "2021-01-10T15:32:58.090730Z",
     "iopub.status.idle": "2021-01-10T15:32:58.354523Z",
     "shell.execute_reply": "2021-01-10T15:32:58.353141Z",
     "shell.execute_reply.started": "2021-01-10T15:32:58.091008Z"
    }
   },
   "outputs": [],
   "source": [
    "glove_vocab = dict(\n",
    "    zip(glove_embedding_model.index2word, range(len(glove_embedding_model.index2word)))\n",
    ")"
   ]
  },
  {
   "cell_type": "code",
   "execution_count": 254,
   "metadata": {
    "execution": {
     "iopub.execute_input": "2021-01-10T15:32:58.356831Z",
     "iopub.status.busy": "2021-01-10T15:32:58.356492Z",
     "iopub.status.idle": "2021-01-10T15:32:59.279985Z",
     "shell.execute_reply": "2021-01-10T15:32:59.278846Z",
     "shell.execute_reply.started": "2021-01-10T15:32:58.356790Z"
    }
   },
   "outputs": [],
   "source": [
    "glove_embedding_layer = nn.Embedding(\n",
    "    glove_embedding_model.vectors.shape[0],\n",
    "    glove_embedding_dimension,\n",
    "    padding_idx=glove_vocab[PAD_TOKEN],\n",
    ")\n",
    "glove_embedding_layer.weight = nn.Parameter(\n",
    "    torch.from_numpy(glove_embedding_model.vectors)\n",
    ")\n",
    "glove_embedding_layer.weight.requires_grad = False"
   ]
  },
  {
   "cell_type": "code",
   "execution_count": 255,
   "metadata": {
    "execution": {
     "iopub.execute_input": "2021-01-10T15:33:05.051871Z",
     "iopub.status.busy": "2021-01-10T15:33:05.051552Z",
     "iopub.status.idle": "2021-01-10T15:33:05.119286Z",
     "shell.execute_reply": "2021-01-10T15:33:05.117726Z",
     "shell.execute_reply.started": "2021-01-10T15:33:05.051830Z"
    }
   },
   "outputs": [],
   "source": [
    "MAX_QUESTION_TOKENS = 25\n",
    "MAX_CONTEXT_TOKENS = 300"
   ]
  },
  {
   "cell_type": "code",
   "execution_count": 256,
   "metadata": {
    "execution": {
     "iopub.execute_input": "2021-01-10T15:33:05.963743Z",
     "iopub.status.busy": "2021-01-10T15:33:05.963424Z",
     "iopub.status.idle": "2021-01-10T15:33:06.925919Z",
     "shell.execute_reply": "2021-01-10T15:33:06.924179Z",
     "shell.execute_reply.started": "2021-01-10T15:33:05.963702Z"
    }
   },
   "outputs": [],
   "source": [
    "import tokenizers\n",
    "from tokenizers import Tokenizer\n",
    "from tokenizers.models import WordLevel\n",
    "from tokenizers.normalizers import Sequence, StripAccents, Lowercase, Strip\n",
    "from tokenizers.pre_tokenizers import Whitespace\n",
    "\n",
    "baseline_question_tokenizer = Tokenizer(WordLevel(glove_vocab, unk_token=UNK_TOKEN))\n",
    "baseline_question_tokenizer.normalizer = Sequence([StripAccents(), Lowercase(), Strip()])\n",
    "baseline_question_tokenizer.pre_tokenizer = Whitespace()\n",
    "baseline_question_tokenizer.enable_padding(\n",
    "    direction=\"right\",\n",
    "    pad_id=glove_vocab[PAD_TOKEN],\n",
    "    pad_type_id=1,\n",
    "    pad_token=PAD_TOKEN,\n",
    "    length=MAX_QUESTION_TOKENS,\n",
    ")\n",
    "baseline_question_tokenizer.enable_truncation(MAX_QUESTION_TOKENS)\n",
    "\n",
    "baseline_context_tokenizer = Tokenizer(WordLevel(glove_vocab, unk_token=UNK_TOKEN))\n",
    "baseline_context_tokenizer.normalizer = Sequence([StripAccents(), Lowercase(), Strip()])\n",
    "baseline_context_tokenizer.pre_tokenizer = Whitespace()\n",
    "baseline_context_tokenizer.enable_padding(\n",
    "    direction=\"right\",\n",
    "    pad_id=glove_vocab[PAD_TOKEN],\n",
    "    pad_type_id=1,\n",
    "    pad_token=PAD_TOKEN,\n",
    "    length=MAX_CONTEXT_TOKENS,\n",
    ")\n",
    "baseline_context_tokenizer.enable_truncation(MAX_CONTEXT_TOKENS)"
   ]
  },
  {
   "cell_type": "code",
   "execution_count": 258,
   "metadata": {
    "execution": {
     "iopub.execute_input": "2021-01-10T15:33:18.219925Z",
     "iopub.status.busy": "2021-01-10T15:33:18.219546Z",
     "iopub.status.idle": "2021-01-10T15:33:18.310899Z",
     "shell.execute_reply": "2021-01-10T15:33:18.309469Z",
     "shell.execute_reply.started": "2021-01-10T15:33:18.219881Z"
    }
   },
   "outputs": [],
   "source": [
    "class BaselineDataCollatorWithPadding:\n",
    "    \"\"\"\n",
    "    Data collator that will dynamically pad the inputs received\n",
    "    \"\"\"\n",
    "\n",
    "    def __init__(self, question_tokenizer, context_tokenizer):\n",
    "        self.question_tokenizer = question_tokenizer\n",
    "        self.context_tokenizer = context_tokenizer\n",
    "\n",
    "    def find_tokenized_answer_indexes(self, offsets, query, dim):\n",
    "        index = torch.nonzero(offsets[:, dim] == query)\n",
    "        assert len(index) in (0, 1)\n",
    "        return index.item() if len(index) > 0 else -1\n",
    "\n",
    "    def __call__(self, inputs):\n",
    "        (questions, contexts, answers_start, answers_end) = zip(*inputs)\n",
    "        tokenized_questions = self.question_tokenizer.encode_batch(questions)\n",
    "        tokenized_contexts = self.context_tokenizer.encode_batch(contexts)\n",
    "        batch_size = len(tokenized_questions)\n",
    "        questions_shape = (batch_size, len(tokenized_questions[0].ids))\n",
    "        contexts_shape = (batch_size, len(tokenized_contexts[0].ids))\n",
    "\n",
    "        batch = {\n",
    "            \"question_ids\": torch.empty(questions_shape, dtype=torch.long),\n",
    "            \"question_type_ids\": torch.empty(questions_shape, dtype=torch.long),\n",
    "            \"question_attention_mask\": torch.empty(questions_shape, dtype=torch.bool),\n",
    "            \"question_special_tokens_mask\": torch.empty(\n",
    "                questions_shape, dtype=torch.bool\n",
    "            ),\n",
    "            \"question_lenghts\": torch.empty((batch_size,), dtype=torch.long),\n",
    "            \"context_ids\": torch.empty(contexts_shape, dtype=torch.long),\n",
    "            \"context_type_ids\": torch.empty(contexts_shape, dtype=torch.long),\n",
    "            \"context_attention_mask\": torch.empty(contexts_shape, dtype=torch.bool),\n",
    "            \"context_special_tokens_mask\": torch.empty(\n",
    "                contexts_shape, dtype=torch.bool\n",
    "            ),\n",
    "            \"context_offsets\": torch.empty((*contexts_shape, 2), dtype=torch.long),\n",
    "            \"context_lenghts\": torch.empty((batch_size,), dtype=torch.long),\n",
    "            # \"answer_start\": torch.tensor(answers_start, dtype=torch.long),\n",
    "            # \"answer_end\": torch.tensor(answers_end, dtype=torch.long),\n",
    "            \"answer_start\": torch.empty((batch_size,), dtype=torch.long),\n",
    "            \"answer_end\": torch.empty((batch_size,), dtype=torch.long),\n",
    "        }\n",
    "        for i in range(batch_size):\n",
    "            batch[\"question_ids\"][i] = torch.tensor(tokenized_questions[i].ids)\n",
    "            batch[\"question_type_ids\"][i] = torch.tensor(\n",
    "                tokenized_questions[i].type_ids\n",
    "            )\n",
    "            batch[\"question_attention_mask\"][i] = torch.tensor(\n",
    "                tokenized_questions[i].attention_mask\n",
    "            )\n",
    "            batch[\"question_special_tokens_mask\"][i] = torch.tensor(\n",
    "                tokenized_questions[i].special_tokens_mask\n",
    "            )\n",
    "            batch[\"question_lenghts\"][i] = torch.count_nonzero(\n",
    "                ~batch[\"question_special_tokens_mask\"][i]\n",
    "            )\n",
    "            batch[\"context_ids\"][i] = torch.tensor(tokenized_contexts[i].ids)\n",
    "            batch[\"context_type_ids\"][i] = torch.tensor(tokenized_contexts[i].type_ids)\n",
    "            batch[\"context_attention_mask\"][i] = torch.tensor(\n",
    "                tokenized_contexts[i].attention_mask\n",
    "            )\n",
    "            batch[\"context_special_tokens_mask\"][i] = torch.tensor(\n",
    "                tokenized_contexts[i].special_tokens_mask\n",
    "            )\n",
    "            batch[\"context_offsets\"][i] = torch.tensor(tokenized_contexts[i].offsets)\n",
    "            batch[\"context_lenghts\"][i] = torch.count_nonzero(\n",
    "                ~batch[\"context_special_tokens_mask\"][i]\n",
    "            )\n",
    "            masked_offsets = batch[\"context_offsets\"][i][batch[\"context_attention_mask\"][i]]\n",
    "            batch[\"answer_start\"][i] = self.find_tokenized_answer_indexes(\n",
    "                masked_offsets, answers_start[i], 0\n",
    "            )\n",
    "            batch[\"answer_end\"][i] = self.find_tokenized_answer_indexes(\n",
    "                masked_offsets, answers_end[i], 1\n",
    "            )\n",
    "\n",
    "        return batch"
   ]
  },
  {
   "cell_type": "markdown",
   "metadata": {},
   "source": [
    "### Baseline model"
   ]
  },
  {
   "cell_type": "code",
   "execution_count": 342,
   "metadata": {
    "execution": {
     "iopub.execute_input": "2021-01-10T16:25:45.416792Z",
     "iopub.status.busy": "2021-01-10T16:25:45.416352Z",
     "iopub.status.idle": "2021-01-10T16:25:45.496753Z",
     "shell.execute_reply": "2021-01-10T16:25:45.495651Z",
     "shell.execute_reply.started": "2021-01-10T16:25:45.416747Z"
    }
   },
   "outputs": [
    {
     "data": {
      "text/plain": [
       "101400"
      ]
     },
     "execution_count": 342,
     "metadata": {},
     "output_type": "execute_result"
    }
   ],
   "source": [
    "baseline_model = model.QABaselineModel(glove_embedding_layer, MAX_CONTEXT_TOKENS)\n",
    "baseline_model.count_parameters()"
   ]
  },
  {
   "cell_type": "code",
   "execution_count": 340,
   "metadata": {
    "execution": {
     "iopub.execute_input": "2021-01-10T16:20:06.000943Z",
     "iopub.status.busy": "2021-01-10T16:20:06.000477Z",
     "iopub.status.idle": "2021-01-10T16:20:06.071891Z",
     "shell.execute_reply": "2021-01-10T16:20:06.070712Z",
     "shell.execute_reply.started": "2021-01-10T16:20:06.000889Z"
    }
   },
   "outputs": [],
   "source": [
    "baseline_args = transformers.TrainingArguments(\n",
    "    output_dir=\"./checkpoints\",\n",
    "    logging_dir=\"./runs\",\n",
    "    overwrite_output_dir=True,\n",
    "    evaluation_strategy=\"epoch\",\n",
    "    learning_rate=1e-3,\n",
    "    num_train_epochs=10,\n",
    "    remove_unused_columns=False,\n",
    "    per_device_train_batch_size=256,\n",
    "    per_device_eval_batch_size=64,\n",
    "    label_names=[\"answer_start\", \"answer_end\"]\n",
    ")"
   ]
  },
  {
   "cell_type": "code",
   "execution_count": 341,
   "metadata": {
    "execution": {
     "iopub.execute_input": "2021-01-10T16:20:06.850442Z",
     "iopub.status.busy": "2021-01-10T16:20:06.850103Z",
     "iopub.status.idle": "2021-01-10T16:20:06.934366Z",
     "shell.execute_reply": "2021-01-10T16:20:06.932424Z",
     "shell.execute_reply.started": "2021-01-10T16:20:06.850401Z"
    }
   },
   "outputs": [
    {
     "ename": "AttributeError",
     "evalue": "module 'torch.optim' has no attribute 'ExponentialLR'",
     "output_type": "error",
     "traceback": [
      "\u001b[0;31m---------------------------------------------------------------------------\u001b[0m",
      "\u001b[0;31mAttributeError\u001b[0m                            Traceback (most recent call last)",
      "\u001b[0;32m<ipython-input-341-06103baa3cf1>\u001b[0m in \u001b[0;36m<module>\u001b[0;34m\u001b[0m\n\u001b[1;32m      5\u001b[0m     \u001b[0mtrain_dataset\u001b[0m\u001b[0;34m=\u001b[0m\u001b[0msquad_dataset\u001b[0m\u001b[0;34m.\u001b[0m\u001b[0mtrain_dataset\u001b[0m\u001b[0;34m,\u001b[0m\u001b[0;34m\u001b[0m\u001b[0;34m\u001b[0m\u001b[0m\n\u001b[1;32m      6\u001b[0m     \u001b[0meval_dataset\u001b[0m\u001b[0;34m=\u001b[0m\u001b[0msquad_dataset\u001b[0m\u001b[0;34m.\u001b[0m\u001b[0mval_dataset\u001b[0m\u001b[0;34m,\u001b[0m\u001b[0;34m\u001b[0m\u001b[0;34m\u001b[0m\u001b[0m\n\u001b[0;32m----> 7\u001b[0;31m     \u001b[0moptimizers\u001b[0m\u001b[0;34m=\u001b[0m\u001b[0;34m(\u001b[0m\u001b[0moptim\u001b[0m\u001b[0;34m.\u001b[0m\u001b[0mSGD\u001b[0m\u001b[0;34m(\u001b[0m\u001b[0mbaseline_model\u001b[0m\u001b[0;34m.\u001b[0m\u001b[0mparameters\u001b[0m\u001b[0;34m(\u001b[0m\u001b[0;34m)\u001b[0m\u001b[0;34m,\u001b[0m \u001b[0mlr\u001b[0m\u001b[0;34m=\u001b[0m\u001b[0;36m0.1\u001b[0m\u001b[0;34m)\u001b[0m\u001b[0;34m,\u001b[0m\u001b[0moptim\u001b[0m\u001b[0;34m.\u001b[0m\u001b[0mExponentialLR\u001b[0m\u001b[0;34m(\u001b[0m\u001b[0;36m.999\u001b[0m\u001b[0;34m)\u001b[0m\u001b[0;34m)\u001b[0m\u001b[0;34m,\u001b[0m\u001b[0;34m\u001b[0m\u001b[0;34m\u001b[0m\u001b[0m\n\u001b[0m\u001b[1;32m      8\u001b[0m     \u001b[0;31m#callbacks=[transformers.integrations.WandbCallback]\u001b[0m\u001b[0;34m\u001b[0m\u001b[0;34m\u001b[0m\u001b[0;34m\u001b[0m\u001b[0m\n\u001b[1;32m      9\u001b[0m )\n",
      "\u001b[0;31mAttributeError\u001b[0m: module 'torch.optim' has no attribute 'ExponentialLR'"
     ]
    }
   ],
   "source": [
    "baseline_trainer = transformers.Trainer(\n",
    "    model=baseline_model,\n",
    "    args=baseline_args,\n",
    "    data_collator=BaselineDataCollatorWithPadding(baseline_question_tokenizer, baseline_context_tokenizer),\n",
    "    train_dataset=squad_dataset.train_dataset,\n",
    "    eval_dataset=squad_dataset.val_dataset,\n",
    "    #callbacks=[transformers.integrations.WandbCallback]\n",
    ")"
   ]
  },
  {
   "cell_type": "code",
   "execution_count": 339,
   "metadata": {
    "execution": {
     "iopub.execute_input": "2021-01-10T16:15:51.844979Z",
     "iopub.status.busy": "2021-01-10T16:15:51.844657Z",
     "iopub.status.idle": "2021-01-10T16:16:57.231529Z",
     "shell.execute_reply": "2021-01-10T16:16:57.229401Z",
     "shell.execute_reply.started": "2021-01-10T16:15:51.844937Z"
    }
   },
   "outputs": [
    {
     "name": "stdout",
     "output_type": "stream",
     "text": [
      "torch.Size([256, 300, 1]) torch.Size([256, 300, 1])\n",
      "tensor(18.8223, grad_fn=<NllLossBackward>) tensor(16.5142, grad_fn=<NllLossBackward>)\n"
     ]
    },
    {
     "ename": "KeyboardInterrupt",
     "evalue": "",
     "output_type": "error",
     "traceback": [
      "\u001b[0;31m---------------------------------------------------------------------------\u001b[0m",
      "\u001b[0;31mKeyboardInterrupt\u001b[0m                         Traceback (most recent call last)",
      "\u001b[0;32m<ipython-input-339-a28822d33159>\u001b[0m in \u001b[0;36m<module>\u001b[0;34m\u001b[0m\n\u001b[0;32m----> 1\u001b[0;31m \u001b[0mbaseline_trainer\u001b[0m\u001b[0;34m.\u001b[0m\u001b[0mtrain\u001b[0m\u001b[0;34m(\u001b[0m\u001b[0;34m)\u001b[0m\u001b[0;34m\u001b[0m\u001b[0;34m\u001b[0m\u001b[0m\n\u001b[0m",
      "\u001b[0;32m~/anaconda3/lib/python3.8/site-packages/transformers/trainer.py\u001b[0m in \u001b[0;36mtrain\u001b[0;34m(self, model_path, trial)\u001b[0m\n\u001b[1;32m    797\u001b[0m                         \u001b[0mtr_loss\u001b[0m \u001b[0;34m+=\u001b[0m \u001b[0mself\u001b[0m\u001b[0;34m.\u001b[0m\u001b[0mtraining_step\u001b[0m\u001b[0;34m(\u001b[0m\u001b[0mmodel\u001b[0m\u001b[0;34m,\u001b[0m \u001b[0minputs\u001b[0m\u001b[0;34m)\u001b[0m\u001b[0;34m\u001b[0m\u001b[0;34m\u001b[0m\u001b[0m\n\u001b[1;32m    798\u001b[0m                 \u001b[0;32melse\u001b[0m\u001b[0;34m:\u001b[0m\u001b[0;34m\u001b[0m\u001b[0;34m\u001b[0m\u001b[0m\n\u001b[0;32m--> 799\u001b[0;31m                     \u001b[0mtr_loss\u001b[0m \u001b[0;34m+=\u001b[0m \u001b[0mself\u001b[0m\u001b[0;34m.\u001b[0m\u001b[0mtraining_step\u001b[0m\u001b[0;34m(\u001b[0m\u001b[0mmodel\u001b[0m\u001b[0;34m,\u001b[0m \u001b[0minputs\u001b[0m\u001b[0;34m)\u001b[0m\u001b[0;34m\u001b[0m\u001b[0;34m\u001b[0m\u001b[0m\n\u001b[0m\u001b[1;32m    800\u001b[0m                 \u001b[0mself\u001b[0m\u001b[0;34m.\u001b[0m\u001b[0m_total_flos\u001b[0m \u001b[0;34m+=\u001b[0m \u001b[0mself\u001b[0m\u001b[0;34m.\u001b[0m\u001b[0mfloating_point_ops\u001b[0m\u001b[0;34m(\u001b[0m\u001b[0minputs\u001b[0m\u001b[0;34m)\u001b[0m\u001b[0;34m\u001b[0m\u001b[0;34m\u001b[0m\u001b[0m\n\u001b[1;32m    801\u001b[0m \u001b[0;34m\u001b[0m\u001b[0m\n",
      "\u001b[0;32m~/anaconda3/lib/python3.8/site-packages/transformers/trainer.py\u001b[0m in \u001b[0;36mtraining_step\u001b[0;34m(self, model, inputs)\u001b[0m\n\u001b[1;32m   1151\u001b[0m                 \u001b[0mscaled_loss\u001b[0m\u001b[0;34m.\u001b[0m\u001b[0mbackward\u001b[0m\u001b[0;34m(\u001b[0m\u001b[0;34m)\u001b[0m\u001b[0;34m\u001b[0m\u001b[0;34m\u001b[0m\u001b[0m\n\u001b[1;32m   1152\u001b[0m         \u001b[0;32melse\u001b[0m\u001b[0;34m:\u001b[0m\u001b[0;34m\u001b[0m\u001b[0;34m\u001b[0m\u001b[0m\n\u001b[0;32m-> 1153\u001b[0;31m             \u001b[0mloss\u001b[0m\u001b[0;34m.\u001b[0m\u001b[0mbackward\u001b[0m\u001b[0;34m(\u001b[0m\u001b[0;34m)\u001b[0m\u001b[0;34m\u001b[0m\u001b[0;34m\u001b[0m\u001b[0m\n\u001b[0m\u001b[1;32m   1154\u001b[0m \u001b[0;34m\u001b[0m\u001b[0m\n\u001b[1;32m   1155\u001b[0m         \u001b[0;32mreturn\u001b[0m \u001b[0mloss\u001b[0m\u001b[0;34m.\u001b[0m\u001b[0mdetach\u001b[0m\u001b[0;34m(\u001b[0m\u001b[0;34m)\u001b[0m\u001b[0;34m\u001b[0m\u001b[0;34m\u001b[0m\u001b[0m\n",
      "\u001b[0;32m~/anaconda3/lib/python3.8/site-packages/torch/tensor.py\u001b[0m in \u001b[0;36mbackward\u001b[0;34m(self, gradient, retain_graph, create_graph)\u001b[0m\n\u001b[1;32m    219\u001b[0m                 \u001b[0mretain_graph\u001b[0m\u001b[0;34m=\u001b[0m\u001b[0mretain_graph\u001b[0m\u001b[0;34m,\u001b[0m\u001b[0;34m\u001b[0m\u001b[0;34m\u001b[0m\u001b[0m\n\u001b[1;32m    220\u001b[0m                 create_graph=create_graph)\n\u001b[0;32m--> 221\u001b[0;31m         \u001b[0mtorch\u001b[0m\u001b[0;34m.\u001b[0m\u001b[0mautograd\u001b[0m\u001b[0;34m.\u001b[0m\u001b[0mbackward\u001b[0m\u001b[0;34m(\u001b[0m\u001b[0mself\u001b[0m\u001b[0;34m,\u001b[0m \u001b[0mgradient\u001b[0m\u001b[0;34m,\u001b[0m \u001b[0mretain_graph\u001b[0m\u001b[0;34m,\u001b[0m \u001b[0mcreate_graph\u001b[0m\u001b[0;34m)\u001b[0m\u001b[0;34m\u001b[0m\u001b[0;34m\u001b[0m\u001b[0m\n\u001b[0m\u001b[1;32m    222\u001b[0m \u001b[0;34m\u001b[0m\u001b[0m\n\u001b[1;32m    223\u001b[0m     \u001b[0;32mdef\u001b[0m \u001b[0mregister_hook\u001b[0m\u001b[0;34m(\u001b[0m\u001b[0mself\u001b[0m\u001b[0;34m,\u001b[0m \u001b[0mhook\u001b[0m\u001b[0;34m)\u001b[0m\u001b[0;34m:\u001b[0m\u001b[0;34m\u001b[0m\u001b[0;34m\u001b[0m\u001b[0m\n",
      "\u001b[0;32m~/anaconda3/lib/python3.8/site-packages/torch/autograd/__init__.py\u001b[0m in \u001b[0;36mbackward\u001b[0;34m(tensors, grad_tensors, retain_graph, create_graph, grad_variables)\u001b[0m\n\u001b[1;32m    128\u001b[0m         \u001b[0mretain_graph\u001b[0m \u001b[0;34m=\u001b[0m \u001b[0mcreate_graph\u001b[0m\u001b[0;34m\u001b[0m\u001b[0;34m\u001b[0m\u001b[0m\n\u001b[1;32m    129\u001b[0m \u001b[0;34m\u001b[0m\u001b[0m\n\u001b[0;32m--> 130\u001b[0;31m     Variable._execution_engine.run_backward(\n\u001b[0m\u001b[1;32m    131\u001b[0m         \u001b[0mtensors\u001b[0m\u001b[0;34m,\u001b[0m \u001b[0mgrad_tensors_\u001b[0m\u001b[0;34m,\u001b[0m \u001b[0mretain_graph\u001b[0m\u001b[0;34m,\u001b[0m \u001b[0mcreate_graph\u001b[0m\u001b[0;34m,\u001b[0m\u001b[0;34m\u001b[0m\u001b[0;34m\u001b[0m\u001b[0m\n\u001b[1;32m    132\u001b[0m         allow_unreachable=True)  # allow_unreachable flag\n",
      "\u001b[0;31mKeyboardInterrupt\u001b[0m: "
     ]
    }
   ],
   "source": [
    "baseline_trainer.train()"
   ]
  },
  {
   "cell_type": "code",
   "execution_count": 370,
   "metadata": {
    "execution": {
     "iopub.execute_input": "2021-01-10T17:30:35.126393Z",
     "iopub.status.busy": "2021-01-10T17:30:35.125935Z",
     "iopub.status.idle": "2021-01-10T17:30:35.243447Z",
     "shell.execute_reply": "2021-01-10T17:30:35.242024Z",
     "shell.execute_reply.started": "2021-01-10T17:30:35.126347Z"
    }
   },
   "outputs": [
    {
     "name": "stdout",
     "output_type": "stream",
     "text": [
      "0123456789abcdefghijklmnopqrstuvwxyzABCDEFGHIJKLMNOPQRSTUVWXYZ!\"#$%&'()*+,-./:;<=>?@[\\]^_`{|}~ \t\n",
      "\u000b",
      "\f",
      "\n"
     ]
    },
    {
     "data": {
      "text/plain": [
       "[array([-0.58402 ,  0.39031 ,  0.65282 , -0.3403  ,  0.19493 , -0.83489 ,\n",
       "         0.11929 , -0.57291 , -0.56844 ,  0.72989 , -0.56975 ,  0.53436 ,\n",
       "        -0.38034 ,  0.22471 ,  0.98031 , -0.2966  ,  0.126   ,  0.55222 ,\n",
       "        -0.62737 , -0.082242, -0.085359,  0.31515 ,  0.96077 ,  0.31986 ,\n",
       "         0.87878 , -1.5189  , -1.7831  ,  0.35639 ,  0.9674  , -1.5497  ,\n",
       "         2.335   ,  0.8494  , -1.2371  ,  1.0623  , -1.4267  , -0.49056 ,\n",
       "         0.85465 , -1.2878  ,  0.60204 , -0.35963 ,  0.28586 , -0.052162,\n",
       "        -0.50818 , -0.63459 ,  0.33889 ,  0.28416 , -0.2034  , -1.2338  ,\n",
       "         0.46715 ,  0.78858 ], dtype=float32),\n",
       " array([ 0.25769 ,  0.45629 , -0.76974 , -0.37679 ,  0.59272 , -0.063527,\n",
       "         0.20545 , -0.57385 , -0.29009 , -0.13662 ,  0.32728 ,  1.4719  ,\n",
       "        -0.73681 , -0.12036 ,  0.71354 , -0.46098 ,  0.65248 ,  0.48887 ,\n",
       "        -0.51558 ,  0.039951, -0.34307 , -0.014087,  0.86488 ,  0.3546  ,\n",
       "         0.7999  , -1.4995  , -1.8153  ,  0.41128 ,  0.23921 , -0.43139 ,\n",
       "         3.6623  , -0.79834 , -0.54538 ,  0.16943 , -0.82017 , -0.3461  ,\n",
       "         0.69495 , -1.2256  , -0.17992 , -0.057474,  0.030498, -0.39543 ,\n",
       "        -0.38515 , -1.0002  ,  0.087599, -0.31009 , -0.34677 , -0.31438 ,\n",
       "         0.75004 ,  0.97065 ], dtype=float32),\n",
       " array([-1.5925e+00,  7.5569e-01,  1.4947e+00,  1.1055e-01, -5.2440e-02,\n",
       "         5.1893e-01, -6.1283e-01, -3.3189e-01,  1.5330e-01, -1.7681e-01,\n",
       "        -3.4256e-01,  1.0057e-03, -6.7281e-01,  3.2264e-01,  4.0330e-01,\n",
       "        -1.1830e+00, -4.4742e-01,  2.5633e-01, -1.6399e+00,  3.3532e-01,\n",
       "         1.1250e-01, -3.9391e-01,  1.1817e+00,  9.0325e-01, -8.8998e-02,\n",
       "         4.9876e-02, -1.2684e+00, -8.3517e-01,  3.5747e-01, -1.7869e-01,\n",
       "         1.9297e+00, -6.8884e-01,  2.6064e-01,  4.6655e-03,  6.4509e-01,\n",
       "        -2.3729e-01,  8.8325e-01, -9.5139e-01, -3.1632e-02, -1.2398e+00,\n",
       "         9.0161e-02, -1.2927e+00,  1.8976e-01, -1.1884e+00, -1.0836e+00,\n",
       "         1.3852e+00,  3.1768e-01, -8.4084e-01,  4.9488e-01,  3.4052e-01],\n",
       "       dtype=float32),\n",
       " array([ 0.43889 ,  0.90301 ,  1.406   ,  0.20469 ,  0.69453 ,  0.26449 ,\n",
       "        -0.91118 , -1.4847  ,  0.20981 ,  0.52693 , -1.3998  , -0.31563 ,\n",
       "         0.73779 , -1.0641  ,  1.8671  , -0.3536  , -0.66203 ,  0.41229 ,\n",
       "        -0.87078 , -0.6704  ,  1.3467  , -0.026579, -0.18787 , -1.1795  ,\n",
       "        -1.4423  , -1.0407  ,  0.38038 , -0.40186 ,  0.21573 , -0.7167  ,\n",
       "         3.2422  ,  0.61623 , -0.014502,  1.4616  ,  0.54571 , -0.69571 ,\n",
       "        -0.12738 ,  0.015536,  1.2232  , -1.4741  ,  0.19271 ,  0.41512 ,\n",
       "         1.1185  ,  0.67059 , -1.3985  , -0.13803 , -0.37563 ,  0.074431,\n",
       "        -0.6935  ,  0.81354 ], dtype=float32),\n",
       " array([-0.9208  ,  0.60392 ,  1.1053  , -0.39188 ,  1.0204  ,  2.1945  ,\n",
       "        -0.49508 , -1.9547  , -1.0751  ,  0.1454  ,  1.2495  , -1.4208  ,\n",
       "         1.894   , -1.3024  , -0.1751  ,  0.33084 , -0.17029 ,  0.169   ,\n",
       "        -0.87306 ,  0.22944 ,  0.027846,  0.33347 ,  1.2866  ,  0.23098 ,\n",
       "        -0.12257 ,  0.38349 ,  0.24163 , -0.67453 ,  0.08332 ,  0.76547 ,\n",
       "         3.2612  ,  0.62834 , -0.016612, -0.12178 ,  0.85848 , -1.1687  ,\n",
       "        -0.10173 ,  0.070155,  0.99368 ,  0.029438, -0.065403, -0.50471 ,\n",
       "         1.1739  , -0.28263 , -1.381   , -0.43341 , -0.58927 , -0.19344 ,\n",
       "         1.6497  , -0.10516 ], dtype=float32),\n",
       " array([-0.93044 ,  0.74296 , -0.6499  ,  0.53508 , -0.71172 ,  0.72826 ,\n",
       "        -0.83085 , -0.95423 ,  0.37669 , -0.69549 ,  0.1586  ,  1.3371  ,\n",
       "        -0.97651 , -0.80166 , -0.72986 , -0.20873 ,  0.38032 ,  0.49776 ,\n",
       "        -0.38351 , -0.19521 ,  1.3085  ,  0.3809  ,  0.58165 ,  0.31836 ,\n",
       "        -0.4606  , -0.23461 , -0.92929 , -0.89022 , -0.30075 , -0.62035 ,\n",
       "         2.4133  , -0.17714 ,  0.32953 , -0.17466 ,  0.083088,  0.59434 ,\n",
       "         0.20788 , -0.45153 ,  0.96393 ,  0.30143 ,  0.61823 , -0.47519 ,\n",
       "        -0.3881  , -0.83168 ,  0.45779 ,  0.68986 , -0.005843, -1.3797  ,\n",
       "         0.012224,  0.63522 ], dtype=float32),\n",
       " array([-0.039369,  1.2036  ,  0.35401 , -0.55999 , -0.52078 , -0.66988 ,\n",
       "        -0.75417 , -0.6534  , -0.23246 ,  0.58686 , -0.40797 ,  1.2057  ,\n",
       "        -1.11    ,  0.51235 ,  0.1246  ,  0.05306 ,  0.61041 , -1.1295  ,\n",
       "        -0.11834 ,  0.26311 , -0.72112 , -0.079739,  0.75497 , -0.023356,\n",
       "        -0.56079 , -2.1037  , -1.8793  , -0.179   , -0.14498 , -0.63742 ,\n",
       "         3.181   ,  0.93412 , -0.6183  ,  0.58116 ,  0.58956 , -0.19806 ,\n",
       "         0.42181 , -0.85674 ,  0.33207 ,  0.020538, -0.60141 ,  0.50403 ,\n",
       "        -0.083316,  0.20239 ,  0.443   , -0.060769, -0.42807 , -0.084135,\n",
       "         0.49164 ,  0.085654], dtype=float32),\n",
       " array([-0.24978 ,  1.0476  ,  0.21602 ,  0.23278 ,  0.12371 ,  0.2761  ,\n",
       "         0.51184 , -1.36    , -0.6902  , -0.66679 ,  0.49105 ,  0.51671 ,\n",
       "        -0.027218, -0.52056 ,  0.49539 , -0.097307,  0.12779 ,  0.44388 ,\n",
       "        -1.2612  ,  0.66209 , -0.55461 , -0.43498 ,  0.81247 ,  0.40855 ,\n",
       "        -0.094327, -0.622   ,  0.36498 , -1.0038  , -0.77693 , -0.22408 ,\n",
       "         3.6533  , -0.52004 , -0.57384 ,  0.72381 , -0.24887 , -0.14347 ,\n",
       "         0.69169 , -0.51861 ,  1.0806  ,  0.20382 ,  1.1045  ,  0.31045 ,\n",
       "         0.60765 , -0.64538 , -0.60249 ,  0.60803 ,  0.34393 , -0.79411 ,\n",
       "         0.15177 ,  0.45779 ], dtype=float32),\n",
       " array([-2.8314e-01,  1.0028e+00,  1.4746e-01,  2.2262e-01,  7.0985e-03,\n",
       "         2.3108e-01,  5.7082e-01, -1.2767e+00, -7.2415e-01, -7.5270e-01,\n",
       "         5.2624e-01,  3.9498e-01,  1.8922e-03, -3.9396e-01,  4.4859e-01,\n",
       "        -1.9057e-02,  6.8143e-02,  4.5082e-01, -1.2849e+00,  6.8088e-01,\n",
       "        -4.8318e-01, -4.5829e-01,  8.5504e-01,  4.7712e-01, -1.6152e-01,\n",
       "        -7.4784e-01,  4.0742e-01, -9.7385e-01, -7.2580e-01, -1.7232e-01,\n",
       "         3.8901e+00, -4.6535e-01, -6.1925e-01,  6.3584e-01, -2.0339e-01,\n",
       "        -8.0612e-02,  6.4959e-01, -5.1208e-01,  9.1193e-01,  3.6208e-02,\n",
       "         1.0099e+00,  1.8802e-01,  5.9359e-01, -6.1313e-01, -6.6839e-01,\n",
       "         6.7479e-01,  4.0625e-01, -6.9590e-01,  1.4553e-01,  3.7339e-01],\n",
       "       dtype=float32),\n",
       " array([-1.1938  ,  1.1732  ,  0.82237 ,  1.1455  ,  0.37838 , -0.85717 ,\n",
       "         0.85872 ,  0.033022,  0.38944 , -0.38555 , -0.66604 ,  0.028873,\n",
       "         0.45012 , -0.12365 ,  0.090865, -0.46363 , -0.78502 , -0.16971 ,\n",
       "        -0.26271 ,  0.36645 ,  0.32773 , -0.60752 ,  0.41459 ,  0.091435,\n",
       "         0.50768 , -0.098204, -0.18557 , -0.7913  ,  0.023485,  0.15537 ,\n",
       "         0.86191 ,  0.39872 ,  0.27454 ,  0.91809 ,  0.082727, -0.66417 ,\n",
       "        -0.090578, -1.0582  ,  0.16044 , -0.136   , -0.19997 , -0.33198 ,\n",
       "         0.56859 , -0.47544 ,  0.8992  ,  0.64079 ,  0.72044 ,  0.43303 ,\n",
       "         0.98546 ,  0.61928 ], dtype=float32),\n",
       " array([-0.52478 ,  1.9003  ,  1.6893  ,  0.60468 ,  0.22433 ,  0.16079 ,\n",
       "         0.8353  , -1.1668  , -0.21295 ,  0.52092 ,  0.16717 , -0.080523,\n",
       "        -0.094242, -0.68049 ,  0.069053,  0.080026,  0.42724 ,  0.40676 ,\n",
       "        -0.11127 ,  0.073266,  0.11382 , -0.38132 ,  1.2858  ,  1.0384  ,\n",
       "        -0.5537  ,  0.70078 ,  0.076267, -0.67258 ,  0.25262 ,  0.13164 ,\n",
       "         2.3263  ,  0.14156 , -0.28485 ,  0.18626 ,  0.33972 , -0.45694 ,\n",
       "         1.038   , -0.85377 ,  0.050138, -0.093139,  1.3809  , -0.84466 ,\n",
       "         0.22797 , -0.55633 ,  0.18262 ,  0.072961,  0.24179 , -0.14534 ,\n",
       "         0.43551 ,  1.1888  ], dtype=float32),\n",
       " array([ 0.013441,  0.23682 , -0.16899 ,  0.40951 ,  0.63812 ,  0.47709 ,\n",
       "        -0.42852 , -0.55641 , -0.364   , -0.23938 ,  0.13001 , -0.063734,\n",
       "        -0.39575 , -0.48162 ,  0.23291 ,  0.090201, -0.13324 ,  0.078639,\n",
       "        -0.41634 , -0.15428 ,  0.10068 ,  0.48891 ,  0.31226 , -0.1252  ,\n",
       "        -0.037512, -1.5179  ,  0.12612 , -0.02442 , -0.042961, -0.28351 ,\n",
       "         3.5416  , -0.11956 , -0.014533, -0.1499  ,  0.21864 , -0.33412 ,\n",
       "        -0.13872 ,  0.31806 ,  0.70358 ,  0.44858 , -0.080262,  0.63003 ,\n",
       "         0.32111 , -0.46765 ,  0.22786 ,  0.36034 , -0.37818 , -0.56657 ,\n",
       "         0.044691,  0.30392 ], dtype=float32),\n",
       " array([-0.16768  ,  1.2151   ,  0.49515  ,  0.26836  , -0.4585   ,\n",
       "        -0.23311  , -0.52822  , -1.3557   ,  0.16098  ,  0.37691  ,\n",
       "        -0.92702  , -0.43904  , -1.0634   ,  1.028    ,  0.0053943,\n",
       "         0.04153  , -0.018638 , -0.55451  ,  0.026166 ,  0.28066  ,\n",
       "        -0.66245  ,  0.23435  ,  0.2451   ,  0.025668 , -1.0869   ,\n",
       "        -2.844    , -0.51272  ,  0.27286  ,  0.0071502,  0.033984 ,\n",
       "         3.9084   ,  0.52766  , -0.66899  ,  1.8238   ,  0.43436  ,\n",
       "        -0.30084  , -0.26996  ,  0.4394   ,  0.69956  ,  0.14885  ,\n",
       "         0.029453 ,  1.4888   ,  0.52361  ,  0.099354 ,  1.2515   ,\n",
       "         0.099381 , -0.079261 , -0.30862  ,  0.30893  ,  0.11023  ],\n",
       "       dtype=float32),\n",
       " array([ 1.5164e-01,  3.0177e-01, -1.6763e-01,  1.7684e-01,  3.1719e-01,\n",
       "         3.3973e-01, -4.3478e-01, -3.1086e-01, -4.4999e-01, -2.9486e-01,\n",
       "         1.6608e-01,  1.1963e-01, -4.1328e-01, -4.2353e-01,  5.9868e-01,\n",
       "         2.8825e-01, -1.1547e-01, -4.1848e-02, -6.7989e-01, -2.5063e-01,\n",
       "         1.8472e-01,  8.6876e-02,  4.6582e-01,  1.5035e-02,  4.3474e-02,\n",
       "        -1.4671e+00, -3.0384e-01, -2.3441e-02,  3.0589e-01, -2.1785e-01,\n",
       "         3.7460e+00,  4.2284e-03, -1.8436e-01, -4.6209e-01,  9.8329e-02,\n",
       "        -1.1907e-01,  2.3919e-01,  1.1610e-01,  4.1705e-01,  5.6763e-02,\n",
       "        -6.3681e-05,  6.8987e-02,  8.7939e-02, -1.0285e-01, -1.3931e-01,\n",
       "         2.2314e-01, -8.0803e-02, -3.5652e-01,  1.6413e-02,  1.0216e-01],\n",
       "       dtype=float32),\n",
       " array([-0.49935 ,  1.4759  ,  0.89591 ,  0.8648  , -0.71297 , -0.056885,\n",
       "         0.14008 , -1.8179  , -0.24648 , -0.46137 ,  0.098274,  0.026427,\n",
       "        -0.72151 , -0.64991 ,  0.36402 ,  0.012256, -0.46271 ,  0.19625 ,\n",
       "        -0.31478 ,  0.5245  , -0.56099 ,  0.68332 ,  0.4585  ,  0.65419 ,\n",
       "        -0.18224 , -0.4645  , -0.41657 , -0.61701 , -0.52379 , -0.34511 ,\n",
       "         2.9272  ,  0.66171 , -0.35678 ,  0.74526 , -0.35781 , -0.063607,\n",
       "         0.79616 , -1.298   ,  1.1285  , -0.29331 ,  1.5747  ,  0.16061 ,\n",
       "         0.67424 , -0.95333 ,  0.63884 ,  0.4949  ,  0.60275 ,  0.068522,\n",
       "         0.67729 ,  0.71499 ], dtype=float32),\n",
       " array([-1.7587e-01,  1.3508e+00, -1.8159e-01,  4.5197e-01,  3.7554e-01,\n",
       "        -2.0926e-01,  1.4956e-02, -8.7286e-01, -5.4443e-01, -2.5731e-01,\n",
       "        -5.2100e-01,  6.2242e-01, -5.2387e-01, -6.1782e-02,  1.1805e+00,\n",
       "        -4.1984e-02,  1.0582e-01, -2.0913e-01, -5.4508e-01,  2.7728e-02,\n",
       "        -3.1329e-01,  1.3439e-01,  5.5192e-01,  7.5419e-01,  3.0996e-01,\n",
       "        -1.3301e+00, -9.8620e-01, -3.3747e-01,  1.7633e-01, -3.7547e-01,\n",
       "         3.4474e+00,  1.4171e-01, -6.5033e-01,  1.0118e-01,  1.4796e-04,\n",
       "        -7.4707e-02,  1.9146e-01, -4.7977e-01,  3.9628e-01, -1.3403e-01,\n",
       "         4.3043e-01,  4.5704e-01,  5.9387e-01, -4.0308e-01,  6.7302e-02,\n",
       "         1.2784e+00,  4.9927e-01,  1.5617e-01,  5.6650e-01,  6.1385e-01],\n",
       "       dtype=float32),\n",
       " array([-0.11604  ,  1.1429   ,  0.026043 , -0.0084921,  0.31898  ,\n",
       "         0.65984  , -0.25055  , -0.98368  , -0.83334  , -0.21147  ,\n",
       "        -0.37307  ,  0.41228  ,  0.029478 , -0.42162  ,  0.26829  ,\n",
       "        -0.3826   , -0.26704  , -0.17551  , -0.69986  ,  0.08844  ,\n",
       "        -0.05785  ,  0.14381  ,  0.43372  ,  0.31841  , -0.28405  ,\n",
       "        -0.96445  ,  0.09619  , -0.53046  ,  0.59122  , -0.42788  ,\n",
       "         3.3692   ,  0.067626 , -0.10391  , -0.047914 ,  0.11318  ,\n",
       "        -0.056322 ,  0.14699  ,  0.057051 ,  1.0275   ,  0.41663  ,\n",
       "         0.69818  ,  0.54682  ,  0.91148  , -0.26655  , -0.35268  ,\n",
       "         1.1042   ,  0.074058 , -0.86765  ,  0.074969 ,  0.80395  ],\n",
       "       dtype=float32),\n",
       " array([-6.0292e-01,  1.1734e+00,  8.1599e-01,  8.6194e-02,  3.6068e-01,\n",
       "        -6.4082e-02,  1.4942e+00, -1.1903e+00, -1.1872e+00, -5.4148e-01,\n",
       "         5.7654e-01,  6.0091e-01,  7.7565e-01, -8.0284e-01,  1.2087e-03,\n",
       "         3.8546e-01, -1.0898e-01,  5.1757e-01, -8.1487e-01, -2.3060e-02,\n",
       "        -1.1795e+00, -9.4810e-01,  1.3664e+00,  9.6261e-01, -2.8653e-02,\n",
       "         6.9662e-01, -1.7730e-01, -7.2403e-02,  8.3599e-01,  7.0704e-01,\n",
       "         1.1316e+00,  4.1566e-01, -3.8060e-01,  1.2744e+00,  3.3244e-01,\n",
       "        -8.6378e-01,  4.0199e-01, -1.0978e+00,  5.1057e-01,  6.3694e-01,\n",
       "         9.3841e-01, -4.2059e-03,  3.0094e-01,  4.1878e-01, -3.5986e-01,\n",
       "        -2.0247e-01,  7.7569e-01,  5.6714e-02,  8.8472e-01,  1.1363e+00],\n",
       "       dtype=float32),\n",
       " array([-1.5377  ,  1.8869  ,  1.2745  ,  1.3661  ,  0.38255 , -0.086772,\n",
       "         1.3353  , -0.84042 , -0.8163  , -0.258   ,  0.068995,  0.16935 ,\n",
       "        -0.57455 , -0.57583 ,  0.02947 , -0.76549 ,  0.54394 , -0.6716  ,\n",
       "        -1.5472  ,  0.44699 , -1.1218  , -1.1254  ,  1.2084  ,  0.42863 ,\n",
       "        -0.41768 ,  0.58862 , -0.061888, -0.63938 ,  0.72687 , -0.23623 ,\n",
       "         2.5809  ,  0.79495 ,  0.17038 ,  0.62493 , -0.29273 , -0.16096 ,\n",
       "         1.1693  , -1.0354  ,  0.26318 ,  0.55001 ,  1.1703  , -0.47919 ,\n",
       "         0.27512 , -0.007617, -0.57748 ,  0.55455 ,  0.37664 ,  0.42944 ,\n",
       "         1.1281  ,  0.53025 ], dtype=float32),\n",
       " array([-6.0885e-01,  1.0596e+00,  9.3257e-01,  4.7133e-01, -2.2134e-01,\n",
       "        -1.0142e-03,  1.4760e+00, -8.8970e-01, -8.4182e-01, -1.8855e-01,\n",
       "         1.3302e-01,  6.1165e-01,  5.2111e-01, -1.2008e+00,  1.0792e-02,\n",
       "         1.8241e-01,  5.9783e-02, -6.4489e-03, -5.7684e-01, -7.8064e-02,\n",
       "        -7.8423e-01, -1.2988e+00,  1.3044e+00,  9.1390e-01, -1.2896e-01,\n",
       "         6.1352e-01, -6.1954e-01, -5.8560e-01,  2.1124e-01, -1.5894e-01,\n",
       "         1.2726e+00,  5.5268e-01, -1.3582e-01,  5.2020e-01,  6.3426e-01,\n",
       "        -1.3056e-01,  6.7863e-01, -8.4515e-01,  1.0497e+00,  4.7853e-01,\n",
       "         8.3901e-01,  5.1798e-02,  7.1248e-02,  3.9189e-01, -4.5218e-01,\n",
       "         4.4446e-01,  9.7380e-01,  2.8828e-02,  9.7097e-01,  5.9603e-01],\n",
       "       dtype=float32),\n",
       " array([-1.4578e-01,  5.0459e-01,  4.7525e-02, -4.6463e-01,  4.4249e-01,\n",
       "        -1.6772e-01, -4.0334e-01, -3.9223e-01, -4.1543e-01,  2.7637e-01,\n",
       "        -6.3027e-01,  6.9033e-01, -4.5441e-01,  1.5845e-03,  1.3120e+00,\n",
       "         5.2413e-01,  3.7380e-01,  2.8156e-01, -4.0563e-03, -5.2664e-01,\n",
       "        -5.7061e-01,  3.6561e-01,  5.9174e-01,  3.4713e-01,  4.5009e-01,\n",
       "        -2.1454e+00, -1.3795e+00,  3.0700e-01,  1.4876e+00, -9.6313e-01,\n",
       "         2.8403e+00,  5.0247e-01, -8.6752e-01,  6.4130e-02, -3.6376e-01,\n",
       "        -1.4019e-01,  1.1975e-01, -4.5442e-02,  7.2682e-01, -4.4447e-01,\n",
       "        -2.7226e-01,  1.5030e-01,  1.1489e-01,  7.1237e-01,  1.1341e-01,\n",
       "         2.2835e-01, -4.0801e-02, -4.1468e-01,  1.1054e-01,  1.1681e+00],\n",
       "       dtype=float32),\n",
       " array([-1.5993   ,  1.0154   ,  0.86823  ,  0.74326  , -0.6387   ,\n",
       "        -1.0276   ,  0.6273   , -0.19981  ,  0.21437  , -0.23789  ,\n",
       "        -0.60481  , -0.028558 , -0.25056  , -0.62944  ,  0.49194  ,\n",
       "        -0.26032  , -0.4207   ,  0.80134  ,  0.012986 ,  0.0038731,\n",
       "        -0.54705  ,  0.043031 ,  1.2715   ,  0.41507  ,  0.86101  ,\n",
       "         0.36552  , -0.42333  , -0.68     ,  0.13677  ,  0.096228 ,\n",
       "         0.53612  ,  0.18014  ,  0.034983 ,  0.77129  , -0.37779  ,\n",
       "        -0.41807  ,  0.12283  ,  0.099988 ,  0.10874  ,  0.083569 ,\n",
       "         0.60652  , -0.67219  , -0.094889 ,  0.51864  , -0.29333  ,\n",
       "         0.75998  ,  0.039111 , -0.54009  , -0.37374  ,  0.60712  ],\n",
       "       dtype=float32),\n",
       " array([-0.61201 ,  0.98226 ,  0.11539 ,  0.014623,  0.23873 , -0.067035,\n",
       "         0.30632 , -0.64742 , -0.38517 , -0.03691 ,  0.094788,  0.57631 ,\n",
       "        -0.091557, -0.54825 ,  0.25255 , -0.14759 ,  0.13023 ,  0.21658 ,\n",
       "        -0.30623 ,  0.30028 , -0.23471 , -0.17927 ,  0.9518  ,  0.54258 ,\n",
       "         0.31172 , -0.51038 , -0.65223 , -0.48858 ,  0.13486 , -0.40132 ,\n",
       "         2.493   , -0.38777 , -0.26456 , -0.49414 , -0.3871  , -0.20983 ,\n",
       "         0.82941 , -0.46253 ,  0.39549 ,  0.014881,  0.79485 , -0.79958 ,\n",
       "        -0.16243 ,  0.013862, -0.53536 ,  0.52536 ,  0.019818, -0.16353 ,\n",
       "         0.30649 ,  0.81745 ], dtype=float32),\n",
       " array([-0.56888 ,  0.92558 ,  0.72886 ,  0.49299 ,  0.018528, -0.99899 ,\n",
       "         0.45897 ,  0.53309 , -0.69731 , -0.13726 , -0.65431 ,  1.1011  ,\n",
       "        -0.62995 , -0.61862 , -0.389   , -0.59244 , -0.67199 ,  0.95106 ,\n",
       "         0.065679, -0.20711 , -1.3982  , -0.020197,  1.4834  ,  0.078576,\n",
       "         0.2963  ,  0.26236 , -0.60204 ,  0.56499 ,  0.81979 , -0.68553 ,\n",
       "         1.6077  , -0.017203,  0.11643 ,  1.7121  ,  0.55242 , -0.4538  ,\n",
       "         0.25179 , -0.61592 ,  1.6335  , -0.29288 ,  0.38008 , -1.2285  ,\n",
       "        -0.26997 ,  0.4803  , -0.50296 ,  0.64868 ,  0.83182 ,  0.71013 ,\n",
       "        -0.22866 ,  1.4826  ], dtype=float32),\n",
       " array([-0.6297  ,  0.69044 ,  0.55243 , -0.062592,  0.45604 , -0.10409 ,\n",
       "         0.60796 , -0.52887 , -0.86095 ,  0.042727,  0.06964 ,  0.65669 ,\n",
       "        -0.22589 , -0.62967 ,  0.32793 , -0.015011,  0.14491 ,  0.18763 ,\n",
       "        -0.23258 ,  0.25128 , -0.58434 , -0.20308 ,  1.1255  ,  0.41607 ,\n",
       "         0.49414 , -0.43411 , -0.34465 , -0.15613 ,  0.71738 , -0.665   ,\n",
       "         2.102   ,  0.044444, -0.24947 , -0.11691 , -0.40116 , -0.2891  ,\n",
       "         0.78036 , -0.53631 ,  0.51513 ,  0.12626 ,  0.64765 , -0.57939 ,\n",
       "        -0.16513 ,  0.023644, -0.52152 ,  0.62582 ,  0.15187 ,  0.072398,\n",
       "         0.25744 ,  1.0729  ], dtype=float32),\n",
       " array([-0.42022 ,  1.128   ,  0.75598 ,  0.96246 ,  0.041526, -0.10654 ,\n",
       "         0.76271 , -0.47191 , -0.35392 , -0.25999 , -0.27142 ,  0.44903 ,\n",
       "        -0.054534, -0.42509 , -0.014297, -0.14909 , -0.32741 ,  0.011888,\n",
       "        -0.093466,  0.24008 , -0.88197 , -0.53251 ,  1.4996  ,  0.37609 ,\n",
       "        -0.11412 ,  1.1531  , -0.26221 , -0.063797,  0.24082 ,  0.081565,\n",
       "         0.24716 , -0.17293 , -0.48877 ,  1.1017  , -0.16125 , -0.8406  ,\n",
       "         0.71055 , -0.45152 ,  0.53033 , -0.096145,  0.81459 , -1.2253  ,\n",
       "        -0.12003 ,  0.34096 , -0.14971 ,  0.80952 ,  0.1168  , -0.053203,\n",
       "         0.40627 ,  0.88878 ], dtype=float32),\n",
       " array([ 0.14994 ,  0.73181 ,  0.42015 ,  0.18773 ,  0.22898 ,  0.096767,\n",
       "        -0.67454 , -0.50735 , -0.54904 ,  0.12615 , -0.79615 , -0.43379 ,\n",
       "        -0.38704 ,  0.31491 ,  1.0122  ,  0.28632 , -0.054057, -0.18844 ,\n",
       "        -0.35734 , -0.41306 , -0.39265 ,  0.49582 ,  0.3837  ,  0.27166 ,\n",
       "        -0.32146 , -1.8197  , -0.68194 ,  0.074313,  0.85356 , -0.24763 ,\n",
       "         3.0711  ,  0.38602 , -0.63301 , -0.023847,  0.079512, -0.33825 ,\n",
       "        -0.29351 ,  0.13634 ,  0.30527 , -0.18491 , -0.25944 ,  0.52184 ,\n",
       "         0.5986  ,  0.57588 ,  0.22136 ,  0.61199 , -0.14507 , -0.15006 ,\n",
       "        -0.41098 ,  0.39281 ], dtype=float32),\n",
       " array([-0.085825 ,  0.6135   ,  0.069353 , -0.46893  ,  0.61648  ,\n",
       "        -0.4357   ,  0.33897  , -0.60111  , -0.21054  ,  0.49083  ,\n",
       "        -0.68084  ,  1.0032   , -0.58766  ,  0.42168  ,  0.96016  ,\n",
       "         0.23724  ,  0.36332  ,  0.45626  , -0.20216  ,  0.15471  ,\n",
       "        -0.34284  ,  0.5794   ,  0.43453  ,  0.43585  ,  0.50042  ,\n",
       "        -1.9072   , -1.9391   ,  0.31613  ,  1.0746   , -1.0377   ,\n",
       "         2.427    ,  0.47374  , -0.86317  ,  0.63867  , -0.52506  ,\n",
       "        -0.34949  ,  0.32933  , -1.3567   ,  0.42056  , -0.54968  ,\n",
       "        -0.32598  ,  0.15703  , -0.0045524, -0.16917  ,  0.094515 ,\n",
       "         0.27165  ,  0.36433  , -0.49923  ,  0.20809  ,  1.3      ],\n",
       "       dtype=float32),\n",
       " array([-0.42855 ,  1.0551  ,  0.60421 ,  0.53086 ,  1.0873  , -0.27428 ,\n",
       "         1.0124  , -0.27053 , -0.68565 , -0.41064 , -0.68583 , -0.044923,\n",
       "        -0.36873 , -0.33098 ,  0.27742 , -0.77139 , -0.55224 ,  0.40432 ,\n",
       "        -0.67443 ,  0.14401 , -0.84078 , -0.39425 ,  1.9806  ,  0.25795 ,\n",
       "        -0.76139 ,  0.3231  ,  0.14664 ,  0.5108  ,  1.2996  , -0.16187 ,\n",
       "         1.8992  ,  0.013185, -0.35427 ,  1.3383  ,  0.062622, -0.33935 ,\n",
       "        -0.084399, -0.055773,  1.0741  , -0.16327 ,  0.71859 , -0.9531  ,\n",
       "        -0.081052,  0.46512 , -0.48189 ,  0.72531 ,  0.6216  , -0.075322,\n",
       "        -0.13569 ,  0.6105  ], dtype=float32),\n",
       " array([-1.907   ,  1.1483  ,  1.0638  ,  0.67799 ,  0.39109 , -0.079281,\n",
       "         0.99929 , -0.60806 , -0.60904 , -0.76143 ,  0.32619 , -0.45392 ,\n",
       "         0.22282 , -0.56141 , -0.41878 ,  0.30121 ,  0.046203,  0.039587,\n",
       "        -0.33694 ,  0.60648 , -0.67586 , -0.91086 ,  0.89554 ,  0.89392 ,\n",
       "        -0.34381 ,  0.65148 , -0.69206 , -0.031219, -0.28128 , -0.19946 ,\n",
       "         1.0607  ,  0.36882 ,  0.26862 ,  0.15923 , -0.13853 , -0.13449 ,\n",
       "         1.2239  , -0.3152  ,  0.2744  , -0.30966 ,  0.82571 , -0.3886  ,\n",
       "        -0.39882 , -0.5404  , -1.4785  ,  1.0106  , -0.04942 , -0.32194 ,\n",
       "         1.0395  ,  0.42791 ], dtype=float32),\n",
       " array([-0.67074 ,  0.69856 ,  0.6963  ,  0.64603 ,  1.2521  , -0.42427 ,\n",
       "         1.2962  , -0.54202 , -0.6257  , -0.16579 , -0.33556 ,  0.3589  ,\n",
       "        -0.37966 , -0.60904 , -0.19598 , -0.25519 , -0.63929 ,  0.13424 ,\n",
       "        -0.32247 ,  0.23696 , -0.75892 , -0.32055 ,  1.8227  ,  0.27236 ,\n",
       "        -0.36709 ,  0.4829  , -0.47975 ,  0.071622,  0.90614 , -0.20907 ,\n",
       "         1.4331  , -0.12763 , -0.045574,  1.1664  , -0.11534 , -0.90693 ,\n",
       "         0.21285 , -0.49289 ,  0.62188 ,  0.16538 ,  0.79304 , -1.2645  ,\n",
       "        -0.15463 ,  0.76799 , -0.61665 ,  0.67754 ,  0.39161 ,  0.080127,\n",
       "         0.10094 ,  0.92917 ], dtype=float32),\n",
       " array([-0.35974 ,  0.94839 ,  1.0537  , -0.046985,  0.41969 ,  0.063421,\n",
       "         1.3793  , -0.94921 , -0.3331  ,  0.24266 ,  0.31988 , -0.25937 ,\n",
       "         0.18134 , -0.52812 ,  0.5287  , -0.083691, -0.14416 ,  0.76036 ,\n",
       "        -0.99198 ,  0.017798, -0.13585 , -0.24684 ,  1.2516  ,  0.18319 ,\n",
       "        -0.14066 ,  1.0662  , -0.80727 , -0.22267 ,  0.38443 ,  0.021641,\n",
       "         1.4013  , -0.24161 ,  0.11391 ,  0.90836 , -0.13271 , -1.0249  ,\n",
       "         0.6464  , -1.4115  ,  0.85492 ,  0.18411 ,  0.070086, -0.76722 ,\n",
       "         0.22164 , -0.36053 , -0.63142 ,  0.18967 ,  0.88215 , -0.62171 ,\n",
       "        -0.75066 ,  0.84411 ], dtype=float32)]"
      ]
     },
     "execution_count": 370,
     "metadata": {},
     "output_type": "execute_result"
    }
   ],
   "source": [
    "import string\n",
    "print(string.printable)\n",
    "[glove_embedding_model[s] for s in string.punctuation]"
   ]
  },
  {
   "cell_type": "markdown",
   "metadata": {},
   "source": [
    "### BiDAF"
   ]
  },
  {
   "cell_type": "code",
   "execution_count": 354,
   "metadata": {
    "execution": {
     "iopub.execute_input": "2021-01-10T16:45:21.848643Z",
     "iopub.status.busy": "2021-01-10T16:45:21.848207Z",
     "iopub.status.idle": "2021-01-10T16:45:21.934780Z",
     "shell.execute_reply": "2021-01-10T16:45:21.933493Z",
     "shell.execute_reply.started": "2021-01-10T16:45:21.848598Z"
    }
   },
   "outputs": [
    {
     "data": {
      "text/plain": [
       "314350"
      ]
     },
     "execution_count": 354,
     "metadata": {},
     "output_type": "execute_result"
    }
   ],
   "source": [
    "bidaf_model = model.BiDAFModel(glove_embedding_layer)\n",
    "bidaf_model.count_parameters()"
   ]
  },
  {
   "cell_type": "code",
   "execution_count": 355,
   "metadata": {
    "execution": {
     "iopub.execute_input": "2021-01-10T16:45:22.629608Z",
     "iopub.status.busy": "2021-01-10T16:45:22.629295Z",
     "iopub.status.idle": "2021-01-10T16:45:22.699341Z",
     "shell.execute_reply": "2021-01-10T16:45:22.697571Z",
     "shell.execute_reply.started": "2021-01-10T16:45:22.629567Z"
    }
   },
   "outputs": [],
   "source": [
    "bidaf_args = transformers.TrainingArguments(\n",
    "    output_dir=\"./checkpoints\",\n",
    "    logging_dir=\"./runs\",\n",
    "    overwrite_output_dir=True,\n",
    "    evaluation_strategy=\"epoch\",\n",
    "    num_train_epochs=3,\n",
    "    remove_unused_columns=False,\n",
    "    per_device_train_batch_size=256,\n",
    "    per_device_eval_batch_size=64,\n",
    "    label_names=[\"answer_start\", \"answer_end\"]\n",
    ")"
   ]
  },
  {
   "cell_type": "code",
   "execution_count": 356,
   "metadata": {
    "execution": {
     "iopub.execute_input": "2021-01-10T16:45:22.851387Z",
     "iopub.status.busy": "2021-01-10T16:45:22.851019Z",
     "iopub.status.idle": "2021-01-10T16:45:22.918908Z",
     "shell.execute_reply": "2021-01-10T16:45:22.917726Z",
     "shell.execute_reply.started": "2021-01-10T16:45:22.851346Z"
    }
   },
   "outputs": [],
   "source": [
    "bidaf_optimizer = optim.Adadelta(bidaf_model.parameters(), lr=0.5)\n",
    "bidaf_lr_scheduler = optim.lr_scheduler.ExponentialLR(bidaf_optimizer, gamma=.999)"
   ]
  },
  {
   "cell_type": "code",
   "execution_count": 357,
   "metadata": {
    "execution": {
     "iopub.execute_input": "2021-01-10T16:45:24.289358Z",
     "iopub.status.busy": "2021-01-10T16:45:24.289042Z",
     "iopub.status.idle": "2021-01-10T16:45:24.363955Z",
     "shell.execute_reply": "2021-01-10T16:45:24.362912Z",
     "shell.execute_reply.started": "2021-01-10T16:45:24.289318Z"
    }
   },
   "outputs": [],
   "source": [
    "bidaf_trainer = transformers.Trainer(\n",
    "    model=bidaf_model,\n",
    "    args=bidaf_args,\n",
    "    data_collator=BaselineDataCollatorWithPadding(baseline_question_tokenizer, baseline_context_tokenizer),\n",
    "    train_dataset=squad_dataset.train_dataset,\n",
    "    eval_dataset=squad_dataset.val_dataset,\n",
    "    optimizers=(bidaf_optimizer, bidaf_lr_scheduler),\n",
    "    #callbacks=[transformers.integrations.WandbCallback]\n",
    ")"
   ]
  },
  {
   "cell_type": "code",
   "execution_count": 358,
   "metadata": {
    "execution": {
     "iopub.execute_input": "2021-01-10T16:45:33.062428Z",
     "iopub.status.busy": "2021-01-10T16:45:33.061976Z",
     "iopub.status.idle": "2021-01-10T16:46:34.743864Z",
     "shell.execute_reply": "2021-01-10T16:46:34.741691Z",
     "shell.execute_reply.started": "2021-01-10T16:45:33.062384Z"
    }
   },
   "outputs": [
    {
     "name": "stdout",
     "output_type": "stream",
     "text": [
      "torch.Size([256, 300, 1]) torch.Size([256, 300, 1])\n",
      "tensor(15.0205, grad_fn=<NllLossBackward>) tensor(13.8060, grad_fn=<NllLossBackward>)\n"
     ]
    },
    {
     "ename": "KeyboardInterrupt",
     "evalue": "",
     "output_type": "error",
     "traceback": [
      "\u001b[0;31m---------------------------------------------------------------------------\u001b[0m",
      "\u001b[0;31mKeyboardInterrupt\u001b[0m                         Traceback (most recent call last)",
      "\u001b[0;32m<ipython-input-358-a28822d33159>\u001b[0m in \u001b[0;36m<module>\u001b[0;34m\u001b[0m\n\u001b[0;32m----> 1\u001b[0;31m \u001b[0mbaseline_trainer\u001b[0m\u001b[0;34m.\u001b[0m\u001b[0mtrain\u001b[0m\u001b[0;34m(\u001b[0m\u001b[0;34m)\u001b[0m\u001b[0;34m\u001b[0m\u001b[0;34m\u001b[0m\u001b[0m\n\u001b[0m",
      "\u001b[0;32m~/anaconda3/lib/python3.8/site-packages/transformers/trainer.py\u001b[0m in \u001b[0;36mtrain\u001b[0;34m(self, model_path, trial)\u001b[0m\n\u001b[1;32m    797\u001b[0m                         \u001b[0mtr_loss\u001b[0m \u001b[0;34m+=\u001b[0m \u001b[0mself\u001b[0m\u001b[0;34m.\u001b[0m\u001b[0mtraining_step\u001b[0m\u001b[0;34m(\u001b[0m\u001b[0mmodel\u001b[0m\u001b[0;34m,\u001b[0m \u001b[0minputs\u001b[0m\u001b[0;34m)\u001b[0m\u001b[0;34m\u001b[0m\u001b[0;34m\u001b[0m\u001b[0m\n\u001b[1;32m    798\u001b[0m                 \u001b[0;32melse\u001b[0m\u001b[0;34m:\u001b[0m\u001b[0;34m\u001b[0m\u001b[0;34m\u001b[0m\u001b[0m\n\u001b[0;32m--> 799\u001b[0;31m                     \u001b[0mtr_loss\u001b[0m \u001b[0;34m+=\u001b[0m \u001b[0mself\u001b[0m\u001b[0;34m.\u001b[0m\u001b[0mtraining_step\u001b[0m\u001b[0;34m(\u001b[0m\u001b[0mmodel\u001b[0m\u001b[0;34m,\u001b[0m \u001b[0minputs\u001b[0m\u001b[0;34m)\u001b[0m\u001b[0;34m\u001b[0m\u001b[0;34m\u001b[0m\u001b[0m\n\u001b[0m\u001b[1;32m    800\u001b[0m                 \u001b[0mself\u001b[0m\u001b[0;34m.\u001b[0m\u001b[0m_total_flos\u001b[0m \u001b[0;34m+=\u001b[0m \u001b[0mself\u001b[0m\u001b[0;34m.\u001b[0m\u001b[0mfloating_point_ops\u001b[0m\u001b[0;34m(\u001b[0m\u001b[0minputs\u001b[0m\u001b[0;34m)\u001b[0m\u001b[0;34m\u001b[0m\u001b[0;34m\u001b[0m\u001b[0m\n\u001b[1;32m    801\u001b[0m \u001b[0;34m\u001b[0m\u001b[0m\n",
      "\u001b[0;32m~/anaconda3/lib/python3.8/site-packages/transformers/trainer.py\u001b[0m in \u001b[0;36mtraining_step\u001b[0;34m(self, model, inputs)\u001b[0m\n\u001b[1;32m   1151\u001b[0m                 \u001b[0mscaled_loss\u001b[0m\u001b[0;34m.\u001b[0m\u001b[0mbackward\u001b[0m\u001b[0;34m(\u001b[0m\u001b[0;34m)\u001b[0m\u001b[0;34m\u001b[0m\u001b[0;34m\u001b[0m\u001b[0m\n\u001b[1;32m   1152\u001b[0m         \u001b[0;32melse\u001b[0m\u001b[0;34m:\u001b[0m\u001b[0;34m\u001b[0m\u001b[0;34m\u001b[0m\u001b[0m\n\u001b[0;32m-> 1153\u001b[0;31m             \u001b[0mloss\u001b[0m\u001b[0;34m.\u001b[0m\u001b[0mbackward\u001b[0m\u001b[0;34m(\u001b[0m\u001b[0;34m)\u001b[0m\u001b[0;34m\u001b[0m\u001b[0;34m\u001b[0m\u001b[0m\n\u001b[0m\u001b[1;32m   1154\u001b[0m \u001b[0;34m\u001b[0m\u001b[0m\n\u001b[1;32m   1155\u001b[0m         \u001b[0;32mreturn\u001b[0m \u001b[0mloss\u001b[0m\u001b[0;34m.\u001b[0m\u001b[0mdetach\u001b[0m\u001b[0;34m(\u001b[0m\u001b[0;34m)\u001b[0m\u001b[0;34m\u001b[0m\u001b[0;34m\u001b[0m\u001b[0m\n",
      "\u001b[0;32m~/anaconda3/lib/python3.8/site-packages/torch/tensor.py\u001b[0m in \u001b[0;36mbackward\u001b[0;34m(self, gradient, retain_graph, create_graph)\u001b[0m\n\u001b[1;32m    219\u001b[0m                 \u001b[0mretain_graph\u001b[0m\u001b[0;34m=\u001b[0m\u001b[0mretain_graph\u001b[0m\u001b[0;34m,\u001b[0m\u001b[0;34m\u001b[0m\u001b[0;34m\u001b[0m\u001b[0m\n\u001b[1;32m    220\u001b[0m                 create_graph=create_graph)\n\u001b[0;32m--> 221\u001b[0;31m         \u001b[0mtorch\u001b[0m\u001b[0;34m.\u001b[0m\u001b[0mautograd\u001b[0m\u001b[0;34m.\u001b[0m\u001b[0mbackward\u001b[0m\u001b[0;34m(\u001b[0m\u001b[0mself\u001b[0m\u001b[0;34m,\u001b[0m \u001b[0mgradient\u001b[0m\u001b[0;34m,\u001b[0m \u001b[0mretain_graph\u001b[0m\u001b[0;34m,\u001b[0m \u001b[0mcreate_graph\u001b[0m\u001b[0;34m)\u001b[0m\u001b[0;34m\u001b[0m\u001b[0;34m\u001b[0m\u001b[0m\n\u001b[0m\u001b[1;32m    222\u001b[0m \u001b[0;34m\u001b[0m\u001b[0m\n\u001b[1;32m    223\u001b[0m     \u001b[0;32mdef\u001b[0m \u001b[0mregister_hook\u001b[0m\u001b[0;34m(\u001b[0m\u001b[0mself\u001b[0m\u001b[0;34m,\u001b[0m \u001b[0mhook\u001b[0m\u001b[0;34m)\u001b[0m\u001b[0;34m:\u001b[0m\u001b[0;34m\u001b[0m\u001b[0;34m\u001b[0m\u001b[0m\n",
      "\u001b[0;32m~/anaconda3/lib/python3.8/site-packages/torch/autograd/__init__.py\u001b[0m in \u001b[0;36mbackward\u001b[0;34m(tensors, grad_tensors, retain_graph, create_graph, grad_variables)\u001b[0m\n\u001b[1;32m    128\u001b[0m         \u001b[0mretain_graph\u001b[0m \u001b[0;34m=\u001b[0m \u001b[0mcreate_graph\u001b[0m\u001b[0;34m\u001b[0m\u001b[0;34m\u001b[0m\u001b[0m\n\u001b[1;32m    129\u001b[0m \u001b[0;34m\u001b[0m\u001b[0m\n\u001b[0;32m--> 130\u001b[0;31m     Variable._execution_engine.run_backward(\n\u001b[0m\u001b[1;32m    131\u001b[0m         \u001b[0mtensors\u001b[0m\u001b[0;34m,\u001b[0m \u001b[0mgrad_tensors_\u001b[0m\u001b[0;34m,\u001b[0m \u001b[0mretain_graph\u001b[0m\u001b[0;34m,\u001b[0m \u001b[0mcreate_graph\u001b[0m\u001b[0;34m,\u001b[0m\u001b[0;34m\u001b[0m\u001b[0;34m\u001b[0m\u001b[0m\n\u001b[1;32m    132\u001b[0m         allow_unreachable=True)  # allow_unreachable flag\n",
      "\u001b[0;31mKeyboardInterrupt\u001b[0m: "
     ]
    }
   ],
   "source": [
    "baseline_trainer.train()"
   ]
  },
  {
   "cell_type": "markdown",
   "metadata": {},
   "source": [
    "## BERT"
   ]
  },
  {
   "cell_type": "code",
   "execution_count": 277,
   "metadata": {
    "execution": {
     "iopub.execute_input": "2021-01-05T16:35:27.908837Z",
     "iopub.status.busy": "2021-01-05T16:35:27.908413Z",
     "iopub.status.idle": "2021-01-05T16:35:37.556426Z",
     "shell.execute_reply": "2021-01-05T16:35:37.555013Z",
     "shell.execute_reply.started": "2021-01-05T16:35:27.908792Z"
    }
   },
   "outputs": [],
   "source": [
    "tokenizer = transformers.BertTokenizer.from_pretrained(\"bert-base-uncased\")\n",
    "model = transformers.BertModel.from_pretrained(\"bert-base-uncased\")"
   ]
  },
  {
   "cell_type": "code",
   "execution_count": 58,
   "metadata": {
    "execution": {
     "iopub.execute_input": "2021-01-09T15:11:43.846188Z",
     "iopub.status.busy": "2021-01-09T15:11:43.845741Z",
     "iopub.status.idle": "2021-01-09T15:11:43.917117Z",
     "shell.execute_reply": "2021-01-09T15:11:43.915835Z",
     "shell.execute_reply.started": "2021-01-09T15:11:43.846141Z"
    }
   },
   "outputs": [],
   "source": [
    "args = transformers.TrainingArguments(\n",
    "    output_dir=\"./checkpoints\",\n",
    "    logging_dir=\"./runs\",\n",
    "    overwrite_output_dir=True,\n",
    "    evaluation_strategy=\"epoch\",\n",
    "    learning_rate=2e-5,\n",
    "    num_train_epochs=3,\n",
    "    remove_unused_columns=False,\n",
    "    per_device_train_batch_size=16,\n",
    "    per_device_eval_batch_size=64,\n",
    "    label_names=[\"answer_start\", \"answer_end\"],\n",
    ")"
   ]
  },
  {
   "cell_type": "code",
   "execution_count": 59,
   "metadata": {
    "execution": {
     "iopub.execute_input": "2021-01-09T15:11:43.919760Z",
     "iopub.status.busy": "2021-01-09T15:11:43.919407Z",
     "iopub.status.idle": "2021-01-09T15:11:43.983226Z",
     "shell.execute_reply": "2021-01-09T15:11:43.982049Z",
     "shell.execute_reply.started": "2021-01-09T15:11:43.919720Z"
    }
   },
   "outputs": [],
   "source": [
    "class DataCollatorWithPadding:\n",
    "    \"\"\"\n",
    "    Data collator that will dynamically pad the inputs received\n",
    "    \"\"\"\n",
    "\n",
    "    def __init__(self, tokenizer, padding=True, max_lenght=None):\n",
    "        self.tokenizer = tokenizer\n",
    "        self.padding = True\n",
    "        self.max_length = None\n",
    "\n",
    "    def __call__(self, inputs):\n",
    "        (questions, contexts, _, _) = zip(*inputs)\n",
    "        tokenized = self.tokenizer(questions, contexts)\n",
    "        batch = self.tokenizer.pad(\n",
    "            tokenized,\n",
    "            padding=self.padding,\n",
    "            max_length=self.max_length,\n",
    "            return_tensors=\"pt\",\n",
    "        )\n",
    "        return batch"
   ]
  },
  {
   "cell_type": "code",
   "execution_count": 60,
   "metadata": {
    "execution": {
     "iopub.execute_input": "2021-01-09T15:11:45.132472Z",
     "iopub.status.busy": "2021-01-09T15:11:45.132147Z",
     "iopub.status.idle": "2021-01-09T15:11:45.212777Z",
     "shell.execute_reply": "2021-01-09T15:11:45.210886Z",
     "shell.execute_reply.started": "2021-01-09T15:11:45.132429Z"
    }
   },
   "outputs": [
    {
     "ename": "NameError",
     "evalue": "name 'tokenizer' is not defined",
     "output_type": "error",
     "traceback": [
      "\u001b[0;31m---------------------------------------------------------------------------\u001b[0m",
      "\u001b[0;31mNameError\u001b[0m                                 Traceback (most recent call last)",
      "\u001b[0;32m<ipython-input-60-a9a753d614d6>\u001b[0m in \u001b[0;36m<module>\u001b[0;34m\u001b[0m\n\u001b[0;32m----> 1\u001b[0;31m \u001b[0mdata_collator\u001b[0m \u001b[0;34m=\u001b[0m \u001b[0mDataCollatorWithPadding\u001b[0m\u001b[0;34m(\u001b[0m\u001b[0mtokenizer\u001b[0m\u001b[0;34m)\u001b[0m\u001b[0;34m\u001b[0m\u001b[0;34m\u001b[0m\u001b[0m\n\u001b[0m",
      "\u001b[0;31mNameError\u001b[0m: name 'tokenizer' is not defined"
     ]
    }
   ],
   "source": [
    "data_collator = DataCollatorWithPadding(tokenizer)"
   ]
  },
  {
   "cell_type": "code",
   "execution_count": null,
   "metadata": {
    "execution": {
     "iopub.status.busy": "2021-01-09T15:11:45.214014Z",
     "iopub.status.idle": "2021-01-09T15:11:45.214520Z"
    }
   },
   "outputs": [],
   "source": [
    "trainer = transformers.Trainer(\n",
    "    model=model,\n",
    "    args=args,\n",
    "    data_collator=data_collator,\n",
    "    train_dataset=squad_dataset.train_dataset,\n",
    "    eval_dataset=squad_dataset.val_dataset\n",
    ")"
   ]
  },
  {
   "cell_type": "code",
   "execution_count": 288,
   "metadata": {
    "execution": {
     "iopub.execute_input": "2021-01-05T16:37:10.984314Z",
     "iopub.status.busy": "2021-01-05T16:37:10.983997Z",
     "iopub.status.idle": "2021-01-05T16:37:23.456420Z",
     "shell.execute_reply": "2021-01-05T16:37:23.454650Z",
     "shell.execute_reply.started": "2021-01-05T16:37:10.984273Z"
    }
   },
   "outputs": [
    {
     "name": "stdout",
     "output_type": "stream",
     "text": [
      "dict_keys(['input_ids', 'token_type_ids', 'attention_mask'])\n"
     ]
    },
    {
     "ename": "KeyError",
     "evalue": "'loss'",
     "output_type": "error",
     "traceback": [
      "\u001b[0;31m---------------------------------------------------------------------------\u001b[0m",
      "\u001b[0;31mKeyError\u001b[0m                                  Traceback (most recent call last)",
      "\u001b[0;32m<ipython-input-288-3435b262f1ae>\u001b[0m in \u001b[0;36m<module>\u001b[0;34m\u001b[0m\n\u001b[0;32m----> 1\u001b[0;31m \u001b[0mtrainer\u001b[0m\u001b[0;34m.\u001b[0m\u001b[0mtrain\u001b[0m\u001b[0;34m(\u001b[0m\u001b[0;34m)\u001b[0m\u001b[0;34m\u001b[0m\u001b[0;34m\u001b[0m\u001b[0m\n\u001b[0m",
      "\u001b[0;32m~/anaconda3/lib/python3.8/site-packages/transformers/trainer.py\u001b[0m in \u001b[0;36mtrain\u001b[0;34m(self, model_path, trial)\u001b[0m\n\u001b[1;32m    797\u001b[0m                         \u001b[0mtr_loss\u001b[0m \u001b[0;34m+=\u001b[0m \u001b[0mself\u001b[0m\u001b[0;34m.\u001b[0m\u001b[0mtraining_step\u001b[0m\u001b[0;34m(\u001b[0m\u001b[0mmodel\u001b[0m\u001b[0;34m,\u001b[0m \u001b[0minputs\u001b[0m\u001b[0;34m)\u001b[0m\u001b[0;34m\u001b[0m\u001b[0;34m\u001b[0m\u001b[0m\n\u001b[1;32m    798\u001b[0m                 \u001b[0;32melse\u001b[0m\u001b[0;34m:\u001b[0m\u001b[0;34m\u001b[0m\u001b[0;34m\u001b[0m\u001b[0m\n\u001b[0;32m--> 799\u001b[0;31m                     \u001b[0mtr_loss\u001b[0m \u001b[0;34m+=\u001b[0m \u001b[0mself\u001b[0m\u001b[0;34m.\u001b[0m\u001b[0mtraining_step\u001b[0m\u001b[0;34m(\u001b[0m\u001b[0mmodel\u001b[0m\u001b[0;34m,\u001b[0m \u001b[0minputs\u001b[0m\u001b[0;34m)\u001b[0m\u001b[0;34m\u001b[0m\u001b[0;34m\u001b[0m\u001b[0m\n\u001b[0m\u001b[1;32m    800\u001b[0m                 \u001b[0mself\u001b[0m\u001b[0;34m.\u001b[0m\u001b[0m_total_flos\u001b[0m \u001b[0;34m+=\u001b[0m \u001b[0mself\u001b[0m\u001b[0;34m.\u001b[0m\u001b[0mfloating_point_ops\u001b[0m\u001b[0;34m(\u001b[0m\u001b[0minputs\u001b[0m\u001b[0;34m)\u001b[0m\u001b[0;34m\u001b[0m\u001b[0;34m\u001b[0m\u001b[0m\n\u001b[1;32m    801\u001b[0m \u001b[0;34m\u001b[0m\u001b[0m\n",
      "\u001b[0;32m~/anaconda3/lib/python3.8/site-packages/transformers/trainer.py\u001b[0m in \u001b[0;36mtraining_step\u001b[0;34m(self, model, inputs)\u001b[0m\n\u001b[1;32m   1137\u001b[0m                 \u001b[0mloss\u001b[0m \u001b[0;34m=\u001b[0m \u001b[0mself\u001b[0m\u001b[0;34m.\u001b[0m\u001b[0mcompute_loss\u001b[0m\u001b[0;34m(\u001b[0m\u001b[0mmodel\u001b[0m\u001b[0;34m,\u001b[0m \u001b[0minputs\u001b[0m\u001b[0;34m)\u001b[0m\u001b[0;34m\u001b[0m\u001b[0;34m\u001b[0m\u001b[0m\n\u001b[1;32m   1138\u001b[0m         \u001b[0;32melse\u001b[0m\u001b[0;34m:\u001b[0m\u001b[0;34m\u001b[0m\u001b[0;34m\u001b[0m\u001b[0m\n\u001b[0;32m-> 1139\u001b[0;31m             \u001b[0mloss\u001b[0m \u001b[0;34m=\u001b[0m \u001b[0mself\u001b[0m\u001b[0;34m.\u001b[0m\u001b[0mcompute_loss\u001b[0m\u001b[0;34m(\u001b[0m\u001b[0mmodel\u001b[0m\u001b[0;34m,\u001b[0m \u001b[0minputs\u001b[0m\u001b[0;34m)\u001b[0m\u001b[0;34m\u001b[0m\u001b[0;34m\u001b[0m\u001b[0m\n\u001b[0m\u001b[1;32m   1140\u001b[0m \u001b[0;34m\u001b[0m\u001b[0m\n\u001b[1;32m   1141\u001b[0m         \u001b[0;32mif\u001b[0m \u001b[0mself\u001b[0m\u001b[0;34m.\u001b[0m\u001b[0margs\u001b[0m\u001b[0;34m.\u001b[0m\u001b[0mn_gpu\u001b[0m \u001b[0;34m>\u001b[0m \u001b[0;36m1\u001b[0m\u001b[0;34m:\u001b[0m\u001b[0;34m\u001b[0m\u001b[0;34m\u001b[0m\u001b[0m\n",
      "\u001b[0;32m~/anaconda3/lib/python3.8/site-packages/transformers/trainer.py\u001b[0m in \u001b[0;36mcompute_loss\u001b[0;34m(self, model, inputs)\u001b[0m\n\u001b[1;32m   1167\u001b[0m             \u001b[0mself\u001b[0m\u001b[0;34m.\u001b[0m\u001b[0m_past\u001b[0m \u001b[0;34m=\u001b[0m \u001b[0moutputs\u001b[0m\u001b[0;34m[\u001b[0m\u001b[0mself\u001b[0m\u001b[0;34m.\u001b[0m\u001b[0margs\u001b[0m\u001b[0;34m.\u001b[0m\u001b[0mpast_index\u001b[0m\u001b[0;34m]\u001b[0m\u001b[0;34m\u001b[0m\u001b[0;34m\u001b[0m\u001b[0m\n\u001b[1;32m   1168\u001b[0m         \u001b[0;31m# We don't use .loss here since the model may return tuples instead of ModelOutput.\u001b[0m\u001b[0;34m\u001b[0m\u001b[0;34m\u001b[0m\u001b[0;34m\u001b[0m\u001b[0m\n\u001b[0;32m-> 1169\u001b[0;31m         \u001b[0;32mreturn\u001b[0m \u001b[0moutputs\u001b[0m\u001b[0;34m[\u001b[0m\u001b[0;34m\"loss\"\u001b[0m\u001b[0;34m]\u001b[0m \u001b[0;32mif\u001b[0m \u001b[0misinstance\u001b[0m\u001b[0;34m(\u001b[0m\u001b[0moutputs\u001b[0m\u001b[0;34m,\u001b[0m \u001b[0mdict\u001b[0m\u001b[0;34m)\u001b[0m \u001b[0;32melse\u001b[0m \u001b[0moutputs\u001b[0m\u001b[0;34m[\u001b[0m\u001b[0;36m0\u001b[0m\u001b[0;34m]\u001b[0m\u001b[0;34m\u001b[0m\u001b[0;34m\u001b[0m\u001b[0m\n\u001b[0m\u001b[1;32m   1170\u001b[0m \u001b[0;34m\u001b[0m\u001b[0m\n\u001b[1;32m   1171\u001b[0m     \u001b[0;32mdef\u001b[0m \u001b[0mis_local_process_zero\u001b[0m\u001b[0;34m(\u001b[0m\u001b[0mself\u001b[0m\u001b[0;34m)\u001b[0m \u001b[0;34m->\u001b[0m \u001b[0mbool\u001b[0m\u001b[0;34m:\u001b[0m\u001b[0;34m\u001b[0m\u001b[0;34m\u001b[0m\u001b[0m\n",
      "\u001b[0;32m~/anaconda3/lib/python3.8/site-packages/transformers/file_utils.py\u001b[0m in \u001b[0;36m__getitem__\u001b[0;34m(self, k)\u001b[0m\n\u001b[1;32m   1443\u001b[0m         \u001b[0;32mif\u001b[0m \u001b[0misinstance\u001b[0m\u001b[0;34m(\u001b[0m\u001b[0mk\u001b[0m\u001b[0;34m,\u001b[0m \u001b[0mstr\u001b[0m\u001b[0;34m)\u001b[0m\u001b[0;34m:\u001b[0m\u001b[0;34m\u001b[0m\u001b[0;34m\u001b[0m\u001b[0m\n\u001b[1;32m   1444\u001b[0m             \u001b[0minner_dict\u001b[0m \u001b[0;34m=\u001b[0m \u001b[0;34m{\u001b[0m\u001b[0mk\u001b[0m\u001b[0;34m:\u001b[0m \u001b[0mv\u001b[0m \u001b[0;32mfor\u001b[0m \u001b[0;34m(\u001b[0m\u001b[0mk\u001b[0m\u001b[0;34m,\u001b[0m \u001b[0mv\u001b[0m\u001b[0;34m)\u001b[0m \u001b[0;32min\u001b[0m \u001b[0mself\u001b[0m\u001b[0;34m.\u001b[0m\u001b[0mitems\u001b[0m\u001b[0;34m(\u001b[0m\u001b[0;34m)\u001b[0m\u001b[0;34m}\u001b[0m\u001b[0;34m\u001b[0m\u001b[0;34m\u001b[0m\u001b[0m\n\u001b[0;32m-> 1445\u001b[0;31m             \u001b[0;32mreturn\u001b[0m \u001b[0minner_dict\u001b[0m\u001b[0;34m[\u001b[0m\u001b[0mk\u001b[0m\u001b[0;34m]\u001b[0m\u001b[0;34m\u001b[0m\u001b[0;34m\u001b[0m\u001b[0m\n\u001b[0m\u001b[1;32m   1446\u001b[0m         \u001b[0;32melse\u001b[0m\u001b[0;34m:\u001b[0m\u001b[0;34m\u001b[0m\u001b[0;34m\u001b[0m\u001b[0m\n\u001b[1;32m   1447\u001b[0m             \u001b[0;32mreturn\u001b[0m \u001b[0mself\u001b[0m\u001b[0;34m.\u001b[0m\u001b[0mto_tuple\u001b[0m\u001b[0;34m(\u001b[0m\u001b[0;34m)\u001b[0m\u001b[0;34m[\u001b[0m\u001b[0mk\u001b[0m\u001b[0;34m]\u001b[0m\u001b[0;34m\u001b[0m\u001b[0;34m\u001b[0m\u001b[0m\n",
      "\u001b[0;31mKeyError\u001b[0m: 'loss'"
     ]
    }
   ],
   "source": [
    "trainer.train()"
   ]
  },
  {
   "cell_type": "code",
   "execution_count": null,
   "metadata": {},
   "outputs": [],
   "source": []
  }
 ],
 "metadata": {
  "kernelspec": {
   "display_name": "Python 3",
   "language": "python",
   "name": "python3"
  },
  "language_info": {
   "codemirror_mode": {
    "name": "ipython",
    "version": 3
   },
   "file_extension": ".py",
   "mimetype": "text/x-python",
   "name": "python",
   "nbconvert_exporter": "python",
   "pygments_lexer": "ipython3",
   "version": "3.8.5"
  }
 },
 "nbformat": 4,
 "nbformat_minor": 4
}
