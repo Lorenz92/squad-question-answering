{
 "cells": [
  {
   "cell_type": "markdown",
   "metadata": {},
   "source": [
    "# Question answering on the SQuAD dataset"
   ]
  },
  {
   "cell_type": "code",
   "execution_count": 3,
   "metadata": {
    "execution": {
     "iopub.execute_input": "2021-01-18T14:16:46.128290Z",
     "iopub.status.busy": "2021-01-18T14:16:46.127865Z",
     "iopub.status.idle": "2021-01-18T14:16:56.342701Z",
     "shell.execute_reply": "2021-01-18T14:16:56.340634Z",
     "shell.execute_reply.started": "2021-01-18T14:16:46.128246Z"
    }
   },
   "outputs": [],
   "source": [
    "import sys\n",
    "import random\n",
    "from functools import partial\n",
    "\n",
    "import pandas as pd\n",
    "import numpy as np\n",
    "import matplotlib.pyplot as plt\n",
    "import torch\n",
    "import torch.nn as nn\n",
    "import torch.optim as optim\n",
    "import wandb\n",
    "import transformers\n",
    "import tokenizers\n",
    "\n",
    "from transformers.trainer_utils import set_seed\n",
    "from tokenizers import Tokenizer\n",
    "from tokenizers.models import WordLevel\n",
    "from tokenizers.normalizers import Sequence, StripAccents, Lowercase, Strip\n",
    "from tokenizers.pre_tokenizers import Sequence as PreSequence\n",
    "from tokenizers.pre_tokenizers import Whitespace, Punctuation\n",
    "from tokenizers import BertWordPieceTokenizer\n",
    "\n",
    "import dataset\n",
    "import model\n",
    "import training\n",
    "import utils\n",
    "\n",
    "%load_ext autoreload\n",
    "%autoreload 2\n",
    "%matplotlib inline"
   ]
  },
  {
   "cell_type": "code",
   "execution_count": 4,
   "metadata": {
    "execution": {
     "iopub.execute_input": "2021-01-18T14:16:56.426440Z",
     "iopub.status.busy": "2021-01-18T14:16:56.426096Z",
     "iopub.status.idle": "2021-01-18T14:16:56.500505Z",
     "shell.execute_reply": "2021-01-18T14:16:56.499330Z",
     "shell.execute_reply.started": "2021-01-18T14:16:56.426396Z"
    }
   },
   "outputs": [],
   "source": [
    "plt.rcParams['figure.figsize'] = [8, 6]\n",
    "plt.rcParams['figure.dpi'] = 100\n",
    "plt.rcParams['axes.xmargin'] = .05\n",
    "plt.rcParams['axes.ymargin'] = .05\n",
    "plt.style.use('ggplot')"
   ]
  },
  {
   "cell_type": "code",
   "execution_count": 5,
   "metadata": {
    "execution": {
     "iopub.execute_input": "2021-01-18T14:16:56.502563Z",
     "iopub.status.busy": "2021-01-18T14:16:56.502234Z",
     "iopub.status.idle": "2021-01-18T14:16:56.561777Z",
     "shell.execute_reply": "2021-01-18T14:16:56.560485Z",
     "shell.execute_reply.started": "2021-01-18T14:16:56.502524Z"
    }
   },
   "outputs": [],
   "source": [
    "WANDB_PROJECT = \"squad-qa\"\n",
    "WANDB_ENTITY = \"wadaboa\"\n",
    "WANDB_MODE = \"online\"\n",
    "WANDB_RESUME = \"never\"\n",
    "\n",
    "init_wandb = partial(\n",
    "    wandb.init,\n",
    "    project=WANDB_PROJECT,\n",
    "    entity=WANDB_ENTITY,\n",
    "    mode=WANDB_MODE,\n",
    "    resume=WANDB_RESUME,\n",
    ")"
   ]
  },
  {
   "cell_type": "code",
   "execution_count": 6,
   "metadata": {
    "execution": {
     "iopub.execute_input": "2021-01-18T14:16:56.563886Z",
     "iopub.status.busy": "2021-01-18T14:16:56.563585Z",
     "iopub.status.idle": "2021-01-18T14:16:58.498517Z",
     "shell.execute_reply": "2021-01-18T14:16:58.496791Z",
     "shell.execute_reply.started": "2021-01-18T14:16:56.563848Z"
    }
   },
   "outputs": [
    {
     "name": "stdout",
     "output_type": "stream",
     "text": [
      "W&B enabled.\n"
     ]
    }
   ],
   "source": [
    "!wandb enabled"
   ]
  },
  {
   "cell_type": "code",
   "execution_count": 7,
   "metadata": {
    "execution": {
     "iopub.execute_input": "2021-01-18T14:16:58.501026Z",
     "iopub.status.busy": "2021-01-18T14:16:58.500686Z",
     "iopub.status.idle": "2021-01-18T14:16:58.599420Z",
     "shell.execute_reply": "2021-01-18T14:16:58.598067Z",
     "shell.execute_reply.started": "2021-01-18T14:16:58.500978Z"
    }
   },
   "outputs": [],
   "source": [
    "RANDOM_SEED = 42\n",
    "set_seed(RANDOM_SEED)"
   ]
  },
  {
   "cell_type": "code",
   "execution_count": 8,
   "metadata": {
    "execution": {
     "iopub.execute_input": "2021-01-18T14:16:58.601465Z",
     "iopub.status.busy": "2021-01-18T14:16:58.601148Z",
     "iopub.status.idle": "2021-01-18T14:16:58.988168Z",
     "shell.execute_reply": "2021-01-18T14:16:58.986620Z",
     "shell.execute_reply.started": "2021-01-18T14:16:58.601427Z"
    }
   },
   "outputs": [
    {
     "name": "stderr",
     "output_type": "stream",
     "text": [
      "/root/anaconda3/lib/python3.8/site-packages/torch/cuda/__init__.py:52: UserWarning: CUDA initialization: Found no NVIDIA driver on your system. Please check that you have an NVIDIA GPU and installed a driver from http://www.nvidia.com/Download/index.aspx (Triggered internally at  /pytorch/c10/cuda/CUDAFunctions.cpp:100.)\n",
      "  return torch._C._cuda_getDeviceCount() > 0\n"
     ]
    }
   ],
   "source": [
    "DEVICE = torch.device(\"cuda:0\" if torch.cuda.is_available() else \"cpu\")"
   ]
  },
  {
   "cell_type": "markdown",
   "metadata": {},
   "source": [
    "## Preliminaries"
   ]
  },
  {
   "cell_type": "markdown",
   "metadata": {},
   "source": [
    "### Raw data loading"
   ]
  },
  {
   "cell_type": "code",
   "execution_count": 9,
   "metadata": {
    "execution": {
     "iopub.execute_input": "2021-01-18T14:16:58.992538Z",
     "iopub.status.busy": "2021-01-18T14:16:58.992220Z",
     "iopub.status.idle": "2021-01-18T14:16:59.349880Z",
     "shell.execute_reply": "2021-01-18T14:16:59.348160Z",
     "shell.execute_reply.started": "2021-01-18T14:16:58.992499Z"
    }
   },
   "outputs": [],
   "source": [
    "squad_dataset = dataset.SquadDataset(subset=0.01)"
   ]
  },
  {
   "cell_type": "code",
   "execution_count": 10,
   "metadata": {
    "execution": {
     "iopub.execute_input": "2021-01-18T14:16:59.352955Z",
     "iopub.status.busy": "2021-01-18T14:16:59.352620Z",
     "iopub.status.idle": "2021-01-18T14:16:59.479280Z",
     "shell.execute_reply": "2021-01-18T14:16:59.477692Z",
     "shell.execute_reply.started": "2021-01-18T14:16:59.352913Z"
    }
   },
   "outputs": [
    {
     "data": {
      "text/html": [
       "<div>\n",
       "<style scoped>\n",
       "    .dataframe tbody tr th:only-of-type {\n",
       "        vertical-align: middle;\n",
       "    }\n",
       "\n",
       "    .dataframe tbody tr th {\n",
       "        vertical-align: top;\n",
       "    }\n",
       "\n",
       "    .dataframe thead th {\n",
       "        text-align: right;\n",
       "    }\n",
       "</style>\n",
       "<table border=\"1\" class=\"dataframe\">\n",
       "  <thead>\n",
       "    <tr style=\"text-align: right;\">\n",
       "      <th></th>\n",
       "      <th>question_id</th>\n",
       "      <th>question</th>\n",
       "      <th>title</th>\n",
       "      <th>context_id</th>\n",
       "      <th>context</th>\n",
       "      <th>answer</th>\n",
       "      <th>answer_start</th>\n",
       "      <th>answer_end</th>\n",
       "    </tr>\n",
       "  </thead>\n",
       "  <tbody>\n",
       "    <tr>\n",
       "      <th>0</th>\n",
       "      <td>56de4d9ecffd8e1900b4b7e2</td>\n",
       "      <td>What year was the Banská Akadémia founded?</td>\n",
       "      <td>Institute_of_technology</td>\n",
       "      <td>1860</td>\n",
       "      <td>The world's first institution of technology or...</td>\n",
       "      <td>1735</td>\n",
       "      <td>167</td>\n",
       "      <td>171</td>\n",
       "    </tr>\n",
       "    <tr>\n",
       "      <th>1</th>\n",
       "      <td>572674a05951b619008f7319</td>\n",
       "      <td>What is another speed that can also be reporte...</td>\n",
       "      <td>Film_speed</td>\n",
       "      <td>9354</td>\n",
       "      <td>The standard specifies how speed ratings shoul...</td>\n",
       "      <td>SOS-based speed</td>\n",
       "      <td>793</td>\n",
       "      <td>808</td>\n",
       "    </tr>\n",
       "    <tr>\n",
       "      <th>2</th>\n",
       "      <td>5730bb058ab72b1400f9c72c</td>\n",
       "      <td>Where were the use of advanced materials and t...</td>\n",
       "      <td>Sumer</td>\n",
       "      <td>17505</td>\n",
       "      <td>The most impressive and famous of Sumerian bui...</td>\n",
       "      <td>Sumerian temples and palaces</td>\n",
       "      <td>421</td>\n",
       "      <td>449</td>\n",
       "    </tr>\n",
       "    <tr>\n",
       "      <th>3</th>\n",
       "      <td>572781a5f1498d1400e8fa1f</td>\n",
       "      <td>Who is elected every even numbered year?</td>\n",
       "      <td>Ann_Arbor,_Michigan</td>\n",
       "      <td>10585</td>\n",
       "      <td>Ann Arbor has a council-manager form of govern...</td>\n",
       "      <td>mayor</td>\n",
       "      <td>192</td>\n",
       "      <td>197</td>\n",
       "    </tr>\n",
       "    <tr>\n",
       "      <th>4</th>\n",
       "      <td>572843ce4b864d190016485c</td>\n",
       "      <td>What was the purpose of top secret ICBM commit...</td>\n",
       "      <td>John_von_Neumann</td>\n",
       "      <td>11497</td>\n",
       "      <td>Shortly before his death, when he was already ...</td>\n",
       "      <td>decide on the feasibility of building an ICBM ...</td>\n",
       "      <td>194</td>\n",
       "      <td>284</td>\n",
       "    </tr>\n",
       "    <tr>\n",
       "      <th>...</th>\n",
       "      <td>...</td>\n",
       "      <td>...</td>\n",
       "      <td>...</td>\n",
       "      <td>...</td>\n",
       "      <td>...</td>\n",
       "      <td>...</td>\n",
       "      <td>...</td>\n",
       "      <td>...</td>\n",
       "    </tr>\n",
       "    <tr>\n",
       "      <th>870</th>\n",
       "      <td>5725cad2ec44d21400f3d5a0</td>\n",
       "      <td>It was an early backer of what</td>\n",
       "      <td>Bill_%26_Melinda_Gates_Foundation</td>\n",
       "      <td>8521</td>\n",
       "      <td>A key aspect of the Gates Foundation's U.S. ef...</td>\n",
       "      <td>The foundation was the biggest early backer of...</td>\n",
       "      <td>449</td>\n",
       "      <td>539</td>\n",
       "    </tr>\n",
       "    <tr>\n",
       "      <th>871</th>\n",
       "      <td>570c0fedec8fbc190045bc47</td>\n",
       "      <td>What event in February did Barcelona qualify f...</td>\n",
       "      <td>FC_Barcelona</td>\n",
       "      <td>6319</td>\n",
       "      <td>On 4 January 2016, Barcelona's transfer ban en...</td>\n",
       "      <td>Copa del Rey final</td>\n",
       "      <td>267</td>\n",
       "      <td>285</td>\n",
       "    </tr>\n",
       "    <tr>\n",
       "      <th>872</th>\n",
       "      <td>57327ed206a3a419008aca8d</td>\n",
       "      <td>What caused a large migration of Greek refuges...</td>\n",
       "      <td>Humanism</td>\n",
       "      <td>18662</td>\n",
       "      <td>The humanists' close study of Latin literary t...</td>\n",
       "      <td>Greek manuscripts</td>\n",
       "      <td>1262</td>\n",
       "      <td>1279</td>\n",
       "    </tr>\n",
       "    <tr>\n",
       "      <th>873</th>\n",
       "      <td>5727c05eff5b5019007d9449</td>\n",
       "      <td>What league are the Toronto Bluejays in?</td>\n",
       "      <td>Exhibition_game</td>\n",
       "      <td>13088</td>\n",
       "      <td>Several MLB teams used to play regular exhibit...</td>\n",
       "      <td>American League</td>\n",
       "      <td>246</td>\n",
       "      <td>261</td>\n",
       "    </tr>\n",
       "    <tr>\n",
       "      <th>874</th>\n",
       "      <td>57269f33dd62a815002e8b3c</td>\n",
       "      <td>When did Edmund Burke start a debate club?</td>\n",
       "      <td>Edmund_Burke</td>\n",
       "      <td>10747</td>\n",
       "      <td>In 1744, Burke started at Trinity College Dubl...</td>\n",
       "      <td>1747</td>\n",
       "      <td>144</td>\n",
       "      <td>148</td>\n",
       "    </tr>\n",
       "  </tbody>\n",
       "</table>\n",
       "<p>875 rows × 8 columns</p>\n",
       "</div>"
      ],
      "text/plain": [
       "                  question_id  \\\n",
       "0    56de4d9ecffd8e1900b4b7e2   \n",
       "1    572674a05951b619008f7319   \n",
       "2    5730bb058ab72b1400f9c72c   \n",
       "3    572781a5f1498d1400e8fa1f   \n",
       "4    572843ce4b864d190016485c   \n",
       "..                        ...   \n",
       "870  5725cad2ec44d21400f3d5a0   \n",
       "871  570c0fedec8fbc190045bc47   \n",
       "872  57327ed206a3a419008aca8d   \n",
       "873  5727c05eff5b5019007d9449   \n",
       "874  57269f33dd62a815002e8b3c   \n",
       "\n",
       "                                              question  \\\n",
       "0           What year was the Banská Akadémia founded?   \n",
       "1    What is another speed that can also be reporte...   \n",
       "2    Where were the use of advanced materials and t...   \n",
       "3             Who is elected every even numbered year?   \n",
       "4    What was the purpose of top secret ICBM commit...   \n",
       "..                                                 ...   \n",
       "870                    It was an early backer of what    \n",
       "871  What event in February did Barcelona qualify f...   \n",
       "872  What caused a large migration of Greek refuges...   \n",
       "873           What league are the Toronto Bluejays in?   \n",
       "874         When did Edmund Burke start a debate club?   \n",
       "\n",
       "                                 title  context_id  \\\n",
       "0              Institute_of_technology        1860   \n",
       "1                           Film_speed        9354   \n",
       "2                                Sumer       17505   \n",
       "3                  Ann_Arbor,_Michigan       10585   \n",
       "4                     John_von_Neumann       11497   \n",
       "..                                 ...         ...   \n",
       "870  Bill_%26_Melinda_Gates_Foundation        8521   \n",
       "871                       FC_Barcelona        6319   \n",
       "872                           Humanism       18662   \n",
       "873                    Exhibition_game       13088   \n",
       "874                       Edmund_Burke       10747   \n",
       "\n",
       "                                               context  \\\n",
       "0    The world's first institution of technology or...   \n",
       "1    The standard specifies how speed ratings shoul...   \n",
       "2    The most impressive and famous of Sumerian bui...   \n",
       "3    Ann Arbor has a council-manager form of govern...   \n",
       "4    Shortly before his death, when he was already ...   \n",
       "..                                                 ...   \n",
       "870  A key aspect of the Gates Foundation's U.S. ef...   \n",
       "871  On 4 January 2016, Barcelona's transfer ban en...   \n",
       "872  The humanists' close study of Latin literary t...   \n",
       "873  Several MLB teams used to play regular exhibit...   \n",
       "874  In 1744, Burke started at Trinity College Dubl...   \n",
       "\n",
       "                                                answer  answer_start  \\\n",
       "0                                                 1735           167   \n",
       "1                                      SOS-based speed           793   \n",
       "2                         Sumerian temples and palaces           421   \n",
       "3                                                mayor           192   \n",
       "4    decide on the feasibility of building an ICBM ...           194   \n",
       "..                                                 ...           ...   \n",
       "870  The foundation was the biggest early backer of...           449   \n",
       "871                                 Copa del Rey final           267   \n",
       "872                                  Greek manuscripts          1262   \n",
       "873                                    American League           246   \n",
       "874                                               1747           144   \n",
       "\n",
       "     answer_end  \n",
       "0           171  \n",
       "1           808  \n",
       "2           449  \n",
       "3           197  \n",
       "4           284  \n",
       "..          ...  \n",
       "870         539  \n",
       "871         285  \n",
       "872        1279  \n",
       "873         261  \n",
       "874         148  \n",
       "\n",
       "[875 rows x 8 columns]"
      ]
     },
     "execution_count": 10,
     "metadata": {},
     "output_type": "execute_result"
    }
   ],
   "source": [
    "squad_dataset.raw_train_df"
   ]
  },
  {
   "cell_type": "code",
   "execution_count": 11,
   "metadata": {
    "execution": {
     "iopub.execute_input": "2021-01-18T14:16:59.481108Z",
     "iopub.status.busy": "2021-01-18T14:16:59.480795Z",
     "iopub.status.idle": "2021-01-18T14:16:59.564464Z",
     "shell.execute_reply": "2021-01-18T14:16:59.563234Z",
     "shell.execute_reply.started": "2021-01-18T14:16:59.481068Z"
    }
   },
   "outputs": [
    {
     "data": {
      "text/html": [
       "<div>\n",
       "<style scoped>\n",
       "    .dataframe tbody tr th:only-of-type {\n",
       "        vertical-align: middle;\n",
       "    }\n",
       "\n",
       "    .dataframe tbody tr th {\n",
       "        vertical-align: top;\n",
       "    }\n",
       "\n",
       "    .dataframe thead th {\n",
       "        text-align: right;\n",
       "    }\n",
       "</style>\n",
       "<table border=\"1\" class=\"dataframe\">\n",
       "  <thead>\n",
       "    <tr style=\"text-align: right;\">\n",
       "      <th></th>\n",
       "      <th>question_id</th>\n",
       "      <th>question</th>\n",
       "      <th>title</th>\n",
       "      <th>context_id</th>\n",
       "      <th>context</th>\n",
       "      <th>answer</th>\n",
       "      <th>answer_start</th>\n",
       "      <th>answer_end</th>\n",
       "    </tr>\n",
       "  </thead>\n",
       "  <tbody>\n",
       "    <tr>\n",
       "      <th>0</th>\n",
       "      <td>57379ed81c456719005744d7</td>\n",
       "      <td>In what way do idea strings transmit tesion fo...</td>\n",
       "      <td>Force</td>\n",
       "      <td>2058</td>\n",
       "      <td>Tension forces can be modeled using ideal stri...</td>\n",
       "      <td>instantaneously in action-reaction pairs</td>\n",
       "      <td>250</td>\n",
       "      <td>290</td>\n",
       "    </tr>\n",
       "    <tr>\n",
       "      <th>1</th>\n",
       "      <td>56e0ed557aa994140058e7dd</td>\n",
       "      <td>What was Tesla's device called?</td>\n",
       "      <td>Nikola_Tesla</td>\n",
       "      <td>181</td>\n",
       "      <td>Tesla also explained the principles of the rot...</td>\n",
       "      <td>Egg of Columbus</td>\n",
       "      <td>187</td>\n",
       "      <td>202</td>\n",
       "    </tr>\n",
       "    <tr>\n",
       "      <th>2</th>\n",
       "      <td>56e1febfe3433e140042323a</td>\n",
       "      <td>What is the example of another problem charact...</td>\n",
       "      <td>Computational_complexity_theory</td>\n",
       "      <td>282</td>\n",
       "      <td>What intractability means in practice is open ...</td>\n",
       "      <td>NP-complete Boolean satisfiability problem</td>\n",
       "      <td>539</td>\n",
       "      <td>581</td>\n",
       "    </tr>\n",
       "    <tr>\n",
       "      <th>3</th>\n",
       "      <td>57269bb8708984140094cb98</td>\n",
       "      <td>What are EU Regulations essentially the same a...</td>\n",
       "      <td>European_Union_law</td>\n",
       "      <td>759</td>\n",
       "      <td>Although it is generally accepted that EU law ...</td>\n",
       "      <td>Treaty provisions</td>\n",
       "      <td>1332</td>\n",
       "      <td>1349</td>\n",
       "    </tr>\n",
       "    <tr>\n",
       "      <th>4</th>\n",
       "      <td>56f884cba6d7ea1400e17708</td>\n",
       "      <td>What theologian differed in views about the so...</td>\n",
       "      <td>Martin_Luther</td>\n",
       "      <td>412</td>\n",
       "      <td>The Lutheran theologian Franz Pieper observed ...</td>\n",
       "      <td>Gerhard</td>\n",
       "      <td>181</td>\n",
       "      <td>188</td>\n",
       "    </tr>\n",
       "    <tr>\n",
       "      <th>...</th>\n",
       "      <td>...</td>\n",
       "      <td>...</td>\n",
       "      <td>...</td>\n",
       "      <td>...</td>\n",
       "      <td>...</td>\n",
       "      <td>...</td>\n",
       "      <td>...</td>\n",
       "      <td>...</td>\n",
       "    </tr>\n",
       "    <tr>\n",
       "      <th>177</th>\n",
       "      <td>5711475ca58dae1900cd6d8b</td>\n",
       "      <td>In a 4-cylinder compound engine, what degree w...</td>\n",
       "      <td>Steam_engine</td>\n",
       "      <td>587</td>\n",
       "      <td>With two-cylinder compounds used in railway wo...</td>\n",
       "      <td>180</td>\n",
       "      <td>313</td>\n",
       "      <td>316</td>\n",
       "    </tr>\n",
       "    <tr>\n",
       "      <th>178</th>\n",
       "      <td>572fdd03a23a5019007fcaa0</td>\n",
       "      <td>What party had a victory in the 2015 UK election?</td>\n",
       "      <td>Scottish_Parliament</td>\n",
       "      <td>1846</td>\n",
       "      <td>A procedural consequence of the establishment ...</td>\n",
       "      <td>Conservative</td>\n",
       "      <td>465</td>\n",
       "      <td>477</td>\n",
       "    </tr>\n",
       "    <tr>\n",
       "      <th>179</th>\n",
       "      <td>572ff56304bcaa1900d76f30</td>\n",
       "      <td>What does the Nederrijn change it's name to?</td>\n",
       "      <td>Rhine</td>\n",
       "      <td>1781</td>\n",
       "      <td>The other third of the water flows through the...</td>\n",
       "      <td>the Lek</td>\n",
       "      <td>402</td>\n",
       "      <td>409</td>\n",
       "    </tr>\n",
       "    <tr>\n",
       "      <th>180</th>\n",
       "      <td>5737a0acc3c5551400e51f4a</td>\n",
       "      <td>What may a force on one part of an object affect?</td>\n",
       "      <td>Force</td>\n",
       "      <td>2059</td>\n",
       "      <td>Newton's laws and Newtonian mechanics in gener...</td>\n",
       "      <td>other parts</td>\n",
       "      <td>276</td>\n",
       "      <td>287</td>\n",
       "    </tr>\n",
       "    <tr>\n",
       "      <th>181</th>\n",
       "      <td>5727515f708984140094dc15</td>\n",
       "      <td>In what century did missionaries notably estab...</td>\n",
       "      <td>Private_school</td>\n",
       "      <td>1341</td>\n",
       "      <td>Some of the oldest schools in South Africa are...</td>\n",
       "      <td>nineteenth</td>\n",
       "      <td>121</td>\n",
       "      <td>131</td>\n",
       "    </tr>\n",
       "  </tbody>\n",
       "</table>\n",
       "<p>182 rows × 8 columns</p>\n",
       "</div>"
      ],
      "text/plain": [
       "                  question_id  \\\n",
       "0    57379ed81c456719005744d7   \n",
       "1    56e0ed557aa994140058e7dd   \n",
       "2    56e1febfe3433e140042323a   \n",
       "3    57269bb8708984140094cb98   \n",
       "4    56f884cba6d7ea1400e17708   \n",
       "..                        ...   \n",
       "177  5711475ca58dae1900cd6d8b   \n",
       "178  572fdd03a23a5019007fcaa0   \n",
       "179  572ff56304bcaa1900d76f30   \n",
       "180  5737a0acc3c5551400e51f4a   \n",
       "181  5727515f708984140094dc15   \n",
       "\n",
       "                                              question  \\\n",
       "0    In what way do idea strings transmit tesion fo...   \n",
       "1                      What was Tesla's device called?   \n",
       "2    What is the example of another problem charact...   \n",
       "3    What are EU Regulations essentially the same a...   \n",
       "4    What theologian differed in views about the so...   \n",
       "..                                                 ...   \n",
       "177  In a 4-cylinder compound engine, what degree w...   \n",
       "178  What party had a victory in the 2015 UK election?   \n",
       "179       What does the Nederrijn change it's name to?   \n",
       "180  What may a force on one part of an object affect?   \n",
       "181  In what century did missionaries notably estab...   \n",
       "\n",
       "                               title  context_id  \\\n",
       "0                              Force        2058   \n",
       "1                       Nikola_Tesla         181   \n",
       "2    Computational_complexity_theory         282   \n",
       "3                 European_Union_law         759   \n",
       "4                      Martin_Luther         412   \n",
       "..                               ...         ...   \n",
       "177                     Steam_engine         587   \n",
       "178              Scottish_Parliament        1846   \n",
       "179                            Rhine        1781   \n",
       "180                            Force        2059   \n",
       "181                   Private_school        1341   \n",
       "\n",
       "                                               context  \\\n",
       "0    Tension forces can be modeled using ideal stri...   \n",
       "1    Tesla also explained the principles of the rot...   \n",
       "2    What intractability means in practice is open ...   \n",
       "3    Although it is generally accepted that EU law ...   \n",
       "4    The Lutheran theologian Franz Pieper observed ...   \n",
       "..                                                 ...   \n",
       "177  With two-cylinder compounds used in railway wo...   \n",
       "178  A procedural consequence of the establishment ...   \n",
       "179  The other third of the water flows through the...   \n",
       "180  Newton's laws and Newtonian mechanics in gener...   \n",
       "181  Some of the oldest schools in South Africa are...   \n",
       "\n",
       "                                         answer  answer_start  answer_end  \n",
       "0      instantaneously in action-reaction pairs           250         290  \n",
       "1                               Egg of Columbus           187         202  \n",
       "2    NP-complete Boolean satisfiability problem           539         581  \n",
       "3                             Treaty provisions          1332        1349  \n",
       "4                                       Gerhard           181         188  \n",
       "..                                          ...           ...         ...  \n",
       "177                                         180           313         316  \n",
       "178                                Conservative           465         477  \n",
       "179                                     the Lek           402         409  \n",
       "180                                 other parts           276         287  \n",
       "181                                  nineteenth           121         131  \n",
       "\n",
       "[182 rows x 8 columns]"
      ]
     },
     "execution_count": 11,
     "metadata": {},
     "output_type": "execute_result"
    }
   ],
   "source": [
    "squad_dataset.raw_test_df"
   ]
  },
  {
   "cell_type": "markdown",
   "metadata": {},
   "source": [
    "### Embeddings"
   ]
  },
  {
   "cell_type": "code",
   "execution_count": 12,
   "metadata": {
    "execution": {
     "iopub.execute_input": "2021-01-18T14:16:59.566396Z",
     "iopub.status.busy": "2021-01-18T14:16:59.566079Z",
     "iopub.status.idle": "2021-01-18T14:16:59.623846Z",
     "shell.execute_reply": "2021-01-18T14:16:59.622495Z",
     "shell.execute_reply.started": "2021-01-18T14:16:59.566358Z"
    }
   },
   "outputs": [],
   "source": [
    "UNK_TOKEN = \"[UNK]\"\n",
    "PAD_TOKEN = \"[PAD]\""
   ]
  },
  {
   "cell_type": "markdown",
   "metadata": {},
   "source": [
    "- FastText: \n",
    "    - _fasttext-wiki-news-subwords_ (dimensions: 300)\n",
    "- GloVe:\n",
    "    - _glove-twitter_ (dimensions: 25. 50, 100, 200)\n",
    "    - _glove-wiki-gigaword_ (dimensions: 50, 100, 200, 300)\n",
    "- Word2Vec:\n",
    "    - _word2vec-google-news_ (dimensions: 300)\n",
    "    - _word2vec-ruscorpora_ (dimensions: 300)"
   ]
  },
  {
   "cell_type": "code",
   "execution_count": 9,
   "metadata": {
    "execution": {
     "iopub.execute_input": "2021-01-18T10:40:37.993826Z",
     "iopub.status.busy": "2021-01-18T10:40:37.993489Z",
     "iopub.status.idle": "2021-01-18T10:43:18.371049Z",
     "shell.execute_reply": "2021-01-18T10:43:18.369558Z",
     "shell.execute_reply.started": "2021-01-18T10:40:37.993784Z"
    }
   },
   "outputs": [],
   "source": [
    "# See https://github.com/RaRe-Technologies/gensim-data\n",
    "GLOVE_EMBEDDING_DIMENSION = 50\n",
    "GLOVE_MODEL_NAME = \"glove-twitter\"\n",
    "glove_embedding_model = utils.load_embedding_model(\n",
    "    GLOVE_MODEL_NAME, embedding_dimension=GLOVE_EMBEDDING_DIMENSION\n",
    ")"
   ]
  },
  {
   "cell_type": "code",
   "execution_count": 10,
   "metadata": {
    "execution": {
     "iopub.execute_input": "2021-01-18T10:43:18.444510Z",
     "iopub.status.busy": "2021-01-18T10:43:18.444184Z",
     "iopub.status.idle": "2021-01-18T10:43:19.005284Z",
     "shell.execute_reply": "2021-01-18T10:43:19.003976Z",
     "shell.execute_reply.started": "2021-01-18T10:43:18.444471Z"
    }
   },
   "outputs": [],
   "source": [
    "glove_unk = np.mean(glove_embedding_model.vectors, axis=0)\n",
    "glove_embedding_model.add(UNK_TOKEN, glove_unk)"
   ]
  },
  {
   "cell_type": "code",
   "execution_count": 11,
   "metadata": {
    "execution": {
     "iopub.execute_input": "2021-01-18T10:43:19.007767Z",
     "iopub.status.busy": "2021-01-18T10:43:19.007435Z",
     "iopub.status.idle": "2021-01-18T10:43:19.075007Z",
     "shell.execute_reply": "2021-01-18T10:43:19.073943Z",
     "shell.execute_reply.started": "2021-01-18T10:43:19.007724Z"
    }
   },
   "outputs": [
    {
     "data": {
      "text/plain": [
       "array([-0.21896735,  0.17269313, -0.05617283,  0.06307325,  0.00960657,\n",
       "       -0.23461065, -0.16731773, -0.25613925,  0.12990713, -0.34179848,\n",
       "       -0.07411992,  0.00533567,  0.7090377 , -0.1139018 ,  0.10613882,\n",
       "        0.09186497,  0.15880948,  0.03158554,  0.2241412 ,  0.20387109,\n",
       "        0.05305386,  0.04961218,  0.11807557, -0.10199773, -0.18345806,\n",
       "        0.56560194,  0.07183363,  0.04322447, -0.39442873,  0.06828266,\n",
       "        0.39542177,  0.08794834,  0.41605434, -0.27820984, -0.5106833 ,\n",
       "       -0.16443801,  0.0973425 ,  0.02233286,  0.19346187,  0.15909852,\n",
       "        0.886585  , -0.01498107,  0.10211241, -0.12959567, -0.328366  ,\n",
       "        0.13014658, -0.02061043,  0.05735753,  0.14008364,  0.22588447],\n",
       "      dtype=float32)"
      ]
     },
     "execution_count": 11,
     "metadata": {},
     "output_type": "execute_result"
    }
   ],
   "source": [
    "glove_embedding_model[UNK_TOKEN]"
   ]
  },
  {
   "cell_type": "code",
   "execution_count": 12,
   "metadata": {
    "execution": {
     "iopub.execute_input": "2021-01-18T10:43:19.076685Z",
     "iopub.status.busy": "2021-01-18T10:43:19.076372Z",
     "iopub.status.idle": "2021-01-18T10:43:19.251825Z",
     "shell.execute_reply": "2021-01-18T10:43:19.250458Z",
     "shell.execute_reply.started": "2021-01-18T10:43:19.076646Z"
    }
   },
   "outputs": [
    {
     "data": {
      "text/plain": [
       "'[UNK]'"
      ]
     },
     "execution_count": 12,
     "metadata": {},
     "output_type": "execute_result"
    }
   ],
   "source": [
    "list(glove_embedding_model.vocab.keys())[-1]"
   ]
  },
  {
   "cell_type": "code",
   "execution_count": 13,
   "metadata": {
    "execution": {
     "iopub.execute_input": "2021-01-18T10:43:19.253823Z",
     "iopub.status.busy": "2021-01-18T10:43:19.253494Z",
     "iopub.status.idle": "2021-01-18T10:43:19.481714Z",
     "shell.execute_reply": "2021-01-18T10:43:19.480605Z",
     "shell.execute_reply.started": "2021-01-18T10:43:19.253781Z"
    }
   },
   "outputs": [
    {
     "data": {
      "text/plain": [
       "False"
      ]
     },
     "execution_count": 13,
     "metadata": {},
     "output_type": "execute_result"
    }
   ],
   "source": [
    "any(np.all(glove_embedding_model.vectors == 0, axis=1))"
   ]
  },
  {
   "cell_type": "code",
   "execution_count": 14,
   "metadata": {
    "execution": {
     "iopub.execute_input": "2021-01-18T10:43:19.483711Z",
     "iopub.status.busy": "2021-01-18T10:43:19.483386Z",
     "iopub.status.idle": "2021-01-18T10:43:19.814122Z",
     "shell.execute_reply": "2021-01-18T10:43:19.813032Z",
     "shell.execute_reply.started": "2021-01-18T10:43:19.483669Z"
    }
   },
   "outputs": [
    {
     "data": {
      "text/plain": [
       "array([0., 0., 0., 0., 0., 0., 0., 0., 0., 0., 0., 0., 0., 0., 0., 0., 0.,\n",
       "       0., 0., 0., 0., 0., 0., 0., 0., 0., 0., 0., 0., 0., 0., 0., 0., 0.,\n",
       "       0., 0., 0., 0., 0., 0., 0., 0., 0., 0., 0., 0., 0., 0., 0., 0.],\n",
       "      dtype=float32)"
      ]
     },
     "execution_count": 14,
     "metadata": {},
     "output_type": "execute_result"
    }
   ],
   "source": [
    "glove_embedding_model.add(PAD_TOKEN, np.zeros((1, GLOVE_EMBEDDING_DIMENSION)))\n",
    "glove_embedding_model[PAD_TOKEN]"
   ]
  },
  {
   "cell_type": "code",
   "execution_count": 15,
   "metadata": {
    "execution": {
     "iopub.execute_input": "2021-01-18T10:43:19.818434Z",
     "iopub.status.busy": "2021-01-18T10:43:19.818088Z",
     "iopub.status.idle": "2021-01-18T10:43:19.959887Z",
     "shell.execute_reply": "2021-01-18T10:43:19.958741Z",
     "shell.execute_reply.started": "2021-01-18T10:43:19.818391Z"
    }
   },
   "outputs": [
    {
     "data": {
      "text/plain": [
       "'[PAD]'"
      ]
     },
     "execution_count": 15,
     "metadata": {},
     "output_type": "execute_result"
    }
   ],
   "source": [
    "list(glove_embedding_model.vocab.keys())[-1]"
   ]
  },
  {
   "cell_type": "code",
   "execution_count": 16,
   "metadata": {
    "execution": {
     "iopub.execute_input": "2021-01-18T10:43:19.962927Z",
     "iopub.status.busy": "2021-01-18T10:43:19.962579Z",
     "iopub.status.idle": "2021-01-18T10:43:20.028394Z",
     "shell.execute_reply": "2021-01-18T10:43:20.027142Z",
     "shell.execute_reply.started": "2021-01-18T10:43:19.962884Z"
    }
   },
   "outputs": [
    {
     "data": {
      "text/plain": [
       "(1193516, 50)"
      ]
     },
     "execution_count": 16,
     "metadata": {},
     "output_type": "execute_result"
    }
   ],
   "source": [
    "glove_embedding_model.vectors.shape"
   ]
  },
  {
   "cell_type": "code",
   "execution_count": 17,
   "metadata": {
    "execution": {
     "iopub.execute_input": "2021-01-18T10:43:20.030093Z",
     "iopub.status.busy": "2021-01-18T10:43:20.029782Z",
     "iopub.status.idle": "2021-01-18T10:43:20.654472Z",
     "shell.execute_reply": "2021-01-18T10:43:20.653038Z",
     "shell.execute_reply.started": "2021-01-18T10:43:20.030054Z"
    }
   },
   "outputs": [],
   "source": [
    "glove_vocab = dict(\n",
    "    zip(glove_embedding_model.index2word, range(len(glove_embedding_model.index2word)))\n",
    ")"
   ]
  },
  {
   "cell_type": "code",
   "execution_count": 18,
   "metadata": {
    "execution": {
     "iopub.execute_input": "2021-01-18T10:43:20.656759Z",
     "iopub.status.busy": "2021-01-18T10:43:20.656430Z",
     "iopub.status.idle": "2021-01-18T10:43:23.295971Z",
     "shell.execute_reply": "2021-01-18T10:43:23.294599Z",
     "shell.execute_reply.started": "2021-01-18T10:43:20.656716Z"
    }
   },
   "outputs": [],
   "source": [
    "glove_embedding_layer = nn.Embedding(\n",
    "    glove_embedding_model.vectors.shape[0],\n",
    "    GLOVE_EMBEDDING_DIMENSION,\n",
    "    padding_idx=glove_vocab[PAD_TOKEN],\n",
    ")\n",
    "glove_embedding_layer.weight = nn.Parameter(\n",
    "    torch.from_numpy(glove_embedding_model.vectors)\n",
    ")\n",
    "glove_embedding_layer.weight.requires_grad = False"
   ]
  },
  {
   "cell_type": "markdown",
   "metadata": {},
   "source": [
    "### Standard tokenizer and preprocessing"
   ]
  },
  {
   "cell_type": "code",
   "execution_count": 185,
   "metadata": {
    "execution": {
     "iopub.execute_input": "2021-01-18T13:38:48.083205Z",
     "iopub.status.busy": "2021-01-18T13:38:48.082778Z",
     "iopub.status.idle": "2021-01-18T13:38:48.150703Z",
     "shell.execute_reply": "2021-01-18T13:38:48.149464Z",
     "shell.execute_reply.started": "2021-01-18T13:38:48.083160Z"
    }
   },
   "outputs": [],
   "source": [
    "MAX_CONTEXT_TOKENS = 300"
   ]
  },
  {
   "cell_type": "code",
   "execution_count": 223,
   "metadata": {
    "execution": {
     "iopub.execute_input": "2021-01-18T13:54:33.731672Z",
     "iopub.status.busy": "2021-01-18T13:54:33.731336Z",
     "iopub.status.idle": "2021-01-18T13:54:37.337322Z",
     "shell.execute_reply": "2021-01-18T13:54:37.335498Z",
     "shell.execute_reply.started": "2021-01-18T13:54:33.731629Z"
    }
   },
   "outputs": [],
   "source": [
    "standard_question_tokenizer = Tokenizer(WordLevel(glove_vocab, unk_token=UNK_TOKEN))\n",
    "standard_question_tokenizer.normalizer = Sequence(\n",
    "    [StripAccents(), Lowercase(), Strip()]\n",
    ")\n",
    "standard_question_tokenizer.pre_tokenizer = PreSequence([Whitespace(), Punctuation()])\n",
    "standard_question_tokenizer.enable_padding(\n",
    "    direction=\"right\", pad_id=glove_vocab[PAD_TOKEN], pad_type_id=1, pad_token=PAD_TOKEN\n",
    ")\n",
    "\n",
    "standard_context_tokenizer = Tokenizer(WordLevel(glove_vocab, unk_token=UNK_TOKEN))\n",
    "standard_context_tokenizer.normalizer = Sequence([StripAccents(), Lowercase(), Strip()])\n",
    "standard_context_tokenizer.pre_tokenizer = PreSequence([Whitespace(), Punctuation()])\n",
    "standard_context_tokenizer.enable_padding(\n",
    "    direction=\"right\",\n",
    "    pad_id=glove_vocab[PAD_TOKEN],\n",
    "    pad_type_id=1,\n",
    "    pad_token=PAD_TOKEN,\n",
    "    length=MAX_CONTEXT_TOKENS,\n",
    ")\n",
    "standard_context_tokenizer.enable_truncation(MAX_CONTEXT_TOKENS)"
   ]
  },
  {
   "cell_type": "code",
   "execution_count": 224,
   "metadata": {
    "execution": {
     "iopub.execute_input": "2021-01-18T13:54:39.448638Z",
     "iopub.status.busy": "2021-01-18T13:54:39.448314Z",
     "iopub.status.idle": "2021-01-18T13:54:39.515206Z",
     "shell.execute_reply": "2021-01-18T13:54:39.514075Z",
     "shell.execute_reply.started": "2021-01-18T13:54:39.448596Z"
    }
   },
   "outputs": [],
   "source": [
    "standard_tokenizer = dataset.StandardSquadTokenizer(\n",
    "    standard_question_tokenizer, standard_context_tokenizer, device=DEVICE\n",
    ")"
   ]
  },
  {
   "cell_type": "code",
   "execution_count": 225,
   "metadata": {
    "execution": {
     "iopub.execute_input": "2021-01-18T13:54:39.517421Z",
     "iopub.status.busy": "2021-01-18T13:54:39.517110Z",
     "iopub.status.idle": "2021-01-18T13:54:40.434675Z",
     "shell.execute_reply": "2021-01-18T13:54:40.433083Z",
     "shell.execute_reply.started": "2021-01-18T13:54:39.517383Z"
    }
   },
   "outputs": [],
   "source": [
    "standard_dm = dataset.SquadDataManager(squad_dataset, standard_tokenizer, device=DEVICE)"
   ]
  },
  {
   "cell_type": "code",
   "execution_count": 226,
   "metadata": {
    "execution": {
     "iopub.execute_input": "2021-01-18T13:54:40.436368Z",
     "iopub.status.busy": "2021-01-18T13:54:40.436050Z",
     "iopub.status.idle": "2021-01-18T13:54:40.503341Z",
     "shell.execute_reply": "2021-01-18T13:54:40.502158Z",
     "shell.execute_reply.started": "2021-01-18T13:54:40.436326Z"
    }
   },
   "outputs": [],
   "source": [
    "standard_dm.tokenizer = standard_tokenizer"
   ]
  },
  {
   "cell_type": "code",
   "execution_count": 227,
   "metadata": {
    "execution": {
     "iopub.execute_input": "2021-01-18T13:54:40.505231Z",
     "iopub.status.busy": "2021-01-18T13:54:40.504926Z",
     "iopub.status.idle": "2021-01-18T13:54:40.606006Z",
     "shell.execute_reply": "2021-01-18T13:54:40.604757Z",
     "shell.execute_reply.started": "2021-01-18T13:54:40.505192Z"
    }
   },
   "outputs": [
    {
     "data": {
      "text/html": [
       "<div>\n",
       "<style scoped>\n",
       "    .dataframe tbody tr th:only-of-type {\n",
       "        vertical-align: middle;\n",
       "    }\n",
       "\n",
       "    .dataframe tbody tr th {\n",
       "        vertical-align: top;\n",
       "    }\n",
       "\n",
       "    .dataframe thead th {\n",
       "        text-align: right;\n",
       "    }\n",
       "</style>\n",
       "<table border=\"1\" class=\"dataframe\">\n",
       "  <thead>\n",
       "    <tr style=\"text-align: right;\">\n",
       "      <th></th>\n",
       "      <th>question_id</th>\n",
       "      <th>question</th>\n",
       "      <th>title</th>\n",
       "      <th>context_id</th>\n",
       "      <th>context</th>\n",
       "      <th>answer</th>\n",
       "      <th>answer_start</th>\n",
       "      <th>answer_end</th>\n",
       "    </tr>\n",
       "  </thead>\n",
       "  <tbody>\n",
       "    <tr>\n",
       "      <th>0</th>\n",
       "      <td>56cc27346d243a140015eebe</td>\n",
       "      <td>The Tibetan leaders had a diplomacy with what ...</td>\n",
       "      <td>Sino-Tibetan_relations_during_the_Ming_dynasty</td>\n",
       "      <td>300</td>\n",
       "      <td>Some scholars note that Tibetan leaders during...</td>\n",
       "      <td>[Nepal]</td>\n",
       "      <td>[162]</td>\n",
       "      <td>[167]</td>\n",
       "    </tr>\n",
       "    <tr>\n",
       "      <th>1</th>\n",
       "      <td>56cd8ec662d2951400fa6706</td>\n",
       "      <td>Hostile spirits are also known as what?</td>\n",
       "      <td>The_Legend_of_Zelda:_Twilight_Princess</td>\n",
       "      <td>438</td>\n",
       "      <td>When Link enters the Twilight Realm, the void ...</td>\n",
       "      <td>[Poes]</td>\n",
       "      <td>[1014]</td>\n",
       "      <td>[1018]</td>\n",
       "    </tr>\n",
       "    <tr>\n",
       "      <th>2</th>\n",
       "      <td>56cda10262d2951400fa6793</td>\n",
       "      <td>Who was in charge of overseeing audio production?</td>\n",
       "      <td>The_Legend_of_Zelda:_Twilight_Princess</td>\n",
       "      <td>452</td>\n",
       "      <td>The game's score was composed by Toru Minegish...</td>\n",
       "      <td>[Koji Kondo]</td>\n",
       "      <td>[84]</td>\n",
       "      <td>[94]</td>\n",
       "    </tr>\n",
       "    <tr>\n",
       "      <th>3</th>\n",
       "      <td>56cda64a62d2951400fa67c0</td>\n",
       "      <td>In what areas is the content of the GameStop b...</td>\n",
       "      <td>The_Legend_of_Zelda:_Twilight_Princess</td>\n",
       "      <td>457</td>\n",
       "      <td>A CD containing 20 musical selections from the...</td>\n",
       "      <td>[Japan, Europe, and Australia]</td>\n",
       "      <td>[150]</td>\n",
       "      <td>[178]</td>\n",
       "    </tr>\n",
       "    <tr>\n",
       "      <th>4</th>\n",
       "      <td>56ce3631aab44d1400b885d1</td>\n",
       "      <td>What date did To Kill a Mockingbird begin to c...</td>\n",
       "      <td>To_Kill_a_Mockingbird</td>\n",
       "      <td>738</td>\n",
       "      <td>Ultimately, Lee spent over two and a half year...</td>\n",
       "      <td>[July 11, 1960]</td>\n",
       "      <td>[105]</td>\n",
       "      <td>[118]</td>\n",
       "    </tr>\n",
       "    <tr>\n",
       "      <th>...</th>\n",
       "      <td>...</td>\n",
       "      <td>...</td>\n",
       "      <td>...</td>\n",
       "      <td>...</td>\n",
       "      <td>...</td>\n",
       "      <td>...</td>\n",
       "      <td>...</td>\n",
       "      <td>...</td>\n",
       "    </tr>\n",
       "    <tr>\n",
       "      <th>694</th>\n",
       "      <td>5733d4c24776f41900661306</td>\n",
       "      <td>What also happened in 1939 besides tyrothricin?</td>\n",
       "      <td>Antibiotics</td>\n",
       "      <td>211</td>\n",
       "      <td>In 1939, coinciding with the start of World Wa...</td>\n",
       "      <td>[start of World War II,]</td>\n",
       "      <td>[29]</td>\n",
       "      <td>[51]</td>\n",
       "    </tr>\n",
       "    <tr>\n",
       "      <th>695</th>\n",
       "      <td>57342435d058e614000b69e6</td>\n",
       "      <td>What electronic charge do cellular molecules h...</td>\n",
       "      <td>Infection</td>\n",
       "      <td>18780</td>\n",
       "      <td>Other microscopic procedures may also aid in i...</td>\n",
       "      <td>[negatively charged]</td>\n",
       "      <td>[179]</td>\n",
       "      <td>[197]</td>\n",
       "    </tr>\n",
       "    <tr>\n",
       "      <th>696</th>\n",
       "      <td>573424434776f41900661944</td>\n",
       "      <td>What city saw the largest growth?</td>\n",
       "      <td>Montana</td>\n",
       "      <td>155</td>\n",
       "      <td>The United States Census Bureau estimates that...</td>\n",
       "      <td>[Kalispell]</td>\n",
       "      <td>[561]</td>\n",
       "      <td>[570]</td>\n",
       "    </tr>\n",
       "    <tr>\n",
       "      <th>697</th>\n",
       "      <td>5735f8bc012e2f140011a106</td>\n",
       "      <td>What scriptures describe hunting as and accept...</td>\n",
       "      <td>Hunting</td>\n",
       "      <td>18805</td>\n",
       "      <td>Hindu scriptures describe hunting as an accept...</td>\n",
       "      <td>[Hindu]</td>\n",
       "      <td>[0]</td>\n",
       "      <td>[5]</td>\n",
       "    </tr>\n",
       "    <tr>\n",
       "      <th>698</th>\n",
       "      <td>57361c88012e2f140011a1a7</td>\n",
       "      <td>Who are federal excise taxes are distributed to?</td>\n",
       "      <td>Hunting</td>\n",
       "      <td>18818</td>\n",
       "      <td>Each year, nearly $200 million in hunters' fed...</td>\n",
       "      <td>[state agencies]</td>\n",
       "      <td>[83]</td>\n",
       "      <td>[97]</td>\n",
       "    </tr>\n",
       "  </tbody>\n",
       "</table>\n",
       "<p>699 rows × 8 columns</p>\n",
       "</div>"
      ],
      "text/plain": [
       "                  question_id  \\\n",
       "0    56cc27346d243a140015eebe   \n",
       "1    56cd8ec662d2951400fa6706   \n",
       "2    56cda10262d2951400fa6793   \n",
       "3    56cda64a62d2951400fa67c0   \n",
       "4    56ce3631aab44d1400b885d1   \n",
       "..                        ...   \n",
       "694  5733d4c24776f41900661306   \n",
       "695  57342435d058e614000b69e6   \n",
       "696  573424434776f41900661944   \n",
       "697  5735f8bc012e2f140011a106   \n",
       "698  57361c88012e2f140011a1a7   \n",
       "\n",
       "                                              question  \\\n",
       "0    The Tibetan leaders had a diplomacy with what ...   \n",
       "1              Hostile spirits are also known as what?   \n",
       "2    Who was in charge of overseeing audio production?   \n",
       "3    In what areas is the content of the GameStop b...   \n",
       "4    What date did To Kill a Mockingbird begin to c...   \n",
       "..                                                 ...   \n",
       "694    What also happened in 1939 besides tyrothricin?   \n",
       "695  What electronic charge do cellular molecules h...   \n",
       "696                  What city saw the largest growth?   \n",
       "697  What scriptures describe hunting as and accept...   \n",
       "698   Who are federal excise taxes are distributed to?   \n",
       "\n",
       "                                              title  context_id  \\\n",
       "0    Sino-Tibetan_relations_during_the_Ming_dynasty         300   \n",
       "1            The_Legend_of_Zelda:_Twilight_Princess         438   \n",
       "2            The_Legend_of_Zelda:_Twilight_Princess         452   \n",
       "3            The_Legend_of_Zelda:_Twilight_Princess         457   \n",
       "4                             To_Kill_a_Mockingbird         738   \n",
       "..                                              ...         ...   \n",
       "694                                     Antibiotics         211   \n",
       "695                                       Infection       18780   \n",
       "696                                         Montana         155   \n",
       "697                                         Hunting       18805   \n",
       "698                                         Hunting       18818   \n",
       "\n",
       "                                               context  \\\n",
       "0    Some scholars note that Tibetan leaders during...   \n",
       "1    When Link enters the Twilight Realm, the void ...   \n",
       "2    The game's score was composed by Toru Minegish...   \n",
       "3    A CD containing 20 musical selections from the...   \n",
       "4    Ultimately, Lee spent over two and a half year...   \n",
       "..                                                 ...   \n",
       "694  In 1939, coinciding with the start of World Wa...   \n",
       "695  Other microscopic procedures may also aid in i...   \n",
       "696  The United States Census Bureau estimates that...   \n",
       "697  Hindu scriptures describe hunting as an accept...   \n",
       "698  Each year, nearly $200 million in hunters' fed...   \n",
       "\n",
       "                             answer answer_start answer_end  \n",
       "0                           [Nepal]        [162]      [167]  \n",
       "1                            [Poes]       [1014]     [1018]  \n",
       "2                      [Koji Kondo]         [84]       [94]  \n",
       "3    [Japan, Europe, and Australia]        [150]      [178]  \n",
       "4                   [July 11, 1960]        [105]      [118]  \n",
       "..                              ...          ...        ...  \n",
       "694        [start of World War II,]         [29]       [51]  \n",
       "695            [negatively charged]        [179]      [197]  \n",
       "696                     [Kalispell]        [561]      [570]  \n",
       "697                         [Hindu]          [0]        [5]  \n",
       "698                [state agencies]         [83]       [97]  \n",
       "\n",
       "[699 rows x 8 columns]"
      ]
     },
     "execution_count": 227,
     "metadata": {},
     "output_type": "execute_result"
    }
   ],
   "source": [
    "standard_dm.train_df"
   ]
  },
  {
   "cell_type": "code",
   "execution_count": 228,
   "metadata": {
    "execution": {
     "iopub.execute_input": "2021-01-18T13:54:40.607836Z",
     "iopub.status.busy": "2021-01-18T13:54:40.607517Z",
     "iopub.status.idle": "2021-01-18T13:54:40.706174Z",
     "shell.execute_reply": "2021-01-18T13:54:40.705042Z",
     "shell.execute_reply.started": "2021-01-18T13:54:40.607797Z"
    }
   },
   "outputs": [
    {
     "data": {
      "text/html": [
       "<div>\n",
       "<style scoped>\n",
       "    .dataframe tbody tr th:only-of-type {\n",
       "        vertical-align: middle;\n",
       "    }\n",
       "\n",
       "    .dataframe tbody tr th {\n",
       "        vertical-align: top;\n",
       "    }\n",
       "\n",
       "    .dataframe thead th {\n",
       "        text-align: right;\n",
       "    }\n",
       "</style>\n",
       "<table border=\"1\" class=\"dataframe\">\n",
       "  <thead>\n",
       "    <tr style=\"text-align: right;\">\n",
       "      <th></th>\n",
       "      <th>question_id</th>\n",
       "      <th>question</th>\n",
       "      <th>title</th>\n",
       "      <th>context_id</th>\n",
       "      <th>context</th>\n",
       "      <th>answer</th>\n",
       "      <th>answer_start</th>\n",
       "      <th>answer_end</th>\n",
       "    </tr>\n",
       "  </thead>\n",
       "  <tbody>\n",
       "    <tr>\n",
       "      <th>0</th>\n",
       "      <td>56be99b53aeaaa14008c913f</td>\n",
       "      <td>Who did Beyonce donate the money to earned fro...</td>\n",
       "      <td>Beyoncé</td>\n",
       "      <td>73</td>\n",
       "      <td>In 2011, documents obtained by WikiLeaks revea...</td>\n",
       "      <td>[Clinton Bush Haiti Fund]</td>\n",
       "      <td>[367]</td>\n",
       "      <td>[390]</td>\n",
       "    </tr>\n",
       "    <tr>\n",
       "      <th>1</th>\n",
       "      <td>56beb5b23aeaaa14008c9287</td>\n",
       "      <td>Beyonce was coached for her Spanish songs by w...</td>\n",
       "      <td>Beyoncé</td>\n",
       "      <td>90</td>\n",
       "      <td>Beyoncé's music is generally R&amp;B, but she also...</td>\n",
       "      <td>[Rudy Perez]</td>\n",
       "      <td>[516]</td>\n",
       "      <td>[526]</td>\n",
       "    </tr>\n",
       "    <tr>\n",
       "      <th>2</th>\n",
       "      <td>56bed07e3aeaaa14008c94a9</td>\n",
       "      <td>Which soda company has Beyonce partnered with ...</td>\n",
       "      <td>Beyoncé</td>\n",
       "      <td>110</td>\n",
       "      <td>Beyoncé has worked with Pepsi since 2002, and ...</td>\n",
       "      <td>[Pepsi]</td>\n",
       "      <td>[24]</td>\n",
       "      <td>[29]</td>\n",
       "    </tr>\n",
       "    <tr>\n",
       "      <th>3</th>\n",
       "      <td>56bfda91a10cfb1400551339</td>\n",
       "      <td>What did she agree to do for 50 million dollar...</td>\n",
       "      <td>Beyoncé</td>\n",
       "      <td>110</td>\n",
       "      <td>Beyoncé has worked with Pepsi since 2002, and ...</td>\n",
       "      <td>[endorse Pepsi]</td>\n",
       "      <td>[191]</td>\n",
       "      <td>[204]</td>\n",
       "    </tr>\n",
       "    <tr>\n",
       "      <th>4</th>\n",
       "      <td>56cbdfbf6d243a140015edba</td>\n",
       "      <td>What short poem spoke of Frédéric's popularity...</td>\n",
       "      <td>Frédéric_Chopin</td>\n",
       "      <td>225</td>\n",
       "      <td>In 1817 the Saxon Palace was requisitioned by ...</td>\n",
       "      <td>[Nasze Przebiegi]</td>\n",
       "      <td>[566]</td>\n",
       "      <td>[581]</td>\n",
       "    </tr>\n",
       "    <tr>\n",
       "      <th>...</th>\n",
       "      <td>...</td>\n",
       "      <td>...</td>\n",
       "      <td>...</td>\n",
       "      <td>...</td>\n",
       "      <td>...</td>\n",
       "      <td>...</td>\n",
       "      <td>...</td>\n",
       "      <td>...</td>\n",
       "    </tr>\n",
       "    <tr>\n",
       "      <th>166</th>\n",
       "      <td>573220fce99e3014001e653a</td>\n",
       "      <td>What means guaranteed the Jews and Judaism in ...</td>\n",
       "      <td>Religion_in_ancient_Rome</td>\n",
       "      <td>18187</td>\n",
       "      <td>For at least a century before the establishmen...</td>\n",
       "      <td>[treaty]</td>\n",
       "      <td>[130]</td>\n",
       "      <td>[136]</td>\n",
       "    </tr>\n",
       "    <tr>\n",
       "      <th>167</th>\n",
       "      <td>5732321ce17f3d1400422717</td>\n",
       "      <td>What edict defined imperial ideas as being tho...</td>\n",
       "      <td>Religion_in_ancient_Rome</td>\n",
       "      <td>18194</td>\n",
       "      <td>Constantine successfully balanced his own role...</td>\n",
       "      <td>[edict of Milan]</td>\n",
       "      <td>[238]</td>\n",
       "      <td>[252]</td>\n",
       "    </tr>\n",
       "    <tr>\n",
       "      <th>168</th>\n",
       "      <td>573409fbd058e614000b684a</td>\n",
       "      <td>When did the mail stagecoaches stop running?</td>\n",
       "      <td>Tucson,_Arizona</td>\n",
       "      <td>16601</td>\n",
       "      <td>Arizona, south of the Gila River was legally b...</td>\n",
       "      <td>[August 1861]</td>\n",
       "      <td>[611]</td>\n",
       "      <td>[622]</td>\n",
       "    </tr>\n",
       "    <tr>\n",
       "      <th>169</th>\n",
       "      <td>57340b224776f4190066179d</td>\n",
       "      <td>What was Tucson's population in 2006?</td>\n",
       "      <td>Tucson,_Arizona</td>\n",
       "      <td>16603</td>\n",
       "      <td>By 1900, 7,531 people lived in the city. The p...</td>\n",
       "      <td>[535,000]</td>\n",
       "      <td>[608]</td>\n",
       "      <td>[615]</td>\n",
       "    </tr>\n",
       "    <tr>\n",
       "      <th>170</th>\n",
       "      <td>5734291d4776f419006619d6</td>\n",
       "      <td>Who was nearly assassinated in Casas Adobes?</td>\n",
       "      <td>Tucson,_Arizona</td>\n",
       "      <td>16616</td>\n",
       "      <td>The community of Casas Adobes is also on the N...</td>\n",
       "      <td>[Representative Gabrielle Giffords]</td>\n",
       "      <td>[381]</td>\n",
       "      <td>[414]</td>\n",
       "    </tr>\n",
       "  </tbody>\n",
       "</table>\n",
       "<p>171 rows × 8 columns</p>\n",
       "</div>"
      ],
      "text/plain": [
       "                  question_id  \\\n",
       "0    56be99b53aeaaa14008c913f   \n",
       "1    56beb5b23aeaaa14008c9287   \n",
       "2    56bed07e3aeaaa14008c94a9   \n",
       "3    56bfda91a10cfb1400551339   \n",
       "4    56cbdfbf6d243a140015edba   \n",
       "..                        ...   \n",
       "166  573220fce99e3014001e653a   \n",
       "167  5732321ce17f3d1400422717   \n",
       "168  573409fbd058e614000b684a   \n",
       "169  57340b224776f4190066179d   \n",
       "170  5734291d4776f419006619d6   \n",
       "\n",
       "                                              question  \\\n",
       "0    Who did Beyonce donate the money to earned fro...   \n",
       "1    Beyonce was coached for her Spanish songs by w...   \n",
       "2    Which soda company has Beyonce partnered with ...   \n",
       "3    What did she agree to do for 50 million dollar...   \n",
       "4    What short poem spoke of Frédéric's popularity...   \n",
       "..                                                 ...   \n",
       "166  What means guaranteed the Jews and Judaism in ...   \n",
       "167  What edict defined imperial ideas as being tho...   \n",
       "168       When did the mail stagecoaches stop running?   \n",
       "169              What was Tucson's population in 2006?   \n",
       "170       Who was nearly assassinated in Casas Adobes?   \n",
       "\n",
       "                        title  context_id  \\\n",
       "0                     Beyoncé          73   \n",
       "1                     Beyoncé          90   \n",
       "2                     Beyoncé         110   \n",
       "3                     Beyoncé         110   \n",
       "4             Frédéric_Chopin         225   \n",
       "..                        ...         ...   \n",
       "166  Religion_in_ancient_Rome       18187   \n",
       "167  Religion_in_ancient_Rome       18194   \n",
       "168           Tucson,_Arizona       16601   \n",
       "169           Tucson,_Arizona       16603   \n",
       "170           Tucson,_Arizona       16616   \n",
       "\n",
       "                                               context  \\\n",
       "0    In 2011, documents obtained by WikiLeaks revea...   \n",
       "1    Beyoncé's music is generally R&B, but she also...   \n",
       "2    Beyoncé has worked with Pepsi since 2002, and ...   \n",
       "3    Beyoncé has worked with Pepsi since 2002, and ...   \n",
       "4    In 1817 the Saxon Palace was requisitioned by ...   \n",
       "..                                                 ...   \n",
       "166  For at least a century before the establishmen...   \n",
       "167  Constantine successfully balanced his own role...   \n",
       "168  Arizona, south of the Gila River was legally b...   \n",
       "169  By 1900, 7,531 people lived in the city. The p...   \n",
       "170  The community of Casas Adobes is also on the N...   \n",
       "\n",
       "                                  answer answer_start answer_end  \n",
       "0              [Clinton Bush Haiti Fund]        [367]      [390]  \n",
       "1                           [Rudy Perez]        [516]      [526]  \n",
       "2                                [Pepsi]         [24]       [29]  \n",
       "3                        [endorse Pepsi]        [191]      [204]  \n",
       "4                      [Nasze Przebiegi]        [566]      [581]  \n",
       "..                                   ...          ...        ...  \n",
       "166                             [treaty]        [130]      [136]  \n",
       "167                     [edict of Milan]        [238]      [252]  \n",
       "168                        [August 1861]        [611]      [622]  \n",
       "169                            [535,000]        [608]      [615]  \n",
       "170  [Representative Gabrielle Giffords]        [381]      [414]  \n",
       "\n",
       "[171 rows x 8 columns]"
      ]
     },
     "execution_count": 228,
     "metadata": {},
     "output_type": "execute_result"
    }
   ],
   "source": [
    "standard_dm.val_df"
   ]
  },
  {
   "cell_type": "code",
   "execution_count": 229,
   "metadata": {
    "execution": {
     "iopub.execute_input": "2021-01-18T13:54:40.709699Z",
     "iopub.status.busy": "2021-01-18T13:54:40.709386Z",
     "iopub.status.idle": "2021-01-18T13:54:40.809445Z",
     "shell.execute_reply": "2021-01-18T13:54:40.808338Z",
     "shell.execute_reply.started": "2021-01-18T13:54:40.709661Z"
    }
   },
   "outputs": [
    {
     "data": {
      "text/html": [
       "<div>\n",
       "<style scoped>\n",
       "    .dataframe tbody tr th:only-of-type {\n",
       "        vertical-align: middle;\n",
       "    }\n",
       "\n",
       "    .dataframe tbody tr th {\n",
       "        vertical-align: top;\n",
       "    }\n",
       "\n",
       "    .dataframe thead th {\n",
       "        text-align: right;\n",
       "    }\n",
       "</style>\n",
       "<table border=\"1\" class=\"dataframe\">\n",
       "  <thead>\n",
       "    <tr style=\"text-align: right;\">\n",
       "      <th></th>\n",
       "      <th>question_id</th>\n",
       "      <th>question</th>\n",
       "      <th>title</th>\n",
       "      <th>context_id</th>\n",
       "      <th>context</th>\n",
       "      <th>answer</th>\n",
       "      <th>answer_start</th>\n",
       "      <th>answer_end</th>\n",
       "    </tr>\n",
       "  </thead>\n",
       "  <tbody>\n",
       "    <tr>\n",
       "      <th>0</th>\n",
       "      <td>56beaa4a3aeaaa14008c91c3</td>\n",
       "      <td>Who did the Broncos prevent from going to the ...</td>\n",
       "      <td>Super_Bowl_50</td>\n",
       "      <td>1</td>\n",
       "      <td>The Panthers finished the regular season with ...</td>\n",
       "      <td>[the New England Patriots]</td>\n",
       "      <td>[368]</td>\n",
       "      <td>[392]</td>\n",
       "    </tr>\n",
       "    <tr>\n",
       "      <th>1</th>\n",
       "      <td>56beb4343aeaaa14008c925e</td>\n",
       "      <td>How many balls did Josh Norman intercept?</td>\n",
       "      <td>Super_Bowl_50</td>\n",
       "      <td>11</td>\n",
       "      <td>The Panthers defense gave up just 308 points, ...</td>\n",
       "      <td>[four]</td>\n",
       "      <td>[1104]</td>\n",
       "      <td>[1108]</td>\n",
       "    </tr>\n",
       "    <tr>\n",
       "      <th>2</th>\n",
       "      <td>56beb4343aeaaa14008c925f</td>\n",
       "      <td>Who registered the most sacks on the team this...</td>\n",
       "      <td>Super_Bowl_50</td>\n",
       "      <td>11</td>\n",
       "      <td>The Panthers defense gave up just 308 points, ...</td>\n",
       "      <td>[Short]</td>\n",
       "      <td>[199]</td>\n",
       "      <td>[204]</td>\n",
       "    </tr>\n",
       "    <tr>\n",
       "      <th>3</th>\n",
       "      <td>56beb90c3aeaaa14008c92c7</td>\n",
       "      <td>When was Manning picked #1 in the NFL Draft?</td>\n",
       "      <td>Super_Bowl_50</td>\n",
       "      <td>19</td>\n",
       "      <td>This was the first Super Bowl to feature a qua...</td>\n",
       "      <td>[1998]</td>\n",
       "      <td>[149]</td>\n",
       "      <td>[153]</td>\n",
       "    </tr>\n",
       "    <tr>\n",
       "      <th>4</th>\n",
       "      <td>56bec7a63aeaaa14008c941a</td>\n",
       "      <td>Who kicked a field goal for Denver?</td>\n",
       "      <td>Super_Bowl_50</td>\n",
       "      <td>45</td>\n",
       "      <td>Denver took the opening kickoff and started ou...</td>\n",
       "      <td>[McManus]</td>\n",
       "      <td>[544]</td>\n",
       "      <td>[551]</td>\n",
       "    </tr>\n",
       "    <tr>\n",
       "      <th>...</th>\n",
       "      <td>...</td>\n",
       "      <td>...</td>\n",
       "      <td>...</td>\n",
       "      <td>...</td>\n",
       "      <td>...</td>\n",
       "      <td>...</td>\n",
       "      <td>...</td>\n",
       "      <td>...</td>\n",
       "    </tr>\n",
       "    <tr>\n",
       "      <th>173</th>\n",
       "      <td>57373d0cc3c5551400e51e88</td>\n",
       "      <td>Where did Aristotle believe the natural place ...</td>\n",
       "      <td>Force</td>\n",
       "      <td>2025</td>\n",
       "      <td>Aristotle provided a philosophical discussion ...</td>\n",
       "      <td>[ground]</td>\n",
       "      <td>[388]</td>\n",
       "      <td>[394]</td>\n",
       "    </tr>\n",
       "    <tr>\n",
       "      <th>174</th>\n",
       "      <td>573792ee1c456719005744b9</td>\n",
       "      <td>What was dificult to reconcile the photoelectr...</td>\n",
       "      <td>Force</td>\n",
       "      <td>2053</td>\n",
       "      <td>However, attempting to reconcile electromagnet...</td>\n",
       "      <td>[electromagnetic theory]</td>\n",
       "      <td>[33]</td>\n",
       "      <td>[55]</td>\n",
       "    </tr>\n",
       "    <tr>\n",
       "      <th>175</th>\n",
       "      <td>5737958ac3c5551400e51f2b</td>\n",
       "      <td>What is needed to pack electrons densely toget...</td>\n",
       "      <td>Force</td>\n",
       "      <td>2054</td>\n",
       "      <td>It is a common misconception to ascribe the st...</td>\n",
       "      <td>[energy]</td>\n",
       "      <td>[579]</td>\n",
       "      <td>[585]</td>\n",
       "    </tr>\n",
       "    <tr>\n",
       "      <th>176</th>\n",
       "      <td>5737a4511c456719005744e1</td>\n",
       "      <td>To calculate instant angular acceleration of a...</td>\n",
       "      <td>Force</td>\n",
       "      <td>2061</td>\n",
       "      <td>Torque is the rotation equivalent of force in ...</td>\n",
       "      <td>[Newton's Second Law of Motion]</td>\n",
       "      <td>[375]</td>\n",
       "      <td>[404]</td>\n",
       "    </tr>\n",
       "    <tr>\n",
       "      <th>177</th>\n",
       "      <td>5737a9afc3c5551400e51f64</td>\n",
       "      <td>What is the law of thermodynamics associated w...</td>\n",
       "      <td>Force</td>\n",
       "      <td>2065</td>\n",
       "      <td>The connection between macroscopic nonconserva...</td>\n",
       "      <td>[Second law]</td>\n",
       "      <td>[331]</td>\n",
       "      <td>[341]</td>\n",
       "    </tr>\n",
       "  </tbody>\n",
       "</table>\n",
       "<p>178 rows × 8 columns</p>\n",
       "</div>"
      ],
      "text/plain": [
       "                  question_id  \\\n",
       "0    56beaa4a3aeaaa14008c91c3   \n",
       "1    56beb4343aeaaa14008c925e   \n",
       "2    56beb4343aeaaa14008c925f   \n",
       "3    56beb90c3aeaaa14008c92c7   \n",
       "4    56bec7a63aeaaa14008c941a   \n",
       "..                        ...   \n",
       "173  57373d0cc3c5551400e51e88   \n",
       "174  573792ee1c456719005744b9   \n",
       "175  5737958ac3c5551400e51f2b   \n",
       "176  5737a4511c456719005744e1   \n",
       "177  5737a9afc3c5551400e51f64   \n",
       "\n",
       "                                              question          title  \\\n",
       "0    Who did the Broncos prevent from going to the ...  Super_Bowl_50   \n",
       "1            How many balls did Josh Norman intercept?  Super_Bowl_50   \n",
       "2    Who registered the most sacks on the team this...  Super_Bowl_50   \n",
       "3         When was Manning picked #1 in the NFL Draft?  Super_Bowl_50   \n",
       "4                  Who kicked a field goal for Denver?  Super_Bowl_50   \n",
       "..                                                 ...            ...   \n",
       "173  Where did Aristotle believe the natural place ...          Force   \n",
       "174  What was dificult to reconcile the photoelectr...          Force   \n",
       "175  What is needed to pack electrons densely toget...          Force   \n",
       "176  To calculate instant angular acceleration of a...          Force   \n",
       "177  What is the law of thermodynamics associated w...          Force   \n",
       "\n",
       "     context_id                                            context  \\\n",
       "0             1  The Panthers finished the regular season with ...   \n",
       "1            11  The Panthers defense gave up just 308 points, ...   \n",
       "2            11  The Panthers defense gave up just 308 points, ...   \n",
       "3            19  This was the first Super Bowl to feature a qua...   \n",
       "4            45  Denver took the opening kickoff and started ou...   \n",
       "..          ...                                                ...   \n",
       "173        2025  Aristotle provided a philosophical discussion ...   \n",
       "174        2053  However, attempting to reconcile electromagnet...   \n",
       "175        2054  It is a common misconception to ascribe the st...   \n",
       "176        2061  Torque is the rotation equivalent of force in ...   \n",
       "177        2065  The connection between macroscopic nonconserva...   \n",
       "\n",
       "                              answer answer_start answer_end  \n",
       "0         [the New England Patriots]        [368]      [392]  \n",
       "1                             [four]       [1104]     [1108]  \n",
       "2                            [Short]        [199]      [204]  \n",
       "3                             [1998]        [149]      [153]  \n",
       "4                          [McManus]        [544]      [551]  \n",
       "..                               ...          ...        ...  \n",
       "173                         [ground]        [388]      [394]  \n",
       "174         [electromagnetic theory]         [33]       [55]  \n",
       "175                         [energy]        [579]      [585]  \n",
       "176  [Newton's Second Law of Motion]        [375]      [404]  \n",
       "177                     [Second law]        [331]      [341]  \n",
       "\n",
       "[178 rows x 8 columns]"
      ]
     },
     "execution_count": 229,
     "metadata": {},
     "output_type": "execute_result"
    }
   ],
   "source": [
    "standard_dm.test_df"
   ]
  },
  {
   "cell_type": "markdown",
   "metadata": {},
   "source": [
    "## Utils"
   ]
  },
  {
   "cell_type": "code",
   "execution_count": 23,
   "metadata": {
    "execution": {
     "iopub.execute_input": "2021-01-18T14:17:57.551950Z",
     "iopub.status.busy": "2021-01-18T14:17:57.551520Z",
     "iopub.status.idle": "2021-01-18T14:17:57.618088Z",
     "shell.execute_reply": "2021-01-18T14:17:57.616630Z",
     "shell.execute_reply.started": "2021-01-18T14:17:57.551906Z"
    }
   },
   "outputs": [],
   "source": [
    "TRAINER_ARGS = partial(\n",
    "    transformers.TrainingArguments,\n",
    "    output_dir=\"./checkpoints\",\n",
    "    logging_dir=\"./runs\",\n",
    "    logging_first_step=True,\n",
    "    logging_steps=5,\n",
    "    overwrite_output_dir=True,\n",
    "    load_best_model_at_end=True,\n",
    "    metric_for_best_model=\"f1\",\n",
    "    evaluation_strategy=\"epoch\",\n",
    "    learning_rate=1e-3,\n",
    "    num_train_epochs=1,\n",
    "    remove_unused_columns=False,\n",
    "    per_device_train_batch_size=64,\n",
    "    per_device_eval_batch_size=64,\n",
    "    label_names=[\"answers\"],\n",
    "    seed=RANDOM_SEED\n",
    ")"
   ]
  },
  {
   "cell_type": "markdown",
   "metadata": {},
   "source": [
    "## Baseline model"
   ]
  },
  {
   "cell_type": "code",
   "execution_count": 239,
   "metadata": {
    "execution": {
     "iopub.execute_input": "2021-01-18T14:08:23.857691Z",
     "iopub.status.busy": "2021-01-18T14:08:23.857251Z",
     "iopub.status.idle": "2021-01-18T14:08:23.943732Z",
     "shell.execute_reply": "2021-01-18T14:08:23.942612Z",
     "shell.execute_reply.started": "2021-01-18T14:08:23.857646Z"
    }
   },
   "outputs": [
    {
     "name": "stdout",
     "output_type": "stream",
     "text": [
      "The baseline model has 101400 parameters\n"
     ]
    }
   ],
   "source": [
    "baseline_model = model.QABaselineModel(glove_embedding_layer, MAX_CONTEXT_TOKENS, device=DEVICE)\n",
    "print(f\"The baseline model has {baseline_model.count_parameters()} parameters\")"
   ]
  },
  {
   "cell_type": "code",
   "execution_count": 240,
   "metadata": {
    "execution": {
     "iopub.execute_input": "2021-01-18T14:08:26.007941Z",
     "iopub.status.busy": "2021-01-18T14:08:26.007622Z",
     "iopub.status.idle": "2021-01-18T14:08:26.085929Z",
     "shell.execute_reply": "2021-01-18T14:08:26.084771Z",
     "shell.execute_reply.started": "2021-01-18T14:08:26.007899Z"
    }
   },
   "outputs": [],
   "source": [
    "baseline_args = TRAINER_ARGS()\n",
    "baseline_trainer = training.SquadTrainer(\n",
    "    model=baseline_model,\n",
    "    args=baseline_args,\n",
    "    data_collator=standard_dm.tokenizer,\n",
    "    train_dataset=standard_dm.train_dataset,\n",
    "    eval_dataset=standard_dm.val_dataset,\n",
    ")"
   ]
  },
  {
   "cell_type": "code",
   "execution_count": 198,
   "metadata": {
    "execution": {
     "iopub.execute_input": "2021-01-18T13:39:45.659195Z",
     "iopub.status.busy": "2021-01-18T13:39:45.658757Z",
     "iopub.status.idle": "2021-01-18T13:39:53.600289Z",
     "shell.execute_reply": "2021-01-18T13:39:53.598863Z",
     "shell.execute_reply.started": "2021-01-18T13:39:45.659150Z"
    }
   },
   "outputs": [
    {
     "data": {
      "text/html": [
       "...Successfully finished last run (ID:2nvw4wyt). Initializing new run:<br/><br/>"
      ],
      "text/plain": [
       "<IPython.core.display.HTML object>"
      ]
     },
     "metadata": {},
     "output_type": "display_data"
    },
    {
     "name": "stderr",
     "output_type": "stream",
     "text": [
      "\u001b[34m\u001b[1mwandb\u001b[0m: wandb version 0.10.14 is available!  To upgrade, please run:\n",
      "\u001b[34m\u001b[1mwandb\u001b[0m:  $ pip install wandb --upgrade\n"
     ]
    },
    {
     "data": {
      "text/html": [
       "\n",
       "                Tracking run with wandb version 0.10.13<br/>\n",
       "                Syncing run <strong style=\"color:#cdcd00\">2021-01-18 13:39:45</strong> to <a href=\"https://wandb.ai\" target=\"_blank\">Weights & Biases</a> <a href=\"https://docs.wandb.com/integrations/jupyter.html\" target=\"_blank\">(Documentation)</a>.<br/>\n",
       "                Project page: <a href=\"https://wandb.ai/wadaboa/squad-qa\" target=\"_blank\">https://wandb.ai/wadaboa/squad-qa</a><br/>\n",
       "                Run page: <a href=\"https://wandb.ai/wadaboa/squad-qa/runs/2cbsx7pg\" target=\"_blank\">https://wandb.ai/wadaboa/squad-qa/runs/2cbsx7pg</a><br/>\n",
       "                Run data is saved locally in <code>/root/jupyter/squad-question-answering/wandb/run-20210118_133945-2cbsx7pg</code><br/><br/>\n",
       "            "
      ],
      "text/plain": [
       "<IPython.core.display.HTML object>"
      ]
     },
     "metadata": {},
     "output_type": "display_data"
    }
   ],
   "source": [
    "baseline_run_name = utils.get_run_name()\n",
    "baseline_wandb_logger = init_wandb(\n",
    "    name=baseline_run_name, group=\"baseline\", reinit=True,\n",
    ")"
   ]
  },
  {
   "cell_type": "code",
   "execution_count": 241,
   "metadata": {
    "execution": {
     "iopub.execute_input": "2021-01-18T14:08:28.228952Z",
     "iopub.status.busy": "2021-01-18T14:08:28.228633Z",
     "iopub.status.idle": "2021-01-18T14:08:51.015933Z",
     "shell.execute_reply": "2021-01-18T14:08:51.014566Z",
     "shell.execute_reply.started": "2021-01-18T14:08:28.228910Z"
    }
   },
   "outputs": [
    {
     "data": {
      "text/html": [
       "\n",
       "    <div>\n",
       "        <style>\n",
       "            /* Turns off some styling */\n",
       "            progress {\n",
       "                /* gets rid of default border in Firefox and Opera. */\n",
       "                border: none;\n",
       "                /* Needs to be in here for Safari polyfill so background images work as expected. */\n",
       "                background-size: auto;\n",
       "            }\n",
       "        </style>\n",
       "      \n",
       "      <progress value='11' max='11' style='width:300px; height:20px; vertical-align: middle;'></progress>\n",
       "      [11/11 00:20, Epoch 1/1]\n",
       "    </div>\n",
       "    <table border=\"1\" class=\"dataframe\">\n",
       "  <thead>\n",
       "    <tr style=\"text-align: left;\">\n",
       "      <th>Epoch</th>\n",
       "      <th>Training Loss</th>\n",
       "      <th>Validation Loss</th>\n",
       "      <th>F1</th>\n",
       "      <th>Accuracy</th>\n",
       "      <th>Em</th>\n",
       "      <th>Runtime</th>\n",
       "      <th>Samples Per Second</th>\n",
       "    </tr>\n",
       "  </thead>\n",
       "  <tbody>\n",
       "    <tr>\n",
       "      <td>1</td>\n",
       "      <td>13.261600</td>\n",
       "      <td>13.711234</td>\n",
       "      <td>0.003027</td>\n",
       "      <td>0.011696</td>\n",
       "      <td>0.000000</td>\n",
       "      <td>2.084800</td>\n",
       "      <td>82.021000</td>\n",
       "    </tr>\n",
       "  </tbody>\n",
       "</table><p>"
      ],
      "text/plain": [
       "<IPython.core.display.HTML object>"
      ]
     },
     "metadata": {},
     "output_type": "display_data"
    },
    {
     "data": {
      "text/plain": [
       "TrainOutput(global_step=11, training_loss=13.365315350619229, metrics={'train_runtime': 22.6835, 'train_samples_per_second': 0.485, 'total_flos': 0, 'epoch': 1.0})"
      ]
     },
     "execution_count": 241,
     "metadata": {},
     "output_type": "execute_result"
    }
   ],
   "source": [
    "baseline_trainer.train()"
   ]
  },
  {
   "cell_type": "code",
   "execution_count": 242,
   "metadata": {
    "execution": {
     "iopub.execute_input": "2021-01-18T14:08:53.264196Z",
     "iopub.status.busy": "2021-01-18T14:08:53.263865Z",
     "iopub.status.idle": "2021-01-18T14:08:55.521027Z",
     "shell.execute_reply": "2021-01-18T14:08:55.519827Z",
     "shell.execute_reply.started": "2021-01-18T14:08:53.264154Z"
    }
   },
   "outputs": [
    {
     "data": {
      "text/html": [
       "\n",
       "    <div>\n",
       "        <style>\n",
       "            /* Turns off some styling */\n",
       "            progress {\n",
       "                /* gets rid of default border in Firefox and Opera. */\n",
       "                border: none;\n",
       "                /* Needs to be in here for Safari polyfill so background images work as expected. */\n",
       "                background-size: auto;\n",
       "            }\n",
       "        </style>\n",
       "      \n",
       "      <progress value='3' max='3' style='width:300px; height:20px; vertical-align: middle;'></progress>\n",
       "      [3/3 00:01]\n",
       "    </div>\n",
       "    "
      ],
      "text/plain": [
       "<IPython.core.display.HTML object>"
      ]
     },
     "metadata": {},
     "output_type": "display_data"
    }
   ],
   "source": [
    "baseline_test_output = baseline_trainer.predict(standard_dm.test_dataset)"
   ]
  },
  {
   "cell_type": "code",
   "execution_count": 243,
   "metadata": {
    "execution": {
     "iopub.execute_input": "2021-01-18T14:09:02.151339Z",
     "iopub.status.busy": "2021-01-18T14:09:02.150904Z",
     "iopub.status.idle": "2021-01-18T14:09:02.220496Z",
     "shell.execute_reply": "2021-01-18T14:09:02.219365Z",
     "shell.execute_reply.started": "2021-01-18T14:09:02.151293Z"
    }
   },
   "outputs": [
    {
     "data": {
      "text/plain": [
       "{'test_loss': 13.67077350616455,\n",
       " 'test_f1': 0.00019309864064133845,\n",
       " 'test_accuracy': 0.0056179775280898875,\n",
       " 'test_em': 0.0,\n",
       " 'test_runtime': 2.1768,\n",
       " 'test_samples_per_second': 81.772}"
      ]
     },
     "execution_count": 243,
     "metadata": {},
     "output_type": "execute_result"
    }
   ],
   "source": [
    "baseline_test_output.metrics"
   ]
  },
  {
   "cell_type": "code",
   "execution_count": 205,
   "metadata": {
    "execution": {
     "iopub.execute_input": "2021-01-18T13:41:23.727488Z",
     "iopub.status.busy": "2021-01-18T13:41:23.727162Z",
     "iopub.status.idle": "2021-01-18T13:41:23.800852Z",
     "shell.execute_reply": "2021-01-18T13:41:23.799755Z",
     "shell.execute_reply.started": "2021-01-18T13:41:23.727446Z"
    }
   },
   "outputs": [
    {
     "data": {
      "text/plain": [
       "['/root/jupyter/squad-question-answering/wandb/run-20210118_133945-2cbsx7pg/files/results/baseline.json']"
      ]
     },
     "execution_count": 205,
     "metadata": {},
     "output_type": "execute_result"
    }
   ],
   "source": [
    "baseline_answers_path = \"results/baseline.json\"\n",
    "utils.save_answers(baseline_answers_path, baseline_test_output.predictions[-1])\n",
    "baseline_wandb_logger.save(baseline_answers_path)"
   ]
  },
  {
   "cell_type": "code",
   "execution_count": 206,
   "metadata": {
    "execution": {
     "iopub.execute_input": "2021-01-18T13:41:53.014130Z",
     "iopub.status.busy": "2021-01-18T13:41:53.013653Z",
     "iopub.status.idle": "2021-01-18T13:41:56.555514Z",
     "shell.execute_reply": "2021-01-18T13:41:56.554121Z",
     "shell.execute_reply.started": "2021-01-18T13:41:53.014076Z"
    }
   },
   "outputs": [],
   "source": [
    "baseline_wandb_logger.finish()"
   ]
  },
  {
   "cell_type": "markdown",
   "metadata": {},
   "source": [
    "## BiDAF"
   ]
  },
  {
   "cell_type": "code",
   "execution_count": 244,
   "metadata": {
    "execution": {
     "iopub.execute_input": "2021-01-18T14:09:20.159352Z",
     "iopub.status.busy": "2021-01-18T14:09:20.158920Z",
     "iopub.status.idle": "2021-01-18T14:09:20.245141Z",
     "shell.execute_reply": "2021-01-18T14:09:20.244020Z",
     "shell.execute_reply.started": "2021-01-18T14:09:20.159305Z"
    }
   },
   "outputs": [
    {
     "name": "stdout",
     "output_type": "stream",
     "text": [
      "The BiDAF model has 314350 parameters\n"
     ]
    }
   ],
   "source": [
    "bidaf_model = model.QABiDAFModel(glove_embedding_layer, device=DEVICE)\n",
    "print(f\"The BiDAF model has {bidaf_model.count_parameters()} parameters\")"
   ]
  },
  {
   "cell_type": "code",
   "execution_count": 245,
   "metadata": {
    "execution": {
     "iopub.execute_input": "2021-01-18T14:09:22.354030Z",
     "iopub.status.busy": "2021-01-18T14:09:22.353711Z",
     "iopub.status.idle": "2021-01-18T14:09:22.423244Z",
     "shell.execute_reply": "2021-01-18T14:09:22.422028Z",
     "shell.execute_reply.started": "2021-01-18T14:09:22.353989Z"
    }
   },
   "outputs": [],
   "source": [
    "bidaf_optimizer = optim.Adadelta(bidaf_model.parameters(), lr=0.5)\n",
    "bidaf_lr_scheduler = optim.lr_scheduler.ExponentialLR(bidaf_optimizer, gamma=.999)"
   ]
  },
  {
   "cell_type": "code",
   "execution_count": 246,
   "metadata": {
    "execution": {
     "iopub.execute_input": "2021-01-18T14:09:22.425676Z",
     "iopub.status.busy": "2021-01-18T14:09:22.425365Z",
     "iopub.status.idle": "2021-01-18T14:09:22.498666Z",
     "shell.execute_reply": "2021-01-18T14:09:22.497457Z",
     "shell.execute_reply.started": "2021-01-18T14:09:22.425636Z"
    }
   },
   "outputs": [],
   "source": [
    "bidaf_args = TRAINER_ARGS()\n",
    "bidaf_trainer = training.SquadTrainer(\n",
    "    model=bidaf_model,\n",
    "    args=bidaf_args,\n",
    "    data_collator=standard_dm.tokenizer,\n",
    "    train_dataset=standard_dm.train_dataset,\n",
    "    eval_dataset=standard_dm.val_dataset,\n",
    "    optimizers=(bidaf_optimizer, bidaf_lr_scheduler),\n",
    ")"
   ]
  },
  {
   "cell_type": "code",
   "execution_count": 210,
   "metadata": {
    "execution": {
     "iopub.execute_input": "2021-01-18T13:42:59.640335Z",
     "iopub.status.busy": "2021-01-18T13:42:59.640014Z",
     "iopub.status.idle": "2021-01-18T13:43:02.087060Z",
     "shell.execute_reply": "2021-01-18T13:43:02.085395Z",
     "shell.execute_reply.started": "2021-01-18T13:42:59.640294Z"
    }
   },
   "outputs": [
    {
     "name": "stderr",
     "output_type": "stream",
     "text": [
      "\u001b[34m\u001b[1mwandb\u001b[0m: Currently logged in as: \u001b[33mwadaboa\u001b[0m (use `wandb login --relogin` to force relogin)\n",
      "\u001b[34m\u001b[1mwandb\u001b[0m: wandb version 0.10.14 is available!  To upgrade, please run:\n",
      "\u001b[34m\u001b[1mwandb\u001b[0m:  $ pip install wandb --upgrade\n"
     ]
    },
    {
     "data": {
      "text/html": [
       "\n",
       "                Tracking run with wandb version 0.10.13<br/>\n",
       "                Syncing run <strong style=\"color:#cdcd00\">2021-01-18 13:42:59</strong> to <a href=\"https://wandb.ai\" target=\"_blank\">Weights & Biases</a> <a href=\"https://docs.wandb.com/integrations/jupyter.html\" target=\"_blank\">(Documentation)</a>.<br/>\n",
       "                Project page: <a href=\"https://wandb.ai/wadaboa/squad-qa\" target=\"_blank\">https://wandb.ai/wadaboa/squad-qa</a><br/>\n",
       "                Run page: <a href=\"https://wandb.ai/wadaboa/squad-qa/runs/32zatxne\" target=\"_blank\">https://wandb.ai/wadaboa/squad-qa/runs/32zatxne</a><br/>\n",
       "                Run data is saved locally in <code>/root/jupyter/squad-question-answering/wandb/run-20210118_134259-32zatxne</code><br/><br/>\n",
       "            "
      ],
      "text/plain": [
       "<IPython.core.display.HTML object>"
      ]
     },
     "metadata": {},
     "output_type": "display_data"
    }
   ],
   "source": [
    "bidaf_run_name = utils.get_run_name()\n",
    "bidaf_wandb_logger = init_wandb(name=bidaf_run_name, group=\"bidaf\", reinit=True,)"
   ]
  },
  {
   "cell_type": "code",
   "execution_count": 247,
   "metadata": {
    "execution": {
     "iopub.execute_input": "2021-01-18T14:09:22.500417Z",
     "iopub.status.busy": "2021-01-18T14:09:22.500117Z",
     "iopub.status.idle": "2021-01-18T14:10:34.530040Z",
     "shell.execute_reply": "2021-01-18T14:10:34.528751Z",
     "shell.execute_reply.started": "2021-01-18T14:09:22.500379Z"
    }
   },
   "outputs": [
    {
     "data": {
      "text/html": [
       "\n",
       "    <div>\n",
       "        <style>\n",
       "            /* Turns off some styling */\n",
       "            progress {\n",
       "                /* gets rid of default border in Firefox and Opera. */\n",
       "                border: none;\n",
       "                /* Needs to be in here for Safari polyfill so background images work as expected. */\n",
       "                background-size: auto;\n",
       "            }\n",
       "        </style>\n",
       "      \n",
       "      <progress value='11' max='11' style='width:300px; height:20px; vertical-align: middle;'></progress>\n",
       "      [11/11 01:06, Epoch 1/1]\n",
       "    </div>\n",
       "    <table border=\"1\" class=\"dataframe\">\n",
       "  <thead>\n",
       "    <tr style=\"text-align: left;\">\n",
       "      <th>Epoch</th>\n",
       "      <th>Training Loss</th>\n",
       "      <th>Validation Loss</th>\n",
       "      <th>F1</th>\n",
       "      <th>Accuracy</th>\n",
       "      <th>Em</th>\n",
       "      <th>Runtime</th>\n",
       "      <th>Samples Per Second</th>\n",
       "    </tr>\n",
       "  </thead>\n",
       "  <tbody>\n",
       "    <tr>\n",
       "      <td>1</td>\n",
       "      <td>12.773800</td>\n",
       "      <td>13.520892</td>\n",
       "      <td>0.006754</td>\n",
       "      <td>0.011696</td>\n",
       "      <td>0.000000</td>\n",
       "      <td>6.014200</td>\n",
       "      <td>28.433000</td>\n",
       "    </tr>\n",
       "  </tbody>\n",
       "</table><p>"
      ],
      "text/plain": [
       "<IPython.core.display.HTML object>"
      ]
     },
     "metadata": {},
     "output_type": "display_data"
    },
    {
     "data": {
      "text/plain": [
       "TrainOutput(global_step=11, training_loss=12.868615410544656, metrics={'train_runtime': 71.9392, 'train_samples_per_second': 0.153, 'total_flos': 0, 'epoch': 1.0})"
      ]
     },
     "execution_count": 247,
     "metadata": {},
     "output_type": "execute_result"
    }
   ],
   "source": [
    "bidaf_trainer.train()"
   ]
  },
  {
   "cell_type": "code",
   "execution_count": 248,
   "metadata": {
    "execution": {
     "iopub.execute_input": "2021-01-18T14:10:42.017739Z",
     "iopub.status.busy": "2021-01-18T14:10:42.017408Z",
     "iopub.status.idle": "2021-01-18T14:10:48.891827Z",
     "shell.execute_reply": "2021-01-18T14:10:48.890711Z",
     "shell.execute_reply.started": "2021-01-18T14:10:42.017696Z"
    }
   },
   "outputs": [
    {
     "data": {
      "text/html": [
       "\n",
       "    <div>\n",
       "        <style>\n",
       "            /* Turns off some styling */\n",
       "            progress {\n",
       "                /* gets rid of default border in Firefox and Opera. */\n",
       "                border: none;\n",
       "                /* Needs to be in here for Safari polyfill so background images work as expected. */\n",
       "                background-size: auto;\n",
       "            }\n",
       "        </style>\n",
       "      \n",
       "      <progress value='3' max='3' style='width:300px; height:20px; vertical-align: middle;'></progress>\n",
       "      [3/3 00:04]\n",
       "    </div>\n",
       "    "
      ],
      "text/plain": [
       "<IPython.core.display.HTML object>"
      ]
     },
     "metadata": {},
     "output_type": "display_data"
    }
   ],
   "source": [
    "bidaf_test_output = bidaf_trainer.predict(standard_dm.test_dataset)"
   ]
  },
  {
   "cell_type": "code",
   "execution_count": 249,
   "metadata": {
    "execution": {
     "iopub.execute_input": "2021-01-18T14:10:48.894230Z",
     "iopub.status.busy": "2021-01-18T14:10:48.893623Z",
     "iopub.status.idle": "2021-01-18T14:10:48.962142Z",
     "shell.execute_reply": "2021-01-18T14:10:48.961151Z",
     "shell.execute_reply.started": "2021-01-18T14:10:48.894188Z"
    }
   },
   "outputs": [
    {
     "data": {
      "text/plain": [
       "{'test_loss': 13.101156234741211,\n",
       " 'test_f1': 0.004649616256759114,\n",
       " 'test_accuracy': 0.011235955056179775,\n",
       " 'test_em': 0.0,\n",
       " 'test_runtime': 6.7952,\n",
       " 'test_samples_per_second': 26.195}"
      ]
     },
     "execution_count": 249,
     "metadata": {},
     "output_type": "execute_result"
    }
   ],
   "source": [
    "bidaf_test_output.metrics"
   ]
  },
  {
   "cell_type": "code",
   "execution_count": null,
   "metadata": {},
   "outputs": [],
   "source": [
    "bidaf_answers_path = \"results/bidaf.json\"\n",
    "utils.save_answers(bidaf_answers_path, bidaf_test_output.predictions[-1])\n",
    "bidaf_wandb_logger.save(bidaf_answers_path)"
   ]
  },
  {
   "cell_type": "code",
   "execution_count": 601,
   "metadata": {
    "execution": {
     "iopub.execute_input": "2021-01-17T10:04:58.910419Z",
     "iopub.status.busy": "2021-01-17T10:04:58.910063Z",
     "iopub.status.idle": "2021-01-17T10:05:02.449100Z",
     "shell.execute_reply": "2021-01-17T10:05:02.448018Z",
     "shell.execute_reply.started": "2021-01-17T10:04:58.910378Z"
    }
   },
   "outputs": [
    {
     "data": {
      "text/html": [
       "<br/>Waiting for W&B process to finish, PID 31283<br/>Program ended successfully."
      ],
      "text/plain": [
       "<IPython.core.display.HTML object>"
      ]
     },
     "metadata": {},
     "output_type": "display_data"
    },
    {
     "data": {
      "application/vnd.jupyter.widget-view+json": {
       "model_id": "",
       "version_major": 2,
       "version_minor": 0
      },
      "text/plain": [
       "VBox(children=(Label(value=' 0.00MB of 0.00MB uploaded (0.00MB deduped)\\r'), FloatProgress(value=1.0, max=1.0)…"
      ]
     },
     "metadata": {},
     "output_type": "display_data"
    },
    {
     "data": {
      "text/html": [
       "Find user logs for this run at: <code>/root/jupyter/squad-question-answering/wandb/run-20210117_100436-3ozwqvns/logs/debug.log</code>"
      ],
      "text/plain": [
       "<IPython.core.display.HTML object>"
      ]
     },
     "metadata": {},
     "output_type": "display_data"
    },
    {
     "data": {
      "text/html": [
       "Find internal logs for this run at: <code>/root/jupyter/squad-question-answering/wandb/run-20210117_100436-3ozwqvns/logs/debug-internal.log</code>"
      ],
      "text/plain": [
       "<IPython.core.display.HTML object>"
      ]
     },
     "metadata": {},
     "output_type": "display_data"
    },
    {
     "data": {
      "text/html": [
       "Synced 4 W&B file(s), 0 media file(s), 0 artifact file(s) and 0 other file(s)"
      ],
      "text/plain": [
       "<IPython.core.display.HTML object>"
      ]
     },
     "metadata": {},
     "output_type": "display_data"
    },
    {
     "data": {
      "text/html": [
       "\n",
       "                    <br/>Synced <strong style=\"color:#cdcd00\">2021-01-17 10:04:36</strong>: <a href=\"https://wandb.ai/wadaboa/squad-qa/runs/3ozwqvns\" target=\"_blank\">https://wandb.ai/wadaboa/squad-qa/runs/3ozwqvns</a><br/>\n",
       "                "
      ],
      "text/plain": [
       "<IPython.core.display.HTML object>"
      ]
     },
     "metadata": {},
     "output_type": "display_data"
    }
   ],
   "source": [
    "bidaf_wandb_logger.finish()"
   ]
  },
  {
   "cell_type": "markdown",
   "metadata": {},
   "source": [
    "## BERT"
   ]
  },
  {
   "cell_type": "code",
   "execution_count": 27,
   "metadata": {
    "execution": {
     "iopub.execute_input": "2021-01-18T14:24:15.656582Z",
     "iopub.status.busy": "2021-01-18T14:24:15.656108Z",
     "iopub.status.idle": "2021-01-18T14:24:15.763668Z",
     "shell.execute_reply": "2021-01-18T14:24:15.762037Z",
     "shell.execute_reply.started": "2021-01-18T14:24:15.656528Z"
    }
   },
   "outputs": [],
   "source": [
    "MAX_BERT_TOKENS = 512"
   ]
  },
  {
   "cell_type": "code",
   "execution_count": 28,
   "metadata": {
    "execution": {
     "iopub.execute_input": "2021-01-18T14:24:15.866367Z",
     "iopub.status.busy": "2021-01-18T14:24:15.866049Z",
     "iopub.status.idle": "2021-01-18T14:24:24.954497Z",
     "shell.execute_reply": "2021-01-18T14:24:24.953014Z",
     "shell.execute_reply.started": "2021-01-18T14:24:15.866329Z"
    }
   },
   "outputs": [],
   "source": [
    "bert_model = model.QABertModel(device=DEVICE)"
   ]
  },
  {
   "cell_type": "code",
   "execution_count": 15,
   "metadata": {
    "execution": {
     "iopub.execute_input": "2021-01-18T14:17:42.499179Z",
     "iopub.status.busy": "2021-01-18T14:17:42.498737Z",
     "iopub.status.idle": "2021-01-18T14:17:42.643194Z",
     "shell.execute_reply": "2021-01-18T14:17:42.641677Z",
     "shell.execute_reply.started": "2021-01-18T14:17:42.499127Z"
    }
   },
   "outputs": [],
   "source": [
    "bert_wp_tokenizer = BertWordPieceTokenizer(\"data/bert-base-uncased-vocab.txt\", lowercase=True)\n",
    "bert_wp_tokenizer.enable_padding(\n",
    "    direction=\"right\",\n",
    "    pad_type_id=1,\n",
    ")\n",
    "bert_wp_tokenizer.enable_truncation(MAX_BERT_TOKENS)"
   ]
  },
  {
   "cell_type": "code",
   "execution_count": 16,
   "metadata": {
    "execution": {
     "iopub.execute_input": "2021-01-18T14:17:43.244702Z",
     "iopub.status.busy": "2021-01-18T14:17:43.244309Z",
     "iopub.status.idle": "2021-01-18T14:17:43.309405Z",
     "shell.execute_reply": "2021-01-18T14:17:43.308188Z",
     "shell.execute_reply.started": "2021-01-18T14:17:43.244659Z"
    }
   },
   "outputs": [],
   "source": [
    "bert_tokenizer = dataset.BertSquadTokenizer(bert_wp_tokenizer, device=DEVICE)"
   ]
  },
  {
   "cell_type": "code",
   "execution_count": 17,
   "metadata": {
    "execution": {
     "iopub.execute_input": "2021-01-18T14:17:43.643445Z",
     "iopub.status.busy": "2021-01-18T14:17:43.643087Z",
     "iopub.status.idle": "2021-01-18T14:17:44.636185Z",
     "shell.execute_reply": "2021-01-18T14:17:44.634613Z",
     "shell.execute_reply.started": "2021-01-18T14:17:43.643407Z"
    }
   },
   "outputs": [],
   "source": [
    "bert_dm = dataset.SquadDataManager(squad_dataset, bert_tokenizer, device=DEVICE)"
   ]
  },
  {
   "cell_type": "code",
   "execution_count": 18,
   "metadata": {
    "execution": {
     "iopub.execute_input": "2021-01-18T14:17:44.717122Z",
     "iopub.status.busy": "2021-01-18T14:17:44.716821Z",
     "iopub.status.idle": "2021-01-18T14:17:44.773975Z",
     "shell.execute_reply": "2021-01-18T14:17:44.772674Z",
     "shell.execute_reply.started": "2021-01-18T14:17:44.717084Z"
    }
   },
   "outputs": [],
   "source": [
    "bert_dm.tokenizer = bert_tokenizer"
   ]
  },
  {
   "cell_type": "code",
   "execution_count": 19,
   "metadata": {
    "execution": {
     "iopub.execute_input": "2021-01-18T14:17:44.850340Z",
     "iopub.status.busy": "2021-01-18T14:17:44.850017Z",
     "iopub.status.idle": "2021-01-18T14:17:44.949284Z",
     "shell.execute_reply": "2021-01-18T14:17:44.948109Z",
     "shell.execute_reply.started": "2021-01-18T14:17:44.850302Z"
    }
   },
   "outputs": [
    {
     "data": {
      "text/html": [
       "<div>\n",
       "<style scoped>\n",
       "    .dataframe tbody tr th:only-of-type {\n",
       "        vertical-align: middle;\n",
       "    }\n",
       "\n",
       "    .dataframe tbody tr th {\n",
       "        vertical-align: top;\n",
       "    }\n",
       "\n",
       "    .dataframe thead th {\n",
       "        text-align: right;\n",
       "    }\n",
       "</style>\n",
       "<table border=\"1\" class=\"dataframe\">\n",
       "  <thead>\n",
       "    <tr style=\"text-align: right;\">\n",
       "      <th></th>\n",
       "      <th>question_id</th>\n",
       "      <th>question</th>\n",
       "      <th>title</th>\n",
       "      <th>context_id</th>\n",
       "      <th>context</th>\n",
       "      <th>answer</th>\n",
       "      <th>answer_start</th>\n",
       "      <th>answer_end</th>\n",
       "    </tr>\n",
       "  </thead>\n",
       "  <tbody>\n",
       "    <tr>\n",
       "      <th>0</th>\n",
       "      <td>56cd788162d2951400fa65e7</td>\n",
       "      <td>What was Apple's highest quarterly profit as o...</td>\n",
       "      <td>IPod</td>\n",
       "      <td>415</td>\n",
       "      <td>On January 22, 2008, Apple reported the best q...</td>\n",
       "      <td>[$1.58 billion]</td>\n",
       "      <td>[184]</td>\n",
       "      <td>[197]</td>\n",
       "    </tr>\n",
       "    <tr>\n",
       "      <th>1</th>\n",
       "      <td>56cda41362d2951400fa679b</td>\n",
       "      <td>How many people would be in the orchestra Kond...</td>\n",
       "      <td>The_Legend_of_Zelda:_Twilight_Princess</td>\n",
       "      <td>453</td>\n",
       "      <td>Media requests at the trade show prompted Kond...</td>\n",
       "      <td>[50]</td>\n",
       "      <td>[217]</td>\n",
       "      <td>[219]</td>\n",
       "    </tr>\n",
       "    <tr>\n",
       "      <th>2</th>\n",
       "      <td>56cda8a662d2951400fa67d6</td>\n",
       "      <td>Where did Twilight Princess place among Wii ti...</td>\n",
       "      <td>The_Legend_of_Zelda:_Twilight_Princess</td>\n",
       "      <td>460</td>\n",
       "      <td>Twilight Princess received the awards for Best...</td>\n",
       "      <td>[4th]</td>\n",
       "      <td>[777]</td>\n",
       "      <td>[780]</td>\n",
       "    </tr>\n",
       "    <tr>\n",
       "      <th>3</th>\n",
       "      <td>56cdcfee62d2951400fa687a</td>\n",
       "      <td>Who performs research for Bond?</td>\n",
       "      <td>Spectre_(2015_film)</td>\n",
       "      <td>467</td>\n",
       "      <td>Bond disobeys M's order and travels to Rome to...</td>\n",
       "      <td>[Moneypenny]</td>\n",
       "      <td>[388]</td>\n",
       "      <td>[398]</td>\n",
       "    </tr>\n",
       "    <tr>\n",
       "      <th>4</th>\n",
       "      <td>56cdd28562d2951400fa68bd</td>\n",
       "      <td>Who does M fight with?</td>\n",
       "      <td>Spectre_(2015_film)</td>\n",
       "      <td>470</td>\n",
       "      <td>Bond and Swann return to London where they mee...</td>\n",
       "      <td>[C]</td>\n",
       "      <td>[105]</td>\n",
       "      <td>[106]</td>\n",
       "    </tr>\n",
       "    <tr>\n",
       "      <th>...</th>\n",
       "      <td>...</td>\n",
       "      <td>...</td>\n",
       "      <td>...</td>\n",
       "      <td>...</td>\n",
       "      <td>...</td>\n",
       "      <td>...</td>\n",
       "      <td>...</td>\n",
       "      <td>...</td>\n",
       "    </tr>\n",
       "    <tr>\n",
       "      <th>693</th>\n",
       "      <td>5734580c879d6814001ca544</td>\n",
       "      <td>What official is in charge of Richmond's execu...</td>\n",
       "      <td>Richmond,_Virginia</td>\n",
       "      <td>17037</td>\n",
       "      <td>Richmond city government consists of a city co...</td>\n",
       "      <td>[mayor]</td>\n",
       "      <td>[183]</td>\n",
       "      <td>[188]</td>\n",
       "    </tr>\n",
       "    <tr>\n",
       "      <th>694</th>\n",
       "      <td>57359c97e853931400426a3f</td>\n",
       "      <td>What is the English translation of Mandap?</td>\n",
       "      <td>Kathmandu</td>\n",
       "      <td>18835</td>\n",
       "      <td>The city of Kathmandu is named after Kasthaman...</td>\n",
       "      <td>[covered shelter]</td>\n",
       "      <td>[155]</td>\n",
       "      <td>[170]</td>\n",
       "    </tr>\n",
       "    <tr>\n",
       "      <th>695</th>\n",
       "      <td>57359f64e853931400426a7e</td>\n",
       "      <td>What notable Nepali figure died in a Kathmandu...</td>\n",
       "      <td>Kathmandu</td>\n",
       "      <td>18841</td>\n",
       "      <td>The Licchavi era was followed by the Malla era...</td>\n",
       "      <td>[Abhaya Malla]</td>\n",
       "      <td>[427]</td>\n",
       "      <td>[439]</td>\n",
       "    </tr>\n",
       "    <tr>\n",
       "      <th>696</th>\n",
       "      <td>5735a721e853931400426aa9</td>\n",
       "      <td>What are Madhyapur Thimi, Kirtipur and Bhaktapur?</td>\n",
       "      <td>Kathmandu</td>\n",
       "      <td>18846</td>\n",
       "      <td>The agglomeration of Kathmandu has not yet bee...</td>\n",
       "      <td>[municipalities]</td>\n",
       "      <td>[441]</td>\n",
       "      <td>[455]</td>\n",
       "    </tr>\n",
       "    <tr>\n",
       "      <th>697</th>\n",
       "      <td>5735ad64e853931400426abe</td>\n",
       "      <td>When did construction on the Tribhuvan Highway...</td>\n",
       "      <td>Kathmandu</td>\n",
       "      <td>18851</td>\n",
       "      <td>Tourism is considered another important indust...</td>\n",
       "      <td>[1956]</td>\n",
       "      <td>[201]</td>\n",
       "      <td>[205]</td>\n",
       "    </tr>\n",
       "  </tbody>\n",
       "</table>\n",
       "<p>698 rows × 8 columns</p>\n",
       "</div>"
      ],
      "text/plain": [
       "                  question_id  \\\n",
       "0    56cd788162d2951400fa65e7   \n",
       "1    56cda41362d2951400fa679b   \n",
       "2    56cda8a662d2951400fa67d6   \n",
       "3    56cdcfee62d2951400fa687a   \n",
       "4    56cdd28562d2951400fa68bd   \n",
       "..                        ...   \n",
       "693  5734580c879d6814001ca544   \n",
       "694  57359c97e853931400426a3f   \n",
       "695  57359f64e853931400426a7e   \n",
       "696  5735a721e853931400426aa9   \n",
       "697  5735ad64e853931400426abe   \n",
       "\n",
       "                                              question  \\\n",
       "0    What was Apple's highest quarterly profit as o...   \n",
       "1    How many people would be in the orchestra Kond...   \n",
       "2    Where did Twilight Princess place among Wii ti...   \n",
       "3                      Who performs research for Bond?   \n",
       "4                               Who does M fight with?   \n",
       "..                                                 ...   \n",
       "693  What official is in charge of Richmond's execu...   \n",
       "694         What is the English translation of Mandap?   \n",
       "695  What notable Nepali figure died in a Kathmandu...   \n",
       "696  What are Madhyapur Thimi, Kirtipur and Bhaktapur?   \n",
       "697  When did construction on the Tribhuvan Highway...   \n",
       "\n",
       "                                      title  context_id  \\\n",
       "0                                      IPod         415   \n",
       "1    The_Legend_of_Zelda:_Twilight_Princess         453   \n",
       "2    The_Legend_of_Zelda:_Twilight_Princess         460   \n",
       "3                       Spectre_(2015_film)         467   \n",
       "4                       Spectre_(2015_film)         470   \n",
       "..                                      ...         ...   \n",
       "693                      Richmond,_Virginia       17037   \n",
       "694                               Kathmandu       18835   \n",
       "695                               Kathmandu       18841   \n",
       "696                               Kathmandu       18846   \n",
       "697                               Kathmandu       18851   \n",
       "\n",
       "                                               context             answer  \\\n",
       "0    On January 22, 2008, Apple reported the best q...    [$1.58 billion]   \n",
       "1    Media requests at the trade show prompted Kond...               [50]   \n",
       "2    Twilight Princess received the awards for Best...              [4th]   \n",
       "3    Bond disobeys M's order and travels to Rome to...       [Moneypenny]   \n",
       "4    Bond and Swann return to London where they mee...                [C]   \n",
       "..                                                 ...                ...   \n",
       "693  Richmond city government consists of a city co...            [mayor]   \n",
       "694  The city of Kathmandu is named after Kasthaman...  [covered shelter]   \n",
       "695  The Licchavi era was followed by the Malla era...     [Abhaya Malla]   \n",
       "696  The agglomeration of Kathmandu has not yet bee...   [municipalities]   \n",
       "697  Tourism is considered another important indust...             [1956]   \n",
       "\n",
       "    answer_start answer_end  \n",
       "0          [184]      [197]  \n",
       "1          [217]      [219]  \n",
       "2          [777]      [780]  \n",
       "3          [388]      [398]  \n",
       "4          [105]      [106]  \n",
       "..           ...        ...  \n",
       "693        [183]      [188]  \n",
       "694        [155]      [170]  \n",
       "695        [427]      [439]  \n",
       "696        [441]      [455]  \n",
       "697        [201]      [205]  \n",
       "\n",
       "[698 rows x 8 columns]"
      ]
     },
     "execution_count": 19,
     "metadata": {},
     "output_type": "execute_result"
    }
   ],
   "source": [
    "bert_dm.train_df"
   ]
  },
  {
   "cell_type": "code",
   "execution_count": 20,
   "metadata": {
    "execution": {
     "iopub.execute_input": "2021-01-18T14:17:45.090106Z",
     "iopub.status.busy": "2021-01-18T14:17:45.089799Z",
     "iopub.status.idle": "2021-01-18T14:17:45.186019Z",
     "shell.execute_reply": "2021-01-18T14:17:45.184568Z",
     "shell.execute_reply.started": "2021-01-18T14:17:45.090068Z"
    }
   },
   "outputs": [
    {
     "data": {
      "text/html": [
       "<div>\n",
       "<style scoped>\n",
       "    .dataframe tbody tr th:only-of-type {\n",
       "        vertical-align: middle;\n",
       "    }\n",
       "\n",
       "    .dataframe tbody tr th {\n",
       "        vertical-align: top;\n",
       "    }\n",
       "\n",
       "    .dataframe thead th {\n",
       "        text-align: right;\n",
       "    }\n",
       "</style>\n",
       "<table border=\"1\" class=\"dataframe\">\n",
       "  <thead>\n",
       "    <tr style=\"text-align: right;\">\n",
       "      <th></th>\n",
       "      <th>question_id</th>\n",
       "      <th>question</th>\n",
       "      <th>title</th>\n",
       "      <th>context_id</th>\n",
       "      <th>context</th>\n",
       "      <th>answer</th>\n",
       "      <th>answer_start</th>\n",
       "      <th>answer_end</th>\n",
       "    </tr>\n",
       "  </thead>\n",
       "  <tbody>\n",
       "    <tr>\n",
       "      <th>0</th>\n",
       "      <td>56be8e353aeaaa14008c90c6</td>\n",
       "      <td>\"Charlie's Angels\" featured which single from ...</td>\n",
       "      <td>Beyoncé</td>\n",
       "      <td>63</td>\n",
       "      <td>The remaining band members recorded \"Independe...</td>\n",
       "      <td>[Independent Women Part I]</td>\n",
       "      <td>[37]</td>\n",
       "      <td>[61]</td>\n",
       "    </tr>\n",
       "    <tr>\n",
       "      <th>1</th>\n",
       "      <td>56be9eea3aeaaa14008c9184</td>\n",
       "      <td>How many awards did Beyonce take home with her...</td>\n",
       "      <td>Beyoncé</td>\n",
       "      <td>79</td>\n",
       "      <td>At the 57th Annual Grammy Awards in February 2...</td>\n",
       "      <td>[three]</td>\n",
       "      <td>[108]</td>\n",
       "      <td>[113]</td>\n",
       "    </tr>\n",
       "    <tr>\n",
       "      <th>2</th>\n",
       "      <td>56bf89cfa10cfb1400551163</td>\n",
       "      <td>What album caused a lawsuit to be filed in 2001?</td>\n",
       "      <td>Beyoncé</td>\n",
       "      <td>63</td>\n",
       "      <td>The remaining band members recorded \"Independe...</td>\n",
       "      <td>[Survivor]</td>\n",
       "      <td>[593]</td>\n",
       "      <td>[601]</td>\n",
       "    </tr>\n",
       "    <tr>\n",
       "      <th>3</th>\n",
       "      <td>56bf9c70a10cfb14005511bb</td>\n",
       "      <td>In what year did Beyonce have her hiatus?</td>\n",
       "      <td>Beyoncé</td>\n",
       "      <td>72</td>\n",
       "      <td>Beyoncé announced a hiatus from her music care...</td>\n",
       "      <td>[2010]</td>\n",
       "      <td>[60]</td>\n",
       "      <td>[64]</td>\n",
       "    </tr>\n",
       "    <tr>\n",
       "      <th>4</th>\n",
       "      <td>56cc27346d243a140015eebb</td>\n",
       "      <td>During what years did the Mongol leader Kublai...</td>\n",
       "      <td>Sino-Tibetan_relations_during_the_Ming_dynasty</td>\n",
       "      <td>300</td>\n",
       "      <td>Some scholars note that Tibetan leaders during...</td>\n",
       "      <td>[1402–1424]</td>\n",
       "      <td>[739]</td>\n",
       "      <td>[748]</td>\n",
       "    </tr>\n",
       "    <tr>\n",
       "      <th>...</th>\n",
       "      <td>...</td>\n",
       "      <td>...</td>\n",
       "      <td>...</td>\n",
       "      <td>...</td>\n",
       "      <td>...</td>\n",
       "      <td>...</td>\n",
       "      <td>...</td>\n",
       "      <td>...</td>\n",
       "    </tr>\n",
       "    <tr>\n",
       "      <th>168</th>\n",
       "      <td>57351496879d6814001cab11</td>\n",
       "      <td>Where can safari hunters go which are uninviti...</td>\n",
       "      <td>Hunting</td>\n",
       "      <td>18825</td>\n",
       "      <td>A variety of industries benefit from hunting a...</td>\n",
       "      <td>[remote areas]</td>\n",
       "      <td>[367]</td>\n",
       "      <td>[379]</td>\n",
       "    </tr>\n",
       "    <tr>\n",
       "      <th>169</th>\n",
       "      <td>5735fcb96c16ec1900b928c8</td>\n",
       "      <td>What forbid hunting in the woods with hounds a...</td>\n",
       "      <td>Hunting</td>\n",
       "      <td>18806</td>\n",
       "      <td>From early Christian times, hunting has been f...</td>\n",
       "      <td>[Corpus Juris Canonici]</td>\n",
       "      <td>[98]</td>\n",
       "      <td>[119]</td>\n",
       "    </tr>\n",
       "    <tr>\n",
       "      <th>170</th>\n",
       "      <td>5735ffb96c16ec1900b928e1</td>\n",
       "      <td>Game animals were introduced here by whom?</td>\n",
       "      <td>Hunting</td>\n",
       "      <td>18808</td>\n",
       "      <td>New Zealand has a strong hunting culture. The ...</td>\n",
       "      <td>[acclimatisation societies]</td>\n",
       "      <td>[189]</td>\n",
       "      <td>[214]</td>\n",
       "    </tr>\n",
       "    <tr>\n",
       "      <th>171</th>\n",
       "      <td>573605726c16ec1900b92906</td>\n",
       "      <td>Why are assistants used?</td>\n",
       "      <td>Hunting</td>\n",
       "      <td>18812</td>\n",
       "      <td>Shooting as practised in Britain, as opposed t...</td>\n",
       "      <td>[help load shotguns]</td>\n",
       "      <td>[305]</td>\n",
       "      <td>[323]</td>\n",
       "    </tr>\n",
       "    <tr>\n",
       "      <th>172</th>\n",
       "      <td>5736357e506b47140023659a</td>\n",
       "      <td>What do bison still remain?</td>\n",
       "      <td>Hunting</td>\n",
       "      <td>18831</td>\n",
       "      <td>The American bison is a large bovid which inha...</td>\n",
       "      <td>[near-threatened]</td>\n",
       "      <td>[516]</td>\n",
       "      <td>[531]</td>\n",
       "    </tr>\n",
       "  </tbody>\n",
       "</table>\n",
       "<p>173 rows × 8 columns</p>\n",
       "</div>"
      ],
      "text/plain": [
       "                  question_id  \\\n",
       "0    56be8e353aeaaa14008c90c6   \n",
       "1    56be9eea3aeaaa14008c9184   \n",
       "2    56bf89cfa10cfb1400551163   \n",
       "3    56bf9c70a10cfb14005511bb   \n",
       "4    56cc27346d243a140015eebb   \n",
       "..                        ...   \n",
       "168  57351496879d6814001cab11   \n",
       "169  5735fcb96c16ec1900b928c8   \n",
       "170  5735ffb96c16ec1900b928e1   \n",
       "171  573605726c16ec1900b92906   \n",
       "172  5736357e506b47140023659a   \n",
       "\n",
       "                                              question  \\\n",
       "0    \"Charlie's Angels\" featured which single from ...   \n",
       "1    How many awards did Beyonce take home with her...   \n",
       "2     What album caused a lawsuit to be filed in 2001?   \n",
       "3            In what year did Beyonce have her hiatus?   \n",
       "4    During what years did the Mongol leader Kublai...   \n",
       "..                                                 ...   \n",
       "168  Where can safari hunters go which are uninviti...   \n",
       "169  What forbid hunting in the woods with hounds a...   \n",
       "170         Game animals were introduced here by whom?   \n",
       "171                           Why are assistants used?   \n",
       "172                        What do bison still remain?   \n",
       "\n",
       "                                              title  context_id  \\\n",
       "0                                           Beyoncé          63   \n",
       "1                                           Beyoncé          79   \n",
       "2                                           Beyoncé          63   \n",
       "3                                           Beyoncé          72   \n",
       "4    Sino-Tibetan_relations_during_the_Ming_dynasty         300   \n",
       "..                                              ...         ...   \n",
       "168                                         Hunting       18825   \n",
       "169                                         Hunting       18806   \n",
       "170                                         Hunting       18808   \n",
       "171                                         Hunting       18812   \n",
       "172                                         Hunting       18831   \n",
       "\n",
       "                                               context  \\\n",
       "0    The remaining band members recorded \"Independe...   \n",
       "1    At the 57th Annual Grammy Awards in February 2...   \n",
       "2    The remaining band members recorded \"Independe...   \n",
       "3    Beyoncé announced a hiatus from her music care...   \n",
       "4    Some scholars note that Tibetan leaders during...   \n",
       "..                                                 ...   \n",
       "168  A variety of industries benefit from hunting a...   \n",
       "169  From early Christian times, hunting has been f...   \n",
       "170  New Zealand has a strong hunting culture. The ...   \n",
       "171  Shooting as practised in Britain, as opposed t...   \n",
       "172  The American bison is a large bovid which inha...   \n",
       "\n",
       "                          answer answer_start answer_end  \n",
       "0     [Independent Women Part I]         [37]       [61]  \n",
       "1                        [three]        [108]      [113]  \n",
       "2                     [Survivor]        [593]      [601]  \n",
       "3                         [2010]         [60]       [64]  \n",
       "4                    [1402–1424]        [739]      [748]  \n",
       "..                           ...          ...        ...  \n",
       "168               [remote areas]        [367]      [379]  \n",
       "169      [Corpus Juris Canonici]         [98]      [119]  \n",
       "170  [acclimatisation societies]        [189]      [214]  \n",
       "171         [help load shotguns]        [305]      [323]  \n",
       "172            [near-threatened]        [516]      [531]  \n",
       "\n",
       "[173 rows x 8 columns]"
      ]
     },
     "execution_count": 20,
     "metadata": {},
     "output_type": "execute_result"
    }
   ],
   "source": [
    "bert_dm.val_df"
   ]
  },
  {
   "cell_type": "code",
   "execution_count": 21,
   "metadata": {
    "execution": {
     "iopub.execute_input": "2021-01-18T14:17:46.533955Z",
     "iopub.status.busy": "2021-01-18T14:17:46.533645Z",
     "iopub.status.idle": "2021-01-18T14:17:46.629837Z",
     "shell.execute_reply": "2021-01-18T14:17:46.628369Z",
     "shell.execute_reply.started": "2021-01-18T14:17:46.533917Z"
    }
   },
   "outputs": [
    {
     "data": {
      "text/html": [
       "<div>\n",
       "<style scoped>\n",
       "    .dataframe tbody tr th:only-of-type {\n",
       "        vertical-align: middle;\n",
       "    }\n",
       "\n",
       "    .dataframe tbody tr th {\n",
       "        vertical-align: top;\n",
       "    }\n",
       "\n",
       "    .dataframe thead th {\n",
       "        text-align: right;\n",
       "    }\n",
       "</style>\n",
       "<table border=\"1\" class=\"dataframe\">\n",
       "  <thead>\n",
       "    <tr style=\"text-align: right;\">\n",
       "      <th></th>\n",
       "      <th>question_id</th>\n",
       "      <th>question</th>\n",
       "      <th>title</th>\n",
       "      <th>context_id</th>\n",
       "      <th>context</th>\n",
       "      <th>answer</th>\n",
       "      <th>answer_start</th>\n",
       "      <th>answer_end</th>\n",
       "    </tr>\n",
       "  </thead>\n",
       "  <tbody>\n",
       "    <tr>\n",
       "      <th>0</th>\n",
       "      <td>56be5438acb8001400a5031c</td>\n",
       "      <td>Which California venue was one of three consid...</td>\n",
       "      <td>Super_Bowl_50</td>\n",
       "      <td>5</td>\n",
       "      <td>The league eventually narrowed the bids to thr...</td>\n",
       "      <td>[San Francisco Bay Area's Levi's Stadium]</td>\n",
       "      <td>[128]</td>\n",
       "      <td>[167]</td>\n",
       "    </tr>\n",
       "    <tr>\n",
       "      <th>1</th>\n",
       "      <td>56be5523acb8001400a5032e</td>\n",
       "      <td>When did Lev's Stadium open?</td>\n",
       "      <td>Super_Bowl_50</td>\n",
       "      <td>7</td>\n",
       "      <td>On May 21, 2013, NFL owners at their spring me...</td>\n",
       "      <td>[2014]</td>\n",
       "      <td>[144]</td>\n",
       "      <td>[148]</td>\n",
       "    </tr>\n",
       "    <tr>\n",
       "      <th>2</th>\n",
       "      <td>56beab833aeaaa14008c91d2</td>\n",
       "      <td>Which Denver linebacker was named Super Bowl MVP?</td>\n",
       "      <td>Super_Bowl_50</td>\n",
       "      <td>2</td>\n",
       "      <td>The Broncos took an early lead in Super Bowl 5...</td>\n",
       "      <td>[linebacker Von Miller]</td>\n",
       "      <td>[237]</td>\n",
       "      <td>[258]</td>\n",
       "    </tr>\n",
       "    <tr>\n",
       "      <th>3</th>\n",
       "      <td>56beb6533aeaaa14008c9290</td>\n",
       "      <td>Who was first on the team in total tackles?</td>\n",
       "      <td>Super_Bowl_50</td>\n",
       "      <td>14</td>\n",
       "      <td>The Broncos' defense ranked first in the NFL y...</td>\n",
       "      <td>[Brandon Marshall]</td>\n",
       "      <td>[458]</td>\n",
       "      <td>[474]</td>\n",
       "    </tr>\n",
       "    <tr>\n",
       "      <th>4</th>\n",
       "      <td>56bebc383aeaaa14008c9321</td>\n",
       "      <td>What yard marker on the field was painted gold?</td>\n",
       "      <td>Super_Bowl_50</td>\n",
       "      <td>25</td>\n",
       "      <td>Various gold-themed promotions and initiatives...</td>\n",
       "      <td>[50]</td>\n",
       "      <td>[232]</td>\n",
       "      <td>[234]</td>\n",
       "    </tr>\n",
       "    <tr>\n",
       "      <th>...</th>\n",
       "      <td>...</td>\n",
       "      <td>...</td>\n",
       "      <td>...</td>\n",
       "      <td>...</td>\n",
       "      <td>...</td>\n",
       "      <td>...</td>\n",
       "      <td>...</td>\n",
       "      <td>...</td>\n",
       "    </tr>\n",
       "    <tr>\n",
       "      <th>176</th>\n",
       "      <td>57379829c3c5551400e51f3d</td>\n",
       "      <td>What does the W and Z boson exchange create?</td>\n",
       "      <td>Force</td>\n",
       "      <td>2056</td>\n",
       "      <td>The weak force is due to the exchange of the h...</td>\n",
       "      <td>[weak force]</td>\n",
       "      <td>[4]</td>\n",
       "      <td>[14]</td>\n",
       "    </tr>\n",
       "    <tr>\n",
       "      <th>177</th>\n",
       "      <td>57379a4b1c456719005744d0</td>\n",
       "      <td>What is the force that causes rigid strength i...</td>\n",
       "      <td>Force</td>\n",
       "      <td>2057</td>\n",
       "      <td>The normal force is due to repulsive forces of...</td>\n",
       "      <td>[normal]</td>\n",
       "      <td>[298]</td>\n",
       "      <td>[304]</td>\n",
       "    </tr>\n",
       "    <tr>\n",
       "      <th>178</th>\n",
       "      <td>57379ed81c456719005744d7</td>\n",
       "      <td>In what way do idea strings transmit tesion fo...</td>\n",
       "      <td>Force</td>\n",
       "      <td>2058</td>\n",
       "      <td>Tension forces can be modeled using ideal stri...</td>\n",
       "      <td>[instantaneously in action-reaction pairs]</td>\n",
       "      <td>[250]</td>\n",
       "      <td>[290]</td>\n",
       "    </tr>\n",
       "    <tr>\n",
       "      <th>179</th>\n",
       "      <td>5737a0acc3c5551400e51f4a</td>\n",
       "      <td>What may a force on one part of an object affect?</td>\n",
       "      <td>Force</td>\n",
       "      <td>2059</td>\n",
       "      <td>Newton's laws and Newtonian mechanics in gener...</td>\n",
       "      <td>[other parts]</td>\n",
       "      <td>[276]</td>\n",
       "      <td>[287]</td>\n",
       "    </tr>\n",
       "    <tr>\n",
       "      <th>180</th>\n",
       "      <td>5737a5931c456719005744e8</td>\n",
       "      <td>How do centripetal forces act in relation to v...</td>\n",
       "      <td>Force</td>\n",
       "      <td>2062</td>\n",
       "      <td>where  is the mass of the object,  is the velo...</td>\n",
       "      <td>[perpendicular]</td>\n",
       "      <td>[346]</td>\n",
       "      <td>[359]</td>\n",
       "    </tr>\n",
       "  </tbody>\n",
       "</table>\n",
       "<p>181 rows × 8 columns</p>\n",
       "</div>"
      ],
      "text/plain": [
       "                  question_id  \\\n",
       "0    56be5438acb8001400a5031c   \n",
       "1    56be5523acb8001400a5032e   \n",
       "2    56beab833aeaaa14008c91d2   \n",
       "3    56beb6533aeaaa14008c9290   \n",
       "4    56bebc383aeaaa14008c9321   \n",
       "..                        ...   \n",
       "176  57379829c3c5551400e51f3d   \n",
       "177  57379a4b1c456719005744d0   \n",
       "178  57379ed81c456719005744d7   \n",
       "179  5737a0acc3c5551400e51f4a   \n",
       "180  5737a5931c456719005744e8   \n",
       "\n",
       "                                              question          title  \\\n",
       "0    Which California venue was one of three consid...  Super_Bowl_50   \n",
       "1                         When did Lev's Stadium open?  Super_Bowl_50   \n",
       "2    Which Denver linebacker was named Super Bowl MVP?  Super_Bowl_50   \n",
       "3          Who was first on the team in total tackles?  Super_Bowl_50   \n",
       "4      What yard marker on the field was painted gold?  Super_Bowl_50   \n",
       "..                                                 ...            ...   \n",
       "176       What does the W and Z boson exchange create?          Force   \n",
       "177  What is the force that causes rigid strength i...          Force   \n",
       "178  In what way do idea strings transmit tesion fo...          Force   \n",
       "179  What may a force on one part of an object affect?          Force   \n",
       "180  How do centripetal forces act in relation to v...          Force   \n",
       "\n",
       "     context_id                                            context  \\\n",
       "0             5  The league eventually narrowed the bids to thr...   \n",
       "1             7  On May 21, 2013, NFL owners at their spring me...   \n",
       "2             2  The Broncos took an early lead in Super Bowl 5...   \n",
       "3            14  The Broncos' defense ranked first in the NFL y...   \n",
       "4            25  Various gold-themed promotions and initiatives...   \n",
       "..          ...                                                ...   \n",
       "176        2056  The weak force is due to the exchange of the h...   \n",
       "177        2057  The normal force is due to repulsive forces of...   \n",
       "178        2058  Tension forces can be modeled using ideal stri...   \n",
       "179        2059  Newton's laws and Newtonian mechanics in gener...   \n",
       "180        2062  where  is the mass of the object,  is the velo...   \n",
       "\n",
       "                                         answer answer_start answer_end  \n",
       "0     [San Francisco Bay Area's Levi's Stadium]        [128]      [167]  \n",
       "1                                        [2014]        [144]      [148]  \n",
       "2                       [linebacker Von Miller]        [237]      [258]  \n",
       "3                            [Brandon Marshall]        [458]      [474]  \n",
       "4                                          [50]        [232]      [234]  \n",
       "..                                          ...          ...        ...  \n",
       "176                                [weak force]          [4]       [14]  \n",
       "177                                    [normal]        [298]      [304]  \n",
       "178  [instantaneously in action-reaction pairs]        [250]      [290]  \n",
       "179                               [other parts]        [276]      [287]  \n",
       "180                             [perpendicular]        [346]      [359]  \n",
       "\n",
       "[181 rows x 8 columns]"
      ]
     },
     "execution_count": 21,
     "metadata": {},
     "output_type": "execute_result"
    }
   ],
   "source": [
    "bert_dm.test_df"
   ]
  },
  {
   "cell_type": "code",
   "execution_count": 29,
   "metadata": {
    "execution": {
     "iopub.execute_input": "2021-01-18T14:24:25.043900Z",
     "iopub.status.busy": "2021-01-18T14:24:25.043594Z",
     "iopub.status.idle": "2021-01-18T14:24:25.123390Z",
     "shell.execute_reply": "2021-01-18T14:24:25.122106Z",
     "shell.execute_reply.started": "2021-01-18T14:24:25.043862Z"
    }
   },
   "outputs": [],
   "source": [
    "bert_args = TRAINER_ARGS(per_device_train_batch_size=16, per_device_eval_batch_size=16,)\n",
    "bert_trainer = training.SquadTrainer(\n",
    "    model=bert_model,\n",
    "    args=bert_args,\n",
    "    data_collator=bert_dm.tokenizer,\n",
    "    train_dataset=bert_dm.train_dataset,\n",
    "    eval_dataset=bert_dm.val_dataset,\n",
    ")"
   ]
  },
  {
   "cell_type": "code",
   "execution_count": 25,
   "metadata": {
    "execution": {
     "iopub.execute_input": "2021-01-18T14:18:08.552007Z",
     "iopub.status.busy": "2021-01-18T14:18:08.551610Z",
     "iopub.status.idle": "2021-01-18T14:18:12.501486Z",
     "shell.execute_reply": "2021-01-18T14:18:12.500051Z",
     "shell.execute_reply.started": "2021-01-18T14:18:08.551964Z"
    }
   },
   "outputs": [
    {
     "name": "stderr",
     "output_type": "stream",
     "text": [
      "\u001b[34m\u001b[1mwandb\u001b[0m: Currently logged in as: \u001b[33mwadaboa\u001b[0m (use `wandb login --relogin` to force relogin)\n",
      "\u001b[34m\u001b[1mwandb\u001b[0m: wandb version 0.10.14 is available!  To upgrade, please run:\n",
      "\u001b[34m\u001b[1mwandb\u001b[0m:  $ pip install wandb --upgrade\n"
     ]
    },
    {
     "data": {
      "text/html": [
       "\n",
       "                Tracking run with wandb version 0.10.13<br/>\n",
       "                Syncing run <strong style=\"color:#cdcd00\">2021-01-18 14:18:08</strong> to <a href=\"https://wandb.ai\" target=\"_blank\">Weights & Biases</a> <a href=\"https://docs.wandb.com/integrations/jupyter.html\" target=\"_blank\">(Documentation)</a>.<br/>\n",
       "                Project page: <a href=\"https://wandb.ai/wadaboa/squad-qa\" target=\"_blank\">https://wandb.ai/wadaboa/squad-qa</a><br/>\n",
       "                Run page: <a href=\"https://wandb.ai/wadaboa/squad-qa/runs/3ikud72x\" target=\"_blank\">https://wandb.ai/wadaboa/squad-qa/runs/3ikud72x</a><br/>\n",
       "                Run data is saved locally in <code>/root/jupyter/squad-question-answering/wandb/run-20210118_141810-3ikud72x</code><br/><br/>\n",
       "            "
      ],
      "text/plain": [
       "<IPython.core.display.HTML object>"
      ]
     },
     "metadata": {},
     "output_type": "display_data"
    }
   ],
   "source": [
    "bert_run_name = utils.get_run_name()\n",
    "bert_wandb_logger = init_wandb(name=bert_run_name, group=\"bert\", reinit=True,)"
   ]
  },
  {
   "cell_type": "code",
   "execution_count": 30,
   "metadata": {
    "execution": {
     "iopub.execute_input": "2021-01-18T14:24:27.612769Z",
     "iopub.status.busy": "2021-01-18T14:24:27.612370Z",
     "iopub.status.idle": "2021-01-18T14:27:18.409412Z",
     "shell.execute_reply": "2021-01-18T14:27:18.406827Z",
     "shell.execute_reply.started": "2021-01-18T14:24:27.612727Z"
    }
   },
   "outputs": [
    {
     "data": {
      "text/html": [
       "\n",
       "    <div>\n",
       "        <style>\n",
       "            /* Turns off some styling */\n",
       "            progress {\n",
       "                /* gets rid of default border in Firefox and Opera. */\n",
       "                border: none;\n",
       "                /* Needs to be in here for Safari polyfill so background images work as expected. */\n",
       "                background-size: auto;\n",
       "            }\n",
       "        </style>\n",
       "      \n",
       "      <progress value='8' max='44' style='width:300px; height:20px; vertical-align: middle;'></progress>\n",
       "      [ 8/44 02:19 < 13:56, 0.04 it/s, Epoch 0.16/1]\n",
       "    </div>\n",
       "    <table border=\"1\" class=\"dataframe\">\n",
       "  <thead>\n",
       "    <tr style=\"text-align: left;\">\n",
       "      <th>Epoch</th>\n",
       "      <th>Training Loss</th>\n",
       "      <th>Validation Loss</th>\n",
       "    </tr>\n",
       "  </thead>\n",
       "  <tbody>\n",
       "  </tbody>\n",
       "</table><p>"
      ],
      "text/plain": [
       "<IPython.core.display.HTML object>"
      ]
     },
     "metadata": {},
     "output_type": "display_data"
    },
    {
     "name": "stderr",
     "output_type": "stream",
     "text": [
      "\u001b[34m\u001b[1mwandb\u001b[0m: \u001b[33mWARNING\u001b[0m Step must only increase in log calls.  Step 1 < 65; dropping {'train/loss': 13.5174, 'train/learning_rate': 0.0009772727272727272, 'train/epoch': 0.02}.\n",
      "\u001b[34m\u001b[1mwandb\u001b[0m: \u001b[33mWARNING\u001b[0m Step must only increase in log calls.  Step 1 < 65; dropping {'train/f1': 0.037037037037037035, 'train/accuracy': 0.0625, 'train/em': 0.0, 'train/epoch': 0.02}.\n",
      "\u001b[34m\u001b[1mwandb\u001b[0m: \u001b[33mWARNING\u001b[0m Step must only increase in log calls.  Step 5 < 65; dropping {'train/loss': 12.8648, 'train/learning_rate': 0.0008863636363636364, 'train/epoch': 0.11}.\n",
      "\u001b[34m\u001b[1mwandb\u001b[0m: \u001b[33mWARNING\u001b[0m Step must only increase in log calls.  Step 5 < 65; dropping {'train/f1': 0.08518518518518518, 'train/accuracy': 0.15625, 'train/em': 0.0625, 'train/epoch': 0.11}.\n"
     ]
    },
    {
     "ename": "KeyboardInterrupt",
     "evalue": "",
     "output_type": "error",
     "traceback": [
      "\u001b[0;31m---------------------------------------------------------------------------\u001b[0m",
      "\u001b[0;31mKeyboardInterrupt\u001b[0m                         Traceback (most recent call last)",
      "\u001b[0;32m<ipython-input-30-17c63d8e3d13>\u001b[0m in \u001b[0;36m<module>\u001b[0;34m\u001b[0m\n\u001b[0;32m----> 1\u001b[0;31m \u001b[0mbert_trainer\u001b[0m\u001b[0;34m.\u001b[0m\u001b[0mtrain\u001b[0m\u001b[0;34m(\u001b[0m\u001b[0;34m)\u001b[0m\u001b[0;34m\u001b[0m\u001b[0;34m\u001b[0m\u001b[0m\n\u001b[0m",
      "\u001b[0;32m~/anaconda3/lib/python3.8/site-packages/transformers/trainer.py\u001b[0m in \u001b[0;36mtrain\u001b[0;34m(self, model_path, trial)\u001b[0m\n\u001b[1;32m    886\u001b[0m                         \u001b[0mtr_loss\u001b[0m \u001b[0;34m+=\u001b[0m \u001b[0mself\u001b[0m\u001b[0;34m.\u001b[0m\u001b[0mtraining_step\u001b[0m\u001b[0;34m(\u001b[0m\u001b[0mmodel\u001b[0m\u001b[0;34m,\u001b[0m \u001b[0minputs\u001b[0m\u001b[0;34m)\u001b[0m\u001b[0;34m\u001b[0m\u001b[0;34m\u001b[0m\u001b[0m\n\u001b[1;32m    887\u001b[0m                 \u001b[0;32melse\u001b[0m\u001b[0;34m:\u001b[0m\u001b[0;34m\u001b[0m\u001b[0;34m\u001b[0m\u001b[0m\n\u001b[0;32m--> 888\u001b[0;31m                     \u001b[0mtr_loss\u001b[0m \u001b[0;34m+=\u001b[0m \u001b[0mself\u001b[0m\u001b[0;34m.\u001b[0m\u001b[0mtraining_step\u001b[0m\u001b[0;34m(\u001b[0m\u001b[0mmodel\u001b[0m\u001b[0;34m,\u001b[0m \u001b[0minputs\u001b[0m\u001b[0;34m)\u001b[0m\u001b[0;34m\u001b[0m\u001b[0;34m\u001b[0m\u001b[0m\n\u001b[0m\u001b[1;32m    889\u001b[0m                 \u001b[0mself\u001b[0m\u001b[0;34m.\u001b[0m\u001b[0m_total_flos\u001b[0m \u001b[0;34m+=\u001b[0m \u001b[0mself\u001b[0m\u001b[0;34m.\u001b[0m\u001b[0mfloating_point_ops\u001b[0m\u001b[0;34m(\u001b[0m\u001b[0minputs\u001b[0m\u001b[0;34m)\u001b[0m\u001b[0;34m\u001b[0m\u001b[0;34m\u001b[0m\u001b[0m\n\u001b[1;32m    890\u001b[0m \u001b[0;34m\u001b[0m\u001b[0m\n",
      "\u001b[0;32m~/anaconda3/lib/python3.8/site-packages/transformers/trainer.py\u001b[0m in \u001b[0;36mtraining_step\u001b[0;34m(self, model, inputs)\u001b[0m\n\u001b[1;32m   1265\u001b[0m             \u001b[0mself\u001b[0m\u001b[0;34m.\u001b[0m\u001b[0mmodel_wrapped\u001b[0m\u001b[0;34m.\u001b[0m\u001b[0mmodule\u001b[0m\u001b[0;34m.\u001b[0m\u001b[0mbackward\u001b[0m\u001b[0;34m(\u001b[0m\u001b[0mloss\u001b[0m\u001b[0;34m)\u001b[0m\u001b[0;34m\u001b[0m\u001b[0;34m\u001b[0m\u001b[0m\n\u001b[1;32m   1266\u001b[0m         \u001b[0;32melse\u001b[0m\u001b[0;34m:\u001b[0m\u001b[0;34m\u001b[0m\u001b[0;34m\u001b[0m\u001b[0m\n\u001b[0;32m-> 1267\u001b[0;31m             \u001b[0mloss\u001b[0m\u001b[0;34m.\u001b[0m\u001b[0mbackward\u001b[0m\u001b[0;34m(\u001b[0m\u001b[0;34m)\u001b[0m\u001b[0;34m\u001b[0m\u001b[0;34m\u001b[0m\u001b[0m\n\u001b[0m\u001b[1;32m   1268\u001b[0m \u001b[0;34m\u001b[0m\u001b[0m\n\u001b[1;32m   1269\u001b[0m         \u001b[0;32mreturn\u001b[0m \u001b[0mloss\u001b[0m\u001b[0;34m.\u001b[0m\u001b[0mdetach\u001b[0m\u001b[0;34m(\u001b[0m\u001b[0;34m)\u001b[0m\u001b[0;34m\u001b[0m\u001b[0;34m\u001b[0m\u001b[0m\n",
      "\u001b[0;32m~/anaconda3/lib/python3.8/site-packages/torch/tensor.py\u001b[0m in \u001b[0;36mbackward\u001b[0;34m(self, gradient, retain_graph, create_graph)\u001b[0m\n\u001b[1;32m    219\u001b[0m                 \u001b[0mretain_graph\u001b[0m\u001b[0;34m=\u001b[0m\u001b[0mretain_graph\u001b[0m\u001b[0;34m,\u001b[0m\u001b[0;34m\u001b[0m\u001b[0;34m\u001b[0m\u001b[0m\n\u001b[1;32m    220\u001b[0m                 create_graph=create_graph)\n\u001b[0;32m--> 221\u001b[0;31m         \u001b[0mtorch\u001b[0m\u001b[0;34m.\u001b[0m\u001b[0mautograd\u001b[0m\u001b[0;34m.\u001b[0m\u001b[0mbackward\u001b[0m\u001b[0;34m(\u001b[0m\u001b[0mself\u001b[0m\u001b[0;34m,\u001b[0m \u001b[0mgradient\u001b[0m\u001b[0;34m,\u001b[0m \u001b[0mretain_graph\u001b[0m\u001b[0;34m,\u001b[0m \u001b[0mcreate_graph\u001b[0m\u001b[0;34m)\u001b[0m\u001b[0;34m\u001b[0m\u001b[0;34m\u001b[0m\u001b[0m\n\u001b[0m\u001b[1;32m    222\u001b[0m \u001b[0;34m\u001b[0m\u001b[0m\n\u001b[1;32m    223\u001b[0m     \u001b[0;32mdef\u001b[0m \u001b[0mregister_hook\u001b[0m\u001b[0;34m(\u001b[0m\u001b[0mself\u001b[0m\u001b[0;34m,\u001b[0m \u001b[0mhook\u001b[0m\u001b[0;34m)\u001b[0m\u001b[0;34m:\u001b[0m\u001b[0;34m\u001b[0m\u001b[0;34m\u001b[0m\u001b[0m\n",
      "\u001b[0;32m~/anaconda3/lib/python3.8/site-packages/torch/autograd/__init__.py\u001b[0m in \u001b[0;36mbackward\u001b[0;34m(tensors, grad_tensors, retain_graph, create_graph, grad_variables)\u001b[0m\n\u001b[1;32m    128\u001b[0m         \u001b[0mretain_graph\u001b[0m \u001b[0;34m=\u001b[0m \u001b[0mcreate_graph\u001b[0m\u001b[0;34m\u001b[0m\u001b[0;34m\u001b[0m\u001b[0m\n\u001b[1;32m    129\u001b[0m \u001b[0;34m\u001b[0m\u001b[0m\n\u001b[0;32m--> 130\u001b[0;31m     Variable._execution_engine.run_backward(\n\u001b[0m\u001b[1;32m    131\u001b[0m         \u001b[0mtensors\u001b[0m\u001b[0;34m,\u001b[0m \u001b[0mgrad_tensors_\u001b[0m\u001b[0;34m,\u001b[0m \u001b[0mretain_graph\u001b[0m\u001b[0;34m,\u001b[0m \u001b[0mcreate_graph\u001b[0m\u001b[0;34m,\u001b[0m\u001b[0;34m\u001b[0m\u001b[0;34m\u001b[0m\u001b[0m\n\u001b[1;32m    132\u001b[0m         allow_unreachable=True)  # allow_unreachable flag\n",
      "\u001b[0;32m~/anaconda3/lib/python3.8/site-packages/wandb/wandb_torch.py\u001b[0m in \u001b[0;36m<lambda>\u001b[0;34m(grad)\u001b[0m\n\u001b[1;32m    283\u001b[0m             \u001b[0mself\u001b[0m\u001b[0;34m.\u001b[0m\u001b[0mlog_tensor_stats\u001b[0m\u001b[0;34m(\u001b[0m\u001b[0mgrad\u001b[0m\u001b[0;34m.\u001b[0m\u001b[0mdata\u001b[0m\u001b[0;34m,\u001b[0m \u001b[0mname\u001b[0m\u001b[0;34m)\u001b[0m\u001b[0;34m\u001b[0m\u001b[0;34m\u001b[0m\u001b[0m\n\u001b[1;32m    284\u001b[0m \u001b[0;34m\u001b[0m\u001b[0m\n\u001b[0;32m--> 285\u001b[0;31m         \u001b[0mhandle\u001b[0m \u001b[0;34m=\u001b[0m \u001b[0mvar\u001b[0m\u001b[0;34m.\u001b[0m\u001b[0mregister_hook\u001b[0m\u001b[0;34m(\u001b[0m\u001b[0;32mlambda\u001b[0m \u001b[0mgrad\u001b[0m\u001b[0;34m:\u001b[0m \u001b[0m_callback\u001b[0m\u001b[0;34m(\u001b[0m\u001b[0mgrad\u001b[0m\u001b[0;34m,\u001b[0m \u001b[0mlog_track\u001b[0m\u001b[0;34m)\u001b[0m\u001b[0;34m)\u001b[0m\u001b[0;34m\u001b[0m\u001b[0;34m\u001b[0m\u001b[0m\n\u001b[0m\u001b[1;32m    286\u001b[0m         \u001b[0mself\u001b[0m\u001b[0;34m.\u001b[0m\u001b[0m_hook_handles\u001b[0m\u001b[0;34m[\u001b[0m\u001b[0mname\u001b[0m\u001b[0;34m]\u001b[0m \u001b[0;34m=\u001b[0m \u001b[0mhandle\u001b[0m\u001b[0;34m\u001b[0m\u001b[0;34m\u001b[0m\u001b[0m\n\u001b[1;32m    287\u001b[0m         \u001b[0;32mreturn\u001b[0m \u001b[0mhandle\u001b[0m\u001b[0;34m\u001b[0m\u001b[0;34m\u001b[0m\u001b[0m\n",
      "\u001b[0;31mKeyboardInterrupt\u001b[0m: "
     ]
    }
   ],
   "source": [
    "bert_trainer.train()"
   ]
  },
  {
   "cell_type": "code",
   "execution_count": null,
   "metadata": {},
   "outputs": [],
   "source": [
    "bert_test_output = bert_trainer.predict(bert_dm.test_dataset)"
   ]
  },
  {
   "cell_type": "code",
   "execution_count": null,
   "metadata": {},
   "outputs": [],
   "source": [
    "bert_test_output.metrics"
   ]
  },
  {
   "cell_type": "code",
   "execution_count": null,
   "metadata": {},
   "outputs": [],
   "source": [
    "bert_answers_path = \"results/bert.json\"\n",
    "utils.save_answers(bert_answers_path, bert_test_output.predictions[-1])\n",
    "bert_wandb_logger.save(bert_answers_path)"
   ]
  },
  {
   "cell_type": "code",
   "execution_count": 40,
   "metadata": {
    "execution": {
     "iopub.execute_input": "2021-01-17T15:20:11.842769Z",
     "iopub.status.busy": "2021-01-17T15:20:11.842331Z",
     "iopub.status.idle": "2021-01-17T15:20:11.911113Z",
     "shell.execute_reply": "2021-01-17T15:20:11.909863Z",
     "shell.execute_reply.started": "2021-01-17T15:20:11.842725Z"
    }
   },
   "outputs": [],
   "source": [
    "bert_wandb_logger.finish()"
   ]
  }
 ],
 "metadata": {
  "kernelspec": {
   "display_name": "Python 3",
   "language": "python",
   "name": "python3"
  },
  "language_info": {
   "codemirror_mode": {
    "name": "ipython",
    "version": 3
   },
   "file_extension": ".py",
   "mimetype": "text/x-python",
   "name": "python",
   "nbconvert_exporter": "python",
   "pygments_lexer": "ipython3",
   "version": "3.8.5"
  }
 },
 "nbformat": 4,
 "nbformat_minor": 4
}
