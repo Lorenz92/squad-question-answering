{
 "cells": [
  {
   "cell_type": "markdown",
   "metadata": {},
   "source": [
    "# Question answering on the SQuAD dataset"
   ]
  },
  {
   "cell_type": "code",
   "execution_count": 289,
   "metadata": {
    "execution": {
     "iopub.execute_input": "2021-01-13T16:41:13.538597Z",
     "iopub.status.busy": "2021-01-13T16:41:13.538048Z",
     "iopub.status.idle": "2021-01-13T16:41:13.647732Z",
     "shell.execute_reply": "2021-01-13T16:41:13.646480Z",
     "shell.execute_reply.started": "2021-01-13T16:41:13.538538Z"
    }
   },
   "outputs": [
    {
     "name": "stdout",
     "output_type": "stream",
     "text": [
      "The autoreload extension is already loaded. To reload it, use:\n",
      "  %reload_ext autoreload\n"
     ]
    }
   ],
   "source": [
    "import sys\n",
    "import random\n",
    "from functools import partial\n",
    "\n",
    "import pandas as pd\n",
    "import numpy as np\n",
    "import matplotlib.pyplot as plt\n",
    "import torch\n",
    "import torch.nn as nn\n",
    "import torch.optim as optim\n",
    "import gensim\n",
    "import gensim.downloader as gloader\n",
    "import wandb\n",
    "import transformers\n",
    "import tokenizers\n",
    "from transformers.trainer_pt_utils import nested_detach\n",
    "from transformers.trainer_utils import EvalPrediction\n",
    "from tokenizers import Tokenizer\n",
    "from tokenizers.models import WordLevel\n",
    "from tokenizers.normalizers import Sequence, StripAccents, Lowercase, Strip\n",
    "from tokenizers.pre_tokenizers import Sequence as PreSequence\n",
    "from tokenizers.pre_tokenizers import Whitespace, Punctuation\n",
    "from tokenizers import BertWordPieceTokenizer\n",
    "\n",
    "import dataset\n",
    "import model\n",
    "import training\n",
    "\n",
    "%load_ext autoreload\n",
    "%autoreload 2\n",
    "%matplotlib inline"
   ]
  },
  {
   "cell_type": "code",
   "execution_count": 290,
   "metadata": {
    "execution": {
     "iopub.execute_input": "2021-01-13T16:41:18.254891Z",
     "iopub.status.busy": "2021-01-13T16:41:18.254555Z",
     "iopub.status.idle": "2021-01-13T16:41:18.337097Z",
     "shell.execute_reply": "2021-01-13T16:41:18.335902Z",
     "shell.execute_reply.started": "2021-01-13T16:41:18.254849Z"
    }
   },
   "outputs": [],
   "source": [
    "plt.rcParams['figure.figsize'] = [8, 6]\n",
    "plt.rcParams['figure.dpi'] = 100\n",
    "plt.rcParams['axes.xmargin'] = .05\n",
    "plt.rcParams['axes.ymargin'] = .05\n",
    "plt.style.use('ggplot')"
   ]
  },
  {
   "cell_type": "code",
   "execution_count": 291,
   "metadata": {
    "execution": {
     "iopub.execute_input": "2021-01-13T16:41:20.606571Z",
     "iopub.status.busy": "2021-01-13T16:41:20.606150Z",
     "iopub.status.idle": "2021-01-13T16:41:20.676908Z",
     "shell.execute_reply": "2021-01-13T16:41:20.675801Z",
     "shell.execute_reply.started": "2021-01-13T16:41:20.606529Z"
    }
   },
   "outputs": [],
   "source": [
    "WANDB_PROJECT = \"squad-qa\"\n",
    "WANDB_ENTITY = \"wadaboa\"\n",
    "WANDB_MODE = \"online\"\n",
    "WANDB_RESUME = \"never\"\n",
    "\n",
    "init_wandb = partial(\n",
    "    wandb.init,\n",
    "    project=WANDB_PROJECT,\n",
    "    entity=WANDB_ENTITY,\n",
    "    mode=WANDB_MODE,\n",
    "    resume=WANDB_RESUME,\n",
    ")"
   ]
  },
  {
   "cell_type": "markdown",
   "metadata": {},
   "source": [
    "## Preliminaries"
   ]
  },
  {
   "cell_type": "markdown",
   "metadata": {},
   "source": [
    "### Raw data loading"
   ]
  },
  {
   "cell_type": "code",
   "execution_count": 336,
   "metadata": {
    "execution": {
     "iopub.execute_input": "2021-01-13T17:32:11.968066Z",
     "iopub.status.busy": "2021-01-13T17:32:11.967623Z",
     "iopub.status.idle": "2021-01-13T17:32:52.786578Z",
     "shell.execute_reply": "2021-01-13T17:32:52.784807Z",
     "shell.execute_reply.started": "2021-01-13T17:32:11.968021Z"
    }
   },
   "outputs": [],
   "source": [
    "squad_dataset = dataset.SquadDataset()"
   ]
  },
  {
   "cell_type": "code",
   "execution_count": 337,
   "metadata": {
    "execution": {
     "iopub.execute_input": "2021-01-13T17:32:54.865735Z",
     "iopub.status.busy": "2021-01-13T17:32:54.865411Z",
     "iopub.status.idle": "2021-01-13T17:32:54.961217Z",
     "shell.execute_reply": "2021-01-13T17:32:54.959764Z",
     "shell.execute_reply.started": "2021-01-13T17:32:54.865694Z"
    }
   },
   "outputs": [
    {
     "data": {
      "text/html": [
       "<div>\n",
       "<style scoped>\n",
       "    .dataframe tbody tr th:only-of-type {\n",
       "        vertical-align: middle;\n",
       "    }\n",
       "\n",
       "    .dataframe tbody tr th {\n",
       "        vertical-align: top;\n",
       "    }\n",
       "\n",
       "    .dataframe thead th {\n",
       "        text-align: right;\n",
       "    }\n",
       "</style>\n",
       "<table border=\"1\" class=\"dataframe\">\n",
       "  <thead>\n",
       "    <tr style=\"text-align: right;\">\n",
       "      <th></th>\n",
       "      <th>question_id</th>\n",
       "      <th>question</th>\n",
       "      <th>title</th>\n",
       "      <th>context_id</th>\n",
       "      <th>context</th>\n",
       "      <th>answer</th>\n",
       "      <th>answer_start</th>\n",
       "      <th>answer_end</th>\n",
       "    </tr>\n",
       "  </thead>\n",
       "  <tbody>\n",
       "    <tr>\n",
       "      <th>0</th>\n",
       "      <td>5733be284776f41900661182</td>\n",
       "      <td>To whom did the Virgin Mary allegedly appear i...</td>\n",
       "      <td>University_of_Notre_Dame</td>\n",
       "      <td>0</td>\n",
       "      <td>Architecturally, the school has a Catholic cha...</td>\n",
       "      <td>Saint Bernadette Soubirous</td>\n",
       "      <td>515</td>\n",
       "      <td>541</td>\n",
       "    </tr>\n",
       "    <tr>\n",
       "      <th>1</th>\n",
       "      <td>5733be284776f4190066117f</td>\n",
       "      <td>What is in front of the Notre Dame Main Building?</td>\n",
       "      <td>University_of_Notre_Dame</td>\n",
       "      <td>0</td>\n",
       "      <td>Architecturally, the school has a Catholic cha...</td>\n",
       "      <td>a copper statue of Christ</td>\n",
       "      <td>188</td>\n",
       "      <td>213</td>\n",
       "    </tr>\n",
       "    <tr>\n",
       "      <th>2</th>\n",
       "      <td>5733be284776f41900661180</td>\n",
       "      <td>The Basilica of the Sacred heart at Notre Dame...</td>\n",
       "      <td>University_of_Notre_Dame</td>\n",
       "      <td>0</td>\n",
       "      <td>Architecturally, the school has a Catholic cha...</td>\n",
       "      <td>the Main Building</td>\n",
       "      <td>279</td>\n",
       "      <td>296</td>\n",
       "    </tr>\n",
       "    <tr>\n",
       "      <th>3</th>\n",
       "      <td>5733be284776f41900661181</td>\n",
       "      <td>What is the Grotto at Notre Dame?</td>\n",
       "      <td>University_of_Notre_Dame</td>\n",
       "      <td>0</td>\n",
       "      <td>Architecturally, the school has a Catholic cha...</td>\n",
       "      <td>a Marian place of prayer and reflection</td>\n",
       "      <td>381</td>\n",
       "      <td>420</td>\n",
       "    </tr>\n",
       "    <tr>\n",
       "      <th>4</th>\n",
       "      <td>5733be284776f4190066117e</td>\n",
       "      <td>What sits on top of the Main Building at Notre...</td>\n",
       "      <td>University_of_Notre_Dame</td>\n",
       "      <td>0</td>\n",
       "      <td>Architecturally, the school has a Catholic cha...</td>\n",
       "      <td>a golden statue of the Virgin Mary</td>\n",
       "      <td>92</td>\n",
       "      <td>126</td>\n",
       "    </tr>\n",
       "    <tr>\n",
       "      <th>...</th>\n",
       "      <td>...</td>\n",
       "      <td>...</td>\n",
       "      <td>...</td>\n",
       "      <td>...</td>\n",
       "      <td>...</td>\n",
       "      <td>...</td>\n",
       "      <td>...</td>\n",
       "      <td>...</td>\n",
       "    </tr>\n",
       "    <tr>\n",
       "      <th>87594</th>\n",
       "      <td>5735d259012e2f140011a09d</td>\n",
       "      <td>In what US state did Kathmandu first establish...</td>\n",
       "      <td>Kathmandu</td>\n",
       "      <td>18890</td>\n",
       "      <td>Kathmandu Metropolitan City (KMC), in order to...</td>\n",
       "      <td>Oregon</td>\n",
       "      <td>229</td>\n",
       "      <td>235</td>\n",
       "    </tr>\n",
       "    <tr>\n",
       "      <th>87595</th>\n",
       "      <td>5735d259012e2f140011a09e</td>\n",
       "      <td>What was Yangon previously known as?</td>\n",
       "      <td>Kathmandu</td>\n",
       "      <td>18890</td>\n",
       "      <td>Kathmandu Metropolitan City (KMC), in order to...</td>\n",
       "      <td>Rangoon</td>\n",
       "      <td>414</td>\n",
       "      <td>421</td>\n",
       "    </tr>\n",
       "    <tr>\n",
       "      <th>87596</th>\n",
       "      <td>5735d259012e2f140011a09f</td>\n",
       "      <td>With what Belorussian city does Kathmandu have...</td>\n",
       "      <td>Kathmandu</td>\n",
       "      <td>18890</td>\n",
       "      <td>Kathmandu Metropolitan City (KMC), in order to...</td>\n",
       "      <td>Minsk</td>\n",
       "      <td>476</td>\n",
       "      <td>481</td>\n",
       "    </tr>\n",
       "    <tr>\n",
       "      <th>87597</th>\n",
       "      <td>5735d259012e2f140011a0a0</td>\n",
       "      <td>In what year did Kathmandu create its initial ...</td>\n",
       "      <td>Kathmandu</td>\n",
       "      <td>18890</td>\n",
       "      <td>Kathmandu Metropolitan City (KMC), in order to...</td>\n",
       "      <td>1975</td>\n",
       "      <td>199</td>\n",
       "      <td>203</td>\n",
       "    </tr>\n",
       "    <tr>\n",
       "      <th>87598</th>\n",
       "      <td>5735d259012e2f140011a0a1</td>\n",
       "      <td>What is KMC an initialism of?</td>\n",
       "      <td>Kathmandu</td>\n",
       "      <td>18890</td>\n",
       "      <td>Kathmandu Metropolitan City (KMC), in order to...</td>\n",
       "      <td>Kathmandu Metropolitan City</td>\n",
       "      <td>0</td>\n",
       "      <td>27</td>\n",
       "    </tr>\n",
       "  </tbody>\n",
       "</table>\n",
       "<p>87599 rows × 8 columns</p>\n",
       "</div>"
      ],
      "text/plain": [
       "                    question_id  \\\n",
       "0      5733be284776f41900661182   \n",
       "1      5733be284776f4190066117f   \n",
       "2      5733be284776f41900661180   \n",
       "3      5733be284776f41900661181   \n",
       "4      5733be284776f4190066117e   \n",
       "...                         ...   \n",
       "87594  5735d259012e2f140011a09d   \n",
       "87595  5735d259012e2f140011a09e   \n",
       "87596  5735d259012e2f140011a09f   \n",
       "87597  5735d259012e2f140011a0a0   \n",
       "87598  5735d259012e2f140011a0a1   \n",
       "\n",
       "                                                question  \\\n",
       "0      To whom did the Virgin Mary allegedly appear i...   \n",
       "1      What is in front of the Notre Dame Main Building?   \n",
       "2      The Basilica of the Sacred heart at Notre Dame...   \n",
       "3                      What is the Grotto at Notre Dame?   \n",
       "4      What sits on top of the Main Building at Notre...   \n",
       "...                                                  ...   \n",
       "87594  In what US state did Kathmandu first establish...   \n",
       "87595               What was Yangon previously known as?   \n",
       "87596  With what Belorussian city does Kathmandu have...   \n",
       "87597  In what year did Kathmandu create its initial ...   \n",
       "87598                      What is KMC an initialism of?   \n",
       "\n",
       "                          title  context_id  \\\n",
       "0      University_of_Notre_Dame           0   \n",
       "1      University_of_Notre_Dame           0   \n",
       "2      University_of_Notre_Dame           0   \n",
       "3      University_of_Notre_Dame           0   \n",
       "4      University_of_Notre_Dame           0   \n",
       "...                         ...         ...   \n",
       "87594                 Kathmandu       18890   \n",
       "87595                 Kathmandu       18890   \n",
       "87596                 Kathmandu       18890   \n",
       "87597                 Kathmandu       18890   \n",
       "87598                 Kathmandu       18890   \n",
       "\n",
       "                                                 context  \\\n",
       "0      Architecturally, the school has a Catholic cha...   \n",
       "1      Architecturally, the school has a Catholic cha...   \n",
       "2      Architecturally, the school has a Catholic cha...   \n",
       "3      Architecturally, the school has a Catholic cha...   \n",
       "4      Architecturally, the school has a Catholic cha...   \n",
       "...                                                  ...   \n",
       "87594  Kathmandu Metropolitan City (KMC), in order to...   \n",
       "87595  Kathmandu Metropolitan City (KMC), in order to...   \n",
       "87596  Kathmandu Metropolitan City (KMC), in order to...   \n",
       "87597  Kathmandu Metropolitan City (KMC), in order to...   \n",
       "87598  Kathmandu Metropolitan City (KMC), in order to...   \n",
       "\n",
       "                                        answer  answer_start  answer_end  \n",
       "0                   Saint Bernadette Soubirous           515         541  \n",
       "1                    a copper statue of Christ           188         213  \n",
       "2                            the Main Building           279         296  \n",
       "3      a Marian place of prayer and reflection           381         420  \n",
       "4           a golden statue of the Virgin Mary            92         126  \n",
       "...                                        ...           ...         ...  \n",
       "87594                                   Oregon           229         235  \n",
       "87595                                  Rangoon           414         421  \n",
       "87596                                    Minsk           476         481  \n",
       "87597                                     1975           199         203  \n",
       "87598              Kathmandu Metropolitan City             0          27  \n",
       "\n",
       "[87599 rows x 8 columns]"
      ]
     },
     "execution_count": 337,
     "metadata": {},
     "output_type": "execute_result"
    }
   ],
   "source": [
    "squad_dataset.raw_train_df"
   ]
  },
  {
   "cell_type": "code",
   "execution_count": 338,
   "metadata": {
    "execution": {
     "iopub.execute_input": "2021-01-13T17:32:54.963348Z",
     "iopub.status.busy": "2021-01-13T17:32:54.963042Z",
     "iopub.status.idle": "2021-01-13T17:32:55.049923Z",
     "shell.execute_reply": "2021-01-13T17:32:55.048788Z",
     "shell.execute_reply.started": "2021-01-13T17:32:54.963309Z"
    }
   },
   "outputs": [
    {
     "data": {
      "text/html": [
       "<div>\n",
       "<style scoped>\n",
       "    .dataframe tbody tr th:only-of-type {\n",
       "        vertical-align: middle;\n",
       "    }\n",
       "\n",
       "    .dataframe tbody tr th {\n",
       "        vertical-align: top;\n",
       "    }\n",
       "\n",
       "    .dataframe thead th {\n",
       "        text-align: right;\n",
       "    }\n",
       "</style>\n",
       "<table border=\"1\" class=\"dataframe\">\n",
       "  <thead>\n",
       "    <tr style=\"text-align: right;\">\n",
       "      <th></th>\n",
       "      <th>question_id</th>\n",
       "      <th>question</th>\n",
       "      <th>title</th>\n",
       "      <th>context_id</th>\n",
       "      <th>context</th>\n",
       "      <th>answer</th>\n",
       "      <th>answer_start</th>\n",
       "      <th>answer_end</th>\n",
       "    </tr>\n",
       "  </thead>\n",
       "  <tbody>\n",
       "    <tr>\n",
       "      <th>0</th>\n",
       "      <td>56be4db0acb8001400a502ec</td>\n",
       "      <td>Which NFL team represented the AFC at Super Bo...</td>\n",
       "      <td>Super_Bowl_50</td>\n",
       "      <td>0</td>\n",
       "      <td>Super Bowl 50 was an American football game to...</td>\n",
       "      <td>Denver Broncos</td>\n",
       "      <td>177</td>\n",
       "      <td>191</td>\n",
       "    </tr>\n",
       "    <tr>\n",
       "      <th>1</th>\n",
       "      <td>56be4db0acb8001400a502ed</td>\n",
       "      <td>Which NFL team represented the NFC at Super Bo...</td>\n",
       "      <td>Super_Bowl_50</td>\n",
       "      <td>0</td>\n",
       "      <td>Super Bowl 50 was an American football game to...</td>\n",
       "      <td>Carolina Panthers</td>\n",
       "      <td>249</td>\n",
       "      <td>266</td>\n",
       "    </tr>\n",
       "    <tr>\n",
       "      <th>2</th>\n",
       "      <td>56be4db0acb8001400a502ee</td>\n",
       "      <td>Where did Super Bowl 50 take place?</td>\n",
       "      <td>Super_Bowl_50</td>\n",
       "      <td>0</td>\n",
       "      <td>Super Bowl 50 was an American football game to...</td>\n",
       "      <td>Santa Clara, California</td>\n",
       "      <td>403</td>\n",
       "      <td>426</td>\n",
       "    </tr>\n",
       "    <tr>\n",
       "      <th>3</th>\n",
       "      <td>56be4db0acb8001400a502ee</td>\n",
       "      <td>Where did Super Bowl 50 take place?</td>\n",
       "      <td>Super_Bowl_50</td>\n",
       "      <td>0</td>\n",
       "      <td>Super Bowl 50 was an American football game to...</td>\n",
       "      <td>Levi's Stadium</td>\n",
       "      <td>355</td>\n",
       "      <td>369</td>\n",
       "    </tr>\n",
       "    <tr>\n",
       "      <th>4</th>\n",
       "      <td>56be4db0acb8001400a502ee</td>\n",
       "      <td>Where did Super Bowl 50 take place?</td>\n",
       "      <td>Super_Bowl_50</td>\n",
       "      <td>0</td>\n",
       "      <td>Super Bowl 50 was an American football game to...</td>\n",
       "      <td>Levi's Stadium in the San Francisco Bay Area a...</td>\n",
       "      <td>355</td>\n",
       "      <td>427</td>\n",
       "    </tr>\n",
       "    <tr>\n",
       "      <th>...</th>\n",
       "      <td>...</td>\n",
       "      <td>...</td>\n",
       "      <td>...</td>\n",
       "      <td>...</td>\n",
       "      <td>...</td>\n",
       "      <td>...</td>\n",
       "      <td>...</td>\n",
       "      <td>...</td>\n",
       "    </tr>\n",
       "    <tr>\n",
       "      <th>18211</th>\n",
       "      <td>5737aafd1c456719005744fd</td>\n",
       "      <td>What is a very seldom used unit of mass in the...</td>\n",
       "      <td>Force</td>\n",
       "      <td>2066</td>\n",
       "      <td>The pound-force has a metric counterpart, less...</td>\n",
       "      <td>slug</td>\n",
       "      <td>274</td>\n",
       "      <td>278</td>\n",
       "    </tr>\n",
       "    <tr>\n",
       "      <th>18212</th>\n",
       "      <td>5737aafd1c456719005744fd</td>\n",
       "      <td>What is a very seldom used unit of mass in the...</td>\n",
       "      <td>Force</td>\n",
       "      <td>2066</td>\n",
       "      <td>The pound-force has a metric counterpart, less...</td>\n",
       "      <td>metric slug</td>\n",
       "      <td>267</td>\n",
       "      <td>278</td>\n",
       "    </tr>\n",
       "    <tr>\n",
       "      <th>18213</th>\n",
       "      <td>5737aafd1c456719005744fd</td>\n",
       "      <td>What is a very seldom used unit of mass in the...</td>\n",
       "      <td>Force</td>\n",
       "      <td>2066</td>\n",
       "      <td>The pound-force has a metric counterpart, less...</td>\n",
       "      <td>the metric slug</td>\n",
       "      <td>263</td>\n",
       "      <td>278</td>\n",
       "    </tr>\n",
       "    <tr>\n",
       "      <th>18214</th>\n",
       "      <td>5737aafd1c456719005744fe</td>\n",
       "      <td>What seldom used term of a unit of force equal...</td>\n",
       "      <td>Force</td>\n",
       "      <td>2066</td>\n",
       "      <td>The pound-force has a metric counterpart, less...</td>\n",
       "      <td>kip</td>\n",
       "      <td>712</td>\n",
       "      <td>715</td>\n",
       "    </tr>\n",
       "    <tr>\n",
       "      <th>18215</th>\n",
       "      <td>5737aafd1c456719005744ff</td>\n",
       "      <td>What is the seldom used force unit equal to on...</td>\n",
       "      <td>Force</td>\n",
       "      <td>2066</td>\n",
       "      <td>The pound-force has a metric counterpart, less...</td>\n",
       "      <td>sthène</td>\n",
       "      <td>665</td>\n",
       "      <td>671</td>\n",
       "    </tr>\n",
       "  </tbody>\n",
       "</table>\n",
       "<p>18216 rows × 8 columns</p>\n",
       "</div>"
      ],
      "text/plain": [
       "                    question_id  \\\n",
       "0      56be4db0acb8001400a502ec   \n",
       "1      56be4db0acb8001400a502ed   \n",
       "2      56be4db0acb8001400a502ee   \n",
       "3      56be4db0acb8001400a502ee   \n",
       "4      56be4db0acb8001400a502ee   \n",
       "...                         ...   \n",
       "18211  5737aafd1c456719005744fd   \n",
       "18212  5737aafd1c456719005744fd   \n",
       "18213  5737aafd1c456719005744fd   \n",
       "18214  5737aafd1c456719005744fe   \n",
       "18215  5737aafd1c456719005744ff   \n",
       "\n",
       "                                                question          title  \\\n",
       "0      Which NFL team represented the AFC at Super Bo...  Super_Bowl_50   \n",
       "1      Which NFL team represented the NFC at Super Bo...  Super_Bowl_50   \n",
       "2                    Where did Super Bowl 50 take place?  Super_Bowl_50   \n",
       "3                    Where did Super Bowl 50 take place?  Super_Bowl_50   \n",
       "4                    Where did Super Bowl 50 take place?  Super_Bowl_50   \n",
       "...                                                  ...            ...   \n",
       "18211  What is a very seldom used unit of mass in the...          Force   \n",
       "18212  What is a very seldom used unit of mass in the...          Force   \n",
       "18213  What is a very seldom used unit of mass in the...          Force   \n",
       "18214  What seldom used term of a unit of force equal...          Force   \n",
       "18215  What is the seldom used force unit equal to on...          Force   \n",
       "\n",
       "       context_id                                            context  \\\n",
       "0               0  Super Bowl 50 was an American football game to...   \n",
       "1               0  Super Bowl 50 was an American football game to...   \n",
       "2               0  Super Bowl 50 was an American football game to...   \n",
       "3               0  Super Bowl 50 was an American football game to...   \n",
       "4               0  Super Bowl 50 was an American football game to...   \n",
       "...           ...                                                ...   \n",
       "18211        2066  The pound-force has a metric counterpart, less...   \n",
       "18212        2066  The pound-force has a metric counterpart, less...   \n",
       "18213        2066  The pound-force has a metric counterpart, less...   \n",
       "18214        2066  The pound-force has a metric counterpart, less...   \n",
       "18215        2066  The pound-force has a metric counterpart, less...   \n",
       "\n",
       "                                                  answer  answer_start  \\\n",
       "0                                         Denver Broncos           177   \n",
       "1                                      Carolina Panthers           249   \n",
       "2                                Santa Clara, California           403   \n",
       "3                                         Levi's Stadium           355   \n",
       "4      Levi's Stadium in the San Francisco Bay Area a...           355   \n",
       "...                                                  ...           ...   \n",
       "18211                                               slug           274   \n",
       "18212                                        metric slug           267   \n",
       "18213                                    the metric slug           263   \n",
       "18214                                                kip           712   \n",
       "18215                                             sthène           665   \n",
       "\n",
       "       answer_end  \n",
       "0             191  \n",
       "1             266  \n",
       "2             426  \n",
       "3             369  \n",
       "4             427  \n",
       "...           ...  \n",
       "18211         278  \n",
       "18212         278  \n",
       "18213         278  \n",
       "18214         715  \n",
       "18215         671  \n",
       "\n",
       "[18216 rows x 8 columns]"
      ]
     },
     "execution_count": 338,
     "metadata": {},
     "output_type": "execute_result"
    }
   ],
   "source": [
    "squad_dataset.raw_test_df"
   ]
  },
  {
   "cell_type": "markdown",
   "metadata": {},
   "source": [
    "### Embeddings"
   ]
  },
  {
   "cell_type": "code",
   "execution_count": 8,
   "metadata": {
    "execution": {
     "iopub.execute_input": "2021-01-12T15:33:10.376025Z",
     "iopub.status.busy": "2021-01-12T15:33:10.375687Z",
     "iopub.status.idle": "2021-01-12T15:33:10.436480Z",
     "shell.execute_reply": "2021-01-12T15:33:10.435354Z",
     "shell.execute_reply.started": "2021-01-12T15:33:10.375986Z"
    }
   },
   "outputs": [],
   "source": [
    "UNK_TOKEN = \"[UNK]\"\n",
    "PAD_TOKEN = \"[PAD]\""
   ]
  },
  {
   "cell_type": "markdown",
   "metadata": {},
   "source": [
    "- FastText: \n",
    "    - _fasttext-wiki-news-subwords_ (dimensions: 300)\n",
    "- GloVe:\n",
    "    - _glove-twitter_ (dimensions: 25. 50, 100, 200)\n",
    "    - _glove-wiki-gigaword_ (dimensions: 50, 100, 200, 300)\n",
    "- Word2Vec:\n",
    "    - _word2vec-google-news_ (dimensions: 300)\n",
    "    - _word2vec-ruscorpora_ (dimensions: 300)"
   ]
  },
  {
   "cell_type": "code",
   "execution_count": 9,
   "metadata": {
    "execution": {
     "iopub.execute_input": "2021-01-12T15:33:11.304855Z",
     "iopub.status.busy": "2021-01-12T15:33:11.304520Z",
     "iopub.status.idle": "2021-01-12T15:35:47.998165Z",
     "shell.execute_reply": "2021-01-12T15:35:47.996549Z",
     "shell.execute_reply.started": "2021-01-12T15:33:11.304816Z"
    }
   },
   "outputs": [],
   "source": [
    "def load_embedding_model(model_name, embedding_dimension=50):\n",
    "    \"\"\"\n",
    "    Loads a pre-trained word embedding model via gensim library\n",
    "    \"\"\"\n",
    "    model = f\"{model_name}-{embedding_dimension}\"\n",
    "    try:\n",
    "        return gloader.load(model)\n",
    "    except Exception as e:\n",
    "        print(\"Invalid embedding model name.\")\n",
    "        raise e\n",
    "\n",
    "\n",
    "# See https://github.com/RaRe-Technologies/gensim-data\n",
    "GLOVE_EMBEDDING_DIMENSION = 50\n",
    "GLOVE_MODEL_NAME = \"glove-twitter\"\n",
    "glove_embedding_model = load_embedding_model(\n",
    "    GLOVE_MODEL_NAME, embedding_dimension=GLOVE_EMBEDDING_DIMENSION\n",
    ")"
   ]
  },
  {
   "cell_type": "code",
   "execution_count": 10,
   "metadata": {
    "execution": {
     "iopub.execute_input": "2021-01-12T15:35:48.083118Z",
     "iopub.status.busy": "2021-01-12T15:35:48.082806Z",
     "iopub.status.idle": "2021-01-12T15:35:48.651671Z",
     "shell.execute_reply": "2021-01-12T15:35:48.650357Z",
     "shell.execute_reply.started": "2021-01-12T15:35:48.083080Z"
    }
   },
   "outputs": [],
   "source": [
    "glove_unk = np.mean(glove_embedding_model.vectors, axis=0)\n",
    "glove_embedding_model.add(UNK_TOKEN, glove_unk)"
   ]
  },
  {
   "cell_type": "code",
   "execution_count": 11,
   "metadata": {
    "execution": {
     "iopub.execute_input": "2021-01-12T15:35:48.654181Z",
     "iopub.status.busy": "2021-01-12T15:35:48.653855Z",
     "iopub.status.idle": "2021-01-12T15:35:48.721489Z",
     "shell.execute_reply": "2021-01-12T15:35:48.720435Z",
     "shell.execute_reply.started": "2021-01-12T15:35:48.654140Z"
    }
   },
   "outputs": [
    {
     "data": {
      "text/plain": [
       "array([-0.21896735,  0.17269313, -0.05617283,  0.06307325,  0.00960657,\n",
       "       -0.23461065, -0.16731773, -0.25613925,  0.12990713, -0.34179848,\n",
       "       -0.07411992,  0.00533567,  0.7090377 , -0.1139018 ,  0.10613882,\n",
       "        0.09186497,  0.15880948,  0.03158554,  0.2241412 ,  0.20387109,\n",
       "        0.05305386,  0.04961218,  0.11807557, -0.10199773, -0.18345806,\n",
       "        0.56560194,  0.07183363,  0.04322447, -0.39442873,  0.06828266,\n",
       "        0.39542177,  0.08794834,  0.41605434, -0.27820984, -0.5106833 ,\n",
       "       -0.16443801,  0.0973425 ,  0.02233286,  0.19346187,  0.15909852,\n",
       "        0.886585  , -0.01498107,  0.10211241, -0.12959567, -0.328366  ,\n",
       "        0.13014658, -0.02061043,  0.05735753,  0.14008364,  0.22588447],\n",
       "      dtype=float32)"
      ]
     },
     "execution_count": 11,
     "metadata": {},
     "output_type": "execute_result"
    }
   ],
   "source": [
    "glove_embedding_model[UNK_TOKEN]"
   ]
  },
  {
   "cell_type": "code",
   "execution_count": 12,
   "metadata": {
    "execution": {
     "iopub.execute_input": "2021-01-12T15:35:48.723312Z",
     "iopub.status.busy": "2021-01-12T15:35:48.722993Z",
     "iopub.status.idle": "2021-01-12T15:35:48.870764Z",
     "shell.execute_reply": "2021-01-12T15:35:48.869591Z",
     "shell.execute_reply.started": "2021-01-12T15:35:48.723274Z"
    }
   },
   "outputs": [
    {
     "data": {
      "text/plain": [
       "'[UNK]'"
      ]
     },
     "execution_count": 12,
     "metadata": {},
     "output_type": "execute_result"
    }
   ],
   "source": [
    "list(glove_embedding_model.vocab.keys())[-1]"
   ]
  },
  {
   "cell_type": "code",
   "execution_count": 13,
   "metadata": {
    "execution": {
     "iopub.execute_input": "2021-01-12T15:35:48.873449Z",
     "iopub.status.busy": "2021-01-12T15:35:48.873023Z",
     "iopub.status.idle": "2021-01-12T15:35:49.165235Z",
     "shell.execute_reply": "2021-01-12T15:35:49.164039Z",
     "shell.execute_reply.started": "2021-01-12T15:35:48.873408Z"
    }
   },
   "outputs": [
    {
     "data": {
      "text/plain": [
       "False"
      ]
     },
     "execution_count": 13,
     "metadata": {},
     "output_type": "execute_result"
    }
   ],
   "source": [
    "any(np.all(glove_embedding_model.vectors == 0, axis=1))"
   ]
  },
  {
   "cell_type": "code",
   "execution_count": 14,
   "metadata": {
    "execution": {
     "iopub.execute_input": "2021-01-12T15:35:49.168217Z",
     "iopub.status.busy": "2021-01-12T15:35:49.167086Z",
     "iopub.status.idle": "2021-01-12T15:35:49.499676Z",
     "shell.execute_reply": "2021-01-12T15:35:49.498566Z",
     "shell.execute_reply.started": "2021-01-12T15:35:49.168173Z"
    }
   },
   "outputs": [
    {
     "data": {
      "text/plain": [
       "array([0., 0., 0., 0., 0., 0., 0., 0., 0., 0., 0., 0., 0., 0., 0., 0., 0.,\n",
       "       0., 0., 0., 0., 0., 0., 0., 0., 0., 0., 0., 0., 0., 0., 0., 0., 0.,\n",
       "       0., 0., 0., 0., 0., 0., 0., 0., 0., 0., 0., 0., 0., 0., 0., 0.],\n",
       "      dtype=float32)"
      ]
     },
     "execution_count": 14,
     "metadata": {},
     "output_type": "execute_result"
    }
   ],
   "source": [
    "glove_embedding_model.add(PAD_TOKEN, np.zeros((1, GLOVE_EMBEDDING_DIMENSION)))\n",
    "glove_embedding_model[PAD_TOKEN]"
   ]
  },
  {
   "cell_type": "code",
   "execution_count": 15,
   "metadata": {
    "execution": {
     "iopub.execute_input": "2021-01-12T15:35:49.503950Z",
     "iopub.status.busy": "2021-01-12T15:35:49.503623Z",
     "iopub.status.idle": "2021-01-12T15:35:49.645851Z",
     "shell.execute_reply": "2021-01-12T15:35:49.644711Z",
     "shell.execute_reply.started": "2021-01-12T15:35:49.503909Z"
    }
   },
   "outputs": [
    {
     "data": {
      "text/plain": [
       "'[PAD]'"
      ]
     },
     "execution_count": 15,
     "metadata": {},
     "output_type": "execute_result"
    }
   ],
   "source": [
    "list(glove_embedding_model.vocab.keys())[-1]"
   ]
  },
  {
   "cell_type": "code",
   "execution_count": 16,
   "metadata": {
    "execution": {
     "iopub.execute_input": "2021-01-12T15:35:49.648893Z",
     "iopub.status.busy": "2021-01-12T15:35:49.648537Z",
     "iopub.status.idle": "2021-01-12T15:35:49.715367Z",
     "shell.execute_reply": "2021-01-12T15:35:49.714090Z",
     "shell.execute_reply.started": "2021-01-12T15:35:49.648851Z"
    }
   },
   "outputs": [
    {
     "data": {
      "text/plain": [
       "(1193516, 50)"
      ]
     },
     "execution_count": 16,
     "metadata": {},
     "output_type": "execute_result"
    }
   ],
   "source": [
    "glove_embedding_model.vectors.shape"
   ]
  },
  {
   "cell_type": "code",
   "execution_count": 17,
   "metadata": {
    "execution": {
     "iopub.execute_input": "2021-01-12T15:35:49.717035Z",
     "iopub.status.busy": "2021-01-12T15:35:49.716723Z",
     "iopub.status.idle": "2021-01-12T15:35:50.334772Z",
     "shell.execute_reply": "2021-01-12T15:35:50.333393Z",
     "shell.execute_reply.started": "2021-01-12T15:35:49.716997Z"
    }
   },
   "outputs": [],
   "source": [
    "glove_vocab = dict(\n",
    "    zip(glove_embedding_model.index2word, range(len(glove_embedding_model.index2word)))\n",
    ")"
   ]
  },
  {
   "cell_type": "code",
   "execution_count": 18,
   "metadata": {
    "execution": {
     "iopub.execute_input": "2021-01-12T15:35:50.336907Z",
     "iopub.status.busy": "2021-01-12T15:35:50.336580Z",
     "iopub.status.idle": "2021-01-12T15:35:52.974789Z",
     "shell.execute_reply": "2021-01-12T15:35:52.973412Z",
     "shell.execute_reply.started": "2021-01-12T15:35:50.336865Z"
    }
   },
   "outputs": [],
   "source": [
    "glove_embedding_layer = nn.Embedding(\n",
    "    glove_embedding_model.vectors.shape[0],\n",
    "    GLOVE_EMBEDDING_DIMENSION,\n",
    "    padding_idx=glove_vocab[PAD_TOKEN],\n",
    ")\n",
    "glove_embedding_layer.weight = nn.Parameter(\n",
    "    torch.from_numpy(glove_embedding_model.vectors)\n",
    ")\n",
    "glove_embedding_layer.weight.requires_grad = False"
   ]
  },
  {
   "cell_type": "markdown",
   "metadata": {},
   "source": [
    "### Standard tokenizer and preprocessing"
   ]
  },
  {
   "cell_type": "code",
   "execution_count": 19,
   "metadata": {
    "execution": {
     "iopub.execute_input": "2021-01-12T15:35:52.976798Z",
     "iopub.status.busy": "2021-01-12T15:35:52.976471Z",
     "iopub.status.idle": "2021-01-12T15:35:53.040509Z",
     "shell.execute_reply": "2021-01-12T15:35:53.039445Z",
     "shell.execute_reply.started": "2021-01-12T15:35:52.976757Z"
    }
   },
   "outputs": [],
   "source": [
    "MAX_CONTEXT_TOKENS = 300"
   ]
  },
  {
   "cell_type": "code",
   "execution_count": 295,
   "metadata": {
    "execution": {
     "iopub.execute_input": "2021-01-13T16:44:19.430369Z",
     "iopub.status.busy": "2021-01-13T16:44:19.429891Z",
     "iopub.status.idle": "2021-01-13T16:44:22.815472Z",
     "shell.execute_reply": "2021-01-13T16:44:22.813975Z",
     "shell.execute_reply.started": "2021-01-13T16:44:19.430323Z"
    }
   },
   "outputs": [],
   "source": [
    "standard_question_tokenizer = Tokenizer(WordLevel(glove_vocab, unk_token=UNK_TOKEN))\n",
    "standard_question_tokenizer.normalizer = Sequence(\n",
    "    [StripAccents(), Lowercase(), Strip()]\n",
    ")\n",
    "standard_question_tokenizer.pre_tokenizer = PreSequence([Whitespace(), Punctuation()])\n",
    "standard_question_tokenizer.enable_padding(\n",
    "    direction=\"right\", pad_id=glove_vocab[PAD_TOKEN], pad_type_id=1, pad_token=PAD_TOKEN\n",
    ")\n",
    "\n",
    "standard_context_tokenizer = Tokenizer(WordLevel(glove_vocab, unk_token=UNK_TOKEN))\n",
    "standard_context_tokenizer.normalizer = Sequence([StripAccents(), Lowercase(), Strip()])\n",
    "standard_context_tokenizer.pre_tokenizer = PreSequence([Whitespace(), Punctuation()])\n",
    "standard_context_tokenizer.enable_padding(\n",
    "    direction=\"right\",\n",
    "    pad_id=glove_vocab[PAD_TOKEN],\n",
    "    pad_type_id=1,\n",
    "    pad_token=PAD_TOKEN,\n",
    "    length=MAX_CONTEXT_TOKENS,\n",
    ")\n",
    "standard_context_tokenizer.enable_truncation(MAX_CONTEXT_TOKENS)"
   ]
  },
  {
   "cell_type": "code",
   "execution_count": 339,
   "metadata": {
    "execution": {
     "iopub.execute_input": "2021-01-13T17:33:08.468221Z",
     "iopub.status.busy": "2021-01-13T17:33:08.467775Z",
     "iopub.status.idle": "2021-01-13T17:33:08.537310Z",
     "shell.execute_reply": "2021-01-13T17:33:08.536125Z",
     "shell.execute_reply.started": "2021-01-13T17:33:08.468177Z"
    }
   },
   "outputs": [],
   "source": [
    "standard_tokenizer = dataset.StandardSquadTokenizer(\n",
    "    standard_question_tokenizer, standard_context_tokenizer\n",
    ")"
   ]
  },
  {
   "cell_type": "code",
   "execution_count": 340,
   "metadata": {
    "execution": {
     "iopub.execute_input": "2021-01-13T17:33:10.507781Z",
     "iopub.status.busy": "2021-01-13T17:33:10.507459Z",
     "iopub.status.idle": "2021-01-13T17:34:22.786058Z",
     "shell.execute_reply": "2021-01-13T17:34:22.784143Z",
     "shell.execute_reply.started": "2021-01-13T17:33:10.507740Z"
    }
   },
   "outputs": [],
   "source": [
    "standard_dm = dataset.SquadDataManager(squad_dataset, standard_tokenizer)"
   ]
  },
  {
   "cell_type": "code",
   "execution_count": 341,
   "metadata": {
    "execution": {
     "iopub.execute_input": "2021-01-13T17:34:24.931112Z",
     "iopub.status.busy": "2021-01-13T17:34:24.930783Z",
     "iopub.status.idle": "2021-01-13T17:34:25.038467Z",
     "shell.execute_reply": "2021-01-13T17:34:25.037447Z",
     "shell.execute_reply.started": "2021-01-13T17:34:24.931070Z"
    }
   },
   "outputs": [
    {
     "data": {
      "text/html": [
       "<div>\n",
       "<style scoped>\n",
       "    .dataframe tbody tr th:only-of-type {\n",
       "        vertical-align: middle;\n",
       "    }\n",
       "\n",
       "    .dataframe tbody tr th {\n",
       "        vertical-align: top;\n",
       "    }\n",
       "\n",
       "    .dataframe thead th {\n",
       "        text-align: right;\n",
       "    }\n",
       "</style>\n",
       "<table border=\"1\" class=\"dataframe\">\n",
       "  <thead>\n",
       "    <tr style=\"text-align: right;\">\n",
       "      <th></th>\n",
       "      <th>question_id</th>\n",
       "      <th>question</th>\n",
       "      <th>title</th>\n",
       "      <th>context_id</th>\n",
       "      <th>context</th>\n",
       "      <th>answer</th>\n",
       "      <th>answer_start</th>\n",
       "      <th>answer_end</th>\n",
       "    </tr>\n",
       "  </thead>\n",
       "  <tbody>\n",
       "    <tr>\n",
       "      <th>0</th>\n",
       "      <td>56cc239e6d243a140015eeb7</td>\n",
       "      <td>Who were Wang Jiawei and Nyima Gyaincain?</td>\n",
       "      <td>Sino-Tibetan_relations_during_the_Ming_dynasty</td>\n",
       "      <td>299</td>\n",
       "      <td>The exact nature of relations between Tibet an...</td>\n",
       "      <td>[Mainland Chinese scholars]</td>\n",
       "      <td>[274]</td>\n",
       "      <td>[299]</td>\n",
       "    </tr>\n",
       "    <tr>\n",
       "      <th>1</th>\n",
       "      <td>56cc27346d243a140015eeba</td>\n",
       "      <td>What important trade did the Ming Dynasty have...</td>\n",
       "      <td>Sino-Tibetan_relations_during_the_Ming_dynasty</td>\n",
       "      <td>300</td>\n",
       "      <td>Some scholars note that Tibetan leaders during...</td>\n",
       "      <td>[horse trade]</td>\n",
       "      <td>[338]</td>\n",
       "      <td>[349]</td>\n",
       "    </tr>\n",
       "    <tr>\n",
       "      <th>2</th>\n",
       "      <td>56cc27346d243a140015eebb</td>\n",
       "      <td>During what years did the Mongol leader Kublai...</td>\n",
       "      <td>Sino-Tibetan_relations_during_the_Ming_dynasty</td>\n",
       "      <td>300</td>\n",
       "      <td>Some scholars note that Tibetan leaders during...</td>\n",
       "      <td>[1402–1424]</td>\n",
       "      <td>[739]</td>\n",
       "      <td>[748]</td>\n",
       "    </tr>\n",
       "    <tr>\n",
       "      <th>3</th>\n",
       "      <td>56cc27346d243a140015eebc</td>\n",
       "      <td>Who did the Yongle Emperor try to build a reli...</td>\n",
       "      <td>Sino-Tibetan_relations_during_the_Ming_dynasty</td>\n",
       "      <td>300</td>\n",
       "      <td>Some scholars note that Tibetan leaders during...</td>\n",
       "      <td>[Deshin Shekpa]</td>\n",
       "      <td>[821]</td>\n",
       "      <td>[834]</td>\n",
       "    </tr>\n",
       "    <tr>\n",
       "      <th>4</th>\n",
       "      <td>56cc27346d243a140015eebd</td>\n",
       "      <td>Deshin Shekpa was the head of what school?</td>\n",
       "      <td>Sino-Tibetan_relations_during_the_Ming_dynasty</td>\n",
       "      <td>300</td>\n",
       "      <td>Some scholars note that Tibetan leaders during...</td>\n",
       "      <td>[the Karma Kagyu school]</td>\n",
       "      <td>[863]</td>\n",
       "      <td>[885]</td>\n",
       "    </tr>\n",
       "    <tr>\n",
       "      <th>...</th>\n",
       "      <td>...</td>\n",
       "      <td>...</td>\n",
       "      <td>...</td>\n",
       "      <td>...</td>\n",
       "      <td>...</td>\n",
       "      <td>...</td>\n",
       "      <td>...</td>\n",
       "      <td>...</td>\n",
       "    </tr>\n",
       "    <tr>\n",
       "      <th>69864</th>\n",
       "      <td>573636bf9c79961900ff7e06</td>\n",
       "      <td>What Botswana was resently forced to do?</td>\n",
       "      <td>Hunting</td>\n",
       "      <td>18832</td>\n",
       "      <td>In contrast, Botswana has recently been forced...</td>\n",
       "      <td>[ban trophy hunting]</td>\n",
       "      <td>[50]</td>\n",
       "      <td>[68]</td>\n",
       "    </tr>\n",
       "    <tr>\n",
       "      <th>69865</th>\n",
       "      <td>573636bf9c79961900ff7e07</td>\n",
       "      <td>What animal declined across Botswana?</td>\n",
       "      <td>Hunting</td>\n",
       "      <td>18832</td>\n",
       "      <td>In contrast, Botswana has recently been forced...</td>\n",
       "      <td>[antelope]</td>\n",
       "      <td>[126]</td>\n",
       "      <td>[134]</td>\n",
       "    </tr>\n",
       "    <tr>\n",
       "      <th>69866</th>\n",
       "      <td>573636bf9c79961900ff7e08</td>\n",
       "      <td>What animal numbers have increased in Botswana?</td>\n",
       "      <td>Hunting</td>\n",
       "      <td>18832</td>\n",
       "      <td>In contrast, Botswana has recently been forced...</td>\n",
       "      <td>[hippopotamus]</td>\n",
       "      <td>[251]</td>\n",
       "      <td>[263]</td>\n",
       "    </tr>\n",
       "    <tr>\n",
       "      <th>69867</th>\n",
       "      <td>573636bf9c79961900ff7e09</td>\n",
       "      <td>What animal numbers remain stable in Botswana?</td>\n",
       "      <td>Hunting</td>\n",
       "      <td>18832</td>\n",
       "      <td>In contrast, Botswana has recently been forced...</td>\n",
       "      <td>[elephant]</td>\n",
       "      <td>[214]</td>\n",
       "      <td>[222]</td>\n",
       "    </tr>\n",
       "    <tr>\n",
       "      <th>69868</th>\n",
       "      <td>573636bf9c79961900ff7e0a</td>\n",
       "      <td>What else is partly to blame for the declining...</td>\n",
       "      <td>Hunting</td>\n",
       "      <td>18832</td>\n",
       "      <td>In contrast, Botswana has recently been forced...</td>\n",
       "      <td>[poaching]</td>\n",
       "      <td>[404]</td>\n",
       "      <td>[412]</td>\n",
       "    </tr>\n",
       "  </tbody>\n",
       "</table>\n",
       "<p>69869 rows × 8 columns</p>\n",
       "</div>"
      ],
      "text/plain": [
       "                    question_id  \\\n",
       "0      56cc239e6d243a140015eeb7   \n",
       "1      56cc27346d243a140015eeba   \n",
       "2      56cc27346d243a140015eebb   \n",
       "3      56cc27346d243a140015eebc   \n",
       "4      56cc27346d243a140015eebd   \n",
       "...                         ...   \n",
       "69864  573636bf9c79961900ff7e06   \n",
       "69865  573636bf9c79961900ff7e07   \n",
       "69866  573636bf9c79961900ff7e08   \n",
       "69867  573636bf9c79961900ff7e09   \n",
       "69868  573636bf9c79961900ff7e0a   \n",
       "\n",
       "                                                question  \\\n",
       "0              Who were Wang Jiawei and Nyima Gyaincain?   \n",
       "1      What important trade did the Ming Dynasty have...   \n",
       "2      During what years did the Mongol leader Kublai...   \n",
       "3      Who did the Yongle Emperor try to build a reli...   \n",
       "4             Deshin Shekpa was the head of what school?   \n",
       "...                                                  ...   \n",
       "69864           What Botswana was resently forced to do?   \n",
       "69865              What animal declined across Botswana?   \n",
       "69866    What animal numbers have increased in Botswana?   \n",
       "69867     What animal numbers remain stable in Botswana?   \n",
       "69868  What else is partly to blame for the declining...   \n",
       "\n",
       "                                                title  context_id  \\\n",
       "0      Sino-Tibetan_relations_during_the_Ming_dynasty         299   \n",
       "1      Sino-Tibetan_relations_during_the_Ming_dynasty         300   \n",
       "2      Sino-Tibetan_relations_during_the_Ming_dynasty         300   \n",
       "3      Sino-Tibetan_relations_during_the_Ming_dynasty         300   \n",
       "4      Sino-Tibetan_relations_during_the_Ming_dynasty         300   \n",
       "...                                               ...         ...   \n",
       "69864                                         Hunting       18832   \n",
       "69865                                         Hunting       18832   \n",
       "69866                                         Hunting       18832   \n",
       "69867                                         Hunting       18832   \n",
       "69868                                         Hunting       18832   \n",
       "\n",
       "                                                 context  \\\n",
       "0      The exact nature of relations between Tibet an...   \n",
       "1      Some scholars note that Tibetan leaders during...   \n",
       "2      Some scholars note that Tibetan leaders during...   \n",
       "3      Some scholars note that Tibetan leaders during...   \n",
       "4      Some scholars note that Tibetan leaders during...   \n",
       "...                                                  ...   \n",
       "69864  In contrast, Botswana has recently been forced...   \n",
       "69865  In contrast, Botswana has recently been forced...   \n",
       "69866  In contrast, Botswana has recently been forced...   \n",
       "69867  In contrast, Botswana has recently been forced...   \n",
       "69868  In contrast, Botswana has recently been forced...   \n",
       "\n",
       "                            answer answer_start answer_end  \n",
       "0      [Mainland Chinese scholars]        [274]      [299]  \n",
       "1                    [horse trade]        [338]      [349]  \n",
       "2                      [1402–1424]        [739]      [748]  \n",
       "3                  [Deshin Shekpa]        [821]      [834]  \n",
       "4         [the Karma Kagyu school]        [863]      [885]  \n",
       "...                            ...          ...        ...  \n",
       "69864         [ban trophy hunting]         [50]       [68]  \n",
       "69865                   [antelope]        [126]      [134]  \n",
       "69866               [hippopotamus]        [251]      [263]  \n",
       "69867                   [elephant]        [214]      [222]  \n",
       "69868                   [poaching]        [404]      [412]  \n",
       "\n",
       "[69869 rows x 8 columns]"
      ]
     },
     "execution_count": 341,
     "metadata": {},
     "output_type": "execute_result"
    }
   ],
   "source": [
    "standard_dm.train_df"
   ]
  },
  {
   "cell_type": "code",
   "execution_count": 342,
   "metadata": {
    "execution": {
     "iopub.execute_input": "2021-01-13T17:34:25.040233Z",
     "iopub.status.busy": "2021-01-13T17:34:25.039920Z",
     "iopub.status.idle": "2021-01-13T17:34:25.140075Z",
     "shell.execute_reply": "2021-01-13T17:34:25.138940Z",
     "shell.execute_reply.started": "2021-01-13T17:34:25.040195Z"
    }
   },
   "outputs": [
    {
     "data": {
      "text/html": [
       "<div>\n",
       "<style scoped>\n",
       "    .dataframe tbody tr th:only-of-type {\n",
       "        vertical-align: middle;\n",
       "    }\n",
       "\n",
       "    .dataframe tbody tr th {\n",
       "        vertical-align: top;\n",
       "    }\n",
       "\n",
       "    .dataframe thead th {\n",
       "        text-align: right;\n",
       "    }\n",
       "</style>\n",
       "<table border=\"1\" class=\"dataframe\">\n",
       "  <thead>\n",
       "    <tr style=\"text-align: right;\">\n",
       "      <th></th>\n",
       "      <th>question_id</th>\n",
       "      <th>question</th>\n",
       "      <th>title</th>\n",
       "      <th>context_id</th>\n",
       "      <th>context</th>\n",
       "      <th>answer</th>\n",
       "      <th>answer_start</th>\n",
       "      <th>answer_end</th>\n",
       "    </tr>\n",
       "  </thead>\n",
       "  <tbody>\n",
       "    <tr>\n",
       "      <th>0</th>\n",
       "      <td>56be85543aeaaa14008c9063</td>\n",
       "      <td>When did Beyonce start becoming popular?</td>\n",
       "      <td>Beyoncé</td>\n",
       "      <td>55</td>\n",
       "      <td>Beyoncé Giselle Knowles-Carter (/biːˈjɒnseɪ/ b...</td>\n",
       "      <td>[in the late 1990s]</td>\n",
       "      <td>[269]</td>\n",
       "      <td>[286]</td>\n",
       "    </tr>\n",
       "    <tr>\n",
       "      <th>1</th>\n",
       "      <td>56be85543aeaaa14008c9065</td>\n",
       "      <td>What areas did Beyonce compete in when she was...</td>\n",
       "      <td>Beyoncé</td>\n",
       "      <td>55</td>\n",
       "      <td>Beyoncé Giselle Knowles-Carter (/biːˈjɒnseɪ/ b...</td>\n",
       "      <td>[singing and dancing]</td>\n",
       "      <td>[207]</td>\n",
       "      <td>[226]</td>\n",
       "    </tr>\n",
       "    <tr>\n",
       "      <th>2</th>\n",
       "      <td>56be85543aeaaa14008c9066</td>\n",
       "      <td>When did Beyonce leave Destiny's Child and bec...</td>\n",
       "      <td>Beyoncé</td>\n",
       "      <td>55</td>\n",
       "      <td>Beyoncé Giselle Knowles-Carter (/biːˈjɒnseɪ/ b...</td>\n",
       "      <td>[2003]</td>\n",
       "      <td>[526]</td>\n",
       "      <td>[530]</td>\n",
       "    </tr>\n",
       "    <tr>\n",
       "      <th>3</th>\n",
       "      <td>56be86cf3aeaaa14008c9076</td>\n",
       "      <td>After her second solo album, what other entert...</td>\n",
       "      <td>Beyoncé</td>\n",
       "      <td>56</td>\n",
       "      <td>Following the disbandment of Destiny's Child i...</td>\n",
       "      <td>[acting]</td>\n",
       "      <td>[207]</td>\n",
       "      <td>[213]</td>\n",
       "    </tr>\n",
       "    <tr>\n",
       "      <th>4</th>\n",
       "      <td>56be86cf3aeaaa14008c9078</td>\n",
       "      <td>Which artist did Beyonce marry?</td>\n",
       "      <td>Beyoncé</td>\n",
       "      <td>56</td>\n",
       "      <td>Following the disbandment of Destiny's Child i...</td>\n",
       "      <td>[Jay Z]</td>\n",
       "      <td>[369]</td>\n",
       "      <td>[374]</td>\n",
       "    </tr>\n",
       "    <tr>\n",
       "      <th>...</th>\n",
       "      <td>...</td>\n",
       "      <td>...</td>\n",
       "      <td>...</td>\n",
       "      <td>...</td>\n",
       "      <td>...</td>\n",
       "      <td>...</td>\n",
       "      <td>...</td>\n",
       "      <td>...</td>\n",
       "    </tr>\n",
       "    <tr>\n",
       "      <th>17282</th>\n",
       "      <td>573445bbacc1501500babd6d</td>\n",
       "      <td>Why is cycling popular in Tucson?</td>\n",
       "      <td>Tucson,_Arizona</td>\n",
       "      <td>16649</td>\n",
       "      <td>Cycling is popular in Tucson due to its flat t...</td>\n",
       "      <td>[its flat terrain and dry climate]</td>\n",
       "      <td>[36]</td>\n",
       "      <td>[68]</td>\n",
       "    </tr>\n",
       "    <tr>\n",
       "      <th>17283</th>\n",
       "      <td>573445bbacc1501500babd6e</td>\n",
       "      <td>What is The Loop?</td>\n",
       "      <td>Tucson,_Arizona</td>\n",
       "      <td>16649</td>\n",
       "      <td>Cycling is popular in Tucson due to its flat t...</td>\n",
       "      <td>[a network of seven linear parks]</td>\n",
       "      <td>[254]</td>\n",
       "      <td>[285]</td>\n",
       "    </tr>\n",
       "    <tr>\n",
       "      <th>17284</th>\n",
       "      <td>573445bbacc1501500babd6f</td>\n",
       "      <td>How many miles of trails are in The Loop?</td>\n",
       "      <td>Tucson,_Arizona</td>\n",
       "      <td>16649</td>\n",
       "      <td>Cycling is popular in Tucson due to its flat t...</td>\n",
       "      <td>[over 100]</td>\n",
       "      <td>[297]</td>\n",
       "      <td>[305]</td>\n",
       "    </tr>\n",
       "    <tr>\n",
       "      <th>17285</th>\n",
       "      <td>573445bbacc1501500babd70</td>\n",
       "      <td>What organization advises the Tucson governmen...</td>\n",
       "      <td>Tucson,_Arizona</td>\n",
       "      <td>16649</td>\n",
       "      <td>Cycling is popular in Tucson due to its flat t...</td>\n",
       "      <td>[Tucson-Pima County Bicycle Advisory Committee]</td>\n",
       "      <td>[429]</td>\n",
       "      <td>[474]</td>\n",
       "    </tr>\n",
       "    <tr>\n",
       "      <th>17286</th>\n",
       "      <td>573445bbacc1501500babd71</td>\n",
       "      <td>What kind of places to ride bikes does Tucson ...</td>\n",
       "      <td>Tucson,_Arizona</td>\n",
       "      <td>16649</td>\n",
       "      <td>Cycling is popular in Tucson due to its flat t...</td>\n",
       "      <td>[marked bike routes, signal crossings, on-stre...</td>\n",
       "      <td>[126]</td>\n",
       "      <td>[240]</td>\n",
       "    </tr>\n",
       "  </tbody>\n",
       "</table>\n",
       "<p>17287 rows × 8 columns</p>\n",
       "</div>"
      ],
      "text/plain": [
       "                    question_id  \\\n",
       "0      56be85543aeaaa14008c9063   \n",
       "1      56be85543aeaaa14008c9065   \n",
       "2      56be85543aeaaa14008c9066   \n",
       "3      56be86cf3aeaaa14008c9076   \n",
       "4      56be86cf3aeaaa14008c9078   \n",
       "...                         ...   \n",
       "17282  573445bbacc1501500babd6d   \n",
       "17283  573445bbacc1501500babd6e   \n",
       "17284  573445bbacc1501500babd6f   \n",
       "17285  573445bbacc1501500babd70   \n",
       "17286  573445bbacc1501500babd71   \n",
       "\n",
       "                                                question            title  \\\n",
       "0               When did Beyonce start becoming popular?          Beyoncé   \n",
       "1      What areas did Beyonce compete in when she was...          Beyoncé   \n",
       "2      When did Beyonce leave Destiny's Child and bec...          Beyoncé   \n",
       "3      After her second solo album, what other entert...          Beyoncé   \n",
       "4                        Which artist did Beyonce marry?          Beyoncé   \n",
       "...                                                  ...              ...   \n",
       "17282                  Why is cycling popular in Tucson?  Tucson,_Arizona   \n",
       "17283                                  What is The Loop?  Tucson,_Arizona   \n",
       "17284          How many miles of trails are in The Loop?  Tucson,_Arizona   \n",
       "17285  What organization advises the Tucson governmen...  Tucson,_Arizona   \n",
       "17286  What kind of places to ride bikes does Tucson ...  Tucson,_Arizona   \n",
       "\n",
       "       context_id                                            context  \\\n",
       "0              55  Beyoncé Giselle Knowles-Carter (/biːˈjɒnseɪ/ b...   \n",
       "1              55  Beyoncé Giselle Knowles-Carter (/biːˈjɒnseɪ/ b...   \n",
       "2              55  Beyoncé Giselle Knowles-Carter (/biːˈjɒnseɪ/ b...   \n",
       "3              56  Following the disbandment of Destiny's Child i...   \n",
       "4              56  Following the disbandment of Destiny's Child i...   \n",
       "...           ...                                                ...   \n",
       "17282       16649  Cycling is popular in Tucson due to its flat t...   \n",
       "17283       16649  Cycling is popular in Tucson due to its flat t...   \n",
       "17284       16649  Cycling is popular in Tucson due to its flat t...   \n",
       "17285       16649  Cycling is popular in Tucson due to its flat t...   \n",
       "17286       16649  Cycling is popular in Tucson due to its flat t...   \n",
       "\n",
       "                                                  answer answer_start  \\\n",
       "0                                    [in the late 1990s]        [269]   \n",
       "1                                  [singing and dancing]        [207]   \n",
       "2                                                 [2003]        [526]   \n",
       "3                                               [acting]        [207]   \n",
       "4                                                [Jay Z]        [369]   \n",
       "...                                                  ...          ...   \n",
       "17282                 [its flat terrain and dry climate]         [36]   \n",
       "17283                  [a network of seven linear parks]        [254]   \n",
       "17284                                         [over 100]        [297]   \n",
       "17285    [Tucson-Pima County Bicycle Advisory Committee]        [429]   \n",
       "17286  [marked bike routes, signal crossings, on-stre...        [126]   \n",
       "\n",
       "      answer_end  \n",
       "0          [286]  \n",
       "1          [226]  \n",
       "2          [530]  \n",
       "3          [213]  \n",
       "4          [374]  \n",
       "...          ...  \n",
       "17282       [68]  \n",
       "17283      [285]  \n",
       "17284      [305]  \n",
       "17285      [474]  \n",
       "17286      [240]  \n",
       "\n",
       "[17287 rows x 8 columns]"
      ]
     },
     "execution_count": 342,
     "metadata": {},
     "output_type": "execute_result"
    }
   ],
   "source": [
    "standard_dm.val_df"
   ]
  },
  {
   "cell_type": "code",
   "execution_count": 343,
   "metadata": {
    "execution": {
     "iopub.execute_input": "2021-01-13T17:34:25.141795Z",
     "iopub.status.busy": "2021-01-13T17:34:25.141490Z",
     "iopub.status.idle": "2021-01-13T17:34:25.242996Z",
     "shell.execute_reply": "2021-01-13T17:34:25.241635Z",
     "shell.execute_reply.started": "2021-01-13T17:34:25.141757Z"
    }
   },
   "outputs": [
    {
     "data": {
      "text/html": [
       "<div>\n",
       "<style scoped>\n",
       "    .dataframe tbody tr th:only-of-type {\n",
       "        vertical-align: middle;\n",
       "    }\n",
       "\n",
       "    .dataframe tbody tr th {\n",
       "        vertical-align: top;\n",
       "    }\n",
       "\n",
       "    .dataframe thead th {\n",
       "        text-align: right;\n",
       "    }\n",
       "</style>\n",
       "<table border=\"1\" class=\"dataframe\">\n",
       "  <thead>\n",
       "    <tr style=\"text-align: right;\">\n",
       "      <th></th>\n",
       "      <th>question_id</th>\n",
       "      <th>question</th>\n",
       "      <th>title</th>\n",
       "      <th>context_id</th>\n",
       "      <th>context</th>\n",
       "      <th>answer</th>\n",
       "      <th>answer_start</th>\n",
       "      <th>answer_end</th>\n",
       "    </tr>\n",
       "  </thead>\n",
       "  <tbody>\n",
       "    <tr>\n",
       "      <th>0</th>\n",
       "      <td>56be4db0acb8001400a502ec</td>\n",
       "      <td>Which NFL team represented the AFC at Super Bo...</td>\n",
       "      <td>Super_Bowl_50</td>\n",
       "      <td>0</td>\n",
       "      <td>Super Bowl 50 was an American football game to...</td>\n",
       "      <td>[Denver Broncos]</td>\n",
       "      <td>[177]</td>\n",
       "      <td>[191]</td>\n",
       "    </tr>\n",
       "    <tr>\n",
       "      <th>1</th>\n",
       "      <td>56be4db0acb8001400a502ed</td>\n",
       "      <td>Which NFL team represented the NFC at Super Bo...</td>\n",
       "      <td>Super_Bowl_50</td>\n",
       "      <td>0</td>\n",
       "      <td>Super Bowl 50 was an American football game to...</td>\n",
       "      <td>[Carolina Panthers]</td>\n",
       "      <td>[249]</td>\n",
       "      <td>[266]</td>\n",
       "    </tr>\n",
       "    <tr>\n",
       "      <th>2</th>\n",
       "      <td>56be4db0acb8001400a502ee</td>\n",
       "      <td>Where did Super Bowl 50 take place?</td>\n",
       "      <td>Super_Bowl_50</td>\n",
       "      <td>0</td>\n",
       "      <td>Super Bowl 50 was an American football game to...</td>\n",
       "      <td>[Santa Clara, California, Levi's Stadium, Levi...</td>\n",
       "      <td>[403, 355, 355]</td>\n",
       "      <td>[426, 369, 427]</td>\n",
       "    </tr>\n",
       "    <tr>\n",
       "      <th>3</th>\n",
       "      <td>56be4db0acb8001400a502ef</td>\n",
       "      <td>Which NFL team won Super Bowl 50?</td>\n",
       "      <td>Super_Bowl_50</td>\n",
       "      <td>0</td>\n",
       "      <td>Super Bowl 50 was an American football game to...</td>\n",
       "      <td>[Denver Broncos]</td>\n",
       "      <td>[177]</td>\n",
       "      <td>[191]</td>\n",
       "    </tr>\n",
       "    <tr>\n",
       "      <th>4</th>\n",
       "      <td>56be4db0acb8001400a502f0</td>\n",
       "      <td>What color was used to emphasize the 50th anni...</td>\n",
       "      <td>Super_Bowl_50</td>\n",
       "      <td>0</td>\n",
       "      <td>Super Bowl 50 was an American football game to...</td>\n",
       "      <td>[gold]</td>\n",
       "      <td>[521]</td>\n",
       "      <td>[525]</td>\n",
       "    </tr>\n",
       "    <tr>\n",
       "      <th>...</th>\n",
       "      <td>...</td>\n",
       "      <td>...</td>\n",
       "      <td>...</td>\n",
       "      <td>...</td>\n",
       "      <td>...</td>\n",
       "      <td>...</td>\n",
       "      <td>...</td>\n",
       "      <td>...</td>\n",
       "    </tr>\n",
       "    <tr>\n",
       "      <th>10525</th>\n",
       "      <td>5737aafd1c456719005744fb</td>\n",
       "      <td>What is the metric term less used than the New...</td>\n",
       "      <td>Force</td>\n",
       "      <td>2066</td>\n",
       "      <td>The pound-force has a metric counterpart, less...</td>\n",
       "      <td>[kilogram-force, pound-force, kilogram-force (...</td>\n",
       "      <td>[82, 4, 82, 78]</td>\n",
       "      <td>[96, 15, 102, 98]</td>\n",
       "    </tr>\n",
       "    <tr>\n",
       "      <th>10526</th>\n",
       "      <td>5737aafd1c456719005744fc</td>\n",
       "      <td>What is the kilogram-force sometimes reffered ...</td>\n",
       "      <td>Force</td>\n",
       "      <td>2066</td>\n",
       "      <td>The pound-force has a metric counterpart, less...</td>\n",
       "      <td>[kilopond]</td>\n",
       "      <td>[114]</td>\n",
       "      <td>[122]</td>\n",
       "    </tr>\n",
       "    <tr>\n",
       "      <th>10527</th>\n",
       "      <td>5737aafd1c456719005744fd</td>\n",
       "      <td>What is a very seldom used unit of mass in the...</td>\n",
       "      <td>Force</td>\n",
       "      <td>2066</td>\n",
       "      <td>The pound-force has a metric counterpart, less...</td>\n",
       "      <td>[slug, metric slug, the metric slug]</td>\n",
       "      <td>[274, 267, 263]</td>\n",
       "      <td>[278, 278, 278]</td>\n",
       "    </tr>\n",
       "    <tr>\n",
       "      <th>10528</th>\n",
       "      <td>5737aafd1c456719005744fe</td>\n",
       "      <td>What seldom used term of a unit of force equal...</td>\n",
       "      <td>Force</td>\n",
       "      <td>2066</td>\n",
       "      <td>The pound-force has a metric counterpart, less...</td>\n",
       "      <td>[kip]</td>\n",
       "      <td>[712]</td>\n",
       "      <td>[715]</td>\n",
       "    </tr>\n",
       "    <tr>\n",
       "      <th>10529</th>\n",
       "      <td>5737aafd1c456719005744ff</td>\n",
       "      <td>What is the seldom used force unit equal to on...</td>\n",
       "      <td>Force</td>\n",
       "      <td>2066</td>\n",
       "      <td>The pound-force has a metric counterpart, less...</td>\n",
       "      <td>[sthène]</td>\n",
       "      <td>[665]</td>\n",
       "      <td>[671]</td>\n",
       "    </tr>\n",
       "  </tbody>\n",
       "</table>\n",
       "<p>10530 rows × 8 columns</p>\n",
       "</div>"
      ],
      "text/plain": [
       "                    question_id  \\\n",
       "0      56be4db0acb8001400a502ec   \n",
       "1      56be4db0acb8001400a502ed   \n",
       "2      56be4db0acb8001400a502ee   \n",
       "3      56be4db0acb8001400a502ef   \n",
       "4      56be4db0acb8001400a502f0   \n",
       "...                         ...   \n",
       "10525  5737aafd1c456719005744fb   \n",
       "10526  5737aafd1c456719005744fc   \n",
       "10527  5737aafd1c456719005744fd   \n",
       "10528  5737aafd1c456719005744fe   \n",
       "10529  5737aafd1c456719005744ff   \n",
       "\n",
       "                                                question          title  \\\n",
       "0      Which NFL team represented the AFC at Super Bo...  Super_Bowl_50   \n",
       "1      Which NFL team represented the NFC at Super Bo...  Super_Bowl_50   \n",
       "2                    Where did Super Bowl 50 take place?  Super_Bowl_50   \n",
       "3                      Which NFL team won Super Bowl 50?  Super_Bowl_50   \n",
       "4      What color was used to emphasize the 50th anni...  Super_Bowl_50   \n",
       "...                                                  ...            ...   \n",
       "10525  What is the metric term less used than the New...          Force   \n",
       "10526  What is the kilogram-force sometimes reffered ...          Force   \n",
       "10527  What is a very seldom used unit of mass in the...          Force   \n",
       "10528  What seldom used term of a unit of force equal...          Force   \n",
       "10529  What is the seldom used force unit equal to on...          Force   \n",
       "\n",
       "       context_id                                            context  \\\n",
       "0               0  Super Bowl 50 was an American football game to...   \n",
       "1               0  Super Bowl 50 was an American football game to...   \n",
       "2               0  Super Bowl 50 was an American football game to...   \n",
       "3               0  Super Bowl 50 was an American football game to...   \n",
       "4               0  Super Bowl 50 was an American football game to...   \n",
       "...           ...                                                ...   \n",
       "10525        2066  The pound-force has a metric counterpart, less...   \n",
       "10526        2066  The pound-force has a metric counterpart, less...   \n",
       "10527        2066  The pound-force has a metric counterpart, less...   \n",
       "10528        2066  The pound-force has a metric counterpart, less...   \n",
       "10529        2066  The pound-force has a metric counterpart, less...   \n",
       "\n",
       "                                                  answer     answer_start  \\\n",
       "0                                       [Denver Broncos]            [177]   \n",
       "1                                    [Carolina Panthers]            [249]   \n",
       "2      [Santa Clara, California, Levi's Stadium, Levi...  [403, 355, 355]   \n",
       "3                                       [Denver Broncos]            [177]   \n",
       "4                                                 [gold]            [521]   \n",
       "...                                                  ...              ...   \n",
       "10525  [kilogram-force, pound-force, kilogram-force (...  [82, 4, 82, 78]   \n",
       "10526                                         [kilopond]            [114]   \n",
       "10527               [slug, metric slug, the metric slug]  [274, 267, 263]   \n",
       "10528                                              [kip]            [712]   \n",
       "10529                                           [sthène]            [665]   \n",
       "\n",
       "              answer_end  \n",
       "0                  [191]  \n",
       "1                  [266]  \n",
       "2        [426, 369, 427]  \n",
       "3                  [191]  \n",
       "4                  [525]  \n",
       "...                  ...  \n",
       "10525  [96, 15, 102, 98]  \n",
       "10526              [122]  \n",
       "10527    [278, 278, 278]  \n",
       "10528              [715]  \n",
       "10529              [671]  \n",
       "\n",
       "[10530 rows x 8 columns]"
      ]
     },
     "execution_count": 343,
     "metadata": {},
     "output_type": "execute_result"
    }
   ],
   "source": [
    "standard_dm.test_df"
   ]
  },
  {
   "cell_type": "markdown",
   "metadata": {},
   "source": [
    "### Metrics and logs"
   ]
  },
  {
   "cell_type": "markdown",
   "metadata": {},
   "source": [
    "## Baseline model"
   ]
  },
  {
   "cell_type": "code",
   "execution_count": 344,
   "metadata": {
    "execution": {
     "iopub.execute_input": "2021-01-13T17:42:26.325796Z",
     "iopub.status.busy": "2021-01-13T17:42:26.325351Z",
     "iopub.status.idle": "2021-01-13T17:42:26.401514Z",
     "shell.execute_reply": "2021-01-13T17:42:26.400372Z",
     "shell.execute_reply.started": "2021-01-13T17:42:26.325751Z"
    }
   },
   "outputs": [
    {
     "data": {
      "text/plain": [
       "101400"
      ]
     },
     "execution_count": 344,
     "metadata": {},
     "output_type": "execute_result"
    }
   ],
   "source": [
    "baseline_model = model.QABaselineModel(glove_embedding_layer, MAX_CONTEXT_TOKENS)\n",
    "baseline_model.count_parameters()"
   ]
  },
  {
   "cell_type": "code",
   "execution_count": 345,
   "metadata": {
    "execution": {
     "iopub.execute_input": "2021-01-13T17:42:28.307991Z",
     "iopub.status.busy": "2021-01-13T17:42:28.307670Z",
     "iopub.status.idle": "2021-01-13T17:42:28.379017Z",
     "shell.execute_reply": "2021-01-13T17:42:28.377886Z",
     "shell.execute_reply.started": "2021-01-13T17:42:28.307949Z"
    }
   },
   "outputs": [],
   "source": [
    "baseline_args = transformers.TrainingArguments(\n",
    "    output_dir=\"./checkpoints\",\n",
    "    logging_dir=\"./runs\",\n",
    "    logging_first_step=True,\n",
    "    logging_steps=5,\n",
    "    overwrite_output_dir=True,\n",
    "    evaluation_strategy=\"epoch\",\n",
    "    learning_rate=1e-3,\n",
    "    num_train_epochs=10,\n",
    "    remove_unused_columns=False,\n",
    "    per_device_train_batch_size=256,\n",
    "    per_device_eval_batch_size=64,\n",
    "    label_names=[\"answer_start\", \"answer_end\"],\n",
    ")"
   ]
  },
  {
   "cell_type": "code",
   "execution_count": 346,
   "metadata": {
    "execution": {
     "iopub.execute_input": "2021-01-13T17:42:30.251233Z",
     "iopub.status.busy": "2021-01-13T17:42:30.250908Z",
     "iopub.status.idle": "2021-01-13T17:42:32.287140Z",
     "shell.execute_reply": "2021-01-13T17:42:32.285686Z",
     "shell.execute_reply.started": "2021-01-13T17:42:30.251191Z"
    }
   },
   "outputs": [],
   "source": [
    "baseline_trainer = training.SquadTrainer(\n",
    "    model=baseline_model,\n",
    "    args=baseline_args,\n",
    "    data_collator=standard_dm.tokenizer,\n",
    "    train_dataset=standard_dm.train_dataset,\n",
    "    eval_dataset=standard_dm.val_dataset,\n",
    "    compute_metrics=training.compute_metrics,\n",
    ")"
   ]
  },
  {
   "cell_type": "code",
   "execution_count": 85,
   "metadata": {
    "execution": {
     "iopub.execute_input": "2021-01-12T16:09:33.858947Z",
     "iopub.status.busy": "2021-01-12T16:09:33.858513Z",
     "iopub.status.idle": "2021-01-12T16:09:36.380312Z",
     "shell.execute_reply": "2021-01-12T16:09:36.378944Z",
     "shell.execute_reply.started": "2021-01-12T16:09:33.858903Z"
    }
   },
   "outputs": [
    {
     "data": {
      "text/html": [
       "\n",
       "                Tracking run with wandb version 0.10.13<br/>\n",
       "                Syncing run <strong style=\"color:#cdcd00\">2021-01-12 16:09:33</strong> to <a href=\"https://wandb.ai\" target=\"_blank\">Weights & Biases</a> <a href=\"https://docs.wandb.com/integrations/jupyter.html\" target=\"_blank\">(Documentation)</a>.<br/>\n",
       "                Project page: <a href=\"https://wandb.ai/wadaboa/squad-qa\" target=\"_blank\">https://wandb.ai/wadaboa/squad-qa</a><br/>\n",
       "                Run page: <a href=\"https://wandb.ai/wadaboa/squad-qa/runs/ojtj5lbn\" target=\"_blank\">https://wandb.ai/wadaboa/squad-qa/runs/ojtj5lbn</a><br/>\n",
       "                Run data is saved locally in <code>/root/jupyter/squad-question-answering/wandb/run-20210112_160933-ojtj5lbn</code><br/><br/>\n",
       "            "
      ],
      "text/plain": [
       "<IPython.core.display.HTML object>"
      ]
     },
     "metadata": {},
     "output_type": "display_data"
    }
   ],
   "source": [
    "baseline_run_name = utils.get_run_name()\n",
    "baseline_wandb_logger = init_wandb(\n",
    "    name=baseline_run_name, group=\"baseline\", reinit=True,\n",
    ")"
   ]
  },
  {
   "cell_type": "code",
   "execution_count": 347,
   "metadata": {
    "execution": {
     "iopub.execute_input": "2021-01-13T17:42:36.007571Z",
     "iopub.status.busy": "2021-01-13T17:42:36.007239Z",
     "iopub.status.idle": "2021-01-13T17:42:39.382044Z",
     "shell.execute_reply": "2021-01-13T17:42:39.380206Z",
     "shell.execute_reply.started": "2021-01-13T17:42:36.007530Z"
    }
   },
   "outputs": [
    {
     "name": "stdout",
     "output_type": "stream",
     "text": [
      "./checkpoints\n"
     ]
    },
    {
     "data": {
      "text/html": [
       "\n",
       "                Tracking run with wandb version 0.10.13<br/>\n",
       "                Syncing run <strong style=\"color:#cdcd00\">./checkpoints</strong> to <a href=\"https://wandb.ai\" target=\"_blank\">Weights & Biases</a> <a href=\"https://docs.wandb.com/integrations/jupyter.html\" target=\"_blank\">(Documentation)</a>.<br/>\n",
       "                Project page: <a href=\"https://wandb.ai/wadaboa/huggingface\" target=\"_blank\">https://wandb.ai/wadaboa/huggingface</a><br/>\n",
       "                Run page: <a href=\"https://wandb.ai/wadaboa/huggingface/runs/2e4svfo5\" target=\"_blank\">https://wandb.ai/wadaboa/huggingface/runs/2e4svfo5</a><br/>\n",
       "                Run data is saved locally in <code>/root/jupyter/squad-question-answering/wandb/run-20210113_174236-2e4svfo5</code><br/><br/>\n",
       "            "
      ],
      "text/plain": [
       "<IPython.core.display.HTML object>"
      ]
     },
     "metadata": {},
     "output_type": "display_data"
    },
    {
     "ename": "KeyError",
     "evalue": "'ids'",
     "output_type": "error",
     "traceback": [
      "\u001b[0;31m---------------------------------------------------------------------------\u001b[0m",
      "\u001b[0;31mKeyError\u001b[0m                                  Traceback (most recent call last)",
      "\u001b[0;32m<ipython-input-347-a28822d33159>\u001b[0m in \u001b[0;36m<module>\u001b[0;34m\u001b[0m\n\u001b[0;32m----> 1\u001b[0;31m \u001b[0mbaseline_trainer\u001b[0m\u001b[0;34m.\u001b[0m\u001b[0mtrain\u001b[0m\u001b[0;34m(\u001b[0m\u001b[0;34m)\u001b[0m\u001b[0;34m\u001b[0m\u001b[0;34m\u001b[0m\u001b[0m\n\u001b[0m",
      "\u001b[0;32m~/anaconda3/lib/python3.8/site-packages/transformers/trainer.py\u001b[0m in \u001b[0;36mtrain\u001b[0;34m(self, model_path, trial)\u001b[0m\n\u001b[1;32m    782\u001b[0m             \u001b[0mself\u001b[0m\u001b[0;34m.\u001b[0m\u001b[0mcontrol\u001b[0m \u001b[0;34m=\u001b[0m \u001b[0mself\u001b[0m\u001b[0;34m.\u001b[0m\u001b[0mcallback_handler\u001b[0m\u001b[0;34m.\u001b[0m\u001b[0mon_epoch_begin\u001b[0m\u001b[0;34m(\u001b[0m\u001b[0mself\u001b[0m\u001b[0;34m.\u001b[0m\u001b[0margs\u001b[0m\u001b[0;34m,\u001b[0m \u001b[0mself\u001b[0m\u001b[0;34m.\u001b[0m\u001b[0mstate\u001b[0m\u001b[0;34m,\u001b[0m \u001b[0mself\u001b[0m\u001b[0;34m.\u001b[0m\u001b[0mcontrol\u001b[0m\u001b[0;34m)\u001b[0m\u001b[0;34m\u001b[0m\u001b[0;34m\u001b[0m\u001b[0m\n\u001b[1;32m    783\u001b[0m \u001b[0;34m\u001b[0m\u001b[0m\n\u001b[0;32m--> 784\u001b[0;31m             \u001b[0;32mfor\u001b[0m \u001b[0mstep\u001b[0m\u001b[0;34m,\u001b[0m \u001b[0minputs\u001b[0m \u001b[0;32min\u001b[0m \u001b[0menumerate\u001b[0m\u001b[0;34m(\u001b[0m\u001b[0mepoch_iterator\u001b[0m\u001b[0;34m)\u001b[0m\u001b[0;34m:\u001b[0m\u001b[0;34m\u001b[0m\u001b[0;34m\u001b[0m\u001b[0m\n\u001b[0m\u001b[1;32m    785\u001b[0m \u001b[0;34m\u001b[0m\u001b[0m\n\u001b[1;32m    786\u001b[0m                 \u001b[0;31m# Skip past any already trained steps if resuming training\u001b[0m\u001b[0;34m\u001b[0m\u001b[0;34m\u001b[0m\u001b[0;34m\u001b[0m\u001b[0m\n",
      "\u001b[0;32m~/anaconda3/lib/python3.8/site-packages/torch/utils/data/dataloader.py\u001b[0m in \u001b[0;36m__next__\u001b[0;34m(self)\u001b[0m\n\u001b[1;32m    433\u001b[0m         \u001b[0;32mif\u001b[0m \u001b[0mself\u001b[0m\u001b[0;34m.\u001b[0m\u001b[0m_sampler_iter\u001b[0m \u001b[0;32mis\u001b[0m \u001b[0;32mNone\u001b[0m\u001b[0;34m:\u001b[0m\u001b[0;34m\u001b[0m\u001b[0;34m\u001b[0m\u001b[0m\n\u001b[1;32m    434\u001b[0m             \u001b[0mself\u001b[0m\u001b[0;34m.\u001b[0m\u001b[0m_reset\u001b[0m\u001b[0;34m(\u001b[0m\u001b[0;34m)\u001b[0m\u001b[0;34m\u001b[0m\u001b[0;34m\u001b[0m\u001b[0m\n\u001b[0;32m--> 435\u001b[0;31m         \u001b[0mdata\u001b[0m \u001b[0;34m=\u001b[0m \u001b[0mself\u001b[0m\u001b[0;34m.\u001b[0m\u001b[0m_next_data\u001b[0m\u001b[0;34m(\u001b[0m\u001b[0;34m)\u001b[0m\u001b[0;34m\u001b[0m\u001b[0;34m\u001b[0m\u001b[0m\n\u001b[0m\u001b[1;32m    436\u001b[0m         \u001b[0mself\u001b[0m\u001b[0;34m.\u001b[0m\u001b[0m_num_yielded\u001b[0m \u001b[0;34m+=\u001b[0m \u001b[0;36m1\u001b[0m\u001b[0;34m\u001b[0m\u001b[0;34m\u001b[0m\u001b[0m\n\u001b[1;32m    437\u001b[0m         \u001b[0;32mif\u001b[0m \u001b[0mself\u001b[0m\u001b[0;34m.\u001b[0m\u001b[0m_dataset_kind\u001b[0m \u001b[0;34m==\u001b[0m \u001b[0m_DatasetKind\u001b[0m\u001b[0;34m.\u001b[0m\u001b[0mIterable\u001b[0m \u001b[0;32mand\u001b[0m\u001b[0;31m \u001b[0m\u001b[0;31m\\\u001b[0m\u001b[0;34m\u001b[0m\u001b[0;34m\u001b[0m\u001b[0m\n",
      "\u001b[0;32m~/anaconda3/lib/python3.8/site-packages/torch/utils/data/dataloader.py\u001b[0m in \u001b[0;36m_next_data\u001b[0;34m(self)\u001b[0m\n\u001b[1;32m    473\u001b[0m     \u001b[0;32mdef\u001b[0m \u001b[0m_next_data\u001b[0m\u001b[0;34m(\u001b[0m\u001b[0mself\u001b[0m\u001b[0;34m)\u001b[0m\u001b[0;34m:\u001b[0m\u001b[0;34m\u001b[0m\u001b[0;34m\u001b[0m\u001b[0m\n\u001b[1;32m    474\u001b[0m         \u001b[0mindex\u001b[0m \u001b[0;34m=\u001b[0m \u001b[0mself\u001b[0m\u001b[0;34m.\u001b[0m\u001b[0m_next_index\u001b[0m\u001b[0;34m(\u001b[0m\u001b[0;34m)\u001b[0m  \u001b[0;31m# may raise StopIteration\u001b[0m\u001b[0;34m\u001b[0m\u001b[0;34m\u001b[0m\u001b[0m\n\u001b[0;32m--> 475\u001b[0;31m         \u001b[0mdata\u001b[0m \u001b[0;34m=\u001b[0m \u001b[0mself\u001b[0m\u001b[0;34m.\u001b[0m\u001b[0m_dataset_fetcher\u001b[0m\u001b[0;34m.\u001b[0m\u001b[0mfetch\u001b[0m\u001b[0;34m(\u001b[0m\u001b[0mindex\u001b[0m\u001b[0;34m)\u001b[0m  \u001b[0;31m# may raise StopIteration\u001b[0m\u001b[0;34m\u001b[0m\u001b[0;34m\u001b[0m\u001b[0m\n\u001b[0m\u001b[1;32m    476\u001b[0m         \u001b[0;32mif\u001b[0m \u001b[0mself\u001b[0m\u001b[0;34m.\u001b[0m\u001b[0m_pin_memory\u001b[0m\u001b[0;34m:\u001b[0m\u001b[0;34m\u001b[0m\u001b[0;34m\u001b[0m\u001b[0m\n\u001b[1;32m    477\u001b[0m             \u001b[0mdata\u001b[0m \u001b[0;34m=\u001b[0m \u001b[0m_utils\u001b[0m\u001b[0;34m.\u001b[0m\u001b[0mpin_memory\u001b[0m\u001b[0;34m.\u001b[0m\u001b[0mpin_memory\u001b[0m\u001b[0;34m(\u001b[0m\u001b[0mdata\u001b[0m\u001b[0;34m)\u001b[0m\u001b[0;34m\u001b[0m\u001b[0;34m\u001b[0m\u001b[0m\n",
      "\u001b[0;32m~/anaconda3/lib/python3.8/site-packages/torch/utils/data/_utils/fetch.py\u001b[0m in \u001b[0;36mfetch\u001b[0;34m(self, possibly_batched_index)\u001b[0m\n\u001b[1;32m     45\u001b[0m         \u001b[0;32melse\u001b[0m\u001b[0;34m:\u001b[0m\u001b[0;34m\u001b[0m\u001b[0;34m\u001b[0m\u001b[0m\n\u001b[1;32m     46\u001b[0m             \u001b[0mdata\u001b[0m \u001b[0;34m=\u001b[0m \u001b[0mself\u001b[0m\u001b[0;34m.\u001b[0m\u001b[0mdataset\u001b[0m\u001b[0;34m[\u001b[0m\u001b[0mpossibly_batched_index\u001b[0m\u001b[0;34m]\u001b[0m\u001b[0;34m\u001b[0m\u001b[0;34m\u001b[0m\u001b[0m\n\u001b[0;32m---> 47\u001b[0;31m         \u001b[0;32mreturn\u001b[0m \u001b[0mself\u001b[0m\u001b[0;34m.\u001b[0m\u001b[0mcollate_fn\u001b[0m\u001b[0;34m(\u001b[0m\u001b[0mdata\u001b[0m\u001b[0;34m)\u001b[0m\u001b[0;34m\u001b[0m\u001b[0;34m\u001b[0m\u001b[0m\n\u001b[0m",
      "\u001b[0;32m~/jupyter/squad-question-answering/dataset.py\u001b[0m in \u001b[0;36m__call__\u001b[0;34m(self, inputs)\u001b[0m\n\u001b[1;32m    306\u001b[0m         \u001b[0;31m# Create the batch dictionary with encoding info\u001b[0m\u001b[0;34m\u001b[0m\u001b[0;34m\u001b[0m\u001b[0;34m\u001b[0m\u001b[0m\n\u001b[1;32m    307\u001b[0m         batch = {\n\u001b[0;32m--> 308\u001b[0;31m             \u001b[0;34m\"question_ids\"\u001b[0m\u001b[0;34m:\u001b[0m \u001b[0mtorch\u001b[0m\u001b[0;34m.\u001b[0m\u001b[0mtensor\u001b[0m\u001b[0;34m(\u001b[0m\u001b[0mqattr\u001b[0m\u001b[0;34m[\u001b[0m\u001b[0mself\u001b[0m\u001b[0;34m.\u001b[0m\u001b[0mENCODING_ATTR_ID\u001b[0m\u001b[0;34m[\u001b[0m\u001b[0;34m\"ids\"\u001b[0m\u001b[0;34m]\u001b[0m\u001b[0;34m]\u001b[0m\u001b[0;34m)\u001b[0m\u001b[0;34m,\u001b[0m\u001b[0;34m\u001b[0m\u001b[0;34m\u001b[0m\u001b[0m\n\u001b[0m\u001b[1;32m    309\u001b[0m             \u001b[0;34m\"question_type_ids\"\u001b[0m\u001b[0;34m:\u001b[0m \u001b[0mtorch\u001b[0m\u001b[0;34m.\u001b[0m\u001b[0mtensor\u001b[0m\u001b[0;34m(\u001b[0m\u001b[0mqattr\u001b[0m\u001b[0;34m[\u001b[0m\u001b[0mself\u001b[0m\u001b[0;34m.\u001b[0m\u001b[0mENCODING_ATTR_ID\u001b[0m\u001b[0;34m[\u001b[0m\u001b[0;34m\"type_ids\"\u001b[0m\u001b[0;34m]\u001b[0m\u001b[0;34m]\u001b[0m\u001b[0;34m)\u001b[0m\u001b[0;34m,\u001b[0m\u001b[0;34m\u001b[0m\u001b[0;34m\u001b[0m\u001b[0m\n\u001b[1;32m    310\u001b[0m             \"question_attention_mask\": torch.tensor(\n",
      "\u001b[0;31mKeyError\u001b[0m: 'ids'"
     ]
    }
   ],
   "source": [
    "baseline_trainer.train()"
   ]
  },
  {
   "cell_type": "code",
   "execution_count": 87,
   "metadata": {
    "execution": {
     "iopub.execute_input": "2021-01-12T16:11:32.407489Z",
     "iopub.status.busy": "2021-01-12T16:11:32.407047Z",
     "iopub.status.idle": "2021-01-12T16:11:36.294290Z",
     "shell.execute_reply": "2021-01-12T16:11:36.293103Z",
     "shell.execute_reply.started": "2021-01-12T16:11:32.407437Z"
    }
   },
   "outputs": [
    {
     "data": {
      "text/html": [
       "<br/>Waiting for W&B process to finish, PID 64782<br/>Program ended successfully."
      ],
      "text/plain": [
       "<IPython.core.display.HTML object>"
      ]
     },
     "metadata": {},
     "output_type": "display_data"
    },
    {
     "data": {
      "application/vnd.jupyter.widget-view+json": {
       "model_id": "",
       "version_major": 2,
       "version_minor": 0
      },
      "text/plain": [
       "VBox(children=(Label(value=' 0.00MB of 0.00MB uploaded (0.00MB deduped)\\r'), FloatProgress(value=1.0, max=1.0)…"
      ]
     },
     "metadata": {},
     "output_type": "display_data"
    },
    {
     "data": {
      "text/html": [
       "Find user logs for this run at: <code>/root/jupyter/squad-question-answering/wandb/run-20210112_160933-ojtj5lbn/logs/debug.log</code>"
      ],
      "text/plain": [
       "<IPython.core.display.HTML object>"
      ]
     },
     "metadata": {},
     "output_type": "display_data"
    },
    {
     "data": {
      "text/html": [
       "Find internal logs for this run at: <code>/root/jupyter/squad-question-answering/wandb/run-20210112_160933-ojtj5lbn/logs/debug-internal.log</code>"
      ],
      "text/plain": [
       "<IPython.core.display.HTML object>"
      ]
     },
     "metadata": {},
     "output_type": "display_data"
    },
    {
     "data": {
      "text/html": [
       "<h3>Run summary:</h3><br/><style>\n",
       "    table.wandb td:nth-child(1) { padding: 0 10px; text-align: right }\n",
       "    </style><table class=\"wandb\">\n",
       "<tr><td>train/loss</td><td>11.31863</td></tr><tr><td>train/learning_rate</td><td>0.001</td></tr><tr><td>train/epoch</td><td>0.03663</td></tr><tr><td>train/f1</td><td>0.0</td></tr><tr><td>train/accuracy</td><td>0.0</td></tr><tr><td>train/em</td><td>0.0</td></tr><tr><td>_step</td><td>10</td></tr><tr><td>_runtime</td><td>118</td></tr><tr><td>_timestamp</td><td>1610467892</td></tr></table>"
      ],
      "text/plain": [
       "<IPython.core.display.HTML object>"
      ]
     },
     "metadata": {},
     "output_type": "display_data"
    },
    {
     "data": {
      "text/html": [
       "<h3>Run history:</h3><br/><style>\n",
       "    table.wandb td:nth-child(1) { padding: 0 10px; text-align: right }\n",
       "    </style><table class=\"wandb\">\n",
       "<tr><td>train/loss</td><td>█▆▁</td></tr><tr><td>train/learning_rate</td><td>█▅▁</td></tr><tr><td>train/epoch</td><td>▁▄█</td></tr><tr><td>train/f1</td><td>█▇▁</td></tr><tr><td>train/accuracy</td><td>█▃▁</td></tr><tr><td>train/em</td><td>▁▁▁</td></tr><tr><td>_step</td><td>▁▄█</td></tr><tr><td>_runtime</td><td>▁▅█</td></tr><tr><td>_timestamp</td><td>▁▅█</td></tr></table><br/>"
      ],
      "text/plain": [
       "<IPython.core.display.HTML object>"
      ]
     },
     "metadata": {},
     "output_type": "display_data"
    },
    {
     "data": {
      "text/html": [
       "Synced 5 W&B file(s), 1 media file(s), 0 artifact file(s) and 0 other file(s)"
      ],
      "text/plain": [
       "<IPython.core.display.HTML object>"
      ]
     },
     "metadata": {},
     "output_type": "display_data"
    },
    {
     "data": {
      "text/html": [
       "\n",
       "                    <br/>Synced <strong style=\"color:#cdcd00\">2021-01-12 16:09:33</strong>: <a href=\"https://wandb.ai/wadaboa/squad-qa/runs/ojtj5lbn\" target=\"_blank\">https://wandb.ai/wadaboa/squad-qa/runs/ojtj5lbn</a><br/>\n",
       "                "
      ],
      "text/plain": [
       "<IPython.core.display.HTML object>"
      ]
     },
     "metadata": {},
     "output_type": "display_data"
    }
   ],
   "source": [
    "baseline_wandb_logger.finish()"
   ]
  },
  {
   "cell_type": "markdown",
   "metadata": {},
   "source": [
    "## BiDAF"
   ]
  },
  {
   "cell_type": "code",
   "execution_count": 354,
   "metadata": {
    "execution": {
     "iopub.execute_input": "2021-01-10T16:45:21.848643Z",
     "iopub.status.busy": "2021-01-10T16:45:21.848207Z",
     "iopub.status.idle": "2021-01-10T16:45:21.934780Z",
     "shell.execute_reply": "2021-01-10T16:45:21.933493Z",
     "shell.execute_reply.started": "2021-01-10T16:45:21.848598Z"
    }
   },
   "outputs": [
    {
     "data": {
      "text/plain": [
       "314350"
      ]
     },
     "execution_count": 354,
     "metadata": {},
     "output_type": "execute_result"
    }
   ],
   "source": [
    "bidaf_model = model.BiDAFModel(glove_embedding_layer)\n",
    "bidaf_model.count_parameters()"
   ]
  },
  {
   "cell_type": "code",
   "execution_count": 355,
   "metadata": {
    "execution": {
     "iopub.execute_input": "2021-01-10T16:45:22.629608Z",
     "iopub.status.busy": "2021-01-10T16:45:22.629295Z",
     "iopub.status.idle": "2021-01-10T16:45:22.699341Z",
     "shell.execute_reply": "2021-01-10T16:45:22.697571Z",
     "shell.execute_reply.started": "2021-01-10T16:45:22.629567Z"
    }
   },
   "outputs": [],
   "source": [
    "bidaf_args = transformers.TrainingArguments(\n",
    "    output_dir=\"./checkpoints\",\n",
    "    logging_dir=\"./runs\",\n",
    "    logging_first_step=True,\n",
    "    logging_steps=5,\n",
    "    overwrite_output_dir=True,\n",
    "    evaluation_strategy=\"epoch\",\n",
    "    learning_rate=1e-3,\n",
    "    num_train_epochs=10,\n",
    "    remove_unused_columns=False,\n",
    "    per_device_train_batch_size=256,\n",
    "    per_device_eval_batch_size=64,\n",
    "    label_names=[\"answer_start\", \"answer_end\"]\n",
    ")"
   ]
  },
  {
   "cell_type": "code",
   "execution_count": 356,
   "metadata": {
    "execution": {
     "iopub.execute_input": "2021-01-10T16:45:22.851387Z",
     "iopub.status.busy": "2021-01-10T16:45:22.851019Z",
     "iopub.status.idle": "2021-01-10T16:45:22.918908Z",
     "shell.execute_reply": "2021-01-10T16:45:22.917726Z",
     "shell.execute_reply.started": "2021-01-10T16:45:22.851346Z"
    }
   },
   "outputs": [],
   "source": [
    "bidaf_optimizer = optim.Adadelta(bidaf_model.parameters(), lr=0.5)\n",
    "bidaf_lr_scheduler = optim.lr_scheduler.ExponentialLR(bidaf_optimizer, gamma=.999)"
   ]
  },
  {
   "cell_type": "code",
   "execution_count": 357,
   "metadata": {
    "execution": {
     "iopub.execute_input": "2021-01-10T16:45:24.289358Z",
     "iopub.status.busy": "2021-01-10T16:45:24.289042Z",
     "iopub.status.idle": "2021-01-10T16:45:24.363955Z",
     "shell.execute_reply": "2021-01-10T16:45:24.362912Z",
     "shell.execute_reply.started": "2021-01-10T16:45:24.289318Z"
    }
   },
   "outputs": [],
   "source": [
    "bidaf_trainer = training.SquadTrainer(\n",
    "    model=bidaf_model,\n",
    "    args=bidaf_args,\n",
    "    data_collator=standard_dm.tokenizer,\n",
    "    train_dataset=standard_dm.train_dataset,\n",
    "    eval_dataset=standard_dm.val_dataset,\n",
    "    optimizers=(bidaf_optimizer, bidaf_lr_scheduler),\n",
    "    compute_metrics=training.compute_metrics,\n",
    ")"
   ]
  },
  {
   "cell_type": "code",
   "execution_count": null,
   "metadata": {},
   "outputs": [],
   "source": [
    "bidaf_run_name = utils.get_run_name()\n",
    "bidaf_wandb_logger = init_wandb(name=bidaf_run_name, group=\"bidaf\", reinit=True,)"
   ]
  },
  {
   "cell_type": "code",
   "execution_count": 358,
   "metadata": {
    "execution": {
     "iopub.execute_input": "2021-01-10T16:45:33.062428Z",
     "iopub.status.busy": "2021-01-10T16:45:33.061976Z",
     "iopub.status.idle": "2021-01-10T16:46:34.743864Z",
     "shell.execute_reply": "2021-01-10T16:46:34.741691Z",
     "shell.execute_reply.started": "2021-01-10T16:45:33.062384Z"
    }
   },
   "outputs": [
    {
     "name": "stdout",
     "output_type": "stream",
     "text": [
      "torch.Size([256, 300, 1]) torch.Size([256, 300, 1])\n",
      "tensor(15.0205, grad_fn=<NllLossBackward>) tensor(13.8060, grad_fn=<NllLossBackward>)\n"
     ]
    },
    {
     "ename": "KeyboardInterrupt",
     "evalue": "",
     "output_type": "error",
     "traceback": [
      "\u001b[0;31m---------------------------------------------------------------------------\u001b[0m",
      "\u001b[0;31mKeyboardInterrupt\u001b[0m                         Traceback (most recent call last)",
      "\u001b[0;32m<ipython-input-358-a28822d33159>\u001b[0m in \u001b[0;36m<module>\u001b[0;34m\u001b[0m\n\u001b[0;32m----> 1\u001b[0;31m \u001b[0mbaseline_trainer\u001b[0m\u001b[0;34m.\u001b[0m\u001b[0mtrain\u001b[0m\u001b[0;34m(\u001b[0m\u001b[0;34m)\u001b[0m\u001b[0;34m\u001b[0m\u001b[0;34m\u001b[0m\u001b[0m\n\u001b[0m",
      "\u001b[0;32m~/anaconda3/lib/python3.8/site-packages/transformers/trainer.py\u001b[0m in \u001b[0;36mtrain\u001b[0;34m(self, model_path, trial)\u001b[0m\n\u001b[1;32m    797\u001b[0m                         \u001b[0mtr_loss\u001b[0m \u001b[0;34m+=\u001b[0m \u001b[0mself\u001b[0m\u001b[0;34m.\u001b[0m\u001b[0mtraining_step\u001b[0m\u001b[0;34m(\u001b[0m\u001b[0mmodel\u001b[0m\u001b[0;34m,\u001b[0m \u001b[0minputs\u001b[0m\u001b[0;34m)\u001b[0m\u001b[0;34m\u001b[0m\u001b[0;34m\u001b[0m\u001b[0m\n\u001b[1;32m    798\u001b[0m                 \u001b[0;32melse\u001b[0m\u001b[0;34m:\u001b[0m\u001b[0;34m\u001b[0m\u001b[0;34m\u001b[0m\u001b[0m\n\u001b[0;32m--> 799\u001b[0;31m                     \u001b[0mtr_loss\u001b[0m \u001b[0;34m+=\u001b[0m \u001b[0mself\u001b[0m\u001b[0;34m.\u001b[0m\u001b[0mtraining_step\u001b[0m\u001b[0;34m(\u001b[0m\u001b[0mmodel\u001b[0m\u001b[0;34m,\u001b[0m \u001b[0minputs\u001b[0m\u001b[0;34m)\u001b[0m\u001b[0;34m\u001b[0m\u001b[0;34m\u001b[0m\u001b[0m\n\u001b[0m\u001b[1;32m    800\u001b[0m                 \u001b[0mself\u001b[0m\u001b[0;34m.\u001b[0m\u001b[0m_total_flos\u001b[0m \u001b[0;34m+=\u001b[0m \u001b[0mself\u001b[0m\u001b[0;34m.\u001b[0m\u001b[0mfloating_point_ops\u001b[0m\u001b[0;34m(\u001b[0m\u001b[0minputs\u001b[0m\u001b[0;34m)\u001b[0m\u001b[0;34m\u001b[0m\u001b[0;34m\u001b[0m\u001b[0m\n\u001b[1;32m    801\u001b[0m \u001b[0;34m\u001b[0m\u001b[0m\n",
      "\u001b[0;32m~/anaconda3/lib/python3.8/site-packages/transformers/trainer.py\u001b[0m in \u001b[0;36mtraining_step\u001b[0;34m(self, model, inputs)\u001b[0m\n\u001b[1;32m   1151\u001b[0m                 \u001b[0mscaled_loss\u001b[0m\u001b[0;34m.\u001b[0m\u001b[0mbackward\u001b[0m\u001b[0;34m(\u001b[0m\u001b[0;34m)\u001b[0m\u001b[0;34m\u001b[0m\u001b[0;34m\u001b[0m\u001b[0m\n\u001b[1;32m   1152\u001b[0m         \u001b[0;32melse\u001b[0m\u001b[0;34m:\u001b[0m\u001b[0;34m\u001b[0m\u001b[0;34m\u001b[0m\u001b[0m\n\u001b[0;32m-> 1153\u001b[0;31m             \u001b[0mloss\u001b[0m\u001b[0;34m.\u001b[0m\u001b[0mbackward\u001b[0m\u001b[0;34m(\u001b[0m\u001b[0;34m)\u001b[0m\u001b[0;34m\u001b[0m\u001b[0;34m\u001b[0m\u001b[0m\n\u001b[0m\u001b[1;32m   1154\u001b[0m \u001b[0;34m\u001b[0m\u001b[0m\n\u001b[1;32m   1155\u001b[0m         \u001b[0;32mreturn\u001b[0m \u001b[0mloss\u001b[0m\u001b[0;34m.\u001b[0m\u001b[0mdetach\u001b[0m\u001b[0;34m(\u001b[0m\u001b[0;34m)\u001b[0m\u001b[0;34m\u001b[0m\u001b[0;34m\u001b[0m\u001b[0m\n",
      "\u001b[0;32m~/anaconda3/lib/python3.8/site-packages/torch/tensor.py\u001b[0m in \u001b[0;36mbackward\u001b[0;34m(self, gradient, retain_graph, create_graph)\u001b[0m\n\u001b[1;32m    219\u001b[0m                 \u001b[0mretain_graph\u001b[0m\u001b[0;34m=\u001b[0m\u001b[0mretain_graph\u001b[0m\u001b[0;34m,\u001b[0m\u001b[0;34m\u001b[0m\u001b[0;34m\u001b[0m\u001b[0m\n\u001b[1;32m    220\u001b[0m                 create_graph=create_graph)\n\u001b[0;32m--> 221\u001b[0;31m         \u001b[0mtorch\u001b[0m\u001b[0;34m.\u001b[0m\u001b[0mautograd\u001b[0m\u001b[0;34m.\u001b[0m\u001b[0mbackward\u001b[0m\u001b[0;34m(\u001b[0m\u001b[0mself\u001b[0m\u001b[0;34m,\u001b[0m \u001b[0mgradient\u001b[0m\u001b[0;34m,\u001b[0m \u001b[0mretain_graph\u001b[0m\u001b[0;34m,\u001b[0m \u001b[0mcreate_graph\u001b[0m\u001b[0;34m)\u001b[0m\u001b[0;34m\u001b[0m\u001b[0;34m\u001b[0m\u001b[0m\n\u001b[0m\u001b[1;32m    222\u001b[0m \u001b[0;34m\u001b[0m\u001b[0m\n\u001b[1;32m    223\u001b[0m     \u001b[0;32mdef\u001b[0m \u001b[0mregister_hook\u001b[0m\u001b[0;34m(\u001b[0m\u001b[0mself\u001b[0m\u001b[0;34m,\u001b[0m \u001b[0mhook\u001b[0m\u001b[0;34m)\u001b[0m\u001b[0;34m:\u001b[0m\u001b[0;34m\u001b[0m\u001b[0;34m\u001b[0m\u001b[0m\n",
      "\u001b[0;32m~/anaconda3/lib/python3.8/site-packages/torch/autograd/__init__.py\u001b[0m in \u001b[0;36mbackward\u001b[0;34m(tensors, grad_tensors, retain_graph, create_graph, grad_variables)\u001b[0m\n\u001b[1;32m    128\u001b[0m         \u001b[0mretain_graph\u001b[0m \u001b[0;34m=\u001b[0m \u001b[0mcreate_graph\u001b[0m\u001b[0;34m\u001b[0m\u001b[0;34m\u001b[0m\u001b[0m\n\u001b[1;32m    129\u001b[0m \u001b[0;34m\u001b[0m\u001b[0m\n\u001b[0;32m--> 130\u001b[0;31m     Variable._execution_engine.run_backward(\n\u001b[0m\u001b[1;32m    131\u001b[0m         \u001b[0mtensors\u001b[0m\u001b[0;34m,\u001b[0m \u001b[0mgrad_tensors_\u001b[0m\u001b[0;34m,\u001b[0m \u001b[0mretain_graph\u001b[0m\u001b[0;34m,\u001b[0m \u001b[0mcreate_graph\u001b[0m\u001b[0;34m,\u001b[0m\u001b[0;34m\u001b[0m\u001b[0;34m\u001b[0m\u001b[0m\n\u001b[1;32m    132\u001b[0m         allow_unreachable=True)  # allow_unreachable flag\n",
      "\u001b[0;31mKeyboardInterrupt\u001b[0m: "
     ]
    }
   ],
   "source": [
    "bidaf_trainer.train()"
   ]
  },
  {
   "cell_type": "code",
   "execution_count": null,
   "metadata": {},
   "outputs": [],
   "source": [
    "bidaf_wandb_logger.finish()"
   ]
  },
  {
   "cell_type": "markdown",
   "metadata": {},
   "source": [
    "## BERT"
   ]
  },
  {
   "cell_type": "code",
   "execution_count": null,
   "metadata": {},
   "outputs": [],
   "source": [
    "bert_tokenizer = BertWordPieceTokenizer(\"data/bert-base-uncased-vocab.txt\", lowercase=True)\n",
    "bert_tokenizer.enable_padding(\n",
    "    direction=\"right\",\n",
    "    pad_type_id=1,\n",
    "    pad_token=PAD_TOKEN,\n",
    ")"
   ]
  },
  {
   "cell_type": "code",
   "execution_count": null,
   "metadata": {},
   "outputs": [],
   "source": [
    "bert_tokenizer = dataset.BertSquadTokenizer(bert_tokenizer)"
   ]
  },
  {
   "cell_type": "code",
   "execution_count": null,
   "metadata": {},
   "outputs": [],
   "source": [
    "bert_dm = dataset.SquadDataManager(squad_dataset, bert_tokenizer)"
   ]
  },
  {
   "cell_type": "code",
   "execution_count": 216,
   "metadata": {
    "execution": {
     "iopub.execute_input": "2021-01-13T14:59:47.709557Z",
     "iopub.status.busy": "2021-01-13T14:59:47.709129Z",
     "iopub.status.idle": "2021-01-13T14:59:56.869214Z",
     "shell.execute_reply": "2021-01-13T14:59:56.867773Z",
     "shell.execute_reply.started": "2021-01-13T14:59:47.709512Z"
    }
   },
   "outputs": [],
   "source": [
    "bert_model = transformers.BertModel.from_pretrained(\"bert-base-uncased\")"
   ]
  },
  {
   "cell_type": "code",
   "execution_count": 58,
   "metadata": {
    "execution": {
     "iopub.execute_input": "2021-01-09T15:11:43.846188Z",
     "iopub.status.busy": "2021-01-09T15:11:43.845741Z",
     "iopub.status.idle": "2021-01-09T15:11:43.917117Z",
     "shell.execute_reply": "2021-01-09T15:11:43.915835Z",
     "shell.execute_reply.started": "2021-01-09T15:11:43.846141Z"
    }
   },
   "outputs": [],
   "source": [
    "bert_args = transformers.TrainingArguments(\n",
    "    output_dir=\"./checkpoints\",\n",
    "    logging_dir=\"./runs\",\n",
    "    logging_first_step=True,\n",
    "    logging_steps=5,\n",
    "    overwrite_output_dir=True,\n",
    "    evaluation_strategy=\"epoch\",\n",
    "    learning_rate=1e-3,\n",
    "    num_train_epochs=10,\n",
    "    remove_unused_columns=False,\n",
    "    per_device_train_batch_size=256,\n",
    "    per_device_eval_batch_size=64,\n",
    "    label_names=[\"answer_start\", \"answer_end\"]\n",
    ")"
   ]
  },
  {
   "cell_type": "code",
   "execution_count": null,
   "metadata": {
    "execution": {
     "iopub.status.busy": "2021-01-09T15:11:45.214014Z",
     "iopub.status.idle": "2021-01-09T15:11:45.214520Z"
    }
   },
   "outputs": [],
   "source": [
    "bert_trainer = training.SquadTrainer(\n",
    "    model=bert_model,\n",
    "    args=bert_args,\n",
    "    data_collator=bert_dm.tokenizer,\n",
    "    train_dataset=bert_dm.train_dataset,\n",
    "    eval_dataset=bert_dm.val_dataset,\n",
    "    compute_metrics=training.compute_metrics,\n",
    ")"
   ]
  },
  {
   "cell_type": "code",
   "execution_count": null,
   "metadata": {},
   "outputs": [],
   "source": [
    "bert_run_name = utils.get_run_name()\n",
    "bert_wandb_logger = init_wandb(name=bert_run_name, group=\"bert\", reinit=True,)"
   ]
  },
  {
   "cell_type": "code",
   "execution_count": 288,
   "metadata": {
    "execution": {
     "iopub.execute_input": "2021-01-05T16:37:10.984314Z",
     "iopub.status.busy": "2021-01-05T16:37:10.983997Z",
     "iopub.status.idle": "2021-01-05T16:37:23.456420Z",
     "shell.execute_reply": "2021-01-05T16:37:23.454650Z",
     "shell.execute_reply.started": "2021-01-05T16:37:10.984273Z"
    }
   },
   "outputs": [
    {
     "name": "stdout",
     "output_type": "stream",
     "text": [
      "dict_keys(['input_ids', 'token_type_ids', 'attention_mask'])\n"
     ]
    },
    {
     "ename": "KeyError",
     "evalue": "'loss'",
     "output_type": "error",
     "traceback": [
      "\u001b[0;31m---------------------------------------------------------------------------\u001b[0m",
      "\u001b[0;31mKeyError\u001b[0m                                  Traceback (most recent call last)",
      "\u001b[0;32m<ipython-input-288-3435b262f1ae>\u001b[0m in \u001b[0;36m<module>\u001b[0;34m\u001b[0m\n\u001b[0;32m----> 1\u001b[0;31m \u001b[0mtrainer\u001b[0m\u001b[0;34m.\u001b[0m\u001b[0mtrain\u001b[0m\u001b[0;34m(\u001b[0m\u001b[0;34m)\u001b[0m\u001b[0;34m\u001b[0m\u001b[0;34m\u001b[0m\u001b[0m\n\u001b[0m",
      "\u001b[0;32m~/anaconda3/lib/python3.8/site-packages/transformers/trainer.py\u001b[0m in \u001b[0;36mtrain\u001b[0;34m(self, model_path, trial)\u001b[0m\n\u001b[1;32m    797\u001b[0m                         \u001b[0mtr_loss\u001b[0m \u001b[0;34m+=\u001b[0m \u001b[0mself\u001b[0m\u001b[0;34m.\u001b[0m\u001b[0mtraining_step\u001b[0m\u001b[0;34m(\u001b[0m\u001b[0mmodel\u001b[0m\u001b[0;34m,\u001b[0m \u001b[0minputs\u001b[0m\u001b[0;34m)\u001b[0m\u001b[0;34m\u001b[0m\u001b[0;34m\u001b[0m\u001b[0m\n\u001b[1;32m    798\u001b[0m                 \u001b[0;32melse\u001b[0m\u001b[0;34m:\u001b[0m\u001b[0;34m\u001b[0m\u001b[0;34m\u001b[0m\u001b[0m\n\u001b[0;32m--> 799\u001b[0;31m                     \u001b[0mtr_loss\u001b[0m \u001b[0;34m+=\u001b[0m \u001b[0mself\u001b[0m\u001b[0;34m.\u001b[0m\u001b[0mtraining_step\u001b[0m\u001b[0;34m(\u001b[0m\u001b[0mmodel\u001b[0m\u001b[0;34m,\u001b[0m \u001b[0minputs\u001b[0m\u001b[0;34m)\u001b[0m\u001b[0;34m\u001b[0m\u001b[0;34m\u001b[0m\u001b[0m\n\u001b[0m\u001b[1;32m    800\u001b[0m                 \u001b[0mself\u001b[0m\u001b[0;34m.\u001b[0m\u001b[0m_total_flos\u001b[0m \u001b[0;34m+=\u001b[0m \u001b[0mself\u001b[0m\u001b[0;34m.\u001b[0m\u001b[0mfloating_point_ops\u001b[0m\u001b[0;34m(\u001b[0m\u001b[0minputs\u001b[0m\u001b[0;34m)\u001b[0m\u001b[0;34m\u001b[0m\u001b[0;34m\u001b[0m\u001b[0m\n\u001b[1;32m    801\u001b[0m \u001b[0;34m\u001b[0m\u001b[0m\n",
      "\u001b[0;32m~/anaconda3/lib/python3.8/site-packages/transformers/trainer.py\u001b[0m in \u001b[0;36mtraining_step\u001b[0;34m(self, model, inputs)\u001b[0m\n\u001b[1;32m   1137\u001b[0m                 \u001b[0mloss\u001b[0m \u001b[0;34m=\u001b[0m \u001b[0mself\u001b[0m\u001b[0;34m.\u001b[0m\u001b[0mcompute_loss\u001b[0m\u001b[0;34m(\u001b[0m\u001b[0mmodel\u001b[0m\u001b[0;34m,\u001b[0m \u001b[0minputs\u001b[0m\u001b[0;34m)\u001b[0m\u001b[0;34m\u001b[0m\u001b[0;34m\u001b[0m\u001b[0m\n\u001b[1;32m   1138\u001b[0m         \u001b[0;32melse\u001b[0m\u001b[0;34m:\u001b[0m\u001b[0;34m\u001b[0m\u001b[0;34m\u001b[0m\u001b[0m\n\u001b[0;32m-> 1139\u001b[0;31m             \u001b[0mloss\u001b[0m \u001b[0;34m=\u001b[0m \u001b[0mself\u001b[0m\u001b[0;34m.\u001b[0m\u001b[0mcompute_loss\u001b[0m\u001b[0;34m(\u001b[0m\u001b[0mmodel\u001b[0m\u001b[0;34m,\u001b[0m \u001b[0minputs\u001b[0m\u001b[0;34m)\u001b[0m\u001b[0;34m\u001b[0m\u001b[0;34m\u001b[0m\u001b[0m\n\u001b[0m\u001b[1;32m   1140\u001b[0m \u001b[0;34m\u001b[0m\u001b[0m\n\u001b[1;32m   1141\u001b[0m         \u001b[0;32mif\u001b[0m \u001b[0mself\u001b[0m\u001b[0;34m.\u001b[0m\u001b[0margs\u001b[0m\u001b[0;34m.\u001b[0m\u001b[0mn_gpu\u001b[0m \u001b[0;34m>\u001b[0m \u001b[0;36m1\u001b[0m\u001b[0;34m:\u001b[0m\u001b[0;34m\u001b[0m\u001b[0;34m\u001b[0m\u001b[0m\n",
      "\u001b[0;32m~/anaconda3/lib/python3.8/site-packages/transformers/trainer.py\u001b[0m in \u001b[0;36mcompute_loss\u001b[0;34m(self, model, inputs)\u001b[0m\n\u001b[1;32m   1167\u001b[0m             \u001b[0mself\u001b[0m\u001b[0;34m.\u001b[0m\u001b[0m_past\u001b[0m \u001b[0;34m=\u001b[0m \u001b[0moutputs\u001b[0m\u001b[0;34m[\u001b[0m\u001b[0mself\u001b[0m\u001b[0;34m.\u001b[0m\u001b[0margs\u001b[0m\u001b[0;34m.\u001b[0m\u001b[0mpast_index\u001b[0m\u001b[0;34m]\u001b[0m\u001b[0;34m\u001b[0m\u001b[0;34m\u001b[0m\u001b[0m\n\u001b[1;32m   1168\u001b[0m         \u001b[0;31m# We don't use .loss here since the model may return tuples instead of ModelOutput.\u001b[0m\u001b[0;34m\u001b[0m\u001b[0;34m\u001b[0m\u001b[0;34m\u001b[0m\u001b[0m\n\u001b[0;32m-> 1169\u001b[0;31m         \u001b[0;32mreturn\u001b[0m \u001b[0moutputs\u001b[0m\u001b[0;34m[\u001b[0m\u001b[0;34m\"loss\"\u001b[0m\u001b[0;34m]\u001b[0m \u001b[0;32mif\u001b[0m \u001b[0misinstance\u001b[0m\u001b[0;34m(\u001b[0m\u001b[0moutputs\u001b[0m\u001b[0;34m,\u001b[0m \u001b[0mdict\u001b[0m\u001b[0;34m)\u001b[0m \u001b[0;32melse\u001b[0m \u001b[0moutputs\u001b[0m\u001b[0;34m[\u001b[0m\u001b[0;36m0\u001b[0m\u001b[0;34m]\u001b[0m\u001b[0;34m\u001b[0m\u001b[0;34m\u001b[0m\u001b[0m\n\u001b[0m\u001b[1;32m   1170\u001b[0m \u001b[0;34m\u001b[0m\u001b[0m\n\u001b[1;32m   1171\u001b[0m     \u001b[0;32mdef\u001b[0m \u001b[0mis_local_process_zero\u001b[0m\u001b[0;34m(\u001b[0m\u001b[0mself\u001b[0m\u001b[0;34m)\u001b[0m \u001b[0;34m->\u001b[0m \u001b[0mbool\u001b[0m\u001b[0;34m:\u001b[0m\u001b[0;34m\u001b[0m\u001b[0;34m\u001b[0m\u001b[0m\n",
      "\u001b[0;32m~/anaconda3/lib/python3.8/site-packages/transformers/file_utils.py\u001b[0m in \u001b[0;36m__getitem__\u001b[0;34m(self, k)\u001b[0m\n\u001b[1;32m   1443\u001b[0m         \u001b[0;32mif\u001b[0m \u001b[0misinstance\u001b[0m\u001b[0;34m(\u001b[0m\u001b[0mk\u001b[0m\u001b[0;34m,\u001b[0m \u001b[0mstr\u001b[0m\u001b[0;34m)\u001b[0m\u001b[0;34m:\u001b[0m\u001b[0;34m\u001b[0m\u001b[0;34m\u001b[0m\u001b[0m\n\u001b[1;32m   1444\u001b[0m             \u001b[0minner_dict\u001b[0m \u001b[0;34m=\u001b[0m \u001b[0;34m{\u001b[0m\u001b[0mk\u001b[0m\u001b[0;34m:\u001b[0m \u001b[0mv\u001b[0m \u001b[0;32mfor\u001b[0m \u001b[0;34m(\u001b[0m\u001b[0mk\u001b[0m\u001b[0;34m,\u001b[0m \u001b[0mv\u001b[0m\u001b[0;34m)\u001b[0m \u001b[0;32min\u001b[0m \u001b[0mself\u001b[0m\u001b[0;34m.\u001b[0m\u001b[0mitems\u001b[0m\u001b[0;34m(\u001b[0m\u001b[0;34m)\u001b[0m\u001b[0;34m}\u001b[0m\u001b[0;34m\u001b[0m\u001b[0;34m\u001b[0m\u001b[0m\n\u001b[0;32m-> 1445\u001b[0;31m             \u001b[0;32mreturn\u001b[0m \u001b[0minner_dict\u001b[0m\u001b[0;34m[\u001b[0m\u001b[0mk\u001b[0m\u001b[0;34m]\u001b[0m\u001b[0;34m\u001b[0m\u001b[0;34m\u001b[0m\u001b[0m\n\u001b[0m\u001b[1;32m   1446\u001b[0m         \u001b[0;32melse\u001b[0m\u001b[0;34m:\u001b[0m\u001b[0;34m\u001b[0m\u001b[0;34m\u001b[0m\u001b[0m\n\u001b[1;32m   1447\u001b[0m             \u001b[0;32mreturn\u001b[0m \u001b[0mself\u001b[0m\u001b[0;34m.\u001b[0m\u001b[0mto_tuple\u001b[0m\u001b[0;34m(\u001b[0m\u001b[0;34m)\u001b[0m\u001b[0;34m[\u001b[0m\u001b[0mk\u001b[0m\u001b[0;34m]\u001b[0m\u001b[0;34m\u001b[0m\u001b[0;34m\u001b[0m\u001b[0m\n",
      "\u001b[0;31mKeyError\u001b[0m: 'loss'"
     ]
    }
   ],
   "source": [
    "bert_trainer.train()"
   ]
  },
  {
   "cell_type": "code",
   "execution_count": null,
   "metadata": {},
   "outputs": [],
   "source": [
    "bert_wandb_logger.finish()"
   ]
  }
 ],
 "metadata": {
  "kernelspec": {
   "display_name": "Python 3",
   "language": "python",
   "name": "python3"
  },
  "language_info": {
   "codemirror_mode": {
    "name": "ipython",
    "version": 3
   },
   "file_extension": ".py",
   "mimetype": "text/x-python",
   "name": "python",
   "nbconvert_exporter": "python",
   "pygments_lexer": "ipython3",
   "version": "3.8.5"
  }
 },
 "nbformat": 4,
 "nbformat_minor": 4
}
