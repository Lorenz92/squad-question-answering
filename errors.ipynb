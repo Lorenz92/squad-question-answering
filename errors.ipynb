{
 "cells": [
  {
   "cell_type": "markdown",
   "metadata": {},
   "source": [
    "# Error analysis"
   ]
  },
  {
   "cell_type": "markdown",
   "metadata": {},
   "source": [
    "This notebook contains the source code used for the error analysis described in the project's report, where wrong answers are taken from the SQuAD v1.1 dev set for each and every model."
   ]
  },
  {
   "cell_type": "markdown",
   "metadata": {},
   "source": [
    "## Imports"
   ]
  },
  {
   "cell_type": "markdown",
   "metadata": {},
   "source": [
    "In order to import source files, we have to add the `src` folder to the Python `PATH`$\\dots$ "
   ]
  },
  {
   "cell_type": "code",
   "execution_count": 13,
   "metadata": {
    "execution": {
     "iopub.execute_input": "2021-02-03T15:58:06.304113Z",
     "iopub.status.busy": "2021-02-03T15:58:06.303781Z",
     "iopub.status.idle": "2021-02-03T15:58:06.329684Z",
     "shell.execute_reply": "2021-02-03T15:58:06.328521Z",
     "shell.execute_reply.started": "2021-02-03T15:58:06.304074Z"
    }
   },
   "outputs": [],
   "source": [
    "import sys\n",
    "\n",
    "sys.path.insert(0, \"src\")"
   ]
  },
  {
   "cell_type": "markdown",
   "metadata": {},
   "source": [
    "Then, we can import packages as usual$\\dots$"
   ]
  },
  {
   "cell_type": "code",
   "execution_count": 16,
   "metadata": {
    "execution": {
     "iopub.execute_input": "2021-02-03T15:59:54.432620Z",
     "iopub.status.busy": "2021-02-03T15:59:54.432298Z",
     "iopub.status.idle": "2021-02-03T15:59:54.651237Z",
     "shell.execute_reply": "2021-02-03T15:59:54.649904Z",
     "shell.execute_reply.started": "2021-02-03T15:59:54.432581Z"
    }
   },
   "outputs": [
    {
     "name": "stdout",
     "output_type": "stream",
     "text": [
      "The autoreload extension is already loaded. To reload it, use:\n",
      "  %reload_ext autoreload\n"
     ]
    }
   ],
   "source": [
    "import os\n",
    "import json\n",
    "\n",
    "import numpy as np\n",
    "from transformers.trainer_utils import set_seed\n",
    "\n",
    "import config\n",
    "\n",
    "%load_ext autoreload\n",
    "%autoreload 2"
   ]
  },
  {
   "cell_type": "markdown",
   "metadata": {},
   "source": [
    "## Initialization"
   ]
  },
  {
   "cell_type": "markdown",
   "metadata": {},
   "source": [
    "### PyTorch and numpy"
   ]
  },
  {
   "cell_type": "markdown",
   "metadata": {},
   "source": [
    "Set the random seed to a fixed number for reproducible results$\\dots$"
   ]
  },
  {
   "cell_type": "code",
   "execution_count": 17,
   "metadata": {
    "execution": {
     "iopub.execute_input": "2021-02-03T15:59:55.249649Z",
     "iopub.status.busy": "2021-02-03T15:59:55.249319Z",
     "iopub.status.idle": "2021-02-03T15:59:56.052975Z",
     "shell.execute_reply": "2021-02-03T15:59:56.051353Z",
     "shell.execute_reply.started": "2021-02-03T15:59:55.249608Z"
    }
   },
   "outputs": [],
   "source": [
    "set_seed(config.RANDOM_SEED)"
   ]
  },
  {
   "cell_type": "markdown",
   "metadata": {},
   "source": [
    "## Wrong answers loading"
   ]
  },
  {
   "cell_type": "markdown",
   "metadata": {},
   "source": [
    "Load the errors made on the SQuAD v1.1 dev set for each and every model$\\dots$"
   ]
  },
  {
   "cell_type": "code",
   "execution_count": 30,
   "metadata": {
    "execution": {
     "iopub.execute_input": "2021-02-03T18:57:29.708762Z",
     "iopub.status.busy": "2021-02-03T18:57:29.708341Z",
     "iopub.status.idle": "2021-02-03T18:57:29.958750Z",
     "shell.execute_reply": "2021-02-03T18:57:29.957472Z",
     "shell.execute_reply.started": "2021-02-03T18:57:29.708716Z"
    }
   },
   "outputs": [],
   "source": [
    "with open('results/wrong/baseline.json') as f:\n",
    "    baseline_errors = json.load(f)\n",
    "with open('results/wrong/bidaf.json') as f:\n",
    "    bidaf_errors = json.load(f)\n",
    "with open('results/wrong/bert.json') as f:\n",
    "    bert_errors = json.load(f)\n",
    "with open('results/wrong/distilbert.json') as f:\n",
    "    distilbert_errors = json.load(f)\n",
    "with open('results/wrong/electra.json') as f:\n",
    "    electra_errors = json.load(f)"
   ]
  },
  {
   "cell_type": "markdown",
   "metadata": {},
   "source": [
    "Observe how much errors are made with each model$\\dots$"
   ]
  },
  {
   "cell_type": "code",
   "execution_count": 31,
   "metadata": {
    "execution": {
     "iopub.execute_input": "2021-02-03T18:59:00.303160Z",
     "iopub.status.busy": "2021-02-03T18:59:00.302722Z",
     "iopub.status.idle": "2021-02-03T18:59:00.345078Z",
     "shell.execute_reply": "2021-02-03T18:59:00.343590Z",
     "shell.execute_reply.started": "2021-02-03T18:59:00.303115Z"
    }
   },
   "outputs": [
    {
     "name": "stdout",
     "output_type": "stream",
     "text": [
      "The Baseline model makes 8276 errors\n",
      "The BiDAF model makes 4222 errors\n",
      "The BERT model makes 2731 errors\n",
      "The DistilBERT model makes 2789 errors\n",
      "The ELECTRA model makes 2062 errors\n"
     ]
    }
   ],
   "source": [
    "print(f\"The Baseline model makes {len(baseline_errors)} errors\")\n",
    "print(f\"The BiDAF model makes {len(bidaf_errors)} errors\")\n",
    "print(f\"The BERT model makes {len(bert_errors)} errors\")\n",
    "print(f\"The DistilBERT model makes {len(distilbert_errors)} errors\")\n",
    "print(f\"The ELECTRA model makes {len(electra_errors)} errors\")"
   ]
  },
  {
   "cell_type": "markdown",
   "metadata": {},
   "source": [
    "## Wrong answers analysis"
   ]
  },
  {
   "cell_type": "markdown",
   "metadata": {},
   "source": [
    "Compute the common errors among all the models and the common errors among the best models, i.e. BiDAF and ELECTRA$\\dots$"
   ]
  },
  {
   "cell_type": "code",
   "execution_count": 35,
   "metadata": {
    "execution": {
     "iopub.execute_input": "2021-02-03T19:00:28.531240Z",
     "iopub.status.busy": "2021-02-03T19:00:28.530836Z",
     "iopub.status.idle": "2021-02-03T19:00:28.575618Z",
     "shell.execute_reply": "2021-02-03T19:00:28.574425Z",
     "shell.execute_reply.started": "2021-02-03T19:00:28.531196Z"
    }
   },
   "outputs": [],
   "source": [
    "all_common_errors = list(\n",
    "    set(electra_errors.keys())\n",
    "    & set(bidaf_errors.keys())\n",
    "    & set(baseline_errors.keys())\n",
    "    & set(bert_errors.keys())\n",
    "    & set(distilbert_errors.keys())\n",
    ")\n",
    "best_common_errors = list(set(electra_errors.keys()) & set(bidaf_errors.keys()))"
   ]
  },
  {
   "cell_type": "code",
   "execution_count": 36,
   "metadata": {
    "execution": {
     "iopub.execute_input": "2021-02-03T19:00:29.440503Z",
     "iopub.status.busy": "2021-02-03T19:00:29.440186Z",
     "iopub.status.idle": "2021-02-03T19:00:29.479761Z",
     "shell.execute_reply": "2021-02-03T19:00:29.478221Z",
     "shell.execute_reply.started": "2021-02-03T19:00:29.440462Z"
    }
   },
   "outputs": [
    {
     "name": "stdout",
     "output_type": "stream",
     "text": [
      "The number of common errors between all the models is 940\n",
      "The number of common errors between BiDAF and ELECTRA is 1535\n"
     ]
    }
   ],
   "source": [
    "print(f\"The number of common errors between all the models is {len(all_common_errors)}\")\n",
    "print(f\"The number of common errors between BiDAF and ELECTRA is {len(best_common_errors)}\")"
   ]
  },
  {
   "cell_type": "markdown",
   "metadata": {},
   "source": [
    "Take a random subset of errors (among the common ones between BiDAF and ELECTRA)$\\dots$"
   ]
  },
  {
   "cell_type": "code",
   "execution_count": 37,
   "metadata": {
    "execution": {
     "iopub.execute_input": "2021-02-03T19:00:42.247078Z",
     "iopub.status.busy": "2021-02-03T19:00:42.246645Z",
     "iopub.status.idle": "2021-02-03T19:00:42.286217Z",
     "shell.execute_reply": "2021-02-03T19:00:42.284977Z",
     "shell.execute_reply.started": "2021-02-03T19:00:42.247033Z"
    }
   },
   "outputs": [],
   "source": [
    "random_best_common_errors = np.random.choice(best_common_errors, 50, replace=False)"
   ]
  },
  {
   "cell_type": "markdown",
   "metadata": {},
   "source": [
    "Show the selected errors$\\dots$"
   ]
  },
  {
   "cell_type": "code",
   "execution_count": 38,
   "metadata": {
    "execution": {
     "iopub.execute_input": "2021-02-03T19:00:52.302413Z",
     "iopub.status.busy": "2021-02-03T19:00:52.301978Z",
     "iopub.status.idle": "2021-02-03T19:00:52.403285Z",
     "shell.execute_reply": "2021-02-03T19:00:52.402174Z",
     "shell.execute_reply.started": "2021-02-03T19:00:52.302367Z"
    }
   },
   "outputs": [
    {
     "name": "stdout",
     "output_type": "stream",
     "text": [
      "Context: One key figure in the plans for what would come to be known as American Empire, was a geographer named Isiah Bowman. Bowman was the director of the American Geographical Society in 1914. Three years later in 1917, he was appointed to then President Woodrow Wilson's inquiry in 1917. The inquiry was the idea of President Wilson and the American delegation from the Paris Peace Conference. The point of this inquiry was to build a premise that would allow for U.S authorship of a 'new world' which was to be characterized by geographical order. As a result of his role in the inquiry, Isiah Bowman would come to be known as Wilson's geographer. \n",
      "Question: Who besides Woodrow Wilson himself had the idea for the inquiry?\n",
      "Answers: ['american delegation from paris peace conference', 'american delegation from paris peace conference', 'american delegation from paris peace conference', 'american delegation from paris peace conference', 'american delegation from paris peace conference']\n",
      "Predictions: [ELECTRA] president wilson and american delegation from paris peace conference [BiDAF] isiah bowman\n",
      "\n",
      "Context: Whilst this is the consensus viewpoint amongst the majority of academics, some teachers and parents advocate a more assertive and confrontational style of discipline.[citation needed] Such individuals claim that many problems with modern schooling stem from the weakness in school discipline and if teachers exercised firm control over the classroom they would be able to teach more efficiently. This viewpoint is supported by the educational attainment of countries—in East Asia for instance—that combine strict discipline with high standards of education.[citation needed]\n",
      "Question: What type of discipline do critics want to see?\n",
      "Answers: ['more assertive and confrontational style', 'strict discipline', 'more assertive and confrontational']\n",
      "Predictions: [ELECTRA] confrontational style [BiDAF] school discipline and if teachers exercised firm control over classroom they would be able to teach more efficiently this viewpoint is supported by educational attainment of countries—in east asia for instance—that combine strict\n",
      "\n",
      "Context: Civil disobedience is usually defined as pertaining to a citizen's relation to the state and its laws, as distinguished from a constitutional impasse in which two public agencies, especially two equally sovereign branches of government, conflict. For instance, if the head of government of a country were to refuse to enforce a decision of that country's highest court, it would not be civil disobedience, since the head of government would be acting in her or his capacity as public official rather than private citizen.\n",
      "Question: Civil Disobedience is mainly performed by what population group?\n",
      "Answers: ['private citizen', 'private citizen', 'private citizen', 'private']\n",
      "Predictions: [ELECTRA] citizen [BiDAF] sovereign branches of government\n",
      "\n",
      "Context: Apollo 8 was planned to be the D mission in December 1968, crewed by McDivitt, Scott and Schweickart, launched on a Saturn V instead of two Saturn IBs. In the summer it had become clear that the LM would not be ready in time. Rather than waste the Saturn V on another simple Earth-orbiting mission, ASPO Manager George Low suggested the bold step of sending Apollo 8 to orbit the Moon instead, deferring the D mission to the next mission in March 1969, and eliminating the E mission. This would keep the program on track. The Soviet Union had sent animals around the Moon on September 15, 1968, aboard Zond 5, and it was believed they might soon repeat the feat with human cosmonauts. The decision was not announced publicly until successful completion of Apollo 7. Gemini veterans Frank Borman and James Lovell, and rookie William Anders captured the world's attention by making 10 lunar orbits in 20 hours, transmitting television pictures of the lunar surface on Christmas Eve, and returning safely to Earth.\n",
      "Question: What did Low suggest using Apollo 8 for instead of simply orbiting the Earth's surface?\n",
      "Answers: ['orbit moon', 'orbit moon', 'to orbit moon', 'orbit moon', 'orbit moon']\n",
      "Predictions: [ELECTRA] moon [BiDAF] bold step\n",
      "\n",
      "Context: In 1874, Tesla evaded being drafted into the Austro-Hungarian Army in Smiljan by running away to Tomingaj, near Gračac. There, he explored the mountains in hunter's garb. Tesla said that this contact with nature made him stronger, both physically and mentally. He read many books while in Tomingaj, and later said that Mark Twain's works had helped him to miraculously recover from his earlier illness.\n",
      "Question: What did Tesla do in Tomingaj?\n",
      "Answers: ['he explored mountains in hunters garb', 'he explored', 'explored mountains in hunters garb']\n",
      "Predictions: [ELECTRA] running away [BiDAF] evaded being drafted into austrohungarian army\n",
      "\n",
      "Context: Hypersensitivity is an immune response that damages the body's own tissues. They are divided into four classes (Type I – IV) based on the mechanisms involved and the time course of the hypersensitive reaction. Type I hypersensitivity is an immediate or anaphylactic reaction, often associated with allergy. Symptoms can range from mild discomfort to death. Type I hypersensitivity is mediated by IgE, which triggers degranulation of mast cells and basophils when cross-linked by antigen. Type II hypersensitivity occurs when antibodies bind to antigens on the patient's own cells, marking them for destruction. This is also called antibody-dependent (or cytotoxic) hypersensitivity, and is mediated by IgG and IgM antibodies. Immune complexes (aggregations of antigens, complement proteins, and IgG and IgM antibodies) deposited in various tissues trigger Type III hypersensitivity reactions. Type IV hypersensitivity (also known as cell-mediated or delayed type hypersensitivity) usually takes between two and three days to develop. Type IV reactions are involved in many autoimmune and infectious diseases, but may also involve contact dermatitis (poison ivy). These reactions are mediated by T cells, monocytes, and macrophages.\n",
      "Question: What is the chemical that mediates Type 1 hypersensitivity?\n",
      "Answers: ['ige', 'ige', 'ige']\n",
      "Predictions: [ELECTRA] ige which triggers degranulation of mast cells and basophils when crosslinked by antigen type ii hypersensitivity occurs when antibodies bind to antigens on patients own cells marking them for destruction this is also called antibodydependent or cytotoxic hypersensitivity and is mediated by igg and igm antibodies [BiDAF] allergy\n",
      "\n",
      "Context: Some civil disobedience defendants choose to make a defiant speech, or a speech explaining their actions, in allocution. In U.S. v. Burgos-Andujar, a defendant who was involved in a movement to stop military exercises by trespassing on U.S. Navy property argued to the court in allocution that \"the ones who are violating the greater law are the members of the Navy\". As a result, the judge increased her sentence from 40 to 60 days. This action was upheld because, according to the U.S. Court of Appeals for the First Circuit, her statement suggested a lack of remorse, an attempt to avoid responsibility for her actions, and even a likelihood of repeating her illegal actions. Some of the other allocution speeches given by the protesters complained about mistreatment from government officials.\n",
      "Question: Why would one want to give more punishment?\n",
      "Answers: ['likelihood of repeating', 'likelihood of repeating her illegal actions', 'lack of remorse', 'lack of remorse', 'lack of remorse']\n",
      "Predictions: [ELECTRA] lack of remorse attempt to avoid responsibility for her actions [BiDAF] some of other allocution speeches given by protesters complained about mistreatment from government officials\n",
      "\n",
      "Context: Edward John Noble, the owner of Life Savers candy, drugstore chain Rexall and New York City radio station WMCA, purchased the network for $8 million. Due to FCC ownership rules, the transaction, which was to include the purchase of three RCA stations by Noble, would require him to resell his station with the FCC's approval. The Commission authorized the transaction on October 12, 1943. Soon afterward, the Blue Network was purchased by the new company Noble founded, the American Broadcasting System. Noble subsequently acquired the rights to the \"American Broadcasting Company\" name from George B. Storer in 1944; its parent company adopted the corporate name American Broadcasting Companies, Inc. Woods retained his position as president and CEO of ABC until December 1949, and was subsequently promoted to vice-chairman of the board before leaving ABC altogether on June 30, 1951.\n",
      "Question: What position did Mark Woods take on at the new American Broadcasting Company?\n",
      "Answers: ['president and ceo', 'president and ceo', 'president']\n",
      "Predictions: [ELECTRA] vicechairman of board [BiDAF] president and ceo of abc\n",
      "\n",
      "Context: Tymnet was an international data communications network headquartered in San Jose, CA that utilized virtual call packet switched technology and used X.25, SNA/SDLC, BSC and ASCII interfaces to connect host computers (servers)at thousands of large companies, educational institutions, and government agencies. Users typically connected via dial-up connections or dedicated async connections. The business consisted of a large public network that supported dial-up users and a private network business that allowed government agencies and large companies (mostly banks and airlines) to build their own dedicated networks. The private networks were often connected via gateways to the public network to reach locations not on the private network. Tymnet was also connected to dozens of other public networks in the U.S. and internationally via X.25/X.75 gateways. (Interesting note: Tymnet was not named after Mr. Tyme. Another employee suggested the name.)  \n",
      "Question: Gateways allowed private companies to do what \n",
      "Answers: ['private networks were often connected via gateways to public network to reach locations not on private network', 'reach locations not on private network', 'reach locations not on private network']\n",
      "Predictions: [ELECTRA] build their own dedicated networks [BiDAF] build their own dedicated networks\n",
      "\n",
      "Context: The most commonly used reduction is a polynomial-time reduction. This means that the reduction process takes polynomial time. For example, the problem of squaring an integer can be reduced to the problem of multiplying two integers. This means an algorithm for multiplying two integers can be used to square an integer. Indeed, this can be done by giving the same input to both inputs of the multiplication algorithm. Thus we see that squaring is not more difficult than multiplication, since squaring can be reduced to multiplication.\n",
      "Question: What equates to a squared integer according to polynomial time reduction?\n",
      "Answers: ['multiplying two integers', 'multiplying two integers', 'multiplying two integers']\n",
      "Predictions: [ELECTRA] algorithm for multiplying two integers [BiDAF] reduction process\n",
      "\n",
      "Context: In Germany, teachers are mainly civil servants recruited in special university classes, called Lehramtstudien (Teaching Education Studies). There are many differences between the teachers for elementary schools (Grundschule), lower secondary schools (Hauptschule), middle level secondary schools (Realschule) and higher level secondary schools (Gymnasium). Salaries for teachers depend on the civil servants' salary index scale (Bundesbesoldungsordnung).\n",
      "Question: What is used to decide a teacher's salary?\n",
      "Answers: ['civil servants salary index scale bundesbesoldungsordnung', 'bundesbesoldungsordnung', 'civil servants salary index scale']\n",
      "Predictions: [ELECTRA] salary index scale [BiDAF] civil servants\n",
      "\n",
      "Context: On his 50th birthday in 1906, Tesla demonstrated his 200 horsepower (150 kilowatts) 16,000 rpm bladeless turbine. During 1910–1911 at the Waterside Power Station in New York, several of his bladeless turbine engines were tested at 100–5,000 hp.\n",
      "Question: At what speed did the turbine operate?\n",
      "Answers: ['16000 rpm', '16000 rpm', '16000 rpm']\n",
      "Predictions: [ELECTRA] 100–5000 hp [BiDAF] 16000 rpm bladeless turbine during 1910–1911 at waterside power station in new york several of his bladeless turbine engines were tested at 100–5000 hp\n",
      "\n",
      "Context: Free oxygen also occurs in solution in the world's water bodies. The increased solubility of O\n",
      "2 at lower temperatures (see Physical properties) has important implications for ocean life, as polar oceans support a much higher density of life due to their higher oxygen content. Water polluted with plant nutrients such as nitrates or phosphates may stimulate growth of algae by a process called eutrophication and the decay of these organisms and other biomaterials may reduce amounts of O\n",
      "2 in eutrophic water bodies. Scientists assess this aspect of water quality by measuring the water's biochemical oxygen demand, or the amount of O\n",
      "2 needed to restore it to a normal concentration.\n",
      "Question: Where on Earth is free oxygen found?\n",
      "Answers: ['water', 'in solution in worlds water bodies', 'worlds water bodies']\n",
      "Predictions: [ELECTRA] water bodies [BiDAF] water bodies\n",
      "\n",
      "Context: The plain moraine plateau has only a few natural and artificial ponds and also groups of clay pits. The pattern of the Vistula terraces is asymmetrical. The left side consist mainly of two levels: the highest one contains former flooded terraces and the lowest one the flood plain terrace. The contemporary flooded terrace still has visible valleys and ground depressions with water systems coming from the Vistula old – riverbed. They consist of still quite natural streams and lakes as well as the pattern of drainage ditches. The right side of Warsaw has a different pattern of geomorphological forms. There are several levels of the plain Vistula terraces (flooded as well as former flooded once) and only small part and not so visible moraine escarpment. Aeolian sand with a number of dunes parted by peat swamps or small ponds cover the highest terrace. These are mainly forested areas (pine forest).\n",
      "Question: Where can Aeolian sand with a number of dunes be found?\n",
      "Answers: ['plain vistula terraces', 'highest terrace', 'highest terrace']\n",
      "Predictions: [ELECTRA] peat swamps [BiDAF] peat swamps or small ponds\n",
      "\n",
      "Context: In 1939, c. 1,300,000 people lived in Warsaw, but in 1945 – only 420,000. During the first years after the war, the population growth was c. 6%, so shortly the city started to suffer from the lack of flats and of areas for new houses. The first remedial measure was the Warsaw area enlargement (1951) – but the city authorities were still forced to introduce residency registration limitations: only the spouses and children of the permanent residents as well as some persons of public importance (like renowned specialists) were allowed to get the registration, hence halving the population growth in the following years. It also bolstered some kind of conviction among Poles that Varsovians thought of themselves as better only because they lived in the capital. Unfortunately this belief still lives on in Poland (although not as much as it used to be) – even though since 1990 there are no limitations to residency registration anymore.\n",
      "Question: What conviction did many Poles have regarding how the Varsovians thought of themselves?\n",
      "Answers: ['as better', 'thought of themselves as better', 'better']\n",
      "Predictions: [ELECTRA] better only because they lived in capital [BiDAF] as better only because they lived in capital\n",
      "\n",
      "Context: The two symbols most commonly associated with pharmacy in English-speaking countries are the mortar and pestle and the ℞ (recipere) character, which is often written as \"Rx\" in typed text. The show globe was also used until the early 20th century. Pharmacy organizations often use other symbols, such as the Bowl of Hygieia which is often used in the Netherlands, conical measures, and caduceuses in their logos. Other symbols are common in different countries: the green Greek cross in France, Argentina, the United Kingdom, Belgium, Ireland, Italy, Spain, and India, the increasingly rare Gaper in the Netherlands, and a red stylized letter A in Germany and Austria (from Apotheke, the German word for pharmacy, from the same Greek root as the English word 'apothecary').\n",
      "Question: What are the two symbols that signify pharmacy in English-speaking countries?\n",
      "Answers: ['mortar and pestle and ℞ recipere character', 'mortar and pestle and ℞ recipere character', 'mortar and pestle and ℞ recipere character']\n",
      "Predictions: [ELECTRA] mortar and pestle and ℞ recipere [BiDAF] mortar and pestle and ℞\n",
      "\n",
      "Context: Environmentalists are concerned about loss of biodiversity that will result from destruction of the forest, and also about the release of the carbon contained within the vegetation, which could accelerate global warming. Amazonian evergreen forests account for about 10% of the world's terrestrial primary productivity and 10% of the carbon stores in ecosystems—of the order of 1.1 × 1011 metric tonnes of carbon. Amazonian forests are estimated to have accumulated 0.62 ± 0.37 tons of carbon per hectare per year between 1975 and 1996.\n",
      "Question: What amount of the worlds carbon is stored in the Amazon forest?\n",
      "Answers: ['10 of carbon stores', '10', '10']\n",
      "Predictions: [ELECTRA] 11 × 1011 metric tonnes [BiDAF] 11 × 1011 metric tonnes\n",
      "\n",
      "Context: Civil disobedience is usually defined as pertaining to a citizen's relation to the state and its laws, as distinguished from a constitutional impasse in which two public agencies, especially two equally sovereign branches of government, conflict. For instance, if the head of government of a country were to refuse to enforce a decision of that country's highest court, it would not be civil disobedience, since the head of government would be acting in her or his capacity as public official rather than private citizen.\n",
      "Question: If the head of government refuses to enforce a decision of the highest court what terminology could be used?\n",
      "Answers: ['constitutional impasse', 'her or his capacity as public official', 'capacity as public official', 'constitutional impasse']\n",
      "Predictions: [ELECTRA] civil disobedience [BiDAF] civil disobedience\n",
      "\n",
      "Context: Ergänzungsschulen are secondary or post-secondary (non-tertiary) schools, which are run by private individuals, private organizations or rarely, religious groups and offer a type of education which is not available at public schools. Most of these schools are vocational schools. However, these vocational schools are not part of the German dual education system. Ergänzungsschulen have the freedom to operate outside of government regulation and are funded in whole by charging their students tuition fees.\n",
      "Question: How are ergänzungsschulen funded?\n",
      "Answers: ['tuition', 'tuition', 'tuition fees']\n",
      "Predictions: [ELECTRA] by charging their students tuition fees [BiDAF] charging their students tuition fees\n",
      "\n",
      "Context: The Catholic Church in France and many of its members opposed the Huguenots. Some Huguenot preachers and congregants were attacked as they attempted to meet for worship. The height of this persecution was the St. Bartholomew's Day massacre when 5,000 to 30,000 were killed, although there were also underlying political reasons for this as well, as some of the Huguenots were nobles trying to establish separate centers of power in southern France. Retaliating against the French Catholics, the Huguenots had their own militia.\n",
      "Question: What was a non-religious reason for the massacre?\n",
      "Answers: ['some of huguenots were nobles trying to establish separate centers of power in southern france', 'political reasons', 'some of huguenots were nobles trying to establish separate centers of power in southern france']\n",
      "Predictions: [ELECTRA] political [BiDAF] underlying political reasons for this as well as some of huguenots were nobles trying to establish separate centers of power in southern france\n",
      "\n",
      "Context: In the final years of the apartheid era, parents at white government schools were given the option to convert to a \"semi-private\" form called Model C, and many of these schools changed their admissions policies to accept children of other races. Following the transition to democracy, the legal form of \"Model C\" was abolished, however, the term continues to be used to describe government schools formerly reserved for white children.. These schools tend to produce better academic results than government schools formerly reserved for other race groups . Former \"Model C\" schools are not private schools, as they are state-controlled. All schools in South Africa (including both independent schools and public schools) have the right to set compulsory school fees, and formerly model C schools tend to set much higher school fees than other public schools.\n",
      "Question: How do academic results in former Model C schools compare to other schools?\n",
      "Answers: ['better', 'better', 'produce better academic results']\n",
      "Predictions: [ELECTRA] better academic results than government schools formerly reserved for other race groups former model c schools are not private schools as they are statecontrolled all schools in south africa including both independent schools and public schools have right to set compulsory school fees and formerly model c schools tend to set much higher school fees [BiDAF] set much higher school fees\n",
      "\n",
      "Context: The functions of the teacher's colleges may include setting out clear standards of practice, providing for the ongoing education of teachers, investigating complaints involving members, conducting hearings into allegations of professional misconduct and taking appropriate disciplinary action and accrediting teacher education programs. In many situations teachers in publicly funded schools must be members in good standing with the college, and private schools may also require their teachers to be college peoples. In other areas these roles may belong to the State Board of Education, the Superintendent of Public Instruction, the State Education Agency or other governmental bodies. In still other areas Teaching Unions may be responsible for some or all of these duties.\n",
      "Question: Who might take disciplinary action against a teacher?\n",
      "Answers: ['teachers colleges', 'teachers colleges', 'teachers colleges']\n",
      "Predictions: [ELECTRA] accrediting teacher education programs [BiDAF] investigating complaints involving members\n",
      "\n",
      "Context: The league announced on October 16, 2012, that the two finalists were Sun Life Stadium and Levi's Stadium. The South Florida/Miami area has previously hosted the event 10 times (tied for most with New Orleans), with the most recent one being Super Bowl XLIV in 2010. The San Francisco Bay Area last hosted in 1985 (Super Bowl XIX), held at Stanford Stadium in Stanford, California, won by the home team 49ers. The Miami bid depended on whether the stadium underwent renovations. However, on May 3, 2013, the Florida legislature refused to approve the funding plan to pay for the renovations, dealing a significant blow to Miami's chances.\n",
      "Question: What was the most recent Super Bowl hosted in the South Florida/Miami area?\n",
      "Answers: ['super bowl xliv', 'super bowl xliv', '2010']\n",
      "Predictions: [ELECTRA] super bowl xliv in 2010 [BiDAF] xliv\n",
      "\n",
      "Context: Deacons are called by God, affirmed by the church, and ordained by a bishop to servant leadership within the church.They are ordained to ministries of word, service, compassion, and justice. They may be appointed to ministry within the local church or to an extension ministry that supports the mission of the church. Deacons give leadership, preach the Word, contribute in worship, conduct marriages, bury the dead, and aid the church in embodying its mission within the world. Deacons assist elders in the sacraments of Holy Communion and Baptism, and may be granted sacramental authority if they are appointed as the pastor in a local church. Deacons serve a term of 2–3 years as provisional deacons prior to their ordination.\n",
      "Question: Deacons serve a term of how many years as provisional deacons?\n",
      "Answers: ['2–3 years', 'deacons serve term of 2–3 years as provisional deacons prior to their ordination', '2–3 years']\n",
      "Predictions: [ELECTRA] 2–3 [BiDAF] 2–3\n",
      "\n",
      "Context: LeGrande writes that \"the formulation of a single all-encompassing definition of the term is extremely difficult, if not impossible. In reviewing the voluminous literature on the subject, the student of civil disobedience rapidly finds himself surrounded by a maze of semantical problems and grammatical niceties. Like Alice in Wonderland, he often finds that specific terminology has no more (or no less) meaning than the individual orator intends it to have.\" He encourages a distinction between lawful protest demonstration, nonviolent civil disobedience, and violent civil disobedience.\n",
      "Question: Le grand concludes that an author's words offer only what they intended for them to imply regarding this type of terminology?\n",
      "Answers: ['specific', 'civil disobedience', 'specific', 'specific']\n",
      "Predictions: [ELECTRA] no more or no less meaning than individual orator intends it to have [BiDAF] legrande writes that formulation of single allencompassing definition of term is extremely difficult if not impossible in reviewing voluminous literature on subject student of civil disobedience rapidly finds himself surrounded by maze of semantical problems and grammatical niceties like alice in wonderland he often finds that specific terminology has no more or no less meaning than individual orator\n",
      "\n",
      "Context: In late 1886 Tesla met Alfred S. Brown, a Western Union superintendent, and New York attorney Charles F. Peck. The two men were experienced in setting up companies and promoting inventions and patents for financial gain. Based on Tesla's patents and other ideas they agreed to back him financially and handle his patents. Together in April 1887 they formed the Tesla Electric Company with an agreement that profits from generated patents would go ⅓ to Tesla, ⅓ to Peck and Brown, and ⅓ to fund development. They set up a laboratory for Tesla at 89 Liberty Street in Manhattan where he worked on improving and developing new types of electric motors, generators and other devices.\n",
      "Question: Who was Alfred S brown?\n",
      "Answers: ['western union superintendent', 'western union superintendent', 'western union superintendent']\n",
      "Predictions: [ELECTRA] western union superintendent and new york attorney charles f peck [BiDAF] tesla\n",
      "\n",
      "Context: The Very high-speed Backbone Network Service (vBNS) came on line in April 1995 as part of a National Science Foundation (NSF) sponsored project to provide high-speed interconnection between NSF-sponsored supercomputing centers and select access points in the United States. The network was engineered and operated by MCI Telecommunications under a cooperative agreement with the NSF. By 1998, the vBNS had grown to connect more than 100 universities and research and engineering institutions via 12 national points of presence with DS-3 (45 Mbit/s), OC-3c (155 Mbit/s), and OC-12c (622 Mbit/s) links on an all OC-12c backbone, a substantial engineering feat for that time. The vBNS installed one of the first ever production OC-48c (2.5 Gbit/s) IP links in February 1999 and went on to upgrade the entire backbone to OC-48c.\n",
      "Question: What did vBNS do \n",
      "Answers: ['provide highspeed interconnection between nsfsponsored supercomputing centers and select access points in united states', 'provide highspeed interconnection between nsfsponsored supercomputing centers and select access points in united states', 'highspeed interconnection']\n",
      "Predictions: [ELECTRA] very highspeed backbone network service [BiDAF] vbns had grown to connect more than 100 universities and research and engineering institutions\n",
      "\n",
      "Context: In some countries, formal education can take place through home schooling. Informal learning may be assisted by a teacher occupying a transient or ongoing role, such as a family member, or by anyone with knowledge or skills in the wider community setting.\n",
      "Question: Who is most likely to teach a child at home?\n",
      "Answers: ['family member', 'family member', 'family member']\n",
      "Predictions: [ELECTRA] teacher [BiDAF] anyone with knowledge or skills in wider community setting\n",
      "\n",
      "Context: From 1510 to 1520, Luther lectured on the Psalms, the books of Hebrews, Romans, and Galatians. As he studied these portions of the Bible, he came to view the use of terms such as penance and righteousness by the Catholic Church in new ways. He became convinced that the church was corrupt in its ways and had lost sight of what he saw as several of the central truths of Christianity. The most important for Luther was the doctrine of justification – God's act of declaring a sinner righteous – by faith alone through God's grace. He began to teach that salvation or redemption is a gift of God's grace, attainable only through faith in Jesus as the Messiah. \"This one and firm rock, which we call the doctrine of justification,\" he wrote, \"is the chief article of the whole Christian doctrine, which comprehends the understanding of all godliness.\"\n",
      "Question: What sections of Church dogma did Luther come to view in another way?\n",
      "Answers: ['penance and righteousness', 'penance and righteousness', 'penance and righteousness']\n",
      "Predictions: [ELECTRA] books of hebrews romans and galatians [BiDAF] penance and righteousness by catholic church\n",
      "\n",
      "Context: The Royal Geographical Society of London and other geographical societies in Europe had great influence and were able to fund travelers who would come back with tales of their discoveries. These societies also served as a space for travellers to share these stories.Political geographers such as Friedrich Ratzel of Germany and Halford Mackinder of Britain also supported imperialism. Ratzel believed expansion was necessary for a state’s survival while Mackinder supported Britain’s imperial expansion; these two arguments dominated the discipline for decades.\n",
      "Question: Friedrich Ratzel thought imperialism was what for the country?\n",
      "Answers: ['geographical societies in europe', 'necessary for state’s survival', 'survival', 'necessary', 'necessary']\n",
      "Predictions: [ELECTRA] expansion was necessary for state’s survival [BiDAF] britain\n",
      "\n",
      "Context: Genghis Khan put absolute trust in his generals, such as Muqali, Jebe and Subutai, and regarded them as close advisors, often extending them the same privileges and trust normally reserved for close family members. He allowed them to make decisions on their own when they embarked on campaigns far from the Mongol Empire capital Karakorum. Muqali, a trusted lieutenant, was given command of the Mongol forces against the Jin dynasty while Genghis Khan was fighting in Central Asia, and Subutai and Jebe were allowed to pursue the Great Raid into the Caucasus and Kievan Rus', an idea they had presented to the Khagan on their own initiative. While granting his generals a great deal of autonomy in making command decisions, Genghis Khan also expected unwavering loyalty from them.\n",
      "Question: Who among Genghis Khan's subjects shared similar privileges to his close family members'?\n",
      "Answers: ['his generals', 'muqali jebe and subutai', 'his generals']\n",
      "Predictions: [ELECTRA] subutai [BiDAF] trust\n",
      "\n",
      "Context: The Panthers beat the Seattle Seahawks in the divisional round, running up a 31–0 halftime lead and then holding off a furious second half comeback attempt to win 31–24, avenging their elimination from a year earlier. The Panthers then blew out the Arizona Cardinals in the NFC Championship Game, 49–15, racking up 487 yards and forcing seven turnovers.\n",
      "Question: Who did the Panthers play to advance to the Super Bowl?\n",
      "Answers: ['arizona cardinals', 'arizona cardinals', 'cardinals']\n",
      "Predictions: [ELECTRA] seattle seahawks [BiDAF] panthers beat seattle seahawks in divisional round running up 31–0 halftime lead and then holding off furious second half comeback attempt to win 31–24 avenging their elimination from year earlier panthers then blew out arizona cardinals\n",
      "\n",
      "Context: On April 30, 2000, as a result of a carriage dispute with ABC, Time Warner Cable removed ABC owned-and-operated stations from the cable provider's systems in four markets (WABC-TV in New York City, KABC-TV in Los Angeles, KTRK in Houston and WTVD in Raleigh-Durham). The network had earlier reached an eleventh-hour deal to renew its carriage agreement with the provider on December 31, 1999. ABC filed an emergency petition to the Federal Communications Commission on May 1 to force TWC to restore the affected stations; the FCC ruled in favor of ABC, ordering Time Warner Cable to restore the stations, doing so on the afternoon of May 2. ABC ended the 2000–01 season as the most-watched network, ahead of NBC.\n",
      "Question: When was Time Warner cable forced to restore ABC stations to affected markets?\n",
      "Answers: ['afternoon of may 2', 'afternoon of may 2', 'december 31 1999']\n",
      "Predictions: [ELECTRA] may 2 [BiDAF] april 30 2000\n",
      "\n",
      "Context: Tesla was born on 10 July [O.S. 28 June] 1856 into a Serb family in the village of Smiljan, Austrian Empire (modern-day Croatia). His father, Milutin Tesla, was a Serbian Orthodox priest. Tesla's mother, Đuka Tesla (née Mandić), whose father was also an Orthodox priest,:10 had a talent for making home craft tools, mechanical appliances, and the ability to memorize Serbian epic poems. Đuka had never received a formal education. Nikola credited his eidetic memory and creative abilities to his mother's genetics and influence. Tesla's progenitors were from western Serbia, near Montenegro.:12\n",
      "Question: What was Tesla's fathers occupation?\n",
      "Answers: ['priest', 'priest', 'serbian orthodox priest']\n",
      "Predictions: [ELECTRA] orthodox priest [BiDAF] đuka tesla née mandić whose father was also orthodox priest\n",
      "\n",
      "Context: At the end of 1949, movie theater operator United Paramount Theatres (UPT) was forced by the U.S. Supreme Court to become an independent entity, separating itself from Paramount Pictures. For its part, ABC was on the verge of bankruptcy, with only five owned-and-operated stations and nine full-time affiliates. Its revenues, which were related to advertising and were indexed compared to the number of listeners/viewers, failed to compensate for its heavy investments in purchasing and building stations. In 1951, a rumor even mentioned that the network would be sold to CBS. In 1951, Noble held a 58% ownership stake in ABC, giving him $5 million with which to prevent ABC from going bankrupt; as banks refused further credit, that amount was obtained through a loan from the Prudential Insurance Company of America.\n",
      "Question: How many affiliates did ABC have in 1949?\n",
      "Answers: ['nine', 'nine', 'nine']\n",
      "Predictions: [ELECTRA] five [BiDAF] five\n",
      "\n",
      "Context: Historically, forces were first quantitatively investigated in conditions of static equilibrium where several forces canceled each other out. Such experiments demonstrate the crucial properties that forces are additive vector quantities: they have magnitude and direction. When two forces act on a point particle, the resulting force, the resultant (also called the net force), can be determined by following the parallelogram rule of vector addition: the addition of two vectors represented by sides of a parallelogram, gives an equivalent resultant vector that is equal in magnitude and direction to the transversal of the parallelogram. The magnitude of the resultant varies from the difference of the magnitudes of the two forces to their sum, depending on the angle between their lines of action. However, if the forces are acting on an extended body, their respective lines of application must also be specified in order to account for their effects on the motion of the body.\n",
      "Question: What geometric shape is used in equations to determine net force?\n",
      "Answers: ['parallelogram', 'parallelogram', 'parallelogram', 'parallelogram', 'parallelogram']\n",
      "Predictions: [ELECTRA] point particle resulting force resultant also called net force can be determined by following parallelogram rule of vector addition [BiDAF] vector addition\n",
      "\n",
      "Context: \"Southern California\" is not a formal geographic designation, and definitions of what constitutes southern California vary. Geographically, California's north-south midway point lies at exactly 37° 9' 58.23\" latitude, around 11 miles (18 km) south of San Jose; however, this does not coincide with popular use of the term. When the state is divided into two areas (northern and southern California), the term \"southern California\" usually refers to the ten southern-most counties of the state. This definition coincides neatly with the county lines at 35° 47′ 28″ north latitude, which form the northern borders of San Luis Obispo, Kern, and San Bernardino counties. Another definition for southern California uses Point Conception and the Tehachapi Mountains as the northern boundary.\n",
      "Question: Point Conception is an example of a landmark among what boundary of southern California?\n",
      "Answers: ['northern', 'tehachapi mountains', 'northern']\n",
      "Predictions: [ELECTRA] northern boundary [BiDAF] northern boundary\n",
      "\n",
      "Context: In many parts of the United States, after the 1954 decision in the landmark court case Brown v. Board of Education of Topeka that demanded United States schools desegregate \"with all deliberate speed\", local families organized a wave of private \"Christian academies\". In much of the U.S. South, many white students migrated to the academies, while public schools became in turn more heavily concentrated with African-American students (see List of private schools in Mississippi). The academic content of the academies was usually College Preparatory. Since the 1970s, many of these \"segregation academies\" have shut down, although some continue to operate.[citation needed]\n",
      "Question: What is a derogatory term for the Christian academies that arose in the wake of school desegregation?\n",
      "Answers: ['segregation academies', 'segregation academies']\n",
      "Predictions: [ELECTRA] all deliberate speed [BiDAF] local families organized wave of private\n",
      "\n",
      "Context: Cryptophytes, or cryptomonads are a group of algae that contain a red-algal derived chloroplast. Cryptophyte chloroplasts contain a nucleomorph that superficially resembles that of the chlorarachniophytes. Cryptophyte chloroplasts have four membranes, the outermost of which is continuous with the rough endoplasmic reticulum. They synthesize ordinary starch, which is stored in granules found in the periplastid space—outside the original double membrane, in the place that corresponds to the red alga's cytoplasm. Inside cryptophyte chloroplasts is a pyrenoid and thylakoids in stacks of two.\n",
      "Question: Where do cryptophyte chloroplasts store starch?\n",
      "Answers: ['in granules found in periplastid space', 'granules', 'in granules found in periplastid space']\n",
      "Predictions: [ELECTRA] periplastid space— [BiDAF] granules found in periplastid space—\n",
      "\n",
      "Context: The phrase \"Hiding behind (or 'watching from behind') the sofa\" entered British pop culture, signifying in humour the stereotypical early-series behaviour of children who wanted to avoid seeing frightening parts of a television programme while remaining in the room to watch the remainder of it. The phrase retains this association with Doctor Who, to the point that in 1991 the Museum of the Moving Image in London named their exhibition celebrating the programme \"Behind the Sofa\". The electronic theme music too was perceived as eerie, novel, and frightening, at the time. A 2012 article placed this childhood juxtaposition of fear and thrill \"at the center of many people's relationship with the show\", and a 2011 online vote at Digital Spy deemed the series the \"scariest TV show of all time\".\n",
      "Question: Who put on a Doctor Who exhibition in 1991?\n",
      "Answers: ['museum of moving image', 'museum of moving image', 'museum of moving image']\n",
      "Predictions: [ELECTRA] museum of moving image in london [BiDAF] museum of moving image in london\n",
      "\n",
      "Context: Not only are all the major British architects of the last four hundred years represented, but many European (especially Italian) and American architects' drawings are held in the collection. The RIBA's holdings of over 330 drawings by Andrea Palladio are the largest in the world, other Europeans well represented are Jacques Gentilhatre and Antonio Visentini. British architects whose drawings, and in some cases models of their buildings, in the collection, include: Inigo Jones, Sir Christopher Wren, Sir John Vanbrugh, Nicholas Hawksmoor, William Kent, James Gibbs, Robert Adam, Sir William Chambers, James Wyatt, Henry Holland, John Nash, Sir John Soane, Sir Charles Barry, Charles Robert Cockerell, Augustus Welby Northmore Pugin, Sir George Gilbert Scott, John Loughborough Pearson, George Edmund Street, Richard Norman Shaw, Alfred Waterhouse, Sir Edwin Lutyens, Charles Rennie Mackintosh, Charles Holden, Frank Hoar, Lord Richard Rogers, Lord Norman Foster, Sir Nicholas Grimshaw, Zaha Hadid and Alick Horsnell.\n",
      "Question: Which architect, famous for designing London's St. Paul Cathedral, is represented in the RIBA collection?\n",
      "Answers: ['sir christopher wren', 'sir christopher wren', 'sir christopher wren']\n",
      "Predictions: [ELECTRA] andrea palladio are largest in world other europeans well represented are jacques gentilhatre and antonio visentini british architects whose drawings and in some cases models of their buildings in collection include inigo jones [BiDAF] british architects\n",
      "\n",
      "Context: The V&A is in discussion with the University of Dundee, University of Abertay, Dundee City Council and the Scottish Government with a view to opening a new £43 million gallery in Dundee that would use the V&A brand although it would be funded through and operated independently. As of 2015, with costs estimated at £76 million, it is the most expensive gallery project ever undertaken in Scotland. The V&A Dundee will be on the city's waterfront and is intended to focus on fashion, architecture, product design, graphic arts and photography. It is planned that it could open within five years. Dundee City Council is expected to pay a major part of the running costs. The V&A is not contributing financially, but will be providing expertise, loans and exhibitions.\n",
      "Question: Where in Dundee will the gallery be located?\n",
      "Answers: ['on citys waterfront', 'on citys waterfront', 'on citys waterfront']\n",
      "Predictions: [ELECTRA] citys waterfront [BiDAF] citys waterfront\n",
      "\n",
      "Context: At the time of the Marburg Colloquy, Suleiman the Magnificent was besieging Vienna with a vast Ottoman army. Luther had argued against resisting the Turks in his 1518 Explanation of the Ninety-five Theses, provoking accusations of defeatism. He saw the Turks as a scourge sent to punish Christians by God, as agents of the Biblical apocalypse that would destroy the antichrist, whom Luther believed to be the papacy, and the Roman Church. He consistently rejected the idea of a Holy War, \"as though our people were an army of Christians against the Turks, who were enemies of Christ. This is absolutely contrary to Christ's doctrine and name\". On the other hand, in keeping with his doctrine of the two kingdoms, Luther did support non-religious war against the Turks. In 1526, he argued in Whether Soldiers can be in a State of Grace that national defence is reason for a just war. By 1529, in On War against the Turk, he was actively urging Emperor Charles V and the German people to fight a secular war against the Turks. He made clear, however, that the spiritual war against an alien faith was separate, to be waged through prayer and repentance. Around the time of the Siege of Vienna, Luther wrote a prayer for national deliverance from the Turks, asking God to \"give to our emperor perpetual victory over our enemies\".\n",
      "Question: Since Luther believed that the Turks were sent by God, what was their purpose?\n",
      "Answers: ['destroy antichrist', 'destroy antichrist', 'punish']\n",
      "Predictions: [ELECTRA] punish christians [BiDAF] agents of biblical apocalypse\n",
      "\n",
      "Context: The Panthers beat the Seattle Seahawks in the divisional round, running up a 31–0 halftime lead and then holding off a furious second half comeback attempt to win 31–24, avenging their elimination from a year earlier. The Panthers then blew out the Arizona Cardinals in the NFC Championship Game, 49–15, racking up 487 yards and forcing seven turnovers.\n",
      "Question: What was the team the Carolina Panthers played immediately prior to the NFC Championship game? \n",
      "Answers: ['seattle seahawks', 'seattle seahawks', 'seahawks']\n",
      "Predictions: [ELECTRA] arizona cardinals [BiDAF] 49–15\n",
      "\n",
      "Context: The physicians of the Yuan court came from diverse cultures. Healers were divided into non-Mongol physicians called otachi and traditional Mongol shamans. The Mongols characterized otachi doctors by their use of herbal remedies, which was distinguished from the spiritual cures of Mongol shamanism. Physicians received official support from the Yuan government and were given special legal privileges. Kublai created the Imperial Academy of Medicine to manage medical treatises and the education of new doctors. Confucian scholars were attracted to the medical profession because it ensured a high income and medical ethics were compatible with Confucian virtues.\n",
      "Question: Why did Confucians like the medical field?\n",
      "Answers: ['it ensured high income and medical ethics were compatible with confucian virtues', 'it ensured high income and medical ethics were compatible with confucian virtues', 'it ensured high income and medical ethics were compatible with confucian virtues']\n",
      "Predictions: [ELECTRA] high income [BiDAF] it ensured high income and medical ethics\n",
      "\n",
      "Context: The common allotrope of elemental oxygen on Earth is called dioxygen, O\n",
      "2. It is the form that is a major part of the Earth's atmosphere (see Occurrence). O2 has a bond length of 121 pm and a bond energy of 498 kJ·mol−1, which is smaller than the energy of other double bonds or pairs of single bonds in the biosphere and responsible for the exothermic reaction of O2 with any organic molecule. Due to its energy content, O2 is used by complex forms of life, such as animals, in cellular respiration (see Biological role). Other aspects of O\n",
      "2 are covered in the remainder of this article.\n",
      "Question: What is the scientific designation of oxygen? \n",
      "Answers: ['o2']\n",
      "Predictions: [ELECTRA] dioxygen o 2 [BiDAF] dioxygen\n",
      "\n",
      "Context: In the helical thylakoid model, grana consist of a stack of flattened circular granal thylakoids that resemble pancakes. Each granum can contain anywhere from two to a hundred thylakoids, though grana with 10–20 thylakoids are most common. Wrapped around the grana are helicoid stromal thylakoids, also known as frets or lamellar thylakoids. The helices ascend at an angle of 20–25°, connecting to each granal thylakoid at a bridge-like slit junction. The helicoids may extend as large sheets that link multiple grana, or narrow to tube-like bridges between grana. While different parts of the thylakoid system contain different membrane proteins, the thylakoid membranes are continuous and the thylakoid space they enclose form a single continuous labyrinth.\n",
      "Question: What shape are granal thylakoids?\n",
      "Answers: ['flattened circular', 'flattened circular', 'flattened circular']\n",
      "Predictions: [ELECTRA] circular [BiDAF] wrapped around grana\n",
      "\n",
      "Context: Closely related fields in theoretical computer science are analysis of algorithms and computability theory. A key distinction between analysis of algorithms and computational complexity theory is that the former is devoted to analyzing the amount of resources needed by a particular algorithm to solve a problem, whereas the latter asks a more general question about all possible algorithms that could be used to solve the same problem. More precisely, it tries to classify problems that can or cannot be solved with appropriately restricted resources. In turn, imposing restrictions on the available resources is what distinguishes computational complexity from computability theory: the latter theory asks what kind of problems can, in principle, be solved algorithmically.\n",
      "Question: What field of computer science analyzes all possible algorithms in aggregate to determine the resource requirements needed to solve to a given problem?  \n",
      "Answers: ['computational complexity theory', 'computational complexity theory', 'computational complexity theory']\n",
      "Predictions: [ELECTRA] theoretical computer science are analysis of algorithms and computability theory key distinction between analysis of algorithms and computational complexity theory [BiDAF] related fields in theoretical computer science are analysis of algorithms and computability theory key distinction between analysis of algorithms and computational complexity theory is that former is devoted to analyzing amount of resources needed by particular algorithm to solve problem whereas latter asks more general question\n",
      "\n",
      "Context: Luther's translation used the variant of German spoken at the Saxon chancellery, intelligible to both northern and southern Germans. He intended his vigorous, direct language to make the Bible accessible to everyday Germans, \"for we are removing impediments and difficulties so that other people may read it without hindrance.\"\n",
      "Question: Which Germans could understand the language Luther used?\n",
      "Answers: ['northern and southern', 'northern and southern', 'both northern and southern germans']\n",
      "Predictions: [ELECTRA] northern and southern germans [BiDAF] northern and southern germans\n",
      "\n",
      "Context: Super Bowl 50 featured numerous records from individuals and teams. Denver won despite being massively outgained in total yards (315 to 194) and first downs (21 to 11). Their 194 yards and 11 first downs were both the lowest totals ever by a Super Bowl winning team. The previous record was 244 yards by the Baltimore Ravens in Super Bowl XXXV. Only seven other teams had ever gained less than 200 yards in a Super Bowl, and all of them had lost. The Broncos' seven sacks tied a Super Bowl record set by the Chicago Bears in Super Bowl XX. Kony Ealy tied a Super Bowl record with three sacks. Jordan Norwood's 61-yard punt return set a new record, surpassing the old record of 45 yards set by John Taylor in Super Bowl XXIII. Denver was just 1-of-14 on third down, while Carolina was barely better at 3-of-15. The two teams' combined third down conversion percentage of 13.8 was a Super Bowl low. Manning and Newton had quarterback passer ratings of 56.6 and 55.4, respectively, and their added total of 112 is a record lowest aggregate passer rating for a Super Bowl. Manning became the oldest quarterback ever to win a Super Bowl at age 39, and the first quarterback ever to win a Super Bowl with two different teams, while Gary Kubiak became the first head coach to win a Super Bowl with the same franchise he went to the Super Bowl with as a player.\n",
      "Question: Which team did Gary Kubiak play for when he was in the Super Bowl?\n",
      "Answers: ['broncos', 'denver', 'denver']\n",
      "Predictions: [ELECTRA] chicago bears [BiDAF] first head coach\n",
      "\n"
     ]
    }
   ],
   "source": [
    "for e in random_best_common_errors:\n",
    "    context = electra_errors[e][\"context\"]\n",
    "    question = electra_errors[e][\"question\"]\n",
    "    answers = electra_errors[e][\"answers\"]\n",
    "    electra_pred = electra_errors[e][\"prediction\"]\n",
    "    bidaf_pred = bidaf_errors[e][\"prediction\"]\n",
    "    print(f\"Context: {context}\")\n",
    "    print(f\"Question: {question}\")\n",
    "    print(f\"Answers: {answers}\")\n",
    "    print(f\"Predictions: [ELECTRA] {electra_pred} [BiDAF] {bidaf_pred}\")\n",
    "    print()"
   ]
  },
  {
   "cell_type": "code",
   "execution_count": null,
   "metadata": {},
   "outputs": [],
   "source": []
  }
 ],
 "metadata": {
  "kernelspec": {
   "display_name": "Python 3",
   "language": "python",
   "name": "python3"
  },
  "language_info": {
   "codemirror_mode": {
    "name": "ipython",
    "version": 3
   },
   "file_extension": ".py",
   "mimetype": "text/x-python",
   "name": "python",
   "nbconvert_exporter": "python",
   "pygments_lexer": "ipython3",
   "version": "3.8.5"
  }
 },
 "nbformat": 4,
 "nbformat_minor": 4
}
